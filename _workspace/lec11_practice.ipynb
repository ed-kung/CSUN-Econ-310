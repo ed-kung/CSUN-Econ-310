{
 "cells": [
  {
   "cell_type": "code",
   "execution_count": 1,
   "id": "c047a86b-2714-4ec7-93c3-db89cd57df0d",
   "metadata": {},
   "outputs": [],
   "source": [
    "import os\n",
    "import numpy as np\n",
    "import pandas as pd\n",
    "from IPython.display import display, Markdown, Latex\n",
    "import json\n",
    "import utils2 as u2\n",
    "from matplotlib import pyplot as plt\n",
    "\n",
    "SMALL_SIZE = 14\n",
    "MEDIUM_SIZE = 16\n",
    "LARGE_SIZE = 18\n",
    "HUGE_SIZE = 20\n",
    "\n",
    "plt.rcdefaults()\n",
    "plt.rcParams['text.usetex'] = True\n",
    "plt.rcParams['font.family'] = 'Helvetica'\n",
    "plt.rcParams['font.size'] = MEDIUM_SIZE\n",
    "plt.rcParams['axes.titlesize'] = LARGE_SIZE\n",
    "plt.rcParams['axes.labelsize'] = MEDIUM_SIZE\n",
    "plt.rcParams['xtick.labelsize'] = MEDIUM_SIZE\n",
    "plt.rcParams['ytick.labelsize'] = MEDIUM_SIZE\n",
    "plt.rcParams['legend.fontsize'] = MEDIUM_SIZE\n",
    "plt.rcParams['figure.titlesize'] = LARGE_SIZE\n",
    "plt.rcParams['figure.figsize'] = [7.2, 7.2]\n",
    "plt.rcParams['figure.dpi'] = 60\n",
    "plt.rcParams['figure.facecolor'] = (1.0, 1.0, 1.0, 0.0)\n",
    "\n",
    "JSON_FILE = \"../assets/data/lec11_practice.json\"\n",
    "PROBLEM_NAME = \"lec11_practice_{}\"\n",
    "IMAGE_PATH = \"../assets/images/graphs\"\n",
    "probs = []\n",
    "nprob = 0\n",
    "\n",
    "rng = np.random.default_rng(111)"
   ]
  },
  {
   "cell_type": "code",
   "execution_count": 2,
   "id": "3d80261a-3107-4cab-bb58-7f5d2d79a5d3",
   "metadata": {},
   "outputs": [
    {
     "name": "stdout",
     "output_type": "stream",
     "text": [
      "{'x1': 7, 'px1': 1, 'py1': 1, 'x2': 8, 'px2': 1, 'py2': 2, 'I': 12, 'xunit': 1, 'xn': 13}\n",
      "0:  A consumer with income \\(I=12\\) has utility over two goods, \\(x\\) and \\(y\\), shown by the indifference curves below. \\begin{center} \\includegraphics[width=3in]{generic_problem_setup.png} \\end{center} The prices of the goods are initially \\(p_x = 1\\) and \\(p_y = 1\\). One day, the price of good \\(y\\) changes to \\(p_y^\\prime = 2\\). \n",
      "\n",
      "0: Draw the consumer's budget constraint in both periods. Label the optimal point in the initial period A. Label the optimal point after the prices change B.\n",
      "\n",
      "1: Did consumption of \\(x\\) increase or decrease as a result of the price change?\n",
      "\n",
      "2: Did consumption of \\(y\\) increase or decrease as a result of the price change?\n",
      "\n",
      "3: Are \\(x\\) and \\(y\\) complements or substitutes at current price levels?\n",
      "\n"
     ]
    }
   ],
   "source": [
    "TYPE = \"PriceChangeProblem\"\n",
    "u2.show_menu(TYPE)"
   ]
  },
  {
   "cell_type": "code",
   "execution_count": 3,
   "id": "299c1e96-77ea-4612-bfda-129a3f57c0d6",
   "metadata": {},
   "outputs": [],
   "source": [
    "# Graphical price change problem\n",
    "\n",
    "TYPE = \"PriceChangeProblem\"\n",
    "df = pd.read_csv(f\"{TYPE}.csv\")\n",
    "\n",
    "df1 = df.loc[df['comp_or_sub']=='complements'].sample(20,random_state=rng)\n",
    "df2 = df.loc[df['comp_or_sub']=='substitutes'].sample(20,random_state=rng)\n",
    "mydf = pd.concat([df1,df2])\n",
    "for idx, row in mydf.iterrows():\n",
    "    params = dict(row.copy())\n",
    "    name = PROBLEM_NAME.format(nprob)\n",
    "    prob = u2.load_problem(TYPE, params=params, rng=rng, name=name)\n",
    "    online_format = u2.get_online_format(prob, setup_id=0, question_ids=[0,1,2,3])\n",
    "    probs.append(online_format)\n",
    "    nprob+=1\n",
    "\n",
    "    prob.setup_axis.draw(saveas=f\"{IMAGE_PATH}/{name}_setup.png\")\n",
    "    plt.close()\n",
    "    prob.solution_axis.draw(saveas=f\"{IMAGE_PATH}/{name}_sol.png\")\n",
    "    plt.close()"
   ]
  },
  {
   "cell_type": "code",
   "execution_count": 4,
   "id": "8238778b-60d0-4b22-aca6-72adb813e95e",
   "metadata": {},
   "outputs": [
    {
     "name": "stdout",
     "output_type": "stream",
     "text": [
      "{'x_private': 6, 'x_public': 4, 'px': 1, 'py': 1, 'I': 12, 'xunit': 1, 'xn': 13}\n",
      "0:  A family can spend their income on either education or other goods. The diagram below shows the family's budget constraint when only private school options are available, as well as their indifference curves over education and other consumption. \\begin{center} \\includegraphics[width=3in]{generic_problem_setup.png} \\end{center} A public school option is also available which provides 4 units of education for free. \n",
      "\n",
      "0: On the diagram, label the optimal private school option A and label the public school option B.\n",
      "\n",
      "1: Which option offers higher utility, public or private?\n",
      "\n",
      "2: Which option will the family choose?\n",
      "\n",
      "3: If the public school option were removed, would this increase or decrease the amount of education consumed?\n",
      "\n"
     ]
    }
   ],
   "source": [
    "TYPE = \"PublicSchoolProblem\"\n",
    "u2.show_menu(TYPE)"
   ]
  },
  {
   "cell_type": "code",
   "execution_count": 5,
   "id": "b612c533-6d21-43d3-a5e5-5e2840ac8c5b",
   "metadata": {},
   "outputs": [
    {
     "name": "stdout",
     "output_type": "stream",
     "text": [
      "65\n"
     ]
    }
   ],
   "source": [
    "# Public School\n",
    "\n",
    "TYPE = \"PublicSchoolProblem\"\n",
    "df = pd.read_csv(f\"{TYPE}.csv\")\n",
    "\n",
    "df1 = df.loc[(df['choice']=='public') & (df['x_public']>df['x_private'])].sample(5,random_state=rng)\n",
    "df2 = df.loc[(df['choice']=='public') & (df['x_public']<df['x_private'])].sample(5,random_state=rng)\n",
    "df3 = df.loc[(df['choice']=='public') & (df['x_public']==df['x_private'])].sample(5,random_state=rng)\n",
    "df4 = df.loc[(df['choice']=='private')].sample(10,random_state=rng)\n",
    "\n",
    "mydf = pd.concat([df1,df2,df3,df4])\n",
    "\n",
    "for idx, row in mydf.iterrows():\n",
    "    params = dict(row.copy())\n",
    "    name = PROBLEM_NAME.format(nprob)\n",
    "    prob = u2.load_problem(TYPE, params=params, rng=rng, name=name)\n",
    "    online_format = u2.get_online_format(prob, setup_id=0, question_ids=[0,1,2,3])\n",
    "    probs.append(online_format)\n",
    "    nprob+=1\n",
    "    prob.setup_axis.draw(saveas=f\"{IMAGE_PATH}/{name}_setup.png\")\n",
    "    plt.close()\n",
    "    prob.solution_axis.draw(saveas=f\"{IMAGE_PATH}/{name}_sol.png\")\n",
    "    plt.close()\n",
    "print(nprob)"
   ]
  },
  {
   "cell_type": "code",
   "execution_count": 6,
   "id": "2197e453-f9be-469d-b5c7-e0dc22dfbd8c",
   "metadata": {},
   "outputs": [],
   "source": [
    "with open(JSON_FILE, 'w') as f:\n",
    "    json.dump(probs, f)"
   ]
  },
  {
   "cell_type": "code",
   "execution_count": 7,
   "id": "8ddd904b-d625-40a6-bdbd-9b7482ede81a",
   "metadata": {},
   "outputs": [
    {
     "name": "stdout",
     "output_type": "stream",
     "text": [
      "<p>\n",
      "A family can spend their income on either education or other goods. The diagram below shows the family's budget constraint when only private school options are available, as well as their indifference curves over education and other consumption.\n",
      "<p>\n",
      "<img src=\"/CSUN-Econ-310/assets/images/graphs/lec11_practice_64_setup.png\">\n",
      "</p>\n",
      "A public school option is also available which provides 25 units of education for free.\n",
      "</p>\n",
      "<p>1. On the diagram, label the optimal private school option A and label the public school option B.</p>\n",
      "<p>2. Which option offers higher utility, public or private?</p>\n",
      "<p>3. Which option will the family choose?</p>\n",
      "<p>4. If the public school option were removed, would this increase or decrease the amount of education consumed?</p>\n",
      "\n"
     ]
    }
   ],
   "source": [
    "print(online_format['setup'])"
   ]
  }
 ],
 "metadata": {
  "kernelspec": {
   "display_name": "Python 3 (ipykernel)",
   "language": "python",
   "name": "python3"
  },
  "language_info": {
   "codemirror_mode": {
    "name": "ipython",
    "version": 3
   },
   "file_extension": ".py",
   "mimetype": "text/x-python",
   "name": "python",
   "nbconvert_exporter": "python",
   "pygments_lexer": "ipython3",
   "version": "3.9.6"
  }
 },
 "nbformat": 4,
 "nbformat_minor": 5
}
