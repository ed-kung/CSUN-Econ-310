{
 "cells": [
  {
   "cell_type": "code",
   "execution_count": 1,
   "id": "0d7fffcb-3f3d-441c-92d0-a07d154b186d",
   "metadata": {},
   "outputs": [],
   "source": [
    "import numpy as np\n",
    "import pandas as pd\n",
    "from matplotlib import pyplot as plt\n",
    "from matplotlib import cm\n",
    "from IPython.display import display, Markdown, Latex\n",
    "import pickle\n",
    "\n",
    "SMALL_SIZE = 12\n",
    "MEDIUM_SIZE = 14\n",
    "LARGE_SIZE = 16\n",
    "\n",
    "plt.rcdefaults()\n",
    "plt.rcParams['text.usetex'] = True\n",
    "plt.rcParams['font.family'] = 'Helvetica'\n",
    "plt.rcParams['font.size'] = MEDIUM_SIZE\n",
    "plt.rcParams['axes.titlesize'] = LARGE_SIZE\n",
    "plt.rcParams['axes.labelsize'] = MEDIUM_SIZE\n",
    "plt.rcParams['xtick.labelsize'] = SMALL_SIZE\n",
    "plt.rcParams['ytick.labelsize'] = SMALL_SIZE\n",
    "plt.rcParams['legend.fontsize'] = MEDIUM_SIZE\n",
    "plt.rcParams['figure.titlesize'] = LARGE_SIZE\n",
    "plt.rcParams['figure.figsize'] = [7.2, 4.8]\n",
    "plt.rcParams['figure.dpi'] = 60\n",
    "plt.rcParams['figure.facecolor'] = (1.0, 1.0, 1.0, 0.0)\n",
    "\n",
    "from utils import CobbDouglasDeflator"
   ]
  },
  {
   "cell_type": "code",
   "execution_count": 2,
   "id": "02035f21-cb1a-42cf-9a5b-5ecb08f118ac",
   "metadata": {},
   "outputs": [],
   "source": [
    "prob = CobbDouglasDeflator()"
   ]
  },
  {
   "cell_type": "code",
   "execution_count": 3,
   "id": "0a6dc247-eea3-4fc6-9b9e-ec6c79817ddb",
   "metadata": {},
   "outputs": [
    {
     "data": {
      "text/latex": [
       "\n",
       "A consumer has a utility function over two goods, $x$ and $y$, given by:\n",
       "\n",
       "$$ u(x,y) = x^a y^b $$\n",
       "\n",
       "In the base period, the consumer has income $I$, the price of $x$ is $p_x$, and the price of $y$ is $p_y$.\n",
       "\n",
       "In the comparison period, the price of $x$ changes to $p_x^\\prime$ and the price of $y$ changes to $p_y^\\prime$.\n"
      ],
      "text/plain": [
       "<IPython.core.display.Latex object>"
      ]
     },
     "metadata": {},
     "output_type": "display_data"
    },
    {
     "data": {
      "text/latex": [
       "\n",
       "The general solutions are:\n",
       "\n",
       "$$ \\text{CPI} = \\frac{1}{1+b/a} \\left(\\frac{p_x^\\prime}{p_x}\\right) + \\frac{1}{1+a/b}\\left(\\frac{p_y^\\prime}{p_y}\\right) $$\n",
       "\n",
       "$$ \\text{Constant Utility Deflator} = \\left(\\frac{p_x^\\prime}{p_x}\\right)^{\\frac{a}{a+b}} \\left(\\frac{p_y^\\prime}{p_y}\\right)^{\\frac{b}{a+b}} $$\n"
      ],
      "text/plain": [
       "<IPython.core.display.Latex object>"
      ]
     },
     "metadata": {},
     "output_type": "display_data"
    }
   ],
   "source": [
    "display(Latex(prob.general_setup()))\n",
    "display(Latex(prob.general_solution()))"
   ]
  },
  {
   "cell_type": "code",
   "execution_count": 5,
   "id": "8a3bc3d4-e9a9-40a2-8f6e-9595a65f72d1",
   "metadata": {},
   "outputs": [
    {
     "data": {
      "text/latex": [
       "\n",
       "A consumer has a utility function over two goods, $x$ and $y$, given by:\n",
       "\n",
       "$$ u(x,y) = x^\\tfrac{ 1 }{ 2 } y^\\tfrac{ 1 }{ 2 } $$\n",
       "\n",
       "In the base period, the consumer has income $I = 100$, the price of $x$ is $p_x = 1$, and the price of $y$ is $p_y = 1$.\n",
       "\n",
       "In the comparison period, the price of $x$ changes to $p_x^\\prime = 1$ and the price of $y$ changes to $p_y^\\prime = 2$.\n"
      ],
      "text/plain": [
       "<IPython.core.display.Latex object>"
      ]
     },
     "metadata": {},
     "output_type": "display_data"
    },
    {
     "name": "stdout",
     "output_type": "stream",
     "text": [
      "{'CPI': 150.0, 'CONST_UTIL_DEFLATOR': 141.4213562373095}\n",
      "\n",
      "Period 1:\n",
      "{'x': 50.0, 'y': 50.0, 'U': 50.00000000000001, 'xmax': 100.0, 'ymax': 100.0}\n",
      "\n",
      "Period 2 with CPI adjustment:\n",
      "{'x': 75.0, 'y': 37.5, 'U': 53.033008588991066, 'xmax': 150.0, 'ymax': 75.0}\n",
      "\n",
      "Period 2 with Constant Utility adjustment:\n",
      "{'x': 70.71067811865476, 'y': 35.35533905932738, 'U': 50.0, 'xmax': 141.4213562373095, 'ymax': 70.71067811865476}\n"
     ]
    }
   ],
   "source": [
    "display(Latex(prob.setup()))\n",
    "print(prob.sol)\n",
    "print(\"\\nPeriod 1:\")\n",
    "print(prob.cb1.sol)\n",
    "print(\"\\nPeriod 2 with CPI adjustment:\")\n",
    "print(prob.cb2_cpi.sol)\n",
    "print(\"\\nPeriod 2 with Constant Utility adjustment:\")\n",
    "print(prob.cb2_cons.sol)"
   ]
  },
  {
   "cell_type": "code",
   "execution_count": 6,
   "id": "8d95a4b8-6820-4ab5-baa8-de4564f57ccd",
   "metadata": {},
   "outputs": [
    {
     "data": {
      "text/plain": [
       "141.4213562373095"
      ]
     },
     "execution_count": 6,
     "metadata": {},
     "output_type": "execute_result"
    }
   ],
   "source": [
    "(1/8)**(-0.5)*50"
   ]
  },
  {
   "cell_type": "code",
   "execution_count": 4,
   "id": "0a5300db-6442-42de-b3ba-33cc92640eaf",
   "metadata": {},
   "outputs": [
    {
     "name": "stdout",
     "output_type": "stream",
     "text": [
      "1000 examples found...\n"
     ]
    }
   ],
   "source": [
    "examples = []\n",
    "n_found = 0\n",
    "for denom in [2, 3, 4]:\n",
    "    for numer_a in range(1,denom):\n",
    "        numer_b = denom - numer_a\n",
    "        for px in range(1,11):\n",
    "            for py in range(1,11):\n",
    "                for I in np.array([10,12,100,120])*np.maximum(px,py):\n",
    "                    params = {'numer_a':numer_a,'denom_a':denom,'numer_b':numer_b,'denom_b':denom,'I':I,'px':px,'py':py}\n",
    "                    prob = CobbDouglasConsumer(params)\n",
    "                    if prob.check_solution():\n",
    "                        n_found+=1\n",
    "                        examples.append( params | prob.sol )\n",
    "                        if (n_found%1000==0):\n",
    "                            print(f\"{n_found} examples found...\")\n",
    "examples = pd.DataFrame.from_dict(examples)\n",
    "examples.to_csv(\"CobbDouglasConsumer_examples.csv\", index=False, header=True)"
   ]
  },
  {
   "cell_type": "code",
   "execution_count": 5,
   "id": "74449ed0-2c29-46c1-ac9b-6ff3cd76b3d9",
   "metadata": {},
   "outputs": [
    {
     "data": {
      "text/html": [
       "<div>\n",
       "<style scoped>\n",
       "    .dataframe tbody tr th:only-of-type {\n",
       "        vertical-align: middle;\n",
       "    }\n",
       "\n",
       "    .dataframe tbody tr th {\n",
       "        vertical-align: top;\n",
       "    }\n",
       "\n",
       "    .dataframe thead th {\n",
       "        text-align: right;\n",
       "    }\n",
       "</style>\n",
       "<table border=\"1\" class=\"dataframe\">\n",
       "  <thead>\n",
       "    <tr style=\"text-align: right;\">\n",
       "      <th></th>\n",
       "      <th>numer_a</th>\n",
       "      <th>denom_a</th>\n",
       "      <th>numer_b</th>\n",
       "      <th>denom_b</th>\n",
       "      <th>I</th>\n",
       "      <th>px</th>\n",
       "      <th>py</th>\n",
       "      <th>x</th>\n",
       "      <th>y</th>\n",
       "      <th>U</th>\n",
       "      <th>xmax</th>\n",
       "      <th>ymax</th>\n",
       "    </tr>\n",
       "  </thead>\n",
       "  <tbody>\n",
       "    <tr>\n",
       "      <th>0</th>\n",
       "      <td>1</td>\n",
       "      <td>2</td>\n",
       "      <td>1</td>\n",
       "      <td>2</td>\n",
       "      <td>10</td>\n",
       "      <td>1</td>\n",
       "      <td>1</td>\n",
       "      <td>5.0</td>\n",
       "      <td>5.0</td>\n",
       "      <td>5.000000</td>\n",
       "      <td>10.0</td>\n",
       "      <td>10.0</td>\n",
       "    </tr>\n",
       "    <tr>\n",
       "      <th>1</th>\n",
       "      <td>1</td>\n",
       "      <td>2</td>\n",
       "      <td>1</td>\n",
       "      <td>2</td>\n",
       "      <td>12</td>\n",
       "      <td>1</td>\n",
       "      <td>1</td>\n",
       "      <td>6.0</td>\n",
       "      <td>6.0</td>\n",
       "      <td>6.000000</td>\n",
       "      <td>12.0</td>\n",
       "      <td>12.0</td>\n",
       "    </tr>\n",
       "    <tr>\n",
       "      <th>2</th>\n",
       "      <td>1</td>\n",
       "      <td>2</td>\n",
       "      <td>1</td>\n",
       "      <td>2</td>\n",
       "      <td>100</td>\n",
       "      <td>1</td>\n",
       "      <td>1</td>\n",
       "      <td>50.0</td>\n",
       "      <td>50.0</td>\n",
       "      <td>50.000000</td>\n",
       "      <td>100.0</td>\n",
       "      <td>100.0</td>\n",
       "    </tr>\n",
       "    <tr>\n",
       "      <th>3</th>\n",
       "      <td>1</td>\n",
       "      <td>2</td>\n",
       "      <td>1</td>\n",
       "      <td>2</td>\n",
       "      <td>120</td>\n",
       "      <td>1</td>\n",
       "      <td>1</td>\n",
       "      <td>60.0</td>\n",
       "      <td>60.0</td>\n",
       "      <td>60.000000</td>\n",
       "      <td>120.0</td>\n",
       "      <td>120.0</td>\n",
       "    </tr>\n",
       "    <tr>\n",
       "      <th>4</th>\n",
       "      <td>1</td>\n",
       "      <td>2</td>\n",
       "      <td>1</td>\n",
       "      <td>2</td>\n",
       "      <td>20</td>\n",
       "      <td>1</td>\n",
       "      <td>2</td>\n",
       "      <td>10.0</td>\n",
       "      <td>5.0</td>\n",
       "      <td>7.071068</td>\n",
       "      <td>20.0</td>\n",
       "      <td>10.0</td>\n",
       "    </tr>\n",
       "    <tr>\n",
       "      <th>...</th>\n",
       "      <td>...</td>\n",
       "      <td>...</td>\n",
       "      <td>...</td>\n",
       "      <td>...</td>\n",
       "      <td>...</td>\n",
       "      <td>...</td>\n",
       "      <td>...</td>\n",
       "      <td>...</td>\n",
       "      <td>...</td>\n",
       "      <td>...</td>\n",
       "      <td>...</td>\n",
       "      <td>...</td>\n",
       "    </tr>\n",
       "    <tr>\n",
       "      <th>1227</th>\n",
       "      <td>3</td>\n",
       "      <td>4</td>\n",
       "      <td>1</td>\n",
       "      <td>4</td>\n",
       "      <td>120</td>\n",
       "      <td>10</td>\n",
       "      <td>6</td>\n",
       "      <td>9.0</td>\n",
       "      <td>5.0</td>\n",
       "      <td>7.770060</td>\n",
       "      <td>12.0</td>\n",
       "      <td>20.0</td>\n",
       "    </tr>\n",
       "    <tr>\n",
       "      <th>1228</th>\n",
       "      <td>3</td>\n",
       "      <td>4</td>\n",
       "      <td>1</td>\n",
       "      <td>4</td>\n",
       "      <td>1200</td>\n",
       "      <td>10</td>\n",
       "      <td>6</td>\n",
       "      <td>90.0</td>\n",
       "      <td>50.0</td>\n",
       "      <td>77.700602</td>\n",
       "      <td>120.0</td>\n",
       "      <td>200.0</td>\n",
       "    </tr>\n",
       "    <tr>\n",
       "      <th>1229</th>\n",
       "      <td>3</td>\n",
       "      <td>4</td>\n",
       "      <td>1</td>\n",
       "      <td>4</td>\n",
       "      <td>120</td>\n",
       "      <td>10</td>\n",
       "      <td>10</td>\n",
       "      <td>9.0</td>\n",
       "      <td>3.0</td>\n",
       "      <td>6.838521</td>\n",
       "      <td>12.0</td>\n",
       "      <td>12.0</td>\n",
       "    </tr>\n",
       "    <tr>\n",
       "      <th>1230</th>\n",
       "      <td>3</td>\n",
       "      <td>4</td>\n",
       "      <td>1</td>\n",
       "      <td>4</td>\n",
       "      <td>1000</td>\n",
       "      <td>10</td>\n",
       "      <td>10</td>\n",
       "      <td>75.0</td>\n",
       "      <td>25.0</td>\n",
       "      <td>56.987676</td>\n",
       "      <td>100.0</td>\n",
       "      <td>100.0</td>\n",
       "    </tr>\n",
       "    <tr>\n",
       "      <th>1231</th>\n",
       "      <td>3</td>\n",
       "      <td>4</td>\n",
       "      <td>1</td>\n",
       "      <td>4</td>\n",
       "      <td>1200</td>\n",
       "      <td>10</td>\n",
       "      <td>10</td>\n",
       "      <td>90.0</td>\n",
       "      <td>30.0</td>\n",
       "      <td>68.385212</td>\n",
       "      <td>120.0</td>\n",
       "      <td>120.0</td>\n",
       "    </tr>\n",
       "  </tbody>\n",
       "</table>\n",
       "<p>1232 rows × 12 columns</p>\n",
       "</div>"
      ],
      "text/plain": [
       "      numer_a  denom_a  numer_b  denom_b     I  px  py     x     y          U  \\\n",
       "0           1        2        1        2    10   1   1   5.0   5.0   5.000000   \n",
       "1           1        2        1        2    12   1   1   6.0   6.0   6.000000   \n",
       "2           1        2        1        2   100   1   1  50.0  50.0  50.000000   \n",
       "3           1        2        1        2   120   1   1  60.0  60.0  60.000000   \n",
       "4           1        2        1        2    20   1   2  10.0   5.0   7.071068   \n",
       "...       ...      ...      ...      ...   ...  ..  ..   ...   ...        ...   \n",
       "1227        3        4        1        4   120  10   6   9.0   5.0   7.770060   \n",
       "1228        3        4        1        4  1200  10   6  90.0  50.0  77.700602   \n",
       "1229        3        4        1        4   120  10  10   9.0   3.0   6.838521   \n",
       "1230        3        4        1        4  1000  10  10  75.0  25.0  56.987676   \n",
       "1231        3        4        1        4  1200  10  10  90.0  30.0  68.385212   \n",
       "\n",
       "       xmax   ymax  \n",
       "0      10.0   10.0  \n",
       "1      12.0   12.0  \n",
       "2     100.0  100.0  \n",
       "3     120.0  120.0  \n",
       "4      20.0   10.0  \n",
       "...     ...    ...  \n",
       "1227   12.0   20.0  \n",
       "1228  120.0  200.0  \n",
       "1229   12.0   12.0  \n",
       "1230  100.0  100.0  \n",
       "1231  120.0  120.0  \n",
       "\n",
       "[1232 rows x 12 columns]"
      ]
     },
     "execution_count": 5,
     "metadata": {},
     "output_type": "execute_result"
    }
   ],
   "source": [
    "examples"
   ]
  },
  {
   "cell_type": "code",
   "execution_count": 6,
   "id": "b76b72cf-2295-4682-a7c2-7abd5fc0662f",
   "metadata": {},
   "outputs": [
    {
     "data": {
      "text/latex": [
       "\n",
       "A consumer with income $I = 720$ has a utility function over two goods, $x$ and $y$, given by:\n",
       "\n",
       "$$ u(x,y) = x^\\tfrac{ 2 }{ 4 } y^\\tfrac{ 2 }{ 4 } $$\n",
       "\n",
       "The price of good $x$ is $p_x = 6$ and the price of good $y$ is $p_y = 6$.\n"
      ],
      "text/plain": [
       "<IPython.core.display.Latex object>"
      ]
     },
     "metadata": {},
     "output_type": "display_data"
    },
    {
     "name": "stdout",
     "output_type": "stream",
     "text": [
      "{'x': 60.0, 'y': 60.0, 'U': 60.00000000000001, 'xmax': 120.0, 'ymax': 120.0}\n"
     ]
    }
   ],
   "source": [
    "idx = np.random.randint(len(examples))\n",
    "prob = CobbDouglasConsumer(dict(examples.loc[idx]))\n",
    "display(Latex(prob.setup()))\n",
    "print(prob.sol)"
   ]
  }
 ],
 "metadata": {
  "kernelspec": {
   "display_name": "Python 3 (ipykernel)",
   "language": "python",
   "name": "python3"
  },
  "language_info": {
   "codemirror_mode": {
    "name": "ipython",
    "version": 3
   },
   "file_extension": ".py",
   "mimetype": "text/x-python",
   "name": "python",
   "nbconvert_exporter": "python",
   "pygments_lexer": "ipython3",
   "version": "3.9.6"
  }
 },
 "nbformat": 4,
 "nbformat_minor": 5
}
