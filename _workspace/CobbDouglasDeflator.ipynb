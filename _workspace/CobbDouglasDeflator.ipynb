{
 "cells": [
  {
   "cell_type": "code",
   "execution_count": 1,
   "id": "0d7fffcb-3f3d-441c-92d0-a07d154b186d",
   "metadata": {},
   "outputs": [
    {
     "data": {
      "image/png": "[encoded data removed]",
      "text/plain": [
       "<Figure size 432x288 with 1 Axes>"
      ]
     },
     "metadata": {
      "needs_background": "light"
     },
     "output_type": "display_data"
    }
   ],
   "source": [
    "import numpy as np\n",
    "import pandas as pd\n",
    "from matplotlib import pyplot as plt\n",
    "from matplotlib import cm\n",
    "from IPython.display import display, Markdown, Latex\n",
    "import pickle\n",
    "\n",
    "SMALL_SIZE = 14\n",
    "MEDIUM_SIZE = 16\n",
    "LARGE_SIZE = 18\n",
    "HUGE_SIZE = 20\n",
    "\n",
    "plt.plot()\n",
    "\n",
    "plt.rcdefaults()\n",
    "plt.rcParams['text.usetex'] = True\n",
    "plt.rcParams['font.family'] = 'Helvetica'\n",
    "plt.rcParams['font.size'] = MEDIUM_SIZE\n",
    "plt.rcParams['axes.titlesize'] = LARGE_SIZE\n",
    "plt.rcParams['axes.labelsize'] = MEDIUM_SIZE\n",
    "plt.rcParams['xtick.labelsize'] = MEDIUM_SIZE\n",
    "plt.rcParams['ytick.labelsize'] = MEDIUM_SIZE\n",
    "plt.rcParams['legend.fontsize'] = MEDIUM_SIZE\n",
    "plt.rcParams['figure.titlesize'] = LARGE_SIZE\n",
    "plt.rcParams['figure.figsize'] = [7.2, 7.2]\n",
    "plt.rcParams['figure.dpi'] = 60\n",
    "plt.rcParams['figure.facecolor'] = (1.0, 1.0, 1.0, 0.0)\n",
    "\n",
    "\n",
    "from utils import CobbDouglasDeflator, get_random_prob"
   ]
  },
  {
   "cell_type": "code",
   "execution_count": 2,
   "id": "02035f21-cb1a-42cf-9a5b-5ecb08f118ac",
   "metadata": {},
   "outputs": [],
   "source": [
    "prob = CobbDouglasDeflator()"
   ]
  },
  {
   "cell_type": "code",
   "execution_count": 3,
   "id": "0a6dc247-eea3-4fc6-9b9e-ec6c79817ddb",
   "metadata": {},
   "outputs": [
    {
     "data": {
      "text/latex": [
       "\n",
       "A consumer has a utility function over two goods, \\(x\\) and \\(y\\), given by:\n",
       "\n",
       "$$ u(x,y) = x^a y^b $$\n",
       "\n",
       "In the base period, the consumer has income \\(I\\), the price of \\(x\\) is \\(p_x\\), and the price of \\(y\\) is \\(p_y\\).\n",
       "\n",
       "In the comparison period, the price of \\(x\\) changes to \\(p_x^\\prime\\), and the price of \\(y\\) changes to \\(p_y^\\prime\\).\n",
       "\n",
       "The general solutions are:\n",
       "\n",
       "The general solutions are:\n",
       "\n",
       "$$ \\text{CPI} = \\frac{1}{1+b/a} \\left(\\frac{p_x^\\prime}{p_x}\\right) + \\frac{1}{1+a/b}\\left(\\frac{p_y^\\prime}{p_y}\\right) $$\n",
       "\n",
       "$$ \\text{Constant Utility Deflator} = \\left(\\frac{p_x^\\prime}{p_x}\\right)^{\\frac{a}{a+b} } \\left(\\frac{p_y^\\prime}{p_y}\\right)^{ \\frac{b}{a+b} } $$\n"
      ],
      "text/plain": [
       "<IPython.core.display.Latex object>"
      ]
     },
     "metadata": {},
     "output_type": "display_data"
    }
   ],
   "source": [
    "display(Latex(prob.general_setup()))"
   ]
  },
  {
   "cell_type": "code",
   "execution_count": 4,
   "id": "e11b7263-8087-4982-8d84-89833676a190",
   "metadata": {},
   "outputs": [
    {
     "data": {
      "text/latex": [
       "\n",
       "A consumer has a utility function over two goods, \\(x\\) and \\(y\\), given by:\n",
       "\n",
       "$$ u(x,y) = x^{ 1 / 2 }y^{ 1 / 2 } $$\n",
       "\n",
       "In the base period, the consumer has income \\(I=100\\), the price of \\(x\\) is \\(p_x=1\\), and the price of \\(y\\) is \\(p_y=1\\).\n",
       "\n",
       "In the comparison period, the price of \\(x\\) is \\(p_x^\\prime=1\\), and the price of \\(y\\) is \\(p_y^\\prime=2\\).\n"
      ],
      "text/plain": [
       "<IPython.core.display.Latex object>"
      ]
     },
     "metadata": {},
     "output_type": "display_data"
    },
    {
     "data": {
      "text/plain": [
       "{'CPI': 150.0, 'CONST_UTIL_DEFLATOR': 141.4213562373095}"
      ]
     },
     "execution_count": 4,
     "metadata": {},
     "output_type": "execute_result"
    }
   ],
   "source": [
    "display(Latex(prob.setup()))\n",
    "prob.sol"
   ]
  },
  {
   "cell_type": "code",
   "execution_count": 5,
   "id": "faaed15f-d0f7-4867-8cbf-e7c248a44c91",
   "metadata": {},
   "outputs": [
    {
     "name": "stdout",
     "output_type": "stream",
     "text": [
      "1000 examples found...\n",
      "1180 examples found.\n"
     ]
    }
   ],
   "source": [
    "df = pd.read_csv(\"CobbDouglasConsumer_examples.csv\")\n",
    "params_df = df.groupby(['nx','dx','ny','dy','I','gmax']).agg(\n",
    "    nprob = ('nx','count')\n",
    ").reset_index()\n",
    "params_df = params_df.loc[params_df['nprob']>1].reset_index(drop=True)\n",
    "\n",
    "examples = []\n",
    "n_found = 0\n",
    "for idx, row in params_df.iterrows():\n",
    "    nx, dx, ny, dy, I, gmax = row['nx'], row['dx'], row['ny'], row['dy'], row['I'], row['gmax']\n",
    "    sub_df = df.loc[\n",
    "        (df['nx']==nx) & (df['dx']==dx) & (df['ny']==ny) & (df['dy']==dy) & (df['I']==I) & (df['gmax']==gmax)\n",
    "    ].sample(2, replace=False).reset_index(drop=True)\n",
    "    px1 = sub_df.loc[0, 'px']\n",
    "    py1 = sub_df.loc[0, 'py']\n",
    "    px2 = sub_df.loc[1, 'px']\n",
    "    py2 = sub_df.loc[1, 'py']\n",
    "    params = {'nx':nx,'dx':dx,'ny':ny,'dy':dy,'I':I,'px1':px1,'py1':py1,'px2':px2,'py2':py2,'gmax':gmax}\n",
    "    prob = CobbDouglasDeflator(params)\n",
    "    if prob.check_solution():\n",
    "        n_found+=1\n",
    "        examples.append( prob.params | prob.sol )\n",
    "    params = {'nx':nx,'dx':dx,'ny':ny,'dy':dy,'I':I,'px1':px2,'py1':py2,'px2':px1,'py2':py1,'gmax':gmax}\n",
    "    prob = CobbDouglasDeflator(params)\n",
    "    if prob.check_solution():\n",
    "        n_found+=1\n",
    "        examples.append( prob.params | prob.sol )\n",
    "    if (n_found%1000==0):\n",
    "        print(f\"{n_found} examples found...\")\n",
    "examples = pd.DataFrame.from_dict(examples)\n",
    "examples = examples.drop_duplicates()\n",
    "examples.to_csv(\"CobbDouglasDeflator_examples.csv\", index=False, header=True)\n",
    "print(f\"{len(examples)} examples found.\")"
   ]
  },
  {
   "cell_type": "code",
   "execution_count": 27,
   "id": "b76b72cf-2295-4682-a7c2-7abd5fc0662f",
   "metadata": {},
   "outputs": [
    {
     "data": {
      "text/latex": [
       "\n",
       "A consumer has a utility function over two goods, \\(x\\) and \\(y\\), given by:\n",
       "\n",
       "$$ u(x,y) = x^{ 1 / 2 }y^{ 1 / 2 } $$\n",
       "\n",
       "In the base period, the consumer has income \\(I=1920\\), the price of \\(x\\) is \\(p_x=24\\), and the price of \\(y\\) is \\(p_y=8\\).\n",
       "\n",
       "In the comparison period, the price of \\(x\\) is \\(p_x^\\prime=8\\), and the price of \\(y\\) is \\(p_y^\\prime=24\\).\n"
      ],
      "text/plain": [
       "<IPython.core.display.Latex object>"
      ]
     },
     "metadata": {},
     "output_type": "display_data"
    },
    {
     "name": "stdout",
     "output_type": "stream",
     "text": [
      "{'CPI': 166.66666666666669, 'CONST_UTIL_DEFLATOR': 99.99999999999999}\n",
      "{'nx': 1.0, 'dx': 2.0, 'ny': 1.0, 'dy': 2.0, 'I': 1919.9999999999998, 'px': 8.0, 'py': 24.0, 'gmax': 240.0}\n",
      "{'x': 119.99999999999999, 'y': 39.99999999999999, 'U': 69.28203230275508, 'xmax': 239.99999999999997, 'ymax': 79.99999999999999}\n"
     ]
    }
   ],
   "source": [
    "prob = get_random_prob(CobbDouglasDeflator, \"CobbDouglasDeflator_examples.csv\")\n",
    "display(Latex(prob.setup()))\n",
    "print(prob.sol)\n",
    "print(prob.cb2_cons.params)\n",
    "print(prob.cb2_cons.sol)"
   ]
  },
  {
   "cell_type": "code",
   "execution_count": 29,
   "id": "b6a9f4ce-491c-4b32-a16a-dc9f14ef028c",
   "metadata": {},
   "outputs": [
    {
     "data": {
      "text/plain": [
       "48"
      ]
     },
     "execution_count": 29,
     "metadata": {},
     "output_type": "execute_result"
    }
   ],
   "source": [
    "(examples['CPI']==100).sum()"
   ]
  }
 ],
 "metadata": {
  "kernelspec": {
   "display_name": "Python 3 (ipykernel)",
   "language": "python",
   "name": "python3"
  },
  "language_info": {
   "codemirror_mode": {
    "name": "ipython",
    "version": 3
   },
   "file_extension": ".py",
   "mimetype": "text/x-python",
   "name": "python",
   "nbconvert_exporter": "python",
   "pygments_lexer": "ipython3",
   "version": "3.10.5"
  }
 },
 "nbformat": 4,
 "nbformat_minor": 5
}
