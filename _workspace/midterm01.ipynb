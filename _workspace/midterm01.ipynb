{
 "cells": [
  {
   "cell_type": "code",
   "execution_count": 1,
   "id": "47a80c43-7e51-4929-9937-08018e80ba56",
   "metadata": {},
   "outputs": [],
   "source": [
    "import os\n",
    "import numpy as np\n",
    "import pandas as pd\n",
    "from IPython.display import display, Markdown, Latex\n",
    "\n",
    "import econtools\n",
    "from econtools.documents import Exam, RawLatex, MCQ\n",
    "import utils2 as u2\n",
    "\n",
    "OUTPUT_DIR = \"./tex\"\n",
    "TITLE = \"Econ 310 Midterm 1\"\n",
    "VERSION = 1\n",
    "TIME = 75\n",
    "FILENAME = f\"ec310-midterm01-v{VERSION}\"\n",
    "\n",
    "doc = Exam(\n",
    "    title = TITLE,\n",
    "    version = VERSION,\n",
    "    time = TIME\n",
    ")\n",
    "rng = np.random.default_rng(15321)"
   ]
  },
  {
   "cell_type": "code",
   "execution_count": 2,
   "id": "e266ec97-fb15-44bc-ad2c-c6cc0ecd7170",
   "metadata": {},
   "outputs": [],
   "source": [
    "TYPE = \"CobbDouglasSimplifyProblem\"\n",
    "df = pd.read_csv(f\"{TYPE}.csv\")\n",
    "params = dict(df.sample(1,random_state=rng).iloc[0])\n",
    "problem = u2.load_problem(TYPE, params=params, rng=rng)\n",
    "doc.add(u2.get_single_mcq(problem,setup_id=0,question_id=0))"
   ]
  },
  {
   "cell_type": "code",
   "execution_count": 3,
   "id": "c5b87793-4d1b-495e-a802-b17f71dc8c88",
   "metadata": {},
   "outputs": [],
   "source": [
    "TYPE = \"LogDifferencesProblem\"\n",
    "delta = 0\n",
    "while delta==0:\n",
    "    delta = rng.choice(np.arange(-0.1,0.11,0.001))\n",
    "params = {'delta':delta}\n",
    "problem = u2.load_problem(TYPE, params=params, rng=rng)\n",
    "doc.add(u2.get_multipart_mcq(problem,setup_id=0,question_ids=[0,1]))"
   ]
  },
  {
   "cell_type": "code",
   "execution_count": 4,
   "id": "8e9c938c-e1db-4401-8b71-b7bfb0b38adc",
   "metadata": {},
   "outputs": [],
   "source": [
    "TYPE = \"QuadraticOptimizationProblem\"\n",
    "df = pd.read_csv(f\"{TYPE}.csv\")\n",
    "params = dict(df.sample(1,random_state=rng).iloc[0])\n",
    "problem = u2.load_problem(TYPE, params=params, rng=rng)\n",
    "doc.add(u2.get_multipart_mcq(problem,setup_id=0,question_ids=[0,1]))"
   ]
  },
  {
   "cell_type": "code",
   "execution_count": 5,
   "id": "0c487136-d8a0-4506-952f-86b6c74bbe21",
   "metadata": {},
   "outputs": [],
   "source": [
    "question = fr\"A function $f(x)$ is maximized when:\"\n",
    "answers = [\n",
    "    \"Its derivative is equal to zero.\",\n",
    "    \"Its derivative is positive.\",\n",
    "    \"Its derivative is negative.\",\n",
    "    \"Its derivative is equal to the maximum.\"\n",
    "]\n",
    "doc.add(MCQ(question,answers,0,shuffle=True,rng=rng))"
   ]
  },
  {
   "cell_type": "code",
   "execution_count": 6,
   "id": "d533db5d-7383-4332-a991-014da95137f9",
   "metadata": {},
   "outputs": [],
   "source": [
    "question = fr\"\"\"\n",
    "$$ f(x) = b(x) - c(x) $$\n",
    "\n",
    "Which of the following equations describes the first order condition that finds the maximum of $f(x)$?\n",
    "\"\"\"\n",
    "answers = [\n",
    "    fr\"$b^\\prime(x) - c^\\prime(x) = 0$\",\n",
    "    fr\"$b^\\prime(x) + c^\\prime(x) = 0$\",\n",
    "    fr\"$b(x) - c(x) = 0$\",\n",
    "    fr\"$c^\\prime(x) - b^\\prime(x) = 0$\"\n",
    "]\n",
    "doc.add(MCQ(question,answers,0,shuffle=True,rng=rng))"
   ]
  },
  {
   "cell_type": "code",
   "execution_count": 7,
   "id": "ce98cbd9-f144-4164-82a3-6244a7ddd2ba",
   "metadata": {},
   "outputs": [],
   "source": [
    "question = fr\"In the competitive equilibrium of a commodity market, which of the following conditions does NOT have to hold?\"\n",
    "answers = [\n",
    "    \"The commodity is evenly distributed between consumers.\",\n",
    "    \"The price equals the consumers' marginal benefit.\",\n",
    "    \"The price equals the producers' marginal cost.\",\n",
    "    \"The quantity supplied equals the quantity demanded.\"\n",
    "]\n",
    "doc.add(MCQ(question,answers,0,shuffle=True,rng=rng))"
   ]
  },
  {
   "cell_type": "code",
   "execution_count": 8,
   "id": "4865c69d-0fc9-4c39-8c6f-9d8ae94d2c4b",
   "metadata": {},
   "outputs": [],
   "source": [
    "question = fr\"In the competitive equilibrium of a labor market, which of the following conditions does NOT have to hold?\"\n",
    "answers = [\n",
    "    \"The surplus is evenly shared between workers and firms.\",\n",
    "    \"The wage rate equals the marginal revenue product of labor.\",\n",
    "    \"The wage rate equals the workers' marginal disutility of labor.\",\n",
    "    \"The quantity of labor supplied equals the quantity of labor demanded.\"\n",
    "]\n",
    "doc.add(MCQ(question,answers,0,shuffle=True,rng=rng))"
   ]
  },
  {
   "cell_type": "code",
   "execution_count": 9,
   "id": "53c07664-e14b-4916-bb82-d42d090b1ae3",
   "metadata": {},
   "outputs": [],
   "source": [
    "question = fr\"\"\"\n",
    "A firm has a production function given by $f(L) = AL^{{1/2}}$. If $A$ increases, this represents:\n",
    "\"\"\"\n",
    "answers = [\n",
    "    \"An improvement to the firm's production technology.\",\n",
    "    \"A decline in the firm's production technology.\",\n",
    "    \"An increase in the price of the commodity output.\",\n",
    "    \"A decrease in the price of the commodity output.\"\n",
    "]\n",
    "doc.add(MCQ(question,answers,0,shuffle=True,rng=rng))"
   ]
  },
  {
   "cell_type": "code",
   "execution_count": 10,
   "id": "6b1d51d1-7f48-4f92-93e1-8f9100b27357",
   "metadata": {},
   "outputs": [],
   "source": [
    "question = fr\"\"\"\n",
    "We learned in class that if consumers have utility of the form:\n",
    "$$ u(q) = \\alpha \\ln q - pq$$,\n",
    "workers have utility of the form:\n",
    "$$ u(L) = wL - \\tfrac{{1}}{{2}} \\delta L^2 $$,\n",
    "and firms have production functions of the form:\n",
    "$$ f(L) = AL^{{1/2}} $$,\n",
    "then an improvement in the production technology results in:\n",
    "\"\"\"\n",
    "answers = [\n",
    "    \"Lower commodity prices and greater commodity consumption in equilibrium.\",\n",
    "    \"Higher commodity prices and lower commodity consumption in equilibrium.\",\n",
    "    \"Lower wage rates and lower employment in equilibrium.\",\n",
    "    \"Higher wage rates and higher employment in equilibrium.\"\n",
    "]\n",
    "doc.add(MCQ(question,answers,0,shuffle=True,rng=rng))"
   ]
  },
  {
   "cell_type": "code",
   "execution_count": 11,
   "id": "32c576e1-f28e-4c5a-88f1-04177923eaad",
   "metadata": {},
   "outputs": [],
   "source": [
    "question = fr\"According to Joe Salerno, the role of prices in a market economy is:\"\n",
    "answers = [\n",
    "    \"To act as a signal for where resources should be allocated.\",\n",
    "    \"To redistribute economic surplus from producers to consumers.\",\n",
    "    \"To help the central planning bureau determine production targets.\",\n",
    "    \"To gouge workers of their productive labor in favor of capitalists.\"\n",
    "]\n",
    "doc.add(MCQ(question,answers,0,shuffle=True,rng=rng))"
   ]
  },
  {
   "cell_type": "code",
   "execution_count": 12,
   "id": "8729dc66-c0a8-4e79-89b1-2b2ac0bf2e36",
   "metadata": {},
   "outputs": [],
   "source": [
    "TYPE = \"LinearMarketProblem\"\n",
    "df = pd.read_csv(f\"{TYPE}.csv\")\n",
    "params = dict(df.sample(1,random_state=rng).iloc[0])\n",
    "problem = u2.load_problem(TYPE, params=params, rng=rng)\n",
    "doc.add(u2.get_multipart_mcq(problem,setup_id=0,question_ids=[0,1]))"
   ]
  },
  {
   "cell_type": "code",
   "execution_count": 13,
   "id": "51994be3-fd90-48b2-916b-f050e1526aac",
   "metadata": {},
   "outputs": [],
   "source": [
    "TYPE = \"LinearCommodityMarketProblem\"\n",
    "df = pd.read_csv(f\"{TYPE}.csv\")\n",
    "params = dict(df.loc[df['af']==0].sample(1,random_state=rng).iloc[0])\n",
    "problem = u2.load_problem(TYPE, params=params, rng=rng)\n",
    "doc.add(u2.get_multipart_mcq(problem,setup_id=0,question_ids=[0,1,2,3]))"
   ]
  },
  {
   "cell_type": "code",
   "execution_count": 14,
   "id": "3a5aa191-4b40-4025-b9ca-2625723068f1",
   "metadata": {},
   "outputs": [],
   "source": [
    "TYPE = \"LinearCommodityMarketProblem\"\n",
    "df = pd.read_csv(f\"{TYPE}.csv\")\n",
    "params = dict(df.loc[df['af']==0].sample(1,random_state=rng).iloc[0])\n",
    "problem = u2.load_problem(TYPE, params=params, rng=rng)\n",
    "doc.add(u2.get_multipart_mcq(problem,setup_id=0,question_ids=[0,1,2,3]))"
   ]
  },
  {
   "cell_type": "code",
   "execution_count": 15,
   "id": "563a9b6f-e027-4f9d-a8f9-ebd3f4ee0cbb",
   "metadata": {},
   "outputs": [],
   "source": [
    "TYPE = \"ExponentialLaborMarketProblem\"\n",
    "df = pd.read_csv(f\"{TYPE}.csv\")\n",
    "params = dict(df.sample(1,random_state=rng).iloc[0])\n",
    "problem = u2.load_problem(TYPE, params=params, rng=rng)\n",
    "doc.add(u2.get_multipart_mcq(problem,setup_id=0,question_ids=[0,1,2,3]))"
   ]
  },
  {
   "cell_type": "code",
   "execution_count": 16,
   "id": "b6411e8f-5682-4975-81ed-56a903c36534",
   "metadata": {},
   "outputs": [],
   "source": [
    "TYPE = \"GeneralEquilibriumProblem\"\n",
    "df = pd.read_csv(f\"{TYPE}.csv\")\n",
    "params = dict(df.sample(1,random_state=rng).iloc[0])\n",
    "problem = u2.load_problem(TYPE, params=params, rng=rng)\n",
    "doc.add(u2.get_multipart_mcq(problem,setup_id=0,question_ids=[0,1,2,3]))"
   ]
  },
  {
   "cell_type": "code",
   "execution_count": 17,
   "id": "f3fad6f8-5737-4617-9c9a-d29e7523391a",
   "metadata": {},
   "outputs": [],
   "source": [
    "doc.print_pdf(FILENAME, OUTPUT_DIR)\n",
    "doc.print_pdf(f\"{FILENAME}-solutions\", OUTPUT_DIR, solutions=True)"
   ]
  },
  {
   "cell_type": "code",
   "execution_count": 18,
   "id": "ad42a936-c788-4a18-b239-cb7ad33949c3",
   "metadata": {},
   "outputs": [
    {
     "name": "stdout",
     "output_type": "stream",
     "text": [
      "{'ad': 12, 'bd': 1, 'as': 0, 'bs': 1, 'xunit': 1, 'yunit': 1, 'xn': 13, 'yn': 13}\n",
      "{'q': 6.0, 'p': 6.0, 'CS': 18.0, 'PS': 18.0, 'TS': 36.0}\n",
      "0:  Supply and demand in a market are defined by the following equations: \\begin{align*} q_d &= 12-p \\\\ q_s &= p  \\end{align*} \n",
      "\n",
      "0: Calculate the equilibrium price.\n",
      "\n",
      "1: Calculate the equilibrium quantity.\n",
      "\n",
      "2:  Draw the supply and demand diagram using the provided grid: \\begin{center} \\includegraphics[width=3in]{generic_problem_blank.png} \\end{center} \n",
      "\n",
      "3: Calculate the consumer surplus.\n",
      "\n",
      "4: Calculate the producer surplus.\n",
      "\n"
     ]
    }
   ],
   "source": [
    "u2.show_menu(\"LinearMarketProblem\")"
   ]
  }
 ],
 "metadata": {
  "kernelspec": {
   "display_name": "Python 3 (ipykernel)",
   "language": "python",
   "name": "python3"
  },
  "language_info": {
   "codemirror_mode": {
    "name": "ipython",
    "version": 3
   },
   "file_extension": ".py",
   "mimetype": "text/x-python",
   "name": "python",
   "nbconvert_exporter": "python",
   "pygments_lexer": "ipython3",
   "version": "3.12.9"
  }
 },
 "nbformat": 4,
 "nbformat_minor": 5
}
