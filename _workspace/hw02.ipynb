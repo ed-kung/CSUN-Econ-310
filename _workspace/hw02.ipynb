{
 "cells": [
  {
   "cell_type": "code",
   "execution_count": 1,
   "id": "c22ce13f-1cf1-466a-afed-8d731d3fb548",
   "metadata": {},
   "outputs": [],
   "source": [
    "import os\n",
    "import numpy as np\n",
    "import pandas as pd\n",
    "from IPython.display import display, Markdown, Latex\n",
    "\n",
    "import econtools\n",
    "from econtools.documents import Homework, RawLatex\n",
    "from utils import SupplyPoly, DemandPoly, DemandCE, SREQ, polyeq\n",
    "\n",
    "filename = \"hw02\"\n",
    "\n",
    "doc = Homework(\n",
    "    title = r\"Econ 310 Week 2 Homework\",\n",
    "    due_date = r\"Tuesday 9/10\"\n",
    ")\n"
   ]
  },
  {
   "cell_type": "code",
   "execution_count": 2,
   "id": "659e0942-b705-438d-954e-daf81a10f5fe",
   "metadata": {},
   "outputs": [
    {
     "data": {
      "text/latex": [
       "\n",
       "A price-taking firm produces a commodity that it can sell at price $p$. The firm's cost function is:\n",
       "\n",
       "$$ c(q) = q^2 $$\n"
      ],
      "text/plain": [
       "<IPython.core.display.Latex object>"
      ]
     },
     "metadata": {},
     "output_type": "display_data"
    },
    {
     "data": {
      "text/plain": [
       "{'q': 5.0, 'profit': 25.0, 'producer_surplus': 25.0}"
      ]
     },
     "execution_count": 2,
     "metadata": {},
     "output_type": "execute_result"
    }
   ],
   "source": [
    "prob = SupplyPoly({'a':0,'b':0,'c':1,'k':2})\n",
    "p = 10\n",
    "setup = prob.setup()\n",
    "questions = fr\"\"\"\n",
    "\\begin{{enumerate}}[a.]\n",
    "\\item Write down the firm's supply curve.\n",
    "\\item What quantity of output will the firm produce if the price is {p}?\n",
    "\\item What is the profit when price is {p}?\n",
    "\\end{{enumerate}}\n",
    "\"\"\"\n",
    "latex = \"\\\\begin{q}\\n\" + setup + questions + \"\\\\end{q}\\n\"\n",
    "doc.add(RawLatex(latex))\n",
    "display(Latex(setup))\n",
    "prob.eval(p)"
   ]
  },
  {
   "cell_type": "code",
   "execution_count": 3,
   "id": "2bc73300-9eb0-4107-b9d2-242ba9d4b4ec",
   "metadata": {},
   "outputs": [
    {
     "data": {
      "text/latex": [
       "\n",
       "A price-taking firm produces a commodity that it can sell at price $p$. The firm's cost function is:\n",
       "\n",
       "$$ c(q) = 5 + 5q + q^4 $$\n"
      ],
      "text/plain": [
       "<IPython.core.display.Latex object>"
      ]
     },
     "metadata": {},
     "output_type": "display_data"
    },
    {
     "data": {
      "text/plain": [
       "{'q': 1.8420157493201932,\n",
       " 'profit': 29.537795299753625,\n",
       " 'producer_surplus': 24.537795299753625}"
      ]
     },
     "execution_count": 3,
     "metadata": {},
     "output_type": "execute_result"
    }
   ],
   "source": [
    "prob = SupplyPoly({'a':5,'b':5,'c':1,'k':4})\n",
    "p = 30\n",
    "setup = prob.setup()\n",
    "questions = fr\"\"\"\n",
    "\\begin{{enumerate}}[a.]\n",
    "\\item Write down the firm's supply curve.\n",
    "\\item What quantity of output will the firm produce if the price is {p}?\n",
    "\\item What is the profit when price is {p}?\n",
    "\\end{{enumerate}}\n",
    "\"\"\"\n",
    "latex = \"\\\\begin{q}\\n\" + setup + questions + \"\\\\end{q}\\n\"\n",
    "doc.add(RawLatex(latex))\n",
    "display(Latex(setup))\n",
    "prob.eval(p)"
   ]
  },
  {
   "cell_type": "code",
   "execution_count": 4,
   "id": "b6ff03a3-92f7-4e77-b889-92770df74d5f",
   "metadata": {},
   "outputs": [
    {
     "data": {
      "text/latex": [
       "\n",
       "There are 50 identical price-taking firms, each with cost function:\n",
       "\n",
       "$$ c(q) = 10q + 0.5q^2 $$\n"
      ],
      "text/plain": [
       "<IPython.core.display.Latex object>"
      ]
     },
     "metadata": {},
     "output_type": "display_data"
    }
   ],
   "source": [
    "prob = SupplyPoly({'a':0,'b':10,'c':0.5,'k':2})\n",
    "N = 50\n",
    "p = 15\n",
    "setup = r\"\"\"\n",
    "There are {} identical price-taking firms, each with cost function:\n",
    "\n",
    "$$ c(q) = {} $$\n",
    "\"\"\".format(N, polyeq('q',[0,10,0.5]))\n",
    "questions = r\"\"\"\n",
    "\\begin{{enumerate}}[a.]\n",
    "\\item Write down the supply curve of an individual firm.\n",
    "\\item Write down the market supply curve.\n",
    "\\item What is the total quantity produced (by all firms) if the price is {}?\n",
    "\\item What is the total profit (of all firms) if the price is {}?\n",
    "\\end{{enumerate}}\n",
    "\"\"\".format(p,p)\n",
    "latex = \"\\\\begin{q}\\n\" + setup + questions + \"\\\\end{q}\\n\"\n",
    "doc.add(RawLatex(latex))\n",
    "display(Latex(setup))"
   ]
  },
  {
   "cell_type": "code",
   "execution_count": 5,
   "id": "4872c1c3-ca5f-46b1-950e-2717ac71a53d",
   "metadata": {},
   "outputs": [
    {
     "data": {
      "text/latex": [
       "\n",
       "A price-taking consumer with income $Y = 100$ has utility over numeraire consumption $c$ and a commodity $q$ given by:\n",
       "\n",
       "$$ u(c,q) = c + 12q - q^3 $$\n"
      ],
      "text/plain": [
       "<IPython.core.display.Latex object>"
      ]
     },
     "metadata": {},
     "output_type": "display_data"
    },
    {
     "data": {
      "text/plain": [
       "{'q': 1.632993161855452,\n",
       " 'utility': 108.70929686322908,\n",
       " 'consumer_surplus': 8.709296863229085}"
      ]
     },
     "execution_count": 5,
     "metadata": {},
     "output_type": "execute_result"
    }
   ],
   "source": [
    "prob = DemandPoly({'a':12,'b':1,'k':3,'Y':100})\n",
    "p = 4\n",
    "setup = prob.setup()\n",
    "questions = fr\"\"\"\n",
    "\\begin{{enumerate}}[a.]\n",
    "\\item Write down the consumer's demand curve.\n",
    "\\item How much of the commodity will the consumer consume if the price is {p}?\n",
    "\\item What is consumer's utility when the price is {p}?\n",
    "\\end{{enumerate}}\n",
    "\"\"\"\n",
    "latex = \"\\\\begin{q}\\n\" + setup + questions + \"\\\\end{q}\\n\"\n",
    "doc.add(RawLatex(latex))\n",
    "display(Latex(setup))\n",
    "prob.eval(p)"
   ]
  },
  {
   "cell_type": "code",
   "execution_count": 6,
   "id": "41d42973-db30-4da2-a958-85aacba3d2cd",
   "metadata": {},
   "outputs": [
    {
     "data": {
      "text/latex": [
       "\n",
       "A price-taking consumer with income $Y = 100$ has utility over numeraire consumption $c$ and a commodity $q$ given by:\n",
       "\n",
       "$$ u(c,q) = c + 10q^{ \\frac{ 1 }{ 2 } } $$\n"
      ],
      "text/plain": [
       "<IPython.core.display.Latex object>"
      ]
     },
     "metadata": {},
     "output_type": "display_data"
    },
    {
     "data": {
      "text/plain": [
       "{'q': 1.0, 'utility': 105.0, 'consumer_surplus': 5.0}"
      ]
     },
     "execution_count": 6,
     "metadata": {},
     "output_type": "execute_result"
    }
   ],
   "source": [
    "prob = DemandCE({'a':10,'numer_k':1,'denom_k':2,'Y':100})\n",
    "p = 5\n",
    "setup = prob.setup()\n",
    "questions = fr\"\"\"\n",
    "\\begin{{enumerate}}[a.]\n",
    "\\item Write down the consumer's demand curve.\n",
    "\\item How much of the commodity will the consumer consume if the price is {p}?\n",
    "\\item What is consumer's utility when the price is {p}?\n",
    "\\end{{enumerate}}\n",
    "\"\"\"\n",
    "latex = \"\\\\begin{q}\\n\" + setup + questions + \"\\\\end{q}\\n\"\n",
    "doc.add(RawLatex(latex))\n",
    "display(Latex(setup))\n",
    "prob.eval(p)"
   ]
  },
  {
   "cell_type": "code",
   "execution_count": 7,
   "id": "186b0b28-5d92-43e6-a87a-9f9dbdd60835",
   "metadata": {},
   "outputs": [
    {
     "data": {
      "text/latex": [
       "\n",
       "There are $100$ identical price-taking consumers with income $Y=100$. Each consumer has utility over numeraire consumption $c$ and commodity $q$, given by:\n",
       "\n",
       "$$ u(c,q) = c + 20q - q^2 $$\n"
      ],
      "text/plain": [
       "<IPython.core.display.Latex object>"
      ]
     },
     "metadata": {},
     "output_type": "display_data"
    },
    {
     "data": {
      "text/plain": [
       "{'q': 5.0, 'utility': 125.0, 'consumer_surplus': 25.0}"
      ]
     },
     "execution_count": 7,
     "metadata": {},
     "output_type": "execute_result"
    }
   ],
   "source": [
    "N = 100\n",
    "p = 10\n",
    "Y = 100\n",
    "a = 20\n",
    "b = 1\n",
    "k = 2\n",
    "prob = DemandPoly({'a':a,'b':b,'Y':Y,'k':k})\n",
    "setup = r\"\"\"\n",
    "There are ${}$ identical price-taking consumers with income ${}$. Each consumer has utility over numeraire consumption $c$ and commodity $q$, given by:\n",
    "\n",
    "$$ u(c,q) = c + {} $$\n",
    "\"\"\".format(N, f\"Y={Y:.0f}\", polyeq('q', [0,a,-b]))\n",
    "questions = r\"\"\"\n",
    "\\begin{{enumerate}}[a.]\n",
    "\\item Write down the demand curve of an individual consumer.\n",
    "\\item Write down the market demand curve.\n",
    "\\item What is the total quantity produced (by all consumers) if the price is {}?\n",
    "\\item What is the total utility (of all consumers) if the price is {}?\n",
    "\\end{{enumerate}}\n",
    "\"\"\".format(p,p)\n",
    "latex = \"\\\\begin{q}\\n\" + setup + questions + \"\\\\end{q}\\n\"\n",
    "doc.add(RawLatex(latex))\n",
    "display(Latex(setup))\n",
    "prob.eval(p)"
   ]
  },
  {
   "cell_type": "code",
   "execution_count": 8,
   "id": "1548c53b-4ea2-49f1-9c8b-d8de7055f441",
   "metadata": {},
   "outputs": [
    {
     "data": {
      "text/latex": [
       "\n",
       "A commodity $q$ is traded at price $p$ in a competitive market with price-taking consumers and firms. \\\\\n",
       "        \n",
       "There are $500$ identical consumers each with income $Y=100$. Each consumer has a utility function over numeraire consumption $c$ and commodity $q$ given by:\n",
       "\n",
       "$$u(c,q) = c + 22q - q^2$$\n",
       "\n",
       "There are $100$ identical firms each with cost function given by:\n",
       "\n",
       "$$c(q) = 2q^2$$\n",
       "\n"
      ],
      "text/plain": [
       "<IPython.core.display.Latex object>"
      ]
     },
     "metadata": {},
     "output_type": "display_data"
    }
   ],
   "source": [
    "df = pd.read_csv(\"SREQ_examples.csv\")\n",
    "params = dict(df.loc[(df['delta']==0)].sample(1, random_state=2).reset_index().loc[0])\n",
    "prob = SREQ(params)\n",
    "setup = prob.setup()\n",
    "questions = fr\"\"\"\n",
    "\\begin{{enumerate}}[a.]\n",
    "\\item Write down the market demand curve.\n",
    "\\item Write down the market supply curve.\n",
    "\\item What is the equilibrium price and total quantity traded?\n",
    "\\end{{enumerate}}\n",
    "\"\"\"\n",
    "latex = \"\\\\begin{q}\\n\" + setup + questions + \"\\\\end{q}\\n\"\n",
    "doc.add(RawLatex(latex))\n",
    "display(Latex(setup))\n"
   ]
  },
  {
   "cell_type": "code",
   "execution_count": 9,
   "id": "d3c8b391-8cc1-49d3-8ce8-a2894533df71",
   "metadata": {},
   "outputs": [
    {
     "name": "stdout",
     "output_type": "stream",
     "text": [
      "This is pdfTeX, Version 3.141592653-2.6-1.40.26 (TeX Live 2024) (preloaded format=pdflatex)\n",
      " restricted \\write18 enabled.\n",
      "entering extended mode\n",
      "(./hw02.tex\n",
      "LaTeX2e <2023-11-01> patch level 1\n",
      "L3 programming layer <2024-02-20>\n",
      "(/usr/local/texlive/2024/texmf-dist/tex/latex/base/article.cls\n",
      "Document Class: article 2023/05/17 v1.4n Standard LaTeX document class\n",
      "(/usr/local/texlive/2024/texmf-dist/tex/latex/base/size11.clo))\n",
      "(/usr/local/texlive/2024/texmf-dist/tex/latex/base/inputenc.sty)\n",
      "(/usr/local/texlive/2024/texmf-dist/tex/latex/geometry/geometry.sty\n",
      "(/usr/local/texlive/2024/texmf-dist/tex/latex/graphics/keyval.sty)\n",
      "(/usr/local/texlive/2024/texmf-dist/tex/generic/iftex/ifvtex.sty\n",
      "(/usr/local/texlive/2024/texmf-dist/tex/generic/iftex/iftex.sty)))\n",
      "(/usr/local/texlive/2024/texmf-dist/tex/latex/pgfplots/pgfplots.sty\n",
      "(/usr/local/texlive/2024/texmf-dist/tex/generic/pgfplots/pgfplots.revision.tex)\n",
      "(/usr/local/texlive/2024/texmf-dist/tex/latex/graphics/graphicx.sty\n",
      "(/usr/local/texlive/2024/texmf-dist/tex/latex/graphics/graphics.sty\n",
      "(/usr/local/texlive/2024/texmf-dist/tex/latex/graphics/trig.sty)\n",
      "(/usr/local/texlive/2024/texmf-dist/tex/latex/graphics-cfg/graphics.cfg)\n",
      "(/usr/local/texlive/2024/texmf-dist/tex/latex/graphics-def/pdftex.def)))\n",
      "(/usr/local/texlive/2024/texmf-dist/tex/latex/pgf/frontendlayer/tikz.sty\n",
      "(/usr/local/texlive/2024/texmf-dist/tex/latex/pgf/basiclayer/pgf.sty\n",
      "(/usr/local/texlive/2024/texmf-dist/tex/latex/pgf/utilities/pgfrcs.sty\n",
      "(/usr/local/texlive/2024/texmf-dist/tex/generic/pgf/utilities/pgfutil-common.te\n",
      "x)\n",
      "(/usr/local/texlive/2024/texmf-dist/tex/generic/pgf/utilities/pgfutil-latex.def\n",
      ") (/usr/local/texlive/2024/texmf-dist/tex/generic/pgf/utilities/pgfrcs.code.tex\n",
      "(/usr/local/texlive/2024/texmf-dist/tex/generic/pgf/pgf.revision.tex)))\n",
      "(/usr/local/texlive/2024/texmf-dist/tex/latex/pgf/basiclayer/pgfcore.sty\n",
      "(/usr/local/texlive/2024/texmf-dist/tex/latex/pgf/systemlayer/pgfsys.sty\n",
      "(/usr/local/texlive/2024/texmf-dist/tex/generic/pgf/systemlayer/pgfsys.code.tex\n",
      "(/usr/local/texlive/2024/texmf-dist/tex/generic/pgf/utilities/pgfkeys.code.tex\n",
      "(/usr/local/texlive/2024/texmf-dist/tex/generic/pgf/utilities/pgfkeyslibraryfil\n",
      "tered.code.tex))\n",
      "(/usr/local/texlive/2024/texmf-dist/tex/generic/pgf/systemlayer/pgf.cfg)\n",
      "(/usr/local/texlive/2024/texmf-dist/tex/generic/pgf/systemlayer/pgfsys-pdftex.d\n",
      "ef\n",
      "(/usr/local/texlive/2024/texmf-dist/tex/generic/pgf/systemlayer/pgfsys-common-p\n",
      "df.def)))\n",
      "(/usr/local/texlive/2024/texmf-dist/tex/generic/pgf/systemlayer/pgfsyssoftpath.\n",
      "code.tex)\n",
      "(/usr/local/texlive/2024/texmf-dist/tex/generic/pgf/systemlayer/pgfsysprotocol.\n",
      "code.tex)) (/usr/local/texlive/2024/texmf-dist/tex/latex/xcolor/xcolor.sty\n",
      "(/usr/local/texlive/2024/texmf-dist/tex/latex/graphics-cfg/color.cfg)\n",
      "(/usr/local/texlive/2024/texmf-dist/tex/latex/graphics/mathcolor.ltx))\n",
      "(/usr/local/texlive/2024/texmf-dist/tex/generic/pgf/basiclayer/pgfcore.code.tex\n",
      "(/usr/local/texlive/2024/texmf-dist/tex/generic/pgf/math/pgfmath.code.tex\n",
      "(/usr/local/texlive/2024/texmf-dist/tex/generic/pgf/math/pgfmathutil.code.tex)\n",
      "(/usr/local/texlive/2024/texmf-dist/tex/generic/pgf/math/pgfmathparser.code.tex\n",
      ")\n",
      "(/usr/local/texlive/2024/texmf-dist/tex/generic/pgf/math/pgfmathfunctions.code.\n",
      "tex)\n",
      "(/usr/local/texlive/2024/texmf-dist/tex/generic/pgf/math/pgfmathfunctions.basic\n",
      ".code.tex)\n",
      "(/usr/local/texlive/2024/texmf-dist/tex/generic/pgf/math/pgfmathfunctions.trigo\n",
      "nometric.code.tex)\n",
      "(/usr/local/texlive/2024/texmf-dist/tex/generic/pgf/math/pgfmathfunctions.rando\n",
      "m.code.tex)\n",
      "(/usr/local/texlive/2024/texmf-dist/tex/generic/pgf/math/pgfmathfunctions.compa\n",
      "rison.code.tex)\n",
      "(/usr/local/texlive/2024/texmf-dist/tex/generic/pgf/math/pgfmathfunctions.base.\n",
      "code.tex)\n",
      "(/usr/local/texlive/2024/texmf-dist/tex/generic/pgf/math/pgfmathfunctions.round\n",
      ".code.tex)\n",
      "(/usr/local/texlive/2024/texmf-dist/tex/generic/pgf/math/pgfmathfunctions.misc.\n",
      "code.tex)\n",
      "(/usr/local/texlive/2024/texmf-dist/tex/generic/pgf/math/pgfmathfunctions.integ\n",
      "erarithmetics.code.tex)\n",
      "(/usr/local/texlive/2024/texmf-dist/tex/generic/pgf/math/pgfmathcalc.code.tex)\n",
      "(/usr/local/texlive/2024/texmf-dist/tex/generic/pgf/math/pgfmathfloat.code.tex)\n",
      ") (/usr/local/texlive/2024/texmf-dist/tex/generic/pgf/math/pgfint.code.tex)\n",
      "(/usr/local/texlive/2024/texmf-dist/tex/generic/pgf/basiclayer/pgfcorepoints.co\n",
      "de.tex)\n",
      "(/usr/local/texlive/2024/texmf-dist/tex/generic/pgf/basiclayer/pgfcorepathconst\n",
      "ruct.code.tex)\n",
      "(/usr/local/texlive/2024/texmf-dist/tex/generic/pgf/basiclayer/pgfcorepathusage\n",
      ".code.tex)\n",
      "(/usr/local/texlive/2024/texmf-dist/tex/generic/pgf/basiclayer/pgfcorescopes.co\n",
      "de.tex)\n",
      "(/usr/local/texlive/2024/texmf-dist/tex/generic/pgf/basiclayer/pgfcoregraphicst\n",
      "ate.code.tex)\n",
      "(/usr/local/texlive/2024/texmf-dist/tex/generic/pgf/basiclayer/pgfcoretransform\n",
      "ations.code.tex)\n",
      "(/usr/local/texlive/2024/texmf-dist/tex/generic/pgf/basiclayer/pgfcorequick.cod\n",
      "e.tex)\n",
      "(/usr/local/texlive/2024/texmf-dist/tex/generic/pgf/basiclayer/pgfcoreobjects.c\n",
      "ode.tex)\n",
      "(/usr/local/texlive/2024/texmf-dist/tex/generic/pgf/basiclayer/pgfcorepathproce\n",
      "ssing.code.tex)\n",
      "(/usr/local/texlive/2024/texmf-dist/tex/generic/pgf/basiclayer/pgfcorearrows.co\n",
      "de.tex)\n",
      "(/usr/local/texlive/2024/texmf-dist/tex/generic/pgf/basiclayer/pgfcoreshade.cod\n",
      "e.tex)\n",
      "(/usr/local/texlive/2024/texmf-dist/tex/generic/pgf/basiclayer/pgfcoreimage.cod\n",
      "e.tex)\n",
      "(/usr/local/texlive/2024/texmf-dist/tex/generic/pgf/basiclayer/pgfcoreexternal.\n",
      "code.tex)\n",
      "(/usr/local/texlive/2024/texmf-dist/tex/generic/pgf/basiclayer/pgfcorelayers.co\n",
      "de.tex)\n",
      "(/usr/local/texlive/2024/texmf-dist/tex/generic/pgf/basiclayer/pgfcoretranspare\n",
      "ncy.code.tex)\n",
      "(/usr/local/texlive/2024/texmf-dist/tex/generic/pgf/basiclayer/pgfcorepatterns.\n",
      "code.tex)\n",
      "(/usr/local/texlive/2024/texmf-dist/tex/generic/pgf/basiclayer/pgfcorerdf.code.\n",
      "tex)))\n",
      "(/usr/local/texlive/2024/texmf-dist/tex/generic/pgf/modules/pgfmoduleshapes.cod\n",
      "e.tex)\n",
      "(/usr/local/texlive/2024/texmf-dist/tex/generic/pgf/modules/pgfmoduleplot.code.\n",
      "tex)\n",
      "(/usr/local/texlive/2024/texmf-dist/tex/latex/pgf/compatibility/pgfcomp-version\n",
      "-0-65.sty)\n",
      "(/usr/local/texlive/2024/texmf-dist/tex/latex/pgf/compatibility/pgfcomp-version\n",
      "-1-18.sty))\n",
      "(/usr/local/texlive/2024/texmf-dist/tex/latex/pgf/utilities/pgffor.sty\n",
      "(/usr/local/texlive/2024/texmf-dist/tex/latex/pgf/utilities/pgfkeys.sty\n",
      "(/usr/local/texlive/2024/texmf-dist/tex/generic/pgf/utilities/pgfkeys.code.tex)\n",
      ") (/usr/local/texlive/2024/texmf-dist/tex/latex/pgf/math/pgfmath.sty\n",
      "(/usr/local/texlive/2024/texmf-dist/tex/generic/pgf/math/pgfmath.code.tex))\n",
      "(/usr/local/texlive/2024/texmf-dist/tex/generic/pgf/utilities/pgffor.code.tex))\n",
      "\n",
      "(/usr/local/texlive/2024/texmf-dist/tex/generic/pgf/frontendlayer/tikz/tikz.cod\n",
      "e.tex\n",
      "(/usr/local/texlive/2024/texmf-dist/tex/generic/pgf/libraries/pgflibraryplothan\n",
      "dlers.code.tex)\n",
      "(/usr/local/texlive/2024/texmf-dist/tex/generic/pgf/modules/pgfmodulematrix.cod\n",
      "e.tex)\n",
      "(/usr/local/texlive/2024/texmf-dist/tex/generic/pgf/frontendlayer/tikz/librarie\n",
      "s/tikzlibrarytopaths.code.tex)))\n",
      "(/usr/local/texlive/2024/texmf-dist/tex/generic/pgfplots/pgfplots.code.tex\n",
      "(/usr/local/texlive/2024/texmf-dist/tex/generic/pgfplots/pgfplotscore.code.tex\n",
      "(/usr/local/texlive/2024/texmf-dist/tex/generic/pgfplots/sys/pgfplotssysgeneric\n",
      ".code.tex))\n",
      "(/usr/local/texlive/2024/texmf-dist/tex/generic/pgfplots/libs/pgfplotslibrary.c\n",
      "ode.tex)\n",
      "(/usr/local/texlive/2024/texmf-dist/tex/generic/pgfplots/oldpgfcompatib/pgfplot\n",
      "soldpgfsupp_loader.code.tex\n",
      "(/usr/local/texlive/2024/texmf-dist/tex/generic/pgf/libraries/pgflibraryfpu.cod\n",
      "e.tex)\n",
      "Package pgfplots: loading complementary utilities for your pgf version...\n",
      "\n",
      "(/usr/local/texlive/2024/texmf-dist/tex/generic/pgfplots/oldpgfcompatib/pgfplot\n",
      "soldpgfsupp_pgfutil-common-lists.tex))\n",
      "(/usr/local/texlive/2024/texmf-dist/tex/generic/pgfplots/util/pgfplotsutil.code\n",
      ".tex\n",
      "(/usr/local/texlive/2024/texmf-dist/tex/generic/pgfplots/liststructure/pgfplots\n",
      "liststructure.code.tex)\n",
      "(/usr/local/texlive/2024/texmf-dist/tex/generic/pgfplots/liststructure/pgfplots\n",
      "liststructureext.code.tex)\n",
      "(/usr/local/texlive/2024/texmf-dist/tex/generic/pgfplots/liststructure/pgfplots\n",
      "array.code.tex)\n",
      "(/usr/local/texlive/2024/texmf-dist/tex/generic/pgfplots/liststructure/pgfplots\n",
      "matrix.code.tex)\n",
      "(/usr/local/texlive/2024/texmf-dist/tex/generic/pgfplots/numtable/pgfplotstable\n",
      "shared.code.tex)\n",
      "(/usr/local/texlive/2024/texmf-dist/tex/generic/pgfplots/liststructure/pgfplots\n",
      "deque.code.tex)\n",
      "(/usr/local/texlive/2024/texmf-dist/tex/generic/pgfplots/util/pgfplotsbinary.co\n",
      "de.tex\n",
      "(/usr/local/texlive/2024/texmf-dist/tex/generic/pgfplots/util/pgfplotsbinary.da\n",
      "ta.code.tex))\n",
      "(/usr/local/texlive/2024/texmf-dist/tex/generic/pgfplots/util/pgfplotsutil.verb\n",
      ".code.tex)\n",
      "(/usr/local/texlive/2024/texmf-dist/tex/generic/pgfplots/libs/pgflibrarypgfplot\n",
      "s.surfshading.code.tex\n",
      "(/usr/local/texlive/2024/texmf-dist/tex/generic/pgfplots/sys/pgflibrarypgfplots\n",
      ".surfshading.pgfsys-pdftex.def)))\n",
      "(/usr/local/texlive/2024/texmf-dist/tex/generic/pgfplots/util/pgfplotscolormap.\n",
      "code.tex\n",
      "(/usr/local/texlive/2024/texmf-dist/tex/generic/pgfplots/util/pgfplotscolor.cod\n",
      "e.tex))\n",
      "(/usr/local/texlive/2024/texmf-dist/tex/generic/pgfplots/pgfplotsstackedplots.c\n",
      "ode.tex)\n",
      "(/usr/local/texlive/2024/texmf-dist/tex/generic/pgfplots/pgfplotsplothandlers.c\n",
      "ode.tex\n",
      "(/usr/local/texlive/2024/texmf-dist/tex/generic/pgfplots/pgfplotsmeshplothandle\n",
      "r.code.tex\n",
      "(/usr/local/texlive/2024/texmf-dist/tex/generic/pgfplots/pgfplotsmeshplotimage.\n",
      "code.tex)))\n",
      "(/usr/local/texlive/2024/texmf-dist/tex/generic/pgfplots/pgfplots.scaling.code.\n",
      "tex)\n",
      "(/usr/local/texlive/2024/texmf-dist/tex/generic/pgfplots/pgfplotscoordprocessin\n",
      "g.code.tex)\n",
      "(/usr/local/texlive/2024/texmf-dist/tex/generic/pgfplots/pgfplots.errorbars.cod\n",
      "e.tex)\n",
      "(/usr/local/texlive/2024/texmf-dist/tex/generic/pgfplots/pgfplots.markers.code.\n",
      "tex)\n",
      "(/usr/local/texlive/2024/texmf-dist/tex/generic/pgfplots/pgfplotsticks.code.tex\n",
      ")\n",
      "(/usr/local/texlive/2024/texmf-dist/tex/generic/pgfplots/pgfplots.paths.code.te\n",
      "x)\n",
      "(/usr/local/texlive/2024/texmf-dist/tex/generic/pgf/frontendlayer/tikz/librarie\n",
      "s/tikzlibrarydecorations.code.tex\n",
      "(/usr/local/texlive/2024/texmf-dist/tex/generic/pgf/modules/pgfmoduledecoration\n",
      "s.code.tex))\n",
      "(/usr/local/texlive/2024/texmf-dist/tex/generic/pgf/frontendlayer/tikz/librarie\n",
      "s/tikzlibrarydecorations.pathmorphing.code.tex\n",
      "(/usr/local/texlive/2024/texmf-dist/tex/generic/pgf/libraries/decorations/pgfli\n",
      "brarydecorations.pathmorphing.code.tex))\n",
      "(/usr/local/texlive/2024/texmf-dist/tex/generic/pgf/frontendlayer/tikz/librarie\n",
      "s/tikzlibrarydecorations.pathreplacing.code.tex\n",
      "(/usr/local/texlive/2024/texmf-dist/tex/generic/pgf/libraries/decorations/pgfli\n",
      "brarydecorations.pathreplacing.code.tex))\n",
      "(/usr/local/texlive/2024/texmf-dist/tex/generic/pgfplots/libs/tikzlibrarypgfplo\n",
      "ts.contourlua.code.tex))\n",
      "(/usr/local/texlive/2024/texmf-dist/tex/generic/pgf/frontendlayer/tikz/librarie\n",
      "s/tikzlibraryplotmarks.code.tex\n",
      "(/usr/local/texlive/2024/texmf-dist/tex/generic/pgf/libraries/pgflibraryplotmar\n",
      "ks.code.tex)))\n",
      "(/usr/local/texlive/2024/texmf-dist/tex/generic/pgfplots/libs/tikzlibrarypgfplo\n",
      "ts.fillbetween.code.tex\n",
      "(/usr/local/texlive/2024/texmf-dist/tex/generic/pgfplots/pgfcontrib/tikzlibrary\n",
      "fillbetween.code.tex\n",
      "(/usr/local/texlive/2024/texmf-dist/tex/generic/pgf/frontendlayer/tikz/librarie\n",
      "s/tikzlibraryintersections.code.tex\n",
      "(/usr/local/texlive/2024/texmf-dist/tex/generic/pgf/libraries/pgflibraryinterse\n",
      "ctions.code.tex))\n",
      "(/usr/local/texlive/2024/texmf-dist/tex/generic/pgfplots/pgfcontrib/tikzlibrary\n",
      "decorations.softclip.code.tex\n",
      "(/usr/local/texlive/2024/texmf-dist/tex/generic/pgfplots/pgfcontrib/pgflibraryf\n",
      "illbetween.code.tex)))\n",
      "(/usr/local/texlive/2024/texmf-dist/tex/generic/pgfplots/libs/tikzlibrarypgfplo\n",
      "ts.decorations.softclip.code.tex))\n",
      "(/usr/local/texlive/2024/texmf-dist/tex/generic/pgf/frontendlayer/tikz/librarie\n",
      "s/tikzlibrarypatterns.code.tex\n",
      "(/usr/local/texlive/2024/texmf-dist/tex/generic/pgf/libraries/pgflibrarypattern\n",
      "s.code.tex))\n",
      "(/usr/local/texlive/2024/texmf-dist/tex/generic/pgf/libraries/pgflibraryarrows.\n",
      "meta.code.tex)\n",
      "(/usr/local/texlive/2024/texmf-dist/tex/generic/pgf/frontendlayer/tikz/librarie\n",
      "s/tikzlibrarypositioning.code.tex)\n",
      "(/usr/local/texlive/2024/texmf-dist/tex/generic/pgf/frontendlayer/tikz/librarie\n",
      "s/tikzlibraryautomata.code.tex\n",
      "(/usr/local/texlive/2024/texmf-dist/tex/generic/pgf/frontendlayer/tikz/librarie\n",
      "s/tikzlibraryshapes.multipart.code.tex\n",
      "(/usr/local/texlive/2024/texmf-dist/tex/generic/pgf/libraries/shapes/pgflibrary\n",
      "shapes.multipart.code.tex)))\n",
      "(/usr/local/texlive/2024/texmf-dist/tex/latex/amsmath/amsmath.sty\n",
      "For additional information on amsmath, use the `?' option.\n",
      "(/usr/local/texlive/2024/texmf-dist/tex/latex/amsmath/amstext.sty\n",
      "(/usr/local/texlive/2024/texmf-dist/tex/latex/amsmath/amsgen.sty))\n",
      "(/usr/local/texlive/2024/texmf-dist/tex/latex/amsmath/amsbsy.sty)\n",
      "(/usr/local/texlive/2024/texmf-dist/tex/latex/amsmath/amsopn.sty))\n",
      "(/usr/local/texlive/2024/texmf-dist/tex/latex/tools/enumerate.sty)\n",
      "(/usr/local/texlive/2024/texmf-dist/tex/latex/setspace/setspace.sty)\n",
      "(/usr/local/texlive/2024/texmf-dist/tex/latex/tools/array.sty)\n",
      "(/usr/local/texlive/2024/texmf-dist/tex/latex/multirow/multirow.sty)\n",
      "(/usr/local/texlive/2024/texmf-dist/tex/latex/tools/tabularx.sty)\n",
      "(/usr/local/texlive/2024/texmf-dist/tex/latex/booktabs/booktabs.sty)\n",
      "(/usr/local/texlive/2024/texmf-dist/tex/latex/l3packages/xfp/xfp.sty\n",
      "(/usr/local/texlive/2024/texmf-dist/tex/latex/l3kernel/expl3.sty\n",
      "(/usr/local/texlive/2024/texmf-dist/tex/latex/l3backend/l3backend-pdftex.def)))\n",
      " (/usr/local/texlive/2024/texmf-dist/tex/latex/enumitem/enumitem.sty)\n",
      "(/usr/local/texlive/2024/texmf-dist/tex/latex/parskip/parskip.sty\n",
      "(/usr/local/texlive/2024/texmf-dist/tex/latex/kvoptions/kvoptions.sty\n",
      "(/usr/local/texlive/2024/texmf-dist/tex/generic/ltxcmds/ltxcmds.sty)\n",
      "(/usr/local/texlive/2024/texmf-dist/tex/latex/kvsetkeys/kvsetkeys.sty))\n",
      "(/usr/local/texlive/2024/texmf-dist/tex/latex/etoolbox/etoolbox.sty))\n",
      "(/usr/local/texlive/2024/texmf-dist/tex/latex/psnfss/pifont.sty\n",
      "(/usr/local/texlive/2024/texmf-dist/tex/latex/psnfss/upzd.fd)\n",
      "(/usr/local/texlive/2024/texmf-dist/tex/latex/psnfss/upsy.fd))\n",
      "(/usr/local/texlive/2024/texmf-dist/tex/latex/wasysym/wasysym.sty)\n",
      "(/usr/local/texlive/2024/texmf-dist/tex/latex/amsfonts/amssymb.sty\n",
      "(/usr/local/texlive/2024/texmf-dist/tex/latex/amsfonts/amsfonts.sty))\n",
      "(/usr/local/texlive/2024/texmf-dist/tex/latex/hyperref/hyperref.sty\n",
      "(/usr/local/texlive/2024/texmf-dist/tex/generic/kvdefinekeys/kvdefinekeys.sty)\n",
      "(/usr/local/texlive/2024/texmf-dist/tex/generic/pdfescape/pdfescape.sty\n",
      "(/usr/local/texlive/2024/texmf-dist/tex/generic/pdftexcmds/pdftexcmds.sty\n",
      "(/usr/local/texlive/2024/texmf-dist/tex/generic/infwarerr/infwarerr.sty)))\n",
      "(/usr/local/texlive/2024/texmf-dist/tex/latex/hycolor/hycolor.sty)\n",
      "(/usr/local/texlive/2024/texmf-dist/tex/latex/auxhook/auxhook.sty)\n",
      "(/usr/local/texlive/2024/texmf-dist/tex/latex/hyperref/nameref.sty\n",
      "(/usr/local/texlive/2024/texmf-dist/tex/latex/refcount/refcount.sty)\n",
      "(/usr/local/texlive/2024/texmf-dist/tex/generic/gettitlestring/gettitlestring.s\n",
      "ty)) (/usr/local/texlive/2024/texmf-dist/tex/latex/hyperref/pd1enc.def)\n",
      "(/usr/local/texlive/2024/texmf-dist/tex/generic/intcalc/intcalc.sty)\n",
      "(/usr/local/texlive/2024/texmf-dist/tex/latex/hyperref/puenc.def)\n",
      "(/usr/local/texlive/2024/texmf-dist/tex/latex/url/url.sty)\n",
      "(/usr/local/texlive/2024/texmf-dist/tex/generic/bitset/bitset.sty\n",
      "(/usr/local/texlive/2024/texmf-dist/tex/generic/bigintcalc/bigintcalc.sty))\n",
      "(/usr/local/texlive/2024/texmf-dist/tex/latex/base/atbegshi-ltx.sty))\n",
      "(/usr/local/texlive/2024/texmf-dist/tex/latex/hyperref/hpdftex.def\n",
      "(/usr/local/texlive/2024/texmf-dist/tex/latex/base/atveryend-ltx.sty)\n",
      "(/usr/local/texlive/2024/texmf-dist/tex/latex/rerunfilecheck/rerunfilecheck.sty\n",
      "\n",
      "(/usr/local/texlive/2024/texmf-dist/tex/generic/uniquecounter/uniquecounter.sty\n",
      "))) (./hw02.aux)\n",
      "*geometry* driver: auto-detecting\n",
      "*geometry* detected driver: pdftex\n",
      "(/usr/local/texlive/2024/texmf-dist/tex/context/base/mkii/supp-pdf.mkii\n",
      "[Loading MPS to PDF converter (version 2006.09.02).]\n",
      ") (/usr/local/texlive/2024/texmf-dist/tex/latex/epstopdf-pkg/epstopdf-base.sty\n",
      "(/usr/local/texlive/2024/texmf-dist/tex/latex/latexconfig/epstopdf-sys.cfg))\n",
      "Package pgfplots notification 'compat/show suggested version=true': you might b\n",
      "enefit from \\pgfplotsset{compat=1.18} (current compat level: 1.11).\n",
      "\n",
      "(./hw02.out) (./hw02.out)\n",
      "(/usr/local/texlive/2024/texmf-dist/tex/latex/wasysym/uwasy.fd)\n",
      "(/usr/local/texlive/2024/texmf-dist/tex/latex/amsfonts/umsa.fd)\n",
      "(/usr/local/texlive/2024/texmf-dist/tex/latex/amsfonts/umsb.fd)\n",
      "Overfull \\hbox (30.0pt too wide) in paragraph at lines 45--49\n",
      "[]$[]$ \n",
      "\n",
      "Overfull \\hbox (30.0pt too wide) in paragraph at lines 50--66\n",
      "[]$[]$ \n",
      "\n",
      "Overfull \\hbox (30.0pt too wide) in paragraph at lines 67--83\n",
      "[]$[]$ \n",
      "\n",
      "Overfull \\hbox (30.0pt too wide) in paragraph at lines 84--101\n",
      "[]$[]$ \n",
      "\n",
      "Overfull \\hbox (30.0pt too wide) in paragraph at lines 102--118\n",
      "[]$[]$ \n",
      "[1{/usr/local/texlive/2024/texmf-var/fonts/map/pdftex/updmap/pdftex.map}]\n",
      "Overfull \\hbox (30.0pt too wide) in paragraph at lines 119--135\n",
      "[]$[]$ \n",
      "\n",
      "Overfull \\hbox (30.0pt too wide) in paragraph at lines 136--153\n",
      "[]$[]$ \n",
      "\n",
      "Underfull \\hbox (badness 10000) in paragraph at lines 157--158\n",
      "\n",
      "\n",
      "Overfull \\hbox (30.0pt too wide) in paragraph at lines 154--177\n",
      "[]$[]$ \n",
      "[2] [3] (./hw02.aux) )\n",
      "(see the transcript file for additional information)</usr/local/texlive/2024/te\n",
      "xmf-dist/fonts/type1/public/amsfonts/cm/cmmi10.pfb></usr/local/texlive/2024/tex\n",
      "mf-dist/fonts/type1/public/amsfonts/cm/cmr10.pfb></usr/local/texlive/2024/texmf\n",
      "-dist/fonts/type1/public/amsfonts/cm/cmr6.pfb></usr/local/texlive/2024/texmf-di\n",
      "st/fonts/type1/public/amsfonts/cm/cmr8.pfb></usr/local/texlive/2024/texmf-dist/\n",
      "fonts/type1/public/amsfonts/cm/cmsy10.pfb>\n",
      "Output written on hw02.pdf (3 pages, 58437 bytes).\n",
      "Transcript written on hw02.log.\n"
     ]
    }
   ],
   "source": [
    "doc.print_pdf(filename, \"tex\")"
   ]
  }
 ],
 "metadata": {
  "kernelspec": {
   "display_name": "Python 3 (ipykernel)",
   "language": "python",
   "name": "python3"
  },
  "language_info": {
   "codemirror_mode": {
    "name": "ipython",
    "version": 3
   },
   "file_extension": ".py",
   "mimetype": "text/x-python",
   "name": "python",
   "nbconvert_exporter": "python",
   "pygments_lexer": "ipython3",
   "version": "3.10.5"
  }
 },
 "nbformat": 4,
 "nbformat_minor": 5
}
