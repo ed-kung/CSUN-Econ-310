{
 "cells": [
  {
   "cell_type": "code",
   "execution_count": 1,
   "id": "c22ce13f-1cf1-466a-afed-8d731d3fb548",
   "metadata": {},
   "outputs": [],
   "source": [
    "import os\n",
    "import numpy as np\n",
    "import pandas as pd\n",
    "from IPython.display import display, Markdown, Latex\n",
    "\n",
    "import econtools\n",
    "from econtools.documents import Homework, RawLatex\n",
    "import utils2 as u2\n",
    "\n",
    "OUTPUT_DIR = \"./tex\"\n",
    "TITLE = \"Econ 310 Week 2 Problem Set\"\n",
    "DUE_DATE = \"Tuesday 2/4\"\n",
    "FILENAME = \"ec310-hw02\"\n",
    "\n",
    "doc = Homework(\n",
    "    title = TITLE,\n",
    "    due_date = DUE_DATE\n",
    ")\n",
    "rng = np.random.default_rng(102)"
   ]
  },
  {
   "cell_type": "code",
   "execution_count": 2,
   "id": "2e966254-1716-408c-b695-d0fbd8ee14a8",
   "metadata": {},
   "outputs": [],
   "source": [
    "TYPE = 'LinearMarketProblem'\n",
    "params = {'ad':120,'bd':1,'as':15,'bs':0.5}\n",
    "problem = u2.load_problem(TYPE, params, rng=rng)\n",
    "doc.add(u2.get_multipart_sa(problem,setup_id=0,question_ids=[0,1]))"
   ]
  },
  {
   "cell_type": "code",
   "execution_count": 3,
   "id": "fd3f97f5-f060-451e-9a19-4dcd4b0906b9",
   "metadata": {},
   "outputs": [],
   "source": [
    "TYPE = 'ExponentialMarketProblem'\n",
    "params = {'ad':15, 'kd':-1/2, 'as':3, 'ks':1/2}\n",
    "problem = u2.load_problem(TYPE, params, rng=rng)\n",
    "doc.add(u2.get_multipart_sa(problem,setup_id=1,question_ids=[0,1]))"
   ]
  },
  {
   "cell_type": "code",
   "execution_count": 4,
   "id": "4c06c193-1ec8-4879-9b62-322ed990e7f2",
   "metadata": {},
   "outputs": [],
   "source": [
    "TYPE = 'ExponentialRewriteProblem'\n",
    "params = {'a':3, 'k':-2/3, 'y':5}\n",
    "problem = u2.load_problem(TYPE, params, rng=rng)\n",
    "doc.add(u2.get_multipart_sa(problem,setup_id=0,question_ids=[0,1]))"
   ]
  },
  {
   "cell_type": "code",
   "execution_count": 5,
   "id": "1c09b6f7-534a-4873-ab96-41b3d0a3a878",
   "metadata": {},
   "outputs": [],
   "source": [
    "TYPE = \"CobbDouglasSimplifyProblem\"\n",
    "problem = u2.load_problem(TYPE)\n",
    "doc.add(u2.get_single_sa(problem,setup_id=0,question_id=0))"
   ]
  },
  {
   "cell_type": "code",
   "execution_count": 6,
   "id": "55d88c13-72a0-4459-916f-f5dc9d007171",
   "metadata": {},
   "outputs": [],
   "source": [
    "TYPE = \"LogDifferencesProblem\"\n",
    "params = {'delta': -0.028}\n",
    "problem = u2.load_problem(TYPE, params)\n",
    "doc.add(u2.get_multipart_sa(problem,setup_id=0,question_ids=[0,1]))"
   ]
  },
  {
   "cell_type": "code",
   "execution_count": 7,
   "id": "8b9b8ddb-8f2e-431b-bfc3-04e300d173a4",
   "metadata": {},
   "outputs": [],
   "source": [
    "TYPE = \"QuadraticOptimizationProblem\"\n",
    "params = {'a':24, 'b':2, 'c':9}\n",
    "problem = u2.load_problem(TYPE, params)\n",
    "doc.add(u2.get_multipart_sa(problem,setup_id=0,question_ids=[0,1,2]))"
   ]
  },
  {
   "cell_type": "code",
   "execution_count": 8,
   "id": "c57b69ed-78b5-4ed1-995d-8648623497e1",
   "metadata": {},
   "outputs": [],
   "source": [
    "TYPE = \"QuadraticCostFirmProblem\"\n",
    "a, b, p = 2, 0.5, 6\n",
    "params = {'a':a, 'b':b, 'p':p}\n",
    "firm = u2.QuadraticCostFirm(a,b)\n",
    "problem = u2.load_problem(TYPE, params)\n",
    "problem.setup_list[0]['setup'] = fr\"\"\"\n",
    "A firm is deciding how many units of output to produce, \\(q\\). It can sell its output at a price of \\(p={p:g}\\). \n",
    "The firm's cost function is:\n",
    "$$ c(q) = {firm.print_cost_function()} $$\n",
    "\"\"\"\n",
    "doc.add(u2.get_multipart_sa(problem,setup_id=0,question_ids=[0,1,3,4]))"
   ]
  },
  {
   "cell_type": "code",
   "execution_count": 9,
   "id": "bf1162b3-5465-48b4-ac44-59e47faa0a99",
   "metadata": {},
   "outputs": [
    {
     "name": "stdout",
     "output_type": "stream",
     "text": [
      "{'a': 0, 'b': 1, 'p': 6}\n",
      "0:  A representative, price-taking firm decides how many units, \\(q\\), of a commodity to produce and sell at unit price \\(p\\). The firm's total cost function for producing \\(q\\) units is: $$ c(q) = \\frac{1}{2}q^{2} $$ \n",
      "\n",
      "0: Write down the firm's profit function.\n",
      "\n",
      "1: Write down the firm's first order condition.\n",
      "\n",
      "2: Write down the firm's supply curve.\n",
      "\n",
      "3: Calculate the choice of \\(q\\) that maximizes profit when price is \\(p=6\\).\n",
      "\n",
      "4: Calculate the maximum profit attained when price is \\(p=6\\).\n",
      "\n"
     ]
    }
   ],
   "source": [
    "u2.show_menu('QuadraticCostFirmProblem')\n",
    "#u2.PROBLEM_TYPES"
   ]
  },
  {
   "cell_type": "code",
   "execution_count": 10,
   "id": "d3c8b391-8cc1-49d3-8ce8-a2894533df71",
   "metadata": {},
   "outputs": [],
   "source": [
    "doc.print_pdf(FILENAME, OUTPUT_DIR)"
   ]
  }
 ],
 "metadata": {
  "kernelspec": {
   "display_name": "Python 3 (ipykernel)",
   "language": "python",
   "name": "python3"
  },
  "language_info": {
   "codemirror_mode": {
    "name": "ipython",
    "version": 3
   },
   "file_extension": ".py",
   "mimetype": "text/x-python",
   "name": "python",
   "nbconvert_exporter": "python",
   "pygments_lexer": "ipython3",
   "version": "3.12.8"
  }
 },
 "nbformat": 4,
 "nbformat_minor": 5
}
