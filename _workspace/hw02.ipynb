{
 "cells": [
  {
   "cell_type": "code",
   "execution_count": 1,
   "id": "c22ce13f-1cf1-466a-afed-8d731d3fb548",
   "metadata": {},
   "outputs": [],
   "source": [
    "import os\n",
    "import numpy as np\n",
    "import pandas as pd\n",
    "from IPython.display import display, Markdown, Latex\n",
    "\n",
    "import econtools\n",
    "from econtools.documents import Homework, RawLatex\n",
    "from utils import SupplyPoly, DemandPoly, DemandCE, SREQ, polyeq\n",
    "\n",
    "filename = \"hw02\"\n",
    "\n",
    "doc = Homework(\n",
    "    title = r\"Econ 310 Week 2 Homework\",\n",
    "    due_date = r\"Tuesday 9/10\"\n",
    ")\n"
   ]
  },
  {
   "cell_type": "code",
   "execution_count": 2,
   "id": "659e0942-b705-438d-954e-daf81a10f5fe",
   "metadata": {},
   "outputs": [
    {
     "data": {
      "text/latex": [
       "\n",
       "A price-taking firm produces a commodity that sells at price \\(p\\). The firm's cost function is:\n",
       "\n",
       "$$ c(q) = q^{ 2 } $$\n"
      ],
      "text/plain": [
       "<IPython.core.display.Latex object>"
      ]
     },
     "metadata": {},
     "output_type": "display_data"
    },
    {
     "data": {
      "text/plain": [
       "{'p': 10, 'q': 5.0, 'Q': 5.0, 'profit': 25.0, 'total_profit': 25.0}"
      ]
     },
     "execution_count": 2,
     "metadata": {},
     "output_type": "execute_result"
    }
   ],
   "source": [
    "prob = SupplyPoly({'a':0,'b':0,'c':1,'k':2,'M':1})\n",
    "p = 10\n",
    "setup = prob.setup()\n",
    "questions = fr\"\"\"\n",
    "\\begin{{enumerate}}[a.]\n",
    "\\item Write down the firm's supply curve.\n",
    "\\item Draw the supply curve.\n",
    "\\item What quantity of output will the firm produce if the price is {p}?\n",
    "\\item What is the profit when price is {p}?\n",
    "\\end{{enumerate}}\n",
    "\"\"\"\n",
    "latex = \"\\\\begin{q}\\n\" + setup + questions + \"\\\\end{q}\\n\"\n",
    "doc.add(RawLatex(latex))\n",
    "display(Latex(setup))\n",
    "prob.eval(p)"
   ]
  },
  {
   "cell_type": "code",
   "execution_count": 3,
   "id": "2bc73300-9eb0-4107-b9d2-242ba9d4b4ec",
   "metadata": {},
   "outputs": [
    {
     "data": {
      "text/latex": [
       "\n",
       "A price-taking firm produces a commodity that sells at price \\(p\\). The firm's cost function is:\n",
       "\n",
       "$$ c(q) = 5+5q+q^{ 4 } $$\n"
      ],
      "text/plain": [
       "<IPython.core.display.Latex object>"
      ]
     },
     "metadata": {},
     "output_type": "display_data"
    },
    {
     "data": {
      "text/plain": [
       "{'p': 30,\n",
       " 'q': 1.8420157493201932,\n",
       " 'Q': 1.8420157493201932,\n",
       " 'profit': 29.537795299753625,\n",
       " 'total_profit': 29.537795299753625}"
      ]
     },
     "execution_count": 3,
     "metadata": {},
     "output_type": "execute_result"
    }
   ],
   "source": [
    "prob = SupplyPoly({'a':5,'b':5,'c':1,'k':4,'M':1})\n",
    "p = 30\n",
    "setup = prob.setup()\n",
    "questions = fr\"\"\"\n",
    "\\begin{{enumerate}}[a.]\n",
    "\\item Write down the firm's supply curve.\n",
    "\\item What quantity of output will the firm produce if the price is {p}?\n",
    "\\item What is the profit when price is {p}?\n",
    "\\end{{enumerate}}\n",
    "\"\"\"\n",
    "latex = \"\\\\begin{q}\\n\" + setup + questions + \"\\\\end{q}\\n\"\n",
    "doc.add(RawLatex(latex))\n",
    "display(Latex(setup))\n",
    "prob.eval(p)"
   ]
  },
  {
   "cell_type": "code",
   "execution_count": 4,
   "id": "b6ff03a3-92f7-4e77-b889-92770df74d5f",
   "metadata": {},
   "outputs": [
    {
     "data": {
      "text/latex": [
       "\n",
       "There are \\(50\\) identical, price-taking firms that can produce a commodity which sells at price \\(p\\). Each firm's cost function is:\n",
       "\n",
       "$$ c(q) = 10q+\\frac{ 1 }{ 2 }q^{ 2 } $$\n"
      ],
      "text/plain": [
       "<IPython.core.display.Latex object>"
      ]
     },
     "metadata": {},
     "output_type": "display_data"
    }
   ],
   "source": [
    "prob = SupplyPoly({'a':0,'b':10,'c':0.5,'k':2,'M':50})\n",
    "p = 15\n",
    "setup = prob.setup()\n",
    "questions = r\"\"\"\n",
    "\\begin{{enumerate}}[a.]\n",
    "\\item Write down the supply curve of an individual firm.\n",
    "\\item Write down the market supply curve.\n",
    "\\item What is the total quantity produced (by all firms) if the price is {}?\n",
    "\\item What is the total profit (of all firms) if the price is {}?\n",
    "\\end{{enumerate}}\n",
    "\"\"\".format(p,p)\n",
    "latex = \"\\\\begin{q}\\n\" + setup + questions + \"\\\\end{q}\\n\"\n",
    "doc.add(RawLatex(latex))\n",
    "display(Latex(setup))"
   ]
  },
  {
   "cell_type": "code",
   "execution_count": 5,
   "id": "4872c1c3-ca5f-46b1-950e-2717ac71a53d",
   "metadata": {},
   "outputs": [
    {
     "data": {
      "text/latex": [
       "\n",
       "A price-taking consumer with income \\(Y=100\\) has utility over numeraire consumption \\(c\\) and a commodity \\(q\\) given by:\n",
       "\n",
       "$$ u(c,q) = c + 12q-q^{ 3 } $$\n"
      ],
      "text/plain": [
       "<IPython.core.display.Latex object>"
      ]
     },
     "metadata": {},
     "output_type": "display_data"
    },
    {
     "data": {
      "text/plain": [
       "{'p': 4,\n",
       " 'q': 1.632993161855452,\n",
       " 'Q': 1.632993161855452,\n",
       " 'utility': 108.70929686322908,\n",
       " 'total_utility': 108.70929686322908,\n",
       " 'c': 93.46802735257819}"
      ]
     },
     "execution_count": 5,
     "metadata": {},
     "output_type": "execute_result"
    }
   ],
   "source": [
    "prob = DemandPoly({'a':12,'b':1,'k':3,'Y':100,'N':1})\n",
    "p = 4\n",
    "setup = prob.setup()\n",
    "questions = fr\"\"\"\n",
    "\\begin{{enumerate}}[a.]\n",
    "\\item Write down the consumer's demand curve.\n",
    "\\item Draw the demand curve.\n",
    "\\item How much of the commodity will the consumer consume if the price is {p}?\n",
    "\\item What is consumer's utility when the price is {p}?\n",
    "\\end{{enumerate}}\n",
    "\"\"\"\n",
    "latex = \"\\\\begin{q}\\n\" + setup + questions + \"\\\\end{q}\\n\"\n",
    "doc.add(RawLatex(latex))\n",
    "display(Latex(setup))\n",
    "prob.eval(p)"
   ]
  },
  {
   "cell_type": "code",
   "execution_count": 6,
   "id": "41d42973-db30-4da2-a958-85aacba3d2cd",
   "metadata": {},
   "outputs": [
    {
     "data": {
      "text/latex": [
       "\n",
       "A price-taking consumer with income \\(Y=100\\) has utility over numeraire consumption \\(c\\) and a commodity \\(q\\) given by:\n",
       "\n",
       "$$ u(c,q) = c + 10q^{ 1 / 2 } $$\n"
      ],
      "text/plain": [
       "<IPython.core.display.Latex object>"
      ]
     },
     "metadata": {},
     "output_type": "display_data"
    },
    {
     "data": {
      "text/plain": [
       "{'p': 5,\n",
       " 'q': 1.0,\n",
       " 'Q': 1.0,\n",
       " 'utility': 105.0,\n",
       " 'total_utility': 105.0,\n",
       " 'c': 95.0}"
      ]
     },
     "execution_count": 6,
     "metadata": {},
     "output_type": "execute_result"
    }
   ],
   "source": [
    "prob = DemandCE({'a':10,'kn':1,'kd':2,'Y':100,'N':1})\n",
    "p = 5\n",
    "setup = prob.setup()\n",
    "questions = fr\"\"\"\n",
    "\\begin{{enumerate}}[a.]\n",
    "\\item Write down the consumer's demand curve.\n",
    "\\item How much of the commodity will the consumer consume if the price is {p}?\n",
    "\\item What is consumer's utility when the price is {p}?\n",
    "\\end{{enumerate}}\n",
    "\"\"\"\n",
    "latex = \"\\\\begin{q}\\n\" + setup + questions + \"\\\\end{q}\\n\"\n",
    "doc.add(RawLatex(latex))\n",
    "display(Latex(setup))\n",
    "prob.eval(p)"
   ]
  },
  {
   "cell_type": "code",
   "execution_count": 7,
   "id": "186b0b28-5d92-43e6-a87a-9f9dbdd60835",
   "metadata": {},
   "outputs": [
    {
     "data": {
      "text/latex": [
       "\n",
       "There are \\(100\\) identical, price-taking consumers with income \\(Y=100\\). Each consumer has utility over numeraire consumption \\(c\\) and a commodity \\(q\\) given by:\n",
       "\n",
       "$$ u(c,q) = c + 20q-q^{ 2 } $$\n"
      ],
      "text/plain": [
       "<IPython.core.display.Latex object>"
      ]
     },
     "metadata": {},
     "output_type": "display_data"
    },
    {
     "data": {
      "text/plain": [
       "{'p': 10,\n",
       " 'q': 5.0,\n",
       " 'Q': 500.0,\n",
       " 'utility': 125.0,\n",
       " 'total_utility': 12500.0,\n",
       " 'c': 50.0}"
      ]
     },
     "execution_count": 7,
     "metadata": {},
     "output_type": "execute_result"
    }
   ],
   "source": [
    "N = 100\n",
    "p = 10\n",
    "Y = 100\n",
    "a = 20\n",
    "b = 1\n",
    "k = 2\n",
    "prob = DemandPoly({'a':a,'b':b,'Y':Y,'k':k,'N':N})\n",
    "setup = prob.setup()\n",
    "questions = r\"\"\"\n",
    "\\begin{{enumerate}}[a.]\n",
    "\\item Write down the demand curve of an individual consumer.\n",
    "\\item Write down the market demand curve.\n",
    "\\item What is the total quantity produced (by all consumers) if the price is {}?\n",
    "\\item What is the total utility (of all consumers) if the price is {}?\n",
    "\\end{{enumerate}}\n",
    "\"\"\".format(p,p)\n",
    "latex = \"\\\\begin{q}\\n\" + setup + questions + \"\\\\end{q}\\n\"\n",
    "doc.add(RawLatex(latex))\n",
    "display(Latex(setup))\n",
    "prob.eval(p)"
   ]
  },
  {
   "cell_type": "code",
   "execution_count": 8,
   "id": "1548c53b-4ea2-49f1-9c8b-d8de7055f441",
   "metadata": {},
   "outputs": [
    {
     "data": {
      "text/latex": [
       "\n",
       "A commodity \\(q\\) is traded at price \\(p\\) in a competitive market with price-taking consumers and firms. \\\\\n",
       "        \n",
       "There are \\(960\\) identical consumers each with income \\(Y=100\\). Each consumer has a utility function over numeraire consumption \\(c\\) and commodity \\(q\\) given by:\n",
       "\n",
       "$$u(c,q) = c + 20q-q^{ 2 } $$\n",
       "\n",
       "There are \\(48\\) identical firms each with cost function given by:\n",
       "\n",
       "$$c(q) = \\frac{ 1 }{ 5 }q^{ 2 } $$\n"
      ],
      "text/plain": [
       "<IPython.core.display.Latex object>"
      ]
     },
     "metadata": {},
     "output_type": "display_data"
    }
   ],
   "source": [
    "df = pd.read_csv(\"SREQ_examples.csv\")\n",
    "params = dict(df.loc[(df['delta']==0)].sample(1, random_state=2).reset_index().loc[0])\n",
    "prob = SREQ(params)\n",
    "setup = prob.setup()\n",
    "questions = fr\"\"\"\n",
    "\\begin{{enumerate}}[a.]\n",
    "\\item Write down the market demand curve.\n",
    "\\item Write down the market supply curve.\n",
    "\\item What is the equilibrium price and total quantity traded?\n",
    "\\end{{enumerate}}\n",
    "\"\"\"\n",
    "latex = \"\\\\begin{q}\\n\" + setup + questions + \"\\\\end{q}\\n\"\n",
    "doc.add(RawLatex(latex))\n",
    "display(Latex(setup))\n"
   ]
  },
  {
   "cell_type": "code",
   "execution_count": 9,
   "id": "d3c8b391-8cc1-49d3-8ce8-a2894533df71",
   "metadata": {},
   "outputs": [],
   "source": [
    "doc.print_pdf(filename, \"tex\")"
   ]
  }
 ],
 "metadata": {
  "kernelspec": {
   "display_name": "Python 3 (ipykernel)",
   "language": "python",
   "name": "python3"
  },
  "language_info": {
   "codemirror_mode": {
    "name": "ipython",
    "version": 3
   },
   "file_extension": ".py",
   "mimetype": "text/x-python",
   "name": "python",
   "nbconvert_exporter": "python",
   "pygments_lexer": "ipython3",
   "version": "3.10.5"
  }
 },
 "nbformat": 4,
 "nbformat_minor": 5
}
