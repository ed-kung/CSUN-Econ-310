{
 "cells": [
  {
   "cell_type": "code",
   "execution_count": 1,
   "id": "0d7fffcb-3f3d-441c-92d0-a07d154b186d",
   "metadata": {},
   "outputs": [],
   "source": [
    "import numpy as np\n",
    "import pandas as pd\n",
    "from matplotlib import pyplot as plt\n",
    "from matplotlib import cm\n",
    "from IPython.display import display, Markdown, Latex\n",
    "import pickle\n",
    "\n",
    "SMALL_SIZE = 12\n",
    "MEDIUM_SIZE = 14\n",
    "LARGE_SIZE = 16\n",
    "\n",
    "plt.rcdefaults()\n",
    "plt.rcParams['text.usetex'] = True\n",
    "plt.rcParams['font.family'] = 'Helvetica'\n",
    "plt.rcParams['font.size'] = MEDIUM_SIZE\n",
    "plt.rcParams['axes.titlesize'] = LARGE_SIZE\n",
    "plt.rcParams['axes.labelsize'] = MEDIUM_SIZE\n",
    "plt.rcParams['xtick.labelsize'] = SMALL_SIZE\n",
    "plt.rcParams['ytick.labelsize'] = SMALL_SIZE\n",
    "plt.rcParams['legend.fontsize'] = MEDIUM_SIZE\n",
    "plt.rcParams['figure.titlesize'] = LARGE_SIZE\n",
    "plt.rcParams['figure.figsize'] = [7.2, 4.8]\n",
    "plt.rcParams['figure.dpi'] = 60\n",
    "plt.rcParams['figure.facecolor'] = (1.0, 1.0, 1.0, 0.0)\n",
    "\n",
    "from utils import LREQ, SREQ"
   ]
  },
  {
   "cell_type": "code",
   "execution_count": 2,
   "id": "02035f21-cb1a-42cf-9a5b-5ecb08f118ac",
   "metadata": {},
   "outputs": [],
   "source": [
    "prob = LREQ()"
   ]
  },
  {
   "cell_type": "code",
   "execution_count": 3,
   "id": "0a6dc247-eea3-4fc6-9b9e-ec6c79817ddb",
   "metadata": {},
   "outputs": [
    {
     "data": {
      "text/latex": [
       "\n",
       "A commodity $q$ is traded at price $p$ in a competitive market with price-taking consumers and firms. \\\\\n",
       "        \n",
       "There are $N$ identical consumers each with income $Y$. Each consumer has a utility function over numeraire consumption $c$ and commodity $q$ given by:\n",
       "\n",
       "$$u(c,q) = c + \\alpha q - \\tfrac{1}{2} \\beta q^2$$\n",
       "\n",
       "There are $M$ identical firms each with cost function given by:\n",
       "\n",
       "$$c(q) = \\gamma + \\delta q + \\tfrac{1}{2} \\eta q^2$$\n",
       "\n",
       "The number of firms is fixed in the short run, but in the long run firms can freely enter or exit the market. Thus, the number of firms is flexible in the long run.\n"
      ],
      "text/plain": [
       "<IPython.core.display.Latex object>"
      ]
     },
     "metadata": {},
     "output_type": "display_data"
    },
    {
     "data": {
      "text/latex": [
       "\n",
       "The general solutions are:\n",
       "\n",
       "$$q_s = \\sqrt{2\\gamma / \\eta}$$\n",
       "\n",
       "$$p = \\delta + \\eta q_s$$\n",
       "\n",
       "$$q_d = \\frac{\\alpha - p}{\\beta}$$\n"
      ],
      "text/plain": [
       "<IPython.core.display.Latex object>"
      ]
     },
     "metadata": {},
     "output_type": "display_data"
    }
   ],
   "source": [
    "display(Latex(prob.general_setup()))\n",
    "display(Latex(prob.general_solution()))"
   ]
  },
  {
   "cell_type": "code",
   "execution_count": 4,
   "id": "0a5300db-6442-42de-b3ba-33cc92640eaf",
   "metadata": {},
   "outputs": [
    {
     "name": "stdout",
     "output_type": "stream",
     "text": [
      "10000 examples found...\n",
      "20000 examples found...\n",
      "30000 examples found...\n",
      "40000 examples found...\n",
      "50000 examples found...\n",
      "60000 examples found...\n",
      "70000 examples found...\n",
      "80000 examples found...\n",
      "90000 examples found...\n",
      "100000 examples found...\n",
      "110000 examples found...\n",
      "120000 examples found...\n"
     ]
    }
   ],
   "source": [
    "sreq_examples = pd.read_csv(\"SREQ_examples.csv\")\n",
    "examples = []\n",
    "n_found = 0\n",
    "for idx, row in sreq_examples.iterrows():\n",
    "    eta = row['eta']\n",
    "    for gamma in (np.array([1,4,9,16,25,36,49,64])*eta/2):\n",
    "        params = dict(row.copy())\n",
    "        params['gamma'] = gamma\n",
    "        prob = LREQ(params)\n",
    "        if prob.check_solution():\n",
    "            n_found+=1\n",
    "            examples.append( prob.params | prob.sol )\n",
    "            if (n_found%10000==0):\n",
    "                print(f\"{n_found} examples found...\")\n",
    "examples = pd.DataFrame.from_dict(examples)\n",
    "examples = examples.drop_duplicates().reset_index(drop=True)\n",
    "examples.to_csv(\"LREQ_examples.csv\", header=True, index=False)"
   ]
  },
  {
   "cell_type": "code",
   "execution_count": 5,
   "id": "b76b72cf-2295-4682-a7c2-7abd5fc0662f",
   "metadata": {},
   "outputs": [
    {
     "data": {
      "text/latex": [
       "\n",
       "A commodity $q$ is traded at price $p$ in a competitive market with price-taking consumers and firms. \\\\\n",
       "        \n",
       "There are $6,000$ identical consumers each with income $Y=100$. Each consumer has a utility function over numeraire consumption $c$ and commodity $q$ given by:\n",
       "\n",
       "$$u(c,q) = c + 36q - 1.5q^2$$\n",
       "\n",
       "There are $M$ identical firms each with cost function given by:\n",
       "\n",
       "$$c(q) = 128 + q + 2q^2$$\n",
       "\n",
       "The number of firms is fixed in the short run, but in the long run firms can freely enter or exit the market. Thus, the number of firms is flexible in the long run.\n"
      ],
      "text/plain": [
       "<IPython.core.display.Latex object>"
      ]
     },
     "metadata": {},
     "output_type": "display_data"
    },
    {
     "name": "stdout",
     "output_type": "stream",
     "text": [
      "{'Q': 6000.0, 'p': 33.0, 'qd': 1.0, 'qs': 8.0, 'M': 750.0, 'c': 67.0, 'revenue': 264.0, 'cost': 264.0, 'profit': 0.0, 'total_profit': 0.0, 'utility': 101.5, 'total_utility': 609000.0, 'total_surplus': 609000.0}\n"
     ]
    }
   ],
   "source": [
    "idx = np.random.randint(len(examples))\n",
    "prob = LREQ(dict(examples.loc[idx]))\n",
    "display(Latex(prob.setup()))\n",
    "print(prob.sol)"
   ]
  },
  {
   "cell_type": "code",
   "execution_count": 6,
   "id": "93d55b72-e6a6-41e2-922b-b7579a289efd",
   "metadata": {},
   "outputs": [
    {
     "data": {
      "text/plain": [
       "0"
      ]
     },
     "execution_count": 6,
     "metadata": {},
     "output_type": "execute_result"
    }
   ],
   "source": [
    "examples.duplicated().sum()"
   ]
  }
 ],
 "metadata": {
  "kernelspec": {
   "display_name": "Python 3 (ipykernel)",
   "language": "python",
   "name": "python3"
  },
  "language_info": {
   "codemirror_mode": {
    "name": "ipython",
    "version": 3
   },
   "file_extension": ".py",
   "mimetype": "text/x-python",
   "name": "python",
   "nbconvert_exporter": "python",
   "pygments_lexer": "ipython3",
   "version": "3.10.6"
  }
 },
 "nbformat": 4,
 "nbformat_minor": 5
}
