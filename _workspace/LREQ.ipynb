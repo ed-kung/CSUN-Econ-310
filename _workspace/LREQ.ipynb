{
 "cells": [
  {
   "cell_type": "code",
   "execution_count": 1,
   "id": "0d7fffcb-3f3d-441c-92d0-a07d154b186d",
   "metadata": {},
   "outputs": [],
   "source": [
    "import numpy as np\n",
    "import pandas as pd\n",
    "from matplotlib import pyplot as plt\n",
    "from matplotlib import cm\n",
    "from IPython.display import display, Markdown, Latex\n",
    "import pickle\n",
    "\n",
    "SMALL_SIZE = 12\n",
    "MEDIUM_SIZE = 14\n",
    "LARGE_SIZE = 16\n",
    "\n",
    "plt.rcdefaults()\n",
    "plt.rcParams['text.usetex'] = True\n",
    "plt.rcParams['font.family'] = 'Helvetica'\n",
    "plt.rcParams['font.size'] = MEDIUM_SIZE\n",
    "plt.rcParams['axes.titlesize'] = LARGE_SIZE\n",
    "plt.rcParams['axes.labelsize'] = MEDIUM_SIZE\n",
    "plt.rcParams['xtick.labelsize'] = SMALL_SIZE\n",
    "plt.rcParams['ytick.labelsize'] = SMALL_SIZE\n",
    "plt.rcParams['legend.fontsize'] = MEDIUM_SIZE\n",
    "plt.rcParams['figure.titlesize'] = LARGE_SIZE\n",
    "plt.rcParams['figure.figsize'] = [7.2, 4.8]\n",
    "plt.rcParams['figure.dpi'] = 60\n",
    "plt.rcParams['figure.facecolor'] = (1.0, 1.0, 1.0, 0.0)\n",
    "\n",
    "from utils import LREQ, SREQ, get_random_prob"
   ]
  },
  {
   "cell_type": "code",
   "execution_count": 2,
   "id": "02035f21-cb1a-42cf-9a5b-5ecb08f118ac",
   "metadata": {},
   "outputs": [],
   "source": [
    "prob = LREQ()"
   ]
  },
  {
   "cell_type": "code",
   "execution_count": 3,
   "id": "0a6dc247-eea3-4fc6-9b9e-ec6c79817ddb",
   "metadata": {},
   "outputs": [
    {
     "data": {
      "text/latex": [
       "\n",
       "A commodity \\(q\\) is traded at price \\(p\\) in a competitive market with price-taking consumers and firms. \\\\\n",
       "        \n",
       "There are \\(N\\) identical consumers each with income \\(Y\\). Each consumer has a utility function over numeraire consumption \\(c\\) and commodity \\(q\\) given by:\n",
       "\n",
       "$$u(c,q) = c + \\alpha q - \\frac{1}{2} \\beta q^2$$\n",
       "\n",
       "There are \\(M\\) identical firms each with cost function given by:\n",
       "\n",
       "$$c(q) = \\gamma + \\delta q + \\frac{1}{2} \\eta q^2 $$\n",
       "\n",
       "The number of firms is fixed in the short run, but in the long run firms can freely enter or exit the market. Thus, the number of firms is flexible in the long run.\n",
       "\n",
       "The general solutions are:\n",
       "\n",
       "$$q_s = \\sqrt{2\\gamma / \\eta}$$\n",
       "\n",
       "$$p = \\delta + \\eta q_s$$\n",
       "\n",
       "$$q_d = \\frac{\\alpha - p}{\\beta}$$\n"
      ],
      "text/plain": [
       "<IPython.core.display.Latex object>"
      ]
     },
     "metadata": {},
     "output_type": "display_data"
    }
   ],
   "source": [
    "display(Latex(prob.general_setup()))"
   ]
  },
  {
   "cell_type": "code",
   "execution_count": 4,
   "id": "197c2a5f-27cc-4c14-8538-674dadff87de",
   "metadata": {},
   "outputs": [
    {
     "data": {
      "text/latex": [
       "\n",
       "A commodity \\(q\\) is traded at price \\(p\\) in a competitive market with price-taking consumers and firms. \\\\\n",
       "        \n",
       "There are \\(3,000\\) identical consumers each with income \\(Y=100\\). Each consumer has a utility function over numeraire consumption \\(c\\) and commodity \\(q\\) given by:\n",
       "\n",
       "$$u(c,q) = c + 10q-\\frac{ 1 }{ 2 }q^{ 2 } $$\n",
       "\n",
       "There are \\(M\\) identical firms each with cost function given by:\n",
       "\n",
       "$$c(q) = 32+\\frac{ 1 }{ 2 }q^{ 2 } $$\n",
       "\n",
       "The number of firms is fixed in the short run, but in the long run firms can freely enter or exit the market. Thus, the number of firms is flexible in the long run.\n"
      ],
      "text/plain": [
       "<IPython.core.display.Latex object>"
      ]
     },
     "metadata": {},
     "output_type": "display_data"
    },
    {
     "data": {
      "text/plain": [
       "{'Q': 6000.0,\n",
       " 'p': 8.0,\n",
       " 'qd': 2.0,\n",
       " 'qs': 8.0,\n",
       " 'M': 750.0,\n",
       " 'c': 84.0,\n",
       " 'revenue': 64.0,\n",
       " 'cost': 64.0,\n",
       " 'profit': 0.0,\n",
       " 'total_profit': 0.0,\n",
       " 'utility': 102.0,\n",
       " 'total_utility': 306000.0,\n",
       " 'total_surplus': 306000.0}"
      ]
     },
     "execution_count": 4,
     "metadata": {},
     "output_type": "execute_result"
    }
   ],
   "source": [
    "display(Latex(prob.setup()))\n",
    "prob.sol"
   ]
  },
  {
   "cell_type": "code",
   "execution_count": 5,
   "id": "0a5300db-6442-42de-b3ba-33cc92640eaf",
   "metadata": {},
   "outputs": [
    {
     "name": "stdout",
     "output_type": "stream",
     "text": [
      "10000 examples found...\n",
      "20000 examples found...\n",
      "30000 examples found...\n",
      "40000 examples found...\n",
      "50000 examples found...\n",
      "60000 examples found...\n",
      "66653 examples found.\n"
     ]
    }
   ],
   "source": [
    "sreq_examples = pd.read_csv(\"SREQ_examples.csv\")\n",
    "examples = []\n",
    "n_found = 0\n",
    "for idx, row in sreq_examples.iterrows():\n",
    "    eta = row['eta']\n",
    "    for gamma in (np.array([1,4,9,16,25,36,49,64])*eta/2):\n",
    "        params = dict(row.copy())\n",
    "        params['gamma'] = gamma\n",
    "        prob = LREQ(params)\n",
    "        if prob.check_solution():\n",
    "            n_found+=1\n",
    "            examples.append( prob.params | prob.sol )\n",
    "            if (n_found%10000==0):\n",
    "                print(f\"{n_found} examples found...\")\n",
    "examples = pd.DataFrame.from_dict(examples)\n",
    "examples = examples.drop_duplicates().reset_index(drop=True)\n",
    "examples.to_csv(\"LREQ_examples.csv\", header=True, index=False)\n",
    "print(f\"{len(examples)} examples found.\")"
   ]
  },
  {
   "cell_type": "code",
   "execution_count": 6,
   "id": "b76b72cf-2295-4682-a7c2-7abd5fc0662f",
   "metadata": {},
   "outputs": [
    {
     "data": {
      "text/latex": [
       "\n",
       "A commodity \\(q\\) is traded at price \\(p\\) in a competitive market with price-taking consumers and firms. \\\\\n",
       "        \n",
       "There are \\(500\\) identical consumers each with income \\(Y=100\\). Each consumer has a utility function over numeraire consumption \\(c\\) and commodity \\(q\\) given by:\n",
       "\n",
       "$$u(c,q) = c + 25q-\\frac{ 1 }{ 2 }q^{ 2 } $$\n",
       "\n",
       "There are \\(M\\) identical firms each with cost function given by:\n",
       "\n",
       "$$c(q) = 16+14q+q^{ 2 } $$\n",
       "\n",
       "The number of firms is fixed in the short run, but in the long run firms can freely enter or exit the market. Thus, the number of firms is flexible in the long run.\n"
      ],
      "text/plain": [
       "<IPython.core.display.Latex object>"
      ]
     },
     "metadata": {},
     "output_type": "display_data"
    },
    {
     "data": {
      "text/plain": [
       "{'Q': 1500.0,\n",
       " 'p': 22.0,\n",
       " 'qd': 3.0,\n",
       " 'qs': 4.0,\n",
       " 'M': 375.0,\n",
       " 'c': 34.0,\n",
       " 'revenue': 88.0,\n",
       " 'cost': 88.0,\n",
       " 'profit': 0.0,\n",
       " 'total_profit': 0.0,\n",
       " 'utility': 104.5,\n",
       " 'total_utility': 52250.0,\n",
       " 'total_surplus': 52250.0}"
      ]
     },
     "execution_count": 6,
     "metadata": {},
     "output_type": "execute_result"
    }
   ],
   "source": [
    "prob = get_random_prob(LREQ, \"LREQ_examples.csv\")\n",
    "display(Latex(prob.setup()))\n",
    "prob.sol"
   ]
  },
  {
   "cell_type": "code",
   "execution_count": 7,
   "id": "1a61a1a1-574a-48c6-b3ef-68a3bfba7a6e",
   "metadata": {},
   "outputs": [
    {
     "data": {
      "text/plain": [
       "1.0    28812\n",
       "2.0    17709\n",
       "4.0     6942\n",
       "0.4     6914\n",
       "0.2     6276\n",
       "Name: eta, dtype: int64"
      ]
     },
     "execution_count": 7,
     "metadata": {},
     "output_type": "execute_result"
    }
   ],
   "source": [
    "examples['eta'].value_counts()"
   ]
  }
 ],
 "metadata": {
  "kernelspec": {
   "display_name": "Python 3 (ipykernel)",
   "language": "python",
   "name": "python3"
  },
  "language_info": {
   "codemirror_mode": {
    "name": "ipython",
    "version": 3
   },
   "file_extension": ".py",
   "mimetype": "text/x-python",
   "name": "python",
   "nbconvert_exporter": "python",
   "pygments_lexer": "ipython3",
   "version": "3.10.5"
  }
 },
 "nbformat": 4,
 "nbformat_minor": 5
}
