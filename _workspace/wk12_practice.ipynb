{
 "cells": [
  {
   "cell_type": "code",
   "execution_count": 1,
   "id": "2b06770f-63e6-4bb8-8104-1850bcc82b73",
   "metadata": {},
   "outputs": [
    {
     "data": {
      "image/png": "[encoded data removed]",
      "text/plain": [
       "<Figure size 432x432 with 1 Axes>"
      ]
     },
     "metadata": {
      "needs_background": "light"
     },
     "output_type": "display_data"
    }
   ],
   "source": [
    "import os\n",
    "import numpy as np\n",
    "import pandas as pd\n",
    "from IPython.display import display, Markdown, Latex, HTML\n",
    "import json\n",
    "from utils import NormalForm, Cournot2, CournotN\n",
    "from utils import cbeq, polyeq, term, is_divisible, Number\n",
    "from matplotlib import pyplot as plt\n",
    "rng = np.random.default_rng(497)\n",
    "\n",
    "plt.plot()\n",
    "\n",
    "SMALL_SIZE = 14\n",
    "MEDIUM_SIZE = 16\n",
    "LARGE_SIZE = 18\n",
    "HUGE_SIZE = 20\n",
    "\n",
    "plt.rcdefaults()\n",
    "plt.rcParams['text.usetex'] = True\n",
    "plt.rcParams['font.family'] = 'Helvetica'\n",
    "plt.rcParams['font.size'] = MEDIUM_SIZE\n",
    "plt.rcParams['axes.titlesize'] = LARGE_SIZE\n",
    "plt.rcParams['axes.labelsize'] = MEDIUM_SIZE\n",
    "plt.rcParams['xtick.labelsize'] = MEDIUM_SIZE\n",
    "plt.rcParams['ytick.labelsize'] = MEDIUM_SIZE\n",
    "plt.rcParams['legend.fontsize'] = MEDIUM_SIZE\n",
    "plt.rcParams['figure.titlesize'] = LARGE_SIZE\n",
    "plt.rcParams['figure.figsize'] = [7.2, 7.2]\n",
    "plt.rcParams['figure.dpi'] = 60\n",
    "plt.rcParams['figure.facecolor'] = (1.0, 1.0, 1.0, 0.0)\n",
    "\n",
    "JSON_FILE = \"../assets/data/wk12_practice.json\"\n",
    "IMAGE_PATH = \"../assets/images/wk12\"\n",
    "probs = []\n",
    "nprob = 0"
   ]
  },
  {
   "cell_type": "code",
   "execution_count": 2,
   "id": "7a07f30e-aa8a-4e1c-9a96-63bdaa08b41e",
   "metadata": {},
   "outputs": [
    {
     "name": "stdout",
     "output_type": "stream",
     "text": [
      "40\n"
     ]
    }
   ],
   "source": [
    "# Game types\n",
    "df = pd.read_pickle(\"NormalForm_examples.pkl\")\n",
    "idx1 = df['gametype']==\"Prisoner's Dilemma\"\n",
    "idx2 = df['gametype']==\"Stag Hunt\"\n",
    "idx3 = df['gametype']==\"Chicken\"\n",
    "idx4 = df['gametype']==\"Rock Paper Scissors\"\n",
    "\n",
    "mydf = pd.concat([\n",
    "    df.loc[idx1].sample(10, random_state=rng),\n",
    "    df.loc[idx2].sample(10, random_state=rng),\n",
    "    df.loc[idx3].sample(10, random_state=rng),\n",
    "    df.loc[idx4].sample(10, random_state=rng)\n",
    "])\n",
    "for idx, row in mydf.iterrows():\n",
    "    params = row['params']\n",
    "    prob = NormalForm(params)\n",
    "    players = prob.players\n",
    "    strategies = prob.strategies\n",
    "    br = prob.br\n",
    "    ne = prob.ne\n",
    "    setup = fr\"\"\"\n",
    "<p>Consider the 2-player game described by the normal form below:</p>\n",
    "\"\"\"\n",
    "    setup += prob.table_as_html()\n",
    "    setup += fr\"\"\"\n",
    "<p>1. Write down the best response functions for each player.</p>\n",
    "<p>2. Find the Nash equilibria.</p>\n",
    "<p>3. Do the strategic dynamics of this game most resemble Prisoner's Dilemma, Stag Hunt, Chicken, or Rock Paper Scissors?</p>\n",
    "\"\"\"\n",
    "    solution = ''\n",
    "    for s2 in strategies[1]:\n",
    "        solution += fr\"<p>{players[0]}'s best response(s) to {players[1]} choosing {s2} are: {repr(br[players[0]][s2])}</p>\" + '\\n'\n",
    "    for s1 in strategies[0]:\n",
    "        solution += fr\"<p>{players[1]}'s best response(s) to {players[0]} choosing {s1} are: {repr(br[players[1]][s1])}</p>\" + '\\n'\n",
    "    solution += fr\"<p>There are {len(ne)} Nash equilibria: {repr(ne)}</p>\"\n",
    "    solution += fr\"<p>The game is most similar to {params['gametype']}.<p>\"\n",
    "    probs.append({'setup':setup, 'solution':solution})\n",
    "    nprob+=1\n",
    "print(len(probs))"
   ]
  },
  {
   "cell_type": "code",
   "execution_count": 3,
   "id": "be592082-2d0c-49a9-9947-e3a6d4502a68",
   "metadata": {},
   "outputs": [
    {
     "name": "stdout",
     "output_type": "stream",
     "text": [
      "70\n"
     ]
    }
   ],
   "source": [
    "# Game types\n",
    "df = pd.read_pickle(\"NormalForm_examples.pkl\")\n",
    "idx1 = df['gametype']==\"Generic 2x2\"\n",
    "idx2 = df['gametype']==\"Generic 3x3\"\n",
    "\n",
    "mydf = pd.concat([\n",
    "    df.loc[idx1].sample(15, random_state=rng),\n",
    "    df.loc[idx2].sample(15, random_state=rng),\n",
    "])\n",
    "for idx, row in mydf.iterrows():\n",
    "    params = row['params']\n",
    "    prob = NormalForm(params)\n",
    "    players = prob.players\n",
    "    strategies = prob.strategies\n",
    "    br = prob.br\n",
    "    ne = prob.ne\n",
    "    setup = fr\"\"\"\n",
    "<p>Consider the 2-player game described by the normal form below:</p>\n",
    "\"\"\"\n",
    "    setup += prob.table_as_html()\n",
    "    setup += fr\"\"\"\n",
    "<p>1. Write down the best response functions for each player.</p>\n",
    "<p>2. Find the Nash equilibria.</p>\n",
    "\"\"\"\n",
    "    solution = ''\n",
    "    for s2 in strategies[1]:\n",
    "        solution += fr\"<p>{players[0]}'s best response(s) to {players[1]} choosing {s2} are: {repr(br[players[0]][s2])}</p>\" + '\\n'\n",
    "    for s1 in strategies[0]:\n",
    "        solution += fr\"<p>{players[1]}'s best response(s) to {players[0]} choosing {s1} are: {repr(br[players[1]][s1])}</p>\" + '\\n'\n",
    "    solution += fr\"<p>There are {len(ne)} Nash equilibria: {repr(ne)}</p>\"\n",
    "    probs.append({'setup':setup, 'solution':solution})\n",
    "    nprob+=1\n",
    "print(len(probs))"
   ]
  },
  {
   "cell_type": "code",
   "execution_count": 4,
   "id": "6af2e649-f4e4-4488-83cc-5cc7566602bf",
   "metadata": {},
   "outputs": [
    {
     "name": "stdout",
     "output_type": "stream",
     "text": [
      "115\n"
     ]
    }
   ],
   "source": [
    "# Cournot with two firms\n",
    "df = pd.read_csv(\"Cournot2_examples.csv\")\n",
    "idx1 = (df['a1']==df['a2']) & (df['b1']==0) & (df['b2']==0) # no square terms, symmetric\n",
    "idx2 = (df['a1']==df['a2']) & (df['b1']==df['b2']) & (df['b1']>0) # with square terms, symmetric\n",
    "idx3 = (~idx1) & (~idx2)  # all else\n",
    "mydf = pd.concat([\n",
    "    df.loc[idx1].sample(10, random_state=rng),\n",
    "    df.loc[idx2].sample(10, random_state=rng),\n",
    "    df.loc[idx3].sample(25, random_state=rng)\n",
    "])\n",
    "for idx, row in mydf.iterrows():\n",
    "    params = dict(row).copy()\n",
    "    prob = Cournot2(params)\n",
    "    q1 = prob.sol['q1']\n",
    "    q2 = prob.sol['q2']\n",
    "    p = prob.sol['p']\n",
    "    profit1 = prob.sol['profit1']\n",
    "    profit2 = prob.sol['profit2']\n",
    "    setup = prob.setup()\n",
    "    setup += fr\"\"\"\n",
    "<p>Calculate the quantities chosen by each firm in the Nash equilibrium. Calculate the price in the Nash equilibrium. What profit does each firm make?</p>\n",
    "\"\"\"\n",
    "    solution = fr\"\"\"\n",
    "\\(q_1 = {q1:g}\\), \\(q_2 = {q2:g}\\), \\(p = {p:g}\\), \\(\\Pi_1 = {profit1:g}\\), \\(\\Pi_2 = {profit2:g}\\)\n",
    "\"\"\"\n",
    "    probs.append({'setup':setup, 'solution':solution})\n",
    "    nprob+=1\n",
    "print(len(probs))"
   ]
  },
  {
   "cell_type": "code",
   "execution_count": 5,
   "id": "65535f42-9bdb-4099-8146-138a218016fc",
   "metadata": {},
   "outputs": [
    {
     "name": "stdout",
     "output_type": "stream",
     "text": [
      "140\n"
     ]
    }
   ],
   "source": [
    "# Cournot with N firms\n",
    "df = pd.read_csv(\"CournotN_examples.csv\")\n",
    "idx1 = (df['N']>2) & (df['N']<10) # 2<N<10 firms\n",
    "idx2 = (df['N']>=10)\n",
    "mydf = pd.concat([\n",
    "    df.loc[idx1].sample(15, random_state=rng),\n",
    "    df.loc[idx2].sample(10, random_state=rng),\n",
    "])\n",
    "for idx, row in mydf.iterrows():\n",
    "    params = dict(row).copy()\n",
    "    prob = CournotN(params)\n",
    "    q = prob.sol['q']\n",
    "    p = prob.sol['p']\n",
    "    profit = prob.sol['profit']\n",
    "    setup = prob.setup()\n",
    "    setup += fr\"\"\"\n",
    "<p>Calculate the quantities chosen by each firm in the Nash equilibrium. Calculate the price in Nash equilibrium. What profit does each firm make?</p>\n",
    "\"\"\"\n",
    "    solution = fr\"\"\"\n",
    "\\(q_i = {q:g}\\), \\(p = {p:g}\\), \\(\\Pi_i = {profit:g}\\)\n",
    "\"\"\"\n",
    "    probs.append({'setup':setup, 'solution':solution})\n",
    "    nprob+=1\n",
    "print(len(probs))"
   ]
  },
  {
   "cell_type": "code",
   "execution_count": 6,
   "id": "c55d4467-8661-40b3-ad19-524f2feacca2",
   "metadata": {},
   "outputs": [],
   "source": [
    "with open(JSON_FILE, 'w') as f:\n",
    "    json.dump(probs, f)"
   ]
  },
  {
   "cell_type": "code",
   "execution_count": 7,
   "id": "c4e3e697-5232-45e1-86af-82bb39287878",
   "metadata": {},
   "outputs": [],
   "source": [
    "with open(JSON_FILE, 'r') as f:\n",
    "    myprobs = json.load(f)"
   ]
  },
  {
   "cell_type": "code",
   "execution_count": 8,
   "id": "334981b0-251c-4ede-acd4-7e00dab2dd32",
   "metadata": {},
   "outputs": [
    {
     "data": {
      "text/html": [
       "\n",
       "Consumers in a market for commodity \\(q\\) have a demand curve given by:\n",
       "\n",
       "$$ Q_d = 23-p $$\n",
       "\n",
       "The market is supplied by two firms. The cost function of firm 1 is:\n",
       "\n",
       "$$ c_1(q_1) = q_1+\\frac{ 1 }{ 2 }q_1^{ 2 } $$\n",
       "\n",
       "The cost function of firm 2 is:\n",
       "\n",
       "$$ c_2(q_2) = 5q_2+\\frac{ 1 }{ 2 }q_2^{ 2 } $$\n",
       "\n",
       "The firms engage in Cournot competition (i.e. they simultaneously decide how much quantity to produce; the market price is then determined by the total quantity produced by all firms).\n",
       "\n",
       "<p>Calculate the quantities chosen by each firm in the Nash equilibrium. Calculate the price in the Nash equilibrium. What profit does each firm make?</p>\n"
      ],
      "text/plain": [
       "<IPython.core.display.HTML object>"
      ]
     },
     "metadata": {},
     "output_type": "display_data"
    },
    {
     "data": {
      "text/html": [
       "\n",
       "\\(q_1 = 6\\), \\(q_2 = 4\\), \\(p = 13\\), \\(\\Pi_1 = 54\\), \\(\\Pi_2 = 24\\)\n"
      ],
      "text/plain": [
       "<IPython.core.display.HTML object>"
      ]
     },
     "metadata": {},
     "output_type": "display_data"
    }
   ],
   "source": [
    "prob = np.random.choice(myprobs)\n",
    "display(HTML(prob['setup']))\n",
    "display(HTML(prob['solution']))"
   ]
  }
 ],
 "metadata": {
  "kernelspec": {
   "display_name": "Python 3 (ipykernel)",
   "language": "python",
   "name": "python3"
  },
  "language_info": {
   "codemirror_mode": {
    "name": "ipython",
    "version": 3
   },
   "file_extension": ".py",
   "mimetype": "text/x-python",
   "name": "python",
   "nbconvert_exporter": "python",
   "pygments_lexer": "ipython3",
   "version": "3.10.6"
  }
 },
 "nbformat": 4,
 "nbformat_minor": 5
}
