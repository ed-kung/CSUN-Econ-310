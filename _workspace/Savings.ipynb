{
 "cells": [
  {
   "cell_type": "code",
   "execution_count": 1,
   "id": "df12c667-f8cc-4876-afdf-cddca13bfae7",
   "metadata": {},
   "outputs": [],
   "source": [
    "import numpy as np\n",
    "import pandas as pd\n",
    "from matplotlib import pyplot as plt\n",
    "from matplotlib import cm\n",
    "from IPython.display import display, Markdown, Latex\n",
    "import pickle\n",
    "rng = np.random.default_rng(654)\n",
    "\n",
    "SMALL_SIZE = 12\n",
    "MEDIUM_SIZE = 14\n",
    "LARGE_SIZE = 16\n",
    "\n",
    "plt.rcdefaults()\n",
    "plt.rcParams['text.usetex'] = True\n",
    "plt.rcParams['font.family'] = 'Helvetica'\n",
    "plt.rcParams['font.size'] = MEDIUM_SIZE\n",
    "plt.rcParams['axes.titlesize'] = LARGE_SIZE\n",
    "plt.rcParams['axes.labelsize'] = MEDIUM_SIZE\n",
    "plt.rcParams['xtick.labelsize'] = SMALL_SIZE\n",
    "plt.rcParams['ytick.labelsize'] = SMALL_SIZE\n",
    "plt.rcParams['legend.fontsize'] = MEDIUM_SIZE\n",
    "plt.rcParams['figure.titlesize'] = LARGE_SIZE\n",
    "plt.rcParams['figure.figsize'] = [7.2, 4.8]\n",
    "plt.rcParams['figure.dpi'] = 60\n",
    "plt.rcParams['figure.facecolor'] = (1.0, 1.0, 1.0, 0.0)\n",
    "\n",
    "from utils import Savings, get_random_prob\n"
   ]
  },
  {
   "cell_type": "code",
   "execution_count": 2,
   "id": "3563aed5-4b34-4b26-b165-0dcf845940f8",
   "metadata": {},
   "outputs": [],
   "source": [
    "prob = Savings()"
   ]
  },
  {
   "cell_type": "code",
   "execution_count": 3,
   "id": "db970bbd-e337-4d3c-bb3b-e39d955e7112",
   "metadata": {},
   "outputs": [
    {
     "data": {
      "text/latex": [
       "\n",
       "An individual lives for two periods. In period 1, he earns an income of \\(Y\\) and may buy bonds at a price of \\(p\\) per bond. After buying bonds, he consumes the rest of his income. In period 2, the individual does not earn an income, so his entire consumption must come from his bond purchases. Each bond purchased in period 1 pays \\(\\$1\\) in period 2.\n",
       "\n",
       "Relative to period 1, the individual discounts period 2 utility using a discount factor of \\(\\beta\\). Thus, the individual's presented discounted utility from period 1 consumption \\(c_1\\) and period 2 consumption \\(c_2\\) is:\n",
       "\n",
       "$$ u(c_1) + \\beta u(c_2) $$\n",
       "\n",
       "The optimization problem is:\n",
       "\n",
       "$$ \\max_{c_1, c_2} u(c_1) + \\beta u(c_2) ~ \\text{ s.t. } ~ c_1 + pc_2 = Y $$\n",
       "\n",
       "If \\(u(c) = \\ln c\\), then:\n",
       "\n",
       "$$c_2 = \\frac{\\beta Y}{p(1+\\beta)} $$\n",
       "\n",
       "If \\(u(c) = \\sqrt{c} \\), then:\n",
       "\n",
       "$$c_2 = \\frac{\\beta^2 Y}{ p \\left( p + \\beta^2 \\right) } $$\n"
      ],
      "text/plain": [
       "<IPython.core.display.Latex object>"
      ]
     },
     "metadata": {},
     "output_type": "display_data"
    }
   ],
   "source": [
    "display(Latex(prob.general_setup()))"
   ]
  },
  {
   "cell_type": "code",
   "execution_count": 4,
   "id": "7b24ea0a-2590-4cb2-ad0b-81970351ad7f",
   "metadata": {},
   "outputs": [
    {
     "data": {
      "text/latex": [
       "\n",
       "An individual lives for two periods. In period 1, he earns an income of \\(Y=1,000\\). In period 2, he earns no income. In order to consume in period 2, the person must buy bonds in period 1. A bond promises to pay \\(\\$1\\) per bond in period 2, and the price of a bond in period 1 is \\(p=0.95\\).\n",
       "\n",
       "The individual gets utility from consuming in each period. If he consumes a dollar amount \\(c_t\\) in period \\(t\\), the utility he gets is \\(u(c_t) = \\ln c_t\\).\n",
       "\n",
       "The individual's objective is to maximize his present value of time-discounted utility:\n",
       "\n",
       "$$ \\ln c_1 + \\beta \\ln c_2 $$\n",
       "\n",
       "where \\(\\beta = 0.95\\).\n"
      ],
      "text/plain": [
       "<IPython.core.display.Latex object>"
      ]
     },
     "metadata": {},
     "output_type": "display_data"
    },
    {
     "name": "stdout",
     "output_type": "stream",
     "text": [
      "{'fun': 'ln', 'Y': 1000, 'p': 0.95, 'beta': 0.95}\n",
      "{'c1': 512.8205128205129, 'c2': 512.8205128205128, 'r': 0.05263157894736836}\n",
      "True\n"
     ]
    }
   ],
   "source": [
    "display(Latex(prob.setup()))\n",
    "print(prob.params)\n",
    "print(prob.sol)\n",
    "print(prob.check_solutions())"
   ]
  },
  {
   "cell_type": "code",
   "execution_count": 5,
   "id": "15ddb811-f013-443b-a1d1-e5a655751a32",
   "metadata": {},
   "outputs": [
    {
     "name": "stdout",
     "output_type": "stream",
     "text": [
      "1000 eamples found...\n",
      "2000 eamples found...\n",
      "3000 eamples found...\n",
      "4000 eamples found...\n",
      "5000 eamples found...\n",
      "6000 eamples found...\n",
      "7000 eamples found...\n",
      "8000 eamples found...\n",
      "9000 eamples found...\n",
      "10000 eamples found...\n",
      "10000 examples found.\n"
     ]
    }
   ],
   "source": [
    "examples = []\n",
    "n_found = 0\n",
    "for fun in ['ln','sqrt']:\n",
    "    for i in range(5000):\n",
    "        Y = rng.integers(10,101)*np.random.choice([100,1000])\n",
    "        beta = rng.choice([0.8, 0.85, 0.9, 0.95, 0.98, 0.99, 1.0])\n",
    "        p = rng.choice([0.8, 0.85, 0.9, 0.95, 0.98, 0.99, 1.0])\n",
    "        params = {'fun':fun, 'Y':Y, 'beta':beta, 'p':p}\n",
    "        prob = Savings(params)\n",
    "        if prob.check_solutions():\n",
    "            examples.append(params | prob.sol)\n",
    "            n_found += 1\n",
    "            if (n_found%1000==0):\n",
    "                print(f\"{n_found} eamples found...\")\n",
    "examples = pd.DataFrame.from_dict(examples)\n",
    "examples.to_csv(\"Savings_examples.csv\", index=False, header=True)\n",
    "print(f\"{len(examples)} examples found.\")"
   ]
  },
  {
   "cell_type": "code",
   "execution_count": 6,
   "id": "9ef0aa89-9607-4a36-9a95-5427b10a8009",
   "metadata": {},
   "outputs": [
    {
     "data": {
      "text/latex": [
       "\n",
       "An individual lives for two periods. In period 1, he earns an income of \\(Y=7,700\\). In period 2, he earns no income. In order to consume in period 2, the person must buy bonds in period 1. A bond promises to pay \\(\\$1\\) per bond in period 2, and the price of a bond in period 1 is \\(p=0.98\\).\n",
       "\n",
       "The individual gets utility from consuming in each period. If he consumes a dollar amount \\(c_t\\) in period \\(t\\), the utility he gets is \\(u(c_t) = \\ln c_t\\).\n",
       "\n",
       "The individual's objective is to maximize his present value of time-discounted utility:\n",
       "\n",
       "$$ \\ln c_1 + \\beta \\ln c_2 $$\n",
       "\n",
       "where \\(\\beta = 1\\).\n"
      ],
      "text/plain": [
       "<IPython.core.display.Latex object>"
      ]
     },
     "metadata": {},
     "output_type": "display_data"
    },
    {
     "name": "stdout",
     "output_type": "stream",
     "text": [
      "{'fun': 'ln', 'Y': 7700, 'p': 0.98, 'beta': 1.0}\n",
      "{'c1': 3850.0, 'c2': 3928.5714285714284, 'r': 0.020408163265306145}\n",
      "True\n"
     ]
    }
   ],
   "source": [
    "myprob = get_random_prob(Savings, \"Savings_examples.csv\")\n",
    "display(Latex(myprob.setup()))\n",
    "print(myprob.params)\n",
    "print(myprob.sol)\n",
    "print(myprob.check_solutions())"
   ]
  },
  {
   "cell_type": "code",
   "execution_count": null,
   "id": "9c33c252-8a9a-4311-8f44-d7a55b86c796",
   "metadata": {},
   "outputs": [],
   "source": []
  }
 ],
 "metadata": {
  "kernelspec": {
   "display_name": "Python 3 (ipykernel)",
   "language": "python",
   "name": "python3"
  },
  "language_info": {
   "codemirror_mode": {
    "name": "ipython",
    "version": 3
   },
   "file_extension": ".py",
   "mimetype": "text/x-python",
   "name": "python",
   "nbconvert_exporter": "python",
   "pygments_lexer": "ipython3",
   "version": "3.12.7"
  }
 },
 "nbformat": 4,
 "nbformat_minor": 5
}
