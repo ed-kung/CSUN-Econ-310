{
 "cells": [
  {
   "cell_type": "code",
   "execution_count": 1,
   "id": "2b06770f-63e6-4bb8-8104-1850bcc82b73",
   "metadata": {},
   "outputs": [],
   "source": [
    "import os\n",
    "import numpy as np\n",
    "import pandas as pd\n",
    "from IPython.display import display, Markdown, Latex\n",
    "import json\n",
    "from utils import SREQ, LREQ\n",
    "from utils import cbeq, polyeq, term, is_divisible, Number\n",
    "\n",
    "JSON_FILE = \"../assets/data/wk04_practice.json\"\n",
    "probs = []"
   ]
  },
  {
   "cell_type": "code",
   "execution_count": 2,
   "id": "3ca795be-3aeb-4dad-9b10-d1c28605b226",
   "metadata": {},
   "outputs": [],
   "source": [
    "# Long run equilibrium\n",
    "\n",
    "df = pd.read_csv(\"LREQ_examples.csv\")\n",
    "mydf = pd.concat([\n",
    "    df.loc[ df['delta']==0 ].sample(50),\n",
    "    df.loc[ df['delta']>0 ].sample(50)\n",
    "])\n",
    "\n",
    "for idx, row in mydf.iterrows():\n",
    "    params = dict(row).copy()\n",
    "    prob = LREQ(params)\n",
    "    sol = prob.sol\n",
    "    setup = prob.setup() + fr\"\"\"\n",
    "<p>Find the long run equilibrium price, total quantity, and number of firms.</p>\n",
    "\"\"\"\n",
    "    solution = fr\"\"\"\n",
    "$$ p = {sol['p']:,g} $$\n",
    "\n",
    "$$ Q = {sol['Q']:,g} $$\n",
    "\n",
    "$$ M = {sol['M']:,g} $$\n",
    "\"\"\"\n",
    "    probs.append({'setup':setup, 'solution':solution})"
   ]
  },
  {
   "cell_type": "code",
   "execution_count": 3,
   "id": "63859980-939d-4c7f-a705-4fa91cb3a8dd",
   "metadata": {},
   "outputs": [],
   "source": [
    "# Demand shocks\n",
    "\n",
    "df = pd.read_csv(\"DemandShock_examples.csv\")\n",
    "mydf = pd.concat([\n",
    "    df.loc[ df['profit_sr']>0 ].sample(25),\n",
    "    df.loc[ df['profit_sr']<0 ].sample(25)\n",
    "])\n",
    "\n",
    "for idx, row in mydf.iterrows():\n",
    "    params0 = dict(row).copy()\n",
    "    params0['alpha'] = row['alpha1']\n",
    "    params0['M'] = row['M0']\n",
    "    sreq = SREQ(params0)\n",
    "\n",
    "    params1 = dict(row).copy()\n",
    "    params1['alpha'] = row['alpha1']\n",
    "    lreq = LREQ(params1)\n",
    "    \n",
    "    setup = sreq.setup() + fr\"\"\"\n",
    "The number of firms is fixed in the short run but can vary in the long run.\n",
    "\n",
    "<p>1. Find the short run equilibrium price and total quantity.</p>\n",
    "<p>2. Find the long run equilibrium price, total quantity, and number of firms.</p>\n",
    "\"\"\"\n",
    "    solution = fr\"\"\"\n",
    "Short run:\n",
    "\n",
    "$$ p = {sreq.sol['p']:,g} $$\n",
    "\n",
    "$$ Q = {sreq.sol['Q']:,g} $$\n",
    "\n",
    "Long run:\n",
    "\n",
    "$$ p = {lreq.sol['p']:,g} $$\n",
    "\n",
    "$$ Q = {lreq.sol['Q']:,g} $$\n",
    "\n",
    "$$ M = {lreq.sol['M']:,g} $$\n",
    "\"\"\"\n",
    "    probs.append({'setup':setup, 'solution':solution})    \n"
   ]
  },
  {
   "cell_type": "code",
   "execution_count": 4,
   "id": "9de96a5a-56e0-4a0f-8992-98f0d0777e5b",
   "metadata": {},
   "outputs": [],
   "source": [
    "# Cost shocks\n",
    "\n",
    "df = pd.read_csv(\"CostShock_examples.csv\")\n",
    "mydf = pd.concat([\n",
    "    df.loc[ df['profit_sr']>0 ].sample(25),\n",
    "    df.loc[ df['profit_sr']<0 ].sample(25)\n",
    "])\n",
    "\n",
    "for idx, row in mydf.iterrows():\n",
    "    params0 = dict(row).copy()\n",
    "    params0['delta'] = row['delta1']\n",
    "    params0['M'] = row['M0']\n",
    "    sreq = SREQ(params0)\n",
    "\n",
    "    params1 = dict(row).copy()\n",
    "    params1['delta'] = row['delta1']\n",
    "    lreq = LREQ(params1)\n",
    "    \n",
    "    setup = sreq.setup() + fr\"\"\"\n",
    "The number of firms is fixed in the short run but can vary in the long run.\n",
    "\n",
    "<p>1. Find the short run equilibrium price and total quantity.</p>\n",
    "<p>2. Find the long run equilibrium price, total quantity, and number of firms.</p>\n",
    "\"\"\"\n",
    "    solution = fr\"\"\"\n",
    "Short run:\n",
    "\n",
    "$$ p = {sreq.sol['p']:,g} $$\n",
    "\n",
    "$$ Q = {sreq.sol['Q']:,g} $$\n",
    "\n",
    "Long run:\n",
    "\n",
    "$$ p = {lreq.sol['p']:,g} $$\n",
    "\n",
    "$$ Q = {lreq.sol['Q']:,g} $$\n",
    "\n",
    "$$ M = {lreq.sol['M']:,g} $$\n",
    "\"\"\"\n",
    "    probs.append({'setup':setup, 'solution':solution})    \n"
   ]
  },
  {
   "cell_type": "code",
   "execution_count": 5,
   "id": "c55d4467-8661-40b3-ad19-524f2feacca2",
   "metadata": {},
   "outputs": [],
   "source": [
    "with open(JSON_FILE, 'w') as f:\n",
    "    json.dump(probs, f)"
   ]
  },
  {
   "cell_type": "code",
   "execution_count": 6,
   "id": "c4e3e697-5232-45e1-86af-82bb39287878",
   "metadata": {},
   "outputs": [],
   "source": [
    "with open(JSON_FILE, 'r') as f:\n",
    "    myprobs = json.load(f)"
   ]
  },
  {
   "cell_type": "code",
   "execution_count": 7,
   "id": "334981b0-251c-4ede-acd4-7e00dab2dd32",
   "metadata": {},
   "outputs": [
    {
     "data": {
      "text/latex": [
       "\n",
       "A commodity \\(q\\) is traded at price \\(p\\) in a competitive market with price-taking consumers and firms. \\\\\n",
       "        \n",
       "There are \\(6,000\\) identical consumers each with income \\(Y=100\\). Each consumer has a utility function over numeraire consumption \\(c\\) and commodity \\(q\\) given by:\n",
       "\n",
       "$$u(c,q) = c + 17q-q^{ 2 } $$\n",
       "\n",
       "There are \\(4,500\\) identical firms each with cost function given by:\n",
       "\n",
       "$$c(q) = 32+7q+\\frac{ 1 }{ 2 }q^{ 2 } $$\n",
       "\n",
       "The number of firms is fixed in the short run but can vary in the long run.\n",
       "\n",
       "<p>1. Find the short run equilibrium price and total quantity.</p>\n",
       "<p>2. Find the long run equilibrium price, total quantity, and number of firms.</p>\n"
      ],
      "text/plain": [
       "<IPython.core.display.Latex object>"
      ]
     },
     "metadata": {},
     "output_type": "display_data"
    },
    {
     "data": {
      "text/latex": [
       "\n",
       "Short run:\n",
       "\n",
       "$$ p = 11 $$\n",
       "\n",
       "$$ Q = 18,000 $$\n",
       "\n",
       "Long run:\n",
       "\n",
       "$$ p = 15 $$\n",
       "\n",
       "$$ Q = 6,000 $$\n",
       "\n",
       "$$ M = 750 $$\n"
      ],
      "text/plain": [
       "<IPython.core.display.Latex object>"
      ]
     },
     "metadata": {},
     "output_type": "display_data"
    }
   ],
   "source": [
    "prob = np.random.choice(myprobs)\n",
    "display(Latex(prob['setup']))\n",
    "display(Latex(prob['solution']))"
   ]
  },
  {
   "cell_type": "code",
   "execution_count": 8,
   "id": "d270645f-0aec-437b-a021-45bd4e787f9f",
   "metadata": {},
   "outputs": [
    {
     "data": {
      "text/plain": [
       "200"
      ]
     },
     "execution_count": 8,
     "metadata": {},
     "output_type": "execute_result"
    }
   ],
   "source": [
    "len(myprobs)"
   ]
  }
 ],
 "metadata": {
  "kernelspec": {
   "display_name": "Python 3 (ipykernel)",
   "language": "python",
   "name": "python3"
  },
  "language_info": {
   "codemirror_mode": {
    "name": "ipython",
    "version": 3
   },
   "file_extension": ".py",
   "mimetype": "text/x-python",
   "name": "python",
   "nbconvert_exporter": "python",
   "pygments_lexer": "ipython3",
   "version": "3.10.5"
  }
 },
 "nbformat": 4,
 "nbformat_minor": 5
}
