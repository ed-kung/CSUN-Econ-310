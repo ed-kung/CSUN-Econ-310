{
 "cells": [
  {
   "cell_type": "code",
   "execution_count": 1,
   "id": "3abd9ac5-5177-4dd3-90cf-d44385b5fb2f",
   "metadata": {},
   "outputs": [],
   "source": [
    "import os\n",
    "import numpy as np\n",
    "import pandas as pd\n",
    "from IPython.display import display, Markdown, Latex\n",
    "from matplotlib import pyplot as plt\n",
    "\n",
    "import econtools\n",
    "from econtools.documents import Homework, RawLatex\n",
    "import utils\n",
    "from utils import LREQ, SREQ, polyeq\n",
    "\n",
    "filename = \"hw04\"\n",
    "\n",
    "doc = Homework(\n",
    "    title = r\"Econ 310 Week 4 Homework\",\n",
    "    due_date = r\"Tuesday 9/24\"\n",
    ")\n",
    "\n"
   ]
  },
  {
   "cell_type": "code",
   "execution_count": 2,
   "id": "b776fd6b-acf6-4754-8169-87d97b0e67bc",
   "metadata": {},
   "outputs": [
    {
     "data": {
      "text/latex": [
       "\n",
       "A commodity $q$ is traded at price $p$ in a competitive market with price-taking consumers and firms. \\\\\n",
       "        \n",
       "There are $600$ identical consumers each with income $Y=80$. Each consumer has a utility function over numeraire consumption $c$ and commodity $q$ given by:\n",
       "\n",
       "$$u(c,q) = c + 17q - 0.5q^2$$\n",
       "\n",
       "There are $M$ identical firms each with cost function given by:\n",
       "\n",
       "$$c(q) = 2.5 + 0.1q^2$$\n",
       "\n",
       "The number of firms is fixed in the short run, but in the long run firms can freely enter or exit the market. Thus, the number of firms is flexible in the long run.\n"
      ],
      "text/plain": [
       "<IPython.core.display.Latex object>"
      ]
     },
     "metadata": {},
     "output_type": "display_data"
    },
    {
     "name": "stdout",
     "output_type": "stream",
     "text": [
      "\n",
      "\\begin{enumerate}[a.]\n",
      "\\item Write down the consumer's optimization problem.\n",
      "\\item Write down the consumer's first order condition.\n",
      "\\item Write down the firm's optimization problem.\n",
      "\\item Write down the firm's first order condition.\n",
      "\\item Write down the market equilibrium condition.\n",
      "\\item Write down the zero profit condition.\n",
      "\\item Solve for the long run equilibrium price, quantity, and number of firms.\n",
      "\\end{enumerate}\n",
      "\n",
      "\n",
      "Solutions:\n",
      "{'Q': 9600.0, 'p': 1.0, 'qd': 16.0, 'qs': 5.0, 'M': 1920.0, 'c': 64.0, 'revenue': 5.0, 'cost': 5.0, 'profit': 0.0, 'total_profit': 0.0, 'utility': 208.0, 'total_utility': 124800.0, 'total_surplus': 124800.0}\n"
     ]
    }
   ],
   "source": [
    "# Basic LREQ question\n",
    "\n",
    "df = pd.read_csv(\"LREQ_examples.csv\")\n",
    "df = df.loc[ df['delta']==0].reset_index(drop=True)\n",
    "params = dict(df.sample(1,random_state=2).reset_index(drop=True).loc[0])\n",
    "params['Y'] = 80\n",
    "prob = LREQ(params)\n",
    "\n",
    "setup = prob.setup()\n",
    "display(Latex(setup))\n",
    "\n",
    "questions = fr\"\"\"\n",
    "\\begin{{enumerate}}[a.]\n",
    "\\item Write down the consumer's optimization problem.\n",
    "\\item Write down the consumer's first order condition.\n",
    "\\item Write down the firm's optimization problem.\n",
    "\\item Write down the firm's first order condition.\n",
    "\\item Write down the market equilibrium condition.\n",
    "\\item Write down the zero profit condition.\n",
    "\\item Solve for the long run equilibrium price, quantity, and number of firms.\n",
    "\\end{{enumerate}}\n",
    "\"\"\"\n",
    "print(questions)\n",
    "\n",
    "latex = \"\\\\begin{q}\\n\" + setup + questions + \"\\\\end{q}\\n\"\n",
    "doc.add(RawLatex(latex))\n",
    "print(\"\\nSolutions:\")\n",
    "print(prob.sol)\n"
   ]
  },
  {
   "cell_type": "code",
   "execution_count": 3,
   "id": "74926ad9-b818-476c-8c93-3c3161d9ba2f",
   "metadata": {},
   "outputs": [
    {
     "data": {
      "text/latex": [
       "\n",
       "A commodity $q$ is traded at price $p$ in a competitive market with price-taking consumers and firms. \\\\\n",
       "        \n",
       "There are $160$ identical consumers each with income $Y=100$. Each consumer has a utility function over numeraire consumption $c$ and commodity $q$ given by:\n",
       "\n",
       "$$u(c,q) = c + 26q - 1.5q^2$$\n",
       "\n",
       "There are $32$ identical firms each with cost function given by:\n",
       "\n",
       "$$c(q) = 2.5 + 22q + 0.1q^2$$\n",
       "\n"
      ],
      "text/plain": [
       "<IPython.core.display.Latex object>"
      ]
     },
     "metadata": {},
     "output_type": "display_data"
    },
    {
     "name": "stdout",
     "output_type": "stream",
     "text": [
      "\n",
      "\\begin{enumerate}\n",
      "\\item[a.] Calculate the equilibrium price and quantity.\n",
      "\\item[b.] Calculate the total surplus (total utility + total profit) in equilibrium.\n",
      "\\item[c.] Is the market in long run equilibrium?\n",
      "\\end{enumerate}\n",
      "\n",
      "~ ~\n",
      "\n",
      "A new technology lowers the cost of production so that the new cost function is:\n",
      "\n",
      "$$c(q) = 2.5 + 10q + 0.1q^2$$\n",
      "\n",
      "\\begin{enumerate}\n",
      "\\item[d.] Calculate the new short run equilibrium price and quantity.\n",
      "\\item[e.] Calculate the total surplus in the new short run equilibrium.\n",
      "\\item[f.] Calculate the new long run equilibrium price, quantity, and number of firms.\n",
      "\\item[g.] Caculate the total surplus in the new long run equilibrium.\n",
      "\\end{enumerate}\n",
      "\n",
      "\n",
      "Time 0:\n",
      "{'Q': 160.0, 'p': 23.0, 'qd': 1.0, 'qs': 5.0, 'M': 32.0, 'c': 77.0, 'revenue': 115.0, 'cost': 115.0, 'profit': 0.0, 'total_profit': 0.0, 'utility': 101.5, 'total_utility': 16240.0, 'total_surplus': 16240.0}\n",
      "\n",
      "Time 1:\n",
      "{'Q': 640.0, 'p': 14.0, 'qd': 4.0, 'qs': 20.0, 'c': 44.0, 'revenue': 280.0, 'cost': 242.5, 'profit': 37.5, 'total_profit': 1200.0, 'utility': 124.0, 'total_utility': 19840.0, 'total_surplus': 21040.0}\n",
      "\n",
      "Time 2:\n",
      "{'Q': 800.0, 'p': 11.0, 'qd': 5.0, 'qs': 5.0, 'M': 160.0, 'c': 45.0, 'revenue': 55.0, 'cost': 55.0, 'profit': 0.0, 'total_profit': 0.0, 'utility': 137.5, 'total_utility': 22000.0, 'total_surplus': 22000.0}\n"
     ]
    }
   ],
   "source": [
    "# Cost shock question\n",
    "\n",
    "df = pd.read_csv(\"CostShock_examples.csv\")\n",
    "df = df.loc[df['profit_sr']>0].reset_index(drop=True)\n",
    "params = dict(df.sample(1,random_state=3).reset_index(drop=True).loc[0]).copy()\n",
    "\n",
    "lr_params_0 = params.copy()\n",
    "lr_params_0['delta'] = params['delta0']\n",
    "lreq0 = LREQ(lr_params_0)\n",
    "\n",
    "lr_params_1 = params.copy()\n",
    "lr_params_1['delta'] = params['delta1']\n",
    "lreq1 = LREQ(lr_params_1)\n",
    "\n",
    "sr_params_0 = params.copy()\n",
    "sr_params_0['M'] = lreq0.sol['M']\n",
    "sr_params_0['delta'] = params['delta0']\n",
    "sreq0 = SREQ(sr_params_0)\n",
    "\n",
    "sr_params_01 = params.copy()\n",
    "sr_params_01['M'] = lreq0.sol['M']\n",
    "sr_params_01['delta'] = params['delta1']\n",
    "sreq01 = SREQ(sr_params_01)\n",
    "\n",
    "setup = sreq0.setup()\n",
    "display(Latex(setup))\n",
    "\n",
    "questions = fr\"\"\"\n",
    "\\begin{{enumerate}}\n",
    "\\item[a.] Calculate the equilibrium price and quantity.\n",
    "\\item[b.] Calculate the total surplus (total utility + total profit) in equilibrium.\n",
    "\\item[c.] Is the market in long run equilibrium?\n",
    "\\end{{enumerate}}\n",
    "\n",
    "~ ~\n",
    "\n",
    "A new technology lowers the cost of production so that the new cost function is:\n",
    "\n",
    "$$c(q) = {polyeq('q', [params['gamma'],params['delta1'],0.5*params['eta']])}$$\n",
    "\n",
    "\\begin{{enumerate}}\n",
    "\\item[d.] Calculate the new short run equilibrium price and quantity.\n",
    "\\item[e.] Calculate the total surplus in the new short run equilibrium.\n",
    "\\item[f.] Calculate the new long run equilibrium price, quantity, and number of firms.\n",
    "\\item[g.] Caculate the total surplus in the new long run equilibrium.\n",
    "\\end{{enumerate}}\n",
    "\"\"\"\n",
    "print(questions)\n",
    "\n",
    "latex = \"\\\\begin{q}\\n\" + setup + questions + \"\\\\end{q}\\n\"\n",
    "doc.add(RawLatex(latex))\n",
    "\n",
    "print(\"\\nTime 0:\")\n",
    "print(lreq0.sol)\n",
    "\n",
    "print(\"\\nTime 1:\")\n",
    "print(sreq01.sol)\n",
    "\n",
    "print(\"\\nTime 2:\")\n",
    "print(lreq1.sol)\n",
    "\n"
   ]
  },
  {
   "cell_type": "code",
   "execution_count": 8,
   "id": "fe7dfec1-fff2-4642-9575-d06bf09983b5",
   "metadata": {},
   "outputs": [
    {
     "data": {
      "text/latex": [
       "\n",
       "A commodity $q$ is traded at price $p$ in a competitive market with price-taking consumers and firms. \\\\\n",
       "        \n",
       "There are $N$ identical consumers each with income $Y$. Each consumer has a utility function over numeraire consumption $c$ and commodity $q$ given by:\n",
       "\n",
       "$$u(c,q) = c + \\alpha q - \\tfrac{1}{2} \\beta q^2$$\n",
       "\n",
       "There are $M$ identical firms each with cost function given by:\n",
       "\n",
       "$$c(q) = \\gamma + \\delta q + \\tfrac{1}{2} \\eta q^2$$\n",
       "\n",
       "The number of firms is fixed in the short run, but in the long run firms can freely enter or exit the market. Thus, the number of firms is flexible in the long run.\n"
      ],
      "text/plain": [
       "<IPython.core.display.Latex object>"
      ]
     },
     "metadata": {},
     "output_type": "display_data"
    },
    {
     "data": {
      "text/latex": [
       "\n",
       "General solutions are:\n",
       "\n",
       "$$ p = \\delta + \\sqrt{2 \\gamma \\eta} $$\n",
       "\n",
       "$$ U = Y + \\frac{1}{2\\beta} \\left(\\alpha - \\sqrt{2 \\gamma \\eta} - \\delta\\right)^2 $$\n"
      ],
      "text/plain": [
       "<IPython.core.display.Latex object>"
      ]
     },
     "metadata": {},
     "output_type": "display_data"
    }
   ],
   "source": [
    "## Analytical Question General Setup\n",
    "\n",
    "display(Latex(LREQ().general_setup()))\n",
    "\n",
    "solutions = r\"\"\"\n",
    "General solutions are:\n",
    "\n",
    "$$ p = \\delta + \\sqrt{2 \\gamma \\eta} $$\n",
    "\n",
    "$$ U = Y + \\frac{1}{2\\beta} \\left(\\alpha - \\sqrt{2 \\gamma \\eta} - \\delta\\right)^2 $$\n",
    "\"\"\"\n",
    "\n",
    "display(Latex(solutions))\n"
   ]
  },
  {
   "cell_type": "code",
   "execution_count": 10,
   "id": "34f5dd71-ed66-4dcc-adfb-c0e48555d410",
   "metadata": {},
   "outputs": [
    {
     "data": {
      "text/latex": [
       "\n",
       "A commodity $q$ is traded at price $p$ in a competitive market with price-taking consumers and firms. \\\\\n",
       "        \n",
       "There are $100$ identical consumers each with income $Y=50$. Each consumer has a utility function over numeraire consumption $c$ and commodity $q$ given by:\n",
       "\n",
       "$$u(c,q) = c + 12q - 0.5q^2$$\n",
       "\n",
       "There are $M$ identical firms each with cost function given by:\n",
       "\n",
       "$$c(q) = 2 + \\delta + 0.5q^2$$\n",
       "\n",
       "The number of firms is fixed in the short run, but in the long run firms can freely enter or exit the market. Thus, the number of firms is flexible in the long run.\n"
      ],
      "text/plain": [
       "<IPython.core.display.Latex object>"
      ]
     },
     "metadata": {},
     "output_type": "display_data"
    }
   ],
   "source": [
    "# Analytical question\n",
    "\n",
    "params = {'N':100, 'Y':50, 'alpha':12, 'beta':1, 'gamma':2, 'delta':0, 'eta':1}\n",
    "prob = LREQ(params)\n",
    "\n",
    "setup = utils.LREQ_SETUP.format(\n",
    "    f\"{params['N']:,.0f}\", \n",
    "    f\"Y={params['Y']:,.0f}\",\n",
    "    polyeq('q', [0, params['alpha'], -0.5*params['beta']]),\n",
    "    \"M\",\n",
    "    r\"2 + \\delta + 0.5q^2\"\n",
    ")\n",
    "display(Latex(setup))\n"
   ]
  },
  {
   "cell_type": "code",
   "execution_count": null,
   "id": "1e37527d-e209-4066-984f-da19cab4b0e4",
   "metadata": {},
   "outputs": [],
   "source": [
    "#doc.print_pdf(filename, \"tex\")"
   ]
  }
 ],
 "metadata": {
  "kernelspec": {
   "display_name": "Python 3 (ipykernel)",
   "language": "python",
   "name": "python3"
  },
  "language_info": {
   "codemirror_mode": {
    "name": "ipython",
    "version": 3
   },
   "file_extension": ".py",
   "mimetype": "text/x-python",
   "name": "python",
   "nbconvert_exporter": "python",
   "pygments_lexer": "ipython3",
   "version": "3.10.6"
  }
 },
 "nbformat": 4,
 "nbformat_minor": 5
}
