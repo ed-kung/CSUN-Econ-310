{
 "cells": [
  {
   "cell_type": "code",
   "execution_count": 1,
   "id": "c047a86b-2714-4ec7-93c3-db89cd57df0d",
   "metadata": {},
   "outputs": [],
   "source": [
    "import os\n",
    "import numpy as np\n",
    "import pandas as pd\n",
    "from IPython.display import display, Markdown, Latex\n",
    "import json\n",
    "import utils2 as u2\n",
    "from matplotlib import pyplot as plt\n",
    "\n",
    "SMALL_SIZE = 14\n",
    "MEDIUM_SIZE = 16\n",
    "LARGE_SIZE = 18\n",
    "HUGE_SIZE = 20\n",
    "\n",
    "plt.rcdefaults()\n",
    "plt.rcParams['text.usetex'] = True\n",
    "plt.rcParams['font.family'] = 'Helvetica'\n",
    "plt.rcParams['font.size'] = MEDIUM_SIZE\n",
    "plt.rcParams['axes.titlesize'] = LARGE_SIZE\n",
    "plt.rcParams['axes.labelsize'] = MEDIUM_SIZE\n",
    "plt.rcParams['xtick.labelsize'] = MEDIUM_SIZE\n",
    "plt.rcParams['ytick.labelsize'] = MEDIUM_SIZE\n",
    "plt.rcParams['legend.fontsize'] = MEDIUM_SIZE\n",
    "plt.rcParams['figure.titlesize'] = LARGE_SIZE\n",
    "plt.rcParams['figure.figsize'] = [7.2, 7.2]\n",
    "plt.rcParams['figure.dpi'] = 60\n",
    "plt.rcParams['figure.facecolor'] = (1.0, 1.0, 1.0, 0.0)\n",
    "\n",
    "JSON_FILE = \"../assets/data/lec06_practice.json\"\n",
    "PROBLEM_NAME = \"lec06_practice_{}\"\n",
    "IMAGE_PATH = \"../assets/images/graphs\"\n",
    "probs = []\n",
    "nprob = 0\n",
    "\n",
    "rng = np.random.default_rng(105)"
   ]
  },
  {
   "cell_type": "code",
   "execution_count": 2,
   "id": "5e9a90e9-48f0-460f-9c80-17053bce9eb7",
   "metadata": {},
   "outputs": [],
   "source": [
    "TYPE = \"GeneralEquilibriumProblem\"\n",
    "df = pd.read_csv(f\"{TYPE}.csv\")\n",
    "get_ids = [True]*len(df)\n",
    "for idx, row in df.loc[get_ids].sample(40,random_state=rng).iterrows():\n",
    "    params = dict(row.copy())\n",
    "    name = PROBLEM_NAME.format(nprob)\n",
    "    prob = u2.load_problem(TYPE, params=params, rng=rng, name=name)\n",
    "    online_format = u2.get_online_format(prob, setup_id=0, question_ids=[0,1,2,3,4,5,6])\n",
    "    probs.append(online_format)\n",
    "    nprob+=1"
   ]
  },
  {
   "cell_type": "code",
   "execution_count": 3,
   "id": "2833ab9f-222d-4090-a3b8-e810531c2479",
   "metadata": {},
   "outputs": [],
   "source": [
    "with open(JSON_FILE, 'w') as f:\n",
    "    json.dump(probs, f)"
   ]
  },
  {
   "cell_type": "code",
   "execution_count": 4,
   "id": "420827d8-5526-40b7-994b-042124d3097c",
   "metadata": {},
   "outputs": [
    {
     "name": "stdout",
     "output_type": "stream",
     "text": [
      "<p>\n",
      "<p>\n",
      "A representative, price-taking consumer decides how many units, \\(q\\), of a commodity to purchase at unit price \\(p\\). The utility\n",
      "they receive for purchasing \\(q\\) units at price \\(p\\) is:\n",
      "$$ u(q) = 24\\ln q - pq $$\n",
      "</p>\n",
      "        \n",
      "<p>\n",
      "A representative, price-taking worker decides how many units, \\(L\\), of labor to supply (e.g. how many hours to work), at a unit wage \\(w\\).\n",
      "The worker's utility function over working \\(L\\) labor-units at wage \\(w\\) is:\n",
      "\n",
      "$$ u(L) = wL-\\frac{3}{2}L^{2} $$\n",
      "</p>\n",
      "\n",
      "<p>\n",
      "A representative, price-taking firm uses labor to produce and sell a commodity at unit price \\(p\\). The firm hires labor at a constant wage rate \\(w\\). If the firm employs \\(L\\) units of labor, it can produce \\(f(L)\\) units of commodity output, where:\n",
      "\n",
      "$$ f(L) = 6L^{1/2} $$\n",
      "</p>\n",
      "</p>\n",
      "<p>1. Calculate the equilibrium quantity of labor supplied, \\(L\\).</p>\n",
      "<p>2. Calculate the equilibrium quantity of commodity produced, \\(q\\).</p>\n",
      "<p>3. Calculate the equilibrium wage rate \\(w\\).</p>\n",
      "<p>4. Calculate the equilibrium commodity price \\(p\\).</p>\n",
      "<p>5. Calculate the equilibrium utility of the consumer.</p>\n",
      "<p>6. Calculate the equilibrium utility of the worker.</p>\n",
      "<p>7. Calculate the equilibrium profit of the firm.</p>\n",
      "\n"
     ]
    }
   ],
   "source": [
    "print(online_format['setup'])"
   ]
  }
 ],
 "metadata": {
  "kernelspec": {
   "display_name": "Python 3 (ipykernel)",
   "language": "python",
   "name": "python3"
  },
  "language_info": {
   "codemirror_mode": {
    "name": "ipython",
    "version": 3
   },
   "file_extension": ".py",
   "mimetype": "text/x-python",
   "name": "python",
   "nbconvert_exporter": "python",
   "pygments_lexer": "ipython3",
   "version": "3.10.6"
  }
 },
 "nbformat": 4,
 "nbformat_minor": 5
}
