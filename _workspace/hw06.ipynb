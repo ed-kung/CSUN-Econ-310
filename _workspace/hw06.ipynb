{
 "cells": [
  {
   "cell_type": "code",
   "execution_count": 1,
   "id": "3abd9ac5-5177-4dd3-90cf-d44385b5fb2f",
   "metadata": {},
   "outputs": [
    {
     "data": {
      "image/png": "[encoded data removed]",
      "text/plain": [
       "<Figure size 432x288 with 1 Axes>"
      ]
     },
     "metadata": {
      "needs_background": "light"
     },
     "output_type": "display_data"
    }
   ],
   "source": [
    "import os\n",
    "import numpy as np\n",
    "import pandas as pd\n",
    "from IPython.display import display, Markdown, Latex\n",
    "from matplotlib import pyplot as plt\n",
    "\n",
    "import econtools\n",
    "from econtools.documents import Homework, RawLatex\n",
    "from utils import CobbDouglasIC, CobbDouglasConsumer\n",
    "from utils import cbeq, polyeq, term, is_divisible, Number\n",
    "\n",
    "plt.plot()\n",
    "\n",
    "SMALL_SIZE = 14\n",
    "MEDIUM_SIZE = 16\n",
    "LARGE_SIZE = 18\n",
    "HUGE_SIZE = 20\n",
    "\n",
    "plt.rcdefaults()\n",
    "plt.rcParams['text.usetex'] = True\n",
    "plt.rcParams['font.family'] = 'Helvetica'\n",
    "plt.rcParams['font.size'] = MEDIUM_SIZE\n",
    "plt.rcParams['axes.titlesize'] = LARGE_SIZE\n",
    "plt.rcParams['axes.labelsize'] = MEDIUM_SIZE\n",
    "plt.rcParams['xtick.labelsize'] = MEDIUM_SIZE\n",
    "plt.rcParams['ytick.labelsize'] = MEDIUM_SIZE\n",
    "plt.rcParams['legend.fontsize'] = MEDIUM_SIZE\n",
    "plt.rcParams['figure.titlesize'] = LARGE_SIZE\n",
    "plt.rcParams['figure.figsize'] = [7.2, 7.2]\n",
    "plt.rcParams['figure.dpi'] = 60\n",
    "plt.rcParams['figure.facecolor'] = (1.0, 1.0, 1.0, 0.0)\n",
    "\n",
    "filename = \"econ-310-hw06\"\n",
    "\n",
    "doc = Homework(\n",
    "    title = r\"Econ 310 Week 6 Homework\",\n",
    "    due_date = r\"Tuesday 10/8\"\n",
    ")\n"
   ]
  },
  {
   "cell_type": "code",
   "execution_count": 2,
   "id": "066846a3-97d1-4f83-b0cb-fe941af8382a",
   "metadata": {},
   "outputs": [],
   "source": [
    "question = fr\"\"\"\n",
    "$$ f(x,y) = \\frac{{1}}{{2}} x^{{2/3}} y^{{1/3}} $$\n",
    "\n",
    "Write down an equation describing the contour line for $f(x,y) = z$.\n",
    "\"\"\"\n",
    "latex = \"\\\\begin{q}\\n\" + question + \"\\\\end{q}\\n\"\n",
    "doc.add(RawLatex(latex))"
   ]
  },
  {
   "cell_type": "code",
   "execution_count": 3,
   "id": "9f31c1fe-989d-4d61-8783-46f3fc120416",
   "metadata": {},
   "outputs": [
    {
     "data": {
      "image/png": "[encoded data removed]",
      "text/plain": [
       "<Figure size 432x432 with 1 Axes>"
      ]
     },
     "metadata": {
      "needs_background": "light"
     },
     "output_type": "display_data"
    }
   ],
   "source": [
    "fig, ax = plt.subplots()\n",
    "ax.set_ylabel(r'$y$')\n",
    "ax.set_xlabel(r'$x$')\n",
    "ax.set_xticks(np.arange(0,110,10))\n",
    "ax.set_yticks(np.arange(0,110,10))\n",
    "ax.set_xlim([0,110])\n",
    "ax.set_ylim([0,110])\n",
    "ax.set_axisbelow(True)\n",
    "plt.grid(alpha=0.2)\n",
    "plt.savefig('tex/hw06_graph1.png', bbox_inches='tight')\n",
    "plt.show()\n",
    "\n",
    "question = fr\"\"\"\n",
    "$$ f(x,y) = x + 2y $$\n",
    "\n",
    "\\begin{{enumerate}}[a.]\n",
    "\\item Write down an equation describing the contour line for $f(x,y) = z$.\n",
    "\\item Using the grid below, draw the contour lines for levels $z = 20, 40, 60, 80, 100$.\n",
    "\\end{{enumerate}}\n",
    "\n",
    "\\begin{{center}}\n",
    "\\includegraphics[width=3in]{{hw06_graph1.png}}\n",
    "\\end{{center}}\n",
    "\"\"\"\n",
    "latex = \"\\\\begin{q}\\n\" + question + \"\\\\end{q}\\n\"\n",
    "doc.add(RawLatex(latex))"
   ]
  },
  {
   "cell_type": "code",
   "execution_count": 4,
   "id": "833fad21-758c-448b-904d-bff94f1990b9",
   "metadata": {},
   "outputs": [],
   "source": [
    "question = fr\"\"\"\n",
    "$$ f(x,y) = x^{{3/4}} y^{{1/4}} $$\n",
    "\n",
    "Write down the partial derivatives of $f(x,y)$ with respect to $x$ and $y$.\n",
    "\"\"\"\n",
    "latex = \"\\\\begin{q}\\n\" + question + \"\\\\end{q}\\n\"\n",
    "doc.add(RawLatex(latex))"
   ]
  },
  {
   "cell_type": "code",
   "execution_count": 5,
   "id": "28eac094-8670-4118-914d-1eb5ad798c00",
   "metadata": {},
   "outputs": [],
   "source": [
    "question = fr\"\"\"\n",
    "$$ f(x,y) = 8x - x^2 + 12y - y^3 $$\n",
    "\n",
    "\\begin{{enumerate}}[a.]\n",
    "\\item Write down the first order conditions.\n",
    "\\item Find the choice of $x$ and $y$ that maximizes $f(x,y)$.\n",
    "\\end{{enumerate}}\n",
    "\"\"\"\n",
    "latex = \"\\\\begin{q}\\n\" + question + \"\\\\end{q}\\n\"\n",
    "doc.add(RawLatex(latex))"
   ]
  },
  {
   "cell_type": "code",
   "execution_count": 6,
   "id": "2de0b33b-48eb-41fe-a3fe-d712d52826a4",
   "metadata": {},
   "outputs": [],
   "source": [
    "question = fr\"\"\"\n",
    "Consider the optimization problem:\n",
    "\n",
    "$$ \\max_{{x,y}} ~ xy ~ \\text{{s.t.}} ~ 4x + 3y = 42 $$\n",
    "\n",
    "\\begin{{enumerate}}[a.]\n",
    "\\item Write down the two first order conditions.\n",
    "\\item Find the values of $x$ and $y$ which solve the problem.\n",
    "\\end{{enumerate}}\n",
    "\"\"\"\n",
    "latex = \"\\\\begin{q}\\n\" + question + \"\\\\end{q}\\n\"\n",
    "doc.add(RawLatex(latex))\n"
   ]
  },
  {
   "cell_type": "code",
   "execution_count": 7,
   "id": "d75c7c3f-d023-4730-9784-abf21f5a0dcd",
   "metadata": {},
   "outputs": [],
   "source": [
    "question = fr\"\"\"\n",
    "Consider the optimization problem:\n",
    "\n",
    "$$ \\max_{{x,y}} ~ x^{{3/4}} y^{{1/4}} ~ \\text{{s.t.}} ~ 2x + 3y = 72 $$\n",
    "\n",
    "\\begin{{enumerate}}[a.]\n",
    "\\item Write down the two first order conditions.\n",
    "\\item Find the values of $x$ and $y$ which solve the problem.\n",
    "\\end{{enumerate}}\n",
    "\"\"\"\n",
    "latex = \"\\\\begin{q}\\n\" + question + \"\\\\end{q}\\n\"\n",
    "doc.add(RawLatex(latex))\n"
   ]
  },
  {
   "cell_type": "code",
   "execution_count": 8,
   "id": "1e37527d-e209-4066-984f-da19cab4b0e4",
   "metadata": {},
   "outputs": [],
   "source": [
    "doc.print_pdf(filename, \"tex\")"
   ]
  }
 ],
 "metadata": {
  "kernelspec": {
   "display_name": "Python 3 (ipykernel)",
   "language": "python",
   "name": "python3"
  },
  "language_info": {
   "codemirror_mode": {
    "name": "ipython",
    "version": 3
   },
   "file_extension": ".py",
   "mimetype": "text/x-python",
   "name": "python",
   "nbconvert_exporter": "python",
   "pygments_lexer": "ipython3",
   "version": "3.10.5"
  }
 },
 "nbformat": 4,
 "nbformat_minor": 5
}
