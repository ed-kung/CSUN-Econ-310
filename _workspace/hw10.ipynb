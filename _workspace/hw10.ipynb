{
 "cells": [
  {
   "cell_type": "code",
   "execution_count": 1,
   "id": "c22ce13f-1cf1-466a-afed-8d731d3fb548",
   "metadata": {},
   "outputs": [],
   "source": [
    "import os\n",
    "import numpy as np\n",
    "import pandas as pd\n",
    "from IPython.display import display, Markdown, Latex\n",
    "\n",
    "import econtools\n",
    "from econtools.documents import Homework, RawLatex, Multipart\n",
    "import utils2 as u2\n",
    "from matplotlib import pyplot as plt\n",
    "\n",
    "SMALL_SIZE = 14\n",
    "MEDIUM_SIZE = 16\n",
    "LARGE_SIZE = 18\n",
    "HUGE_SIZE = 20\n",
    "\n",
    "plt.rcdefaults()\n",
    "plt.rcParams['text.usetex'] = True\n",
    "plt.rcParams['font.family'] = 'Helvetica'\n",
    "plt.rcParams['font.size'] = MEDIUM_SIZE\n",
    "plt.rcParams['axes.titlesize'] = LARGE_SIZE\n",
    "plt.rcParams['axes.labelsize'] = MEDIUM_SIZE\n",
    "plt.rcParams['xtick.labelsize'] = MEDIUM_SIZE\n",
    "plt.rcParams['ytick.labelsize'] = MEDIUM_SIZE\n",
    "plt.rcParams['legend.fontsize'] = MEDIUM_SIZE\n",
    "plt.rcParams['figure.titlesize'] = LARGE_SIZE\n",
    "plt.rcParams['figure.figsize'] = [7.2, 7.2]\n",
    "plt.rcParams['figure.dpi'] = 60\n",
    "plt.rcParams['figure.facecolor'] = (1.0, 1.0, 1.0, 0.0)\n",
    "\n",
    "OUTPUT_DIR = \"./tex\"\n",
    "IMAGE_PATH = \"./tex\"\n",
    "TITLE = \"Econ 310 Week 10 Problem Set\"\n",
    "DUE_DATE = \"Tuesday 4/1\"\n",
    "FILENAME = \"ec310-hw10\"\n",
    "\n",
    "doc = Homework(\n",
    "    title = TITLE,\n",
    "    due_date = DUE_DATE\n",
    ")\n",
    "rng = np.random.default_rng(110)\n",
    "\n",
    "nprob = 0"
   ]
  },
  {
   "cell_type": "code",
   "execution_count": 2,
   "id": "090ffda7-5e67-4f1b-a77a-d3c3522edda5",
   "metadata": {},
   "outputs": [],
   "source": [
    "TYPE = 'CobbDouglasWorkerProblem'\n",
    "df = pd.read_csv(f\"{TYPE}.csv\")\n",
    "params = dict(df.sample(1,random_state=rng).iloc[0])\n",
    "name = fr\"{FILENAME}-{nprob}\"\n",
    "problem = u2.load_problem(TYPE, params, rng=rng, name=name)\n",
    "doc.add(u2.get_multipart_sa(problem,setup_id=0,question_ids=[0,1,2]))\n",
    "nprob+=1\n",
    "problem.setup_axis.draw(saveas=f\"{IMAGE_PATH}/{name}_setup.png\")\n",
    "plt.close()"
   ]
  },
  {
   "cell_type": "code",
   "execution_count": 3,
   "id": "a8ffc540-9b00-4198-b6de-68090c4cdf2d",
   "metadata": {},
   "outputs": [],
   "source": [
    "TYPE = 'WageChangeProblem'\n",
    "df = pd.read_csv(f\"{TYPE}.csv\")\n",
    "idx = (df['wage_inc_or_dec']=='increases') & (df['labor_inc_or_dec']=='neither increase nor decrease')\n",
    "params = dict(df.loc[idx].sample(1,random_state=rng).iloc[0])\n",
    "name = fr\"{FILENAME}-{nprob}\"\n",
    "problem = u2.load_problem(TYPE, params, rng=rng, name=name)\n",
    "doc.add(u2.get_multipart_sa(problem,setup_id=0,question_ids=[0,1,2,3]))\n",
    "nprob+=1\n",
    "problem.setup_axis.draw(saveas=f\"{IMAGE_PATH}/{name}_setup.png\")\n",
    "plt.close()"
   ]
  },
  {
   "cell_type": "code",
   "execution_count": 4,
   "id": "72d7a8d3-00fc-4862-8606-b3d42a8747df",
   "metadata": {},
   "outputs": [],
   "source": [
    "TYPE = 'IncomeSupportProblem'\n",
    "df = pd.read_csv(f\"{TYPE}.csv\")\n",
    "idx = (df['work']=='no') \n",
    "params = dict(df.loc[idx].sample(1,random_state=rng).iloc[0])\n",
    "name = fr\"{FILENAME}-{nprob}\"\n",
    "problem = u2.load_problem(TYPE, params, rng=rng, name=name)\n",
    "doc.add(u2.get_multipart_sa(problem,setup_id=0,question_ids=[0,1,2]))\n",
    "nprob+=1\n",
    "problem.setup_axis.draw(saveas=f\"{IMAGE_PATH}/{name}_setup.png\")\n",
    "plt.close()"
   ]
  },
  {
   "cell_type": "code",
   "execution_count": 5,
   "id": "d1728665-aafa-4448-8fbc-c0902c1ba228",
   "metadata": {},
   "outputs": [],
   "source": [
    "TYPE = 'ReturnsToScaleProblem'\n",
    "df = pd.read_csv(f\"{TYPE}.csv\")\n",
    "idx = (df['rts']=='decreasing returns to scale') \n",
    "params = dict(df.loc[idx].sample(1,random_state=rng).iloc[0])\n",
    "name = fr\"{FILENAME}-{nprob}\"\n",
    "problem = u2.load_problem(TYPE, params, rng=rng, name=name)\n",
    "doc.add(u2.get_multipart_sa(problem,setup_id=0,question_ids=[0,1,2,3]))\n",
    "nprob+=1"
   ]
  },
  {
   "cell_type": "code",
   "execution_count": 6,
   "id": "36076dfe-c76c-4a05-b880-137151b36dbb",
   "metadata": {},
   "outputs": [],
   "source": [
    "TYPE = 'CobbDouglasFirmProblem'\n",
    "df = pd.read_csv(f\"{TYPE}.csv\")\n",
    "params = dict(df.sample(1,random_state=rng).iloc[0])\n",
    "name = fr\"{FILENAME}-{nprob}\"\n",
    "problem = u2.load_problem(TYPE, params, rng=rng, name=name)\n",
    "doc.add(u2.get_multipart_sa(problem,setup_id=0,question_ids=[0,1,2]))\n",
    "nprob+=1"
   ]
  },
  {
   "cell_type": "code",
   "execution_count": 7,
   "id": "bc128049-daff-4753-8f43-2ba1d1b57e50",
   "metadata": {},
   "outputs": [],
   "source": [
    "TYPE = 'TechnicalChangeProblem'\n",
    "df = pd.read_csv(f\"{TYPE}.csv\")\n",
    "idx = df['changetype']=='technical change favoring capital'\n",
    "params = dict(df.loc[idx].sample(1,random_state=rng).iloc[0])\n",
    "name = fr\"{FILENAME}-{nprob}\"\n",
    "problem = u2.load_problem(TYPE, params, rng=rng, name=name)\n",
    "doc.add(u2.get_single_sa(problem,setup_id=0,question_id=0))\n",
    "nprob+=1\n",
    "problem.setup_axis.draw(saveas=f\"{IMAGE_PATH}/{name}_setup.png\")\n",
    "plt.close()"
   ]
  },
  {
   "cell_type": "code",
   "execution_count": 8,
   "id": "bf1162b3-5465-48b4-ac44-59e47faa0a99",
   "metadata": {},
   "outputs": [
    {
     "name": "stdout",
     "output_type": "stream",
     "text": [
      "{'A1': 1, 'A2': 2, 'a1': 0.5, 'a2': 0.5}\n",
      "0:  The diagram below illustrates a technological change in a firm's production function. The black solid line shows the firm's unit isoquant prior to the technical change, and the red dashed line shows the firm's unit isoquant subsequent to the technical change. \\begin{center} \\includegraphics[width=3in]{generic_problem_setup.png} \\end{center} \n",
      "\n",
      "0: What type of technical change does this illustrate?\n",
      "\n"
     ]
    }
   ],
   "source": [
    "u2.show_menu('TechnicalChangeProblem')\n",
    "#u2.PROBLEM_TYPES"
   ]
  },
  {
   "cell_type": "code",
   "execution_count": 9,
   "id": "d3c8b391-8cc1-49d3-8ce8-a2894533df71",
   "metadata": {},
   "outputs": [],
   "source": [
    "doc.print_pdf(FILENAME, OUTPUT_DIR)"
   ]
  }
 ],
 "metadata": {
  "kernelspec": {
   "display_name": "Python 3 (ipykernel)",
   "language": "python",
   "name": "python3"
  },
  "language_info": {
   "codemirror_mode": {
    "name": "ipython",
    "version": 3
   },
   "file_extension": ".py",
   "mimetype": "text/x-python",
   "name": "python",
   "nbconvert_exporter": "python",
   "pygments_lexer": "ipython3",
   "version": "3.12.8"
  }
 },
 "nbformat": 4,
 "nbformat_minor": 5
}
