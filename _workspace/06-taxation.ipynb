{
 "cells": [
  {
   "cell_type": "code",
   "execution_count": 1,
   "id": "4c26a61c-066e-4406-a93a-977c07b50f46",
   "metadata": {},
   "outputs": [],
   "source": [
    "import numpy as np\n",
    "import pandas as pd\n",
    "from matplotlib import pyplot as plt\n",
    "from matplotlib import cm\n",
    "\n",
    "SMALL_SIZE = 12\n",
    "MEDIUM_SIZE = 14\n",
    "LARGE_SIZE = 16\n",
    "\n",
    "plt.rcdefaults()\n",
    "plt.rcParams['text.usetex'] = True\n",
    "plt.rcParams['font.family'] = 'Helvetica'\n",
    "plt.rcParams['font.size'] = MEDIUM_SIZE\n",
    "plt.rcParams['axes.titlesize'] = LARGE_SIZE\n",
    "plt.rcParams['axes.labelsize'] = MEDIUM_SIZE\n",
    "plt.rcParams['xtick.labelsize'] = SMALL_SIZE\n",
    "plt.rcParams['ytick.labelsize'] = SMALL_SIZE\n",
    "plt.rcParams['legend.fontsize'] = MEDIUM_SIZE\n",
    "plt.rcParams['figure.titlesize'] = LARGE_SIZE\n",
    "plt.rcParams['figure.figsize'] = [7.2, 4.8]\n",
    "plt.rcParams['figure.dpi'] = 60\n",
    "plt.rcParams['figure.facecolor'] = (1.0, 1.0, 1.0, 0.0)"
   ]
  },
  {
   "cell_type": "markdown",
   "id": "9843f4c2-4eca-406e-880a-28ae1de8776a",
   "metadata": {},
   "source": [
    "## Unit taxes\n",
    "\n",
    "- Number of consumers: $N$\n",
    "- Number of firms: $M$\n",
    "- Consumer income: $Y$\n",
    "- Consumer utility function: $$u(c,q) = c + \\alpha q - \\beta q^2$$\n",
    "- Firm cost function: $$c(q) = \\gamma + \\delta q + \\eta q^2$$\n",
    "- Unit tax on consumers: $t_c$\n",
    "- Unit tax on firms: $t_p$\n",
    "\n",
    "- Consumer FOC: \n",
    "$$\\alpha - p - t_c - 2\\beta q_d = 0$$\n",
    "\n",
    "- Producer FOC:\n",
    "$$p - t_p - \\delta - 2\\eta q_s = 0$$\n",
    "\n",
    "- Equilibrium condition:\n",
    "$$ Nq_s = Mq_d = Q$$\n",
    "\n",
    "- Solution for $Q$:\n",
    "$$Q = \\frac{\\alpha - \\delta - t_c - t_p}{\\frac{2\\eta}{M} + \\frac{2\\beta}{N}}$$\n",
    "\n",
    "- Solution for $p$:\n",
    "$$p = \\frac{N \\eta (\\alpha-t_c) + M \\beta (\\delta + t_p)}{N \\eta + M \\beta}$$\n"
   ]
  },
  {
   "cell_type": "code",
   "execution_count": 2,
   "id": "9f3ac040-4bac-4f21-af67-a72cd62f8df5",
   "metadata": {},
   "outputs": [
    {
     "data": {
      "image/png": "[encoded data removed]",
      "text/plain": [
       "<Figure size 432x288 with 1 Axes>"
      ]
     },
     "metadata": {
      "needs_background": "light"
     },
     "output_type": "display_data"
    }
   ],
   "source": [
    "# Example revenue curve\n",
    "t = np.arange(0,10.1,0.1)\n",
    "R = t*(2500 - 250*t)\n",
    "plt.plot(t,R)\n",
    "#plt.title(r\"Tax revenue as a function of $t$\")\n",
    "plt.xlabel(r'$t$')\n",
    "plt.ylabel('Tax revenue')\n",
    "plt.grid(alpha=0.2)\n",
    "plt.savefig('../assets/images/06-taxation-laffer-curve.png', transparent=False, bbox_inches=\"tight\")\n",
    "plt.show()\n"
   ]
  },
  {
   "cell_type": "markdown",
   "id": "21d7b5bc-516a-49b2-a370-c399d8feac5c",
   "metadata": {},
   "source": [
    "## Ad valorem taxes\n",
    "\n",
    "- Number of consumers: $N$\n",
    "- Number of firms: $M$\n",
    "- Consumer income: $Y$\n",
    "- Consumer utility function: $$u(c,q) = c + \\alpha q - \\beta q^2$$\n",
    "- Firm cost function: $$c(q) = \\gamma + \\delta q + \\eta q^2$$\n",
    "- Tax rate on consumers: $tc$\n",
    "- Tax rate on firms: $tp$\n",
    "\n",
    "- Consumer FOC: \n",
    "$$\\alpha - (1+t_c)p - 2\\beta q_d = 0$$\n",
    "\n",
    "- Producer FOC:\n",
    "$$(1-t_p)p - \\delta - 2\\eta q_s = 0$$\n",
    "\n",
    "- Equilibrium condition:\n",
    "$$ Nq_s = Mq_d = Q$$\n",
    "\n",
    "- Solution for $Q$:\n",
    "$$Q = \\frac{(1-t_p)\\alpha - (1+t_c)\\delta}{\\frac{2(1+t_c)\\eta}{M} + \\frac{2(1-t_p)\\beta}{N}}$$\n",
    "\n",
    "- Solution for $p$:\n",
    "$$p = \\frac{N \\eta \\alpha + M \\beta \\delta}{N \\eta (1+t_c) + M \\beta (1-t_p)}$$\n"
   ]
  }
 ],
 "metadata": {
  "kernelspec": {
   "display_name": "Python 3 (ipykernel)",
   "language": "python",
   "name": "python3"
  },
  "language_info": {
   "codemirror_mode": {
    "name": "ipython",
    "version": 3
   },
   "file_extension": ".py",
   "mimetype": "text/x-python",
   "name": "python",
   "nbconvert_exporter": "python",
   "pygments_lexer": "ipython3",
   "version": "3.10.6"
  }
 },
 "nbformat": 4,
 "nbformat_minor": 5
}
