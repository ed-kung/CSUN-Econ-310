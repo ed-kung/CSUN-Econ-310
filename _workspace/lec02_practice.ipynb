{
 "cells": [
  {
   "cell_type": "code",
   "execution_count": 1,
   "id": "c047a86b-2714-4ec7-93c3-db89cd57df0d",
   "metadata": {},
   "outputs": [],
   "source": [
    "import os\n",
    "import numpy as np\n",
    "import pandas as pd\n",
    "from IPython.display import display, Markdown, Latex\n",
    "import json\n",
    "import utils2 as u2\n",
    "from matplotlib import pyplot as plt\n",
    "\n",
    "SMALL_SIZE = 14\n",
    "MEDIUM_SIZE = 16\n",
    "LARGE_SIZE = 18\n",
    "HUGE_SIZE = 20\n",
    "\n",
    "plt.rcdefaults()\n",
    "plt.rcParams['text.usetex'] = True\n",
    "plt.rcParams['font.family'] = 'Helvetica'\n",
    "plt.rcParams['font.size'] = MEDIUM_SIZE\n",
    "plt.rcParams['axes.titlesize'] = LARGE_SIZE\n",
    "plt.rcParams['axes.labelsize'] = MEDIUM_SIZE\n",
    "plt.rcParams['xtick.labelsize'] = MEDIUM_SIZE\n",
    "plt.rcParams['ytick.labelsize'] = MEDIUM_SIZE\n",
    "plt.rcParams['legend.fontsize'] = MEDIUM_SIZE\n",
    "plt.rcParams['figure.titlesize'] = LARGE_SIZE\n",
    "plt.rcParams['figure.figsize'] = [7.2, 7.2]\n",
    "plt.rcParams['figure.dpi'] = 60\n",
    "plt.rcParams['figure.facecolor'] = (1.0, 1.0, 1.0, 0.0)\n",
    "\n",
    "JSON_FILE = \"../assets/data/lec02_practice.json\"\n",
    "PROBLEM_NAME = \"lec02_practice_{}\"\n",
    "IMAGE_PATH = \"../assets/images/graphs\"\n",
    "probs = []\n",
    "nprob = 0\n",
    "\n",
    "rng = np.random.default_rng(102)"
   ]
  },
  {
   "cell_type": "code",
   "execution_count": 2,
   "id": "5f729fa6-c639-43f3-a7e0-3aa004ed96cd",
   "metadata": {},
   "outputs": [],
   "source": [
    "TYPE = \"ExponentialMarketProblem\"\n",
    "while nprob<=20:\n",
    "    a_s = rng.choice([1/4,1/3,1/2,2/3,3/4,1,2,3,4,5])\n",
    "    a_d = rng.choice([2,3,4,5,6,7,8,9,10])*a_s\n",
    "    k_d = -1\n",
    "    k_s = 1\n",
    "    name = PROBLEM_NAME.format(nprob)\n",
    "    params = {'ad':a_d,'kd':k_d,'as':a_s,'ks':k_s}\n",
    "    prob = u2.load_problem(TYPE, params=params, rng=rng, name=name)\n",
    "    if prob.sol['q']>1:\n",
    "        online_format = u2.get_online_format(prob, setup_id=0, question_ids=[0,1])\n",
    "        probs.append(online_format)\n",
    "        nprob+=1"
   ]
  },
  {
   "cell_type": "code",
   "execution_count": 3,
   "id": "13d53dee-b950-4f23-9cd5-5f302b59d0c6",
   "metadata": {},
   "outputs": [],
   "source": [
    "TYPE = \"ExponentialMarketProblem\"\n",
    "while nprob<=40:\n",
    "    a_s = rng.choice([1/4,1/3,1/2,2/3,3/4,1,2,3,4,5])\n",
    "    a_d = rng.choice([2,3,4,5,6,7,8,9,10])*a_s\n",
    "    k_d = rng.choice([-1/4,-1/3,-1/2,-2/3,-3/4,-1])\n",
    "    k_s = rng.choice([1/4,1/3,1/2,2/3,3/4,1,3/2,2])\n",
    "    name = PROBLEM_NAME.format(nprob)\n",
    "    params = {'ad':a_d,'kd':k_d,'as':a_s,'ks':k_s}\n",
    "    prob = u2.load_problem(TYPE, params=params, rng=rng, name=name)\n",
    "    if prob.sol['q']>1:\n",
    "        online_format = u2.get_online_format(prob, setup_id=1, question_ids=[0,1])\n",
    "        probs.append(online_format)\n",
    "        nprob+=1"
   ]
  },
  {
   "cell_type": "code",
   "execution_count": 4,
   "id": "b34d5eb4-2e80-4da2-8ffc-9b28554e8587",
   "metadata": {},
   "outputs": [
    {
     "data": {
      "text/plain": [
       "{'ad': 3.333333333333333,\n",
       " 'kd': -0.5,\n",
       " 'as': 0.6666666666666666,\n",
       " 'ks': 0.6666666666666666}"
      ]
     },
     "execution_count": 4,
     "metadata": {},
     "output_type": "execute_result"
    }
   ],
   "source": [
    "params"
   ]
  },
  {
   "cell_type": "code",
   "execution_count": 5,
   "id": "586a6615-9716-4f0d-a5ea-4666a20674d0",
   "metadata": {},
   "outputs": [],
   "source": [
    "from sympy import nsimplify\n",
    "\n",
    "foo = u2.ExponentialDemand(a=params['ad'], k=params['kd'])"
   ]
  },
  {
   "cell_type": "code",
   "execution_count": 6,
   "id": "1412e8b2-4062-49ac-a54c-60e24ec444ba",
   "metadata": {},
   "outputs": [
    {
     "data": {
      "text/plain": [
       "False"
      ]
     },
     "execution_count": 6,
     "metadata": {},
     "output_type": "execute_result"
    }
   ],
   "source": [
    "c = (1/foo.a)**(1/foo.k)\n",
    "\n",
    "c\n",
    "\n",
    "import sympy\n",
    "\n",
    "type(nsimplify(c)) != sympy.core.numbers.Rational"
   ]
  },
  {
   "cell_type": "code",
   "execution_count": 7,
   "id": "2833ab9f-222d-4090-a3b8-e810531c2479",
   "metadata": {},
   "outputs": [],
   "source": [
    "with open(JSON_FILE, 'w') as f:\n",
    "    json.dump(probs, f)"
   ]
  },
  {
   "cell_type": "code",
   "execution_count": 8,
   "id": "420827d8-5526-40b7-994b-042124d3097c",
   "metadata": {},
   "outputs": [
    {
     "name": "stdout",
     "output_type": "stream",
     "text": [
      "<p>\n",
      "A market's inverse demand curve and inverse supply curve are defined by the following equations:\n",
      "$$\\begin{align}\n",
      "p &= \\frac{10}{3}q_d^{-1/2} \\\\\n",
      "p &= \\frac{2}{3}q_s^{2/3}\n",
      "\\end{align}$$\n",
      "</p>\n",
      "<p>1. Calculate the equilibrium price.</p>\n",
      "<p>2. Calculate the equilibrium quantity.</p>\n",
      "\n"
     ]
    }
   ],
   "source": [
    "print(online_format['setup'])"
   ]
  }
 ],
 "metadata": {
  "kernelspec": {
   "display_name": "Python 3 (ipykernel)",
   "language": "python",
   "name": "python3"
  },
  "language_info": {
   "codemirror_mode": {
    "name": "ipython",
    "version": 3
   },
   "file_extension": ".py",
   "mimetype": "text/x-python",
   "name": "python",
   "nbconvert_exporter": "python",
   "pygments_lexer": "ipython3",
   "version": "3.12.7"
  }
 },
 "nbformat": 4,
 "nbformat_minor": 5
}
