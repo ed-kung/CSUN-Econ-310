{
 "cells": [
  {
   "cell_type": "code",
   "execution_count": 1,
   "id": "2b06770f-63e6-4bb8-8104-1850bcc82b73",
   "metadata": {},
   "outputs": [
    {
     "data": {
      "image/png": "[encoded data removed]",
      "text/plain": [
       "<Figure size 432x288 with 1 Axes>"
      ]
     },
     "metadata": {
      "needs_background": "light"
     },
     "output_type": "display_data"
    }
   ],
   "source": [
    "import os\n",
    "import numpy as np\n",
    "import pandas as pd\n",
    "from IPython.display import display, Markdown, Latex\n",
    "import json\n",
    "from utils import LeisureCB, WageChangeCB\n",
    "from utils import cbeq, polyeq, term, is_divisible, Number\n",
    "from matplotlib import pyplot as plt\n",
    "\n",
    "plt.plot()\n",
    "\n",
    "SMALL_SIZE = 14\n",
    "MEDIUM_SIZE = 16\n",
    "LARGE_SIZE = 18\n",
    "HUGE_SIZE = 20\n",
    "\n",
    "plt.rcdefaults()\n",
    "plt.rcParams['text.usetex'] = True\n",
    "plt.rcParams['font.family'] = 'Helvetica'\n",
    "plt.rcParams['font.size'] = MEDIUM_SIZE\n",
    "plt.rcParams['axes.titlesize'] = LARGE_SIZE\n",
    "plt.rcParams['axes.labelsize'] = MEDIUM_SIZE\n",
    "plt.rcParams['xtick.labelsize'] = MEDIUM_SIZE\n",
    "plt.rcParams['ytick.labelsize'] = MEDIUM_SIZE\n",
    "plt.rcParams['legend.fontsize'] = MEDIUM_SIZE\n",
    "plt.rcParams['figure.titlesize'] = LARGE_SIZE\n",
    "plt.rcParams['figure.figsize'] = [7.2, 7.2]\n",
    "plt.rcParams['figure.dpi'] = 60\n",
    "plt.rcParams['figure.facecolor'] = (1.0, 1.0, 1.0, 0.0)\n",
    "\n",
    "JSON_FILE = \"../assets/data/wk09_practice.json\"\n",
    "IMAGE_PATH = \"../assets/images/wk09\"\n",
    "probs = []\n",
    "nprob = 0"
   ]
  },
  {
   "cell_type": "code",
   "execution_count": 2,
   "id": "7a07f30e-aa8a-4e1c-9a96-63bdaa08b41e",
   "metadata": {},
   "outputs": [
    {
     "name": "stdout",
     "output_type": "stream",
     "text": [
      "30\n"
     ]
    }
   ],
   "source": [
    "# Cobb Douglas Labor Leisure\n",
    "df = pd.read_csv(\"LeisureCB_examples.csv\")\n",
    "mydf = df.sample(30)\n",
    "for idx, row in mydf.iterrows():\n",
    "    params = dict(row).copy()\n",
    "    prob = LeisureCB(params)\n",
    "    c = prob.sol['c']\n",
    "    l = prob.sol['l']\n",
    "    h = prob.sol['h']\n",
    "    setup = prob.setup()\n",
    "    setup += fr\"\"\"\n",
    "<p>Calculate the optimal choice of weekly consumption, leisure hours, and working hours.</p>\n",
    "\"\"\"\n",
    "    solution = fr\"\"\"\n",
    "<p>Weekly consumption = \\({c:g}\\) </p>\n",
    "<p>Leisure hours = \\({l:g}\\)</p>\n",
    "<p>Working hours = \\({h:g}\\)</p>\n",
    "\"\"\"\n",
    "    probs.append({'setup':setup, 'solution':solution})\n",
    "    nprob+=1\n",
    "print(len(probs))"
   ]
  },
  {
   "cell_type": "code",
   "execution_count": 3,
   "id": "39a0d1e4-cc3f-4438-bc04-8c1e1f95380e",
   "metadata": {},
   "outputs": [
    {
     "name": "stdout",
     "output_type": "stream",
     "text": [
      "50\n"
     ]
    }
   ],
   "source": [
    "# Cobb Douglas Labor Leisure (Graphical)\n",
    "df = pd.read_csv(\"LeisureCB_examples.csv\")\n",
    "mydf = df.sample(20)\n",
    "for idx, row in mydf.iterrows():\n",
    "    params = dict(row).copy()\n",
    "    prob = LeisureCB(params)\n",
    "    nx, dx, ny, dy, w, cmax = params['nx'], params['dx'], params['ny'], params['dy'], params['w'], params['cmax']\n",
    "    setup_filename = f\"practice_problem_setup_{nprob}.png\"\n",
    "    solution_filename = f\"practice_problem_solution_{nprob}.png\"\n",
    "    prob.graph_with_IC(with_solution=False, show=False, saveas=f\"{IMAGE_PATH}/{setup_filename}\")\n",
    "    prob.graph_with_IC(with_solution=True, show=False, saveas=f\"{IMAGE_PATH}/{solution_filename}\")\n",
    "    setup = fr\"\"\"\n",
    "<p>An individual can work for up to 60 hours a week at an hourly rate of \\(w={w:g}\\). The person has utility over\n",
    "weekly consumption \\(c\\) and weekly leisure hours \\(\\ell\\) given by the following indifference curves:</p>\n",
    "\n",
    "<img src=\"/CSUN-Econ-310/assets/images/wk09/{setup_filename}\">\n",
    "\n",
    "<p>Draw the budget constraint. Label the optimal choice of consumption and leisure.</p>\n",
    "\"\"\"\n",
    "    solution = fr\"\"\"\n",
    "<img src=\"/CSUN-Econ-310/assets/images/wk09/{solution_filename}\">\n",
    "\"\"\"\n",
    "    probs.append({'setup':setup, 'solution':solution})\n",
    "    nprob+=1\n",
    "print(len(probs))"
   ]
  },
  {
   "cell_type": "code",
   "execution_count": 4,
   "id": "5cec7844-920a-403c-bbba-1c845ee79d44",
   "metadata": {},
   "outputs": [
    {
     "name": "stdout",
     "output_type": "stream",
     "text": [
      "70\n"
     ]
    }
   ],
   "source": [
    "# Cobb Douglas Labor Leisure Wage Change\n",
    "df = pd.read_csv(\"WageChangeCB_examples.csv\")\n",
    "mydf = df.sample(20)\n",
    "for idx, row in mydf.iterrows():\n",
    "    params = dict(row).copy()\n",
    "    prob = WageChangeCB(params)\n",
    "    nx, dx, ny, dy, w1, w2, cmax = params['nx'], params['dx'], params['ny'], params['dy'], params['w1'], params['w2'], params['cmax']\n",
    "    setup_filename = f\"practice_problem_setup_{nprob}.png\"\n",
    "    solution_filename = f\"practice_problem_solution_{nprob}.png\"\n",
    "    prob.graph_with_IC(period1=False, period2=False, show=False, saveas=f\"{IMAGE_PATH}/{setup_filename}\")\n",
    "    prob.graph_with_IC(period1=True, period2=True, show=False, saveas=f\"{IMAGE_PATH}/{solution_filename}\")\n",
    "    setup = fr\"\"\"\n",
    "<p>An individual can work for up to 60 hours a week at an hourly rate of \\(w={w1:g}\\). The person has utility over\n",
    "weekly consumption \\(c\\) and weekly leisure hours \\(\\ell\\) given by the following indifference curves:</p>\n",
    "\n",
    "<img src=\"/CSUN-Econ-310/assets/images/wk09/{setup_filename}\">\n",
    "\n",
    "<p>1. Draw the budget constraint. Label the optimal choice of consumption and leisure A.</p>\n",
    "<p>2. Suppose the wage rate changes to \\(w={w2:g}\\). Draw the new budget constraint and label the new optimal choice B.</p>\n",
    "<p>3. Does the change in wages increase or decrease the number of hours worked?</p>\n",
    "\"\"\"\n",
    "    solution = fr\"\"\"\n",
    "<img src=\"/CSUN-Econ-310/assets/images/wk09/{solution_filename}\">\n",
    "\n",
    "<p>The change in wage rate did not affect the number of hours worked.</p>\n",
    "\"\"\"\n",
    "    probs.append({'setup':setup, 'solution':solution})\n",
    "    nprob+=1\n",
    "print(len(probs))"
   ]
  },
  {
   "cell_type": "code",
   "execution_count": 5,
   "id": "c55d4467-8661-40b3-ad19-524f2feacca2",
   "metadata": {},
   "outputs": [],
   "source": [
    "with open(JSON_FILE, 'w') as f:\n",
    "    json.dump(probs, f)"
   ]
  },
  {
   "cell_type": "code",
   "execution_count": 6,
   "id": "c4e3e697-5232-45e1-86af-82bb39287878",
   "metadata": {},
   "outputs": [],
   "source": [
    "with open(JSON_FILE, 'r') as f:\n",
    "    myprobs = json.load(f)"
   ]
  },
  {
   "cell_type": "code",
   "execution_count": 7,
   "id": "334981b0-251c-4ede-acd4-7e00dab2dd32",
   "metadata": {},
   "outputs": [
    {
     "data": {
      "text/latex": [
       "\n",
       "An individual can work for up to 60 hours a week at an hourly wage of \\(w=75\\). The person has utility over weekly consumption \\(c\\) and weekly leisure hours \\(\\ell\\) given by:\n",
       "\n",
       "$$ u(c, \\ell) = c^{ 2 / 3 }\\ell^{ 1 / 3 } $$\n",
       "\n",
       "<p>Calculate the optimal choice of weekly consumption, leisure hours, and working hours.</p>\n"
      ],
      "text/plain": [
       "<IPython.core.display.Latex object>"
      ]
     },
     "metadata": {},
     "output_type": "display_data"
    },
    {
     "data": {
      "text/latex": [
       "\n",
       "<p>Weekly consumption = \\(3000\\) </p>\n",
       "<p>Leisure hours = \\(20\\)</p>\n",
       "<p>Working hours = \\(40\\)</p>\n"
      ],
      "text/plain": [
       "<IPython.core.display.Latex object>"
      ]
     },
     "metadata": {},
     "output_type": "display_data"
    }
   ],
   "source": [
    "prob = np.random.choice(myprobs)\n",
    "display(Latex(prob['setup']))\n",
    "display(Latex(prob['solution']))"
   ]
  }
 ],
 "metadata": {
  "kernelspec": {
   "display_name": "Python 3 (ipykernel)",
   "language": "python",
   "name": "python3"
  },
  "language_info": {
   "codemirror_mode": {
    "name": "ipython",
    "version": 3
   },
   "file_extension": ".py",
   "mimetype": "text/x-python",
   "name": "python",
   "nbconvert_exporter": "python",
   "pygments_lexer": "ipython3",
   "version": "3.10.5"
  }
 },
 "nbformat": 4,
 "nbformat_minor": 5
}
