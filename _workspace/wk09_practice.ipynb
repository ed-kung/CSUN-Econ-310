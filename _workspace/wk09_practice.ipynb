{
 "cells": [
  {
   "cell_type": "code",
   "execution_count": 1,
   "id": "2b06770f-63e6-4bb8-8104-1850bcc82b73",
   "metadata": {},
   "outputs": [
    {
     "data": {
      "image/png": "[encoded data removed]",
      "text/plain": [
       "<Figure size 432x432 with 1 Axes>"
      ]
     },
     "metadata": {
      "needs_background": "light"
     },
     "output_type": "display_data"
    }
   ],
   "source": [
    "import os\n",
    "import numpy as np\n",
    "import pandas as pd\n",
    "from IPython.display import display, Markdown, Latex\n",
    "import json\n",
    "from utils import LeisureCB, WageChangeCB, LeisureExp, WageChangeExp, LeisureSate, WageChangeSate, Welfare\n",
    "from utils import cbeq, polyeq, term, is_divisible, Number\n",
    "from matplotlib import pyplot as plt\n",
    "\n",
    "plt.plot()\n",
    "\n",
    "SMALL_SIZE = 14\n",
    "MEDIUM_SIZE = 16\n",
    "LARGE_SIZE = 18\n",
    "HUGE_SIZE = 20\n",
    "\n",
    "plt.rcdefaults()\n",
    "plt.rcParams['text.usetex'] = True\n",
    "plt.rcParams['font.family'] = 'Helvetica'\n",
    "plt.rcParams['font.size'] = MEDIUM_SIZE\n",
    "plt.rcParams['axes.titlesize'] = LARGE_SIZE\n",
    "plt.rcParams['axes.labelsize'] = MEDIUM_SIZE\n",
    "plt.rcParams['xtick.labelsize'] = MEDIUM_SIZE\n",
    "plt.rcParams['ytick.labelsize'] = MEDIUM_SIZE\n",
    "plt.rcParams['legend.fontsize'] = MEDIUM_SIZE\n",
    "plt.rcParams['figure.titlesize'] = LARGE_SIZE\n",
    "plt.rcParams['figure.figsize'] = [7.2, 7.2]\n",
    "plt.rcParams['figure.dpi'] = 60\n",
    "plt.rcParams['figure.facecolor'] = (1.0, 1.0, 1.0, 0.0)\n",
    "\n",
    "JSON_FILE = \"../assets/data/wk09_practice.json\"\n",
    "IMAGE_PATH = \"../assets/images/wk09\"\n",
    "probs = []\n",
    "nprob = 0"
   ]
  },
  {
   "cell_type": "code",
   "execution_count": 2,
   "id": "7a07f30e-aa8a-4e1c-9a96-63bdaa08b41e",
   "metadata": {},
   "outputs": [
    {
     "name": "stdout",
     "output_type": "stream",
     "text": [
      "30\n"
     ]
    }
   ],
   "source": [
    "# Cobb Douglas Labor Leisure\n",
    "df = pd.read_csv(\"LeisureCB_examples.csv\")\n",
    "mydf = df.sample(30)\n",
    "for idx, row in mydf.iterrows():\n",
    "    params = dict(row).copy()\n",
    "    prob = LeisureCB(params)\n",
    "    c = prob.sol['c']\n",
    "    l = prob.sol['l']\n",
    "    h = prob.sol['h']\n",
    "    setup = prob.setup()\n",
    "    setup += fr\"\"\"\n",
    "<p>Calculate the optimal choice of weekly consumption, leisure hours, and working hours.</p>\n",
    "\"\"\"\n",
    "    solution = fr\"\"\"\n",
    "<p>Weekly consumption = \\({c:g}\\) </p>\n",
    "<p>Leisure hours = \\({l:g}\\)</p>\n",
    "<p>Working hours = \\({h:g}\\)</p>\n",
    "\"\"\"\n",
    "    probs.append({'setup':setup, 'solution':solution})\n",
    "    nprob+=1\n",
    "print(len(probs))"
   ]
  },
  {
   "cell_type": "code",
   "execution_count": 3,
   "id": "39a0d1e4-cc3f-4438-bc04-8c1e1f95380e",
   "metadata": {},
   "outputs": [
    {
     "name": "stdout",
     "output_type": "stream",
     "text": [
      "50\n"
     ]
    }
   ],
   "source": [
    "# Cobb Douglas Labor Leisure (Graphical)\n",
    "df = pd.read_csv(\"LeisureCB_examples.csv\")\n",
    "mydf = df.sample(20)\n",
    "for idx, row in mydf.iterrows():\n",
    "    params = dict(row).copy()\n",
    "    prob = LeisureCB(params)\n",
    "    nx, dx, ny, dy, w, cmax = params['nx'], params['dx'], params['ny'], params['dy'], params['w'], params['cmax']\n",
    "    setup_filename = f\"practice_problem_setup_{nprob}.png\"\n",
    "    solution_filename = f\"practice_problem_solution_{nprob}.png\"\n",
    "    prob.graph_with_IC(with_solution=False, show=False, saveas=f\"{IMAGE_PATH}/{setup_filename}\")\n",
    "    prob.graph_with_IC(with_solution=True, show=False, saveas=f\"{IMAGE_PATH}/{solution_filename}\")\n",
    "    setup = fr\"\"\"\n",
    "<p>An individual can work for up to 60 hours a week at an hourly rate of \\(w={w:g}\\). The person has utility over\n",
    "weekly consumption \\(c\\) and weekly leisure hours \\(\\ell\\) given by the following indifference curves:</p>\n",
    "\n",
    "<img src=\"/CSUN-Econ-310/assets/images/wk09/{setup_filename}\">\n",
    "\n",
    "<p>Draw the budget constraint. Label the optimal choice of consumption and leisure.</p>\n",
    "\"\"\"\n",
    "    solution = fr\"\"\"\n",
    "<img src=\"/CSUN-Econ-310/assets/images/wk09/{solution_filename}\">\n",
    "\"\"\"\n",
    "    probs.append({'setup':setup, 'solution':solution})\n",
    "    nprob+=1\n",
    "print(len(probs))"
   ]
  },
  {
   "cell_type": "code",
   "execution_count": 4,
   "id": "5cec7844-920a-403c-bbba-1c845ee79d44",
   "metadata": {},
   "outputs": [
    {
     "name": "stdout",
     "output_type": "stream",
     "text": [
      "70\n"
     ]
    }
   ],
   "source": [
    "# Cobb Douglas Labor Leisure Wage Change\n",
    "df = pd.read_csv(\"WageChangeCB_examples.csv\")\n",
    "mydf = df.sample(20)\n",
    "for idx, row in mydf.iterrows():\n",
    "    params = dict(row).copy()\n",
    "    prob = WageChangeCB(params)\n",
    "    nx, dx, ny, dy, w1, w2, cmax = params['nx'], params['dx'], params['ny'], params['dy'], params['w1'], params['w2'], params['cmax']\n",
    "    setup_filename = f\"practice_problem_setup_{nprob}.png\"\n",
    "    solution_filename = f\"practice_problem_solution_{nprob}.png\"\n",
    "    prob.graph_with_IC(period1=False, period2=False, show=False, saveas=f\"{IMAGE_PATH}/{setup_filename}\")\n",
    "    prob.graph_with_IC(period1=True, period2=True, show=False, saveas=f\"{IMAGE_PATH}/{solution_filename}\")\n",
    "    setup = fr\"\"\"\n",
    "<p>An individual can work for up to 60 hours a week at an hourly rate of \\(w={w1:g}\\). The person has utility over\n",
    "weekly consumption \\(c\\) and weekly leisure hours \\(\\ell\\) given by the following indifference curves:</p>\n",
    "\n",
    "<img src=\"/CSUN-Econ-310/assets/images/wk09/{setup_filename}\">\n",
    "\n",
    "<p>1. Draw the budget constraint. Label the optimal choice of consumption and leisure A.</p>\n",
    "<p>2. Suppose the wage rate changes to \\(w={w2:g}\\). Draw the new budget constraint and label the new optimal choice B.</p>\n",
    "<p>3. Does the change in wages increase or decrease the number of hours worked?</p>\n",
    "\"\"\"\n",
    "    solution = fr\"\"\"\n",
    "<img src=\"/CSUN-Econ-310/assets/images/wk09/{solution_filename}\">\n",
    "\n",
    "<p>The change in wage rate did not affect the number of hours worked.</p>\n",
    "\"\"\"\n",
    "    probs.append({'setup':setup, 'solution':solution})\n",
    "    nprob+=1\n",
    "print(len(probs))"
   ]
  },
  {
   "cell_type": "code",
   "execution_count": 5,
   "id": "4478321c-528c-45f2-835b-32dac7d92e68",
   "metadata": {},
   "outputs": [
    {
     "name": "stdout",
     "output_type": "stream",
     "text": [
      "90\n"
     ]
    }
   ],
   "source": [
    "# Exponent Labor Leisure (Graphical)\n",
    "df = pd.read_csv(\"LeisureExp_examples.csv\")\n",
    "mydf = df.sample(20)\n",
    "for idx, row in mydf.iterrows():\n",
    "    params = dict(row).copy()\n",
    "    prob = LeisureExp(params)\n",
    "    a, kn, kd, w, cmax = params['a'], params['kn'], params['kd'], params['w'], params['cmax']\n",
    "    setup_filename = f\"practice_problem_setup_{nprob}.png\"\n",
    "    solution_filename = f\"practice_problem_solution_{nprob}.png\"\n",
    "    prob.graph_with_IC(with_solution=False, show=False, saveas=f\"{IMAGE_PATH}/{setup_filename}\")\n",
    "    prob.graph_with_IC(with_solution=True, show=False, saveas=f\"{IMAGE_PATH}/{solution_filename}\")\n",
    "    setup = fr\"\"\"\n",
    "<p>An individual can work for up to 60 hours a week at an hourly rate of \\(w={w:g}\\). The person has utility over\n",
    "weekly consumption \\(c\\) and weekly leisure hours \\(\\ell\\) given by the following indifference curves:</p>\n",
    "\n",
    "<img src=\"/CSUN-Econ-310/assets/images/wk09/{setup_filename}\">\n",
    "\n",
    "<p>Draw the budget constraint. Label the optimal choice of consumption and leisure.</p>\n",
    "\"\"\"\n",
    "    solution = fr\"\"\"\n",
    "<img src=\"/CSUN-Econ-310/assets/images/wk09/{solution_filename}\">\n",
    "\"\"\"\n",
    "    probs.append({'setup':setup, 'solution':solution})\n",
    "    nprob+=1\n",
    "print(len(probs))"
   ]
  },
  {
   "cell_type": "code",
   "execution_count": 6,
   "id": "f61599b4-92c5-4a3c-a728-4692dc57eaf5",
   "metadata": {},
   "outputs": [
    {
     "name": "stdout",
     "output_type": "stream",
     "text": [
      "110\n"
     ]
    }
   ],
   "source": [
    "# Exponential Labor Leisure Wage Change\n",
    "df = pd.read_csv(\"WageChangeExp_examples.csv\")\n",
    "mydf = df.sample(20)\n",
    "for idx, row in mydf.iterrows():\n",
    "    params = dict(row).copy()\n",
    "    prob = WageChangeExp(params)\n",
    "    w1 = params['w1']\n",
    "    w2 = params['w2']\n",
    "    h1 = prob.prob1.sol['h']\n",
    "    h2 = prob.prob2.sol['h']\n",
    "    if h1>h2:\n",
    "        incdec = \"The change in wage rate increased the number of hours worked.\"\n",
    "    elif h1<h2:\n",
    "        incdec = \"The change in wage rate decreased the number of hours worked.\"\n",
    "    else:\n",
    "        incdec = \"The change in wage rate did not affect the number of hours worked.\"\n",
    "    setup_filename = f\"practice_problem_setup_{nprob}.png\"\n",
    "    solution_filename = f\"practice_problem_solution_{nprob}.png\"\n",
    "    prob.graph_with_IC(period1=False, period2=False, show=False, saveas=f\"{IMAGE_PATH}/{setup_filename}\")\n",
    "    prob.graph_with_IC(period1=True, period2=True, show=False, saveas=f\"{IMAGE_PATH}/{solution_filename}\")\n",
    "    setup = fr\"\"\"\n",
    "<p>An individual can work for up to 60 hours a week at an hourly rate of \\(w={w1:g}\\). The person has utility over\n",
    "weekly consumption \\(c\\) and weekly leisure hours \\(\\ell\\) given by the following indifference curves:</p>\n",
    "\n",
    "<img src=\"/CSUN-Econ-310/assets/images/wk09/{setup_filename}\">\n",
    "\n",
    "<p>1. Draw the budget constraint. Label the optimal choice of consumption and leisure A.</p>\n",
    "<p>2. Suppose the wage rate changes to \\(w={w2:g}\\). Draw the new budget constraint and label the new optimal choice B.</p>\n",
    "<p>3. Does the change in wages increase or decrease the number of hours worked?</p>\n",
    "\"\"\"\n",
    "    solution = fr\"\"\"\n",
    "<img src=\"/CSUN-Econ-310/assets/images/wk09/{solution_filename}\">\n",
    "\n",
    "<p>{incdec}</p>\n",
    "\"\"\"\n",
    "    probs.append({'setup':setup, 'solution':solution})\n",
    "    nprob+=1\n",
    "print(len(probs))"
   ]
  },
  {
   "cell_type": "code",
   "execution_count": 7,
   "id": "db3067e0-e171-4444-bfbe-5000151981f0",
   "metadata": {},
   "outputs": [
    {
     "name": "stdout",
     "output_type": "stream",
     "text": [
      "130\n"
     ]
    }
   ],
   "source": [
    "# Satiated Labor Leisure (Graphical)\n",
    "df = pd.read_csv(\"LeisureSate_examples.csv\")\n",
    "mydf = df.sample(20)\n",
    "for idx, row in mydf.iterrows():\n",
    "    params = dict(row).copy()\n",
    "    prob = LeisureSate(params)\n",
    "    w = params['w']\n",
    "    setup_filename = f\"practice_problem_setup_{nprob}.png\"\n",
    "    solution_filename = f\"practice_problem_solution_{nprob}.png\"\n",
    "    prob.graph_with_IC(with_solution=False, show=False, saveas=f\"{IMAGE_PATH}/{setup_filename}\")\n",
    "    prob.graph_with_IC(with_solution=True, show=False, saveas=f\"{IMAGE_PATH}/{solution_filename}\")\n",
    "    setup = fr\"\"\"\n",
    "<p>An individual can work for up to 60 hours a week at an hourly rate of \\(w={w:g}\\). The person has utility over\n",
    "weekly consumption \\(c\\) and weekly leisure hours \\(\\ell\\) given by the following indifference curves:</p>\n",
    "\n",
    "<img src=\"/CSUN-Econ-310/assets/images/wk09/{setup_filename}\">\n",
    "\n",
    "<p>Draw the budget constraint. Label the optimal choice of consumption and leisure.</p>\n",
    "\"\"\"\n",
    "    solution = fr\"\"\"\n",
    "<img src=\"/CSUN-Econ-310/assets/images/wk09/{solution_filename}\">\n",
    "\"\"\"\n",
    "    probs.append({'setup':setup, 'solution':solution})\n",
    "    nprob+=1\n",
    "print(len(probs))"
   ]
  },
  {
   "cell_type": "code",
   "execution_count": 8,
   "id": "45bff71e-2ce1-4e3e-a9d0-1d8f42fb02e3",
   "metadata": {},
   "outputs": [
    {
     "name": "stdout",
     "output_type": "stream",
     "text": [
      "150\n"
     ]
    }
   ],
   "source": [
    "# Satiated Labor Leisure Wage Change\n",
    "df = pd.read_csv(\"WageChangeSate_examples.csv\")\n",
    "mydf = df.loc[\n",
    "    (df['l2']-df['l1'])/(df['w2']-df['w1']) > 0\n",
    "].sample(20)\n",
    "for idx, row in mydf.iterrows():\n",
    "    params = dict(row).copy()\n",
    "    prob = WageChangeSate(params)\n",
    "    w1 = params['w1']\n",
    "    w2 = params['w2']\n",
    "    h1 = prob.prob1.sol['h']\n",
    "    h2 = prob.prob2.sol['h']\n",
    "    if h1>h2:\n",
    "        incdec = \"The change in wage rate increased the number of hours worked.\"\n",
    "    elif h1<h2:\n",
    "        incdec = \"The change in wage rate decreased the number of hours worked.\"\n",
    "    else:\n",
    "        incdec = \"The change in wage rate did not affect the number of hours worked.\"\n",
    "    setup_filename = f\"practice_problem_setup_{nprob}.png\"\n",
    "    solution_filename = f\"practice_problem_solution_{nprob}.png\"\n",
    "    prob.graph_with_IC(period1=False, period2=False, show=False, saveas=f\"{IMAGE_PATH}/{setup_filename}\")\n",
    "    prob.graph_with_IC(period1=True, period2=True, show=False, saveas=f\"{IMAGE_PATH}/{solution_filename}\")\n",
    "    setup = fr\"\"\"\n",
    "<p>An individual can work for up to 60 hours a week at an hourly rate of \\(w={w1:g}\\). The person has utility over\n",
    "weekly consumption \\(c\\) and weekly leisure hours \\(\\ell\\) given by the following indifference curves:</p>\n",
    "\n",
    "<img src=\"/CSUN-Econ-310/assets/images/wk09/{setup_filename}\">\n",
    "\n",
    "<p>1. Draw the budget constraint. Label the optimal choice of consumption and leisure A.</p>\n",
    "<p>2. Suppose the wage rate changes to \\(w={w2:g}\\). Draw the new budget constraint and label the new optimal choice B.</p>\n",
    "<p>3. Does the change in wages increase or decrease the number of hours worked?</p>\n",
    "\"\"\"\n",
    "    solution = fr\"\"\"\n",
    "<img src=\"/CSUN-Econ-310/assets/images/wk09/{solution_filename}\">\n",
    "\n",
    "<p>{incdec}</p>\n",
    "\"\"\"\n",
    "    probs.append({'setup':setup, 'solution':solution})\n",
    "    nprob+=1\n",
    "print(len(probs))"
   ]
  },
  {
   "cell_type": "code",
   "execution_count": 9,
   "id": "275e317a-42a2-447a-958e-94c38579cca2",
   "metadata": {},
   "outputs": [
    {
     "name": "stdout",
     "output_type": "stream",
     "text": [
      "210\n"
     ]
    }
   ],
   "source": [
    "# Welfare\n",
    "df = pd.read_csv(\"Welfare_examples.csv\")\n",
    "mydf = pd.concat([\n",
    "    df.loc[ df['h']>0 ].sample(20),                                       # still work after welfare\n",
    "    df.loc[ (df['h']==0) & (df['c'] < df['c_no_welfare']) ].sample(20),   # welfare reduces both work and consumption\n",
    "    df.loc[ (df['h']==0) & (df['c'] > df['c_no_welfare']) ].sample(20),   # welfare reduces work but increases consumption\n",
    "])\n",
    "for idx, row in mydf.iterrows():\n",
    "    params = dict(row).copy()\n",
    "    prob = Welfare(params)\n",
    "    w = params['w']\n",
    "    minc = params['minc']\n",
    "    h = prob.sol['h']\n",
    "    c = prob.sol['c']\n",
    "    c_no_welfare = prob.sol['c_no_welfare']\n",
    "    if h>0:\n",
    "        incdec = \"Social welfare system did not change hours worked or consumption.\"\n",
    "    elif (c < c_no_welfare):\n",
    "        incdec = \"Social welfare system reduced both consumption and number of hours worked.\"\n",
    "    else:\n",
    "        incdec = \"Social welfare system increased consumption but reduced number of hours worked.\"\n",
    "    setup_filename = f\"practice_problem_setup_{nprob}.png\"\n",
    "    solution_filename = f\"practice_problem_solution_{nprob}.png\"\n",
    "    prob.graph_with_IC(with_solution=False, show=False, saveas=f\"{IMAGE_PATH}/{setup_filename}\")\n",
    "    prob.graph_with_IC(with_solution=True, show=False, saveas=f\"{IMAGE_PATH}/{solution_filename}\")\n",
    "    setup = fr\"\"\"\n",
    "<p>An individual can work for up to 60 hours a week at an hourly rate of \\(w={w:g}\\). The person has utility over \n",
    "weekly consumption \\(c\\) and weekly leisure hours \\(\\ell\\) given by the following indifference curves:</p>\n",
    "\n",
    "<img src=\"/CSUN-Econ-310/assets/images/wk09/{setup_filename}\">\n",
    "\n",
    "<p>A welfare system exists to guarantee an income of at least \\({minc:g}\\), regardless of number of hours worked.</p>\n",
    "\n",
    "<p>1. Draw the budget constraint with the welfare system. Label the optimal choice of consumption and leisure.</p>\n",
    "<p>2. Does the welfare system increase or decrease consumption? Does it increase or decrease the number of hours worked?</p>\n",
    "\"\"\"\n",
    "    solution = fr\"\"\"\n",
    "<img src=\"/CSUN-Econ-310/assets/images/wk09/{solution_filename}\">\n",
    "\n",
    "<p>{incdec}</p>\n",
    "\"\"\"\n",
    "    probs.append({'setup':setup, 'solution':solution})\n",
    "    nprob+=1\n",
    "print(len(probs))"
   ]
  },
  {
   "cell_type": "code",
   "execution_count": 10,
   "id": "c55d4467-8661-40b3-ad19-524f2feacca2",
   "metadata": {},
   "outputs": [],
   "source": [
    "with open(JSON_FILE, 'w') as f:\n",
    "    json.dump(probs, f)"
   ]
  },
  {
   "cell_type": "code",
   "execution_count": 11,
   "id": "c4e3e697-5232-45e1-86af-82bb39287878",
   "metadata": {},
   "outputs": [],
   "source": [
    "with open(JSON_FILE, 'r') as f:\n",
    "    myprobs = json.load(f)"
   ]
  },
  {
   "cell_type": "code",
   "execution_count": 12,
   "id": "334981b0-251c-4ede-acd4-7e00dab2dd32",
   "metadata": {},
   "outputs": [
    {
     "data": {
      "text/latex": [
       "\n",
       "An individual can work for up to 60 hours a week at an hourly wage of \\(w=40\\). The person has utility over weekly consumption \\(c\\) and weekly leisure hours \\(\\ell\\) given by:\n",
       "\n",
       "$$ u(c, \\ell) = c^{ 1 / 2 }\\ell^{ 1 / 2 } $$\n",
       "\n",
       "<p>Calculate the optimal choice of weekly consumption, leisure hours, and working hours.</p>\n"
      ],
      "text/plain": [
       "<IPython.core.display.Latex object>"
      ]
     },
     "metadata": {},
     "output_type": "display_data"
    },
    {
     "data": {
      "text/latex": [
       "\n",
       "<p>Weekly consumption = \\(1200\\) </p>\n",
       "<p>Leisure hours = \\(30\\)</p>\n",
       "<p>Working hours = \\(30\\)</p>\n"
      ],
      "text/plain": [
       "<IPython.core.display.Latex object>"
      ]
     },
     "metadata": {},
     "output_type": "display_data"
    }
   ],
   "source": [
    "prob = np.random.choice(myprobs)\n",
    "display(Latex(prob['setup']))\n",
    "display(Latex(prob['solution']))"
   ]
  }
 ],
 "metadata": {
  "kernelspec": {
   "display_name": "Python 3 (ipykernel)",
   "language": "python",
   "name": "python3"
  },
  "language_info": {
   "codemirror_mode": {
    "name": "ipython",
    "version": 3
   },
   "file_extension": ".py",
   "mimetype": "text/x-python",
   "name": "python",
   "nbconvert_exporter": "python",
   "pygments_lexer": "ipython3",
   "version": "3.10.6"
  }
 },
 "nbformat": 4,
 "nbformat_minor": 5
}
