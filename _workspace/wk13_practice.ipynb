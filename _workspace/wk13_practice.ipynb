{
 "cells": [
  {
   "cell_type": "code",
   "execution_count": 1,
   "id": "2b06770f-63e6-4bb8-8104-1850bcc82b73",
   "metadata": {},
   "outputs": [
    {
     "data": {
      "image/png": "[encoded data removed]",
      "text/plain": [
       "<Figure size 432x432 with 1 Axes>"
      ]
     },
     "metadata": {
      "needs_background": "light"
     },
     "output_type": "display_data"
    }
   ],
   "source": [
    "import os\n",
    "import numpy as np\n",
    "import pandas as pd\n",
    "from IPython.display import display, Markdown, Latex, HTML\n",
    "import json\n",
    "from utils import Insurance, Savings\n",
    "from utils import cbeq, polyeq, term, is_divisible, Number\n",
    "from matplotlib import pyplot as plt\n",
    "rng = np.random.default_rng(5411)\n",
    "\n",
    "plt.plot()\n",
    "\n",
    "SMALL_SIZE = 14\n",
    "MEDIUM_SIZE = 16\n",
    "LARGE_SIZE = 18\n",
    "HUGE_SIZE = 20\n",
    "\n",
    "plt.rcdefaults()\n",
    "plt.rcParams['text.usetex'] = True\n",
    "plt.rcParams['font.family'] = 'Helvetica'\n",
    "plt.rcParams['font.size'] = MEDIUM_SIZE\n",
    "plt.rcParams['axes.titlesize'] = LARGE_SIZE\n",
    "plt.rcParams['axes.labelsize'] = MEDIUM_SIZE\n",
    "plt.rcParams['xtick.labelsize'] = MEDIUM_SIZE\n",
    "plt.rcParams['ytick.labelsize'] = MEDIUM_SIZE\n",
    "plt.rcParams['legend.fontsize'] = MEDIUM_SIZE\n",
    "plt.rcParams['figure.titlesize'] = LARGE_SIZE\n",
    "plt.rcParams['figure.figsize'] = [7.2, 7.2]\n",
    "plt.rcParams['figure.dpi'] = 60\n",
    "plt.rcParams['figure.facecolor'] = (1.0, 1.0, 1.0, 0.0)\n",
    "\n",
    "JSON_FILE = \"../assets/data/wk13_practice.json\"\n",
    "IMAGE_PATH = \"../assets/images/wk13\"\n",
    "probs = []\n",
    "nprob = 0"
   ]
  },
  {
   "cell_type": "code",
   "execution_count": 2,
   "id": "5e2f271c-97a7-45c9-b525-cb650c10752d",
   "metadata": {},
   "outputs": [
    {
     "name": "stdout",
     "output_type": "stream",
     "text": [
      "30\n"
     ]
    }
   ],
   "source": [
    "for i in range(30):\n",
    "    K = rng.integers(2,6)\n",
    "    X = rng.integers(0,11,size=K)\n",
    "    numers = rng.integers(1,K,size=K)\n",
    "    denom = np.sum(numers)\n",
    "    p = numers/denom\n",
    "    setup = fr\"\"\"\n",
    "A random variable \\(X\\) can take on the following values:\n",
    "\n",
    "$$\\begin{{align}}\n",
    "\"\"\"\n",
    "    for k in range(K):\n",
    "        setup += fr\"x_{k+1} &= {X[k]:g} \\\\\"\n",
    "    setup += fr\"\"\"\n",
    "\\end{{align}}$$\n",
    "\n",
    "with probabilities:\n",
    "\n",
    "$$\\begin{{align}}\n",
    "\"\"\"\n",
    "    for k in range(K):\n",
    "        setup += fr\"p_{k+1} &= {Number(numers[k],denom).as_frac(inline=True,rmplus=True)} \\\\\"\n",
    "    setup += fr\"\"\"\n",
    "\\end{{align}}$$\n",
    "\n",
    "Calculate the expected value of \\(X\\).\n",
    "\"\"\"\n",
    "    EX = np.sum(p*X)\n",
    "    solution = fr\"\"\"\n",
    "$$E[X] = {EX:g}$$\n",
    "\"\"\"\n",
    "    probs.append({'setup':setup, 'solution':solution})\n",
    "    nprob+=1\n",
    "print(len(probs))\n"
   ]
  },
  {
   "cell_type": "code",
   "execution_count": 3,
   "id": "4f8b0921-3860-4486-88a4-b151b561fcb0",
   "metadata": {},
   "outputs": [
    {
     "name": "stdout",
     "output_type": "stream",
     "text": [
      "70\n"
     ]
    }
   ],
   "source": [
    "df = pd.read_csv(\"Insurance_examples.csv\")\n",
    "idx1 = df['fun']=='ln'\n",
    "idx2 = df['fun']=='sqrt'\n",
    "mydf = pd.concat([\n",
    "    df.loc[idx1].sample(20,random_state=rng),\n",
    "    df.loc[idx2].sample(20,random_state=rng)\n",
    "])\n",
    "for idx, row in mydf.iterrows():\n",
    "    params = dict(row).copy()\n",
    "    prob = Insurance(params)\n",
    "    sol = prob.sol\n",
    "    setup = prob.setup()\n",
    "    setup += fr\"\"\"\n",
    "<p>1. Calculate the expected value of \\(X\\).</p>\n",
    "<p>2. Calculate the expected utility.</p>\n",
    "<p>3. Calculate the certainty equivalent of \\(X\\).</p>\n",
    "<p>4. How much is this person willing to pay to avoid the risk of the problem?<p>\n",
    "<p>5. How much would it cost a risk-neutral insurance company to insure the individual against the risk of the problem?</p>\n",
    "\"\"\"\n",
    "    solution = fr\"\"\"\n",
    "$$E[X] = {sol['EW']:,g} $$\n",
    "$$E[u(X)] = {sol['EU']:,g} $$\n",
    "$$CE = {sol['CE']:,g} $$\n",
    "$$WTP = {sol['WTP']:,g} $$\n",
    "$$Cost = {sol['FairCost']:,g} $$\n",
    "\"\"\"\n",
    "    probs.append({'setup':setup, 'solution':solution})\n",
    "    nprob+=1\n",
    "print(len(probs))    "
   ]
  },
  {
   "cell_type": "code",
   "execution_count": 4,
   "id": "04bb6fff-3a7f-4010-a369-7c6ee3885235",
   "metadata": {},
   "outputs": [
    {
     "name": "stdout",
     "output_type": "stream",
     "text": [
      "80\n"
     ]
    }
   ],
   "source": [
    "for i in range(10):\n",
    "    T = rng.integers(5,101)\n",
    "    beta = rng.choice([0.85, 0.9, 0.95, 0.98, 0.99])\n",
    "    x = rng.choice([100,200,300,500,1000,2000,10000,15000,20000])\n",
    "    PV = ((1 - beta**(T+1))/(1-beta) - 1)*x\n",
    "    setup = fr\"\"\"\n",
    "Calculate the present value of a promise to receive \\(\\${x:,g}\\) per year for {T:g} years when the discount factor is \\(\\beta = {beta:g}\\).\n",
    "\"\"\"\n",
    "    solution = fr\"\"\"\n",
    "$${PV:,g}$$\n",
    "\"\"\"\n",
    "    probs.append({'setup':setup, 'solution':solution})\n",
    "    nprob+=1\n",
    "print(len(probs))"
   ]
  },
  {
   "cell_type": "code",
   "execution_count": 5,
   "id": "bd0ed1dd-1024-4911-8967-479c0dfcbb43",
   "metadata": {},
   "outputs": [
    {
     "name": "stdout",
     "output_type": "stream",
     "text": [
      "90\n"
     ]
    }
   ],
   "source": [
    "for i in range(10):\n",
    "    beta = rng.choice([0.85, 0.9, 0.95, 0.98, 0.99])\n",
    "    x = rng.choice([100,200,300,500,1000,2000,10000,15000,20000])\n",
    "    PV = beta/(1-beta)*x\n",
    "    setup = fr\"\"\"\n",
    "Calculate the present value of a promise to receive \\(\\${x:,g}\\) per year for eternity when the discount factor is \\(\\beta = {beta:g}\\).\n",
    "\"\"\"\n",
    "    solution = fr\"\"\"\n",
    "$${PV:,g}$$\n",
    "\"\"\"\n",
    "    probs.append({'setup':setup, 'solution':solution})\n",
    "    nprob+=1\n",
    "print(len(probs))"
   ]
  },
  {
   "cell_type": "code",
   "execution_count": 6,
   "id": "bbbf32ca-8cb1-434f-ae6f-f8fb5ea8c03e",
   "metadata": {},
   "outputs": [
    {
     "name": "stdout",
     "output_type": "stream",
     "text": [
      "110\n"
     ]
    }
   ],
   "source": [
    "for i in range(20):\n",
    "    beta = rng.choice([0.85, 0.9, 0.95, 0.98, 0.99])\n",
    "    T = rng.integers(3,7)\n",
    "    X = rng.integers(0,11,size=T)\n",
    "    PV = 0\n",
    "    for t in range(T):\n",
    "        PV+=beta**(t+1) * X[t]\n",
    "    setup = fr\"\"\"\n",
    "Calculate the present value of a promise to receive the following stream of payments, \\(x_t\\), when the discount factor is \\(\\beta = {beta:g}\\):\n",
    "\n",
    "$$\\begin{{align}}\n",
    "\"\"\"\n",
    "    for t in range(T):\n",
    "        setup += fr\"x_{t+1} &= {X[t]:g} \\\\\"\n",
    "    setup += fr\"\"\"\n",
    "\\end{{align}}$$\n",
    "\"\"\"\n",
    "    solution = fr\"\"\"\n",
    "$${PV:,g}$$\n",
    "\"\"\"\n",
    "    probs.append({'setup':setup, 'solution':solution})\n",
    "    nprob+=1\n",
    "print(len(probs))"
   ]
  },
  {
   "cell_type": "code",
   "execution_count": 7,
   "id": "0334d9af-dff6-4217-b19d-91bd90f52072",
   "metadata": {},
   "outputs": [
    {
     "name": "stdout",
     "output_type": "stream",
     "text": [
      "150\n"
     ]
    }
   ],
   "source": [
    "df = pd.read_csv(\"Savings_examples.csv\")\n",
    "idx1 = df['fun']=='ln'\n",
    "idx2 = df['fun']=='sqrt'\n",
    "mydf = pd.concat([\n",
    "    df.loc[idx1].sample(20,random_state=rng),\n",
    "    df.loc[idx2].sample(20,random_state=rng)\n",
    "])\n",
    "for idx, row in mydf.iterrows():\n",
    "    params = dict(row).copy()\n",
    "    prob = Savings(params)\n",
    "    sol = prob.sol\n",
    "    fun, Y, p, beta = params['fun'], params['Y'], params['p'], params['beta']\n",
    "    if fun=='ln':\n",
    "        myfun = fr\"\\ln c_t\"\n",
    "        myfunc1 = fr\"\\ln c_1\"\n",
    "        myfunc2 = fr\"\\ln c_2\"\n",
    "    elif fun=='sqrt':\n",
    "        myfun = fr\"\\sqrt{{c_t}}\"\n",
    "        myfunc1 = fr\"\\sqrt{{c_1}}\"\n",
    "        myfunc2 = fr\"\\sqrt{{c_2}}\"\n",
    "    setup = fr\"\"\"\n",
    "<p>An individual lives for two periods. In period 1, he earns an income of \\(Y={Y:,g}\\). In period 2, he earns no income. In order to consume in period 2, the person must buy bonds in period 1. A bond promises to pay \\(\\$1\\) per bond in period 2, and the price of a bond in period 1 is \\(p={p:g}\\).</p>\n",
    "\n",
    "<p>The individual gets utility from consuming in each period. If he consumes a dollar amount \\(c_t\\) in period \\(t\\), the utility he gets is \\(u(c_t) = {myfun}\\).</p>\n",
    "\n",
    "<p>The individual's objective is to maximize his present value of time-discounted utility:\n",
    "\n",
    "$$ {myfunc1} + \\beta {myfunc2} $$\n",
    "\n",
    "where \\(\\beta = {beta:g}\\).</p>\n",
    "\"\"\"    \n",
    "    setup += fr\"\"\"\n",
    "<p>1. Calculate how much the person will consume in each period.</p>\n",
    "<p>2. How many bonds does the person buy in period 1?</p>\n",
    "<p>3. Calculate the interest rate on bonds.</p>\n",
    "\"\"\"\n",
    "    solution = fr\"\"\"\n",
    "$$c_1 = {sol['c1']:,g}$$\n",
    "$$c_2 = {sol['c2']:,g}$$\n",
    "$$b_1 = {sol['c2']:,g}$$\n",
    "$$r = {sol['r']:g}$$\n",
    "\"\"\"\n",
    "    probs.append({'setup':setup, 'solution':solution})\n",
    "    nprob+=1\n",
    "print(len(probs))    "
   ]
  },
  {
   "cell_type": "code",
   "execution_count": 8,
   "id": "c55d4467-8661-40b3-ad19-524f2feacca2",
   "metadata": {},
   "outputs": [],
   "source": [
    "with open(JSON_FILE, 'w') as f:\n",
    "    json.dump(probs, f)"
   ]
  },
  {
   "cell_type": "code",
   "execution_count": 9,
   "id": "c4e3e697-5232-45e1-86af-82bb39287878",
   "metadata": {},
   "outputs": [],
   "source": [
    "with open(JSON_FILE, 'r') as f:\n",
    "    myprobs = json.load(f)"
   ]
  },
  {
   "cell_type": "code",
   "execution_count": 11,
   "id": "334981b0-251c-4ede-acd4-7e00dab2dd32",
   "metadata": {},
   "outputs": [
    {
     "data": {
      "text/html": [
       "\n",
       "A random variable \\(X\\) can take on the following values:\n",
       "\n",
       "$$\\begin{align}\n",
       "x_1 &= 8 \\\\x_2 &= 3 \\\\\n",
       "\\end{align}$$\n",
       "\n",
       "with probabilities:\n",
       "\n",
       "$$\\begin{align}\n",
       "p_1 &= 1 / 2 \\\\p_2 &= 1 / 2 \\\\\n",
       "\\end{align}$$\n",
       "\n",
       "Calculate the expected value of \\(X\\).\n"
      ],
      "text/plain": [
       "<IPython.core.display.HTML object>"
      ]
     },
     "metadata": {},
     "output_type": "display_data"
    },
    {
     "data": {
      "text/html": [
       "\n",
       "$$E[X] = 5.5$$\n"
      ],
      "text/plain": [
       "<IPython.core.display.HTML object>"
      ]
     },
     "metadata": {},
     "output_type": "display_data"
    }
   ],
   "source": [
    "prob = np.random.choice(myprobs)\n",
    "display(HTML(prob['setup']))\n",
    "display(HTML(prob['solution']))"
   ]
  }
 ],
 "metadata": {
  "kernelspec": {
   "display_name": "Python 3 (ipykernel)",
   "language": "python",
   "name": "python3"
  },
  "language_info": {
   "codemirror_mode": {
    "name": "ipython",
    "version": 3
   },
   "file_extension": ".py",
   "mimetype": "text/x-python",
   "name": "python",
   "nbconvert_exporter": "python",
   "pygments_lexer": "ipython3",
   "version": "3.12.7"
  }
 },
 "nbformat": 4,
 "nbformat_minor": 5
}
