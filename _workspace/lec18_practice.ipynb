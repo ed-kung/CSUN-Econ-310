{
 "cells": [
  {
   "cell_type": "code",
   "execution_count": 1,
   "id": "c047a86b-2714-4ec7-93c3-db89cd57df0d",
   "metadata": {},
   "outputs": [],
   "source": [
    "import os\n",
    "import numpy as np\n",
    "import pandas as pd\n",
    "from IPython.display import display, Markdown, Latex\n",
    "import json\n",
    "import utils2 as u2\n",
    "from matplotlib import pyplot as plt\n",
    "\n",
    "SMALL_SIZE = 14\n",
    "MEDIUM_SIZE = 16\n",
    "LARGE_SIZE = 18\n",
    "HUGE_SIZE = 20\n",
    "\n",
    "plt.rcdefaults()\n",
    "plt.rcParams['text.usetex'] = True\n",
    "plt.rcParams['font.family'] = 'Helvetica'\n",
    "plt.rcParams['font.size'] = MEDIUM_SIZE\n",
    "plt.rcParams['axes.titlesize'] = LARGE_SIZE\n",
    "plt.rcParams['axes.labelsize'] = MEDIUM_SIZE\n",
    "plt.rcParams['xtick.labelsize'] = MEDIUM_SIZE\n",
    "plt.rcParams['ytick.labelsize'] = MEDIUM_SIZE\n",
    "plt.rcParams['legend.fontsize'] = MEDIUM_SIZE\n",
    "plt.rcParams['figure.titlesize'] = LARGE_SIZE\n",
    "plt.rcParams['figure.figsize'] = [7.2, 7.2]\n",
    "plt.rcParams['figure.dpi'] = 60\n",
    "plt.rcParams['figure.facecolor'] = (1.0, 1.0, 1.0, 0.0)\n",
    "\n",
    "JSON_FILE = \"../assets/data/lec18_practice.json\"\n",
    "PROBLEM_NAME = \"lec18_practice_{}\"\n",
    "IMAGE_PATH = \"../assets/images/graphs\"\n",
    "probs = []\n",
    "nprob = 0\n",
    "\n",
    "rng = np.random.default_rng(118)"
   ]
  },
  {
   "cell_type": "code",
   "execution_count": 2,
   "id": "93a3c78e-b886-4a9c-ba88-8506c099b513",
   "metadata": {},
   "outputs": [
    {
     "name": "stdout",
     "output_type": "stream",
     "text": [
      "{'x': [1, 2, 3, 4], 'p': [0.25, 0.25, 0.25, 0.25]}\n",
      "{'EX': 2.5}\n",
      "0:  A random variable \\(X\\) can take on the following values: \\(x_1=1\\), \\(x_2=2\\), \\(x_3=3\\), \\(x_4=4\\), with probabilities \\(p_1=0.25\\), \\(p_2=0.25\\), \\(p_3=0.25\\), \\(p_4=0.25\\). \n",
      "\n",
      "0: Calculate the expected value of \\(X\\).\n",
      "\n"
     ]
    }
   ],
   "source": [
    "TYPE = \"ExpectedValueProblem\"\n",
    "u2.show_menu(TYPE)"
   ]
  },
  {
   "cell_type": "code",
   "execution_count": 3,
   "id": "9336c3ca-e55d-43ea-8615-a85d67c8a6c3",
   "metadata": {},
   "outputs": [
    {
     "name": "stdout",
     "output_type": "stream",
     "text": [
      "30\n"
     ]
    }
   ],
   "source": [
    "TYPE = \"ExpectedValueProblem\"\n",
    "df = pd.read_pickle(f\"{TYPE}.pkl\")\n",
    "\n",
    "for idx, row in df.sample(30, random_state=rng).iterrows():\n",
    "    params = dict(row.copy())\n",
    "    name = PROBLEM_NAME.format(nprob)\n",
    "    prob = u2.load_problem(TYPE, params=params, rng=rng, name=name)\n",
    "    online_format = u2.get_online_format(prob, setup_id=0, question_ids=[0])\n",
    "    probs.append(online_format)\n",
    "    nprob+=1\n",
    "print(nprob)"
   ]
  },
  {
   "cell_type": "code",
   "execution_count": 4,
   "id": "1b4575f3-1c7d-4521-9a9a-b6c95b7e7997",
   "metadata": {},
   "outputs": [
    {
     "name": "stdout",
     "output_type": "stream",
     "text": [
      "{'W0': 1000, 'D': 200, 'p': 0.2, 'fun': 'ln'}\n",
      "{'EX': 960.0, 'EU': 6.863126568719295, 'CE': 956.352499790037, 'WTP': 43.64750020996303, 'FairCost': 40.0}\n",
      "0:  An individual has an initial wealth of \\(1,000\\). There is a \\(20\\%\\) chance that the individual has an accident which would force them to pay \\(200\\) to fix the problem. Let \\(X\\) be a random variable representing the person's wealth at the end of the day. The individual's utility function over wealth is: $$ u(X) = \\ln X $$ \n",
      "\n",
      "0: Calculate the expected value of \\(X\\).\n",
      "\n",
      "1: Calculate the expected utility.\n",
      "\n",
      "2: Calculate the certainty equivalent of \\(X\\).\n",
      "\n",
      "3: How much is the person willing to pay to avoid the risk of the accident?\n",
      "\n",
      "4: How much would it cost a risk-neutral insurance company to insure the individual against this risk?\n",
      "\n"
     ]
    }
   ],
   "source": [
    "TYPE = \"InsuranceProblem\"\n",
    "u2.show_menu(TYPE)"
   ]
  },
  {
   "cell_type": "code",
   "execution_count": 5,
   "id": "e12249d4-e718-450f-8f26-fb7f812f8fc4",
   "metadata": {},
   "outputs": [
    {
     "name": "stdout",
     "output_type": "stream",
     "text": [
      "70\n"
     ]
    }
   ],
   "source": [
    "TYPE = \"InsuranceProblem\"\n",
    "df = pd.read_pickle(f\"{TYPE}.pkl\")\n",
    "\n",
    "for idx, row in df.sample(40, random_state=rng).iterrows():\n",
    "    params = dict(row.copy())\n",
    "    name = PROBLEM_NAME.format(nprob)\n",
    "    prob = u2.load_problem(TYPE, params=params, rng=rng, name=name)\n",
    "    online_format = u2.get_online_format(prob, setup_id=0, question_ids=[0,1,2,3,4])\n",
    "    probs.append(online_format)\n",
    "    nprob+=1\n",
    "print(nprob)"
   ]
  },
  {
   "cell_type": "code",
   "execution_count": 6,
   "id": "2197e453-f9be-469d-b5c7-e0dc22dfbd8c",
   "metadata": {},
   "outputs": [],
   "source": [
    "with open(JSON_FILE, 'w') as f:\n",
    "    json.dump(probs, f)"
   ]
  },
  {
   "cell_type": "code",
   "execution_count": 7,
   "id": "8ddd904b-d625-40a6-bdbd-9b7482ede81a",
   "metadata": {},
   "outputs": [
    {
     "name": "stdout",
     "output_type": "stream",
     "text": [
      "<p>\n",
      "An individual has an initial wealth of \\(2,000\\). There is a \\(40\\%\\) chance that the individual has an accident which would force them to pay \\(500\\) to fix the problem. Let \\(X\\) be a random variable representing the person's wealth at the end of the day. The individual's utility function over wealth is:\n",
      "$$ u(X) = \\ln X $$\n",
      "</p>\n",
      "<p>1. Calculate the expected value of \\(X\\).</p>\n",
      "<p>2. Calculate the expected utility.</p>\n",
      "<p>3. Calculate the certainty equivalent of \\(X\\).</p>\n",
      "<p>4. How much is the person willing to pay to avoid the risk of the accident?</p>\n",
      "<p>5. How much would it cost a risk-neutral insurance company to insure the individual against this risk?</p>\n",
      "\n"
     ]
    }
   ],
   "source": [
    "print(online_format['setup'])"
   ]
  }
 ],
 "metadata": {
  "kernelspec": {
   "display_name": "Python 3 (ipykernel)",
   "language": "python",
   "name": "python3"
  },
  "language_info": {
   "codemirror_mode": {
    "name": "ipython",
    "version": 3
   },
   "file_extension": ".py",
   "mimetype": "text/x-python",
   "name": "python",
   "nbconvert_exporter": "python",
   "pygments_lexer": "ipython3",
   "version": "3.12.8"
  }
 },
 "nbformat": 4,
 "nbformat_minor": 5
}
