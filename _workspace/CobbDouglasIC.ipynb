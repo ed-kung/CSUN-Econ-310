{
 "cells": [
  {
   "cell_type": "code",
   "execution_count": 1,
   "id": "2b06770f-63e6-4bb8-8104-1850bcc82b73",
   "metadata": {},
   "outputs": [],
   "source": [
    "import os\n",
    "import numpy as np\n",
    "import pandas as pd\n",
    "from IPython.display import display, Markdown, Latex\n",
    "import json\n",
    "from utils import CobbDouglasIC, get_random_prob\n"
   ]
  },
  {
   "cell_type": "code",
   "execution_count": 2,
   "id": "ab6bb69c-448e-4a2c-96d0-91a6e7350439",
   "metadata": {},
   "outputs": [
    {
     "data": {
      "text/latex": [
       "\n",
       "A consumer has utility function over goods \\(x\\) and \\(y\\) given by:\n",
       "\n",
       "$$ u(x,y) = Ax^{a/b}y^{c/d} $$\n",
       "\n",
       "Find the indifference curve with \\( u(x,y) = U \\).\n",
       "\n",
       "Solution:\n",
       "\n",
       "$$ y = \\left( \\frac{U}{A} \\right)^{d/c} x^{ -\\frac{ ad }{ bc } }  $$\n"
      ],
      "text/plain": [
       "<IPython.core.display.Latex object>"
      ]
     },
     "metadata": {},
     "output_type": "display_data"
    },
    {
     "data": {
      "text/latex": [
       "\n",
       "A consumer has utility function over goods \\(x\\) and \\(y\\) given by:\n",
       "\n",
       "$$ u(x,y) = x^{ 1/2 }y^{ 1/2 } $$\n",
       "\n",
       "Find the indifference curve with \\( u(x,y) = 2 \\).\n"
      ],
      "text/plain": [
       "<IPython.core.display.Latex object>"
      ]
     },
     "metadata": {},
     "output_type": "display_data"
    },
    {
     "data": {
      "text/latex": [
       "$$ y = 4x^{ -1 } $$"
      ],
      "text/plain": [
       "<IPython.core.display.Latex object>"
      ]
     },
     "metadata": {},
     "output_type": "display_data"
    }
   ],
   "source": [
    "prob = CobbDouglasIC()\n",
    "display(Latex(prob.general_setup()))\n",
    "display(Latex(prob.setup()))\n",
    "display(Latex(prob.solution()))"
   ]
  },
  {
   "cell_type": "code",
   "execution_count": 3,
   "id": "c7a19e51-424e-4a1e-b170-32d6b3f9b807",
   "metadata": {},
   "outputs": [
    {
     "data": {
      "text/latex": [
       "\n",
       "A consumer has utility function over goods \\(x\\) and \\(y\\) given by:\n",
       "\n",
       "$$ u(x,y) = 8x^{ 3/4 }y^{ 1/4 } $$\n",
       "\n",
       "Find the indifference curve with \\( u(x,y) = 16 \\).\n"
      ],
      "text/plain": [
       "<IPython.core.display.Latex object>"
      ]
     },
     "metadata": {},
     "output_type": "display_data"
    },
    {
     "data": {
      "text/latex": [
       "$$ y = 16x^{ -3 } $$"
      ],
      "text/plain": [
       "<IPython.core.display.Latex object>"
      ]
     },
     "metadata": {},
     "output_type": "display_data"
    }
   ],
   "source": [
    "prob = CobbDouglasIC({'A':8,'x':'x','a':3,'b':4,'y':'y','c':1,'d':4,'U':16})\n",
    "display(Latex(prob.setup()))\n",
    "display(Latex(prob.solution()))"
   ]
  },
  {
   "cell_type": "code",
   "execution_count": 4,
   "id": "3ca795be-3aeb-4dad-9b10-d1c28605b226",
   "metadata": {},
   "outputs": [
    {
     "name": "stdout",
     "output_type": "stream",
     "text": [
      "396 examples found.\n"
     ]
    }
   ],
   "source": [
    "prob = CobbDouglasIC()\n",
    "examples = []\n",
    "for A in np.arange(1,12):\n",
    "    for D in np.arange(2,5):\n",
    "        for a in np.arange(1,D):\n",
    "            for U in np.arange(1,7)*A:\n",
    "                b = D\n",
    "                c = D-a\n",
    "                d = D\n",
    "                params = {'A':A,'x':'x','a':a,'b':b,'y':'y','c':c,'d':d,'U':U}\n",
    "                prob = CobbDouglasIC(params)\n",
    "                if prob.check_solution():\n",
    "                    examples.append( prob.params )\n",
    "examples = pd.DataFrame.from_dict(examples)\n",
    "examples = examples.drop_duplicates().reset_index(drop=True)\n",
    "examples.to_csv(\"CobbDouglasIC_examples.csv\", header=True, index=False)\n",
    "print(f\"{len(examples)} examples found.\")"
   ]
  },
  {
   "cell_type": "code",
   "execution_count": 5,
   "id": "42130424-78c0-4aff-bd5f-fa8793319220",
   "metadata": {},
   "outputs": [
    {
     "data": {
      "text/latex": [
       "\n",
       "A consumer has utility function over goods \\(x\\) and \\(y\\) given by:\n",
       "\n",
       "$$ u(x,y) = 2x^{ 1/2 }y^{ 1/2 } $$\n",
       "\n",
       "Find the indifference curve with \\( u(x,y) = 4 \\).\n"
      ],
      "text/plain": [
       "<IPython.core.display.Latex object>"
      ]
     },
     "metadata": {},
     "output_type": "display_data"
    },
    {
     "data": {
      "text/latex": [
       "$$ y = 4x^{ -1 } $$"
      ],
      "text/plain": [
       "<IPython.core.display.Latex object>"
      ]
     },
     "metadata": {},
     "output_type": "display_data"
    }
   ],
   "source": [
    "myprob = get_random_prob(CobbDouglasIC, \"CobbDouglasIC_examples.csv\")\n",
    "display(Latex(myprob.setup()))\n",
    "display(Latex(myprob.solution()))"
   ]
  }
 ],
 "metadata": {
  "kernelspec": {
   "display_name": "Python 3 (ipykernel)",
   "language": "python",
   "name": "python3"
  },
  "language_info": {
   "codemirror_mode": {
    "name": "ipython",
    "version": 3
   },
   "file_extension": ".py",
   "mimetype": "text/x-python",
   "name": "python",
   "nbconvert_exporter": "python",
   "pygments_lexer": "ipython3",
   "version": "3.10.5"
  }
 },
 "nbformat": 4,
 "nbformat_minor": 5
}
