{
 "cells": [
  {
   "cell_type": "code",
   "execution_count": 1,
   "id": "2b06770f-63e6-4bb8-8104-1850bcc82b73",
   "metadata": {},
   "outputs": [],
   "source": [
    "import os\n",
    "import numpy as np\n",
    "import pandas as pd\n",
    "from IPython.display import display, Markdown, Latex\n",
    "import json\n",
    "from utils import CobbDouglasIC, get_random_prob\n"
   ]
  },
  {
   "cell_type": "code",
   "execution_count": 2,
   "id": "ab6bb69c-448e-4a2c-96d0-91a6e7350439",
   "metadata": {},
   "outputs": [
    {
     "data": {
      "text/latex": [
       "\n",
       "A consumer has utility function over goods \\(x\\) and \\(y\\) given by:\n",
       "\n",
       "$$ u(x,y) = Ax^{a/b}y^{c/d} $$\n",
       "\n",
       "Find the indifference curve with \\( u(x,y) = U \\).\n",
       "\n",
       "Solution:\n",
       "\n",
       "$$ y = \\left( \\frac{U}{A} \\right)^{d/c} x^{ -\\frac{ ad }{ bc } }  $$\n"
      ],
      "text/plain": [
       "<IPython.core.display.Latex object>"
      ]
     },
     "metadata": {},
     "output_type": "display_data"
    },
    {
     "ename": "TypeError",
     "evalue": "cbeq() takes from 0 to 5 positional arguments but 7 were given",
     "output_type": "error",
     "traceback": [
      "\u001b[0;31m---------------------------------------------------------------------------\u001b[0m",
      "\u001b[0;31mTypeError\u001b[0m                                 Traceback (most recent call last)",
      "Cell \u001b[0;32mIn[2], line 3\u001b[0m\n\u001b[1;32m      1\u001b[0m prob \u001b[38;5;241m=\u001b[39m CobbDouglasIC()\n\u001b[1;32m      2\u001b[0m display(Latex(prob\u001b[38;5;241m.\u001b[39mgeneral_setup()))\n\u001b[0;32m----> 3\u001b[0m display(Latex(\u001b[43mprob\u001b[49m\u001b[38;5;241;43m.\u001b[39;49m\u001b[43msetup\u001b[49m\u001b[43m(\u001b[49m\u001b[43m)\u001b[49m))\n\u001b[1;32m      4\u001b[0m display(Latex(prob\u001b[38;5;241m.\u001b[39msolution()))\n",
      "File \u001b[0;32m~/workspace/projects/CSUN-Econ-310/_workspace/utils.py:346\u001b[0m, in \u001b[0;36mCobbDouglasIC.setup\u001b[0;34m(self)\u001b[0m\n\u001b[1;32m    341\u001b[0m         params \u001b[38;5;241m=\u001b[39m \u001b[38;5;28mself\u001b[39m\u001b[38;5;241m.\u001b[39mparams\n\u001b[1;32m    342\u001b[0m         A,x,a,b,y,c,d,U\u001b[38;5;241m=\u001b[39mparams[\u001b[38;5;124m'\u001b[39m\u001b[38;5;124mA\u001b[39m\u001b[38;5;124m'\u001b[39m],params[\u001b[38;5;124m'\u001b[39m\u001b[38;5;124mx\u001b[39m\u001b[38;5;124m'\u001b[39m],params[\u001b[38;5;124m'\u001b[39m\u001b[38;5;124ma\u001b[39m\u001b[38;5;124m'\u001b[39m],params[\u001b[38;5;124m'\u001b[39m\u001b[38;5;124mb\u001b[39m\u001b[38;5;124m'\u001b[39m],params[\u001b[38;5;124m'\u001b[39m\u001b[38;5;124my\u001b[39m\u001b[38;5;124m'\u001b[39m],params[\u001b[38;5;124m'\u001b[39m\u001b[38;5;124mc\u001b[39m\u001b[38;5;124m'\u001b[39m],params[\u001b[38;5;124m'\u001b[39m\u001b[38;5;124md\u001b[39m\u001b[38;5;124m'\u001b[39m],params[\u001b[38;5;124m'\u001b[39m\u001b[38;5;124mU\u001b[39m\u001b[38;5;124m'\u001b[39m]\n\u001b[1;32m    343\u001b[0m         \u001b[38;5;28;01mreturn\u001b[39;00m \u001b[38;5;124mfr\u001b[39m\u001b[38;5;124m\"\"\"\u001b[39m\n\u001b[1;32m    344\u001b[0m \u001b[38;5;124mA consumer has utility function over goods \u001b[39m\u001b[38;5;124m\\\u001b[39m\u001b[38;5;124m(\u001b[39m\u001b[38;5;132;01m{\u001b[39;00mx\u001b[38;5;132;01m}\u001b[39;00m\u001b[38;5;124m\\\u001b[39m\u001b[38;5;124m) and \u001b[39m\u001b[38;5;124m\\\u001b[39m\u001b[38;5;124m(\u001b[39m\u001b[38;5;132;01m{\u001b[39;00my\u001b[38;5;132;01m}\u001b[39;00m\u001b[38;5;124m\\\u001b[39m\u001b[38;5;124m) given by:\u001b[39m\n\u001b[1;32m    345\u001b[0m \n\u001b[0;32m--> 346\u001b[0m \u001b[38;5;124m$$ u(\u001b[39m\u001b[38;5;132;01m{\u001b[39;00mx\u001b[38;5;132;01m}\u001b[39;00m\u001b[38;5;124m,\u001b[39m\u001b[38;5;132;01m{\u001b[39;00my\u001b[38;5;132;01m}\u001b[39;00m\u001b[38;5;124m) = \u001b[39m\u001b[38;5;132;01m{\u001b[39;00mcbeq(A,x,a,b,y,c,d)\u001b[38;5;132;01m}\u001b[39;00m\u001b[38;5;124m $$\u001b[39m\n\u001b[1;32m    347\u001b[0m \n\u001b[1;32m    348\u001b[0m \u001b[38;5;124mFind the indifference curve with \u001b[39m\u001b[38;5;124m\\\u001b[39m\u001b[38;5;124m( u(\u001b[39m\u001b[38;5;132;01m{\u001b[39;00mx\u001b[38;5;132;01m}\u001b[39;00m\u001b[38;5;124m,\u001b[39m\u001b[38;5;132;01m{\u001b[39;00my\u001b[38;5;132;01m}\u001b[39;00m\u001b[38;5;124m) = \u001b[39m\u001b[38;5;132;01m{\u001b[39;00mU\u001b[38;5;132;01m}\u001b[39;00m\u001b[38;5;124m \u001b[39m\u001b[38;5;124m\\\u001b[39m\u001b[38;5;124m).\u001b[39m\n\u001b[1;32m    349\u001b[0m \u001b[38;5;124m\"\"\"\u001b[39m\n",
      "\u001b[0;31mTypeError\u001b[0m: cbeq() takes from 0 to 5 positional arguments but 7 were given"
     ]
    }
   ],
   "source": [
    "prob = CobbDouglasIC()\n",
    "display(Latex(prob.general_setup()))\n",
    "display(Latex(prob.setup()))\n",
    "display(Latex(prob.solution()))"
   ]
  },
  {
   "cell_type": "code",
   "execution_count": null,
   "id": "c7a19e51-424e-4a1e-b170-32d6b3f9b807",
   "metadata": {},
   "outputs": [],
   "source": [
    "prob = CobbDouglasIC({'A':8,'x':'x','a':3,'b':4,'y':'y','c':1,'d':4,'U':16})\n",
    "display(Latex(prob.setup()))\n",
    "display(Latex(prob.solution()))"
   ]
  },
  {
   "cell_type": "code",
   "execution_count": null,
   "id": "3ca795be-3aeb-4dad-9b10-d1c28605b226",
   "metadata": {},
   "outputs": [],
   "source": [
    "prob = CobbDouglasIC()\n",
    "examples = []\n",
    "for A in np.arange(1,12):\n",
    "    for D in np.arange(2,5):\n",
    "        for a in np.arange(1,D):\n",
    "            for U in np.arange(1,7)*A:\n",
    "                b = D\n",
    "                c = D-a\n",
    "                d = D\n",
    "                params = {'A':A,'x':'x','a':a,'b':b,'y':'y','c':c,'d':d,'U':U}\n",
    "                prob = CobbDouglasIC(params)\n",
    "                if prob.check_solution():\n",
    "                    examples.append( prob.params )\n",
    "examples = pd.DataFrame.from_dict(examples)\n",
    "examples = examples.drop_duplicates().reset_index(drop=True)\n",
    "examples.to_csv(\"CobbDouglasIC_examples.csv\", header=True, index=False)\n",
    "print(f\"{len(examples)} examples found.\")"
   ]
  },
  {
   "cell_type": "code",
   "execution_count": null,
   "id": "42130424-78c0-4aff-bd5f-fa8793319220",
   "metadata": {},
   "outputs": [],
   "source": [
    "myprob = get_random_prob(CobbDouglasIC, \"CobbDouglasIC_examples.csv\")\n",
    "display(Latex(myprob.setup()))\n",
    "display(Latex(myprob.solution()))"
   ]
  }
 ],
 "metadata": {
  "kernelspec": {
   "display_name": "Python 3 (ipykernel)",
   "language": "python",
   "name": "python3"
  },
  "language_info": {
   "codemirror_mode": {
    "name": "ipython",
    "version": 3
   },
   "file_extension": ".py",
   "mimetype": "text/x-python",
   "name": "python",
   "nbconvert_exporter": "python",
   "pygments_lexer": "ipython3",
   "version": "3.9.6"
  }
 },
 "nbformat": 4,
 "nbformat_minor": 5
}
