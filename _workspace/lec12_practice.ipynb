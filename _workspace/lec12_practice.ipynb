{
 "cells": [
  {
   "cell_type": "code",
   "execution_count": 1,
   "id": "c047a86b-2714-4ec7-93c3-db89cd57df0d",
   "metadata": {},
   "outputs": [],
   "source": [
    "import os\n",
    "import numpy as np\n",
    "import pandas as pd\n",
    "from IPython.display import display, Markdown, Latex\n",
    "import json\n",
    "import utils2 as u2\n",
    "from matplotlib import pyplot as plt\n",
    "\n",
    "SMALL_SIZE = 14\n",
    "MEDIUM_SIZE = 16\n",
    "LARGE_SIZE = 18\n",
    "HUGE_SIZE = 20\n",
    "\n",
    "plt.rcdefaults()\n",
    "plt.rcParams['text.usetex'] = True\n",
    "plt.rcParams['font.family'] = 'Helvetica'\n",
    "plt.rcParams['font.size'] = MEDIUM_SIZE\n",
    "plt.rcParams['axes.titlesize'] = LARGE_SIZE\n",
    "plt.rcParams['axes.labelsize'] = MEDIUM_SIZE\n",
    "plt.rcParams['xtick.labelsize'] = MEDIUM_SIZE\n",
    "plt.rcParams['ytick.labelsize'] = MEDIUM_SIZE\n",
    "plt.rcParams['legend.fontsize'] = MEDIUM_SIZE\n",
    "plt.rcParams['figure.titlesize'] = LARGE_SIZE\n",
    "plt.rcParams['figure.figsize'] = [7.2, 7.2]\n",
    "plt.rcParams['figure.dpi'] = 60\n",
    "plt.rcParams['figure.facecolor'] = (1.0, 1.0, 1.0, 0.0)\n",
    "\n",
    "JSON_FILE = \"../assets/data/lec12_practice.json\"\n",
    "PROBLEM_NAME = \"lec12_practice_{}\"\n",
    "IMAGE_PATH = \"../assets/images/graphs\"\n",
    "probs = []\n",
    "nprob = 0\n",
    "\n",
    "rng = np.random.default_rng(112)"
   ]
  },
  {
   "cell_type": "code",
   "execution_count": null,
   "id": "93a3c78e-b886-4a9c-ba88-8506c099b513",
   "metadata": {},
   "outputs": [],
   "source": []
  },
  {
   "cell_type": "code",
   "execution_count": 2,
   "id": "9f12baed-f18e-4738-9b49-d78984b85dc7",
   "metadata": {},
   "outputs": [
    {
     "name": "stdout",
     "output_type": "stream",
     "text": [
      "20\n"
     ]
    }
   ],
   "source": [
    "# cobb douglas worker problem\n",
    "\n",
    "TYPE = \"CobbDouglasWorkerProblem\"\n",
    "df = pd.read_csv(f\"{TYPE}.csv\")\n",
    "get_ids = [True]*len(df)\n",
    "for idx, row in df.loc[get_ids].sample(20,random_state=rng).iterrows():\n",
    "    params = dict(row.copy())\n",
    "    name = PROBLEM_NAME.format(nprob)\n",
    "    prob = u2.load_problem(TYPE, params=params, rng=rng, name=name)\n",
    "    online_format = u2.get_online_format(prob, setup_id=0, question_ids=[0,1,2])\n",
    "    probs.append(online_format)\n",
    "    nprob+=1\n",
    "    prob.setup_axis.draw(saveas=f\"{IMAGE_PATH}/{name}_setup.png\")\n",
    "    plt.close()\n",
    "    prob.solution_axis.draw(saveas=f\"{IMAGE_PATH}/{name}_sol.png\")\n",
    "    plt.close()\n",
    "print(nprob)"
   ]
  },
  {
   "cell_type": "code",
   "execution_count": 3,
   "id": "f2ab2ee1-2029-43c4-a2fc-ba2e40d41f78",
   "metadata": {},
   "outputs": [
    {
     "name": "stdout",
     "output_type": "stream",
     "text": [
      "44\n"
     ]
    }
   ],
   "source": [
    "# wage change problem \n",
    "\n",
    "TYPE = \"WageChangeProblem\"\n",
    "df = pd.read_csv(f\"{TYPE}.csv\")\n",
    "\n",
    "df1 = df.loc[ (df['wage_inc_or_dec']=='increases') & (df['labor_inc_or_dec']=='increase') ].sample(4,random_state=rng)\n",
    "df2 = df.loc[ (df['wage_inc_or_dec']=='increases') & (df['labor_inc_or_dec']=='decrease') ].sample(4,random_state=rng)\n",
    "df3 = df.loc[ (df['wage_inc_or_dec']=='increases') & (df['labor_inc_or_dec']=='neither increase nor decrease') ].sample(4,random_state=rng)\n",
    "df4 = df.loc[ (df['wage_inc_or_dec']=='decreases') & (df['labor_inc_or_dec']=='increase') ].sample(4,random_state=rng)\n",
    "df5 = df.loc[ (df['wage_inc_or_dec']=='decreases') & (df['labor_inc_or_dec']=='decrease') ].sample(4,random_state=rng)\n",
    "df6 = df.loc[ (df['wage_inc_or_dec']=='decreases') & (df['labor_inc_or_dec']=='neither increase nor decrease') ].sample(4,random_state=rng)\n",
    "\n",
    "mydf = pd.concat([df1,df2,df3,df4,df5,df6])\n",
    "\n",
    "for idx, row in mydf.iterrows():\n",
    "    params = dict(row.copy())\n",
    "    name = PROBLEM_NAME.format(nprob)\n",
    "    prob = u2.load_problem(TYPE, params=params, rng=rng, name=name)\n",
    "    online_format = u2.get_online_format(prob, setup_id=0, question_ids=[0,1,2,3])\n",
    "    probs.append(online_format)\n",
    "    nprob+=1\n",
    "    prob.setup_axis.draw(saveas=f\"{IMAGE_PATH}/{name}_setup.png\")\n",
    "    plt.close()\n",
    "    prob.solution_axis.draw(saveas=f\"{IMAGE_PATH}/{name}_sol.png\")\n",
    "    plt.close()\n",
    "print(nprob)"
   ]
  },
  {
   "cell_type": "code",
   "execution_count": 4,
   "id": "0471437a-543b-493c-a1ef-d4c437247c1c",
   "metadata": {},
   "outputs": [
    {
     "name": "stdout",
     "output_type": "stream",
     "text": [
      "68\n"
     ]
    }
   ],
   "source": [
    "# wage change problem \n",
    "\n",
    "TYPE = \"IncomeSupportProblem\"\n",
    "df = pd.read_csv(f\"{TYPE}.csv\")\n",
    "\n",
    "df1 = df.loc[ (df['work']=='yes') ].sample(8,random_state=rng)\n",
    "df2 = df.loc[ (df['work']=='no') & (df['income_inc_or_dec']=='decrease') ].sample(8,random_state=rng)\n",
    "df3 = df.loc[ (df['work']=='no') & (df['income_inc_or_dec']=='increase') ].sample(8,random_state=rng)\n",
    "\n",
    "mydf = pd.concat([df1,df2,df3])\n",
    "\n",
    "for idx, row in mydf.iterrows():\n",
    "    params = dict(row.copy())\n",
    "    name = PROBLEM_NAME.format(nprob)\n",
    "    prob = u2.load_problem(TYPE, params=params, rng=rng, name=name)\n",
    "    online_format = u2.get_online_format(prob, setup_id=0, question_ids=[0,1,2,3,4,5])\n",
    "    probs.append(online_format)\n",
    "    nprob+=1\n",
    "    prob.setup_axis.draw(saveas=f\"{IMAGE_PATH}/{name}_setup.png\")\n",
    "    plt.close()\n",
    "    prob.solution_axis.draw(saveas=f\"{IMAGE_PATH}/{name}_sol.png\")\n",
    "    plt.close()\n",
    "print(nprob)"
   ]
  },
  {
   "cell_type": "code",
   "execution_count": 5,
   "id": "2197e453-f9be-469d-b5c7-e0dc22dfbd8c",
   "metadata": {},
   "outputs": [],
   "source": [
    "with open(JSON_FILE, 'w') as f:\n",
    "    json.dump(probs, f)"
   ]
  },
  {
   "cell_type": "code",
   "execution_count": 6,
   "id": "8ddd904b-d625-40a6-bdbd-9b7482ede81a",
   "metadata": {},
   "outputs": [
    {
     "name": "stdout",
     "output_type": "stream",
     "text": [
      "<p>\n",
      "A worker has up to 60 hours a week to spend on working or on leisure. If he works, he makes a wage rate of \\(w=10\\) dollars per hour. The worker's \n",
      "indifference curves over leisure and income are shown in the diagram below.\n",
      "<p>\n",
      "<img src=\"/CSUN-Econ-310/assets/images/graphs/lec12_practice_67_setup.png\">\n",
      "</p>\n",
      "In addition, the government provides minimum income support of up to \\(300\\) dollars a week. That is, if someone earns less than \\(300\\) dollars a week, the government supplements their income until it reaches \\(300\\) a week.\n",
      "</p>\n",
      "<p>1. Draw the worker's budget constraint without income support. Label the optimal point A. Draw the worker's budget constraint with the income support. Label the optimal point B.</p>\n",
      "<p>2. If there were no income support, how many hours per week does the worker work?</p>\n",
      "<p>3. If there were no income support, how much income per week does the worker make?</p>\n",
      "<p>4. With income support, how many hours per week does the worker work?</p>\n",
      "<p>5. With income support, how much income per week does the worker get?</p>\n",
      "<p>6. Does the income support policy increase or decrease the worker's actual income?</p>\n",
      "\n"
     ]
    }
   ],
   "source": [
    "print(online_format['setup'])"
   ]
  }
 ],
 "metadata": {
  "kernelspec": {
   "display_name": "Python 3 (ipykernel)",
   "language": "python",
   "name": "python3"
  },
  "language_info": {
   "codemirror_mode": {
    "name": "ipython",
    "version": 3
   },
   "file_extension": ".py",
   "mimetype": "text/x-python",
   "name": "python",
   "nbconvert_exporter": "python",
   "pygments_lexer": "ipython3",
   "version": "3.12.8"
  }
 },
 "nbformat": 4,
 "nbformat_minor": 5
}
