{
 "cells": [
  {
   "cell_type": "code",
   "execution_count": 1,
   "id": "f8bccfe8-5ec3-4d84-9f1d-a461e06bb0d1",
   "metadata": {},
   "outputs": [],
   "source": [
    "import numpy as np\n",
    "import pandas as pd\n",
    "from matplotlib import pyplot as plt\n",
    "from matplotlib import cm\n",
    "from IPython.display import display, Markdown, Latex\n",
    "\n",
    "SMALL_SIZE = 12\n",
    "MEDIUM_SIZE = 14\n",
    "LARGE_SIZE = 16\n",
    "\n",
    "plt.rcdefaults()\n",
    "plt.rcParams['text.usetex'] = True\n",
    "plt.rcParams['font.family'] = 'Helvetica'\n",
    "plt.rcParams['font.size'] = MEDIUM_SIZE\n",
    "plt.rcParams['axes.titlesize'] = LARGE_SIZE\n",
    "plt.rcParams['axes.labelsize'] = MEDIUM_SIZE\n",
    "plt.rcParams['xtick.labelsize'] = SMALL_SIZE\n",
    "plt.rcParams['ytick.labelsize'] = SMALL_SIZE\n",
    "plt.rcParams['legend.fontsize'] = MEDIUM_SIZE\n",
    "plt.rcParams['figure.titlesize'] = LARGE_SIZE\n",
    "plt.rcParams['figure.figsize'] = [7.2, 4.8]\n",
    "plt.rcParams['figure.dpi'] = 60\n",
    "plt.rcParams['figure.facecolor'] = (1.0, 1.0, 1.0, 0.0)\n",
    "\n",
    "from utils import SREQ, LREQ"
   ]
  },
  {
   "cell_type": "code",
   "execution_count": 2,
   "id": "b2af21c0-fb30-48a3-aad2-daadbc695399",
   "metadata": {},
   "outputs": [
    {
     "data": {
      "text/latex": [
       "\n",
       "A commodity $q$ is traded at price $p$ in a competitive market with price-taking consumers and firms. \\\\\n",
       "        \n",
       "There are $N$ identical consumers each with income $Y$. Each consumer has a utility function over numeraire consumption $c$ and commodity $q$ given by:\n",
       "\n",
       "$$u(c,q) = c + \\alpha q - \\tfrac{1}{2} \\beta q^2$$\n",
       "\n",
       "There are $M$ identical firms each with cost function given by:\n",
       "\n",
       "$$c(q) = \\gamma + \\delta q + \\tfrac{1}{2} \\eta q^2$$\n",
       "\n",
       "The number of firms is fixed in the short run, but in the long run firms can freely enter or exit the market. Thus, the number of firms is flexible in the long run.\n"
      ],
      "text/plain": [
       "<IPython.core.display.Latex object>"
      ]
     },
     "metadata": {},
     "output_type": "display_data"
    },
    {
     "data": {
      "text/latex": [
       "\n",
       "The general solutions are:\n",
       "\n",
       "$$q_s = \\sqrt{2\\gamma / \\eta}$$\n",
       "\n",
       "$$p = \\delta + \\eta q_s$$\n",
       "\n",
       "$$q_d = \\frac{\\alpha - p}{\\beta}$$\n"
      ],
      "text/plain": [
       "<IPython.core.display.Latex object>"
      ]
     },
     "metadata": {},
     "output_type": "display_data"
    }
   ],
   "source": [
    "prob = LREQ()\n",
    "display(Latex(prob.general_setup()))\n",
    "display(Latex(prob.general_solution()))"
   ]
  },
  {
   "cell_type": "code",
   "execution_count": 4,
   "id": "6e62f0bd-68b0-4146-bebd-324b1cfeac07",
   "metadata": {},
   "outputs": [
    {
     "data": {
      "text/latex": [
       "\n",
       "A commodity $q$ is traded at price $p$ in a competitive market with price-taking consumers and firms. \\\\\n",
       "        \n",
       "There are $3,000$ identical consumers each with income $Y=100$. Each consumer has a utility function over numeraire consumption $c$ and commodity $q$ given by:\n",
       "\n",
       "$$u(c,q) = c + 10q - 0.5q^2$$\n",
       "\n",
       "There are $M$ identical firms each with cost function given by:\n",
       "\n",
       "$$c(q) = 32 + 0.5q^2$$\n",
       "\n",
       "The number of firms is fixed in the short run, but in the long run firms can freely enter or exit the market. Thus, the number of firms is flexible in the long run.\n"
      ],
      "text/plain": [
       "<IPython.core.display.Latex object>"
      ]
     },
     "metadata": {},
     "output_type": "display_data"
    },
    {
     "name": "stdout",
     "output_type": "stream",
     "text": [
      "{'Q': 6000.0, 'p': 8.0, 'qd': 2.0, 'qs': 8.0, 'M': 750.0, 'c': 84.0, 'revenue': 64.0, 'cost': 64.0, 'profit': 0.0, 'total_profit': 0.0, 'utility': 102.0, 'total_utility': 306000.0, 'total_surplus': 306000.0}\n"
     ]
    }
   ],
   "source": [
    "prob = LREQ({\n",
    "    'N':3000,\n",
    "    'Y':100,\n",
    "    'alpha':10,\n",
    "    'beta':1,\n",
    "    'gamma':32,\n",
    "    'delta':0,\n",
    "    'eta':1\n",
    "})\n",
    "display(Latex(prob.setup()))\n",
    "print(prob.sol)"
   ]
  },
  {
   "cell_type": "code",
   "execution_count": 3,
   "id": "f972afb2-ac97-48ee-8604-62b5b1d37a18",
   "metadata": {},
   "outputs": [
    {
     "ename": "TypeError",
     "evalue": "__init__() got an unexpected keyword argument 'N'",
     "output_type": "error",
     "traceback": [
      "\u001b[0;31m---------------------------------------------------------------------------\u001b[0m",
      "\u001b[0;31mTypeError\u001b[0m                                 Traceback (most recent call last)",
      "Cell \u001b[0;32mIn[3], line 9\u001b[0m\n\u001b[1;32m      7\u001b[0m delta \u001b[38;5;241m=\u001b[39m \u001b[38;5;241m0\u001b[39m\n\u001b[1;32m      8\u001b[0m eta \u001b[38;5;241m=\u001b[39m \u001b[38;5;241m1\u001b[39m\n\u001b[0;32m----> 9\u001b[0m prob \u001b[38;5;241m=\u001b[39m \u001b[43mLREQ\u001b[49m\u001b[43m(\u001b[49m\u001b[43mN\u001b[49m\u001b[38;5;241;43m=\u001b[39;49m\u001b[43mN\u001b[49m\u001b[43m,\u001b[49m\u001b[43m \u001b[49m\u001b[43mY\u001b[49m\u001b[38;5;241;43m=\u001b[39;49m\u001b[43mY\u001b[49m\u001b[43m,\u001b[49m\u001b[43m \u001b[49m\u001b[43malpha\u001b[49m\u001b[38;5;241;43m=\u001b[39;49m\u001b[43malpha\u001b[49m\u001b[43m,\u001b[49m\u001b[43m \u001b[49m\u001b[43mbeta\u001b[49m\u001b[38;5;241;43m=\u001b[39;49m\u001b[43mbeta\u001b[49m\u001b[43m,\u001b[49m\u001b[43m \u001b[49m\u001b[43mgamma\u001b[49m\u001b[38;5;241;43m=\u001b[39;49m\u001b[43mgamma\u001b[49m\u001b[43m,\u001b[49m\u001b[43m \u001b[49m\u001b[43mdelta\u001b[49m\u001b[38;5;241;43m=\u001b[39;49m\u001b[43mdelta\u001b[49m\u001b[43m,\u001b[49m\u001b[43m \u001b[49m\u001b[43meta\u001b[49m\u001b[38;5;241;43m=\u001b[39;49m\u001b[43meta\u001b[49m\u001b[43m)\u001b[49m\n\u001b[1;32m     10\u001b[0m prob\u001b[38;5;241m.\u001b[39msolve()\n",
      "\u001b[0;31mTypeError\u001b[0m: __init__() got an unexpected keyword argument 'N'"
     ]
    }
   ],
   "source": [
    "# First example of lecture 7\n",
    "N = 3000\n",
    "Y = 100\n",
    "alpha = 10\n",
    "beta = 1\n",
    "gamma = 32\n",
    "delta = 0\n",
    "eta = 1\n",
    "prob = LREQ(N=N, Y=Y, alpha=alpha, beta=beta, gamma=gamma, delta=delta, eta=eta)\n",
    "prob.solve()\n"
   ]
  },
  {
   "cell_type": "code",
   "execution_count": null,
   "id": "7f076434-89c0-49af-99af-19a5af7088ae",
   "metadata": {},
   "outputs": [],
   "source": [
    "M = np.arange(100, 751, 10)\n",
    "p = []\n",
    "for m in M:\n",
    "    prob = SREQ(N=N, M=m, Y=Y, alpha=alpha, beta=beta, gamma=gamma, delta=delta, eta=eta)\n",
    "    prob.solve()\n",
    "    p.append(prob.p)\n",
    "plt.plot(M, p)\n",
    "plt.grid(alpha=0.2)\n",
    "plt.show()"
   ]
  },
  {
   "cell_type": "code",
   "execution_count": null,
   "id": "ffb44ed4-4f5f-4df2-9da2-8d2c6957ad2c",
   "metadata": {},
   "outputs": [],
   "source": [
    "prob = SREQ(N=N, M=600, Y=Y, alpha=alpha, beta=beta, gamma=gamma, delta=delta, eta=eta)\n",
    "prob.solve()"
   ]
  },
  {
   "cell_type": "code",
   "execution_count": null,
   "id": "40cef4f1-1e4d-4a49-bca3-5689d6782faa",
   "metadata": {},
   "outputs": [],
   "source": [
    "# Choose some parameters, then find choices of N that give integer solutions\n",
    "alpha = 12\n",
    "delta = 0\n",
    "gamma = 32\n",
    "\n"
   ]
  }
 ],
 "metadata": {
  "kernelspec": {
   "display_name": "Python 3 (ipykernel)",
   "language": "python",
   "name": "python3"
  },
  "language_info": {
   "codemirror_mode": {
    "name": "ipython",
    "version": 3
   },
   "file_extension": ".py",
   "mimetype": "text/x-python",
   "name": "python",
   "nbconvert_exporter": "python",
   "pygments_lexer": "ipython3",
   "version": "3.9.6"
  }
 },
 "nbformat": 4,
 "nbformat_minor": 5
}
