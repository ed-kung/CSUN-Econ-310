{
 "cells": [
  {
   "cell_type": "code",
   "execution_count": 1,
   "id": "f8bccfe8-5ec3-4d84-9f1d-a461e06bb0d1",
   "metadata": {},
   "outputs": [],
   "source": [
    "import numpy as np\n",
    "import pandas as pd\n",
    "from matplotlib import pyplot as plt\n",
    "from matplotlib import cm\n",
    "\n",
    "SMALL_SIZE = 12\n",
    "MEDIUM_SIZE = 14\n",
    "LARGE_SIZE = 16\n",
    "\n",
    "plt.rcdefaults()\n",
    "plt.rcParams['text.usetex'] = True\n",
    "plt.rcParams['font.family'] = 'Helvetica'\n",
    "plt.rcParams['font.size'] = MEDIUM_SIZE\n",
    "plt.rcParams['axes.titlesize'] = LARGE_SIZE\n",
    "plt.rcParams['axes.labelsize'] = MEDIUM_SIZE\n",
    "plt.rcParams['xtick.labelsize'] = SMALL_SIZE\n",
    "plt.rcParams['ytick.labelsize'] = SMALL_SIZE\n",
    "plt.rcParams['legend.fontsize'] = MEDIUM_SIZE\n",
    "plt.rcParams['figure.titlesize'] = LARGE_SIZE\n",
    "plt.rcParams['figure.figsize'] = [7.2, 4.8]\n",
    "plt.rcParams['figure.dpi'] = 60\n",
    "plt.rcParams['figure.facecolor'] = (1.0, 1.0, 1.0, 0.0)\n",
    "\n",
    "from utils import SREQ, LREQ"
   ]
  },
  {
   "cell_type": "markdown",
   "id": "2781d5ae-ad28-4474-9a2d-c6250723bb67",
   "metadata": {},
   "source": [
    "## General setup\n",
    "\n",
    "- Number of consumers: $N$\n",
    "- Number of firms: $M$\n",
    "- Consumer income: $Y$\n",
    "- Consumer utility function: $$u(c,q) = c + \\alpha q - 0.5\\beta q^2$$\n",
    "- Firm cost function: $$c(q) = \\gamma + \\delta q + 0.5\\eta q^2$$\n",
    "\n",
    "- Consumer FOC: \n",
    "$$\\alpha - p - \\beta q_d = 0$$\n",
    "\n",
    "- Producer FOC:\n",
    "$$p - \\delta - \\eta q_s = 0$$\n",
    "\n",
    "- Equilibrium condition:\n",
    "$$ Nq_s = Mq_d = Q$$\n",
    "\n",
    "- Zero profit condition:\n",
    "$$ pq_s - \\gamma - \\delta q_s - 0.5 \\eta q_s^2 = 0 $$\n",
    "\n",
    "- Solution for $q_s$:\n",
    "$$q_s = \\sqrt{\\frac{2\\gamma}{\\eta}} $$\n",
    "\n",
    "- Solution for $p$:\n",
    "$$ p = \\delta + \\eta q_s $$\n",
    "\n",
    "- Solution for $q_d$:\n",
    "$$ q_d = \\frac{\\alpha - p}{\\beta} $$\n"
   ]
  },
  {
   "cell_type": "code",
   "execution_count": 23,
   "id": "f972afb2-ac97-48ee-8604-62b5b1d37a18",
   "metadata": {},
   "outputs": [
    {
     "data": {
      "text/plain": [
       "{'M': 750.0,\n",
       " 'Q': 6000.0,\n",
       " 'p': 8.0,\n",
       " 'qd': 2.0,\n",
       " 'qs': 8.0,\n",
       " 'c': 84.0,\n",
       " 'profit': 0.0,\n",
       " 'totalprofit': 0.0,\n",
       " 'util': 102.0,\n",
       " 'totalutil': 306000.0}"
      ]
     },
     "execution_count": 23,
     "metadata": {},
     "output_type": "execute_result"
    }
   ],
   "source": [
    "# First example of lecture 7\n",
    "N = 3000\n",
    "Y = 100\n",
    "alpha = 10\n",
    "beta = 1\n",
    "gamma = 32\n",
    "delta = 0\n",
    "eta = 1\n",
    "prob = LREQ(N=N, Y=Y, alpha=alpha, beta=beta, gamma=gamma, delta=delta, eta=eta)\n",
    "prob.solve()\n"
   ]
  },
  {
   "cell_type": "code",
   "execution_count": 29,
   "id": "7f076434-89c0-49af-99af-19a5af7088ae",
   "metadata": {},
   "outputs": [
    {
     "data": {
      "image/png": "[encoded data removed]",
      "text/plain": [
       "<Figure size 432x288 with 1 Axes>"
      ]
     },
     "metadata": {
      "needs_background": "light"
     },
     "output_type": "display_data"
    }
   ],
   "source": [
    "M = np.arange(100, 751, 10)\n",
    "p = []\n",
    "for m in M:\n",
    "    prob = SREQ(N=N, M=m, Y=Y, alpha=alpha, beta=beta, gamma=gamma, delta=delta, eta=eta)\n",
    "    prob.solve()\n",
    "    p.append(prob.p)\n",
    "plt.plot(M, p)\n",
    "plt.grid(alpha=0.2)\n",
    "plt.show()"
   ]
  },
  {
   "cell_type": "code",
   "execution_count": 37,
   "id": "ffb44ed4-4f5f-4df2-9da2-8d2c6957ad2c",
   "metadata": {},
   "outputs": [
    {
     "data": {
      "text/plain": [
       "{'Q': 5000.0,\n",
       " 'p': 8.333333333333334,\n",
       " 'qd': 1.6666666666666667,\n",
       " 'qs': 8.333333333333334,\n",
       " 'c': 86.11111111111111,\n",
       " 'profit': 2.7222222222222285,\n",
       " 'totalprofit': 1633.3333333333371,\n",
       " 'util': 101.3888888888889,\n",
       " 'totalutil': 304166.6666666667}"
      ]
     },
     "execution_count": 37,
     "metadata": {},
     "output_type": "execute_result"
    }
   ],
   "source": [
    "prob = SREQ(N=N, M=600, Y=Y, alpha=alpha, beta=beta, gamma=gamma, delta=delta, eta=eta)\n",
    "prob.solve()"
   ]
  },
  {
   "cell_type": "code",
   "execution_count": null,
   "id": "40cef4f1-1e4d-4a49-bca3-5689d6782faa",
   "metadata": {},
   "outputs": [],
   "source": [
    "# Choose some parameters, then find choices of N that give integer solutions\n",
    "alpha = 12\n",
    "delta = 0\n",
    "gamma = 32\n",
    "\n"
   ]
  }
 ],
 "metadata": {
  "kernelspec": {
   "display_name": "Python 3 (ipykernel)",
   "language": "python",
   "name": "python3"
  },
  "language_info": {
   "codemirror_mode": {
    "name": "ipython",
    "version": 3
   },
   "file_extension": ".py",
   "mimetype": "text/x-python",
   "name": "python",
   "nbconvert_exporter": "python",
   "pygments_lexer": "ipython3",
   "version": "3.10.5"
  }
 },
 "nbformat": 4,
 "nbformat_minor": 5
}
