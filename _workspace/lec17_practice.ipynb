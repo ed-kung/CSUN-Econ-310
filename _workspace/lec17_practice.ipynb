{
 "cells": [
  {
   "cell_type": "code",
   "execution_count": 1,
   "id": "c047a86b-2714-4ec7-93c3-db89cd57df0d",
   "metadata": {},
   "outputs": [],
   "source": [
    "import os\n",
    "import numpy as np\n",
    "import pandas as pd\n",
    "from IPython.display import display, Markdown, Latex\n",
    "import json\n",
    "import utils2 as u2\n",
    "from matplotlib import pyplot as plt\n",
    "\n",
    "SMALL_SIZE = 14\n",
    "MEDIUM_SIZE = 16\n",
    "LARGE_SIZE = 18\n",
    "HUGE_SIZE = 20\n",
    "\n",
    "plt.rcdefaults()\n",
    "plt.rcParams['text.usetex'] = True\n",
    "plt.rcParams['font.family'] = 'Helvetica'\n",
    "plt.rcParams['font.size'] = MEDIUM_SIZE\n",
    "plt.rcParams['axes.titlesize'] = LARGE_SIZE\n",
    "plt.rcParams['axes.labelsize'] = MEDIUM_SIZE\n",
    "plt.rcParams['xtick.labelsize'] = MEDIUM_SIZE\n",
    "plt.rcParams['ytick.labelsize'] = MEDIUM_SIZE\n",
    "plt.rcParams['legend.fontsize'] = MEDIUM_SIZE\n",
    "plt.rcParams['figure.titlesize'] = LARGE_SIZE\n",
    "plt.rcParams['figure.figsize'] = [7.2, 7.2]\n",
    "plt.rcParams['figure.dpi'] = 60\n",
    "plt.rcParams['figure.facecolor'] = (1.0, 1.0, 1.0, 0.0)\n",
    "\n",
    "JSON_FILE = \"../assets/data/lec17_practice.json\"\n",
    "PROBLEM_NAME = \"lec17_practice_{}\"\n",
    "IMAGE_PATH = \"../assets/images/graphs\"\n",
    "probs = []\n",
    "nprob = 0\n",
    "\n",
    "rng = np.random.default_rng(117)"
   ]
  },
  {
   "cell_type": "code",
   "execution_count": 2,
   "id": "93a3c78e-b886-4a9c-ba88-8506c099b513",
   "metadata": {},
   "outputs": [
    {
     "name": "stdout",
     "output_type": "stream",
     "text": [
      "0:  Price-taking consumers in the market for a commodity have a demand curve given by: $$ Q = 12-p $$ The market is supplied by two firms who produce identical products. Firm 1 has a cost function given by: $$ c_1(q_1) = \\frac{1}{2}q_1^{2} $$ Firm 2 has a cost function given by: $$ c_2(q_2) = \\frac{1}{2}q_2^{2} $$ The firms engage in Cournot competition, i.e. they choose the quantity they wish to produce and let the market determine the price. \n",
      "\n",
      "0: What quantity does firm 1 produce in the Nash equilibrium?\n",
      "\n",
      "1: What quantity does firm 2 produce in the Nash equilibrium?\n",
      "\n",
      "2: What is the Nash equilibrium price in this market?\n",
      "\n",
      "3: What is the Nash equilibrium profit of firm 1?\n",
      "\n",
      "4: What is the Nash equilibrium profit of firm 2?\n",
      "\n"
     ]
    }
   ],
   "source": [
    "TYPE = \"Cournot2Problem\"\n",
    "u2.show_menu(TYPE)"
   ]
  },
  {
   "cell_type": "code",
   "execution_count": 3,
   "id": "9336c3ca-e55d-43ea-8615-a85d67c8a6c3",
   "metadata": {},
   "outputs": [
    {
     "name": "stdout",
     "output_type": "stream",
     "text": [
      "30\n"
     ]
    }
   ],
   "source": [
    "# cournot2\n",
    "\n",
    "TYPE = \"Cournot2Problem\"\n",
    "df = pd.read_pickle(f\"{TYPE}.pkl\")\n",
    "\n",
    "for idx, row in df.sample(30, random_state=rng).iterrows():\n",
    "    params = dict(row.copy())\n",
    "    name = PROBLEM_NAME.format(nprob)\n",
    "    prob = u2.load_problem(TYPE, params=params, rng=rng, name=name)\n",
    "    online_format = u2.get_online_format(prob, setup_id=0, question_ids=[0,1,2,3,4])\n",
    "    probs.append(online_format)\n",
    "    nprob+=1\n",
    "print(nprob)"
   ]
  },
  {
   "cell_type": "code",
   "execution_count": 4,
   "id": "5095bc36-78fa-4425-9c5a-b2d53c16f075",
   "metadata": {},
   "outputs": [
    {
     "name": "stdout",
     "output_type": "stream",
     "text": [
      "0:  Price-taking consumers in the market for a commodity have a demand curve given by: $$ Q = 12-p $$ The market is supplied by \\(N=2\\) identical firms. Each firm has a constant average and marginal cost of production equal to \\(c=3\\). The firms engage in Cournot competition, i.e. they choose the quantity they wish to produce and let the market determine the price. \n",
      "\n",
      "0: What quantity does each firm produce in the Nash equilibrium?\n",
      "\n",
      "1: What is the total quantity produced in the Nash equilibrium?\n",
      "\n",
      "2: What is the Nash equilibrium price in this market?\n",
      "\n",
      "3: What is the Nash equilibrium profit of each firm?\n",
      "\n"
     ]
    }
   ],
   "source": [
    "TYPE = \"CournotNProblem\"\n",
    "u2.show_menu(TYPE)"
   ]
  },
  {
   "cell_type": "code",
   "execution_count": 5,
   "id": "6fcd3cd9-4c2f-4817-9a58-e8eefffe137b",
   "metadata": {},
   "outputs": [
    {
     "name": "stdout",
     "output_type": "stream",
     "text": [
      "60\n"
     ]
    }
   ],
   "source": [
    "# cournotN\n",
    "\n",
    "TYPE = \"CournotNProblem\"\n",
    "df = pd.read_pickle(f\"{TYPE}.pkl\")\n",
    "\n",
    "for idx, row in df.sample(30, random_state=rng).iterrows():\n",
    "    params = dict(row.copy())\n",
    "    name = PROBLEM_NAME.format(nprob)\n",
    "    prob = u2.load_problem(TYPE, params=params, rng=rng, name=name)\n",
    "    online_format = u2.get_online_format(prob, setup_id=0, question_ids=[0,1,2,3])\n",
    "    probs.append(online_format)\n",
    "    nprob+=1\n",
    "print(nprob)"
   ]
  },
  {
   "cell_type": "code",
   "execution_count": 6,
   "id": "2197e453-f9be-469d-b5c7-e0dc22dfbd8c",
   "metadata": {},
   "outputs": [],
   "source": [
    "with open(JSON_FILE, 'w') as f:\n",
    "    json.dump(probs, f)"
   ]
  },
  {
   "cell_type": "code",
   "execution_count": 7,
   "id": "8ddd904b-d625-40a6-bdbd-9b7482ede81a",
   "metadata": {},
   "outputs": [
    {
     "name": "stdout",
     "output_type": "stream",
     "text": [
      "<p>\n",
      "Price-taking consumers in the market for a commodity have a demand curve given by:\n",
      "$$ Q = 15-p $$\n",
      "The market is supplied by \\(N=7\\) identical firms. Each firm has a constant average and marginal cost of production equal to \\(c=10\\). The firms engage in Cournot competition, i.e. they choose the quantity they wish to produce and let the market determine the price.\n",
      "</p>\n",
      "<p>1. What quantity does each firm produce in the Nash equilibrium?</p>\n",
      "<p>2. What is the total quantity produced in the Nash equilibrium?</p>\n",
      "<p>3. What is the Nash equilibrium price in this market?</p>\n",
      "<p>4. What is the Nash equilibrium profit of each firm?</p>\n",
      "\n"
     ]
    }
   ],
   "source": [
    "print(online_format['setup'])"
   ]
  }
 ],
 "metadata": {
  "kernelspec": {
   "display_name": "Python 3 (ipykernel)",
   "language": "python",
   "name": "python3"
  },
  "language_info": {
   "codemirror_mode": {
    "name": "ipython",
    "version": 3
   },
   "file_extension": ".py",
   "mimetype": "text/x-python",
   "name": "python",
   "nbconvert_exporter": "python",
   "pygments_lexer": "ipython3",
   "version": "3.12.8"
  }
 },
 "nbformat": 4,
 "nbformat_minor": 5
}
