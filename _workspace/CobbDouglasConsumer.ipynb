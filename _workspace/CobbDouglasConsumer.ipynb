{
 "cells": [
  {
   "cell_type": "code",
   "execution_count": 1,
   "id": "0d7fffcb-3f3d-441c-92d0-a07d154b186d",
   "metadata": {},
   "outputs": [],
   "source": [
    "import numpy as np\n",
    "import pandas as pd\n",
    "from matplotlib import pyplot as plt\n",
    "from matplotlib import cm\n",
    "from IPython.display import display, Markdown, Latex\n",
    "import pickle\n",
    "\n",
    "SMALL_SIZE = 12\n",
    "MEDIUM_SIZE = 14\n",
    "LARGE_SIZE = 16\n",
    "\n",
    "plt.rcdefaults()\n",
    "plt.rcParams['text.usetex'] = True\n",
    "plt.rcParams['font.family'] = 'Helvetica'\n",
    "plt.rcParams['font.size'] = MEDIUM_SIZE\n",
    "plt.rcParams['axes.titlesize'] = LARGE_SIZE\n",
    "plt.rcParams['axes.labelsize'] = MEDIUM_SIZE\n",
    "plt.rcParams['xtick.labelsize'] = SMALL_SIZE\n",
    "plt.rcParams['ytick.labelsize'] = SMALL_SIZE\n",
    "plt.rcParams['legend.fontsize'] = MEDIUM_SIZE\n",
    "plt.rcParams['figure.titlesize'] = LARGE_SIZE\n",
    "plt.rcParams['figure.figsize'] = [7.2, 4.8]\n",
    "plt.rcParams['figure.dpi'] = 60\n",
    "plt.rcParams['figure.facecolor'] = (1.0, 1.0, 1.0, 0.0)\n",
    "\n",
    "from utils import CobbDouglasConsumer, get_random_prob"
   ]
  },
  {
   "cell_type": "code",
   "execution_count": 2,
   "id": "02035f21-cb1a-42cf-9a5b-5ecb08f118ac",
   "metadata": {},
   "outputs": [],
   "source": [
    "prob = CobbDouglasConsumer()"
   ]
  },
  {
   "cell_type": "code",
   "execution_count": 3,
   "id": "0a6dc247-eea3-4fc6-9b9e-ec6c79817ddb",
   "metadata": {},
   "outputs": [
    {
     "data": {
      "text/latex": [
       "\n",
       "A consumer with income \\(I\\) has a utility function over two goods, \\(x\\) and \\(y\\):\n",
       "\n",
       "$$ u(x,y) = x^a y^b $$\n",
       "\n",
       "The price of good \\(x\\) is \\(p_x\\) and the price of good \\(y\\) is \\(p_y\\).\n",
       "\n",
       "The general solutions are:\n",
       "\n",
       "$$ x = \\frac{I}{p_x(1+b/a)} $$\n",
       "\n",
       "$$ y = \\frac{I}{p_y(1+a/b)} $$\n",
       "\n",
       "The indifference curves are:\n",
       "\n",
       "$$ y = \\left( \\frac{U}{x^a} \\right)^{ 1/b } $$\n",
       "\n",
       "The budget constraint is:\n",
       "\n",
       "$$ y = \\frac{I - p_x x}{p_y } $$\n"
      ],
      "text/plain": [
       "<IPython.core.display.Latex object>"
      ]
     },
     "metadata": {},
     "output_type": "display_data"
    }
   ],
   "source": [
    "display(Latex(prob.general_setup()))"
   ]
  },
  {
   "cell_type": "code",
   "execution_count": 4,
   "id": "4a9c0654-23f5-4f5a-8a10-6eb0e19b9bce",
   "metadata": {},
   "outputs": [
    {
     "data": {
      "text/latex": [
       "\n",
       "A consumer with income \\(I=100\\) has a utility function over two goods, \\(x\\) and \\(y\\):\n",
       "\n",
       "$$ u(x,y) = x^{ 1 / 2 }y^{ 1 / 2 } $$\n",
       "\n",
       "The price of good \\(x\\) is \\(p_x = 1 \\) and the price of good \\(y\\) is \\(p_y = 1 \\).\n"
      ],
      "text/plain": [
       "<IPython.core.display.Latex object>"
      ]
     },
     "metadata": {},
     "output_type": "display_data"
    },
    {
     "data": {
      "text/plain": [
       "{'x': 50.0, 'y': 50.0, 'U': 50.00000000000001, 'xmax': 100.0, 'ymax': 100.0}"
      ]
     },
     "execution_count": 4,
     "metadata": {},
     "output_type": "execute_result"
    }
   ],
   "source": [
    "display(Latex(prob.setup()))\n",
    "prob.sol"
   ]
  },
  {
   "cell_type": "code",
   "execution_count": 5,
   "id": "0a5300db-6442-42de-b3ba-33cc92640eaf",
   "metadata": {},
   "outputs": [
    {
     "name": "stdout",
     "output_type": "stream",
     "text": [
      "1000 examples found...\n",
      "2000 examples found...\n",
      "2044 examples found.\n"
     ]
    }
   ],
   "source": [
    "examples = []\n",
    "n_found = 0\n",
    "for d in np.arange(1,5):\n",
    "    for nx in np.arange(1,d):\n",
    "        ny = d - nx\n",
    "        for px in range(1,11):\n",
    "            for py in range(1,11):\n",
    "                for I in np.array([2,5,10,12,24,36,48,50])*np.maximum(px,py):\n",
    "                    params = {'nx':nx,'dx':d,'ny':ny,'dy':d,'I':I,'px':px,'py':py}\n",
    "                    prob = CobbDouglasConsumer(params)\n",
    "                    if prob.check_solution():\n",
    "                        n_found+=1\n",
    "                        examples.append( params | prob.sol )\n",
    "                        if (n_found%1000==0):\n",
    "                            print(f\"{n_found} examples found...\")\n",
    "examples = pd.DataFrame.from_dict(examples)\n",
    "examples.to_csv(\"CobbDouglasConsumer_examples.csv\", index=False, header=True)\n",
    "print(f\"{len(examples)} examples found.\")"
   ]
  },
  {
   "cell_type": "code",
   "execution_count": 6,
   "id": "b76b72cf-2295-4682-a7c2-7abd5fc0662f",
   "metadata": {},
   "outputs": [
    {
     "data": {
      "text/latex": [
       "\n",
       "A consumer with income \\(I=288\\) has a utility function over two goods, \\(x\\) and \\(y\\):\n",
       "\n",
       "$$ u(x,y) = x^{ 2 / 3 }y^{ 1 / 3 } $$\n",
       "\n",
       "The price of good \\(x\\) is \\(p_x = 1 \\) and the price of good \\(y\\) is \\(p_y = 6 \\).\n"
      ],
      "text/plain": [
       "<IPython.core.display.Latex object>"
      ]
     },
     "metadata": {},
     "output_type": "display_data"
    },
    {
     "data": {
      "text/plain": [
       "{'x': 192.0, 'y': 16.0, 'U': 83.86372461468467, 'xmax': 288.0, 'ymax': 48.0}"
      ]
     },
     "execution_count": 6,
     "metadata": {},
     "output_type": "execute_result"
    }
   ],
   "source": [
    "prob = get_random_prob(CobbDouglasConsumer, \"CobbDouglasConsumer_examples.csv\")\n",
    "display(Latex(prob.setup()))\n",
    "prob.sol"
   ]
  }
 ],
 "metadata": {
  "kernelspec": {
   "display_name": "Python 3 (ipykernel)",
   "language": "python",
   "name": "python3"
  },
  "language_info": {
   "codemirror_mode": {
    "name": "ipython",
    "version": 3
   },
   "file_extension": ".py",
   "mimetype": "text/x-python",
   "name": "python",
   "nbconvert_exporter": "python",
   "pygments_lexer": "ipython3",
   "version": "3.10.5"
  }
 },
 "nbformat": 4,
 "nbformat_minor": 5
}
