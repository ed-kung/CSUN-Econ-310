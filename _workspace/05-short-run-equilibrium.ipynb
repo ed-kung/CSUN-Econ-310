{
 "cells": [
  {
   "cell_type": "code",
   "execution_count": 1,
   "id": "0329bc01-88d1-4f55-9feb-3001f8932c36",
   "metadata": {},
   "outputs": [],
   "source": [
    "import numpy as np\n",
    "import pandas as pd\n",
    "from matplotlib import pyplot as plt\n",
    "from matplotlib import cm\n",
    "from IPython.display import display, Markdown, Latex\n",
    "\n",
    "SMALL_SIZE = 12\n",
    "MEDIUM_SIZE = 14\n",
    "LARGE_SIZE = 16\n",
    "\n",
    "plt.rcdefaults()\n",
    "plt.rcParams['text.usetex'] = True\n",
    "plt.rcParams['font.family'] = 'Helvetica'\n",
    "plt.rcParams['font.size'] = MEDIUM_SIZE\n",
    "plt.rcParams['axes.titlesize'] = LARGE_SIZE\n",
    "plt.rcParams['axes.labelsize'] = MEDIUM_SIZE\n",
    "plt.rcParams['xtick.labelsize'] = SMALL_SIZE\n",
    "plt.rcParams['ytick.labelsize'] = SMALL_SIZE\n",
    "plt.rcParams['legend.fontsize'] = MEDIUM_SIZE\n",
    "plt.rcParams['figure.titlesize'] = LARGE_SIZE\n",
    "plt.rcParams['figure.figsize'] = [7.2, 4.8]\n",
    "plt.rcParams['figure.dpi'] = 60\n",
    "plt.rcParams['figure.facecolor'] = (1.0, 1.0, 1.0, 0.0)\n",
    "\n",
    "from utils import SREQ"
   ]
  },
  {
   "cell_type": "markdown",
   "id": "5ef38cec-a5c3-4791-a8de-bed572ef2c2b",
   "metadata": {},
   "source": [
    "## General setup\n",
    "\n",
    "- Number of consumers: $N$\n",
    "- Number of firms: $M$\n",
    "- Consumer income: $Y$\n",
    "- Consumer utility function: $$u(c,q) = c + \\alpha q - 0.5\\beta q^2$$\n",
    "- Firm cost function: $$c(q) = \\gamma + \\delta q + 0.5\\eta q^2$$\n",
    "\n",
    "- Consumer FOC: \n",
    "$$\\alpha - p - \\beta q_d = 0$$\n",
    "\n",
    "- Producer FOC:\n",
    "$$p - \\delta - \\eta q_s = 0$$\n",
    "\n",
    "- Equilibrium condition:\n",
    "$$ Nq_s = Mq_d = Q$$\n",
    "\n",
    "- Solution for $Q$:\n",
    "$$Q = \\frac{\\alpha - \\delta}{\\beta/N + \\eta/M}$$\n",
    "\n",
    "- Solution for $p$:\n",
    "$$p = \\frac{N \\eta \\alpha + M \\beta \\delta}{N \\eta + M \\beta}$$\n"
   ]
  },
  {
   "cell_type": "code",
   "execution_count": 2,
   "id": "46b5b688-42e7-4453-a494-61f3a5b32127",
   "metadata": {},
   "outputs": [],
   "source": [
    "sreq = SREQ()"
   ]
  },
  {
   "cell_type": "code",
   "execution_count": 3,
   "id": "d7456b61-69cd-499e-83ff-614162acde21",
   "metadata": {},
   "outputs": [
    {
     "data": {
      "text/latex": [
       "\n",
       "There are $N$ consumers and $M$ firms. \n",
       "\n",
       "The consumer maximizes:\n",
       "\n",
       "\\begin{align*}\n",
       "\\max_{c,q} ~ c + ('\\x07lpha',) q - \\tfrac{1}{2} \\beta q^2 ~ \\text{ s.t. } c + pq = Y\n",
       "\\end{align*}\n",
       "\n",
       "The firm maximizes:\n",
       "\n",
       "\\begin{align*}\n",
       "\\max_{q} ~ pq - c(q)\n",
       "\\end{align*}\n",
       "\n",
       "where the cost function $c(q)$ is given by:\n",
       "\n",
       "\\begin{align*}\n",
       "c(q) = \\gamma + \\delta q + \\tfrac{1}{2} \\eta q^2\n",
       "\\end{align*}\n",
       "\n",
       "The short run equilibrium condition is:\n",
       "\n",
       "\\begin{align*}\n",
       "Nq_d = Mq_s\n",
       "\\end{align*}\n",
       "\n",
       "Solve for the short-run equilibrium.\n"
      ],
      "text/plain": [
       "<IPython.core.display.Latex object>"
      ]
     },
     "execution_count": 3,
     "metadata": {},
     "output_type": "execute_result"
    }
   ],
   "source": [
    "(Latex(sreq.print_setup(general=True)))"
   ]
  },
  {
   "cell_type": "code",
   "execution_count": 4,
   "id": "323eef64-74c0-407c-b3c7-9611ec2260ca",
   "metadata": {},
   "outputs": [
    {
     "data": {
      "text/latex": [
       "\n",
       "There are $3,000$ consumers and $200$ firms. \n",
       "\n",
       "The consumer maximizes:\n",
       "\n",
       "\\begin{align*}\n",
       "\\max_{c,q} ~ c + 10.0 q - \\tfrac{1}{2} \\beta q^2 ~ \\text{ s.t. } c + pq = Y\n",
       "\\end{align*}\n",
       "\n",
       "The firm maximizes:\n",
       "\n",
       "\\begin{align*}\n",
       "\\max_{q} ~ pq - c(q)\n",
       "\\end{align*}\n",
       "\n",
       "where the cost function $c(q)$ is given by:\n",
       "\n",
       "\\begin{align*}\n",
       "c(q) = \\gamma + \\delta q + \\tfrac{1}{2} \\eta q^2\n",
       "\\end{align*}\n",
       "\n",
       "The short run equilibrium condition is:\n",
       "\n",
       "\\begin{align*}\n",
       "Nq_d = Mq_s\n",
       "\\end{align*}\n",
       "\n",
       "Solve for the short-run equilibrium.\n"
      ],
      "text/plain": [
       "<IPython.core.display.Latex object>"
      ]
     },
     "execution_count": 4,
     "metadata": {},
     "output_type": "execute_result"
    }
   ],
   "source": [
    "(Latex(sreq.print_setup(general=False)))"
   ]
  },
  {
   "cell_type": "code",
   "execution_count": 4,
   "id": "a1730bd9-432b-4927-b514-cca197862382",
   "metadata": {},
   "outputs": [
    {
     "data": {
      "text/plain": [
       "{'Q': 6000.0,\n",
       " 'p': 6.0,\n",
       " 'qd': 2.0,\n",
       " 'qs': 30.0,\n",
       " 'c': 88.0,\n",
       " 'profit': 80.0,\n",
       " 'totalprofit': 16000.0,\n",
       " 'util': 104.0,\n",
       " 'totalutil': 312000.0}"
      ]
     },
     "execution_count": 4,
     "metadata": {},
     "output_type": "execute_result"
    }
   ],
   "source": [
    "# First example of lecture 5\n",
    "prob = SREQ(\n",
    "    N=3000,\n",
    "    M=200,\n",
    "    Y=100,\n",
    "    alpha=10,\n",
    "    beta=2,\n",
    "    gamma=10,\n",
    "    delta=0,\n",
    "    eta=0.2\n",
    ")\n",
    "prob.solve()"
   ]
  },
  {
   "cell_type": "markdown",
   "id": "569ae210-da11-4b9b-9cda-641ef9d6d18a",
   "metadata": {},
   "source": [
    "## Note on integer solutions\n",
    "\n",
    "Assuming $\\beta=1$, $\\eta=1$ (for easy math):\n",
    "\n",
    "$$ Q = \\frac{2MN}{N+M} (\\alpha - \\delta) $$\n",
    "\n",
    "$$ p = \\frac{N \\alpha + M \\delta}{N + M} $$\n"
   ]
  },
  {
   "cell_type": "code",
   "execution_count": 21,
   "id": "1a2dd196-5784-451b-a50f-a2c46fd35868",
   "metadata": {},
   "outputs": [
    {
     "name": "stdout",
     "output_type": "stream",
     "text": [
      "alpha=6, delta=0, N=600, M=600, Q=3600.0, p=3.0\n",
      "alpha=6, delta=0, N=1200, M=600, Q=4800.0, p=4.0\n",
      "alpha=6, delta=0, N=1800, M=600, Q=5400.0, p=4.5\n",
      "alpha=6, delta=0, N=3000, M=600, Q=6000.0, p=5.0\n",
      "alpha=6, delta=0, N=6600, M=600, Q=6600.0, p=5.5\n"
     ]
    }
   ],
   "source": [
    "# Choose an alpha, delta, and M\n",
    "# Find all the choices of N that give integer solutions\n",
    "alpha = 6\n",
    "delta = 0\n",
    "M = 600\n",
    "for N in np.arange(M,1000*M+1,M):\n",
    "    Q = (2*M*N)/(N+M)*(alpha - delta)\n",
    "    p = (N*alpha + M*delta)/(N+M)\n",
    "    if (Q%1==0) and (p%0.5==0):\n",
    "        print(f\"alpha={alpha}, delta={delta}, N={N}, M={M}, Q={Q}, p={p}\")"
   ]
  }
 ],
 "metadata": {
  "kernelspec": {
   "display_name": "Python 3 (ipykernel)",
   "language": "python",
   "name": "python3"
  },
  "language_info": {
   "codemirror_mode": {
    "name": "ipython",
    "version": 3
   },
   "file_extension": ".py",
   "mimetype": "text/x-python",
   "name": "python",
   "nbconvert_exporter": "python",
   "pygments_lexer": "ipython3",
   "version": "3.9.6"
  }
 },
 "nbformat": 4,
 "nbformat_minor": 5
}
