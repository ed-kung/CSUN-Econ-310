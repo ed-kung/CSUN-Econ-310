{
 "cells": [
  {
   "cell_type": "code",
   "execution_count": null,
   "id": "0329bc01-88d1-4f55-9feb-3001f8932c36",
   "metadata": {},
   "outputs": [],
   "source": [
    "import numpy as np\n",
    "import pandas as pd\n",
    "from matplotlib import pyplot as plt\n",
    "from matplotlib import cm\n",
    "\n",
    "SMALL_SIZE = 12\n",
    "MEDIUM_SIZE = 14\n",
    "LARGE_SIZE = 16\n",
    "\n",
    "plt.rcdefaults()\n",
    "plt.rcParams['text.usetex'] = True\n",
    "plt.rcParams['font.family'] = 'Helvetica'\n",
    "plt.rcParams['font.size'] = MEDIUM_SIZE\n",
    "plt.rcParams['axes.titlesize'] = LARGE_SIZE\n",
    "plt.rcParams['axes.labelsize'] = MEDIUM_SIZE\n",
    "plt.rcParams['xtick.labelsize'] = SMALL_SIZE\n",
    "plt.rcParams['ytick.labelsize'] = SMALL_SIZE\n",
    "plt.rcParams['legend.fontsize'] = MEDIUM_SIZE\n",
    "plt.rcParams['figure.titlesize'] = LARGE_SIZE\n",
    "plt.rcParams['figure.figsize'] = [7.2, 4.8]\n",
    "plt.rcParams['figure.dpi'] = 60\n",
    "plt.rcParams['figure.facecolor'] = (1.0, 1.0, 1.0, 0.0)"
   ]
  },
  {
   "cell_type": "markdown",
   "id": "5ef38cec-a5c3-4791-a8de-bed572ef2c2b",
   "metadata": {},
   "source": [
    "## General setup\n",
    "\n",
    "- Number of consumers: $N$\n",
    "- Number of firms: $M$\n",
    "- Consumer income: $Y$\n",
    "- Consumer utility function: $$u(c,q) = c + \\alpha q - \\beta q^2$$\n",
    "- Firm cost function: $$c(q) = \\gamma + \\delta q + \\eta q^2$$\n",
    "\n",
    "- Consumer FOC: \n",
    "$$\\alpha - p - 2\\beta q_d = 0$$\n",
    "\n",
    "- Producer FOC:\n",
    "$$p - \\delta - 2\\eta q_s = 0$$\n",
    "\n",
    "- Equilibrium condition:\n",
    "$$ Nq_s = Mq_d = Q$$\n",
    "\n",
    "- Solution for $Q$:\n",
    "$$Q = \\frac{\\alpha - \\delta}{\\frac{2\\eta}{M} + \\frac{2\\beta}{N}}$$\n",
    "\n",
    "- Solution for $p$:\n",
    "$$p = \\frac{N \\eta \\alpha + M \\beta \\delta}{N \\eta + M \\beta}$$\n"
   ]
  },
  {
   "cell_type": "code",
   "execution_count": 54,
   "id": "4e736c16-3290-4685-b0e8-bd5cbc31635c",
   "metadata": {},
   "outputs": [],
   "source": [
    "class SREQ:\n",
    "    def __init__(self,N=3000,M=200,Y=100,alpha=10,beta=1,gamma=0,delta=0,eta=0.1):\n",
    "        self.N=N\n",
    "        self.M=M\n",
    "        self.Y=Y\n",
    "        self.alpha=alpha\n",
    "        self.beta=beta\n",
    "        self.gamma=gamma\n",
    "        self.delta=delta\n",
    "        self.eta=eta\n",
    "    \n",
    "    def solve(self):\n",
    "        self.Q = (self.alpha - self.delta)/(2*self.eta/self.M + 2*self.beta/self.N)\n",
    "        self.p = (self.N*self.eta*self.alpha + self.M*self.beta*self.delta)/(self.N*self.eta + self.M*self.beta)\n",
    "        self.qd = self.Q / self.N\n",
    "        self.qs = self.Q / self.M\n",
    "        self.c = self.Y - self.p*self.qd\n",
    "        self.revenue = self.p * self.qs\n",
    "        self.cost = self.gamma + self.delta*self.qs + self.eta*self.qs**2\n",
    "        self.profit = self.revenue - self.cost\n",
    "        self.totalprofit = self.M * self.profit\n",
    "        self.util = self.c + self.alpha*self.qd - self.beta*self.qd**2\n",
    "        self.totalutil = self.N*self.util\n",
    "        return {\n",
    "            \"Q\": self.Q, \n",
    "            \"p\": self.p,\n",
    "            \"qd\": self.qd,\n",
    "            \"qs\": self.qs,\n",
    "            \"c\": self.c,\n",
    "            \"profit\": self.profit,\n",
    "            \"totalprofit\": self.totalprofit,\n",
    "            \"util\": self.util,\n",
    "            \"totalutil\": self.totalutil\n",
    "        }        "
   ]
  },
  {
   "cell_type": "code",
   "execution_count": 55,
   "id": "a1730bd9-432b-4927-b514-cca197862382",
   "metadata": {},
   "outputs": [
    {
     "data": {
      "text/plain": [
       "{'Q': 6000.0,\n",
       " 'p': 6.0,\n",
       " 'qd': 2.0,\n",
       " 'qs': 30.0,\n",
       " 'c': 88.0,\n",
       " 'profit': 80.0,\n",
       " 'totalprofit': 16000.0,\n",
       " 'util': 104.0,\n",
       " 'totalutil': 312000.0}"
      ]
     },
     "execution_count": 55,
     "metadata": {},
     "output_type": "execute_result"
    }
   ],
   "source": [
    "# First example of lecture 5\n",
    "prob = SREQ(\n",
    "    N=3000,\n",
    "    M=200,\n",
    "    Y=100,\n",
    "    alpha=10,\n",
    "    beta=1,\n",
    "    gamma=10,\n",
    "    delta=0,\n",
    "    eta=0.1\n",
    ")\n",
    "prob.solve()"
   ]
  },
  {
   "cell_type": "code",
   "execution_count": null,
   "id": "1bba3afe-32c7-437f-81db-a965077989ab",
   "metadata": {},
   "outputs": [],
   "source": [
    "# Uber example\n"
   ]
  },
  {
   "cell_type": "code",
   "execution_count": null,
   "id": "d84bbe99-8e23-4096-861c-ff6cda059c2c",
   "metadata": {},
   "outputs": [],
   "source": []
  },
  {
   "cell_type": "markdown",
   "id": "d366ebf0-b8ac-4aeb-8dea-2c31a88e0a19",
   "metadata": {},
   "source": [
    "## Ad valorem taxes\n",
    "\n",
    "- Number of consumers: $N$\n",
    "- Number of firms: $M$\n",
    "- Consumer income: $Y$\n",
    "- Consumer utility function: $$u(c,q) = c + \\alpha q - \\beta q^2$$\n",
    "- Firm cost function: $$c(q) = \\gamma + \\delta q + \\eta q^2$$\n",
    "- Tax rate on consumers: $tc$\n",
    "- Tax rate on firms: $tp$\n",
    "\n",
    "- Consumer FOC: \n",
    "$$\\alpha - (1+t_c)p - 2\\beta q_d = 0$$\n",
    "\n",
    "- Producer FOC:\n",
    "$$(1-t_p)p - \\delta - 2\\eta q_s = 0$$\n",
    "\n",
    "- Equilibrium condition:\n",
    "$$ Nq_s = Mq_d = Q$$\n",
    "\n",
    "- Solution for $Q$:\n",
    "$$Q = \\frac{(1-t_p)\\alpha - (1+t_c)\\delta}{\\frac{2(1+t_c)\\eta}{M} + \\frac{2(1-t_p)\\beta}{N}}$$\n",
    "\n",
    "- Solution for $p$:\n",
    "$$p = \\frac{N \\eta \\alpha + M \\beta \\delta}{N \\eta (1+t_c) + M \\beta (1-t_p)}$$\n"
   ]
  },
  {
   "cell_type": "code",
   "execution_count": 59,
   "id": "3639a107-710f-4866-aef5-f7ffe4235d91",
   "metadata": {},
   "outputs": [],
   "source": [
    "class SREQtax:\n",
    "    def __init__(self,N=3000,M=200,Y=100,alpha=10,beta=1,gamma=0,delta=0,eta=0.1,tc=0.0,tp=0.0):\n",
    "        self.N=N\n",
    "        self.M=M\n",
    "        self.Y=Y\n",
    "        self.alpha=alpha\n",
    "        self.beta=beta\n",
    "        self.gamma=gamma\n",
    "        self.delta=delta\n",
    "        self.eta=eta\n",
    "        self.tc=tc\n",
    "        self.tp=tp\n",
    "    \n",
    "    def solve(self):\n",
    "        self.Q = ((1-self.tp)*self.alpha - (1+self.tc)*self.delta)/(2*(1+self.tc)*self.eta/self.M + 2*(1-self.tp)*self.beta/self.N)\n",
    "        self.p = (self.N*self.eta*self.alpha + self.M*self.beta*self.delta)/(self.N*self.eta*(1+self.tc) + self.M*self.beta*(1-self.tp))\n",
    "        self.qd = self.Q / self.N\n",
    "        self.qs = self.Q / self.M\n",
    "        self.c = self.Y - (1+self.tc)*self.p*self.qd\n",
    "        self.revenue = (1-self.tp)*self.p * self.qs\n",
    "        self.cost = self.gamma + self.delta*self.qs + self.eta*self.qs**2\n",
    "        self.profit = self.revenue - self.cost\n",
    "        self.totalprofit = self.M * self.profit\n",
    "        self.util = self.c + self.alpha*self.qd - self.beta*self.qd**2\n",
    "        self.totalutil = self.N*self.util\n",
    "        return {\n",
    "            \"Q\": self.Q, \n",
    "            \"p\": self.p,\n",
    "            \"qd\": self.qd,\n",
    "            \"qs\": self.qs,\n",
    "            \"c\": self.c,\n",
    "            \"profit\": self.profit,\n",
    "            \"totalprofit\": self.totalprofit,\n",
    "            \"util\": self.util,\n",
    "            \"totalutil\": self.totalutil\n",
    "        }        "
   ]
  },
  {
   "cell_type": "code",
   "execution_count": 68,
   "id": "0f73d5a0-17d5-43f2-ab98-b099db1845d2",
   "metadata": {},
   "outputs": [
    {
     "data": {
      "text/plain": [
       "{'Q': 5000.0,\n",
       " 'p': 5.0,\n",
       " 'qd': 1.6666666666666667,\n",
       " 'qs': 25.0,\n",
       " 'c': 88.88888888888889,\n",
       " 'profit': 52.5,\n",
       " 'totalprofit': 10500.0,\n",
       " 'util': 102.77777777777779,\n",
       " 'totalutil': 308333.3333333334}"
      ]
     },
     "execution_count": 68,
     "metadata": {},
     "output_type": "execute_result"
    }
   ],
   "source": [
    "prob = SREQtax(\n",
    "    N=3000,\n",
    "    M=200,\n",
    "    Y=100,\n",
    "    alpha=10,\n",
    "    beta=1,\n",
    "    gamma=10,\n",
    "    delta=0,\n",
    "    eta=0.1,\n",
    "    tc=0.333333333333333333333333\n",
    ")\n",
    "prob.solve()"
   ]
  }
 ],
 "metadata": {
  "kernelspec": {
   "display_name": "Python 3 (ipykernel)",
   "language": "python",
   "name": "python3"
  },
  "language_info": {
   "codemirror_mode": {
    "name": "ipython",
    "version": 3
   },
   "file_extension": ".py",
   "mimetype": "text/x-python",
   "name": "python",
   "nbconvert_exporter": "python",
   "pygments_lexer": "ipython3",
   "version": "3.10.5"
  }
 },
 "nbformat": 4,
 "nbformat_minor": 5
}
