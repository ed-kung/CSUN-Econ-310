{
 "cells": [
  {
   "cell_type": "code",
   "execution_count": 1,
   "id": "c047a86b-2714-4ec7-93c3-db89cd57df0d",
   "metadata": {},
   "outputs": [],
   "source": [
    "import os\n",
    "import numpy as np\n",
    "import pandas as pd\n",
    "from IPython.display import display, Markdown, Latex\n",
    "import json\n",
    "import utils2 as u2\n",
    "from matplotlib import pyplot as plt\n",
    "\n",
    "SMALL_SIZE = 14\n",
    "MEDIUM_SIZE = 16\n",
    "LARGE_SIZE = 18\n",
    "HUGE_SIZE = 20\n",
    "\n",
    "plt.rcdefaults()\n",
    "plt.rcParams['text.usetex'] = True\n",
    "plt.rcParams['font.family'] = 'Helvetica'\n",
    "plt.rcParams['font.size'] = MEDIUM_SIZE\n",
    "plt.rcParams['axes.titlesize'] = LARGE_SIZE\n",
    "plt.rcParams['axes.labelsize'] = MEDIUM_SIZE\n",
    "plt.rcParams['xtick.labelsize'] = MEDIUM_SIZE\n",
    "plt.rcParams['ytick.labelsize'] = MEDIUM_SIZE\n",
    "plt.rcParams['legend.fontsize'] = MEDIUM_SIZE\n",
    "plt.rcParams['figure.titlesize'] = LARGE_SIZE\n",
    "plt.rcParams['figure.figsize'] = [7.2, 7.2]\n",
    "plt.rcParams['figure.dpi'] = 60\n",
    "plt.rcParams['figure.facecolor'] = (1.0, 1.0, 1.0, 0.0)\n",
    "\n",
    "JSON_FILE = \"../assets/data/lec19_practice.json\"\n",
    "PROBLEM_NAME = \"lec19_practice_{}\"\n",
    "IMAGE_PATH = \"../assets/images/graphs\"\n",
    "probs = []\n",
    "nprob = 0\n",
    "\n",
    "rng = np.random.default_rng(119)"
   ]
  },
  {
   "cell_type": "code",
   "execution_count": null,
   "id": "afafafc1-dba1-47d3-9121-99e86100e30c",
   "metadata": {},
   "outputs": [],
   "source": []
  },
  {
   "cell_type": "code",
   "execution_count": 2,
   "id": "93a3c78e-b886-4a9c-ba88-8506c099b513",
   "metadata": {},
   "outputs": [
    {
     "name": "stdout",
     "output_type": "stream",
     "text": [
      "{'beta': 0.95, 'x': 100, 'T': 20}\n",
      "{'PV': 1218.876747423769}\n",
      "0: \n",
      "\n",
      "0: Calculate the present value of a promise to receive a constant payment of 100 every period for \\(20\\) periods, when the time discount factor is \\(\\beta = 0.95\\)\n",
      "\n"
     ]
    }
   ],
   "source": [
    "TYPE = \"PresentValueProblem\"\n",
    "u2.show_menu(TYPE)"
   ]
  },
  {
   "cell_type": "code",
   "execution_count": 3,
   "id": "9336c3ca-e55d-43ea-8615-a85d67c8a6c3",
   "metadata": {},
   "outputs": [
    {
     "name": "stdout",
     "output_type": "stream",
     "text": [
      "30\n"
     ]
    }
   ],
   "source": [
    "TYPE = \"PresentValueProblem\"\n",
    "df = pd.read_pickle(f\"{TYPE}.pkl\")\n",
    "\n",
    "df1 = df.loc[df['T']==0].sample(10,random_state=rng)\n",
    "df2 = df.loc[df['T']==np.inf].sample(10,random_state=rng)\n",
    "df3 = df.loc[(df['T']>0) & (df['T']!=np.inf)].sample(10,random_state=rng)\n",
    "\n",
    "mydf = pd.concat([df1,df2,df3])\n",
    "\n",
    "for idx, row in mydf.iterrows():\n",
    "    params = dict(row.copy())\n",
    "    name = PROBLEM_NAME.format(nprob)\n",
    "    prob = u2.load_problem(TYPE, params=params, rng=rng, name=name)\n",
    "    online_format = u2.get_online_format(prob, setup_id=0, question_ids=[0])\n",
    "    probs.append(online_format)\n",
    "    nprob+=1\n",
    "print(nprob)"
   ]
  },
  {
   "cell_type": "code",
   "execution_count": 4,
   "id": "17f63083-ff4a-4b7d-8629-f8a8522f9662",
   "metadata": {},
   "outputs": [
    {
     "name": "stdout",
     "output_type": "stream",
     "text": [
      "{'beta': 0.95, 'p': 0.95, 'Y': 50000}\n",
      "{'c1': 25641.02564102564, 'c2': 25641.025641025644, 'r': 0.052631578947368474}\n",
      "0:  An individual lives for two periods. In period 1, they earn an income of \\(Y=50,000\\). In period 2, they earn no income. In order to consume in period 2, they must buy bonds in period 1. One bond pays \\(\\$1\\) in period 2, and can be purchased for price \\(p=0.95\\) in period 1. The individual's objective is to maximize the present value of their utility: $$u(c_1,c_2) = \\ln c_1 + \\beta \\ln c_2$$ where \\(c_1\\) is consumption period 1, \\(c_2\\) is consumption in period 2, and \\(\\beta=0.95\\) is the individual's subjective time discount factor. \n",
      "\n",
      "0: How many bonds will the person buy in period 1?\n",
      "\n",
      "1: How much will the person consume in period 1?\n",
      "\n",
      "2: How much will the person consume in period 2?\n",
      "\n",
      "3: What is the interest rate on bonds?\n",
      "\n"
     ]
    }
   ],
   "source": [
    "TYPE = \"SavingsProblem\"\n",
    "u2.show_menu(TYPE)"
   ]
  },
  {
   "cell_type": "code",
   "execution_count": 5,
   "id": "b35fde5e-7077-4689-b1b5-94429e3b83f4",
   "metadata": {},
   "outputs": [
    {
     "name": "stdout",
     "output_type": "stream",
     "text": [
      "70\n"
     ]
    }
   ],
   "source": [
    "TYPE = \"SavingsProblem\"\n",
    "df = pd.read_pickle(f\"{TYPE}.pkl\")\n",
    "\n",
    "for idx, row in df.sample(40,random_state=rng).iterrows():\n",
    "    params = dict(row.copy())\n",
    "    name = PROBLEM_NAME.format(nprob)\n",
    "    prob = u2.load_problem(TYPE, params=params, rng=rng, name=name)\n",
    "    online_format = u2.get_online_format(prob, setup_id=0, question_ids=[0,1,2,3])\n",
    "    probs.append(online_format)\n",
    "    nprob+=1\n",
    "print(nprob)"
   ]
  },
  {
   "cell_type": "code",
   "execution_count": 6,
   "id": "2197e453-f9be-469d-b5c7-e0dc22dfbd8c",
   "metadata": {},
   "outputs": [],
   "source": [
    "with open(JSON_FILE, 'w') as f:\n",
    "    json.dump(probs, f)"
   ]
  },
  {
   "cell_type": "code",
   "execution_count": 7,
   "id": "8ddd904b-d625-40a6-bdbd-9b7482ede81a",
   "metadata": {},
   "outputs": [
    {
     "name": "stdout",
     "output_type": "stream",
     "text": [
      "<p>\n",
      "An individual lives for two periods. In period 1, they earn an income of \\(Y=20,000\\). In period 2, they earn no income. In order to consume in period 2, they must buy bonds in period 1. One bond pays \\(\\$1\\) in period 2, and can be purchased for price \\(p=0.95\\) in period 1. The individual's objective is to maximize the present value of their utility:\n",
      "$$u(c_1,c_2) = \\ln c_1 + \\beta \\ln c_2$$\n",
      "where \\(c_1\\) is consumption period 1, \\(c_2\\) is consumption in period 2, and \\(\\beta=0.8\\) is the individual's subjective time discount factor.\n",
      "</p>\n",
      "<p>1. How many bonds will the person buy in period 1?</p>\n",
      "<p>2. How much will the person consume in period 1?</p>\n",
      "<p>3. How much will the person consume in period 2?</p>\n",
      "<p>4. What is the interest rate on bonds?</p>\n",
      "\n"
     ]
    }
   ],
   "source": [
    "print(online_format['setup'])"
   ]
  },
  {
   "cell_type": "code",
   "execution_count": 8,
   "id": "7c465ab9-747f-4fdc-8864-69047420ddba",
   "metadata": {},
   "outputs": [
    {
     "data": {
      "text/plain": [
       "19800.0"
      ]
     },
     "execution_count": 8,
     "metadata": {},
     "output_type": "execute_result"
    }
   ],
   "source": [
    ".99/.01*200"
   ]
  }
 ],
 "metadata": {
  "kernelspec": {
   "display_name": "Python 3 (ipykernel)",
   "language": "python",
   "name": "python3"
  },
  "language_info": {
   "codemirror_mode": {
    "name": "ipython",
    "version": 3
   },
   "file_extension": ".py",
   "mimetype": "text/x-python",
   "name": "python",
   "nbconvert_exporter": "python",
   "pygments_lexer": "ipython3",
   "version": "3.12.8"
  }
 },
 "nbformat": 4,
 "nbformat_minor": 5
}
