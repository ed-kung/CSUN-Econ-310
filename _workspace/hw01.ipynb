{
 "cells": [
  {
   "cell_type": "code",
   "execution_count": 1,
   "id": "c22ce13f-1cf1-466a-afed-8d731d3fb548",
   "metadata": {},
   "outputs": [],
   "source": [
    "import os\n",
    "import numpy as np\n",
    "import pandas as pd\n",
    "from IPython.display import display, Markdown, Latex\n",
    "\n",
    "import econtools\n",
    "from econtools.documents import Homework, RawLatex\n",
    "from utils import SupplyPoly, DemandPoly, DemandCE, SREQ, polyeq\n",
    "\n",
    "filename = \"econ-310-hw01\"\n",
    "\n",
    "doc = Homework(\n",
    "    title = r\"Econ 310 Week 1 Homework\",\n",
    "    due_date = r\"Tuesday 9/3\"\n",
    ")\n"
   ]
  },
  {
   "cell_type": "code",
   "execution_count": 2,
   "id": "659e0942-b705-438d-954e-daf81a10f5fe",
   "metadata": {},
   "outputs": [],
   "source": [
    "doc.add(RawLatex(r\"\"\"\n",
    "\\begin{q} \n",
    "Supply and demand are given by the following equations: \n",
    "\\begin{align*}\n",
    "q_d &= 120 - p \\\\\n",
    "q_s &= 2p - 30 \n",
    "\\end{align*}\n",
    "Calculate the equilibrium price and quantity in this market.\n",
    "\\end{q}\n",
    "\"\"\"))"
   ]
  },
  {
   "cell_type": "code",
   "execution_count": 3,
   "id": "0ade072a-7e68-4cd8-8bd6-9362b5ab45c1",
   "metadata": {},
   "outputs": [],
   "source": [
    "doc.add(RawLatex(r\"\"\"\n",
    "\\begin{q}\n",
    "Supply and demand are given by:\n",
    "\\begin{align*}\n",
    "q_d &= 120p^{-1/3} \\\\\n",
    "q_s &= 60p^{2/3} \n",
    "\\end{align*}\n",
    "Calculate the equilibrium price and quantity.\n",
    "\\end{q}\n",
    "\"\"\"))"
   ]
  },
  {
   "cell_type": "code",
   "execution_count": 4,
   "id": "cb71530b-7396-4ff2-a41e-30df095783f9",
   "metadata": {},
   "outputs": [],
   "source": [
    "doc.add(RawLatex(r\"\"\"\n",
    "\\begin{q}\n",
    "Solve the following equation for $x$:\n",
    "\\begin{align*}\n",
    "4x^{-3} &= 256\n",
    "\\end{align*}\n",
    "\\end{q}\n",
    "\"\"\"))"
   ]
  },
  {
   "cell_type": "code",
   "execution_count": 5,
   "id": "1e1e31c9-158f-4efe-87aa-525c565d7e11",
   "metadata": {},
   "outputs": [],
   "source": [
    "doc.add(RawLatex(r\"\"\"\n",
    "\\begin{q}\n",
    "Simplify:\n",
    "\\begin{align*}\n",
    "\\frac{4x^{1/3}y^{-2/3}}{12x^{-2/3}y^{1/3}}\n",
    "\\end{align*}\n",
    "\\end{q}\n",
    "\"\"\"))"
   ]
  },
  {
   "cell_type": "code",
   "execution_count": 6,
   "id": "0115b2dd-894b-4b27-b9c9-40d7d119f3c7",
   "metadata": {},
   "outputs": [],
   "source": [
    "doc.add(RawLatex(r\"\"\"\n",
    "\\begin{q}\n",
    "Write $y$ as a function of $x$:\n",
    "\\begin{align*}\n",
    "8x^{3/4} y^{1/4} = 16\n",
    "\\end{align*}\n",
    "\\end{q}\n",
    "\"\"\"))"
   ]
  },
  {
   "cell_type": "code",
   "execution_count": 7,
   "id": "7dcaf478-b434-4aed-89c4-1d0a812276f5",
   "metadata": {},
   "outputs": [],
   "source": [
    "doc.add(RawLatex(r\"\"\"\n",
    "\\begin{q}\n",
    "If $\\ln y - \\ln x = -0.05$, then $y$ is larger or smaller than $x$ by how many percent?\n",
    "\\end{q}\n",
    "\"\"\"))"
   ]
  },
  {
   "cell_type": "code",
   "execution_count": 8,
   "id": "a82d9742-8d2c-4265-9e18-c70acce04f0d",
   "metadata": {},
   "outputs": [],
   "source": [
    "doc.add(RawLatex(r\"\"\"\n",
    "\\begin{q}\n",
    "$f(x) = 10 + 24x - x^2$\n",
    "\\begin{enumerate}[a.]\n",
    "\\item Write down the first derivative, $f^\\prime(x)$. \n",
    "\\item What choice of $x$ maximizes $f(x)$? What is the maximum of $f(x)$?\n",
    "\\end{enumerate}\n",
    "\\end{q}\n",
    "\"\"\"))"
   ]
  },
  {
   "cell_type": "code",
   "execution_count": 9,
   "id": "ea102157-53c3-4891-9b06-88952a3a7570",
   "metadata": {},
   "outputs": [],
   "source": [
    "doc.add(RawLatex(r\"\"\"\n",
    "\\begin{q}\n",
    "$f(x) = 12x^{1/2} - 3x$\n",
    "\\begin{enumerate}[a.]\n",
    "\\item Write down the first derivative, $f^\\prime(x)$. \n",
    "\\item What choice of $x$ maximizes $f(x)$? What is the maximum of $f(x)$?\n",
    "\\end{enumerate}\n",
    "\\end{q}\n",
    "\"\"\"))"
   ]
  },
  {
   "cell_type": "code",
   "execution_count": 10,
   "id": "b7ad57bf-9e36-4908-aed8-192b40131fe7",
   "metadata": {},
   "outputs": [],
   "source": [
    "doc.add(RawLatex(r\"\"\"\n",
    "\\begin{q}\n",
    "A firm is deciding how much output to produce, $q$. It can sell its output at a price of $p=14$. The firm's cost function is:\n",
    "\\begin{align*}\n",
    "c(q) = 2q + \\tfrac{1}{4}q^2\n",
    "\\end{align*}\n",
    "\\begin{enumerate}[a.]\n",
    "\\item Write down the firm's profit function in terms of $q$ and write down the first derivative.\n",
    "\\item What choice of $q$ maximizes the firm's profit? What is the maximum attainable profit?\n",
    "\\end{enumerate}\n",
    "\\end{q}\n",
    "\"\"\"))"
   ]
  },
  {
   "cell_type": "code",
   "execution_count": 11,
   "id": "418a7297-7e8e-4ed8-bc13-c9ed61bd5200",
   "metadata": {},
   "outputs": [],
   "source": [
    "doc.add(RawLatex(r\"\"\"\n",
    "\\begin{q}\n",
    "A firm is deciding how much output to produce, $q$. It can sell its output at a price of $p$. The firm's cost function is:\n",
    "\\begin{align*}\n",
    "c(q) = a + bq + cq^2\n",
    "\\end{align*}\n",
    "\\begin{enumerate}[a.]\n",
    "\\item Write down the firm's profit function in terms of $p$, $q$, $a$, $b$, and $c$. Find the first derivative of the profit function.\n",
    "\\item What choice of $q$ maximizes the firm's profit? Write the answer in terms of $p$, $a$, $b$, and $c$.\n",
    "\\item What is the maximum attainable profit? Write the answer in terms of $a$, $b$, and $c$.\n",
    "\\end{enumerate}\n",
    "\\end{q}\n",
    "\"\"\"))"
   ]
  },
  {
   "cell_type": "code",
   "execution_count": 12,
   "id": "d3c8b391-8cc1-49d3-8ce8-a2894533df71",
   "metadata": {},
   "outputs": [],
   "source": [
    "doc.print_pdf(filename, \"tex\")"
   ]
  }
 ],
 "metadata": {
  "kernelspec": {
   "display_name": "Python 3 (ipykernel)",
   "language": "python",
   "name": "python3"
  },
  "language_info": {
   "codemirror_mode": {
    "name": "ipython",
    "version": 3
   },
   "file_extension": ".py",
   "mimetype": "text/x-python",
   "name": "python",
   "nbconvert_exporter": "python",
   "pygments_lexer": "ipython3",
   "version": "3.10.5"
  }
 },
 "nbformat": 4,
 "nbformat_minor": 5
}
