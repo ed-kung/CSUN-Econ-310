{
 "cells": [
  {
   "cell_type": "code",
   "execution_count": 1,
   "id": "2b06770f-63e6-4bb8-8104-1850bcc82b73",
   "metadata": {},
   "outputs": [
    {
     "data": {
      "image/png": "[encoded data removed]",
      "text/plain": [
       "<Figure size 432x288 with 1 Axes>"
      ]
     },
     "metadata": {
      "needs_background": "light"
     },
     "output_type": "display_data"
    }
   ],
   "source": [
    "import os\n",
    "import numpy as np\n",
    "import pandas as pd\n",
    "from IPython.display import display, Markdown, Latex\n",
    "import json\n",
    "from utils import CobbDouglasDeflator\n",
    "from utils import cbeq, polyeq, term, is_divisible, Number\n",
    "from matplotlib import pyplot as plt\n",
    "\n",
    "plt.plot()\n",
    "\n",
    "SMALL_SIZE = 14\n",
    "MEDIUM_SIZE = 16\n",
    "LARGE_SIZE = 18\n",
    "HUGE_SIZE = 20\n",
    "\n",
    "plt.rcdefaults()\n",
    "plt.rcParams['text.usetex'] = True\n",
    "plt.rcParams['font.family'] = 'Helvetica'\n",
    "plt.rcParams['font.size'] = MEDIUM_SIZE\n",
    "plt.rcParams['axes.titlesize'] = LARGE_SIZE\n",
    "plt.rcParams['axes.labelsize'] = MEDIUM_SIZE\n",
    "plt.rcParams['xtick.labelsize'] = MEDIUM_SIZE\n",
    "plt.rcParams['ytick.labelsize'] = MEDIUM_SIZE\n",
    "plt.rcParams['legend.fontsize'] = MEDIUM_SIZE\n",
    "plt.rcParams['figure.titlesize'] = LARGE_SIZE\n",
    "plt.rcParams['figure.figsize'] = [7.2, 7.2]\n",
    "plt.rcParams['figure.dpi'] = 60\n",
    "plt.rcParams['figure.facecolor'] = (1.0, 1.0, 1.0, 0.0)\n",
    "\n",
    "JSON_FILE = \"../assets/data/wk08_practice.json\"\n",
    "IMAGE_PATH = \"../assets/images/wk08\"\n",
    "probs = []\n",
    "nprob = 0"
   ]
  },
  {
   "cell_type": "code",
   "execution_count": 2,
   "id": "7a07f30e-aa8a-4e1c-9a96-63bdaa08b41e",
   "metadata": {},
   "outputs": [
    {
     "name": "stdout",
     "output_type": "stream",
     "text": [
      "70\n"
     ]
    }
   ],
   "source": [
    "# Cobb Douglas Deflator\n",
    "df = pd.read_csv(\"CobbDouglasDeflator_examples.csv\")\n",
    "grp1 = (df['CONST_UTIL_DEFLATOR']==100)\n",
    "grp2 = (df['CPI']==100)\n",
    "grp3 = (~grp1) & (~grp2)\n",
    "mydf = pd.concat([\n",
    "    df.loc[grp1].sample(20),\n",
    "    df.loc[grp2].sample(20),\n",
    "    df.loc[grp3].sample(30)\n",
    "]).reset_index(drop=True)\n",
    "for idx, row in mydf.iterrows():\n",
    "    params = dict(row).copy()\n",
    "    prob = CobbDouglasDeflator(params)\n",
    "    cpi = prob.sol['CPI']\n",
    "    cui = prob.sol['CONST_UTIL_DEFLATOR']\n",
    "    income_needed = cui*prob.params['I'] / 100\n",
    "    if (np.abs(cpi-100) > np.abs(cui-100)):\n",
    "        overunder = 'overestimates'\n",
    "    else:\n",
    "        overunder = 'underestimates'\n",
    "    \n",
    "    setup = prob.setup()\n",
    "    setup += fr\"\"\"\n",
    "<p>1. Calculate the CPI in the comparison period relative to the base period.</p>\n",
    "<p>2. How much income would be required in the comparison period to achieve the same utility as the base period?</p>\n",
    "<p>3. Does the CPI underestimate or overestimate the welfare impact of the price changes?</p>\n",
    "\"\"\"\n",
    "    solution = fr\"\"\"\n",
    "<p>CPI = \\({cpi:G}\\)</p>\n",
    "<p>Income needed = \\({income_needed:g}\\)</p>\n",
    "<p>CPI {overunder} the welfare impact</p>\n",
    "\"\"\"\n",
    "    probs.append({'setup':setup, 'solution':solution})\n",
    "    nprob+=1\n",
    "print(len(probs))"
   ]
  },
  {
   "cell_type": "code",
   "execution_count": 3,
   "id": "c55d4467-8661-40b3-ad19-524f2feacca2",
   "metadata": {},
   "outputs": [],
   "source": [
    "with open(JSON_FILE, 'w') as f:\n",
    "    json.dump(probs, f)"
   ]
  },
  {
   "cell_type": "code",
   "execution_count": 4,
   "id": "c4e3e697-5232-45e1-86af-82bb39287878",
   "metadata": {},
   "outputs": [],
   "source": [
    "with open(JSON_FILE, 'r') as f:\n",
    "    myprobs = json.load(f)"
   ]
  },
  {
   "cell_type": "code",
   "execution_count": 5,
   "id": "334981b0-251c-4ede-acd4-7e00dab2dd32",
   "metadata": {},
   "outputs": [
    {
     "data": {
      "text/latex": [
       "\n",
       "A consumer has a utility function over two goods, \\(x\\) and \\(y\\), given by:\n",
       "\n",
       "$$ u(x,y) = x^{ 1 / 2 }y^{ 1 / 2 } $$\n",
       "\n",
       "In the base period, the consumer has income \\(I=144\\), the price of \\(x\\) is \\(p_x=18\\), and the price of \\(y\\) is \\(p_y=6\\).\n",
       "\n",
       "In the comparison period, the price of \\(x\\) is \\(p_x^\\prime=9\\), and the price of \\(y\\) is \\(p_y^\\prime=9\\).\n",
       "\n",
       "<p>1. Calculate the CPI in the comparison period relative to the base period.</p>\n",
       "<p>2. How much income would be required in the comparison period to achieve the same utility as the base period?</p>\n",
       "<p>3. Does the CPI underestimate or overestimate the welfare impact of the price changes?</p>\n"
      ],
      "text/plain": [
       "<IPython.core.display.Latex object>"
      ]
     },
     "metadata": {},
     "output_type": "display_data"
    },
    {
     "data": {
      "text/latex": [
       "\n",
       "<p>CPI = \\(100\\)</p>\n",
       "<p>Income needed = \\(124.708\\)</p>\n",
       "<p>CPI underestimates the welfare impact</p>\n"
      ],
      "text/plain": [
       "<IPython.core.display.Latex object>"
      ]
     },
     "metadata": {},
     "output_type": "display_data"
    }
   ],
   "source": [
    "prob = np.random.choice(myprobs)\n",
    "display(Latex(prob['setup']))\n",
    "display(Latex(prob['solution']))"
   ]
  }
 ],
 "metadata": {
  "kernelspec": {
   "display_name": "Python 3 (ipykernel)",
   "language": "python",
   "name": "python3"
  },
  "language_info": {
   "codemirror_mode": {
    "name": "ipython",
    "version": 3
   },
   "file_extension": ".py",
   "mimetype": "text/x-python",
   "name": "python",
   "nbconvert_exporter": "python",
   "pygments_lexer": "ipython3",
   "version": "3.10.5"
  }
 },
 "nbformat": 4,
 "nbformat_minor": 5
}
