{
 "cells": [
  {
   "cell_type": "code",
   "execution_count": 1,
   "id": "7fdc96f4-395a-42a8-a3a9-623387c4a412",
   "metadata": {},
   "outputs": [],
   "source": [
    "import os\n",
    "import numpy as np\n",
    "import pandas as pd\n",
    "from IPython.display import display, Markdown, Latex\n",
    "import json\n",
    "import utils2 as u2\n",
    "from econtools.documents import Homework, Multipart, MCQ\n",
    "from matplotlib import pyplot as plt\n",
    "\n",
    "SMALL_SIZE = 14\n",
    "MEDIUM_SIZE = 16\n",
    "LARGE_SIZE = 18\n",
    "HUGE_SIZE = 20\n",
    "\n",
    "plt.rcdefaults()\n",
    "plt.rcParams['text.usetex'] = True\n",
    "plt.rcParams['font.family'] = 'Helvetica'\n",
    "plt.rcParams['font.size'] = MEDIUM_SIZE\n",
    "plt.rcParams['axes.titlesize'] = LARGE_SIZE\n",
    "plt.rcParams['axes.labelsize'] = MEDIUM_SIZE\n",
    "plt.rcParams['xtick.labelsize'] = MEDIUM_SIZE\n",
    "plt.rcParams['ytick.labelsize'] = MEDIUM_SIZE\n",
    "plt.rcParams['legend.fontsize'] = MEDIUM_SIZE\n",
    "plt.rcParams['figure.titlesize'] = LARGE_SIZE\n",
    "plt.rcParams['figure.figsize'] = [7.2, 7.2]\n",
    "plt.rcParams['figure.dpi'] = 60\n",
    "plt.rcParams['figure.facecolor'] = (1.0, 1.0, 1.0, 0.0)\n",
    "\n",
    "OUTPUT_DIR = \"./tex\"\n",
    "TITLE = \"4. Commodity Market Model Problem Set\"\n",
    "DUE_DATE = \"NA\"\n",
    "FILENAME = \"lec04_hw\"\n",
    "\n",
    "rng = np.random.default_rng(204)\n",
    "\n",
    "doc = Homework(\n",
    "    title = TITLE,\n",
    "    due_date = DUE_DATE\n",
    ")"
   ]
  },
  {
   "cell_type": "code",
   "execution_count": 2,
   "id": "e8007f05-bf03-4618-aa68-509a66ccb347",
   "metadata": {},
   "outputs": [],
   "source": [
    "TYPE = \"LinearCommodityMarketProblem\"\n",
    "df = pd.read_csv(f\"{TYPE}.csv\")\n",
    "get_ids = [True]*len(df)\n",
    "params = dict(df.loc[get_ids].sample(1,random_state=rng).iloc[0])\n",
    "problem = u2.load_problem(TYPE, params=params, rng=rng)\n",
    "multipart = u2.get_multipart(problem, setup_id=0, question_ids=[2,3,4,5])\n",
    "if multipart is not None:\n",
    "    doc.add(multipart)"
   ]
  },
  {
   "cell_type": "code",
   "execution_count": 3,
   "id": "d3c665a2-576b-45f9-9ef3-554e7853e4c7",
   "metadata": {},
   "outputs": [],
   "source": [
    "TYPE = \"ExponentialCommodityMarketProblem\"\n",
    "df = pd.read_csv(f\"{TYPE}.csv\")\n",
    "get_ids = (df['b']==1)\n",
    "params = dict(df.loc[get_ids].sample(1,random_state=rng).iloc[0])\n",
    "problem = u2.load_problem(TYPE, params=params, rng=rng)\n",
    "multipart = u2.get_multipart(problem, setup_id=0, question_ids=[2,3,4,5])\n",
    "if multipart is not None:\n",
    "    doc.add(multipart)"
   ]
  },
  {
   "cell_type": "code",
   "execution_count": 4,
   "id": "c03f6fec-ac89-4df4-8790-38b5298d8e9d",
   "metadata": {},
   "outputs": [],
   "source": [
    "doc.print_pdf(FILENAME, OUTPUT_DIR, solutions=True)"
   ]
  }
 ],
 "metadata": {
  "kernelspec": {
   "display_name": "Python 3 (ipykernel)",
   "language": "python",
   "name": "python3"
  },
  "language_info": {
   "codemirror_mode": {
    "name": "ipython",
    "version": 3
   },
   "file_extension": ".py",
   "mimetype": "text/x-python",
   "name": "python",
   "nbconvert_exporter": "python",
   "pygments_lexer": "ipython3",
   "version": "3.12.8"
  }
 },
 "nbformat": 4,
 "nbformat_minor": 5
}
