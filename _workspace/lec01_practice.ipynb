{
 "cells": [
  {
   "cell_type": "code",
   "execution_count": null,
   "id": "c047a86b-2714-4ec7-93c3-db89cd57df0d",
   "metadata": {},
   "outputs": [],
   "source": [
    "import os\n",
    "import numpy as np\n",
    "import pandas as pd\n",
    "from IPython.display import display, Markdown, Latex\n",
    "import json\n",
    "import utils2 as u2\n",
    "\n",
    "JSON_FILE = \"../assets/data/lec01_practice.json\"\n",
    "probs = []"
   ]
  },
  {
   "cell_type": "code",
   "execution_count": null,
   "id": "5f729fa6-c639-43f3-a7e0-3aa004ed96cd",
   "metadata": {},
   "outputs": [],
   "source": [
    "# Linear Supply Demand\n",
    "df = pd.read_csv(\"LinearSD_examples.csv\")\n",
    "for idx, row in df.sample(50).iterrows():\n",
    "    params = dict(row).copy()\n",
    "    prob = LinearSD(params)\n",
    "    setup = prob.setup() + \"\\n\\nCalculate the equilibrium price and quantity.\"\n",
    "    p, q = prob.sol['p'], prob.sol['q']\n",
    "    solution = fr\"\"\"\n",
    "$$p = {p:g}$$\n",
    "$$q = {q:g}$$\n",
    "\"\"\"\n",
    "    probs.append({'setup':setup, 'solution':solution})    "
   ]
  }
 ],
 "metadata": {
  "kernelspec": {
   "display_name": "Python 3 (ipykernel)",
   "language": "python",
   "name": "python3"
  },
  "language_info": {
   "codemirror_mode": {
    "name": "ipython",
    "version": 3
   },
   "file_extension": ".py",
   "mimetype": "text/x-python",
   "name": "python",
   "nbconvert_exporter": "python",
   "pygments_lexer": "ipython3",
   "version": "3.10.6"
  }
 },
 "nbformat": 4,
 "nbformat_minor": 5
}
