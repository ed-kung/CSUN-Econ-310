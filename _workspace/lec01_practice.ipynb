{
 "cells": [
  {
   "cell_type": "code",
   "execution_count": 1,
   "id": "c047a86b-2714-4ec7-93c3-db89cd57df0d",
   "metadata": {},
   "outputs": [],
   "source": [
    "import os\n",
    "import numpy as np\n",
    "import pandas as pd\n",
    "from IPython.display import display, Markdown, Latex\n",
    "import json\n",
    "import utils2 as u2\n",
    "from matplotlib import pyplot as plt\n",
    "\n",
    "SMALL_SIZE = 14\n",
    "MEDIUM_SIZE = 16\n",
    "LARGE_SIZE = 18\n",
    "HUGE_SIZE = 20\n",
    "\n",
    "plt.rcdefaults()\n",
    "plt.rcParams['text.usetex'] = True\n",
    "plt.rcParams['font.family'] = 'Helvetica'\n",
    "plt.rcParams['font.size'] = MEDIUM_SIZE\n",
    "plt.rcParams['axes.titlesize'] = LARGE_SIZE\n",
    "plt.rcParams['axes.labelsize'] = MEDIUM_SIZE\n",
    "plt.rcParams['xtick.labelsize'] = MEDIUM_SIZE\n",
    "plt.rcParams['ytick.labelsize'] = MEDIUM_SIZE\n",
    "plt.rcParams['legend.fontsize'] = MEDIUM_SIZE\n",
    "plt.rcParams['figure.titlesize'] = LARGE_SIZE\n",
    "plt.rcParams['figure.figsize'] = [7.2, 7.2]\n",
    "plt.rcParams['figure.dpi'] = 60\n",
    "plt.rcParams['figure.facecolor'] = (1.0, 1.0, 1.0, 0.0)\n",
    "\n",
    "JSON_FILE = \"../assets/data/lec01_practice.json\"\n",
    "PROBLEM_NAME = \"lec01_practice_{}\"\n",
    "IMAGE_PATH = \"../assets/images/graphs\"\n",
    "probs = []\n",
    "nprob = 0\n",
    "\n",
    "rng = np.random.default_rng(101)"
   ]
  },
  {
   "cell_type": "code",
   "execution_count": 2,
   "id": "5f729fa6-c639-43f3-a7e0-3aa004ed96cd",
   "metadata": {},
   "outputs": [],
   "source": [
    "TYPE = \"LinearMarketProblem\"\n",
    "df = pd.read_csv(f\"{TYPE}.csv\")\n",
    "for idx, row in df.sample(30,random_state=rng).iterrows():\n",
    "    name = PROBLEM_NAME.format(nprob)\n",
    "    params = dict(row.copy())\n",
    "    prob = u2.load_problem(TYPE, params=params, rng=rng, name=name)\n",
    "    prob.axis.get_figax(xlab=r'$q$', ylab=r'$p$', saveas=f\"{IMAGE_PATH}/{name}_blank.png\")\n",
    "    plt.close()\n",
    "    prob.axis.draw(xlab=r'$q$', ylab=r'$p$', saveas=f\"{IMAGE_PATH}/{name}_sol.png\")\n",
    "    plt.close()\n",
    "    online_format = u2.get_online_format(prob, setup_id=0, question_ids=[0,1,2,3,4])\n",
    "    probs.append(online_format)\n",
    "    nprob+=1"
   ]
  },
  {
   "cell_type": "code",
   "execution_count": 3,
   "id": "2833ab9f-222d-4090-a3b8-e810531c2479",
   "metadata": {},
   "outputs": [],
   "source": [
    "with open(JSON_FILE, 'w') as f:\n",
    "    json.dump(probs, f)"
   ]
  },
  {
   "cell_type": "code",
   "execution_count": 4,
   "id": "420827d8-5526-40b7-994b-042124d3097c",
   "metadata": {},
   "outputs": [
    {
     "name": "stdout",
     "output_type": "stream",
     "text": [
      "<p>\n",
      "Supply and demand in a market are defined by the following equations:\n",
      "$$\\begin{align}\n",
      "q_d &= 220-2p \\\\\n",
      "q_s &= p-20\n",
      "\\end{align}$$\n",
      "</p>\n",
      "<p>1. Calculate the equilibrium price.</p>\n",
      "<p>2. Calculate the equilibrium quantity.</p>\n",
      "<p>3. Draw the supply and demand diagram using the provided grid:<p><img src=\"/CSUN-Econ-310/assets/images/graphs/lec01_practice_29_blank.png\"></p></p>\n",
      "<p>4. Calculate the consumer surplus.</p>\n",
      "<p>5. Calculate the producer surplus.</p>\n",
      "\n"
     ]
    }
   ],
   "source": [
    "print(online_format['setup'])"
   ]
  }
 ],
 "metadata": {
  "kernelspec": {
   "display_name": "Python 3 (ipykernel)",
   "language": "python",
   "name": "python3"
  },
  "language_info": {
   "codemirror_mode": {
    "name": "ipython",
    "version": 3
   },
   "file_extension": ".py",
   "mimetype": "text/x-python",
   "name": "python",
   "nbconvert_exporter": "python",
   "pygments_lexer": "ipython3",
   "version": "3.12.7"
  }
 },
 "nbformat": 4,
 "nbformat_minor": 5
}
