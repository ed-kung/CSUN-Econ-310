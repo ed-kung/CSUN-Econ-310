{
 "cells": [
  {
   "cell_type": "code",
   "execution_count": 1,
   "id": "f3b6b384-1ba3-47e3-a229-da51a5759465",
   "metadata": {},
   "outputs": [],
   "source": [
    "import numpy as np\n",
    "import pandas as pd\n",
    "from matplotlib import pyplot as plt\n",
    "from matplotlib import cm\n",
    "from IPython.display import display, Markdown, Latex\n",
    "import pickle\n",
    "\n",
    "np.random.seed(100)\n",
    "\n",
    "SMALL_SIZE = 12\n",
    "MEDIUM_SIZE = 14\n",
    "LARGE_SIZE = 16\n",
    "\n",
    "plt.rcdefaults()\n",
    "plt.rcParams['text.usetex'] = True\n",
    "plt.rcParams['font.family'] = 'Helvetica'\n",
    "plt.rcParams['font.size'] = MEDIUM_SIZE\n",
    "plt.rcParams['axes.titlesize'] = LARGE_SIZE\n",
    "plt.rcParams['axes.labelsize'] = MEDIUM_SIZE\n",
    "plt.rcParams['xtick.labelsize'] = SMALL_SIZE\n",
    "plt.rcParams['ytick.labelsize'] = SMALL_SIZE\n",
    "plt.rcParams['legend.fontsize'] = MEDIUM_SIZE\n",
    "plt.rcParams['figure.titlesize'] = LARGE_SIZE\n",
    "plt.rcParams['figure.figsize'] = [7.2, 4.8]\n",
    "plt.rcParams['figure.dpi'] = 60\n",
    "plt.rcParams['figure.facecolor'] = (1.0, 1.0, 1.0, 0.0)\n",
    "\n",
    "from utils import LREQ, SREQ"
   ]
  },
  {
   "cell_type": "code",
   "execution_count": 2,
   "id": "4c0427c2-5f0d-4981-917d-99e4d6b52f09",
   "metadata": {},
   "outputs": [],
   "source": [
    "sreq_df = pd.read_csv(\"SREQ_examples.csv\")\n",
    "lreq_df = pd.read_csv(\"LREQ_examples.csv\")\n",
    "\n",
    "params_df = lreq_df.groupby(\n",
    "    ['N','Y','alpha','beta','gamma','eta']\n",
    ").agg(\n",
    "    num_examples = ('delta','count')\n",
    ").reset_index()\n",
    "\n",
    "params_df = params_df.loc[\n",
    "    params_df['num_examples']>1\n",
    "].reset_index(drop=True)"
   ]
  },
  {
   "cell_type": "code",
   "execution_count": 3,
   "id": "bbfc9969-63aa-43c7-b0df-852955c53526",
   "metadata": {},
   "outputs": [
    {
     "name": "stdout",
     "output_type": "stream",
     "text": [
      "11153\n"
     ]
    }
   ],
   "source": [
    "examples_df = []\n",
    "\n",
    "for idx, row in params_df.iterrows():\n",
    "    params = dict(row).copy()\n",
    "    N = params['N']\n",
    "    Y = params['Y']\n",
    "    alpha = params['alpha']\n",
    "    beta = params['beta']\n",
    "    gamma = params['gamma']\n",
    "    eta = params['eta']\n",
    "    \n",
    "    lreq_sub_df = lreq_df.loc[\n",
    "        (lreq_df['N']==N) &\n",
    "        (lreq_df['Y']==Y) &\n",
    "        (lreq_df['alpha']==alpha) & \n",
    "        (lreq_df['beta']==beta) &\n",
    "        (lreq_df['gamma']==gamma) &\n",
    "        (lreq_df['eta']==eta)\n",
    "    ].sample(2).reset_index(drop=True)\n",
    "    \n",
    "    delta0 = lreq_sub_df.loc[0, 'delta']\n",
    "    delta1 = lreq_sub_df.loc[1, 'delta']\n",
    "    \n",
    "    lreq0 = LREQ({'N':N,'Y':Y,'alpha':alpha,'beta':beta,'gamma':gamma,'delta':delta0,'eta':eta})\n",
    "    lreq1 = LREQ({'N':N,'Y':Y,'alpha':alpha,'beta':beta,'gamma':gamma,'delta':delta1,'eta':eta})\n",
    "    \n",
    "    M0 = lreq0.sol['M']\n",
    "    M1 = lreq1.sol['M']\n",
    "    \n",
    "    params_sr = {'N':N,'Y':Y,'M':M0,'alpha':alpha,'beta':beta,'gamma':gamma,'delta':delta1,'eta':eta}\n",
    "    sreq = SREQ(params_sr)\n",
    "    if sreq.check_solution():\n",
    "        examples_df.append({\n",
    "            'N':N,'Y':Y,'alpha':alpha,'beta':beta,'gamma':gamma,'delta0':delta0,'delta1':delta1,'eta':eta,'profit_sr':sreq.sol['total_profit']\n",
    "        })\n",
    "\n",
    "    params_sr = {'N':N,'Y':Y,'M':M1,'alpha':alpha,'beta':beta,'gamma':gamma,'delta':delta0,'eta':eta}\n",
    "    sreq = SREQ(params_sr)\n",
    "    if sreq.check_solution():\n",
    "        examples_df.append({\n",
    "            'N':N,'Y':Y,'alpha':alpha,'beta':beta,'gamma':gamma,'delta0':delta1,'delta1':delta0,'eta':eta,'profit_sr':sreq.sol['total_profit']\n",
    "        })\n",
    "\n",
    "examples_df = pd.DataFrame.from_dict(examples_df)\n",
    "print(len(examples_df))"
   ]
  },
  {
   "cell_type": "code",
   "execution_count": 4,
   "id": "94c25a29-9508-42ef-89fa-16c3d5945c71",
   "metadata": {},
   "outputs": [],
   "source": [
    "examples_df.to_csv(\"CostShock_examples.csv\", header=True, index=False)"
   ]
  }
 ],
 "metadata": {
  "kernelspec": {
   "display_name": "Python 3 (ipykernel)",
   "language": "python",
   "name": "python3"
  },
  "language_info": {
   "codemirror_mode": {
    "name": "ipython",
    "version": 3
   },
   "file_extension": ".py",
   "mimetype": "text/x-python",
   "name": "python",
   "nbconvert_exporter": "python",
   "pygments_lexer": "ipython3",
   "version": "3.10.6"
  }
 },
 "nbformat": 4,
 "nbformat_minor": 5
}
