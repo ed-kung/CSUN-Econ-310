{
 "cells": [
  {
   "cell_type": "code",
   "execution_count": 1,
   "id": "0d7fffcb-3f3d-441c-92d0-a07d154b186d",
   "metadata": {},
   "outputs": [],
   "source": [
    "import numpy as np\n",
    "import pandas as pd\n",
    "from matplotlib import pyplot as plt\n",
    "from matplotlib import cm\n",
    "from IPython.display import display, Markdown, Latex\n",
    "import pickle\n",
    "import json\n",
    "\n",
    "SMALL_SIZE = 12\n",
    "MEDIUM_SIZE = 14\n",
    "LARGE_SIZE = 16\n",
    "\n",
    "plt.rcdefaults()\n",
    "plt.rcParams['text.usetex'] = True\n",
    "plt.rcParams['font.family'] = 'Helvetica'\n",
    "plt.rcParams['font.size'] = MEDIUM_SIZE\n",
    "plt.rcParams['axes.titlesize'] = LARGE_SIZE\n",
    "plt.rcParams['axes.labelsize'] = MEDIUM_SIZE\n",
    "plt.rcParams['xtick.labelsize'] = SMALL_SIZE\n",
    "plt.rcParams['ytick.labelsize'] = SMALL_SIZE\n",
    "plt.rcParams['legend.fontsize'] = MEDIUM_SIZE\n",
    "plt.rcParams['figure.titlesize'] = LARGE_SIZE\n",
    "plt.rcParams['figure.figsize'] = [7.2, 4.8]\n",
    "plt.rcParams['figure.dpi'] = 60\n",
    "plt.rcParams['figure.facecolor'] = (1.0, 1.0, 1.0, 0.0)\n",
    "\n",
    "from utils import DemandPoly, get_random_prob"
   ]
  },
  {
   "cell_type": "code",
   "execution_count": 2,
   "id": "02035f21-cb1a-42cf-9a5b-5ecb08f118ac",
   "metadata": {},
   "outputs": [],
   "source": [
    "prob = DemandPoly()"
   ]
  },
  {
   "cell_type": "code",
   "execution_count": 3,
   "id": "0a6dc247-eea3-4fc6-9b9e-ec6c79817ddb",
   "metadata": {},
   "outputs": [
    {
     "data": {
      "text/latex": [
       "\n",
       "There are \\(N\\) identical, price-taking consumers with income \\(Y\\). Each consumer has utility over numeraire consumption \\(c\\) and a commodity \\(q\\) given by:\n",
       "\n",
       "$$ u(c,q) = c + aq - bq^k $$\n",
       "\n",
       "The demand curve is:\n",
       "\n",
       "$$ q = \\left( \\frac{ a - p }{ kb } \\right)^{ \\frac{1}{k-1} } $$\n"
      ],
      "text/plain": [
       "<IPython.core.display.Latex object>"
      ]
     },
     "metadata": {},
     "output_type": "display_data"
    }
   ],
   "source": [
    "display(Latex(prob.general_setup()))"
   ]
  },
  {
   "cell_type": "code",
   "execution_count": 4,
   "id": "a11a774a-d4a0-4d37-9b5d-fe6bd2552136",
   "metadata": {},
   "outputs": [
    {
     "data": {
      "text/latex": [
       "\n",
       "A price-taking consumer with income \\(Y=100\\) has utility over numeraire consumption \\(c\\) and a commodity \\(q\\) given by:\n",
       "\n",
       "$$ u(c,q) = c + 10q-\\frac{ 1 }{ 2 }q^{ 2 } $$\n"
      ],
      "text/plain": [
       "<IPython.core.display.Latex object>"
      ]
     },
     "metadata": {},
     "output_type": "display_data"
    },
    {
     "data": {
      "text/latex": [
       "10-p"
      ],
      "text/plain": [
       "<IPython.core.display.Latex object>"
      ]
     },
     "metadata": {},
     "output_type": "display_data"
    }
   ],
   "source": [
    "display(Latex(prob.setup()))\n",
    "display(Latex(prob.solution()))"
   ]
  },
  {
   "cell_type": "code",
   "execution_count": 5,
   "id": "9785ce1d-5a39-4eaf-91c5-8121160e6ded",
   "metadata": {},
   "outputs": [
    {
     "name": "stdout",
     "output_type": "stream",
     "text": [
      "108648 examples found.\n"
     ]
    }
   ],
   "source": [
    "examples = []\n",
    "n_found = 0\n",
    "for Y in np.array([50,100,200]):\n",
    "    for a in np.arange(4,25):\n",
    "        for b in np.array([0.5,1,2,3,4]):\n",
    "            for k in np.arange(2,5):\n",
    "                for N in np.array([1,10,20,40,50,100,120,240,320]):\n",
    "                    for p in np.arange(1,a-1):\n",
    "                        params = {'Y':Y,'a':a,'b':b,'k':k,'N':N}\n",
    "                        prob = DemandPoly(params)\n",
    "                        sol = prob.eval(p)\n",
    "                        if sol['c']>0:\n",
    "                            n_found+=1\n",
    "                            examples.append(prob.params | sol)\n",
    "examples = pd.DataFrame.from_dict(examples)\n",
    "examples = examples.drop_duplicates().reset_index(drop=True)\n",
    "examples.to_csv(\"DemandPoly_examples.csv\", header=True, index=False)\n",
    "print(f\"{len(examples)} examples found.\")"
   ]
  },
  {
   "cell_type": "code",
   "execution_count": 8,
   "id": "93ac7140-71d7-43df-972c-96abfcfa406e",
   "metadata": {},
   "outputs": [
    {
     "data": {
      "text/latex": [
       "\n",
       "There are \\(320\\) identical, price-taking consumers with income \\(Y=100\\). Each consumer has utility over numeraire consumption \\(c\\) and a commodity \\(q\\) given by:\n",
       "\n",
       "$$ u(c,q) = c + 17q-3q^{ 2 } $$\n"
      ],
      "text/plain": [
       "<IPython.core.display.Latex object>"
      ]
     },
     "metadata": {},
     "output_type": "display_data"
    },
    {
     "data": {
      "text/latex": [
       "$$  320 \\left( \\frac{ 17-p }{ 6 } \\right)  $$"
      ],
      "text/plain": [
       "<IPython.core.display.Latex object>"
      ]
     },
     "metadata": {},
     "output_type": "display_data"
    }
   ],
   "source": [
    "myprob = get_random_prob(DemandPoly, \"DemandPoly_examples.csv\")\n",
    "display(Latex(myprob.setup()))\n",
    "display(Latex(fr\"$$ {myprob.solution()} $$\"))"
   ]
  }
 ],
 "metadata": {
  "kernelspec": {
   "display_name": "Python 3 (ipykernel)",
   "language": "python",
   "name": "python3"
  },
  "language_info": {
   "codemirror_mode": {
    "name": "ipython",
    "version": 3
   },
   "file_extension": ".py",
   "mimetype": "text/x-python",
   "name": "python",
   "nbconvert_exporter": "python",
   "pygments_lexer": "ipython3",
   "version": "3.10.5"
  }
 },
 "nbformat": 4,
 "nbformat_minor": 5
}
