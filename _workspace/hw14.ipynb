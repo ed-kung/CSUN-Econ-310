{
 "cells": [
  {
   "cell_type": "code",
   "execution_count": 1,
   "id": "c22ce13f-1cf1-466a-afed-8d731d3fb548",
   "metadata": {},
   "outputs": [],
   "source": [
    "import os\n",
    "import numpy as np\n",
    "import pandas as pd\n",
    "from IPython.display import display, Markdown, Latex\n",
    "\n",
    "import econtools\n",
    "from econtools.documents import Homework, RawLatex, Multipart\n",
    "import utils2 as u2\n",
    "from matplotlib import pyplot as plt\n",
    "\n",
    "SMALL_SIZE = 14\n",
    "MEDIUM_SIZE = 16\n",
    "LARGE_SIZE = 18\n",
    "HUGE_SIZE = 20\n",
    "\n",
    "plt.rcdefaults()\n",
    "plt.rcParams['text.usetex'] = True\n",
    "plt.rcParams['font.family'] = 'Helvetica'\n",
    "plt.rcParams['font.size'] = MEDIUM_SIZE\n",
    "plt.rcParams['axes.titlesize'] = LARGE_SIZE\n",
    "plt.rcParams['axes.labelsize'] = MEDIUM_SIZE\n",
    "plt.rcParams['xtick.labelsize'] = MEDIUM_SIZE\n",
    "plt.rcParams['ytick.labelsize'] = MEDIUM_SIZE\n",
    "plt.rcParams['legend.fontsize'] = MEDIUM_SIZE\n",
    "plt.rcParams['figure.titlesize'] = LARGE_SIZE\n",
    "plt.rcParams['figure.figsize'] = [7.2, 7.2]\n",
    "plt.rcParams['figure.dpi'] = 60\n",
    "plt.rcParams['figure.facecolor'] = (1.0, 1.0, 1.0, 0.0)\n",
    "\n",
    "OUTPUT_DIR = \"./tex\"\n",
    "IMAGE_PATH = \"./tex\"\n",
    "TITLE = \"Econ 310 Week 14 Problem Set\"\n",
    "DUE_DATE = \"Tuesday 4/29\"\n",
    "FILENAME = \"ec310-hw14\"\n",
    "\n",
    "doc = Homework(\n",
    "    title = TITLE,\n",
    "    due_date = DUE_DATE\n",
    ")\n",
    "rng = np.random.default_rng(114)\n",
    "\n",
    "nprob = 0"
   ]
  },
  {
   "cell_type": "code",
   "execution_count": 2,
   "id": "8089f340-dca3-4b52-8376-134e7a82ff6e",
   "metadata": {},
   "outputs": [],
   "source": [
    "doc.add(RawLatex(fr\"\"\"\n",
    "\\begin{{q}}\n",
    "For each of the following examples of a monopoly, say what the barrier to entry is.\n",
    "\\begin{{enumerate}}[a.]\n",
    "\\item A power company that is the only power provider in its region\n",
    "\\item A pharmaceutical company that owns a patent on a drug\n",
    "\\item A chemical company that owns a secret formula (but does not have a patent)\n",
    "\\item A social media platform with a dominant market position\n",
    "\\end{{enumerate}}\n",
    "\\end{{q}}\n",
    "\"\"\"))"
   ]
  },
  {
   "cell_type": "code",
   "execution_count": 3,
   "id": "090ffda7-5e67-4f1b-a77a-d3c3522edda5",
   "metadata": {},
   "outputs": [],
   "source": [
    "TYPE = 'MonopolyProblem'\n",
    "df = pd.read_pickle(f\"{TYPE}.pkl\")\n",
    "idx = df['f']==0\n",
    "params = dict(df.loc[idx].sample(1,random_state=rng).iloc[0])\n",
    "name = fr\"{FILENAME}-{nprob}\"\n",
    "problem = u2.load_problem(TYPE, params, rng=rng, name=name)\n",
    "doc.add(u2.get_multipart_sa(problem,setup_id=1,question_ids=[0,1,2,3,4,5,6,7,8]))\n",
    "nprob+=1"
   ]
  },
  {
   "cell_type": "code",
   "execution_count": 4,
   "id": "6b7c11d0-1cf2-4e18-8188-4a51eea0ec2d",
   "metadata": {},
   "outputs": [],
   "source": [
    "TYPE = 'MonopolyProblem'\n",
    "df = pd.read_pickle(f\"{TYPE}.pkl\")\n",
    "idx = (df['profit_eff']<0)\n",
    "params = dict(df.loc[idx].sample(1,random_state=rng).iloc[0])\n",
    "name = fr\"{FILENAME}-{nprob}\"\n",
    "problem = u2.load_problem(TYPE, params, rng=rng, name=name)\n",
    "doc.add(u2.get_multipart_sa(problem,setup_id=0,question_ids=[0,1,2,4,5,6]))\n",
    "nprob+=1"
   ]
  },
  {
   "cell_type": "code",
   "execution_count": 5,
   "id": "f41a4e39-0564-440f-bd04-8b016f317bc2",
   "metadata": {},
   "outputs": [],
   "source": [
    "TYPE = 'Cournot2Problem'\n",
    "df = pd.read_pickle(f\"{TYPE}.pkl\")\n",
    "params = dict(df.sample(1,random_state=rng).iloc[0])\n",
    "name = fr\"{FILENAME}-{nprob}\"\n",
    "problem = u2.load_problem(TYPE, params, rng=rng, name=name)\n",
    "doc.add(u2.get_multipart_sa(problem,setup_id=0,question_ids=[0,1,2,3,4]))\n",
    "nprob+=1"
   ]
  },
  {
   "cell_type": "code",
   "execution_count": 6,
   "id": "e48ce7a9-a55d-4b39-a4b3-59adde04835e",
   "metadata": {},
   "outputs": [],
   "source": [
    "TYPE = 'CournotNProblem'\n",
    "df = pd.read_pickle(f\"{TYPE}.pkl\")\n",
    "idx = df['N']>10\n",
    "params = dict(df.loc[idx].sample(1,random_state=rng).iloc[0])\n",
    "name = fr\"{FILENAME}-{nprob}\"\n",
    "problem = u2.load_problem(TYPE, params, rng=rng, name=name)\n",
    "doc.add(u2.get_multipart_sa(problem,setup_id=0,question_ids=[0,1,2,3]))\n",
    "nprob+=1"
   ]
  },
  {
   "cell_type": "code",
   "execution_count": 7,
   "id": "5205f72e-77c2-4ee4-bc55-d8ca089bf66a",
   "metadata": {},
   "outputs": [],
   "source": [
    "doc.add(RawLatex(fr\"\"\"\n",
    "\\begin{{q}}\n",
    "Match the model to its description:\n",
    "\n",
    "\\begin{{tabular}}{{rcl}}\n",
    "Hotelling Model $\\cdot$ & ~ ~ & $\\cdot$ A model of entry deterrence by an incumbent firm \\\\\n",
    "Cournot Model $\\cdot$ & ~ ~ & $\\cdot$ A model of price competition between firms \\\\\n",
    "Bertrand Model $\\cdot$ & ~ ~ & $\\cdot$ A model of product differentiation \\\\\n",
    "Stackelberg Model $\\cdot$ & ~ ~ & $\\cdot$ A model of quantity competition between firms \\\\\n",
    "\\end{{tabular}}\n",
    "\\end{{q}}\n",
    "\"\"\"))"
   ]
  },
  {
   "cell_type": "code",
   "execution_count": 8,
   "id": "bf1162b3-5465-48b4-ac44-59e47faa0a99",
   "metadata": {},
   "outputs": [
    {
     "name": "stdout",
     "output_type": "stream",
     "text": [
      "{'alpha': 12, 'beta': 1, 'mc': 3, 'N': 2}\n",
      "0:  Price-taking consumers in the market for a commodity have a demand curve given by: $$ Q = 12-p $$ The market is supplied by \\(N=2\\) identical firms. Each firm has a constant average and marginal cost of production equal to \\(c=3\\). The firms engage in Cournot competition, i.e. they choose the quantity they wish to produce and let the market determine the price. \n",
      "\n",
      "0: What quantity does each firm produce in the Nash equilibrium?\n",
      "\n",
      "1: What is the total quantity produced in the Nash equilibrium?\n",
      "\n",
      "2: What is the Nash equilibrium price in this market?\n",
      "\n",
      "3: What is the Nash equilibrium profit of each firm?\n",
      "\n"
     ]
    }
   ],
   "source": [
    "u2.show_menu('CournotNProblem')\n",
    "#u2.PROBLEM_TYPES"
   ]
  },
  {
   "cell_type": "code",
   "execution_count": 9,
   "id": "d3c8b391-8cc1-49d3-8ce8-a2894533df71",
   "metadata": {},
   "outputs": [],
   "source": [
    "doc.print_pdf(FILENAME, OUTPUT_DIR)"
   ]
  }
 ],
 "metadata": {
  "kernelspec": {
   "display_name": "Python 3 (ipykernel)",
   "language": "python",
   "name": "python3"
  },
  "language_info": {
   "codemirror_mode": {
    "name": "ipython",
    "version": 3
   },
   "file_extension": ".py",
   "mimetype": "text/x-python",
   "name": "python",
   "nbconvert_exporter": "python",
   "pygments_lexer": "ipython3",
   "version": "3.12.8"
  }
 },
 "nbformat": 4,
 "nbformat_minor": 5
}
