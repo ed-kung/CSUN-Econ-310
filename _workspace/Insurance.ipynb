{
 "cells": [
  {
   "cell_type": "code",
   "execution_count": 1,
   "id": "df12c667-f8cc-4876-afdf-cddca13bfae7",
   "metadata": {},
   "outputs": [],
   "source": [
    "import numpy as np\n",
    "import pandas as pd\n",
    "from matplotlib import pyplot as plt\n",
    "from matplotlib import cm\n",
    "from IPython.display import display, Markdown, Latex\n",
    "import pickle\n",
    "rng = np.random.default_rng(654)\n",
    "\n",
    "SMALL_SIZE = 12\n",
    "MEDIUM_SIZE = 14\n",
    "LARGE_SIZE = 16\n",
    "\n",
    "plt.rcdefaults()\n",
    "plt.rcParams['text.usetex'] = True\n",
    "plt.rcParams['font.family'] = 'Helvetica'\n",
    "plt.rcParams['font.size'] = MEDIUM_SIZE\n",
    "plt.rcParams['axes.titlesize'] = LARGE_SIZE\n",
    "plt.rcParams['axes.labelsize'] = MEDIUM_SIZE\n",
    "plt.rcParams['xtick.labelsize'] = SMALL_SIZE\n",
    "plt.rcParams['ytick.labelsize'] = SMALL_SIZE\n",
    "plt.rcParams['legend.fontsize'] = MEDIUM_SIZE\n",
    "plt.rcParams['figure.titlesize'] = LARGE_SIZE\n",
    "plt.rcParams['figure.figsize'] = [7.2, 4.8]\n",
    "plt.rcParams['figure.dpi'] = 60\n",
    "plt.rcParams['figure.facecolor'] = (1.0, 1.0, 1.0, 0.0)\n",
    "\n",
    "from utils import Insurance, get_random_prob\n"
   ]
  },
  {
   "cell_type": "code",
   "execution_count": 2,
   "id": "3563aed5-4b34-4b26-b165-0dcf845940f8",
   "metadata": {},
   "outputs": [],
   "source": [
    "prob = Insurance()"
   ]
  },
  {
   "cell_type": "code",
   "execution_count": 3,
   "id": "db970bbd-e337-4d3c-bb3b-e39d955e7112",
   "metadata": {},
   "outputs": [
    {
     "data": {
      "text/latex": [
       "\n",
       "An individual has an initial wealth of \\(W\\). There is a \\(p\\) chance that the individual has a problem,\n",
       "which would force the individual to pay \\(D\\) to fix the problem. \n",
       "\n",
       "The expected wealth is:\n",
       "\n",
       "$$E[W] = (1-p)W + p(W-D)$$\n",
       "\n",
       "The certainty equivalent is:\n",
       "\n",
       "$$ CE = u^{-1} \\left( (1-p)u(W) + pu(W-D) \\right) $$\n"
      ],
      "text/plain": [
       "<IPython.core.display.Latex object>"
      ]
     },
     "metadata": {},
     "output_type": "display_data"
    }
   ],
   "source": [
    "display(Latex(prob.general_setup()))"
   ]
  },
  {
   "cell_type": "code",
   "execution_count": 4,
   "id": "7b24ea0a-2590-4cb2-ad0b-81970351ad7f",
   "metadata": {},
   "outputs": [
    {
     "data": {
      "text/latex": [
       "\n",
       "An individual has an inititial wealth of \\(2,000\\). There is a \\(50\\%\\) chance that the individual has a problem,\n",
       "which would force them to pay \\(1,000\\) to fix the problem.  Let \\(X\\) be a random variable representing the person's \n",
       "wealth at the end of the day. The individual's utility function over wealth is:\n",
       "\n",
       "$$ u(X) = \\ln X $$\n"
      ],
      "text/plain": [
       "<IPython.core.display.Latex object>"
      ]
     },
     "metadata": {},
     "output_type": "display_data"
    },
    {
     "name": "stdout",
     "output_type": "stream",
     "text": [
      "{'fun': 'ln', 'W': 2000, 'D': 1000, 'p': 0.5}\n",
      "{'EW': 1500.0, 'UEW': 7.313220387090301, 'EU': 7.2543288692621095, 'CE': 1414.2135623730949, 'WTP': 585.7864376269051, 'FairCost': 500.0}\n",
      "True\n"
     ]
    }
   ],
   "source": [
    "display(Latex(prob.setup()))\n",
    "print(prob.params)\n",
    "print(prob.sol)\n",
    "print(prob.check_solutions())"
   ]
  },
  {
   "cell_type": "code",
   "execution_count": 5,
   "id": "15ddb811-f013-443b-a1d1-e5a655751a32",
   "metadata": {},
   "outputs": [
    {
     "name": "stdout",
     "output_type": "stream",
     "text": [
      "1000 eamples found...\n",
      "2000 eamples found...\n",
      "3000 eamples found...\n",
      "4000 eamples found...\n",
      "5000 eamples found...\n",
      "6000 eamples found...\n",
      "7000 eamples found...\n",
      "8000 eamples found...\n",
      "9000 eamples found...\n",
      "9923 examples found.\n"
     ]
    }
   ],
   "source": [
    "examples = []\n",
    "n_found = 0\n",
    "for fun in ['ln','sqrt']:\n",
    "    for i in range(5000):\n",
    "        W = rng.integers(10,101)*np.random.choice([100,1000])\n",
    "        D = rng.choice([0.1,0.2,0.25,0.3,0.4,0.5])*W\n",
    "        p = rng.choice([0.05,0.1,0.15,0.2,0.25,0.30,0.35,0.40,0.45,0.50])\n",
    "        params = {'fun':fun, 'W':W, 'D':D, 'p':p}\n",
    "        prob = Insurance(params)\n",
    "        if prob.check_solutions():\n",
    "            examples.append(params | prob.sol)\n",
    "            n_found += 1\n",
    "            if (n_found%1000==0):\n",
    "                print(f\"{n_found} eamples found...\")\n",
    "examples = pd.DataFrame.from_dict(examples)\n",
    "examples.to_csv(\"Insurance_examples.csv\", index=False, header=True)\n",
    "print(f\"{len(examples)} examples found.\")"
   ]
  },
  {
   "cell_type": "code",
   "execution_count": 26,
   "id": "9ef0aa89-9607-4a36-9a95-5427b10a8009",
   "metadata": {},
   "outputs": [
    {
     "data": {
      "text/latex": [
       "\n",
       "An individual has an inititial wealth of \\(78,000\\). There is a \\(30\\%\\) chance that the individual has a problem,\n",
       "which would force them to pay \\(23,400\\) to fix the problem.  Let \\(X\\) be a random variable representing the person's \n",
       "wealth at the end of the day. The individual's utility function over wealth is:\n",
       "\n",
       "$$ u(X) = \\ln X $$\n"
      ],
      "text/plain": [
       "<IPython.core.display.Latex object>"
      ]
     },
     "metadata": {},
     "output_type": "display_data"
    },
    {
     "name": "stdout",
     "output_type": "stream",
     "text": [
      "{'fun': 'ln', 'W': 78000, 'D': 23400.0, 'p': 0.3}\n",
      "{'EW': 70980.0, 'UEW': 11.170153426200487, 'EU': 11.157461622490109, 'CE': 70084.82845966988, 'WTP': 7915.1715403301205, 'FairCost': 7020.0}\n",
      "True\n"
     ]
    }
   ],
   "source": [
    "myprob = get_random_prob(Insurance, \"Insurance_examples.csv\")\n",
    "display(Latex(myprob.setup()))\n",
    "print(myprob.params)\n",
    "print(myprob.sol)\n",
    "print(myprob.check_solutions())"
   ]
  },
  {
   "cell_type": "code",
   "execution_count": null,
   "id": "9c33c252-8a9a-4311-8f44-d7a55b86c796",
   "metadata": {},
   "outputs": [],
   "source": []
  }
 ],
 "metadata": {
  "kernelspec": {
   "display_name": "Python 3 (ipykernel)",
   "language": "python",
   "name": "python3"
  },
  "language_info": {
   "codemirror_mode": {
    "name": "ipython",
    "version": 3
   },
   "file_extension": ".py",
   "mimetype": "text/x-python",
   "name": "python",
   "nbconvert_exporter": "python",
   "pygments_lexer": "ipython3",
   "version": "3.12.7"
  }
 },
 "nbformat": 4,
 "nbformat_minor": 5
}
