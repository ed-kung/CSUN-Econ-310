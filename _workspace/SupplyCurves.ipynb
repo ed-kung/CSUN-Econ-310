{
 "cells": [
  {
   "cell_type": "code",
   "execution_count": 1,
   "id": "0d7fffcb-3f3d-441c-92d0-a07d154b186d",
   "metadata": {},
   "outputs": [],
   "source": [
    "import numpy as np\n",
    "import pandas as pd\n",
    "from matplotlib import pyplot as plt\n",
    "from matplotlib import cm\n",
    "from IPython.display import display, Markdown, Latex\n",
    "import pickle\n",
    "import json\n",
    "\n",
    "SMALL_SIZE = 12\n",
    "MEDIUM_SIZE = 14\n",
    "LARGE_SIZE = 16\n",
    "\n",
    "plt.rcdefaults()\n",
    "plt.rcParams['text.usetex'] = True\n",
    "plt.rcParams['font.family'] = 'Helvetica'\n",
    "plt.rcParams['font.size'] = MEDIUM_SIZE\n",
    "plt.rcParams['axes.titlesize'] = LARGE_SIZE\n",
    "plt.rcParams['axes.labelsize'] = MEDIUM_SIZE\n",
    "plt.rcParams['xtick.labelsize'] = SMALL_SIZE\n",
    "plt.rcParams['ytick.labelsize'] = SMALL_SIZE\n",
    "plt.rcParams['legend.fontsize'] = MEDIUM_SIZE\n",
    "plt.rcParams['figure.titlesize'] = LARGE_SIZE\n",
    "plt.rcParams['figure.figsize'] = [7.2, 4.8]\n",
    "plt.rcParams['figure.dpi'] = 60\n",
    "plt.rcParams['figure.facecolor'] = (1.0, 1.0, 1.0, 0.0)\n",
    "\n",
    "from utils import SupplyPoly, get_random_prob"
   ]
  },
  {
   "cell_type": "code",
   "execution_count": 2,
   "id": "02035f21-cb1a-42cf-9a5b-5ecb08f118ac",
   "metadata": {},
   "outputs": [],
   "source": [
    "prob = SupplyPoly()"
   ]
  },
  {
   "cell_type": "code",
   "execution_count": 3,
   "id": "0a6dc247-eea3-4fc6-9b9e-ec6c79817ddb",
   "metadata": {},
   "outputs": [
    {
     "data": {
      "text/latex": [
       "\n",
       "There are \\(M\\) identical, price-taking firms that can produce a commodity which sells at price \\(p\\). Each firm's cost function is:\n",
       "\n",
       "$$ c(q) = a + bq + cq^k $$\n",
       "\n",
       "The supply curve is:\n",
       "\n",
       "$$ Q = M \\left( \\frac{ p - b }{ kc } \\right)^{ \\frac{1}{k-1} } $$\n"
      ],
      "text/plain": [
       "<IPython.core.display.Latex object>"
      ]
     },
     "metadata": {},
     "output_type": "display_data"
    }
   ],
   "source": [
    "display(Latex(prob.general_setup()))"
   ]
  },
  {
   "cell_type": "code",
   "execution_count": 4,
   "id": "365107a1-88ee-45b8-9a56-8485558cb955",
   "metadata": {},
   "outputs": [
    {
     "data": {
      "text/latex": [
       "\n",
       "A price-taking firm produces a commodity that sells at price \\(p\\). The firm's cost function is:\n",
       "\n",
       "$$ c(q) = \\frac{ 1 }{ 2 }q^{ 2 } $$\n"
      ],
      "text/plain": [
       "<IPython.core.display.Latex object>"
      ]
     },
     "metadata": {},
     "output_type": "display_data"
    },
    {
     "data": {
      "text/latex": [
       "p"
      ],
      "text/plain": [
       "<IPython.core.display.Latex object>"
      ]
     },
     "metadata": {},
     "output_type": "display_data"
    }
   ],
   "source": [
    "display(Latex(prob.setup()))\n",
    "display(Latex(prob.solution()))"
   ]
  },
  {
   "cell_type": "code",
   "execution_count": 5,
   "id": "c3d5c0a3-7edc-4c4d-91de-ec0f785e7dae",
   "metadata": {},
   "outputs": [
    {
     "name": "stdout",
     "output_type": "stream",
     "text": [
      "246402 examples found.\n"
     ]
    }
   ],
   "source": [
    "examples = []\n",
    "n_found = 0\n",
    "for a in np.arange(0,13):\n",
    "    for b in np.arange(0,13):\n",
    "        for c in np.array([0.1,0.2,0.5,1,2,4]):\n",
    "            for k in range(2,5):\n",
    "                for M in np.array([1,10,20,40,50,100,120,240,320]):\n",
    "                    for p in np.arange(b+1, b+10):\n",
    "                        params = {'a':a, 'b':b, 'c':c, 'k':k, 'M':M}\n",
    "                        prob = SupplyPoly(params)\n",
    "                        sol = prob.eval(p)\n",
    "                        n_found+=1\n",
    "                        examples.append(prob.params | sol)\n",
    "examples = pd.DataFrame.from_dict(examples)\n",
    "examples = examples.drop_duplicates().reset_index(drop=True)\n",
    "examples.to_csv(\"SupplyPoly_examples.csv\", header=True, index=False)\n",
    "print(f\"{len(examples)} examples found.\")"
   ]
  },
  {
   "cell_type": "code",
   "execution_count": 6,
   "id": "0f27cb2c-30e3-4e8e-a24e-1740f8202720",
   "metadata": {},
   "outputs": [
    {
     "data": {
      "text/latex": [
       "\n",
       "There are \\(120\\) identical, price-taking firms that can produce a commodity which sells at price \\(p\\). Each firm's cost function is:\n",
       "\n",
       "$$ c(q) = 6+4q+4q^{ 3 } $$\n"
      ],
      "text/plain": [
       "<IPython.core.display.Latex object>"
      ]
     },
     "metadata": {},
     "output_type": "display_data"
    },
    {
     "data": {
      "text/latex": [
       "$$  120 \\left( \\frac{ p-4 }{ 12 } \\right)^{ 1/2 } $$"
      ],
      "text/plain": [
       "<IPython.core.display.Latex object>"
      ]
     },
     "metadata": {},
     "output_type": "display_data"
    }
   ],
   "source": [
    "myprob = get_random_prob(SupplyPoly, \"SupplyPoly_examples.csv\")\n",
    "display(Latex(myprob.setup()))\n",
    "display(Latex(fr\"$$ {myprob.solution()} $$\"))"
   ]
  },
  {
   "cell_type": "code",
   "execution_count": null,
   "id": "afcbaeea-a00b-4135-973c-a10cc2426285",
   "metadata": {},
   "outputs": [],
   "source": []
  },
  {
   "cell_type": "code",
   "execution_count": null,
   "id": "b2642bee-6d9b-47a5-a95a-5f66a3852eeb",
   "metadata": {},
   "outputs": [],
   "source": []
  }
 ],
 "metadata": {
  "kernelspec": {
   "display_name": "Python 3 (ipykernel)",
   "language": "python",
   "name": "python3"
  },
  "language_info": {
   "codemirror_mode": {
    "name": "ipython",
    "version": 3
   },
   "file_extension": ".py",
   "mimetype": "text/x-python",
   "name": "python",
   "nbconvert_exporter": "python",
   "pygments_lexer": "ipython3",
   "version": "3.10.5"
  }
 },
 "nbformat": 4,
 "nbformat_minor": 5
}
