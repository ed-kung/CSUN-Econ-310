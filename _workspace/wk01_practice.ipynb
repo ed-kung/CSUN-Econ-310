{
 "cells": [
  {
   "cell_type": "code",
   "execution_count": 1,
   "id": "2b06770f-63e6-4bb8-8104-1850bcc82b73",
   "metadata": {},
   "outputs": [],
   "source": [
    "import os\n",
    "import numpy as np\n",
    "import pandas as pd\n",
    "from IPython.display import display, Markdown, Latex\n",
    "import json\n",
    "from utils import LinearSD, CESSD, SimplifyCB, CobbDouglasIC, get_random_prob, cbeq\n",
    "\n",
    "JSON_FILE = \"wk01_practice.json\"\n",
    "probs = []"
   ]
  },
  {
   "cell_type": "code",
   "execution_count": 2,
   "id": "3ca795be-3aeb-4dad-9b10-d1c28605b226",
   "metadata": {},
   "outputs": [],
   "source": [
    "# Linear Supply Demand\n",
    "df = pd.read_csv(\"LinearSD_examples.csv\")\n",
    "for idx, row in df.sample(50).iterrows():\n",
    "    params = dict(row).copy()\n",
    "    prob = LinearSD(params)\n",
    "    setup = prob.setup() + \"\\n\\nCalculate the equilibrium price and quantity.\"\n",
    "    p, q = prob.sol['p'], prob.sol['q']\n",
    "    solution = fr\"\\(p = {p:g}\\), \\(q = {q:g}\\)\"\n",
    "    probs.append({'setup':setup, 'solution':solution})    "
   ]
  },
  {
   "cell_type": "code",
   "execution_count": 3,
   "id": "85e2e410-d779-4307-a710-d3d3ffb5de0f",
   "metadata": {},
   "outputs": [],
   "source": [
    "# Constant Elasticity Supply Demand\n",
    "df = pd.read_csv(\"CESSD_examples.csv\")\n",
    "for idx, row in df.sample(50).iterrows():\n",
    "    params = dict(row).copy()\n",
    "    prob = CESSD(params)\n",
    "    setup = prob.setup() + \"\\n\\nCalculate the equilibrium price and quantity.\"\n",
    "    p, q = prob.sol['p'], prob.sol['q']\n",
    "    solution = fr\"\\(p = {p:g}\\), \\(q = {q:g}\\)\"\n",
    "    probs.append({'setup':setup, 'solution':solution})    "
   ]
  },
  {
   "cell_type": "code",
   "execution_count": 4,
   "id": "e530eb05-76ad-42ce-8a6b-56bd1527da72",
   "metadata": {},
   "outputs": [],
   "source": [
    "# Simplify Cobb Douglas\n",
    "df = pd.read_csv(\"SimplifyCB_examples.csv\")\n",
    "sel = (np.abs(df['xp'])==df['D']) & (np.abs(df['yp'])==df['D'])\n",
    "for idx, row in df.loc[sel].sample(30).iterrows():\n",
    "    params = dict(row).copy()\n",
    "    prob = SimplifyCB(params)\n",
    "    setup = prob.setup() \n",
    "    solution = prob.solution()\n",
    "    probs.append({'setup':setup, 'solution':solution})\n",
    "for idx, row in df.loc[~sel].sample(20).iterrows():\n",
    "    params = dict(row).copy()\n",
    "    prob = SimplifyCB(params)\n",
    "    setup = prob.setup() \n",
    "    solution = prob.solution()\n",
    "    probs.append({'setup':setup, 'solution':solution})    "
   ]
  },
  {
   "cell_type": "code",
   "execution_count": 5,
   "id": "54007166-3de1-40c2-bf2b-8b823b19505a",
   "metadata": {},
   "outputs": [],
   "source": [
    "# Solve y in terms of x\n",
    "df = pd.read_csv(\"CobbDouglasIC_examples.csv\")\n",
    "for idx, row in df.sample(50).iterrows():\n",
    "    params = dict(row).copy()\n",
    "    A,x,a,b,y,c,d,U=params['A'],params['x'],params['a'],params['b'],params['y'],params['c'],params['d'],params['U']\n",
    "    prob = CobbDouglasIC(params)\n",
    "    setup = fr\"\"\"\n",
    "Write \\(y\\) as a function of \\(x\\):\n",
    "\n",
    "$$ {cbeq(A,x,a,b,y,c,d)} = {U} $$\n",
    "\"\"\"\n",
    "    solution = prob.solution()\n",
    "    probs.append({'setup':setup, 'solution':solution})"
   ]
  },
  {
   "cell_type": "code",
   "execution_count": 6,
   "id": "c55d4467-8661-40b3-ad19-524f2feacca2",
   "metadata": {},
   "outputs": [],
   "source": [
    "with open(JSON_FILE, 'w') as f:\n",
    "    json.dump(probs, f)"
   ]
  },
  {
   "cell_type": "code",
   "execution_count": 7,
   "id": "c4e3e697-5232-45e1-86af-82bb39287878",
   "metadata": {},
   "outputs": [],
   "source": [
    "with open(JSON_FILE, 'r') as f:\n",
    "    myprobs = json.load(f)"
   ]
  },
  {
   "cell_type": "code",
   "execution_count": 33,
   "id": "334981b0-251c-4ede-acd4-7e00dab2dd32",
   "metadata": {},
   "outputs": [
    {
     "data": {
      "text/latex": [
       "\n",
       "Supply and demand are given by the following equations:\n",
       "\n",
       "$$\\begin{align}\n",
       "q_d &= 8p^{ -1/2 }  \\\\\n",
       "q_s &= 2p^{ 3/4 }\n",
       "\\end{align}$$\n",
       "\n",
       "\n",
       "Calculate the equilibrium price and quantity."
      ],
      "text/plain": [
       "<IPython.core.display.Latex object>"
      ]
     },
     "metadata": {},
     "output_type": "display_data"
    },
    {
     "data": {
      "text/latex": [
       "\\(p = 3.03143\\), \\(q = 4.59479\\)"
      ],
      "text/plain": [
       "<IPython.core.display.Latex object>"
      ]
     },
     "metadata": {},
     "output_type": "display_data"
    }
   ],
   "source": [
    "prob = np.random.choice(myprobs)\n",
    "display(Latex(prob['setup']))\n",
    "display(Latex(prob['solution']))"
   ]
  },
  {
   "cell_type": "code",
   "execution_count": 9,
   "id": "d270645f-0aec-437b-a021-45bd4e787f9f",
   "metadata": {},
   "outputs": [
    {
     "data": {
      "text/plain": [
       "200"
      ]
     },
     "execution_count": 9,
     "metadata": {},
     "output_type": "execute_result"
    }
   ],
   "source": [
    "len(myprobs)"
   ]
  }
 ],
 "metadata": {
  "kernelspec": {
   "display_name": "Python 3 (ipykernel)",
   "language": "python",
   "name": "python3"
  },
  "language_info": {
   "codemirror_mode": {
    "name": "ipython",
    "version": 3
   },
   "file_extension": ".py",
   "mimetype": "text/x-python",
   "name": "python",
   "nbconvert_exporter": "python",
   "pygments_lexer": "ipython3",
   "version": "3.10.5"
  }
 },
 "nbformat": 4,
 "nbformat_minor": 5
}
