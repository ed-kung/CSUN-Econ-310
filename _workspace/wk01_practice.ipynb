{
 "cells": [
  {
   "cell_type": "code",
   "execution_count": 1,
   "id": "2b06770f-63e6-4bb8-8104-1850bcc82b73",
   "metadata": {},
   "outputs": [],
   "source": [
    "import os\n",
    "import numpy as np\n",
    "import pandas as pd\n",
    "from IPython.display import display, Markdown, Latex\n",
    "import json\n",
    "from utils import LinearSD, CESSD, SimplifyCB, CobbDouglasIC, get_random_prob\n",
    "from utils import cbeq, polyeq, term, is_divisible, Number\n",
    "\n",
    "JSON_FILE = \"../assets/data/wk01_practice.json\"\n",
    "probs = []"
   ]
  },
  {
   "cell_type": "code",
   "execution_count": 2,
   "id": "3ca795be-3aeb-4dad-9b10-d1c28605b226",
   "metadata": {},
   "outputs": [],
   "source": [
    "# Linear Supply Demand\n",
    "df = pd.read_csv(\"LinearSD_examples.csv\")\n",
    "for idx, row in df.sample(50).iterrows():\n",
    "    params = dict(row).copy()\n",
    "    prob = LinearSD(params)\n",
    "    setup = prob.setup() + \"\\n\\nCalculate the equilibrium price and quantity.\"\n",
    "    p, q = prob.sol['p'], prob.sol['q']\n",
    "    solution = fr\"\"\"\n",
    "$$p = {p:g}$$\n",
    "$$q = {q:g}$$\n",
    "\"\"\"\n",
    "    probs.append({'setup':setup, 'solution':solution})    "
   ]
  },
  {
   "cell_type": "code",
   "execution_count": 3,
   "id": "85e2e410-d779-4307-a710-d3d3ffb5de0f",
   "metadata": {},
   "outputs": [],
   "source": [
    "# Constant Elasticity Supply Demand\n",
    "df = pd.read_csv(\"CESSD_examples.csv\")\n",
    "for idx, row in df.sample(50).iterrows():\n",
    "    params = dict(row).copy()\n",
    "    prob = CESSD(params)\n",
    "    setup = prob.setup() + \"\\n\\nCalculate the equilibrium price and quantity.\"\n",
    "    p, q = prob.sol['p'], prob.sol['q']\n",
    "    solution = fr\"\"\"\n",
    "$$p = {p:g}$$\n",
    "$$q = {q:g}$$\n",
    "\"\"\"\n",
    "    probs.append({'setup':setup, 'solution':solution})    "
   ]
  },
  {
   "cell_type": "code",
   "execution_count": 4,
   "id": "e530eb05-76ad-42ce-8a6b-56bd1527da72",
   "metadata": {},
   "outputs": [],
   "source": [
    "# Simplify Cobb Douglas\n",
    "df = pd.read_csv(\"SimplifyCB_examples.csv\")\n",
    "sel = (np.abs(df['xp'])==df['D']) & (np.abs(df['yp'])==df['D'])\n",
    "for idx, row in df.loc[sel].sample(30).iterrows():\n",
    "    params = dict(row).copy()\n",
    "    prob = SimplifyCB(params)\n",
    "    setup = prob.setup() \n",
    "    solution = prob.solution()\n",
    "    probs.append({'setup':setup, 'solution':solution})\n",
    "for idx, row in df.loc[~sel].sample(20).iterrows():\n",
    "    params = dict(row).copy()\n",
    "    prob = SimplifyCB(params)\n",
    "    setup = prob.setup() \n",
    "    solution = prob.solution()\n",
    "    probs.append({'setup':setup, 'solution':solution})    "
   ]
  },
  {
   "cell_type": "code",
   "execution_count": 5,
   "id": "54007166-3de1-40c2-bf2b-8b823b19505a",
   "metadata": {},
   "outputs": [],
   "source": [
    "# Solve y in terms of x\n",
    "df = pd.read_csv(\"CobbDouglasIC_examples.csv\")\n",
    "for idx, row in df.sample(50).iterrows():\n",
    "    params = dict(row).copy()\n",
    "    A,x,a,b,y,c,d,U=params['A'],params['x'],params['a'],params['b'],params['y'],params['c'],params['d'],params['U']\n",
    "    prob = CobbDouglasIC(params)\n",
    "    setup = fr\"\"\"\n",
    "Write \\(y\\) as a function of \\(x\\):\n",
    "\n",
    "$$ {cbeq(A,x,Number(a,b),y,Number(c,d))} = {U} $$\n",
    "\"\"\"\n",
    "    solution = prob.solution()\n",
    "    probs.append({'setup':setup, 'solution':solution})"
   ]
  },
  {
   "cell_type": "code",
   "execution_count": 6,
   "id": "89acf288-0d6a-4f0c-8f46-dc6df84e2be1",
   "metadata": {},
   "outputs": [
    {
     "data": {
      "text/latex": [
       "\n",
       "Write \\(y\\) as a function of \\(x\\):\n",
       "\n",
       "$$ 10x^{ 2 / 3 }y^{ 1 / 3 } = 60 $$\n"
      ],
      "text/plain": [
       "<IPython.core.display.Latex object>"
      ]
     },
     "metadata": {},
     "output_type": "display_data"
    },
    {
     "data": {
      "text/latex": [
       "$$ y = 216x^{ -2 } $$"
      ],
      "text/plain": [
       "<IPython.core.display.Latex object>"
      ]
     },
     "metadata": {},
     "output_type": "display_data"
    }
   ],
   "source": [
    "display(Latex(setup))\n",
    "display(Latex(solution))"
   ]
  },
  {
   "cell_type": "code",
   "execution_count": 7,
   "id": "4a27ce87-a200-480a-a748-3d3e95aa2227",
   "metadata": {},
   "outputs": [],
   "source": [
    "# Using logs\n",
    "for d in np.arange(-0.1,0.11,0.01):\n",
    "    setup = fr\"If \\( \\ln y - \\ln x = {d:.2f} \\), then is \\(y\\) larger or smaller than \\(x\\), and by how many percent?\"\n",
    "    if d<0:\n",
    "        solution = fr\"\\(y\\) is smaller than \\(x\\) by {np.abs(d)*100:.0f} percent\"\n",
    "    elif d>0:\n",
    "        solution = fr\"\\(y\\) is larger than \\(x\\) by {np.abs(d)*100:.0f} percent\"\n",
    "    else:\n",
    "        solution = fr\"\\(y\\) is equal to \\(x\\)\"\n",
    "    probs.append({'setup':setup, 'solution':solution})"
   ]
  },
  {
   "cell_type": "code",
   "execution_count": 8,
   "id": "aa5e073a-82f6-4e30-91ba-91da6be68bec",
   "metadata": {},
   "outputs": [],
   "source": [
    "# Derivatives 1\n",
    "for i in range(50):\n",
    "    a = np.random.randint(-24,25)\n",
    "    b = np.random.randint(-24,25)\n",
    "    c = np.random.randint(-12,0)\n",
    "    coefs = [a,b,c]\n",
    "    coefs_ = [b, 2*c]\n",
    "    xopt = -b/(2*c)\n",
    "    yopt = a + b*xopt + c*xopt**2\n",
    "    setup = fr\"\"\"\n",
    "$$f(x) = {polyeq('x',coefs,[0,1,2])}$$\n",
    "\n",
    "Write down the first derivative, \\(f^\\prime(x)\\), and find the value of \\(x\\) that maximizes \\(f(x)\\). \n",
    "What is the maximum value of \\(f(x)\\)?\n",
    "\"\"\"\n",
    "    solution = fr\"\"\"\n",
    "$$f^\\prime(x) = {polyeq('x',coefs_,[0,1])}$$\n",
    "\n",
    "\\(f(x)\\) is maximized at \\(x={xopt:g}\\). The maximum value of \\(f(x)\\) is {yopt:g}.\n",
    "\"\"\"\n",
    "    probs.append({'setup':setup,'solution':solution})"
   ]
  },
  {
   "cell_type": "code",
   "execution_count": 9,
   "id": "f9e7d2a0-be14-49a3-b0e3-72b7e2e814c4",
   "metadata": {},
   "outputs": [],
   "source": [
    "# Derivatives 2\n",
    "for i in range(50):\n",
    "    b = np.random.randint(-25,0)\n",
    "    a = -np.random.randint(1,10)*b\n",
    "    d = np.random.randint(2,5)\n",
    "    c = np.random.randint(1,d)\n",
    "    coefs = [a, b]\n",
    "    pows = [Number(c,d), 1]\n",
    "    setup = fr\"\"\"\n",
    "$$f(x) = {polyeq('x',coefs,pows)} $$\n",
    "\n",
    "Write down the first derivative, \\(f^\\prime(x)\\), and find the value of \\(x\\) that maximizes \\(f(x)\\). \n",
    "What is the maximum value of \\(f(x)\\)?\n",
    "\"\"\"\n",
    "    coefs_ = [Number(a*c,d), b]\n",
    "    pows_ = [Number(c-d,d), 0]\n",
    "    xopt = (-b/(a*c/d))**(d/(c-d))\n",
    "    yopt = a*xopt**(c/d) + b*xopt\n",
    "    solution = fr\"\"\"\n",
    "$$f^\\prime(x) = {polyeq('x',coefs_, pows_)} $$\n",
    "\n",
    "\\(f(x)\\) is maximized at \\(x={xopt:g}\\). The maximum value of \\(f(x)\\) is {yopt:g}.\n",
    "\"\"\"\n",
    "    probs.append({'setup':setup,'solution':solution})"
   ]
  },
  {
   "cell_type": "code",
   "execution_count": 10,
   "id": "c55d4467-8661-40b3-ad19-524f2feacca2",
   "metadata": {},
   "outputs": [],
   "source": [
    "with open(JSON_FILE, 'w') as f:\n",
    "    json.dump(probs, f)"
   ]
  },
  {
   "cell_type": "code",
   "execution_count": 11,
   "id": "c4e3e697-5232-45e1-86af-82bb39287878",
   "metadata": {},
   "outputs": [],
   "source": [
    "with open(JSON_FILE, 'r') as f:\n",
    "    myprobs = json.load(f)"
   ]
  },
  {
   "cell_type": "code",
   "execution_count": 12,
   "id": "334981b0-251c-4ede-acd4-7e00dab2dd32",
   "metadata": {},
   "outputs": [
    {
     "data": {
      "text/latex": [
       "\n",
       "$$f(x) = 21-24x-10x^{ 2 }$$\n",
       "\n",
       "Write down the first derivative, \\(f^\\prime(x)\\), and find the value of \\(x\\) that maximizes \\(f(x)\\). \n",
       "What is the maximum value of \\(f(x)\\)?\n"
      ],
      "text/plain": [
       "<IPython.core.display.Latex object>"
      ]
     },
     "metadata": {},
     "output_type": "display_data"
    },
    {
     "data": {
      "text/latex": [
       "\n",
       "$$f^\\prime(x) = -24-20x$$\n",
       "\n",
       "\\(f(x)\\) is maximized at \\(x=-1.2\\). The maximum value of \\(f(x)\\) is 35.4.\n"
      ],
      "text/plain": [
       "<IPython.core.display.Latex object>"
      ]
     },
     "metadata": {},
     "output_type": "display_data"
    }
   ],
   "source": [
    "prob = np.random.choice(myprobs)\n",
    "display(Latex(prob['setup']))\n",
    "display(Latex(prob['solution']))"
   ]
  },
  {
   "cell_type": "code",
   "execution_count": 13,
   "id": "d270645f-0aec-437b-a021-45bd4e787f9f",
   "metadata": {},
   "outputs": [
    {
     "data": {
      "text/plain": [
       "321"
      ]
     },
     "execution_count": 13,
     "metadata": {},
     "output_type": "execute_result"
    }
   ],
   "source": [
    "len(myprobs)"
   ]
  },
  {
   "cell_type": "code",
   "execution_count": 14,
   "id": "ef730ec1-689c-4b93-ad0b-4d1c350c0d56",
   "metadata": {},
   "outputs": [
    {
     "data": {
      "text/plain": [
       "0.001890359168241966"
      ]
     },
     "execution_count": 14,
     "metadata": {},
     "output_type": "execute_result"
    }
   ],
   "source": [
    "23**-2"
   ]
  },
  {
   "cell_type": "code",
   "execution_count": 15,
   "id": "e2fde3ee-f889-47fb-83d4-248bfc7baa0d",
   "metadata": {},
   "outputs": [
    {
     "data": {
      "text/plain": [
       "'-6+7x-11x^{ 2 }'"
      ]
     },
     "execution_count": 15,
     "metadata": {},
     "output_type": "execute_result"
    }
   ],
   "source": [
    "a = np.random.randint(-24,25)\n",
    "b = np.random.randint(-24,25)\n",
    "c = np.random.randint(-12,0)\n",
    "coefs = [a,b,c]\n",
    "polyeq('x',coefs,[0,1,2])"
   ]
  },
  {
   "cell_type": "code",
   "execution_count": 16,
   "id": "f5e51357-cad0-4d84-970d-c35c5b430578",
   "metadata": {},
   "outputs": [
    {
     "data": {
      "text/plain": [
       "'-12x-3x^{ 2 }'"
      ]
     },
     "execution_count": 16,
     "metadata": {},
     "output_type": "execute_result"
    }
   ],
   "source": [
    "polyeq('x',[0,-12,-3],[0,1,2])"
   ]
  }
 ],
 "metadata": {
  "kernelspec": {
   "display_name": "Python 3 (ipykernel)",
   "language": "python",
   "name": "python3"
  },
  "language_info": {
   "codemirror_mode": {
    "name": "ipython",
    "version": 3
   },
   "file_extension": ".py",
   "mimetype": "text/x-python",
   "name": "python",
   "nbconvert_exporter": "python",
   "pygments_lexer": "ipython3",
   "version": "3.10.5"
  }
 },
 "nbformat": 4,
 "nbformat_minor": 5
}
