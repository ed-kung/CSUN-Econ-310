{
 "cells": [
  {
   "cell_type": "code",
   "execution_count": 1,
   "id": "77f88a9d-f1e7-4863-a9c4-976878cf239b",
   "metadata": {},
   "outputs": [],
   "source": [
    "import numpy as np\n",
    "import pandas as pd\n",
    "from matplotlib import pyplot as plt\n",
    "from matplotlib import cm\n",
    "from IPython.display import display, Markdown, Latex\n",
    "import pickle\n",
    "\n",
    "SMALL_SIZE = 12\n",
    "MEDIUM_SIZE = 14\n",
    "LARGE_SIZE = 16\n",
    "\n",
    "plt.rcdefaults()\n",
    "plt.rcParams['text.usetex'] = True\n",
    "plt.rcParams['font.family'] = 'Helvetica'\n",
    "plt.rcParams['font.size'] = MEDIUM_SIZE\n",
    "plt.rcParams['axes.titlesize'] = LARGE_SIZE\n",
    "plt.rcParams['axes.labelsize'] = MEDIUM_SIZE\n",
    "plt.rcParams['xtick.labelsize'] = SMALL_SIZE\n",
    "plt.rcParams['ytick.labelsize'] = SMALL_SIZE\n",
    "plt.rcParams['legend.fontsize'] = MEDIUM_SIZE\n",
    "plt.rcParams['figure.titlesize'] = LARGE_SIZE\n",
    "plt.rcParams['figure.figsize'] = [7.2, 4.8]\n",
    "plt.rcParams['figure.dpi'] = 60\n",
    "plt.rcParams['figure.facecolor'] = (1.0, 1.0, 1.0, 0.0)\n",
    "\n",
    "from utils import AdValoremSR, polyeq"
   ]
  },
  {
   "cell_type": "code",
   "execution_count": 2,
   "id": "67e9d6fb-f3a0-404b-8ebb-e294e5182df8",
   "metadata": {},
   "outputs": [],
   "source": [
    "prob = AdValoremSR()"
   ]
  },
  {
   "cell_type": "code",
   "execution_count": 3,
   "id": "ff2fa7f2-3471-44f9-baff-c9f83f5f55f8",
   "metadata": {},
   "outputs": [
    {
     "data": {
      "text/latex": [
       "\n",
       "A commodity $q$ is traded at price $p$ in a competitive market with price-taking consumers and firms. \\\\\n",
       "        \n",
       "There are $N$ identical consumers each with income $Y$. Each consumer has a utility function over numeraire consumption $c$ and commodity $q$ given by:\n",
       "\n",
       "$$u(c,q) = c + \\alpha q - \\tfrac{1}{2} \\beta q^2$$\n",
       "\n",
       "There are $M$ identical firms each with cost function given by:\n",
       "\n",
       "$$c(q) = \\gamma + \\delta q + \\tfrac{1}{2} \\eta q^2$$\n",
       "\n",
       "An ad-valorem tax rate of $t_c$ is placed on the consumers and an ad-valorem tax rate of $t_p$ is placed on the producers."
      ],
      "text/plain": [
       "<IPython.core.display.Latex object>"
      ]
     },
     "metadata": {},
     "output_type": "display_data"
    },
    {
     "data": {
      "text/latex": [
       "\n",
       "The general solutions are:\n",
       "\n",
       "$$Q = \\frac{(1-t_p)\\alpha - (1+t_c)\\delta}{(1-t_p)\\beta/N + (1+t_c)\\eta/M}$$\n",
       "\n",
       "$$p = \\frac{N \\eta \\alpha + M \\beta \\delta}{(1+t_c) N \\eta + (1-t_p) M \\beta}$$\n"
      ],
      "text/plain": [
       "<IPython.core.display.Latex object>"
      ]
     },
     "metadata": {},
     "output_type": "display_data"
    }
   ],
   "source": [
    "display(Latex(prob.general_setup()))\n",
    "display(Latex(prob.general_solution()))"
   ]
  },
  {
   "cell_type": "code",
   "execution_count": 4,
   "id": "1eb7e304-0e29-4630-9d45-b8f388ff90f6",
   "metadata": {},
   "outputs": [
    {
     "name": "stdout",
     "output_type": "stream",
     "text": [
      "5000 examples found...\n"
     ]
    }
   ],
   "source": [
    "SREQ_examples = pd.read_csv(\"SREQ_examples.csv\")\n",
    "\n",
    "examples = []\n",
    "n_found = 0\n",
    "\n",
    "ts = [0.05, 0.1, 0.2, 0.25, 0.5]\n",
    "zs = [0, 0, 0, 0, 0]\n",
    "\n",
    "for idx, row in SREQ_examples.iterrows():\n",
    "    for tp, tc in zip(ts+zs, zs+ts):\n",
    "        params = dict(row) | {'tp':tp, 'tc': tc}\n",
    "        prob = AdValoremSR(params)\n",
    "        if prob.check_solution():\n",
    "            n_found+=1\n",
    "            examples.append( prob.params | prob.sol )\n",
    "            if (n_found%5000==0):\n",
    "                print(f\"{n_found} examples found...\")\n",
    "\n",
    "examples = pd.DataFrame.from_dict(examples)\n",
    "examples.to_csv(\"AdValoremSR_examples.csv\")"
   ]
  },
  {
   "cell_type": "code",
   "execution_count": 5,
   "id": "ab69b308-0dd3-4ebb-8ed5-f0ec677fa25e",
   "metadata": {},
   "outputs": [
    {
     "data": {
      "text/latex": [
       "\n",
       "A commodity $q$ is traded at price $p$ in a competitive market with price-taking consumers and firms. \\\\\n",
       "        \n",
       "There are $240$ identical consumers each with income $Y=100$. Each consumer has a utility function over numeraire consumption $c$ and commodity $q$ given by:\n",
       "\n",
       "$$u(c,q) = c + 22q - 0.5q^2$$\n",
       "\n",
       "There are $48$ identical firms each with cost function given by:\n",
       "\n",
       "$$c(q) = 16q + 0.1q^2$$\n",
       "\n",
       "An ad-valorem tax rate of $10\\%$ is placed on the producers. "
      ],
      "text/plain": [
       "<IPython.core.display.Latex object>"
      ]
     },
     "metadata": {},
     "output_type": "display_data"
    },
    {
     "name": "stdout",
     "output_type": "stream",
     "text": [
      "\n",
      "Pre-tax:\n",
      "{'Q': 720.0, 'p': 19.0, 'qd': 3.0, 'qs': 15.0, 'c': 43.0, 'revenue': 285.0, 'cost': 262.5, 'profit': 22.5, 'total_profit': 1080.0, 'utility': 104.5, 'total_utility': 25080.0, 'total_surplus': 26160.0}\n",
      "\n",
      "Post-tax:\n",
      "{'Q': 480.00000000000006, 'p': 20.0, 'qd': 2.0000000000000004, 'qs': 10.000000000000002, 'c': 59.99999999999999, 'revenue': 180.00000000000003, 'cost': 170.00000000000003, 'profit': 10.0, 'total_profit': 480.0, 'utility': 102.0, 'total_utility': 24480.0, 'tax_revenue': 960.0000000000001, 'total_surplus': 25920.0, 'DWL': 240.0}\n"
     ]
    }
   ],
   "source": [
    "idx = np.random.randint(len(examples))\n",
    "prob = AdValoremSR(dict(examples.loc[idx]))\n",
    "display(Latex(prob.setup()))\n",
    "print(\"\\nPre-tax:\")\n",
    "print(prob.sreq.sol)\n",
    "print(\"\\nPost-tax:\")\n",
    "print(prob.sol)"
   ]
  },
  {
   "cell_type": "code",
   "execution_count": 6,
   "id": "efc681d8-0c24-4ba7-b69b-100618cffd62",
   "metadata": {},
   "outputs": [
    {
     "data": {
      "text/plain": [
       "tc\n",
       "0.00    3774\n",
       "0.50     776\n",
       "0.25     679\n",
       "0.20     456\n",
       "Name: count, dtype: int64"
      ]
     },
     "execution_count": 6,
     "metadata": {},
     "output_type": "execute_result"
    }
   ],
   "source": [
    "examples['tc'].value_counts()"
   ]
  }
 ],
 "metadata": {
  "kernelspec": {
   "display_name": "Python 3 (ipykernel)",
   "language": "python",
   "name": "python3"
  },
  "language_info": {
   "codemirror_mode": {
    "name": "ipython",
    "version": 3
   },
   "file_extension": ".py",
   "mimetype": "text/x-python",
   "name": "python",
   "nbconvert_exporter": "python",
   "pygments_lexer": "ipython3",
   "version": "3.9.6"
  }
 },
 "nbformat": 4,
 "nbformat_minor": 5
}
