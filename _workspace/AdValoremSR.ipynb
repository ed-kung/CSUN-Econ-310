{
 "cells": [
  {
   "cell_type": "code",
   "execution_count": 1,
   "id": "77f88a9d-f1e7-4863-a9c4-976878cf239b",
   "metadata": {},
   "outputs": [],
   "source": [
    "import numpy as np\n",
    "import pandas as pd\n",
    "from matplotlib import pyplot as plt\n",
    "from matplotlib import cm\n",
    "from IPython.display import display, Markdown, Latex\n",
    "import pickle\n",
    "\n",
    "SMALL_SIZE = 12\n",
    "MEDIUM_SIZE = 14\n",
    "LARGE_SIZE = 16\n",
    "\n",
    "plt.rcdefaults()\n",
    "plt.rcParams['text.usetex'] = True\n",
    "plt.rcParams['font.family'] = 'Helvetica'\n",
    "plt.rcParams['font.size'] = MEDIUM_SIZE\n",
    "plt.rcParams['axes.titlesize'] = LARGE_SIZE\n",
    "plt.rcParams['axes.labelsize'] = MEDIUM_SIZE\n",
    "plt.rcParams['xtick.labelsize'] = SMALL_SIZE\n",
    "plt.rcParams['ytick.labelsize'] = SMALL_SIZE\n",
    "plt.rcParams['legend.fontsize'] = MEDIUM_SIZE\n",
    "plt.rcParams['figure.titlesize'] = LARGE_SIZE\n",
    "plt.rcParams['figure.figsize'] = [7.2, 4.8]\n",
    "plt.rcParams['figure.dpi'] = 60\n",
    "plt.rcParams['figure.facecolor'] = (1.0, 1.0, 1.0, 0.0)\n",
    "\n",
    "from utils import AdValoremSR, polyeq"
   ]
  },
  {
   "cell_type": "code",
   "execution_count": 2,
   "id": "67e9d6fb-f3a0-404b-8ebb-e294e5182df8",
   "metadata": {},
   "outputs": [],
   "source": [
    "prob = AdValoremSR()"
   ]
  },
  {
   "cell_type": "code",
   "execution_count": 3,
   "id": "ff2fa7f2-3471-44f9-baff-c9f83f5f55f8",
   "metadata": {},
   "outputs": [
    {
     "data": {
      "text/latex": [
       "\n",
       "A commodity $q$ is traded at price $p$ in a competitive market with price-taking consumers and firms. \\\\\n",
       "        \n",
       "There are $N$ identical consumers each with income $Y$. Each consumer has a utility function over numeraire consumption $c$ and commodity $q$ given by:\n",
       "\n",
       "$$u(c,q) = c + \\alpha q - \\tfrac{1}{2} \\beta q^2$$\n",
       "\n",
       "There are $M$ identical firms each with cost function given by:\n",
       "\n",
       "$$c(q) = \\gamma + \\delta q + \\tfrac{1}{2} \\eta q^2$$\n",
       "\n",
       "An ad-valorem tax rate of $t_c$ is placed on the consumers and an ad-valorem tax rate of $t_p$ is placed on the producers."
      ],
      "text/plain": [
       "<IPython.core.display.Latex object>"
      ]
     },
     "metadata": {},
     "output_type": "display_data"
    },
    {
     "data": {
      "text/latex": [
       "\n",
       "The general solutions are:\n",
       "\n",
       "$$Q = \\frac{(1-t_p)\\alpha - (1+t_c)\\delta}{(1-t_p)\\beta/N + (1+t_c)\\eta/M}$$\n",
       "\n",
       "$$p = \\frac{N \\eta \\alpha + M \\beta \\delta}{(1+t_c) N \\eta + (1-t_p) M \\beta}$$\n"
      ],
      "text/plain": [
       "<IPython.core.display.Latex object>"
      ]
     },
     "metadata": {},
     "output_type": "display_data"
    }
   ],
   "source": [
    "display(Latex(prob.general_setup()))\n",
    "display(Latex(prob.general_solution()))"
   ]
  },
  {
   "cell_type": "code",
   "execution_count": 4,
   "id": "1eb7e304-0e29-4630-9d45-b8f388ff90f6",
   "metadata": {},
   "outputs": [
    {
     "name": "stdout",
     "output_type": "stream",
     "text": [
      "5000 examples found...\n",
      "10000 examples found...\n"
     ]
    }
   ],
   "source": [
    "SREQ_examples = pd.read_csv(\"SREQ_examples.csv\")\n",
    "\n",
    "examples = []\n",
    "n_found = 0\n",
    "\n",
    "ts = [0.05, 0.1, 0.125, 0.2, 0.25, 0.5]\n",
    "zs = [0, 0, 0, 0, 0, 0]\n",
    "\n",
    "for idx, row in SREQ_examples.iterrows():\n",
    "    for tp, tc in zip(ts+zs, zs+ts):\n",
    "        params = dict(row) | {'tp':tp, 'tc': tc}\n",
    "        prob = AdValoremSR(params)\n",
    "        if prob.check_solution():\n",
    "            n_found+=1\n",
    "            examples.append( prob.params | prob.sol )\n",
    "            if (n_found%5000==0):\n",
    "                print(f\"{n_found} examples found...\")\n",
    "\n",
    "examples = pd.DataFrame.from_dict(examples)\n",
    "examples.to_csv(\"AdValoremSR_examples.csv\", index=False, header=True)"
   ]
  },
  {
   "cell_type": "code",
   "execution_count": 5,
   "id": "ab69b308-0dd3-4ebb-8ed5-f0ec677fa25e",
   "metadata": {},
   "outputs": [
    {
     "data": {
      "text/latex": [
       "\n",
       "A commodity $q$ is traded at price $p$ in a competitive market with price-taking consumers and firms. \\\\\n",
       "        \n",
       "There are $3,600$ identical consumers each with income $Y=100$. Each consumer has a utility function over numeraire consumption $c$ and commodity $q$ given by:\n",
       "\n",
       "$$u(c,q) = c + 28q - q^2$$\n",
       "\n",
       "There are $360$ identical firms each with cost function given by:\n",
       "\n",
       "$$c(q) = 10q + 0.2q^2$$\n",
       "\n",
       "An ad-valorem tax rate of $25\\%$ is placed on the producers. "
      ],
      "text/plain": [
       "<IPython.core.display.Latex object>"
      ]
     },
     "metadata": {},
     "output_type": "display_data"
    },
    {
     "name": "stdout",
     "output_type": "stream",
     "text": [
      "\n",
      "Pre-tax:\n",
      "{'Q': 10800.0, 'p': 22.0, 'qd': 3.0, 'qs': 30.0, 'c': 34.0, 'revenue': 660.0, 'cost': 480.0, 'profit': 180.0, 'total_profit': 64800.0, 'utility': 109.0, 'total_utility': 392400.0, 'total_surplus': 457200.0}\n",
      "\n",
      "Post-tax:\n",
      "{'Q': 7200.0, 'p': 24.0, 'qd': 2.0, 'qs': 20.0, 'c': 52.0, 'revenue': 360.0, 'cost': 280.0, 'profit': 80.0, 'total_profit': 28800.0, 'utility': 104.0, 'total_utility': 374400.0, 'tax_revenue': 43200.0, 'total_surplus': 446400.0, 'DWL': 10800.0}\n",
      "\n",
      "Lump-sum:\n",
      "{'Q': 10800.0, 'p': 22.0, 'qd': 3.0, 'qs': 30.0, 'c': 22.0, 'revenue': 660.0, 'cost': 480.0, 'profit': 180.0, 'total_profit': 64800.0, 'utility': 97.0, 'total_utility': 349200.0, 'total_surplus': 457200.0, 'tax_revenue': 43200.0}\n"
     ]
    }
   ],
   "source": [
    "idx = np.random.randint(len(examples))\n",
    "prob = AdValoremSR(dict(examples.loc[idx]))\n",
    "display(Latex(prob.setup()))\n",
    "print(\"\\nPre-tax:\")\n",
    "print(prob.no_tax.sol)\n",
    "print(\"\\nPost-tax:\")\n",
    "print(prob.sol)\n",
    "print(\"\\nLump-sum:\")\n",
    "print(prob.lump_sum.sol)"
   ]
  }
 ],
 "metadata": {
  "kernelspec": {
   "display_name": "Python 3 (ipykernel)",
   "language": "python",
   "name": "python3"
  },
  "language_info": {
   "codemirror_mode": {
    "name": "ipython",
    "version": 3
   },
   "file_extension": ".py",
   "mimetype": "text/x-python",
   "name": "python",
   "nbconvert_exporter": "python",
   "pygments_lexer": "ipython3",
   "version": "3.9.6"
  }
 },
 "nbformat": 4,
 "nbformat_minor": 5
}
