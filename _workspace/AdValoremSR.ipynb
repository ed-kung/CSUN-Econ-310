{
 "cells": [
  {
   "cell_type": "code",
   "execution_count": 1,
   "id": "77f88a9d-f1e7-4863-a9c4-976878cf239b",
   "metadata": {},
   "outputs": [],
   "source": [
    "import numpy as np\n",
    "import pandas as pd\n",
    "from matplotlib import pyplot as plt\n",
    "from matplotlib import cm\n",
    "from IPython.display import display, Markdown, Latex\n",
    "import pickle\n",
    "\n",
    "SMALL_SIZE = 12\n",
    "MEDIUM_SIZE = 14\n",
    "LARGE_SIZE = 16\n",
    "\n",
    "plt.rcdefaults()\n",
    "plt.rcParams['text.usetex'] = True\n",
    "plt.rcParams['font.family'] = 'Helvetica'\n",
    "plt.rcParams['font.size'] = MEDIUM_SIZE\n",
    "plt.rcParams['axes.titlesize'] = LARGE_SIZE\n",
    "plt.rcParams['axes.labelsize'] = MEDIUM_SIZE\n",
    "plt.rcParams['xtick.labelsize'] = SMALL_SIZE\n",
    "plt.rcParams['ytick.labelsize'] = SMALL_SIZE\n",
    "plt.rcParams['legend.fontsize'] = MEDIUM_SIZE\n",
    "plt.rcParams['figure.titlesize'] = LARGE_SIZE\n",
    "plt.rcParams['figure.figsize'] = [7.2, 4.8]\n",
    "plt.rcParams['figure.dpi'] = 60\n",
    "plt.rcParams['figure.facecolor'] = (1.0, 1.0, 1.0, 0.0)\n",
    "\n",
    "from utils import AdValoremSR, polyeq"
   ]
  },
  {
   "cell_type": "code",
   "execution_count": 2,
   "id": "67e9d6fb-f3a0-404b-8ebb-e294e5182df8",
   "metadata": {},
   "outputs": [],
   "source": [
    "prob = AdValoremSR()"
   ]
  },
  {
   "cell_type": "code",
   "execution_count": 3,
   "id": "ff2fa7f2-3471-44f9-baff-c9f83f5f55f8",
   "metadata": {},
   "outputs": [
    {
     "data": {
      "text/latex": [
       "\n",
       "A commodity $q$ is traded at price $p$ in a competitive market with $N$ identical consumers and $M$ identical firms.\\\\\n",
       "\n",
       "An ad-valorem tax rate of $t_c$ is placed on consumers, and an ad-valorem tax rate of $t_p$ is placed on producers.\n",
       "\n",
       "Each consumer has income $Y$ and maximizes:\n",
       "\n",
       "\\begin{align*}\n",
       "\\max_{c,q} ~ c + \\alpha q - \\tfrac{1}{2} \\beta q^2 ~ \\text{ s.t. } c + (1+t_c)pq = Y\n",
       "\\end{align*}\n",
       "\n",
       "Each firm's cost function is:\n",
       "\n",
       "\\begin{align*}\n",
       "c(q) = \\gamma + \\delta q + \\tfrac{1}{2} \\eta q^2\n",
       "\\end{align*}\n",
       "\n",
       "The firm maximizes:\n",
       "\n",
       "\\begin{align*}\n",
       "\\max_{q} ~ (1-t_p)pq - c(q)\n",
       "\\end{align*}\n",
       "\n",
       "The short run equilibrium condition is:\n",
       "\n",
       "\\begin{align*}\n",
       "Nq_d = Mq_s = Q\n",
       "\\end{align*}\n",
       "\n",
       "The general solutions are:\n",
       "\n",
       "\\begin{align*}\n",
       "Q = \\frac{(1-t_p)\\alpha - (1+t_c)\\delta}{(1-t_p)\\beta/N + (1+t_c)\\eta/M} \n",
       "\\end{align*}\n",
       "\n",
       "\\begin{align*}\n",
       "p = \\frac{N \\eta \\alpha + M \\beta \\delta}{(1+t_c) N \\eta + (1-t_p) M \\beta}\n",
       "\\end{align*}\n"
      ],
      "text/plain": [
       "<IPython.core.display.Latex object>"
      ]
     },
     "execution_count": 3,
     "metadata": {},
     "output_type": "execute_result"
    }
   ],
   "source": [
    "Latex(prob.general_setup())"
   ]
  },
  {
   "cell_type": "code",
   "execution_count": 4,
   "id": "1eb7e304-0e29-4630-9d45-b8f388ff90f6",
   "metadata": {},
   "outputs": [
    {
     "name": "stdout",
     "output_type": "stream",
     "text": [
      "100 examples found...\n",
      "200 examples found...\n",
      "300 examples found...\n",
      "400 examples found...\n",
      "500 examples found...\n",
      "600 examples found...\n",
      "700 examples found...\n",
      "800 examples found...\n",
      "900 examples found...\n",
      "1000 examples found...\n",
      "1100 examples found...\n",
      "1200 examples found...\n",
      "1300 examples found...\n",
      "1400 examples found...\n",
      "1500 examples found...\n",
      "1600 examples found...\n",
      "1700 examples found...\n",
      "1800 examples found...\n",
      "1900 examples found...\n",
      "2000 examples found...\n",
      "2100 examples found...\n",
      "2200 examples found...\n",
      "2300 examples found...\n",
      "2400 examples found...\n",
      "2500 examples found...\n",
      "2600 examples found...\n",
      "2700 examples found...\n",
      "2800 examples found...\n",
      "2900 examples found...\n",
      "3000 examples found...\n",
      "3100 examples found...\n",
      "3200 examples found...\n",
      "3300 examples found...\n",
      "3400 examples found...\n",
      "3500 examples found...\n",
      "3600 examples found...\n"
     ]
    }
   ],
   "source": [
    "with open(\"SREQ_examples.pkl\", 'rb') as f:\n",
    "    SREQ_examples = pickle.load(f)\n",
    "\n",
    "examples = []\n",
    "n_found = 0\n",
    "\n",
    "for sreq in SREQ_examples:\n",
    "    for tc in [0.05, 0.1, 0.15, 0.2, 0.25]:\n",
    "        prob = AdValoremSR(\n",
    "            N=sreq.N,\n",
    "            M=sreq.M,\n",
    "            Y=sreq.Y,\n",
    "            alpha=sreq.alpha,\n",
    "            beta=sreq.beta,\n",
    "            gamma=sreq.gamma,\n",
    "            delta=sreq.delta,\n",
    "            eta=sreq.eta,\n",
    "            tc=tc,\n",
    "            tp=0\n",
    "        )\n",
    "        if prob.check_solution():\n",
    "            examples.append(prob)\n",
    "            n_found+=1\n",
    "            if (n_found%100==0):\n",
    "                print(f\"{n_found} examples found...\")\n",
    "        \n",
    "for sreq in SREQ_examples:\n",
    "    for tp in [0.05, 0.1, 0.15, 0.2, 0.25]:\n",
    "        prob = AdValoremSR(\n",
    "            N=sreq.N,\n",
    "            M=sreq.M,\n",
    "            Y=sreq.Y,\n",
    "            alpha=sreq.alpha,\n",
    "            beta=sreq.beta,\n",
    "            gamma=sreq.gamma,\n",
    "            delta=sreq.delta,\n",
    "            eta=sreq.eta,\n",
    "            tc=0,\n",
    "            tp=tp\n",
    "        )\n",
    "        if prob.check_solution():\n",
    "            examples.append(prob)\n",
    "            n_found+=1\n",
    "            if (n_found%100==0):\n",
    "                print(f\"{n_found} examples found...\")\n",
    "        \n",
    "with open(\"AdValoremSR_examples.pkl\", 'wb') as f:\n",
    "    pickle.dump(examples, f)"
   ]
  },
  {
   "cell_type": "code",
   "execution_count": 5,
   "id": "ab69b308-0dd3-4ebb-8ed5-f0ec677fa25e",
   "metadata": {},
   "outputs": [
    {
     "data": {
      "text/latex": [
       "\n",
       "A commodity $q$ is traded at price $p$ in a competitive market with price-taking consumers and firms. \\\\\n",
       "        \n",
       "There are $500$ identical consumers each with income $Y=100$. Each consumer has a utility function over numeraire consumption $c$ and commodity $q$ given by:\n",
       "\n",
       "$$u(c,q) = c + 28q - q^2$$\n",
       "\n",
       "There are $100$ identical firms each with cost function given by:\n",
       "\n",
       "$$c(q) = q + 0.1q^2$$\n",
       "\n",
       "An ad-valorem tax rate of $25\\%$ is placed on producers.\\\\"
      ],
      "text/plain": [
       "<IPython.core.display.Latex object>"
      ]
     },
     "metadata": {},
     "output_type": "display_data"
    },
    {
     "data": {
      "text/latex": [
       "\n",
       "Solutions: \\\\\n",
       "\n",
       "Pre-tax: $p=10.0$, $q_d=9.0$, $q_s=45.0$ \\\\\n",
       "\n",
       "Post-tax: $p=12.0$, $q_d=8.0$, $q_s=40.0$\n"
      ],
      "text/plain": [
       "<IPython.core.display.Latex object>"
      ]
     },
     "metadata": {},
     "output_type": "display_data"
    }
   ],
   "source": [
    "prob = np.random.choice(examples)\n",
    "display(Latex(prob.setup()))\n",
    "display(Latex(prob.solution()))"
   ]
  },
  {
   "cell_type": "code",
   "execution_count": 6,
   "id": "3a3073fd-9e95-4d32-a4db-2bfe7a790b49",
   "metadata": {},
   "outputs": [
    {
     "data": {
      "text/plain": [
       "45.0"
      ]
     },
     "execution_count": 6,
     "metadata": {},
     "output_type": "execute_result"
    }
   ],
   "source": [
    "prob.eq_notax.qs"
   ]
  },
  {
   "cell_type": "code",
   "execution_count": 7,
   "id": "ca605abe-3eca-4ff5-b6e7-38e7d110f5ab",
   "metadata": {},
   "outputs": [
    {
     "data": {
      "text/plain": [
       "28.0"
      ]
     },
     "execution_count": 7,
     "metadata": {},
     "output_type": "execute_result"
    }
   ],
   "source": [
    "4*prob.p - 20"
   ]
  }
 ],
 "metadata": {
  "kernelspec": {
   "display_name": "Python 3 (ipykernel)",
   "language": "python",
   "name": "python3"
  },
  "language_info": {
   "codemirror_mode": {
    "name": "ipython",
    "version": 3
   },
   "file_extension": ".py",
   "mimetype": "text/x-python",
   "name": "python",
   "nbconvert_exporter": "python",
   "pygments_lexer": "ipython3",
   "version": "3.9.6"
  }
 },
 "nbformat": 4,
 "nbformat_minor": 5
}
