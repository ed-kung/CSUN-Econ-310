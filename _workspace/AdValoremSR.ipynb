{
 "cells": [
  {
   "cell_type": "code",
   "execution_count": 1,
   "id": "77f88a9d-f1e7-4863-a9c4-976878cf239b",
   "metadata": {},
   "outputs": [],
   "source": [
    "import numpy as np\n",
    "import pandas as pd\n",
    "from matplotlib import pyplot as plt\n",
    "from matplotlib import cm\n",
    "from IPython.display import display, Markdown, Latex\n",
    "import pickle\n",
    "\n",
    "SMALL_SIZE = 12\n",
    "MEDIUM_SIZE = 14\n",
    "LARGE_SIZE = 16\n",
    "\n",
    "plt.rcdefaults()\n",
    "plt.rcParams['text.usetex'] = True\n",
    "plt.rcParams['font.family'] = 'Helvetica'\n",
    "plt.rcParams['font.size'] = MEDIUM_SIZE\n",
    "plt.rcParams['axes.titlesize'] = LARGE_SIZE\n",
    "plt.rcParams['axes.labelsize'] = MEDIUM_SIZE\n",
    "plt.rcParams['xtick.labelsize'] = SMALL_SIZE\n",
    "plt.rcParams['ytick.labelsize'] = SMALL_SIZE\n",
    "plt.rcParams['legend.fontsize'] = MEDIUM_SIZE\n",
    "plt.rcParams['figure.titlesize'] = LARGE_SIZE\n",
    "plt.rcParams['figure.figsize'] = [7.2, 4.8]\n",
    "plt.rcParams['figure.dpi'] = 60\n",
    "plt.rcParams['figure.facecolor'] = (1.0, 1.0, 1.0, 0.0)\n",
    "\n",
    "from utils import AdValoremSR, get_random_prob"
   ]
  },
  {
   "cell_type": "code",
   "execution_count": 2,
   "id": "67e9d6fb-f3a0-404b-8ebb-e294e5182df8",
   "metadata": {},
   "outputs": [],
   "source": [
    "prob = AdValoremSR()"
   ]
  },
  {
   "cell_type": "code",
   "execution_count": 3,
   "id": "ff2fa7f2-3471-44f9-baff-c9f83f5f55f8",
   "metadata": {},
   "outputs": [
    {
     "data": {
      "text/latex": [
       "\n",
       "A commodity \\(q\\) is traded at price \\(p\\) in a competitive market with price-taking consumers and firms. \\\\\n",
       "        \n",
       "There are \\(N\\) identical consumers each with income \\(Y\\). Each consumer has a utility function over numeraire consumption \\(c\\) and commodity \\(q\\) given by:\n",
       "\n",
       "$$u(c,q) = c + \\alpha q - \\frac{1}{2} \\beta q^2 $$\n",
       "\n",
       "There are \\(M\\) identical firms each with cost function given by:\n",
       "\n",
       "$$c(q) = \\gamma + \\delta q + \\frac{1}{2} \\eta q^2 $$\n",
       "\n",
       "The general solutions are:\n",
       "\n",
       "$$ Q = \\frac{ \\alpha - \\delta }{ \\beta/N + \\eta/M } $$\n",
       "\n",
       "$$ p = \\frac{ N \\eta \\alpha + M \\beta \\delta }{ N \\eta + M \\beta } $$\n",
       "\n",
       "An ad-valorem tax rate of \\(t_c\\) is placed on the consumers and an ad-valorem tax rate of \\(t_p\\) is placed on the producers.\n",
       "\n",
       "The general solutions are:\n",
       "\n",
       "$$Q = \\frac{(1-t_p)\\alpha - (1+t_c)\\delta}{(1-t_p)\\beta/N + (1+t_c)\\eta/M}$$\n",
       "\n",
       "$$p = \\frac{N \\eta \\alpha + M \\beta \\delta}{(1+t_c) N \\eta + (1-t_p) M \\beta}$$\n"
      ],
      "text/plain": [
       "<IPython.core.display.Latex object>"
      ]
     },
     "metadata": {},
     "output_type": "display_data"
    }
   ],
   "source": [
    "display(Latex(prob.general_setup()))"
   ]
  },
  {
   "cell_type": "code",
   "execution_count": 4,
   "id": "d5863b46-3669-4592-8410-8c592f9253e1",
   "metadata": {},
   "outputs": [
    {
     "data": {
      "text/latex": [
       "\n",
       "A commodity \\(q\\) is traded at price \\(p\\) in a competitive market with price-taking consumers and firms. \\\\\n",
       "        \n",
       "There are \\(3,000\\) identical consumers each with income \\(Y=100\\). Each consumer has a utility function over numeraire consumption \\(c\\) and commodity \\(q\\) given by:\n",
       "\n",
       "$$u(c,q) = c + 10q-q^{ 2 } $$\n",
       "\n",
       "There are \\(200\\) identical firms each with cost function given by:\n",
       "\n",
       "$$c(q) = \\frac{ 1 }{ 10 }q^{ 2 } $$\n",
       "An ad-valorem tax rate of \\(10\\% \\) is placed on the consumers. "
      ],
      "text/plain": [
       "<IPython.core.display.Latex object>"
      ]
     },
     "metadata": {},
     "output_type": "display_data"
    },
    {
     "name": "stdout",
     "output_type": "stream",
     "text": [
      "{'Q': 5660.377358490566, 'p': 5.660377358490566, 'qd': 1.8867924528301885, 'qs': 28.30188679245283, 'c': 88.25204699181204, 'revenue': 160.1993592025632, 'cost': 80.0996796012816, 'profit': 80.0996796012816, 'total_profit': 16019.93592025632, 'utility': 103.55998576005696, 'total_utility': 310679.9572801709, 'tax_revenue': 3203.9871840512637, 'total_surplus': 329903.8803844784, 'DWL': 96.119615521573}\n"
     ]
    }
   ],
   "source": [
    "display(Latex(prob.setup()))\n",
    "print(prob.sol)"
   ]
  },
  {
   "cell_type": "code",
   "execution_count": 5,
   "id": "1eb7e304-0e29-4630-9d45-b8f388ff90f6",
   "metadata": {},
   "outputs": [
    {
     "name": "stdout",
     "output_type": "stream",
     "text": [
      "5000 examples found...\n",
      "10000 examples found...\n",
      "14671 examples found.\n"
     ]
    }
   ],
   "source": [
    "SREQ_examples = pd.read_csv(\"SREQ_examples.csv\")\n",
    "\n",
    "examples = []\n",
    "n_found = 0\n",
    "\n",
    "ts = [0.05, 0.1, 0.125, 0.2, 0.25, 0.5]\n",
    "zs = [0, 0, 0, 0, 0, 0]\n",
    "\n",
    "for idx, row in SREQ_examples.iterrows():\n",
    "    for tp, tc in zip(ts+zs, zs+ts):\n",
    "        params = dict(row) | {'tp':tp, 'tc': tc}\n",
    "        prob = AdValoremSR(params)\n",
    "        if prob.check_solution():\n",
    "            n_found+=1\n",
    "            examples.append( prob.params | prob.sol )\n",
    "            if (n_found%5000==0):\n",
    "                print(f\"{n_found} examples found...\")\n",
    "\n",
    "examples = pd.DataFrame.from_dict(examples)\n",
    "examples.to_csv(\"AdValoremSR_examples.csv\", index=False, header=True)\n",
    "print(f\"{len(examples)} examples found.\")"
   ]
  },
  {
   "cell_type": "code",
   "execution_count": 6,
   "id": "ab69b308-0dd3-4ebb-8ed5-f0ec677fa25e",
   "metadata": {},
   "outputs": [
    {
     "data": {
      "text/latex": [
       "\n",
       "A commodity \\(q\\) is traded at price \\(p\\) in a competitive market with price-taking consumers and firms. \\\\\n",
       "        \n",
       "There are \\(150\\) identical consumers each with income \\(Y=100\\). Each consumer has a utility function over numeraire consumption \\(c\\) and commodity \\(q\\) given by:\n",
       "\n",
       "$$u(c,q) = c + 27q-q^{ 2 } $$\n",
       "\n",
       "There are \\(30\\) identical firms each with cost function given by:\n",
       "\n",
       "$$c(q) = 6q+\\frac{ 1 }{ 10 }q^{ 2 } $$\n",
       "An ad-valorem tax rate of \\(25\\% \\) is placed on the consumers. "
      ],
      "text/plain": [
       "<IPython.core.display.Latex object>"
      ]
     },
     "metadata": {},
     "output_type": "display_data"
    },
    {
     "name": "stdout",
     "output_type": "stream",
     "text": [
      "\n",
      "No tax:\n",
      "{'Q': 1050.0, 'p': 13.0, 'qd': 7.0, 'qs': 35.0, 'c': 9.0, 'revenue': 455.0, 'cost': 332.5, 'profit': 122.5, 'total_profit': 3675.0, 'utility': 149.0, 'total_utility': 22350.0, 'total_surplus': 26025.0}\n",
      "\n",
      "Tax:\n",
      "{'Q': 900.0, 'p': 12.0, 'qd': 6.0, 'qs': 30.0, 'c': 10.0, 'revenue': 360.0, 'cost': 270.0, 'profit': 90.0, 'total_profit': 2700.0, 'utility': 136.0, 'total_utility': 20400.0, 'tax_revenue': 2700.0, 'total_surplus': 25800.0, 'DWL': 225.0}\n",
      "\n",
      "Lump sum:\n",
      "{'Q': 1050.0, 'p': 13.0, 'qd': 7.0, 'qs': 35.0, 'c': -9.0, 'revenue': 455.0, 'cost': 332.5, 'profit': 122.5, 'total_profit': 3675.0, 'utility': 131.0, 'total_utility': 19650.0, 'total_surplus': 26025.0, 'tax_revenue': 2700.0}\n"
     ]
    }
   ],
   "source": [
    "myprob = get_random_prob(AdValoremSR, \"AdValoremSR_examples.csv\")\n",
    "display(Latex(myprob.setup()))\n",
    "print(\"\\nNo tax:\")\n",
    "print(myprob.no_tax.sol)\n",
    "print(\"\\nTax:\")\n",
    "print(myprob.sol)\n",
    "print(\"\\nLump sum:\")\n",
    "print(myprob.lump_sum.sol)"
   ]
  },
  {
   "cell_type": "code",
   "execution_count": 8,
   "id": "37be72cc-0c9e-49ca-b310-e0816ed231ad",
   "metadata": {},
   "outputs": [
    {
     "data": {
      "text/plain": [
       "0.000    5881\n",
       "0.500    4296\n",
       "0.250    2157\n",
       "0.200    1749\n",
       "0.125     378\n",
       "0.100     210\n",
       "Name: tp, dtype: int64"
      ]
     },
     "execution_count": 8,
     "metadata": {},
     "output_type": "execute_result"
    }
   ],
   "source": [
    "examples['tp'].value_counts()"
   ]
  }
 ],
 "metadata": {
  "kernelspec": {
   "display_name": "Python 3 (ipykernel)",
   "language": "python",
   "name": "python3"
  },
  "language_info": {
   "codemirror_mode": {
    "name": "ipython",
    "version": 3
   },
   "file_extension": ".py",
   "mimetype": "text/x-python",
   "name": "python",
   "nbconvert_exporter": "python",
   "pygments_lexer": "ipython3",
   "version": "3.10.5"
  }
 },
 "nbformat": 4,
 "nbformat_minor": 5
}
