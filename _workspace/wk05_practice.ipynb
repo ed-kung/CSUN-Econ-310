{
 "cells": [
  {
   "cell_type": "code",
   "execution_count": 1,
   "id": "2b06770f-63e6-4bb8-8104-1850bcc82b73",
   "metadata": {},
   "outputs": [],
   "source": [
    "import os\n",
    "import numpy as np\n",
    "import pandas as pd\n",
    "from IPython.display import display, Markdown, Latex\n",
    "import json\n",
    "from utils import CobbDouglasIC\n",
    "from utils import cbeq, polyeq, term, is_divisible, Number\n",
    "\n",
    "JSON_FILE = \"../assets/data/wk05_practice.json\"\n",
    "probs = []"
   ]
  },
  {
   "cell_type": "code",
   "execution_count": 2,
   "id": "df29b7b7-ce37-4ce8-87d5-613ac58d9f36",
   "metadata": {},
   "outputs": [],
   "source": [
    "# Cobb Douglas Indifference curves\n",
    "for i in range(50):\n",
    "    d = np.random.randint(2,5)\n",
    "    a = np.random.randint(1,d)\n",
    "    b = np.random.randint(1,d)\n",
    "    ad = Number(a,d).as_frac(inline=True,rmplus=True)\n",
    "    bd = Number(b,d).as_frac(inline=True,rmplus=True)\n",
    "    db = Number(d,b).as_frac(inline=True,rmplus=True)\n",
    "    ab = Number(-a,b).as_frac(inline=True,rmplus=True)\n",
    "    setup = fr\"\"\"\n",
    "$$ f(x,y) = x^{{ {ad} }} y^{{ {bd} }} $$\n",
    "\n",
    "Write down an equation describing the contour line for \\( f(x,y) = z \\). \n",
    "\"\"\"\n",
    "    solution = fr\"\"\"\n",
    "$$ y = z^{{ {db} }} x^{{ {ab} }} $$\n",
    "\"\"\"\n",
    "    probs.append({'setup':setup, 'solution':solution})"
   ]
  },
  {
   "cell_type": "code",
   "execution_count": 3,
   "id": "e0d32a70-537b-4d22-b9da-a8c7a6b0ff3c",
   "metadata": {},
   "outputs": [],
   "source": [
    "# Linear indifference curves\n",
    "for i in range(50):\n",
    "    a = np.random.randint(1,10)\n",
    "    b = np.random.randint(1,10)\n",
    "    setup = fr\"\"\"\n",
    "$$ f(x,y) = {term(a,'x',1,rmplus=True)} + {term(b,'y',1,rmplus=True)} $$\n",
    "\n",
    "Write down an equation describing the contour line for \\( f(x,y) = z \\).\n",
    "\"\"\"\n",
    "    if b==1:\n",
    "        solution = fr\"$$ y = z - {term(a,'x',1,rmplus=True)} $$\"\n",
    "    else:\n",
    "        solution = fr\"$$ y = \\frac{{ z - {term(a,'x',1,rmplus=True)} }}{{ {b:g} }} $$\"\n",
    "    probs.append({'setup':setup, 'solution':solution})    "
   ]
  },
  {
   "cell_type": "code",
   "execution_count": 4,
   "id": "c55d4467-8661-40b3-ad19-524f2feacca2",
   "metadata": {},
   "outputs": [],
   "source": [
    "with open(JSON_FILE, 'w') as f:\n",
    "    json.dump(probs, f)"
   ]
  },
  {
   "cell_type": "code",
   "execution_count": 5,
   "id": "c4e3e697-5232-45e1-86af-82bb39287878",
   "metadata": {},
   "outputs": [],
   "source": [
    "with open(JSON_FILE, 'r') as f:\n",
    "    myprobs = json.load(f)"
   ]
  },
  {
   "cell_type": "code",
   "execution_count": 6,
   "id": "334981b0-251c-4ede-acd4-7e00dab2dd32",
   "metadata": {},
   "outputs": [
    {
     "data": {
      "text/latex": [
       "\n",
       "$$ f(x,y) = x^{ 1 / 3 } y^{ 2 / 3 } $$\n",
       "\n",
       "Write down an equation describing the contour line for \\( f(x,y) = z \\). \n"
      ],
      "text/plain": [
       "<IPython.core.display.Latex object>"
      ]
     },
     "metadata": {},
     "output_type": "display_data"
    },
    {
     "data": {
      "text/latex": [
       "\n",
       "$$ y = z^{ 3 / 2 } x^{ -1 / 2 } $$\n"
      ],
      "text/plain": [
       "<IPython.core.display.Latex object>"
      ]
     },
     "metadata": {},
     "output_type": "display_data"
    }
   ],
   "source": [
    "prob = np.random.choice(myprobs)\n",
    "display(Latex(prob['setup']))\n",
    "display(Latex(prob['solution']))"
   ]
  },
  {
   "cell_type": "code",
   "execution_count": 7,
   "id": "d270645f-0aec-437b-a021-45bd4e787f9f",
   "metadata": {},
   "outputs": [
    {
     "data": {
      "text/plain": [
       "100"
      ]
     },
     "execution_count": 7,
     "metadata": {},
     "output_type": "execute_result"
    }
   ],
   "source": [
    "len(myprobs)"
   ]
  }
 ],
 "metadata": {
  "kernelspec": {
   "display_name": "Python 3 (ipykernel)",
   "language": "python",
   "name": "python3"
  },
  "language_info": {
   "codemirror_mode": {
    "name": "ipython",
    "version": 3
   },
   "file_extension": ".py",
   "mimetype": "text/x-python",
   "name": "python",
   "nbconvert_exporter": "python",
   "pygments_lexer": "ipython3",
   "version": "3.10.5"
  }
 },
 "nbformat": 4,
 "nbformat_minor": 5
}
