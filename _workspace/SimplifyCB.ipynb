{
 "cells": [
  {
   "cell_type": "code",
   "execution_count": 1,
   "id": "2b06770f-63e6-4bb8-8104-1850bcc82b73",
   "metadata": {},
   "outputs": [],
   "source": [
    "import os\n",
    "import numpy as np\n",
    "import pandas as pd\n",
    "from IPython.display import display, Markdown, Latex\n",
    "import json\n",
    "from utils import SimplifyCB, get_random_prob\n"
   ]
  },
  {
   "cell_type": "code",
   "execution_count": 2,
   "id": "3ca795be-3aeb-4dad-9b10-d1c28605b226",
   "metadata": {},
   "outputs": [
    {
     "data": {
      "text/latex": [
       "\n",
       "Simplify:\n",
       "\n",
       "$$ \\frac{ Ax^{a/D}y^{b/D} }{ Bx^{c/D}y^{d/D} } $$\n"
      ],
      "text/plain": [
       "<IPython.core.display.Latex object>"
      ]
     },
     "metadata": {},
     "output_type": "display_data"
    },
    {
     "name": "stdout",
     "output_type": "stream",
     "text": [
      "3819 examples found.\n"
     ]
    }
   ],
   "source": [
    "prob = SimplifyCB()\n",
    "display(Latex(prob.general_setup()))\n",
    "examples = []\n",
    "for i in range(5000):\n",
    "    A = np.random.choice(np.array([1,2,3,4,5,6,7,8,9,10,12,15,18,20,24,28,30,32,36,40,42,45,48]))\n",
    "    B = np.random.choice(np.array([1,2,3,4,5,6,7,8,9,10,12,15,18,20,24,28,30,32,36,40,42,45,48]))\n",
    "    D = np.random.randint(2,5)\n",
    "    a = np.random.randint(-D+1,D)\n",
    "    b = np.random.randint(-D+1,D)\n",
    "    c = np.random.randint(-D+1,D)\n",
    "    d = np.random.randint(-D+1,D)\n",
    "    params = {'A':A,'B':B,'D':D,'a':a,'b':b,'c':c,'d':d}\n",
    "    prob = SimplifyCB(params)\n",
    "    if prob.check_solution():\n",
    "        examples.append( prob.params | prob.sol )\n",
    "examples = pd.DataFrame.from_dict(examples)\n",
    "examples = examples.drop_duplicates().reset_index(drop=True)\n",
    "examples.to_csv(\"SimplifyCB_examples.csv\", header=True, index=False)\n",
    "print(f\"{len(examples)} examples found.\")"
   ]
  },
  {
   "cell_type": "code",
   "execution_count": 3,
   "id": "42130424-78c0-4aff-bd5f-fa8793319220",
   "metadata": {},
   "outputs": [
    {
     "data": {
      "text/latex": [
       "\n",
       "Simplify:\n",
       "\n",
       "$$ \\frac{ 15x^{ -1/2 }y^{ -1/2 } }{ 15x^{ 1/4 }y^{ 3/4 } } $$\n"
      ],
      "text/plain": [
       "<IPython.core.display.Latex object>"
      ]
     },
     "metadata": {},
     "output_type": "display_data"
    },
    {
     "data": {
      "text/latex": [
       "$$ \\frac{1}{ x^{ 3/4 }y^{ 5/4 } } $$"
      ],
      "text/plain": [
       "<IPython.core.display.Latex object>"
      ]
     },
     "metadata": {},
     "output_type": "display_data"
    }
   ],
   "source": [
    "myprob = get_random_prob(SimplifyCB, \"SimplifyCB_examples.csv\")\n",
    "display(Latex(myprob.setup()))\n",
    "display(Latex(myprob.solution()))"
   ]
  },
  {
   "cell_type": "code",
   "execution_count": 4,
   "id": "2e30a6a4-5dba-4a04-9283-7166c7027650",
   "metadata": {},
   "outputs": [
    {
     "data": {
      "text/plain": [
       "yp\n",
       " 0    784\n",
       " 1    567\n",
       "-1    513\n",
       " 2    492\n",
       "-2    473\n",
       "-3    244\n",
       " 3    228\n",
       "-4    173\n",
       " 4    158\n",
       " 5     74\n",
       "-5     45\n",
       "-6     37\n",
       " 6     31\n",
       "Name: count, dtype: int64"
      ]
     },
     "execution_count": 4,
     "metadata": {},
     "output_type": "execute_result"
    }
   ],
   "source": [
    "examples['yp'].value_counts()"
   ]
  }
 ],
 "metadata": {
  "kernelspec": {
   "display_name": "Python 3 (ipykernel)",
   "language": "python",
   "name": "python3"
  },
  "language_info": {
   "codemirror_mode": {
    "name": "ipython",
    "version": 3
   },
   "file_extension": ".py",
   "mimetype": "text/x-python",
   "name": "python",
   "nbconvert_exporter": "python",
   "pygments_lexer": "ipython3",
   "version": "3.9.6"
  }
 },
 "nbformat": 4,
 "nbformat_minor": 5
}
