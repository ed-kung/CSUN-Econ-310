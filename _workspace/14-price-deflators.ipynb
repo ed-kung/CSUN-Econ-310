{
 "cells": [
  {
   "cell_type": "code",
   "execution_count": 1,
   "id": "10e0dc91-ada0-4498-92ef-82d394721c67",
   "metadata": {},
   "outputs": [
    {
     "ename": "ImportError",
     "evalue": "cannot import name 'cbeq' from 'utils' (/Users/edward.kung/workspace/projects/CSUN-Econ-310/_workspace/utils.py)",
     "output_type": "error",
     "traceback": [
      "\u001b[0;31m---------------------------------------------------------------------------\u001b[0m",
      "\u001b[0;31mImportError\u001b[0m                               Traceback (most recent call last)",
      "Cell \u001b[0;32mIn[1], line 26\u001b[0m\n\u001b[1;32m     23\u001b[0m plt\u001b[38;5;241m.\u001b[39mrcParams[\u001b[38;5;124m'\u001b[39m\u001b[38;5;124mfigure.dpi\u001b[39m\u001b[38;5;124m'\u001b[39m] \u001b[38;5;241m=\u001b[39m \u001b[38;5;241m60\u001b[39m\n\u001b[1;32m     24\u001b[0m plt\u001b[38;5;241m.\u001b[39mrcParams[\u001b[38;5;124m'\u001b[39m\u001b[38;5;124mfigure.facecolor\u001b[39m\u001b[38;5;124m'\u001b[39m] \u001b[38;5;241m=\u001b[39m (\u001b[38;5;241m1.0\u001b[39m, \u001b[38;5;241m1.0\u001b[39m, \u001b[38;5;241m1.0\u001b[39m, \u001b[38;5;241m0.0\u001b[39m)\n\u001b[0;32m---> 26\u001b[0m \u001b[38;5;28;01mfrom\u001b[39;00m \u001b[38;5;21;01mutils\u001b[39;00m \u001b[38;5;28;01mimport\u001b[39;00m SREQ, LREQ, CobbDouglasConsumer, CobbDouglasDeflator, cbeq\n",
      "\u001b[0;31mImportError\u001b[0m: cannot import name 'cbeq' from 'utils' (/Users/edward.kung/workspace/projects/CSUN-Econ-310/_workspace/utils.py)"
     ]
    }
   ],
   "source": [
    "import numpy as np\n",
    "import pandas as pd\n",
    "from matplotlib import pyplot as plt\n",
    "from matplotlib import cm\n",
    "from IPython.display import display, Markdown, Latex\n",
    "\n",
    "SMALL_SIZE = 14\n",
    "MEDIUM_SIZE = 16\n",
    "LARGE_SIZE = 18\n",
    "HUGE_SIZE = 20\n",
    "\n",
    "plt.rcdefaults()\n",
    "plt.rcParams['text.usetex'] = True\n",
    "plt.rcParams['font.family'] = 'Helvetica'\n",
    "plt.rcParams['font.size'] = MEDIUM_SIZE\n",
    "plt.rcParams['axes.titlesize'] = LARGE_SIZE\n",
    "plt.rcParams['axes.labelsize'] = MEDIUM_SIZE\n",
    "plt.rcParams['xtick.labelsize'] = MEDIUM_SIZE\n",
    "plt.rcParams['ytick.labelsize'] = MEDIUM_SIZE\n",
    "plt.rcParams['legend.fontsize'] = MEDIUM_SIZE\n",
    "plt.rcParams['figure.titlesize'] = LARGE_SIZE\n",
    "plt.rcParams['figure.figsize'] = [7.2, 7.2]\n",
    "plt.rcParams['figure.dpi'] = 60\n",
    "plt.rcParams['figure.facecolor'] = (1.0, 1.0, 1.0, 0.0)\n",
    "\n",
    "from utils import SREQ, LREQ, CobbDouglasConsumer, CobbDouglasDeflator, cbeq"
   ]
  },
  {
   "cell_type": "code",
   "execution_count": null,
   "id": "82368268-3bbc-41cd-8993-71859332faa4",
   "metadata": {},
   "outputs": [],
   "source": [
    "prob = CobbDouglasConsumer()\n",
    "display(Latex"
   ]
  },
  {
   "cell_type": "markdown",
   "id": "b5fe5f2d-60fa-4229-873b-1c06bcb79df0",
   "metadata": {},
   "source": [
    "## Price Deflators and Real Income\n",
    "\n",
    "### CPI\n",
    "\n",
    "(Constant consumption bundle deflator)\n",
    "\n",
    "$$p_x x + p_y y = I $$\n",
    "\n",
    "$$p_x^\\prime x + p_y^\\prime y = I^\\prime $$\n",
    "\n",
    "\n",
    "\n",
    "### Better Deflator\n",
    "\n",
    "(Constant utility deflator)\n",
    "\n",
    "Let $U$ be:\n",
    "\n",
    "$$ U = \\max_{x,y} ~ u(x,y) ~ \\text{ s.t. } p_x x + p_y y = I $$\n",
    "\n",
    "Let $I^\\prime$ be defined by:\n",
    "\n",
    "$$ \\max_{x,y} ~ u(x,y) ~ \\text{ s.t. } p_x^\\prime x + p_y^\\prime y = I^\\prime $$\n",
    "\n",
    "That is, $I^\\prime$ is the income that would give the same utility when prices change from $(p_x, p_y)$ to $(p_x^\\prime, p_y^\\prime)$.\n"
   ]
  },
  {
   "cell_type": "markdown",
   "id": "e07945e9-390d-4b5d-ad56-ef170fdf68ef",
   "metadata": {},
   "source": [
    "### Cobb Douglas\n",
    "\n",
    "CPI deflator:\n",
    "\n",
    "$$ \\frac{I^\\prime}{I} = \\frac{1}{1+b/a} \\left( \\frac{p_x^\\prime}{p_x} \\right) + \\frac{1}{1+a/b} \\left( \\frac{p_y^\\prime}{p_y} \\right) $$\n",
    "\n",
    "Better deflator:\n",
    "\n",
    "$$ \\frac{I^\\prime}{I} = \\left(\\frac{p_x^\\prime}{p_x}\\right)^{\\frac{a}{a+b}} \\left(\\frac{p_y^\\prime}{p_y}\\right)^{\\frac{b}{a+b}} $$\n"
   ]
  },
  {
   "cell_type": "code",
   "execution_count": 4,
   "id": "59eb36b0-225c-4461-bf3c-1c87f59a2e8d",
   "metadata": {},
   "outputs": [
    {
     "data": {
      "text/plain": [
       "{'a': 0.5, 'b': 0.5, 'I': 100, 'px0': 1, 'py0': 1, 'px1': 1, 'py1': 2, 'CPI_DEFLATOR': 1.5, 'GOOD_DEFLATOR': 1.4142135623730951}"
      ]
     },
     "execution_count": 4,
     "metadata": {},
     "output_type": "execute_result"
    }
   ],
   "source": [
    "a = 0.5\n",
    "b = 0.5\n",
    "I = 100\n",
    "px0 = 1\n",
    "py0 = 1\n",
    "px1 = 1\n",
    "py1 = 2\n",
    "\n",
    "cbd = CobbDouglasDeflator(a=a,b=b,I=I,px0=px0,py0=py0,px1=px1,py1=py1)\n",
    "\n",
    "cbd"
   ]
  },
  {
   "cell_type": "code",
   "execution_count": 5,
   "id": "64f28f46-073f-4110-9eb6-d7e4447c1ff9",
   "metadata": {},
   "outputs": [
    {
     "data": {
      "text/plain": [
       "1.2666666666666666"
      ]
     },
     "execution_count": 5,
     "metadata": {},
     "output_type": "execute_result"
    }
   ],
   "source": [
    "(12*5 + 7*5)/(10*5 + 5*5)"
   ]
  }
 ],
 "metadata": {
  "kernelspec": {
   "display_name": "Python 3 (ipykernel)",
   "language": "python",
   "name": "python3"
  },
  "language_info": {
   "codemirror_mode": {
    "name": "ipython",
    "version": 3
   },
   "file_extension": ".py",
   "mimetype": "text/x-python",
   "name": "python",
   "nbconvert_exporter": "python",
   "pygments_lexer": "ipython3",
   "version": "3.9.6"
  }
 },
 "nbformat": 4,
 "nbformat_minor": 5
}
