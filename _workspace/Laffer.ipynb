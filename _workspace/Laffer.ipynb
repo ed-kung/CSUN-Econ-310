{
 "cells": [
  {
   "cell_type": "code",
   "execution_count": 1,
   "id": "77f88a9d-f1e7-4863-a9c4-976878cf239b",
   "metadata": {},
   "outputs": [],
   "source": [
    "import numpy as np\n",
    "import pandas as pd\n",
    "from matplotlib import pyplot as plt\n",
    "from matplotlib import cm\n",
    "from IPython.display import display, Markdown, Latex\n",
    "import pickle\n",
    "\n",
    "SMALL_SIZE = 12\n",
    "MEDIUM_SIZE = 14\n",
    "LARGE_SIZE = 16\n",
    "\n",
    "plt.rcdefaults()\n",
    "plt.rcParams['text.usetex'] = True\n",
    "plt.rcParams['font.family'] = 'Helvetica'\n",
    "plt.rcParams['font.size'] = MEDIUM_SIZE\n",
    "plt.rcParams['axes.titlesize'] = LARGE_SIZE\n",
    "plt.rcParams['axes.labelsize'] = MEDIUM_SIZE\n",
    "plt.rcParams['xtick.labelsize'] = SMALL_SIZE\n",
    "plt.rcParams['ytick.labelsize'] = SMALL_SIZE\n",
    "plt.rcParams['legend.fontsize'] = MEDIUM_SIZE\n",
    "plt.rcParams['figure.titlesize'] = LARGE_SIZE\n",
    "plt.rcParams['figure.figsize'] = [7.2, 4.8]\n",
    "plt.rcParams['figure.dpi'] = 60\n",
    "plt.rcParams['figure.facecolor'] = (1.0, 1.0, 1.0, 0.0)\n",
    "\n",
    "from utils import Laffer, get_random_prob"
   ]
  },
  {
   "cell_type": "code",
   "execution_count": 2,
   "id": "67e9d6fb-f3a0-404b-8ebb-e294e5182df8",
   "metadata": {},
   "outputs": [],
   "source": [
    "prob = Laffer()"
   ]
  },
  {
   "cell_type": "code",
   "execution_count": 3,
   "id": "ff2fa7f2-3471-44f9-baff-c9f83f5f55f8",
   "metadata": {},
   "outputs": [
    {
     "data": {
      "text/latex": [
       "\n",
       "A commodity \\(q\\) is traded at price \\(p\\) in a competitive market with price-taking consumers and firms. \\\\\n",
       "        \n",
       "There are \\(N\\) identical consumers each with income \\(Y\\). Each consumer has a utility function over numeraire consumption \\(c\\) and commodity \\(q\\) given by:\n",
       "\n",
       "$$u(c,q) = c + \\alpha q - \\frac{1}{2} q^2 $$\n",
       "\n",
       "There are \\(M\\) identical firms each with cost function given by:\n",
       "\n",
       "$$c(q) = \\frac{1}{2} q^2 $$\n",
       "\n",
       "An ad-valorem tax rate of \\(t\\) is levied on the producers.\n",
       "\n",
       "The general solutions are:\n",
       "\n",
       "$$ p = \\frac{\\alpha N / M}{1 + N/M - t} $$\n",
       "\n",
       "$$ Q = \\alpha N \\left( \\frac{1-t}{1+N/M-t} \\right) $$\n"
      ],
      "text/plain": [
       "<IPython.core.display.Latex object>"
      ]
     },
     "metadata": {},
     "output_type": "display_data"
    }
   ],
   "source": [
    "display(Latex(prob.general_setup()))"
   ]
  },
  {
   "cell_type": "code",
   "execution_count": 4,
   "id": "c14f777b-ec36-4105-a06e-a912c1331554",
   "metadata": {},
   "outputs": [
    {
     "data": {
      "text/latex": [
       "\n",
       "A commodity \\(q\\) is traded at price \\(p\\) in a competitive market with price-taking consumers and firms. \\\\\n",
       "        \n",
       "There are \\(400\\) identical consumers each with income \\(Y=100\\). Each consumer has a utility function over numeraire consumption \\(c\\) and commodity \\(q\\) given by:\n",
       "\n",
       "$$u(c,q) = c + 15q-\\frac{ 1 }{ 2 }q^{ 2 } $$\n",
       "\n",
       "There are \\(200\\) identical firms each with cost function given by:\n",
       "\n",
       "$$c(q) = \\frac{ 1 }{ 2 }q^{ 2 } $$\n",
       "\n",
       "An ad-valorem tax rate of \\(t\\) is levied on the producers.\n"
      ],
      "text/plain": [
       "<IPython.core.display.Latex object>"
      ]
     },
     "metadata": {},
     "output_type": "display_data"
    },
    {
     "data": {
      "text/latex": [
       "$$\\frac{ 30 }{ 3 - t }$$"
      ],
      "text/plain": [
       "<IPython.core.display.Latex object>"
      ]
     },
     "metadata": {},
     "output_type": "display_data"
    },
    {
     "data": {
      "text/latex": [
       "$$6,000 \\left( \\frac{ 1-t }{ 3 - t } \\right)$$"
      ],
      "text/plain": [
       "<IPython.core.display.Latex object>"
      ]
     },
     "metadata": {},
     "output_type": "display_data"
    }
   ],
   "source": [
    "display(Latex(prob.setup()))\n",
    "display(Latex('$$'+prob.formula_p()+'$$'))\n",
    "display(Latex('$$'+prob.formula_q()+'$$'))"
   ]
  },
  {
   "cell_type": "code",
   "execution_count": 5,
   "id": "89cafd4e-ea06-4cb8-acdb-9050b490c9c5",
   "metadata": {},
   "outputs": [
    {
     "name": "stdout",
     "output_type": "stream",
     "text": [
      "50 examples found...\n",
      "100 examples found...\n",
      "150 examples found...\n",
      "200 examples found...\n",
      "250 examples found...\n",
      "300 examples found...\n",
      "350 examples found...\n",
      "400 examples found...\n",
      "450 examples found...\n",
      "500 examples found...\n",
      "550 examples found...\n",
      "600 examples found...\n",
      "650 examples found...\n",
      "700 examples found...\n",
      "750 examples found...\n",
      "800 examples found...\n",
      "850 examples found...\n",
      "900 examples found...\n",
      "950 examples found...\n",
      "1000 examples found...\n",
      "1050 examples found...\n",
      "1100 examples found...\n",
      "1150 examples found...\n",
      "1200 examples found...\n",
      "1250 examples found...\n",
      "1300 examples found...\n",
      "1350 examples found...\n",
      "1400 examples found...\n",
      "1450 examples found...\n",
      "1500 examples found...\n",
      "1550 examples found...\n",
      "1600 examples found...\n",
      "1650 examples found...\n",
      "1700 examples found...\n",
      "1750 examples found...\n",
      "1800 examples found...\n",
      "1850 examples found...\n",
      "1900 examples found...\n",
      "1950 examples found...\n",
      "2000 examples found...\n",
      "2050 examples found...\n",
      "2100 examples found...\n",
      "2150 examples found...\n",
      "2200 examples found...\n",
      "2250 examples found...\n",
      "2300 examples found...\n",
      "2350 examples found...\n",
      "2400 examples found...\n",
      "2450 examples found...\n",
      "2500 examples found...\n",
      "2550 examples found...\n",
      "2600 examples found...\n",
      "2650 examples found...\n",
      "2700 examples found...\n",
      "2750 examples found...\n",
      "2800 examples found...\n",
      "2850 examples found...\n",
      "2900 examples found...\n",
      "2950 examples found...\n",
      "3000 examples found...\n",
      "3050 examples found...\n",
      "3100 examples found...\n",
      "3150 examples found...\n",
      "3200 examples found...\n",
      "3250 examples found...\n",
      "3300 examples found...\n",
      "3350 examples found...\n",
      "3400 examples found...\n",
      "3450 examples found...\n",
      "3500 examples found...\n",
      "3550 examples found...\n",
      "3600 examples found...\n",
      "3650 examples found...\n",
      "3700 examples found...\n",
      "3750 examples found...\n",
      "3800 examples found...\n",
      "3850 examples found...\n",
      "3900 examples found...\n",
      "3950 examples found...\n",
      "4000 examples found...\n",
      "4050 examples found...\n",
      "4100 examples found...\n",
      "4150 examples found...\n",
      "4200 examples found...\n",
      "4250 examples found...\n",
      "4300 examples found...\n",
      "4350 examples found...\n",
      "4400 examples found...\n",
      "4450 examples found...\n",
      "4500 examples found...\n",
      "4550 examples found...\n",
      "4600 examples found...\n",
      "4650 examples found...\n",
      "4700 examples found...\n",
      "4750 examples found...\n",
      "4800 examples found...\n",
      "4850 examples found...\n",
      "4900 examples found...\n",
      "4950 examples found...\n",
      "5000 examples found...\n",
      "5050 examples found...\n",
      "5100 examples found...\n",
      "5150 examples found...\n",
      "5200 examples found...\n",
      "5220 examples found.\n"
     ]
    }
   ],
   "source": [
    "examples = []\n",
    "n_found = 0\n",
    "for M in np.arange(20,200,10):\n",
    "    for N in np.arange(1,11)*M:\n",
    "        for alpha in np.arange(4,33):\n",
    "            params = {'N':N, 'M':M, 'alpha':alpha}\n",
    "            prob = Laffer(params)\n",
    "            if prob.check_solution():\n",
    "                n_found+=1\n",
    "                examples.append( prob.params )\n",
    "                if (n_found%50==0):\n",
    "                    print(f\"{n_found} examples found...\")\n",
    "examples = pd.DataFrame.from_dict(examples)\n",
    "examples.to_csv(\"Laffer_examples.csv\", index=False, header=True)    \n",
    "print(f\"{len(examples)} examples found.\")"
   ]
  },
  {
   "cell_type": "code",
   "execution_count": 12,
   "id": "15f408a8-cdbe-47bd-9626-62e13d09b9cb",
   "metadata": {},
   "outputs": [
    {
     "data": {
      "text/latex": [
       "\n",
       "A commodity \\(q\\) is traded at price \\(p\\) in a competitive market with price-taking consumers and firms. \\\\\n",
       "        \n",
       "There are \\(900\\) identical consumers each with income \\(Y=100\\). Each consumer has a utility function over numeraire consumption \\(c\\) and commodity \\(q\\) given by:\n",
       "\n",
       "$$u(c,q) = c + 7q-\\frac{ 1 }{ 2 }q^{ 2 } $$\n",
       "\n",
       "There are \\(100\\) identical firms each with cost function given by:\n",
       "\n",
       "$$c(q) = \\frac{ 1 }{ 2 }q^{ 2 } $$\n",
       "\n",
       "An ad-valorem tax rate of \\(t\\) is levied on the producers.\n"
      ],
      "text/plain": [
       "<IPython.core.display.Latex object>"
      ]
     },
     "metadata": {},
     "output_type": "display_data"
    },
    {
     "data": {
      "text/latex": [
       "$$\\frac{ 63 }{ 10 - t }$$"
      ],
      "text/plain": [
       "<IPython.core.display.Latex object>"
      ]
     },
     "metadata": {},
     "output_type": "display_data"
    },
    {
     "data": {
      "text/latex": [
       "$$6,300 \\left( \\frac{ 1-t }{ 10 - t } \\right)$$"
      ],
      "text/plain": [
       "<IPython.core.display.Latex object>"
      ]
     },
     "metadata": {},
     "output_type": "display_data"
    }
   ],
   "source": [
    "myprob = get_random_prob(Laffer, \"Laffer_examples.csv\")\n",
    "display(Latex(myprob.setup()))\n",
    "display(Latex('$$'+myprob.formula_p()+'$$'))\n",
    "display(Latex('$$'+myprob.formula_q()+'$$'))"
   ]
  }
 ],
 "metadata": {
  "kernelspec": {
   "display_name": "Python 3 (ipykernel)",
   "language": "python",
   "name": "python3"
  },
  "language_info": {
   "codemirror_mode": {
    "name": "ipython",
    "version": 3
   },
   "file_extension": ".py",
   "mimetype": "text/x-python",
   "name": "python",
   "nbconvert_exporter": "python",
   "pygments_lexer": "ipython3",
   "version": "3.10.5"
  }
 },
 "nbformat": 4,
 "nbformat_minor": 5
}
