{
 "cells": [
  {
   "cell_type": "code",
   "execution_count": 1,
   "id": "77f88a9d-f1e7-4863-a9c4-976878cf239b",
   "metadata": {},
   "outputs": [],
   "source": [
    "import numpy as np\n",
    "import pandas as pd\n",
    "from matplotlib import pyplot as plt\n",
    "from matplotlib import cm\n",
    "from IPython.display import display, Markdown, Latex\n",
    "import pickle\n",
    "\n",
    "SMALL_SIZE = 12\n",
    "MEDIUM_SIZE = 14\n",
    "LARGE_SIZE = 16\n",
    "\n",
    "plt.rcdefaults()\n",
    "plt.rcParams['text.usetex'] = True\n",
    "plt.rcParams['font.family'] = 'Helvetica'\n",
    "plt.rcParams['font.size'] = MEDIUM_SIZE\n",
    "plt.rcParams['axes.titlesize'] = LARGE_SIZE\n",
    "plt.rcParams['axes.labelsize'] = MEDIUM_SIZE\n",
    "plt.rcParams['xtick.labelsize'] = SMALL_SIZE\n",
    "plt.rcParams['ytick.labelsize'] = SMALL_SIZE\n",
    "plt.rcParams['legend.fontsize'] = MEDIUM_SIZE\n",
    "plt.rcParams['figure.titlesize'] = LARGE_SIZE\n",
    "plt.rcParams['figure.figsize'] = [7.2, 4.8]\n",
    "plt.rcParams['figure.dpi'] = 60\n",
    "plt.rcParams['figure.facecolor'] = (1.0, 1.0, 1.0, 0.0)\n",
    "\n",
    "from utils import Laffer"
   ]
  },
  {
   "cell_type": "code",
   "execution_count": 2,
   "id": "67e9d6fb-f3a0-404b-8ebb-e294e5182df8",
   "metadata": {},
   "outputs": [],
   "source": [
    "prob = Laffer()"
   ]
  },
  {
   "cell_type": "code",
   "execution_count": 3,
   "id": "ff2fa7f2-3471-44f9-baff-c9f83f5f55f8",
   "metadata": {},
   "outputs": [
    {
     "data": {
      "text/latex": [
       "\n",
       "A commodity $q$ is traded at price $p$ in a competitive market with price-taking consumers and firms. \\\\\n",
       "        \n",
       "There are $N$ identical consumers each with income $Y$. Each consumer has a utility function over numeraire consumption $c$ and commodity $q$ given by:\n",
       "\n",
       "$$u(c,q) = c + \\alpha q - \\tfrac{1}{2} q^2$$\n",
       "\n",
       "There are $M$ identical firms each with cost function given by:\n",
       "\n",
       "$$c(q) = \\tfrac{1}{2} q^2$$\n",
       "\n",
       "An ad valorem tax rate of $t$ is placed on the producers."
      ],
      "text/plain": [
       "<IPython.core.display.Latex object>"
      ]
     },
     "metadata": {},
     "output_type": "display_data"
    },
    {
     "data": {
      "text/latex": [
       "\n",
       "The general solutions are:\n",
       "\n",
       "$$ p = \\frac{\\alpha N / M}{1 + N/M - t} $$\n",
       "\n",
       "$$ Q = \\alpha N \\left( \\frac{1-t}{1+N/M-t} \\right) $$\n"
      ],
      "text/plain": [
       "<IPython.core.display.Latex object>"
      ]
     },
     "metadata": {},
     "output_type": "display_data"
    }
   ],
   "source": [
    "display(Latex(prob.general_setup()))\n",
    "display(Latex(prob.general_solution()))"
   ]
  },
  {
   "cell_type": "code",
   "execution_count": 4,
   "id": "89cafd4e-ea06-4cb8-acdb-9050b490c9c5",
   "metadata": {},
   "outputs": [
    {
     "name": "stdout",
     "output_type": "stream",
     "text": [
      "50 examples found...\n",
      "100 examples found...\n",
      "150 examples found...\n"
     ]
    }
   ],
   "source": [
    "examples = []\n",
    "n_found = 0\n",
    "for M in np.arange(20,200,10):\n",
    "    for N in np.arange(1,21)*M:\n",
    "        for alpha in np.arange(4,65):\n",
    "            for tp in [0.05, 0.1, 0.125, 0.15, 0.2, 0.25, 0.3, 0.4, 0.5]:\n",
    "                params = {'N':N,'M':M,'alpha':alpha,'tp':tp,'Y':100,'beta':1,'gamma':0,'delta':0,'eta':1,'tc':0}\n",
    "                prob = Laffer(params)\n",
    "                if prob.check_solution():\n",
    "                    n_found+=1\n",
    "                    examples.append( prob.params | prob.sol )\n",
    "                    if (n_found%50==0):\n",
    "                        print(f\"{n_found} examples found...\")\n",
    "examples = pd.DataFrame.from_dict(examples)\n",
    "examples.to_csv(\"Laffer_examples.csv\", index=False, header=True)    "
   ]
  },
  {
   "cell_type": "code",
   "execution_count": 5,
   "id": "15f408a8-cdbe-47bd-9626-62e13d09b9cb",
   "metadata": {},
   "outputs": [
    {
     "data": {
      "text/latex": [
       "\n",
       "A commodity $q$ is traded at price $p$ in a competitive market with price-taking consumers and firms. \\\\\n",
       "        \n",
       "There are $100$ identical consumers each with income $Y=100$. Each consumer has a utility function over numeraire consumption $c$ and commodity $q$ given by:\n",
       "\n",
       "$$u(c,q) = c + 16q - 0.5q^2$$\n",
       "\n",
       "There are $100$ identical firms each with cost function given by:\n",
       "\n",
       "$$c(q) = 0.5q^2$$\n",
       "\n",
       "An ad valorem tax rate of $t$ is placed on the producers."
      ],
      "text/plain": [
       "<IPython.core.display.Latex object>"
      ]
     },
     "metadata": {},
     "output_type": "display_data"
    },
    {
     "data": {
      "text/latex": [
       "$$ p = \\frac{ 16 }{ 2 - t } $$"
      ],
      "text/plain": [
       "<IPython.core.display.Latex object>"
      ]
     },
     "metadata": {},
     "output_type": "display_data"
    },
    {
     "data": {
      "text/latex": [
       "$$ Q = 1,600 \\left( \\frac{ 1-t }{ 2 - t } \\right) $$"
      ],
      "text/plain": [
       "<IPython.core.display.Latex object>"
      ]
     },
     "metadata": {},
     "output_type": "display_data"
    }
   ],
   "source": [
    "idx = np.random.randint(len(examples))\n",
    "prob = Laffer(dict(examples.loc[idx]))\n",
    "display(Latex(prob.setup()))\n",
    "display(Latex(prob.formula_p()))\n",
    "display(Latex(prob.formula_q()))"
   ]
  }
 ],
 "metadata": {
  "kernelspec": {
   "display_name": "Python 3 (ipykernel)",
   "language": "python",
   "name": "python3"
  },
  "language_info": {
   "codemirror_mode": {
    "name": "ipython",
    "version": 3
   },
   "file_extension": ".py",
   "mimetype": "text/x-python",
   "name": "python",
   "nbconvert_exporter": "python",
   "pygments_lexer": "ipython3",
   "version": "3.10.5"
  }
 },
 "nbformat": 4,
 "nbformat_minor": 5
}
