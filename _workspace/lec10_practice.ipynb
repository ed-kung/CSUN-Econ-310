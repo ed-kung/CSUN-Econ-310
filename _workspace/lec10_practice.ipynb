{
 "cells": [
  {
   "cell_type": "code",
   "execution_count": 1,
   "id": "c047a86b-2714-4ec7-93c3-db89cd57df0d",
   "metadata": {},
   "outputs": [],
   "source": [
    "import os\n",
    "import numpy as np\n",
    "import pandas as pd\n",
    "from IPython.display import display, Markdown, Latex\n",
    "import json\n",
    "import utils2 as u2\n",
    "from matplotlib import pyplot as plt\n",
    "\n",
    "SMALL_SIZE = 14\n",
    "MEDIUM_SIZE = 16\n",
    "LARGE_SIZE = 18\n",
    "HUGE_SIZE = 20\n",
    "\n",
    "plt.rcdefaults()\n",
    "plt.rcParams['text.usetex'] = True\n",
    "plt.rcParams['font.family'] = 'Helvetica'\n",
    "plt.rcParams['font.size'] = MEDIUM_SIZE\n",
    "plt.rcParams['axes.titlesize'] = LARGE_SIZE\n",
    "plt.rcParams['axes.labelsize'] = MEDIUM_SIZE\n",
    "plt.rcParams['xtick.labelsize'] = MEDIUM_SIZE\n",
    "plt.rcParams['ytick.labelsize'] = MEDIUM_SIZE\n",
    "plt.rcParams['legend.fontsize'] = MEDIUM_SIZE\n",
    "plt.rcParams['figure.titlesize'] = LARGE_SIZE\n",
    "plt.rcParams['figure.figsize'] = [7.2, 7.2]\n",
    "plt.rcParams['figure.dpi'] = 60\n",
    "plt.rcParams['figure.facecolor'] = (1.0, 1.0, 1.0, 0.0)\n",
    "\n",
    "JSON_FILE = \"../assets/data/lec10_practice.json\"\n",
    "PROBLEM_NAME = \"lec10_practice_{}\"\n",
    "IMAGE_PATH = \"../assets/images/graphs\"\n",
    "probs = []\n",
    "nprob = 0\n",
    "\n",
    "rng = np.random.default_rng(109)"
   ]
  },
  {
   "cell_type": "code",
   "execution_count": 2,
   "id": "8238778b-60d0-4b22-aca6-72adb813e95e",
   "metadata": {},
   "outputs": [
    {
     "name": "stdout",
     "output_type": "stream",
     "text": [
      "{'a': 0.5, 'b': 0.5, 'px': 1, 'py': 1, 'I': 12, 'xunit': 1, 'yunit': 1, 'xn': 13, 'yn': 13}\n",
      "{'x': 6.0, 'y': 6.0, 'U': 5.999999999999999}\n",
      "0:  A consumer with income \\(I = 12\\) has a utility function over two goods, \\(x\\) and \\(y\\):  $$ u(x,y) = x^{1/2}y^{1/2} $$  The price of good \\(x\\) is \\(p_x = 1\\) and the price of good \\(y\\) is \\(p_y = 1\\). \n",
      "\n",
      "1:  Solve:  $$ \\max_{x,y} ~ x^{1/2}y^{1/2} ~ \\text{s.t.} ~ x+y = 12$$ \n",
      "\n",
      "2:  A consumer with income \\(I = 12\\) has a utility function over two goods, \\(x\\) and \\(y\\), represented by the indifference curves shown below. \\begin{center} \\includegraphics[width=3in]{generic_problem_setup.png} \\end{center} The price of good \\(x\\) is \\(p_x = 1\\) and the price of good \\(y\\) is \\(p_y = 1\\). \n",
      "\n",
      "3:  A consumer's indifference curves and budget constraint over two goods, \\(x\\) and \\(y\\), is shown below. \\begin{center} \\includegraphics[width=3in]{generic_problem_setup2.png} \\end{center} \n",
      "\n",
      "0: Draw the consumer's budget constraint and label the optimal point A.\n",
      "\n",
      "1: What is the consumer's optimal choice of \\(x\\)?\n",
      "\n",
      "2: What is the optimal value of \\(x\\)?\n",
      "\n",
      "3: What is the consumer's optimal choice of \\(y\\)?\n",
      "\n",
      "4: What is the optimal value of \\(y\\)?\n",
      "\n",
      "5: Calculate the consumer's utility at the optimal choice.\n",
      "\n",
      "6: What is the maximum value of the function?\n",
      "\n",
      "7: Write the first order condition for \\(x\\).\n",
      "\n",
      "8: Write the first order condition for \\(y\\).\n",
      "\n"
     ]
    }
   ],
   "source": [
    "TYPE = \"CobbDouglasConsumerProblem\"\n",
    "u2.show_menu(TYPE)"
   ]
  },
  {
   "cell_type": "code",
   "execution_count": 3,
   "id": "b612c533-6d21-43d3-a5e5-5e2840ac8c5b",
   "metadata": {},
   "outputs": [],
   "source": [
    "# Numerical\n",
    "\n",
    "TYPE = \"CobbDouglasConsumerProblem\"\n",
    "df = pd.read_csv(f\"{TYPE}.csv\")\n",
    "get_ids = [True]*len(df)\n",
    "for idx, row in df.loc[get_ids].sample(30,random_state=rng).iterrows():\n",
    "    params = dict(row.copy())\n",
    "    name = PROBLEM_NAME.format(nprob)\n",
    "    prob = u2.load_problem(TYPE, params=params, rng=rng, name=name)\n",
    "    online_format = u2.get_online_format(prob, setup_id=0, question_ids=[1,3,5])\n",
    "    probs.append(online_format)\n",
    "    nprob+=1\n"
   ]
  },
  {
   "cell_type": "code",
   "execution_count": 4,
   "id": "8982b366-f235-4098-9922-a1fd73da4cd8",
   "metadata": {},
   "outputs": [],
   "source": [
    "# Graphical without budget constraint\n",
    "\n",
    "TYPE = \"CobbDouglasConsumerProblem\"\n",
    "df = pd.read_csv(f\"{TYPE}.csv\")\n",
    "get_ids = [True]*len(df)\n",
    "for idx, row in df.loc[get_ids].sample(15,random_state=rng).iterrows():\n",
    "    params = dict(row.copy())\n",
    "    name = PROBLEM_NAME.format(nprob)\n",
    "    prob = u2.load_problem(TYPE, params=params, rng=rng, name=name)\n",
    "    online_format = u2.get_online_format(prob, setup_id=2, question_ids=[0,1,3])\n",
    "    probs.append(online_format)\n",
    "    nprob+=1\n",
    "\n",
    "    prob.setup_axis.draw(saveas=f\"{IMAGE_PATH}/{name}_setup.png\")\n",
    "    plt.close()\n",
    "    prob.solution_axis.draw(saveas=f\"{IMAGE_PATH}/{name}_sol.png\")\n",
    "    plt.close()"
   ]
  },
  {
   "cell_type": "code",
   "execution_count": 5,
   "id": "a1cc21f1-0bd8-4933-b384-bfcf942c45ac",
   "metadata": {},
   "outputs": [],
   "source": [
    "# Graphical without budget constraint, perfect substitutes\n",
    "\n",
    "TYPE = \"PerfectSubstitutesProblem\"\n",
    "df = pd.read_csv(f\"{TYPE}.csv\")\n",
    "get_ids = [True]*len(df)\n",
    "for idx, row in df.loc[get_ids].sample(15,random_state=rng).iterrows():\n",
    "    params = dict(row.copy())\n",
    "    name = PROBLEM_NAME.format(nprob)\n",
    "    prob = u2.load_problem(TYPE, params=params, rng=rng, name=name)\n",
    "    online_format = u2.get_online_format(prob, setup_id=0, question_ids=[0,1,2,3])\n",
    "    probs.append(online_format)\n",
    "    nprob+=1\n",
    "\n",
    "    prob.setup_axis.draw(saveas=f\"{IMAGE_PATH}/{name}_setup.png\")\n",
    "    plt.close()\n",
    "    prob.solution_axis.draw(saveas=f\"{IMAGE_PATH}/{name}_sol.png\")\n",
    "    plt.close()"
   ]
  },
  {
   "cell_type": "code",
   "execution_count": 6,
   "id": "22e7b514-7dd6-4a2b-bcc9-79c28dd8accc",
   "metadata": {},
   "outputs": [],
   "source": [
    "# Graphical without budget constraint, perfect substitutes\n",
    "\n",
    "TYPE = \"PerfectComplementsProblem\"\n",
    "df = pd.read_csv(f\"{TYPE}.csv\")\n",
    "get_ids = [True]*len(df)\n",
    "for idx, row in df.loc[get_ids].sample(15,random_state=rng).iterrows():\n",
    "    params = dict(row.copy())\n",
    "    name = PROBLEM_NAME.format(nprob)\n",
    "    prob = u2.load_problem(TYPE, params=params, rng=rng, name=name)\n",
    "    online_format = u2.get_online_format(prob, setup_id=0, question_ids=[0,1,2,3])\n",
    "    probs.append(online_format)\n",
    "    nprob+=1\n",
    "\n",
    "    prob.setup_axis.draw(saveas=f\"{IMAGE_PATH}/{name}_setup.png\")\n",
    "    plt.close()\n",
    "    prob.solution_axis.draw(saveas=f\"{IMAGE_PATH}/{name}_sol.png\")\n",
    "    plt.close()"
   ]
  },
  {
   "cell_type": "code",
   "execution_count": 7,
   "id": "2197e453-f9be-469d-b5c7-e0dc22dfbd8c",
   "metadata": {},
   "outputs": [],
   "source": [
    "with open(JSON_FILE, 'w') as f:\n",
    "    json.dump(probs, f)"
   ]
  },
  {
   "cell_type": "code",
   "execution_count": 8,
   "id": "8ddd904b-d625-40a6-bdbd-9b7482ede81a",
   "metadata": {},
   "outputs": [
    {
     "name": "stdout",
     "output_type": "stream",
     "text": [
      "<p>\n",
      "A consumer with income \\(I = 100\\) has a utility function over two goods, \\(x\\) and \\(y\\), represented\n",
      "by the indifference curves shown below.\n",
      "<p>\n",
      "<img src=\"/CSUN-Econ-310/assets/images/graphs/lec10_practice_74_setup.png\">\n",
      "</p>\n",
      "The price of good \\(x\\) is \\(p_x = 2\\) and the price of good \\(y\\) is \\(p_y = 2\\).\n",
      "</p>\n",
      "<p>1. Draw the consumer's budget constraint and label the optimal point A.</p>\n",
      "<p>2. What is the consumer's optimal choice of \\(x\\)?</p>\n",
      "<p>3. What is the consumer's optimal choice of \\(y\\)?</p>\n",
      "<p>4. What best describes the relationship between goods \\(x\\) and \\(y\\)?</p>\n",
      "\n"
     ]
    }
   ],
   "source": [
    "print(online_format['setup'])"
   ]
  }
 ],
 "metadata": {
  "kernelspec": {
   "display_name": "Python 3 (ipykernel)",
   "language": "python",
   "name": "python3"
  },
  "language_info": {
   "codemirror_mode": {
    "name": "ipython",
    "version": 3
   },
   "file_extension": ".py",
   "mimetype": "text/x-python",
   "name": "python",
   "nbconvert_exporter": "python",
   "pygments_lexer": "ipython3",
   "version": "3.12.8"
  }
 },
 "nbformat": 4,
 "nbformat_minor": 5
}
