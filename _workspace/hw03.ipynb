{
 "cells": [
  {
   "cell_type": "code",
   "execution_count": 1,
   "id": "c22ce13f-1cf1-466a-afed-8d731d3fb548",
   "metadata": {},
   "outputs": [],
   "source": [
    "import os\n",
    "import numpy as np\n",
    "import pandas as pd\n",
    "from IPython.display import display, Markdown, Latex\n",
    "\n",
    "import econtools\n",
    "from econtools.documents import Homework, RawLatex\n",
    "import utils2 as u2\n",
    "\n",
    "OUTPUT_DIR = \"./tex\"\n",
    "TITLE = \"Econ 310 Week 3 Problem Set\"\n",
    "DUE_DATE = \"Tuesday 2/11\"\n",
    "FILENAME = \"ec310-hw03\"\n",
    "\n",
    "doc = Homework(\n",
    "    title = TITLE,\n",
    "    due_date = DUE_DATE\n",
    ")\n",
    "rng = np.random.default_rng(101)"
   ]
  },
  {
   "cell_type": "code",
   "execution_count": 2,
   "id": "090ffda7-5e67-4f1b-a77a-d3c3522edda5",
   "metadata": {},
   "outputs": [],
   "source": [
    "TYPE = 'LinearCommodityMarketProblem'\n",
    "df = pd.read_csv(f\"{TYPE}.csv\")\n",
    "params = dict(df.sample(1,random_state=rng).iloc[0])\n",
    "problem = u2.load_problem(TYPE, params, rng=rng)\n",
    "doc.add(u2.get_multipart_sa(problem,setup_id=0,question_ids=[0,1,2,3,4,5]))"
   ]
  },
  {
   "cell_type": "code",
   "execution_count": 3,
   "id": "6fc6ec22-c0a2-4a30-bfca-eea3e3a5fe9e",
   "metadata": {},
   "outputs": [],
   "source": [
    "TYPE = 'ExponentialCommodityMarketProblem'\n",
    "df = pd.read_csv(f\"{TYPE}.csv\")\n",
    "params = dict(df.sample(1,random_state=rng).iloc[0])\n",
    "problem = u2.load_problem(TYPE, params, rng=rng)\n",
    "doc.add(u2.get_multipart_sa(problem,setup_id=0,question_ids=[0,1,2,3,4,5]))"
   ]
  },
  {
   "cell_type": "code",
   "execution_count": 4,
   "id": "25226040-8ffd-4589-9f7f-b1691a29d268",
   "metadata": {},
   "outputs": [],
   "source": [
    "TYPE = 'ExponentialLaborMarketProblem'\n",
    "df = pd.read_csv(f\"{TYPE}.csv\")\n",
    "params = dict(df.sample(1,random_state=rng).iloc[0])\n",
    "problem = u2.load_problem(TYPE, params, rng=rng)\n",
    "doc.add(u2.get_multipart_sa(problem,setup_id=0,question_ids=[0,1,2,3]))"
   ]
  },
  {
   "cell_type": "code",
   "execution_count": 5,
   "id": "bf1162b3-5465-48b4-ac44-59e47faa0a99",
   "metadata": {},
   "outputs": [
    {
     "name": "stdout",
     "output_type": "stream",
     "text": [
      "{'A': 2, 'kf': 0.5, 'd': 0.5, 'kw': 1.5, 'p': 1}\n",
      "0:   A representative, price-taking worker decides how many units, \\(L\\), of labor to supply (e.g. how many hours to work), at a unit wage \\(w\\). The worker's utility function over working \\(L\\) labor-units at wage \\(w\\) is:  $$ u(L) = wL-\\frac{1}{2}L^{3/2} $$    A representative, price-taking firm uses labor to produce and sell a commodity at unit price \\(p\\). The firm hires labor at a constant wage rate \\(w\\). If the firm employs \\(L\\) units of labor, it can produce \\(f(L)\\) units of commodity output, where:  $$ f(L) = 2L^{1/2} $$   The current commodity price is \\(p=1\\). \n",
      "\n",
      "0: Calculate the equilibrium wage rate \\(w\\).\n",
      "\n",
      "1: Calculate the equilibrium quantity of labor supplied, \\(L\\).\n",
      "\n",
      "2: Calculate the equilibrium utility of the worker.\n",
      "\n",
      "3: Calculate the equilibrium profit of the firm.\n",
      "\n"
     ]
    }
   ],
   "source": [
    "u2.show_menu('ExponentialLaborMarketProblem')\n",
    "#u2.PROBLEM_TYPES"
   ]
  },
  {
   "cell_type": "code",
   "execution_count": 6,
   "id": "d3c8b391-8cc1-49d3-8ce8-a2894533df71",
   "metadata": {},
   "outputs": [],
   "source": [
    "doc.print_pdf(FILENAME, OUTPUT_DIR)"
   ]
  }
 ],
 "metadata": {
  "kernelspec": {
   "display_name": "Python 3 (ipykernel)",
   "language": "python",
   "name": "python3"
  },
  "language_info": {
   "codemirror_mode": {
    "name": "ipython",
    "version": 3
   },
   "file_extension": ".py",
   "mimetype": "text/x-python",
   "name": "python",
   "nbconvert_exporter": "python",
   "pygments_lexer": "ipython3",
   "version": "3.12.8"
  }
 },
 "nbformat": 4,
 "nbformat_minor": 5
}
