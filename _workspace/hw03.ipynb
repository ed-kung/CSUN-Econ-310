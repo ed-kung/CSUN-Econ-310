{
 "cells": [
  {
   "cell_type": "code",
   "execution_count": 1,
   "id": "c22ce13f-1cf1-466a-afed-8d731d3fb548",
   "metadata": {},
   "outputs": [],
   "source": [
    "import os\n",
    "import numpy as np\n",
    "import pandas as pd\n",
    "from IPython.display import display, Markdown, Latex\n",
    "\n",
    "import econtools\n",
    "from econtools.documents import Homework, RawLatex\n",
    "from utils import SupplyPoly, DemandPoly, DemandCE, SREQ, polyeq\n",
    "\n",
    "filename = \"hw03\"\n",
    "\n",
    "doc = Homework(\n",
    "    title = r\"Econ 310 Week 3 Homework\",\n",
    "    due_date = r\"Tuesday 9/15\"\n",
    ")\n",
    "\n",
    "df = pd.read_csv(\"SREQ_examples.csv\")"
   ]
  },
  {
   "cell_type": "code",
   "execution_count": 10,
   "id": "bc8b8d4a-a736-45dd-964d-7935ea139461",
   "metadata": {},
   "outputs": [
    {
     "data": {
      "text/latex": [
       "\n",
       "A commodity $q$ is traded at price $p$ in a competitive market with price-taking consumers and firms. \\\\\n",
       "        \n",
       "There are $180$ identical consumers each with income $Y=100$. Each consumer has a utility function over numeraire consumption $c$ and commodity $q$ given by:\n",
       "\n",
       "$$u(c,q) = c + 10q - 0.5q^2$$\n",
       "\n",
       "There are $36$ identical firms each with cost function given by:\n",
       "\n",
       "$$c(q) = 0.1q^2$$\n",
       "\n"
      ],
      "text/plain": [
       "<IPython.core.display.Latex object>"
      ]
     },
     "metadata": {},
     "output_type": "display_data"
    },
    {
     "name": "stdout",
     "output_type": "stream",
     "text": [
      "{'Q': 900.0, 'p': 5.0, 'qd': 5.0, 'qs': 25.0, 'c': 75.0, 'revenue': 125.0, 'cost': 62.5, 'profit': 62.5, 'total_profit': 2250.0, 'utility': 112.5, 'total_utility': 20250.0, 'total_surplus': 22500.0}\n"
     ]
    }
   ],
   "source": [
    "idx = (\n",
    "    (df['delta']==0) &\n",
    "    (df['beta']==1)\n",
    ")\n",
    "params = dict(df.loc[idx].sample(1,random_state=10).reset_index().loc[0])\n",
    "prob = SREQ(params)\n",
    "setup = prob.setup()\n",
    "questions = fr\"\"\"\n",
    "\\begin{{enumerate}}[a.]\n",
    "\\item Write down the consumer's first order condition.\n",
    "\\item Write down the firm's first order condition.\n",
    "\\item Write down the market equilibrium condition.\n",
    "\\item Find the equilibrium price and total quantity traded.\n",
    "\\item Calculate total consumer utility and total firm profit in the equilibrium.\n",
    "\\end{{enumerate}}\n",
    "\"\"\"\n",
    "latex = \"\\\\begin{q}\\n\" + setup + questions + \"\\\\end{q}\\n\"\n",
    "doc.add(RawLatex(latex))\n",
    "display(Latex(setup))\n",
    "print(prob.sol)"
   ]
  },
  {
   "cell_type": "code",
   "execution_count": null,
   "id": "d3c8b391-8cc1-49d3-8ce8-a2894533df71",
   "metadata": {},
   "outputs": [],
   "source": [
    "doc.print_pdf(filename, \"tex\")"
   ]
  }
 ],
 "metadata": {
  "kernelspec": {
   "display_name": "Python 3 (ipykernel)",
   "language": "python",
   "name": "python3"
  },
  "language_info": {
   "codemirror_mode": {
    "name": "ipython",
    "version": 3
   },
   "file_extension": ".py",
   "mimetype": "text/x-python",
   "name": "python",
   "nbconvert_exporter": "python",
   "pygments_lexer": "ipython3",
   "version": "3.9.6"
  }
 },
 "nbformat": 4,
 "nbformat_minor": 5
}
