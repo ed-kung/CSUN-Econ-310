{
 "cells": [
  {
   "cell_type": "code",
   "execution_count": 1,
   "id": "c22ce13f-1cf1-466a-afed-8d731d3fb548",
   "metadata": {},
   "outputs": [],
   "source": [
    "import os\n",
    "import numpy as np\n",
    "import pandas as pd\n",
    "from IPython.display import display, Markdown, Latex\n",
    "from matplotlib import pyplot as plt\n",
    "\n",
    "import econtools\n",
    "from econtools.documents import Homework, RawLatex\n",
    "from utils import SREQ, Laffer\n",
    "\n",
    "filename = \"hw03\"\n",
    "\n",
    "doc = Homework(\n",
    "    title = r\"Econ 310 Week 3 Homework\",\n",
    "    due_date = r\"Tuesday 9/17\"\n",
    ")\n"
   ]
  },
  {
   "cell_type": "code",
   "execution_count": 2,
   "id": "b56109b2-55e0-4b86-8b2b-d5f2b602b63d",
   "metadata": {},
   "outputs": [
    {
     "data": {
      "text/latex": [
       "\n",
       "A commodity $q$ is traded at price $p$ in a competitive market with price-taking consumers and firms. \\\\\n",
       "        \n",
       "There are $150$ identical consumers each with income $Y=50$. Each consumer has a utility function over numeraire consumption $c$ and commodity $q$ given by:\n",
       "\n",
       "$$u(c,q) = c + 32q - 3q^2$$\n",
       "\n",
       "There are $30$ identical firms each with cost function given by:\n",
       "\n",
       "$$c(q) = 25q + 0.1q^2$$\n",
       "\n"
      ],
      "text/plain": [
       "<IPython.core.display.Latex object>"
      ]
     },
     "metadata": {},
     "output_type": "display_data"
    },
    {
     "name": "stdout",
     "output_type": "stream",
     "text": [
      "\n",
      "\\begin{enumerate}[a.]\n",
      "\\item Write down the consumer's optimization problem.\n",
      "\\item Write down the consumer's first order condition.\n",
      "\\item Write down the firm's optimization problem.\n",
      "\\item Write down the firm's first order condition.\n",
      "\\item Write down the market equilibrium condition.\n",
      "\\item Solve for the equilibrium price and total quantity.\n",
      "\\item Calculate total consumer utility and total firm profit in equilibrium.\n",
      "\\end{enumerate}\n",
      "\n",
      "\n",
      "Solutions:\n",
      "{'Q': 150.0, 'p': 26.0, 'qd': 1.0, 'qs': 5.0, 'c': 24.0, 'revenue': 130.0, 'cost': 127.5, 'profit': 2.5, 'total_profit': 75.0, 'utility': 53.0, 'total_utility': 7950.0, 'total_surplus': 8025.0}\n"
     ]
    }
   ],
   "source": [
    "# Basic SREQ question\n",
    "\n",
    "df = pd.read_csv(\"SREQ_examples.csv\")\n",
    "params = dict(df.sample(1,random_state=2).reset_index(drop=True).loc[0])\n",
    "params['Y'] = 50\n",
    "prob = SREQ(params)\n",
    "\n",
    "setup = prob.setup()\n",
    "display(Latex(setup))\n",
    "\n",
    "questions = fr\"\"\"\n",
    "\\begin{{enumerate}}[a.]\n",
    "\\item Write down the consumer's optimization problem.\n",
    "\\item Write down the consumer's first order condition.\n",
    "\\item Write down the firm's optimization problem.\n",
    "\\item Write down the firm's first order condition.\n",
    "\\item Write down the market equilibrium condition.\n",
    "\\item Solve for the equilibrium price and total quantity.\n",
    "\\item Calculate total consumer utility and total firm profit in equilibrium.\n",
    "\\end{{enumerate}}\n",
    "\"\"\"\n",
    "print(questions)\n",
    "\n",
    "latex = \"\\\\begin{q}\\n\" + setup + questions + \"\\\\end{q}\\n\"\n",
    "doc.add(RawLatex(latex))\n",
    "print(\"\\nSolutions:\")\n",
    "print(prob.sol)\n"
   ]
  },
  {
   "cell_type": "code",
   "execution_count": 3,
   "id": "4c6ea3e4-ab6c-4a05-8373-cea35b59a650",
   "metadata": {},
   "outputs": [
    {
     "data": {
      "text/latex": [
       "\n",
       "A commodity $q$ is traded at price $p$ in a competitive market with price-taking consumers and firms. \\\\\n",
       "        \n",
       "There are $120$ identical consumers each with income $Y=100$. Each consumer has a utility function over numeraire consumption $c$ and commodity $q$ given by:\n",
       "\n",
       "$$u(c,q) = c + 14q - 0.5q^2$$\n",
       "\n",
       "There are $120$ identical firms each with cost function given by:\n",
       "\n",
       "$$c(q) = 0.5q^2$$\n",
       "\n"
      ],
      "text/plain": [
       "<IPython.core.display.Latex object>"
      ]
     },
     "metadata": {},
     "output_type": "display_data"
    },
    {
     "name": "stdout",
     "output_type": "stream",
     "text": [
      "\n",
      "\\begin{enumerate}\n",
      "\\item[a.] Find the equilibrium price and total quantity traded.\n",
      "\\item[b.] Calculate total consumer utility and total firm profit.\n",
      "\\end{enumerate}\n",
      "\n",
      "~ ~\n",
      "\n",
      "Now suppose an ad valorem tax rate of 25\\% is levied on producers.\n",
      "\n",
      "\\begin{enumerate}\n",
      "\\item[c.] Find the equilibrium price and total quantity under the tax.\n",
      "\\item[d.] Calculate total consumer utility, total firm profit, and tax revenue.\n",
      "\\item[e.] Calculate the deadweight loss caused by the tax.\n",
      "\\end{enumerate}\n",
      "\n",
      "~ ~\n",
      "\n",
      "Now, instead of using an ad valorem tax, the government decides to raise the same tax revenue using a lump sum tax on producers.\n",
      "\n",
      "\\begin{enumerate}\n",
      "\\item[f.] How much lump sum tax must be charged to each producer to raise the same tax revenue as part d?\n",
      "\\item[g.] Calculate total consumer utility, total firm profit, and tax revenue under the lump sum tax. \n",
      "\\item[h.] Would consumers prefer the ad valorem tax on producers or the lump sum tax on producers?  What about the firms?\n",
      "\\end{enumerate}\n",
      "\n",
      "\n",
      "Solutions, no tax:\n",
      "{'Q': 840.0, 'p': 7.0, 'qd': 7.0, 'qs': 7.0, 'c': 51.0, 'revenue': 49.0, 'cost': 24.5, 'profit': 24.5, 'total_profit': 2940.0, 'utility': 124.5, 'total_utility': 14940.0, 'total_surplus': 17880.0}\n",
      "\n",
      "Solutions, tax:\n",
      "{'Q': 720.0, 'p': 8.0, 'qd': 6.0, 'qs': 6.0, 'c': 52.0, 'revenue': 36.0, 'cost': 18.0, 'profit': 18.0, 'total_profit': 2160.0, 'utility': 118.0, 'total_utility': 14160.0, 'tax_revenue': 1440.0, 'total_surplus': 17760.0, 'DWL': 120.0}\n"
     ]
    }
   ],
   "source": [
    "# Tax question\n",
    "\n",
    "df = pd.read_csv(\"Laffer_examples.csv\")\n",
    "params = dict(df.sample(1,random_state=2).reset_index(drop=True).loc[0])\n",
    "prob = Laffer(params)\n",
    "\n",
    "setup = prob.sreq.setup()\n",
    "display(Latex(setup))\n",
    "\n",
    "questions = fr\"\"\"\n",
    "\\begin{{enumerate}}\n",
    "\\item[a.] Find the equilibrium price and total quantity traded.\n",
    "\\item[b.] Calculate total consumer utility and total firm profit.\n",
    "\\end{{enumerate}}\n",
    "\n",
    "~ ~\n",
    "\n",
    "Now suppose an ad valorem tax rate of {prob.params['tp']*100:.0f}\\% is levied on producers.\n",
    "\n",
    "\\begin{{enumerate}}\n",
    "\\item[c.] Find the equilibrium price and total quantity under the tax.\n",
    "\\item[d.] Calculate total consumer utility, total firm profit, and tax revenue.\n",
    "\\item[e.] Calculate the deadweight loss caused by the tax.\n",
    "\\end{{enumerate}}\n",
    "\n",
    "~ ~\n",
    "\n",
    "Now, instead of using an ad valorem tax, the government decides to raise the same tax revenue using a lump sum tax on producers.\n",
    "\n",
    "\\begin{{enumerate}}\n",
    "\\item[f.] How much lump sum tax must be charged to each producer to raise the same tax revenue as part d?\n",
    "\\item[g.] Calculate total consumer utility, total firm profit, and tax revenue under the lump sum tax. \n",
    "\\item[h.] Would consumers prefer the ad valorem tax on producers or the lump sum tax on producers?  What about the firms?\n",
    "\\end{{enumerate}}\n",
    "\"\"\"\n",
    "print(questions)\n",
    "\n",
    "\n",
    "latex = \"\\\\begin{q}\\n\" + setup + questions + \"\\\\end{q}\\n\"\n",
    "doc.add(RawLatex(latex))\n",
    "print(\"\\nSolutions, no tax:\")\n",
    "print(prob.sreq.sol)\n",
    "print(\"\\nSolutions, tax:\")\n",
    "print(prob.av.sol)"
   ]
  },
  {
   "cell_type": "code",
   "execution_count": 4,
   "id": "12939362-3037-4e68-9dfb-cd82888b540a",
   "metadata": {},
   "outputs": [
    {
     "data": {
      "text/latex": [
       "\n",
       "A commodity $q$ is traded at price $p$ in a competitive market with price-taking consumers and firms. \\\\\n",
       "        \n",
       "There are $120$ identical consumers each with income $Y=100$. Each consumer has a utility function over numeraire consumption $c$ and commodity $q$ given by:\n",
       "\n",
       "$$u(c,q) = c + 14q - 0.5q^2$$\n",
       "\n",
       "There are $120$ identical firms each with cost function given by:\n",
       "\n",
       "$$c(q) = 0.5q^2$$\n",
       "\n"
      ],
      "text/plain": [
       "<IPython.core.display.Latex object>"
      ]
     },
     "metadata": {},
     "output_type": "display_data"
    },
    {
     "name": "stdout",
     "output_type": "stream",
     "text": [
      "\n",
      "\n",
      "An ad valorem tax of $t$ is levied on producers.\n",
      "\n",
      "\\begin{enumerate}[a.]\n",
      "\\item Prove that the equilibrium price is equal to: \n",
      "$$ p = \\frac{ 14 }{ 2 - t } $$\n",
      "\\item Prove that the equilibrium quantity is equal to: \n",
      "$$ Q = 1,680 \\left( \\frac{ 1-t }{ 2 - t } \\right) $$\n",
      "\\item Use Excel or any other software to plot tax revenue as $t$ goes from 0\\% to 100\\%. How would you describe the shape of this curve? At approximately what tax rate is the tax revenue maximized? This pattern is known as the Laffer Curve.\n",
      "\\end{enumerate}\n",
      "\n"
     ]
    }
   ],
   "source": [
    "# Laffer curve\n",
    "\n",
    "setup = prob.sreq.setup()\n",
    "display(Latex(setup))\n",
    "\n",
    "questions = fr\"\"\"\n",
    "\n",
    "An ad valorem tax of $t$ is levied on producers.\n",
    "\n",
    "\\begin{{enumerate}}[a.]\n",
    "\\item Prove that the equilibrium price is equal to: \n",
    "{prob.formula_p()}\n",
    "\\item Prove that the equilibrium quantity is equal to: \n",
    "{prob.formula_q()}\n",
    "\\item Use Excel or any other software to plot tax revenue as $t$ goes from 0\\% to 100\\%. How would you describe the shape of this curve? At approximately what tax rate is the tax revenue maximized? This pattern is known as the Laffer Curve.\n",
    "\\end{{enumerate}}\n",
    "\"\"\"\n",
    "print(questions)\n",
    "\n",
    "\n",
    "latex = \"\\\\begin{q}\\n\" + setup + questions + \"\\\\end{q}\\n\"\n",
    "doc.add(RawLatex(latex))\n"
   ]
  },
  {
   "cell_type": "code",
   "execution_count": 5,
   "id": "d3c8b391-8cc1-49d3-8ce8-a2894533df71",
   "metadata": {},
   "outputs": [],
   "source": [
    "doc.print_pdf(filename, \"tex\")"
   ]
  },
  {
   "cell_type": "code",
   "execution_count": 6,
   "id": "ad79651f-8b0b-4864-8372-cad8ecd1749b",
   "metadata": {},
   "outputs": [
    {
     "data": {
      "text/plain": [
       "[<matplotlib.lines.Line2D at 0x1ef6c8f3a00>]"
      ]
     },
     "execution_count": 6,
     "metadata": {},
     "output_type": "execute_result"
    },
    {
     "data": {
      "image/png": "[encoded data removed]",
      "text/plain": [
       "<Figure size 640x480 with 1 Axes>"
      ]
     },
     "metadata": {},
     "output_type": "display_data"
    }
   ],
   "source": [
    "t = np.arange(0,1.01,0.01)\n",
    "p = 14/(2-t)\n",
    "Q = 1680*(1-t)/(2-t)\n",
    "R = t*p*Q\n",
    "plt.plot(t, R)"
   ]
  }
 ],
 "metadata": {
  "kernelspec": {
   "display_name": "Python 3 (ipykernel)",
   "language": "python",
   "name": "python3"
  },
  "language_info": {
   "codemirror_mode": {
    "name": "ipython",
    "version": 3
   },
   "file_extension": ".py",
   "mimetype": "text/x-python",
   "name": "python",
   "nbconvert_exporter": "python",
   "pygments_lexer": "ipython3",
   "version": "3.10.6"
  }
 },
 "nbformat": 4,
 "nbformat_minor": 5
}
