{
 "cells": [
  {
   "cell_type": "code",
   "execution_count": 1,
   "id": "c22ce13f-1cf1-466a-afed-8d731d3fb548",
   "metadata": {},
   "outputs": [],
   "source": [
    "import os\n",
    "import numpy as np\n",
    "import pandas as pd\n",
    "from IPython.display import display, Markdown, Latex\n",
    "from matplotlib import pyplot as plt\n",
    "\n",
    "import econtools\n",
    "from econtools.documents import Homework, RawLatex\n",
    "from utils import SREQ, AdValoremSR, Laffer\n",
    "\n",
    "filename = \"econ-310-hw03\"\n",
    "\n",
    "doc = Homework(\n",
    "    title = r\"Econ 310 Week 3 Homework\",\n",
    "    due_date = r\"Tuesday 9/17\"\n",
    ")\n"
   ]
  },
  {
   "cell_type": "code",
   "execution_count": 2,
   "id": "b56109b2-55e0-4b86-8b2b-d5f2b602b63d",
   "metadata": {},
   "outputs": [
    {
     "data": {
      "text/latex": [
       "\n",
       "A commodity \\(q\\) is traded at price \\(p\\) in a competitive market with price-taking consumers and firms. \\\\\n",
       "        \n",
       "There are \\(120\\) identical consumers each with income \\(Y=100\\). Each consumer has a utility function over numeraire consumption \\(c\\) and commodity \\(q\\) given by:\n",
       "\n",
       "$$u(c,q) = c + 18q-\\frac{ 1 }{ 2 }q^{ 2 } $$\n",
       "\n",
       "There are \\(24\\) identical firms each with cost function given by:\n",
       "\n",
       "$$c(q) = \\frac{ 1 }{ 10 }q^{ 2 } $$\n"
      ],
      "text/plain": [
       "<IPython.core.display.Latex object>"
      ]
     },
     "metadata": {},
     "output_type": "display_data"
    },
    {
     "name": "stdout",
     "output_type": "stream",
     "text": [
      "\n",
      "\\begin{enumerate}[a.]\n",
      "\\item Write down the consumer's first order condition.\n",
      "\\item Write down the firm's first order condition.\n",
      "\\item Write down the market equilibrium condition.\n",
      "\\item Solve for the equilibrium price and total quantity.\n",
      "\\item Calculate total consumer utility and total firm profit in equilibrium.\n",
      "\\end{enumerate}\n",
      "\n",
      "\n",
      "Solutions:\n",
      "{'Q': 1080.0, 'p': 9.0, 'qd': 9.0, 'qs': 45.0, 'c': 19.0, 'revenue': 405.0, 'cost': 202.5, 'profit': 202.5, 'total_profit': 4860.0, 'utility': 140.5, 'total_utility': 16860.0, 'total_surplus': 21720.0}\n"
     ]
    }
   ],
   "source": [
    "# Basic SREQ question\n",
    "\n",
    "df = pd.read_csv(\"AdValoremSR_examples.csv\")\n",
    "mydf = df.loc[ (df['tp']>0) & (df['delta']==0) ]\n",
    "params = dict(mydf.sample(1,random_state=2).reset_index(drop=True).loc[0])\n",
    "prob = AdValoremSR(params)\n",
    "\n",
    "setup = prob.no_tax.setup()\n",
    "display(Latex(setup))\n",
    "\n",
    "questions = fr\"\"\"\n",
    "\\begin{{enumerate}}[a.]\n",
    "\\item Write down the consumer's first order condition.\n",
    "\\item Write down the firm's first order condition.\n",
    "\\item Write down the market equilibrium condition.\n",
    "\\item Solve for the equilibrium price and total quantity.\n",
    "\\item Calculate total consumer utility and total firm profit in equilibrium.\n",
    "\\end{{enumerate}}\n",
    "\"\"\"\n",
    "print(questions)\n",
    "\n",
    "latex = \"\\\\begin{q}\\n\" + setup + questions + \"\\\\end{q}\\n\"\n",
    "doc.add(RawLatex(latex))\n",
    "print(\"\\nSolutions:\")\n",
    "print(prob.no_tax.sol)\n"
   ]
  },
  {
   "cell_type": "code",
   "execution_count": null,
   "id": "5cc98ee2-9b74-4314-992b-dd896881c0c3",
   "metadata": {},
   "outputs": [],
   "source": []
  },
  {
   "cell_type": "code",
   "execution_count": 3,
   "id": "5119c507-4116-4942-8e85-213f1bebf52e",
   "metadata": {},
   "outputs": [
    {
     "data": {
      "text/latex": [
       "\n",
       "Take the setup from problem 1. Suppose an ad valorem tax rate of \\(20\\%\\) is placed on producers.\n"
      ],
      "text/plain": [
       "<IPython.core.display.Latex object>"
      ]
     },
     "metadata": {},
     "output_type": "display_data"
    },
    {
     "name": "stdout",
     "output_type": "stream",
     "text": [
      "\n",
      "\\begin{enumerate}[a.]\n",
      "\\item Find the equilibrium price and total quantity traded under the tax.\n",
      "\\item Calculate the tax revenue raised by the tax.\n",
      "\\item Calculate the deadweight loss caused by the tax.\n",
      "\\end{enumerate}\n",
      "\n",
      "Solutions\n",
      "{'Q': 960.0000000000001, 'p': 10.0, 'qd': 8.000000000000002, 'qs': 40.00000000000001, 'c': 19.999999999999986, 'revenue': 320.00000000000006, 'cost': 160.00000000000006, 'profit': 160.0, 'total_profit': 3840.0, 'utility': 132.0, 'total_utility': 15840.0, 'tax_revenue': 1920.0000000000002, 'total_surplus': 21600.0, 'DWL': 120.0}\n"
     ]
    }
   ],
   "source": [
    "# Tax question\n",
    "\n",
    "setup = fr\"\"\"\n",
    "Take the setup from problem 1. Suppose an ad valorem tax rate of \\({prob.params['tp']*100:g}\\%\\) is placed on producers.\n",
    "\"\"\"\n",
    "display(Latex(setup))\n",
    "\n",
    "questions = fr\"\"\"\n",
    "\\begin{{enumerate}}[a.]\n",
    "\\item Find the equilibrium price and total quantity traded under the tax.\n",
    "\\item Calculate the tax revenue raised by the tax.\n",
    "\\item Calculate the deadweight loss caused by the tax.\n",
    "\\end{{enumerate}}\n",
    "\"\"\"\n",
    "print(questions)\n",
    "\n",
    "print(\"Solutions\")\n",
    "print(prob.sol)\n",
    "\n",
    "latex = \"\\\\begin{q}\\n\" + setup + questions + \"\\\\end{q}\\n\"\n",
    "doc.add(RawLatex(latex))"
   ]
  },
  {
   "cell_type": "code",
   "execution_count": 4,
   "id": "b127d138-1908-49d2-85d1-847b484bbf5e",
   "metadata": {},
   "outputs": [
    {
     "data": {
      "text/latex": [
       "\n",
       "Take the setup from problem 2. Suppose that instead of using an ad-valorem tax, a lump sum tax is levied on producers that \n",
       "generates the same tax revenue.\n"
      ],
      "text/plain": [
       "<IPython.core.display.Latex object>"
      ]
     },
     "metadata": {},
     "output_type": "display_data"
    },
    {
     "name": "stdout",
     "output_type": "stream",
     "text": [
      "\n",
      "\\begin{enumerate}[a.]\n",
      "\\item What amount of tax must be charged to each producer in order to raise the same revenue from problem 2?\n",
      "\\item Find the equilibrium price, total quantity, and total surplus under the lump sum tax. (Hint: Based on the lump sum principle, you shouldn't have to solve any new equations.)\n",
      "\\end{enumerate}\n",
      "\n",
      "Solutions\n",
      "{'Q': 1080.0, 'p': 9.0, 'qd': 9.0, 'qs': 45.0, 'c': 3.0, 'revenue': 405.0, 'cost': 202.5, 'profit': 202.5, 'total_profit': 4860.0, 'utility': 124.5, 'total_utility': 14940.0, 'total_surplus': 21720.0, 'tax_revenue': 1920.0000000000002}\n"
     ]
    }
   ],
   "source": [
    "# Lump sum question\n",
    "\n",
    "setup = fr\"\"\"\n",
    "Take the setup from problem 2. Suppose that instead of using an ad-valorem tax, a lump sum tax is levied on producers that \n",
    "generates the same tax revenue.\n",
    "\"\"\"\n",
    "display(Latex(setup))\n",
    "\n",
    "questions = fr\"\"\"\n",
    "\\begin{{enumerate}}[a.]\n",
    "\\item What amount of tax must be charged to each producer in order to raise the same revenue from problem 2?\n",
    "\\item Find the equilibrium price, total quantity, and total surplus under the lump sum tax. (Hint: Based on the lump sum principle, you shouldn't have to solve any new equations.)\n",
    "\\end{{enumerate}}\n",
    "\"\"\"\n",
    "print(questions)\n",
    "\n",
    "\n",
    "print(\"Solutions\")\n",
    "print(prob.lump_sum.sol)\n",
    "\n",
    "latex = \"\\\\begin{q}\\n\" + setup + questions + \"\\\\end{q}\\n\"\n",
    "doc.add(RawLatex(latex))\n"
   ]
  },
  {
   "cell_type": "code",
   "execution_count": 5,
   "id": "12939362-3037-4e68-9dfb-cd82888b540a",
   "metadata": {},
   "outputs": [
    {
     "data": {
      "text/latex": [
       "\n",
       "A commodity \\(q\\) is traded at price \\(p\\) in a competitive market with price-taking consumers and firms. \\\\\n",
       "        \n",
       "There are \\(400\\) identical consumers each with income \\(Y=100\\). Each consumer has a utility function over numeraire consumption \\(c\\) and commodity \\(q\\) given by:\n",
       "\n",
       "$$u(c,q) = c + 4q-\\frac{ 1 }{ 2 }q^{ 2 } $$\n",
       "\n",
       "There are \\(50\\) identical firms each with cost function given by:\n",
       "\n",
       "$$c(q) = \\frac{ 1 }{ 2 }q^{ 2 } $$\n",
       "\n",
       "An ad-valorem tax rate of \\(t\\) is levied on the producers.\n"
      ],
      "text/plain": [
       "<IPython.core.display.Latex object>"
      ]
     },
     "metadata": {},
     "output_type": "display_data"
    },
    {
     "name": "stdout",
     "output_type": "stream",
     "text": [
      "\n",
      "\\begin{enumerate}[a.]\n",
      "\\item Prove that the equilibrium price is equal to: \n",
      "$$ p = \\frac{ 32 }{ 9 - t } $$\n",
      "\\item Prove that the equilibrium quantity is equal to: \n",
      "$$ Q = 1,600 \\left( \\frac{ 1-t }{ 9 - t } \\right) $$\n",
      "\\item Use Excel or any other software to plot tax revenue as $t$ goes from 0\\% to 100\\%. How would you describe the shape of this curve? At approximately what tax rate is the tax revenue maximized? This pattern is known as the Laffer Curve.\n",
      "\\end{enumerate}\n",
      "\n"
     ]
    }
   ],
   "source": [
    "# Laffer curve\n",
    "\n",
    "df = pd.read_csv(\"Laffer_examples.csv\")\n",
    "params = dict(df.sample(1,random_state=5).reset_index(drop=True).loc[0])\n",
    "prob = Laffer(params)\n",
    "\n",
    "setup = prob.setup()\n",
    "display(Latex(setup))\n",
    "\n",
    "questions = fr\"\"\"\n",
    "\\begin{{enumerate}}[a.]\n",
    "\\item Prove that the equilibrium price is equal to: \n",
    "$$ p = {prob.formula_p()} $$\n",
    "\\item Prove that the equilibrium quantity is equal to: \n",
    "$$ Q = {prob.formula_q()} $$\n",
    "\\item Use Excel or any other software to plot tax revenue as $t$ goes from 0\\% to 100\\%. How would you describe the shape of this curve? At approximately what tax rate is the tax revenue maximized? This pattern is known as the Laffer Curve.\n",
    "\\end{{enumerate}}\n",
    "\"\"\"\n",
    "print(questions)\n",
    "\n",
    "latex = \"\\\\begin{q}\\n\" + setup + questions + \"\\\\end{q}\\n\"\n",
    "doc.add(RawLatex(latex))\n"
   ]
  },
  {
   "cell_type": "code",
   "execution_count": 6,
   "id": "d3c8b391-8cc1-49d3-8ce8-a2894533df71",
   "metadata": {},
   "outputs": [],
   "source": [
    "doc.print_pdf(filename, \"tex\")"
   ]
  },
  {
   "cell_type": "code",
   "execution_count": 7,
   "id": "ad79651f-8b0b-4864-8372-cad8ecd1749b",
   "metadata": {},
   "outputs": [
    {
     "data": {
      "text/plain": [
       "[<matplotlib.lines.Line2D at 0x127bab408b0>]"
      ]
     },
     "execution_count": 7,
     "metadata": {},
     "output_type": "execute_result"
    },
    {
     "data": {
      "image/png": "[encoded data removed]",
      "text/plain": [
       "<Figure size 432x288 with 1 Axes>"
      ]
     },
     "metadata": {
      "needs_background": "light"
     },
     "output_type": "display_data"
    }
   ],
   "source": [
    "t, R = prob.get_plot_xy()\n",
    "plt.plot(t, R)"
   ]
  }
 ],
 "metadata": {
  "kernelspec": {
   "display_name": "Python 3 (ipykernel)",
   "language": "python",
   "name": "python3"
  },
  "language_info": {
   "codemirror_mode": {
    "name": "ipython",
    "version": 3
   },
   "file_extension": ".py",
   "mimetype": "text/x-python",
   "name": "python",
   "nbconvert_exporter": "python",
   "pygments_lexer": "ipython3",
   "version": "3.10.5"
  }
 },
 "nbformat": 4,
 "nbformat_minor": 5
}
