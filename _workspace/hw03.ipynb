{
 "cells": [
  {
   "cell_type": "code",
   "execution_count": 1,
   "id": "c22ce13f-1cf1-466a-afed-8d731d3fb548",
   "metadata": {},
   "outputs": [],
   "source": [
    "import os\n",
    "import numpy as np\n",
    "import pandas as pd\n",
    "from IPython.display import display, Markdown, Latex\n",
    "from matplotlib import pyplot as plt\n",
    "\n",
    "import econtools\n",
    "from econtools.documents import Homework, RawLatex\n",
    "from utils import Laffer\n",
    "\n",
    "filename = \"hw03\"\n",
    "\n",
    "doc = Homework(\n",
    "    title = r\"Econ 310 Week 3 Homework\",\n",
    "    due_date = r\"Tuesday 9/17\"\n",
    ")\n"
   ]
  },
  {
   "cell_type": "code",
   "execution_count": 2,
   "id": "4c6ea3e4-ab6c-4a05-8373-cea35b59a650",
   "metadata": {},
   "outputs": [
    {
     "name": "stdout",
     "output_type": "stream",
     "text": [
      "{'N': 120, 'M': 120, 'alpha': 14, 'tp': 0.25, 'p': '$$ p = \\\\frac{ 14 }{ 2 - t } $$', 'Q': '$$ Q = 1,680 \\\\left( \\\\frac{ 1-t }{ 2 - t } \\\\right) $$'}\n"
     ]
    }
   ],
   "source": [
    "df = pd.read_csv(\"Laffer_examples.csv\")\n",
    "params = dict(df.sample(1,random_state=2).reset_index(drop=True).loc[0])\n",
    "prob = Laffer(params)\n",
    "print(params)"
   ]
  },
  {
   "cell_type": "code",
   "execution_count": 3,
   "id": "bc8b8d4a-a736-45dd-964d-7935ea139461",
   "metadata": {},
   "outputs": [
    {
     "data": {
      "text/latex": [
       "\n",
       "A commodity $q$ is traded at price $p$ in a competitive market with price-taking consumers and firms. \\\\\n",
       "        \n",
       "There are $120$ identical consumers each with income $Y=100$. Each consumer has a utility function over numeraire consumption $c$ and commodity $q$ given by:\n",
       "\n",
       "$$u(c,q) = c + 14q - 0.5q^2$$\n",
       "\n",
       "There are $120$ identical firms each with cost function given by:\n",
       "\n",
       "$$c(q) = 0.5q^2$$\n",
       "\n"
      ],
      "text/plain": [
       "<IPython.core.display.Latex object>"
      ]
     },
     "metadata": {},
     "output_type": "display_data"
    },
    {
     "name": "stdout",
     "output_type": "stream",
     "text": [
      "\n",
      "\\begin{enumerate}[a.]\n",
      "\\item Write down the consumer's first order condition.\n",
      "\\item Write down the firm's first order condition.\n",
      "\\item Write down the market equilibrium condition.\n",
      "\\item Find the equilibrium price and total quantity traded.\n",
      "\\item Calculate total consumer utility and total firm profit in the equilibrium.\n",
      "\\end{enumerate}\n",
      "\n",
      "\n",
      "Solutions, no tax:\n",
      "{'Q': 840.0, 'p': 7.0, 'qd': 7.0, 'qs': 7.0, 'c': 51.0, 'revenue': 49.0, 'cost': 24.5, 'profit': 24.5, 'total_profit': 2940.0, 'utility': 124.5, 'total_utility': 14940.0, 'total_surplus': 17880.0}\n"
     ]
    }
   ],
   "source": [
    "# Baseline market\n",
    "\n",
    "setup = prob.sreq.setup()\n",
    "\n",
    "questions = fr\"\"\"\n",
    "\\begin{{enumerate}}[a.]\n",
    "\\item Write down the consumer's first order condition.\n",
    "\\item Write down the firm's first order condition.\n",
    "\\item Write down the market equilibrium condition.\n",
    "\\item Find the equilibrium price and total quantity traded.\n",
    "\\item Calculate total consumer utility and total firm profit in the equilibrium.\n",
    "\\end{{enumerate}}\n",
    "\"\"\"\n",
    "\n",
    "latex = \"\\\\begin{q}\\n\" + setup + questions + \"\\\\end{q}\\n\"\n",
    "doc.add(RawLatex(latex))\n",
    "display(Latex(setup))\n",
    "print(questions)\n",
    "print(\"\\nSolutions, no tax:\")\n",
    "print(prob.sreq.sol)"
   ]
  },
  {
   "cell_type": "code",
   "execution_count": 4,
   "id": "d8869e54-e48b-48d2-813a-8f96b8f54972",
   "metadata": {},
   "outputs": [
    {
     "data": {
      "text/latex": [
       "\n",
       "Take the setup from problem 1. Suppose an ad valorem tax rate of 25\\% is placed on producers.\n"
      ],
      "text/plain": [
       "<IPython.core.display.Latex object>"
      ]
     },
     "metadata": {},
     "output_type": "display_data"
    },
    {
     "name": "stdout",
     "output_type": "stream",
     "text": [
      "\n",
      "\\begin{enumerate}[a.]\n",
      "\\item Find the equilibrium price and total quantity traded under the tax.\n",
      "\\item Calculate the tax revenue raised by the tax.\n",
      "\\item Calculate the deadweight loss caused by the tax.\n",
      "\\end{enumerate}\n",
      "\n",
      "\n",
      "Solutions:\n",
      "{'Q': 720.0, 'p': 8.0, 'qd': 6.0, 'qs': 6.0, 'c': 52.0, 'revenue': 36.0, 'cost': 18.0, 'profit': 18.0, 'total_profit': 2160.0, 'utility': 118.0, 'total_utility': 14160.0, 'tax_revenue': 1440.0, 'total_surplus': 17760.0, 'DWL': 120.0}\n"
     ]
    }
   ],
   "source": [
    "# With tax\n",
    "\n",
    "setup = fr\"\"\"\n",
    "Take the setup from problem 1. Suppose an ad valorem tax rate of {prob.params['tp']*100:.0f}\\% is placed on producers.\n",
    "\"\"\"\n",
    "\n",
    "questions = fr\"\"\"\n",
    "\\begin{{enumerate}}[a.]\n",
    "\\item Find the equilibrium price and total quantity traded under the tax.\n",
    "\\item Calculate the tax revenue raised by the tax.\n",
    "\\item Calculate the deadweight loss caused by the tax.\n",
    "\\end{{enumerate}}\n",
    "\"\"\"\n",
    "\n",
    "latex = \"\\\\begin{q}\\n\" + setup + questions + \"\\\\end{q}\\n\"\n",
    "doc.add(RawLatex(latex))\n",
    "display(Latex(setup))\n",
    "print(questions)\n",
    "print(\"\\nSolutions:\")\n",
    "print(prob.av.sol)"
   ]
  },
  {
   "cell_type": "code",
   "execution_count": 5,
   "id": "10e22860-f48e-4842-acf6-586389e1da6b",
   "metadata": {},
   "outputs": [
    {
     "data": {
      "text/latex": [
       "\n",
       "Take the setup from problem 2. Suppose instead of using an ad valorem tax, a lump sum tax is imposed on the producers in order to raise the same total revenue.\n"
      ],
      "text/plain": [
       "<IPython.core.display.Latex object>"
      ]
     },
     "metadata": {},
     "output_type": "display_data"
    },
    {
     "name": "stdout",
     "output_type": "stream",
     "text": [
      "\n",
      "\\begin{enumerate}[a.]\n",
      "\\item What amount of tax must be charged to each producer, in order to raise the same revenue as in problem 2?\n",
      "\\item Find the equilibrium price, total quantity, and total surplus under the lump sum tax. (Hint: Based on the lump sum principle, you shouldn't have to solve any new equations.)\n",
      "\\end{enumerate}\n",
      "\n"
     ]
    }
   ],
   "source": [
    "# Lump sum\n",
    "\n",
    "setup = fr\"\"\"\n",
    "Take the setup from problem 2. Suppose instead of using an ad valorem tax, a lump sum tax is imposed on the producers in order to raise the same total revenue.\n",
    "\"\"\"\n",
    "\n",
    "questions = fr\"\"\"\n",
    "\\begin{{enumerate}}[a.]\n",
    "\\item What amount of tax must be charged to each producer, in order to raise the same revenue as in problem 2?\n",
    "\\item Find the equilibrium price, total quantity, and total surplus under the lump sum tax. (Hint: Based on the lump sum principle, you shouldn't have to solve any new equations.)\n",
    "\\end{{enumerate}}\n",
    "\"\"\"\n",
    "\n",
    "latex = \"\\\\begin{q}\\n\" + setup + questions + \"\\\\end{q}\\n\"\n",
    "doc.add(RawLatex(latex))\n",
    "display(Latex(setup))\n",
    "print(questions)\n"
   ]
  },
  {
   "cell_type": "code",
   "execution_count": 6,
   "id": "12939362-3037-4e68-9dfb-cd82888b540a",
   "metadata": {},
   "outputs": [
    {
     "data": {
      "text/latex": [
       "\n",
       "[Extra Credit] Return to the setup from problem 1. An ad valorem tax rate of $t$ is charged to the producers.\n"
      ],
      "text/plain": [
       "<IPython.core.display.Latex object>"
      ]
     },
     "metadata": {},
     "output_type": "display_data"
    },
    {
     "name": "stdout",
     "output_type": "stream",
     "text": [
      "\n",
      "\\begin{enumerate}[a.]\n",
      "\\item Prove that the equilibrium price is equal to: \n",
      "$$ p = \\frac{ 14 }{ 2 - t } $$\n",
      "\\item Prove that the equilibrium quantity is equal to: \n",
      "$$ Q = 1,680 \\left( \\frac{ 1-t }{ 2 - t } \\right) $$\n",
      "\\item Use Excel or any other software to plot tax revenue as $t$ goes from 0\\% to 100\\%. How would you describe the shape of this curve? At approximately what tax rate is the tax revenue maximized? This pattern is known as the Laffer Curve.\n",
      "\\end{enumerate}\n",
      "\n"
     ]
    }
   ],
   "source": [
    "# Laffer curve\n",
    "\n",
    "setup = fr\"\"\"\n",
    "Return to the setup from problem 1. An ad valorem tax rate of $t$ is charged to the producers.\n",
    "\"\"\"\n",
    "\n",
    "questions = fr\"\"\"\n",
    "\\begin{{enumerate}}[a.]\n",
    "\\item Prove that the equilibrium price is equal to: \n",
    "{prob.formula_p()}\n",
    "\\item Prove that the equilibrium quantity is equal to: \n",
    "{prob.formula_q()}\n",
    "\\item Use Excel or any other software to plot tax revenue as $t$ goes from 0\\% to 100\\%. How would you describe the shape of this curve? At approximately what tax rate is the tax revenue maximized? This pattern is known as the Laffer Curve.\n",
    "\\end{{enumerate}}\n",
    "\"\"\"\n",
    "\n",
    "latex = \"\\\\begin{q}\\n\" + setup + questions + \"\\\\end{q}\\n\"\n",
    "doc.add(RawLatex(latex))\n",
    "display(Latex(setup))\n",
    "print(questions)\n"
   ]
  },
  {
   "cell_type": "code",
   "execution_count": 7,
   "id": "d3c8b391-8cc1-49d3-8ce8-a2894533df71",
   "metadata": {},
   "outputs": [],
   "source": [
    "doc.print_pdf(filename, \"tex\")"
   ]
  },
  {
   "cell_type": "code",
   "execution_count": 8,
   "id": "ad79651f-8b0b-4864-8372-cad8ecd1749b",
   "metadata": {},
   "outputs": [
    {
     "data": {
      "text/plain": [
       "[<matplotlib.lines.Line2D at 0x21d04974ca0>]"
      ]
     },
     "execution_count": 8,
     "metadata": {},
     "output_type": "execute_result"
    },
    {
     "data": {
      "image/png": "[encoded data removed]",
      "text/plain": [
       "<Figure size 432x288 with 1 Axes>"
      ]
     },
     "metadata": {
      "needs_background": "light"
     },
     "output_type": "display_data"
    }
   ],
   "source": [
    "t = np.arange(0,1.01,0.01)\n",
    "p = 14/(2-t)\n",
    "Q = 1680*(1-t)/(2-t)\n",
    "R = t*p*Q\n",
    "plt.plot(t, R)"
   ]
  }
 ],
 "metadata": {
  "kernelspec": {
   "display_name": "Python 3 (ipykernel)",
   "language": "python",
   "name": "python3"
  },
  "language_info": {
   "codemirror_mode": {
    "name": "ipython",
    "version": 3
   },
   "file_extension": ".py",
   "mimetype": "text/x-python",
   "name": "python",
   "nbconvert_exporter": "python",
   "pygments_lexer": "ipython3",
   "version": "3.10.5"
  }
 },
 "nbformat": 4,
 "nbformat_minor": 5
}
