{
 "cells": [
  {
   "cell_type": "code",
   "execution_count": 1,
   "id": "df12c667-f8cc-4876-afdf-cddca13bfae7",
   "metadata": {},
   "outputs": [],
   "source": [
    "import numpy as np\n",
    "import pandas as pd\n",
    "from matplotlib import pyplot as plt\n",
    "from matplotlib import cm\n",
    "from IPython.display import display, Markdown, Latex\n",
    "import pickle\n",
    "rng = np.random.default_rng(123)\n",
    "\n",
    "SMALL_SIZE = 12\n",
    "MEDIUM_SIZE = 14\n",
    "LARGE_SIZE = 16\n",
    "\n",
    "plt.rcdefaults()\n",
    "plt.rcParams['text.usetex'] = True\n",
    "plt.rcParams['font.family'] = 'Helvetica'\n",
    "plt.rcParams['font.size'] = MEDIUM_SIZE\n",
    "plt.rcParams['axes.titlesize'] = LARGE_SIZE\n",
    "plt.rcParams['axes.labelsize'] = MEDIUM_SIZE\n",
    "plt.rcParams['xtick.labelsize'] = SMALL_SIZE\n",
    "plt.rcParams['ytick.labelsize'] = SMALL_SIZE\n",
    "plt.rcParams['legend.fontsize'] = MEDIUM_SIZE\n",
    "plt.rcParams['figure.titlesize'] = LARGE_SIZE\n",
    "plt.rcParams['figure.figsize'] = [7.2, 4.8]\n",
    "plt.rcParams['figure.dpi'] = 60\n",
    "plt.rcParams['figure.facecolor'] = (1.0, 1.0, 1.0, 0.0)\n",
    "\n",
    "from utils import Cournot2, get_random_prob\n"
   ]
  },
  {
   "cell_type": "code",
   "execution_count": 2,
   "id": "3563aed5-4b34-4b26-b165-0dcf845940f8",
   "metadata": {},
   "outputs": [],
   "source": [
    "prob = Cournot2()"
   ]
  },
  {
   "cell_type": "code",
   "execution_count": 3,
   "id": "db970bbd-e337-4d3c-bb3b-e39d955e7112",
   "metadata": {},
   "outputs": [
    {
     "data": {
      "text/latex": [
       "\n",
       "Consumers in a market for commodity \\(q\\) have an (inverse) demand curve given by:\n",
       "\n",
       "$$p = A - BQ$$\n",
       "\n",
       "The market is supplied by two firms. The cost function of firm 1 is:\n",
       "\n",
       "$$c_1(q_1) = a_1 q_1 + b_1 q_1^2 $$\n",
       "\n",
       "The cost function of firm 2 is:\n",
       "\n",
       "$$ c_2(q_2) = a_2 q_2 + b_2 q_2^2 $$\n",
       "\n",
       "The first order conditions result in:\n",
       "\n",
       "$$ 2(B+b_1)q_1 + Bq_2 = A-a_1 $$\n",
       "\n",
       "$$ Bq_1 + 2(B+b_2)q_2 = A-a_2 $$\n",
       "\n",
       "Which can be solved using linear algebra.\n"
      ],
      "text/plain": [
       "<IPython.core.display.Latex object>"
      ]
     },
     "metadata": {},
     "output_type": "display_data"
    }
   ],
   "source": [
    "display(Latex(prob.general_setup()))"
   ]
  },
  {
   "cell_type": "code",
   "execution_count": 4,
   "id": "7b24ea0a-2590-4cb2-ad0b-81970351ad7f",
   "metadata": {},
   "outputs": [
    {
     "data": {
      "text/latex": [
       "\n",
       "Consumers in a market for commodity \\(q\\) have a demand curve given by:\n",
       "\n",
       "$$ Q_d = 14-p $$\n",
       "\n",
       "The market is supplied by two firms. The cost function of firm 1 is:\n",
       "\n",
       "$$ c_1(q_1) = 2q_1 $$\n",
       "\n",
       "The cost function of firm 2 is:\n",
       "\n",
       "$$ c_2(q_2) = 2q_2 $$\n",
       "\n",
       "The firms engage in Cournot competition (i.e. they simultaneously decide how much quantity to produce; the market price is then determined by the total quantity produced by all firms).\n"
      ],
      "text/plain": [
       "<IPython.core.display.Latex object>"
      ]
     },
     "metadata": {},
     "output_type": "display_data"
    },
    {
     "name": "stdout",
     "output_type": "stream",
     "text": [
      "{'A': 14, 'B': 1, 'a1': 2, 'b1': 0, 'a2': 2, 'b2': 0}\n",
      "{'q1': 4.0, 'q2': 4.0, 'Q': 8.0, 'p': 6.0, 'profit1': 16.0, 'profit2': 16.0}\n",
      "True\n"
     ]
    }
   ],
   "source": [
    "display(Latex(prob.setup()))\n",
    "print(prob.params)\n",
    "print(prob.sol)\n",
    "print(prob.check_solutions())"
   ]
  },
  {
   "cell_type": "code",
   "execution_count": 5,
   "id": "15ddb811-f013-443b-a1d1-e5a655751a32",
   "metadata": {},
   "outputs": [
    {
     "name": "stdout",
     "output_type": "stream",
     "text": [
      "1000 eamples found...\n",
      "2000 eamples found...\n",
      "3000 eamples found...\n",
      "4000 eamples found...\n",
      "4782 examples found.\n"
     ]
    }
   ],
   "source": [
    "examples = []\n",
    "n_found = 0\n",
    "for A in np.arange(8,37):\n",
    "    for B in [1, 0.5, 2]:\n",
    "        for a1 in np.arange(1,9):\n",
    "            for b1 in [0, 0.5, 1]:\n",
    "                for a2 in np.arange(1,9):\n",
    "                    for b2 in [0, 0.5, 1]:\n",
    "                        params = {'A':A, 'B':B, 'a1':a1, 'b1':b1, 'a2':a2, 'b2':b2}\n",
    "                        prob = Cournot2(params)\n",
    "                        if prob.check_solutions():\n",
    "                            examples.append(params | prob.sol)\n",
    "                            n_found+=1\n",
    "                            if (n_found%1000==0):\n",
    "                                print(f\"{n_found} eamples found...\")\n",
    "examples = pd.DataFrame.from_dict(examples)\n",
    "examples.to_csv(\"Cournot2_examples.csv\", index=False, header=True)\n",
    "print(f\"{len(examples)} examples found.\")"
   ]
  },
  {
   "cell_type": "code",
   "execution_count": 6,
   "id": "9ef0aa89-9607-4a36-9a95-5427b10a8009",
   "metadata": {},
   "outputs": [
    {
     "data": {
      "text/latex": [
       "\n",
       "Consumers in a market for commodity \\(q\\) have a demand curve given by:\n",
       "\n",
       "$$ Q_d = 18-2p $$\n",
       "\n",
       "The market is supplied by two firms. The cost function of firm 1 is:\n",
       "\n",
       "$$ c_1(q_1) = 2q_1 $$\n",
       "\n",
       "The cost function of firm 2 is:\n",
       "\n",
       "$$ c_2(q_2) = 2q_2+\\frac{ 1 }{ 2 }q_2^{ 2 } $$\n",
       "\n",
       "The firms engage in Cournot competition (i.e. they simultaneously decide how much quantity to produce; the market price is then determined by the total quantity produced by all firms).\n"
      ],
      "text/plain": [
       "<IPython.core.display.Latex object>"
      ]
     },
     "metadata": {},
     "output_type": "display_data"
    },
    {
     "name": "stdout",
     "output_type": "stream",
     "text": [
      "{'A': 9.0, 'B': 0.5, 'a1': 2.0, 'b1': 0.0, 'a2': 2.0, 'b2': 0.5}\n",
      "{'q1': 6.0, 'q2': 2.0, 'Q': 8.0, 'p': 5.0, 'profit1': 18.0, 'profit2': 4.0}\n",
      "True\n"
     ]
    }
   ],
   "source": [
    "myprob = get_random_prob(Cournot2, \"Cournot2_examples.csv\")\n",
    "display(Latex(myprob.setup()))\n",
    "print(myprob.params)\n",
    "print(myprob.sol)\n",
    "print(myprob.check_solutions())"
   ]
  },
  {
   "cell_type": "code",
   "execution_count": null,
   "id": "9c33c252-8a9a-4311-8f44-d7a55b86c796",
   "metadata": {},
   "outputs": [],
   "source": []
  }
 ],
 "metadata": {
  "kernelspec": {
   "display_name": "Python 3 (ipykernel)",
   "language": "python",
   "name": "python3"
  },
  "language_info": {
   "codemirror_mode": {
    "name": "ipython",
    "version": 3
   },
   "file_extension": ".py",
   "mimetype": "text/x-python",
   "name": "python",
   "nbconvert_exporter": "python",
   "pygments_lexer": "ipython3",
   "version": "3.10.6"
  }
 },
 "nbformat": 4,
 "nbformat_minor": 5
}
