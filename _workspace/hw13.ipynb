{
 "cells": [
  {
   "cell_type": "code",
   "execution_count": 1,
   "id": "c22ce13f-1cf1-466a-afed-8d731d3fb548",
   "metadata": {},
   "outputs": [],
   "source": [
    "import os\n",
    "import numpy as np\n",
    "import pandas as pd\n",
    "from IPython.display import display, Markdown, Latex\n",
    "\n",
    "import econtools\n",
    "from econtools.documents import Homework, RawLatex, Multipart\n",
    "import utils2 as u2\n",
    "from matplotlib import pyplot as plt\n",
    "\n",
    "SMALL_SIZE = 14\n",
    "MEDIUM_SIZE = 16\n",
    "LARGE_SIZE = 18\n",
    "HUGE_SIZE = 20\n",
    "\n",
    "plt.rcdefaults()\n",
    "plt.rcParams['text.usetex'] = True\n",
    "plt.rcParams['font.family'] = 'Helvetica'\n",
    "plt.rcParams['font.size'] = MEDIUM_SIZE\n",
    "plt.rcParams['axes.titlesize'] = LARGE_SIZE\n",
    "plt.rcParams['axes.labelsize'] = MEDIUM_SIZE\n",
    "plt.rcParams['xtick.labelsize'] = MEDIUM_SIZE\n",
    "plt.rcParams['ytick.labelsize'] = MEDIUM_SIZE\n",
    "plt.rcParams['legend.fontsize'] = MEDIUM_SIZE\n",
    "plt.rcParams['figure.titlesize'] = LARGE_SIZE\n",
    "plt.rcParams['figure.figsize'] = [7.2, 7.2]\n",
    "plt.rcParams['figure.dpi'] = 60\n",
    "plt.rcParams['figure.facecolor'] = (1.0, 1.0, 1.0, 0.0)\n",
    "\n",
    "OUTPUT_DIR = \"./tex\"\n",
    "IMAGE_PATH = \"./tex\"\n",
    "TITLE = \"Econ 310 Week 13 Problem Set\"\n",
    "DUE_DATE = \"Tuesday 4/29\"\n",
    "FILENAME = \"ec310-hw12\"\n",
    "\n",
    "doc = Homework(\n",
    "    title = TITLE,\n",
    "    due_date = DUE_DATE\n",
    ")\n",
    "rng = np.random.default_rng(112)\n",
    "\n",
    "nprob = 0"
   ]
  },
  {
   "cell_type": "code",
   "execution_count": 2,
   "id": "090ffda7-5e67-4f1b-a77a-d3c3522edda5",
   "metadata": {},
   "outputs": [],
   "source": [
    "TYPE = 'NormalFormProblem'\n",
    "df = pd.read_pickle(f\"{TYPE}.pkl\")\n",
    "idx = df['gametype']==\"Prisoner's Dilemma\"\n",
    "params = dict(df.loc[idx].sample(1,random_state=rng).iloc[0])\n",
    "name = fr\"{FILENAME}-{nprob}\"\n",
    "problem = u2.load_problem(TYPE, params, rng=rng, name=name)\n",
    "doc.add(u2.get_multipart_sa(problem,setup_id=0,question_ids=[0,1]))\n",
    "nprob+=1"
   ]
  },
  {
   "cell_type": "code",
   "execution_count": 3,
   "id": "0662c4a2-3755-4473-b296-eef81c0742bb",
   "metadata": {},
   "outputs": [],
   "source": [
    "TYPE = 'NormalFormProblem'\n",
    "df = pd.read_pickle(f\"{TYPE}.pkl\")\n",
    "idx = df['gametype']==\"Rock Paper Scissors\"\n",
    "params = dict(df.loc[idx].sample(1,random_state=rng).iloc[0])\n",
    "name = fr\"{FILENAME}-{nprob}\"\n",
    "problem = u2.load_problem(TYPE, params, rng=rng, name=name)\n",
    "doc.add(u2.get_multipart_sa(problem,setup_id=0,question_ids=[0,1]))\n",
    "nprob+=1"
   ]
  },
  {
   "cell_type": "code",
   "execution_count": 4,
   "id": "4d8f1f4c-372a-4c3d-af70-0b51312247da",
   "metadata": {},
   "outputs": [],
   "source": [
    "TYPE = 'NormalFormProblem'\n",
    "df = pd.read_pickle(f\"{TYPE}.pkl\")\n",
    "idx = df['gametype']==\"Chicken\"\n",
    "params = dict(df.loc[idx].sample(1,random_state=rng).iloc[0])\n",
    "name = fr\"{FILENAME}-{nprob}\"\n",
    "problem = u2.load_problem(TYPE, params, rng=rng, name=name)\n",
    "doc.add(u2.get_multipart_sa(problem,setup_id=0,question_ids=[0,1]))\n",
    "nprob+=1"
   ]
  },
  {
   "cell_type": "code",
   "execution_count": 5,
   "id": "7e887624-7dd6-4133-9ff7-73e40cc2e8da",
   "metadata": {},
   "outputs": [],
   "source": [
    "TYPE = 'NormalFormProblem'\n",
    "df = pd.read_pickle(f\"{TYPE}.pkl\")\n",
    "idx = df['gametype']==\"Stag Hunt\"\n",
    "params = dict(df.loc[idx].sample(1,random_state=rng).iloc[0])\n",
    "name = fr\"{FILENAME}-{nprob}\"\n",
    "problem = u2.load_problem(TYPE, params, rng=rng, name=name)\n",
    "doc.add(u2.get_multipart_sa(problem,setup_id=0,question_ids=[0,1]))\n",
    "nprob+=1"
   ]
  },
  {
   "cell_type": "code",
   "execution_count": 6,
   "id": "598e4d67-2298-47dd-9ef8-3cf8b70c3871",
   "metadata": {},
   "outputs": [],
   "source": [
    "doc.add(RawLatex(fr\"\"\"\n",
    "\\begin{{q}}\n",
    "Two firms compete by setting prices. Each firm can set either a high or a low price. \n",
    "If both firms set a high price, they each earn \\(\\$10m\\) in profit. \n",
    "If both firms set a low price, they each earn \\(\\$7.5m\\) in profit.\n",
    "If one firm sets a high price while the other sets a low price, the high price firm earns \\(\\$0\\) profit \n",
    "and the low price firm earns \\(\\$15m\\) in profit.\n",
    "\n",
    "Draw the normal form of the game and find the Nash equilibria. How would you describe the strategic dynamics \n",
    "of this game?\n",
    "\\end{{q}}\n",
    "\"\"\"))\n",
    "nprob+=1"
   ]
  },
  {
   "cell_type": "code",
   "execution_count": 7,
   "id": "2c588e08-a260-4303-9ace-e6f977bd5464",
   "metadata": {},
   "outputs": [],
   "source": [
    "doc.add(RawLatex(fr\"\"\"\n",
    "\\begin{{q}}\n",
    "During the Cuban Missile Crisis, a US ship blockaded a USSR ship carrying ballistic missiles. The US ship can \n",
    "either fire on the USSR ship or let it go. The USSR ship can either run the blockade or turn back.\n",
    "\\begin{{itemize}}\n",
    "\\item If the US lets the ship go and the USSR turns back, nothing happens (payoffs are zero).\n",
    "\\item If the US fires on the ship and the USSR turns back, the US gains prestige and the USSR loses prestige. \n",
    "Let the payoff of gaining prestige be \\(1\\) and let the payoff of losing prestige by \\(-1\\).\n",
    "\\item If the US lets the ship go and the USSR runs the blockade, the US loses prestige and the USSR gains prestige.\n",
    "\\item If the US fires on the ship as the USSR runs the blockade, a nuclear war is triggered with payoffs of \\(-\\infty\\) \n",
    "for both countries.\n",
    "\\end{{itemize}}\n",
    "Draw the normal form of the game and find the Nash equilibria. How would you describe the strategic dynamics \n",
    "of this game?\n",
    "\\end{{q}}\n",
    "\"\"\"))\n",
    "nprob+=1"
   ]
  },
  {
   "cell_type": "code",
   "execution_count": 8,
   "id": "bf1162b3-5465-48b4-ac44-59e47faa0a99",
   "metadata": {},
   "outputs": [
    {
     "name": "stdout",
     "output_type": "stream",
     "text": [
      "{'players': ['Player 1', 'Player 2'], 'strategies': [['A', 'B'], ['A', 'B']], 'payoffs': [[[4, 4], [10, 0]], [[0, 10], [6, 6]]], 'gametype': \"Prisoner's Dilemma\"}\n",
      "0:  Consider the 2-player game described by the normal form below:  \\begin{center} \\begin{tabular}{|c|c|c|c|} \\hline  & & \\multicolumn{2}{c|}{ Player 2 } \\\\ \\hline  &  & A & B\\\\ \\hline \\multirow{2}{*}{Player 1}  & A  & 4, 4  & 10, 0 \\\\ \\cline{2-4}  & B  & 0, 10  & 6, 6 \\\\ \\hline  \\end{tabular} \\end{center}  \n",
      "\n",
      "0: Find all the Nash equilibria.\n",
      "\n",
      "1: Do the strategic dynamics of this game most resemble Prisoner's Dilemma, Stag Hunt, Chicken, or Rock Paper Scissors?\n",
      "\n"
     ]
    }
   ],
   "source": [
    "u2.show_menu('NormalFormProblem')\n",
    "#u2.PROBLEM_TYPES"
   ]
  },
  {
   "cell_type": "code",
   "execution_count": 9,
   "id": "d3c8b391-8cc1-49d3-8ce8-a2894533df71",
   "metadata": {},
   "outputs": [],
   "source": [
    "doc.print_pdf(FILENAME, OUTPUT_DIR)"
   ]
  }
 ],
 "metadata": {
  "kernelspec": {
   "display_name": "Python 3 (ipykernel)",
   "language": "python",
   "name": "python3"
  },
  "language_info": {
   "codemirror_mode": {
    "name": "ipython",
    "version": 3
   },
   "file_extension": ".py",
   "mimetype": "text/x-python",
   "name": "python",
   "nbconvert_exporter": "python",
   "pygments_lexer": "ipython3",
   "version": "3.12.8"
  }
 },
 "nbformat": 4,
 "nbformat_minor": 5
}
