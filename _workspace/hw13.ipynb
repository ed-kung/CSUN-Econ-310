{
 "cells": [
  {
   "cell_type": "code",
   "execution_count": 1,
   "id": "3abd9ac5-5177-4dd3-90cf-d44385b5fb2f",
   "metadata": {},
   "outputs": [
    {
     "data": {
      "image/png": "[encoded data removed]",
      "text/plain": [
       "<Figure size 432x432 with 1 Axes>"
      ]
     },
     "metadata": {
      "needs_background": "light"
     },
     "output_type": "display_data"
    }
   ],
   "source": [
    "import os\n",
    "import numpy as np\n",
    "import pandas as pd\n",
    "from IPython.display import display, Markdown, Latex\n",
    "from matplotlib import pyplot as plt\n",
    "\n",
    "import econtools\n",
    "from econtools.documents import Homework, RawLatex\n",
    "from utils import Insurance, Savings\n",
    "from utils import cbeq, polyeq, term, is_divisible, Number\n",
    "\n",
    "rng = np.random.default_rng(130)\n",
    "\n",
    "plt.plot()\n",
    "\n",
    "SMALL_SIZE = 14\n",
    "MEDIUM_SIZE = 16\n",
    "LARGE_SIZE = 18\n",
    "HUGE_SIZE = 20\n",
    "\n",
    "plt.rcdefaults()\n",
    "plt.rcParams['text.usetex'] = True\n",
    "plt.rcParams['font.family'] = 'Helvetica'\n",
    "plt.rcParams['font.size'] = MEDIUM_SIZE\n",
    "plt.rcParams['axes.titlesize'] = LARGE_SIZE\n",
    "plt.rcParams['axes.labelsize'] = MEDIUM_SIZE\n",
    "plt.rcParams['xtick.labelsize'] = MEDIUM_SIZE\n",
    "plt.rcParams['ytick.labelsize'] = MEDIUM_SIZE\n",
    "plt.rcParams['legend.fontsize'] = MEDIUM_SIZE\n",
    "plt.rcParams['figure.titlesize'] = LARGE_SIZE\n",
    "plt.rcParams['figure.figsize'] = [7.2, 7.2]\n",
    "plt.rcParams['figure.dpi'] = 60\n",
    "plt.rcParams['figure.facecolor'] = (1.0, 1.0, 1.0, 0.0)\n",
    "\n",
    "filename = \"econ-310-hw13\"\n",
    "\n",
    "doc = Homework(\n",
    "    title = r\"Econ 310 Week 13 Homework\",\n",
    "    due_date = r\"Tuesday 12/3\"\n",
    ")\n"
   ]
  },
  {
   "cell_type": "code",
   "execution_count": 2,
   "id": "c3b51c31-b235-4a12-9413-e39b75438240",
   "metadata": {},
   "outputs": [
    {
     "data": {
      "text/latex": [
       "\n",
       "A random variable \\(X\\) can take on the following values:\n",
       "\\begin{align*}\n",
       "x_1 &= 7 \\\\x_2 &= 4 \\\\x_3 &= 3 \\\\x_4 &= 0 \\\\x_5 &= 8 \\\\\n",
       "\\end{align*}\n",
       "with probabilities:\n",
       "\\begin{align*}\n",
       "p_1 &= 1 / 4 \\\\p_2 &= 1 / 6 \\\\p_3 &= 1 / 6 \\\\p_4 &= 1 / 12 \\\\p_5 &= 1 / 3 \\\\\n",
       "\\end{align*}\n",
       "Calculate the expected value of \\(X\\).\n"
      ],
      "text/plain": [
       "<IPython.core.display.Latex object>"
      ]
     },
     "metadata": {},
     "output_type": "display_data"
    }
   ],
   "source": [
    "K = 5\n",
    "X = [7, 4, 3, 0, 8]\n",
    "numers = rng.integers(1,K,size=K)\n",
    "denom = np.sum(numers)\n",
    "setup = fr\"\"\"\n",
    "A random variable \\(X\\) can take on the following values:\n",
    "\\begin{{align*}}\n",
    "\"\"\"\n",
    "for k in range(K):\n",
    "    setup += fr\"x_{k+1} &= {X[k]:g} \\\\\"\n",
    "setup += fr\"\"\"\n",
    "\\end{{align*}}\n",
    "with probabilities:\n",
    "\\begin{{align*}}\n",
    "\"\"\"\n",
    "for k in range(K):\n",
    "    setup += fr\"p_{k+1} &= {Number(numers[k],denom).as_frac(inline=True,rmplus=True)} \\\\\"\n",
    "setup += fr\"\"\"\n",
    "\\end{{align*}}\n",
    "Calculate the expected value of \\(X\\).\n",
    "\"\"\"\n",
    "latex = \"\\\\begin{q}\\n\" + setup + \"\\\\end{q}\\n\"\n",
    "doc.add(RawLatex(latex))\n",
    "display(Latex(setup))"
   ]
  },
  {
   "cell_type": "code",
   "execution_count": 3,
   "id": "b43e595d-c035-4d07-8569-c155a42c8360",
   "metadata": {},
   "outputs": [
    {
     "data": {
      "text/latex": [
       "\n",
       "Suppose you rolled two six-sided dice.\n",
       "\n",
       "\\begin{enumerate}[a.]\n",
       "\\item Explain why there are 36 possible outcomes. What is the probability of each outcome? \n",
       "\\item What is the expected value of the sum of the two dice rolls?\n",
       "\\end{enumerate}\n"
      ],
      "text/plain": [
       "<IPython.core.display.Latex object>"
      ]
     },
     "metadata": {},
     "output_type": "display_data"
    }
   ],
   "source": [
    "question = fr\"\"\"\n",
    "Suppose you rolled two six-sided dice.\n",
    "\n",
    "\\begin{{enumerate}}[a.]\n",
    "\\item Explain why there are 36 possible outcomes. What is the probability of each outcome? \n",
    "\\item What is the expected value of the sum of the two dice rolls?\n",
    "\\end{{enumerate}}\n",
    "\"\"\"\n",
    "latex = \"\\\\begin{q}\\n\" + question + \"\\\\end{q}\\n\"\n",
    "doc.add(RawLatex(latex))\n",
    "display(Latex(question))\n"
   ]
  },
  {
   "cell_type": "code",
   "execution_count": 4,
   "id": "2ba2faa4-164e-4131-9a28-655309d9b3e6",
   "metadata": {},
   "outputs": [
    {
     "data": {
      "text/latex": [
       "\n",
       "Jimmy has an initial wealth of $3,000$. There is a $25\\%$ chance that Jimmy breaks his neighbor's window while playing \n",
       "baseball. If he breaks the window, it would cost him $800$ to fix the problem. \n",
       "\n",
       "Let $X$ be a random representing Jimmy's wealth at the end of the day. Jimmy's utility function over wealth is:\n",
       "\n",
       "$$u(X) = \\ln X$$\n",
       "\n",
       "\\begin{enumerate}[a.]\n",
       "\\item Calculate the expected value of $X$.\n",
       "\\item Calculate Jimmy's expected utility.\n",
       "\\item Calculate the certainty equivalent of $X$.\n",
       "\\item How much is Jimmy willing to pay for insurance against the window damage?\n",
       "\\item How much would it cost a risk-neutral insurance company to offer this insurance?\n",
       "\\end{enumerate}\n"
      ],
      "text/plain": [
       "<IPython.core.display.Latex object>"
      ]
     },
     "metadata": {},
     "output_type": "display_data"
    },
    {
     "name": "stdout",
     "output_type": "stream",
     "text": [
      "{'EW': 2800.0, 'UEW': 7.937374696163295, 'EU': 7.928828835574286, 'CE': 2776.173544142922, 'WTP': 223.82645585707814, 'FairCost': 200.0}\n"
     ]
    }
   ],
   "source": [
    "fun = 'ln'\n",
    "W = 3000\n",
    "p = 0.25\n",
    "D = 800\n",
    "params = {'W':W, 'p':p, 'D':D, 'fun':fun}\n",
    "prob = Insurance(params)\n",
    "if fun=='ln':\n",
    "    myfunstr = fr'\\ln X'\n",
    "elif fun=='sqrt':\n",
    "    myfunstr = fr'\\sqrt{{X}}'\n",
    "question = fr\"\"\"\n",
    "Jimmy has an initial wealth of ${W:,g}$. There is a ${p*100:g}\\%$ chance that Jimmy breaks his neighbor's window while playing \n",
    "baseball. If he breaks the window, it would cost him ${D:,g}$ to fix the problem. \n",
    "\n",
    "Let $X$ be a random representing Jimmy's wealth at the end of the day. Jimmy's utility function over wealth is:\n",
    "\n",
    "$$u(X) = {myfunstr}$$\n",
    "\"\"\"\n",
    "question += fr\"\"\"\n",
    "\\begin{{enumerate}}[a.]\n",
    "\\item Calculate the expected value of $X$.\n",
    "\\item Calculate Jimmy's expected utility.\n",
    "\\item Calculate the certainty equivalent of $X$.\n",
    "\\item How much is Jimmy willing to pay for insurance against the window damage?\n",
    "\\item How much would it cost a risk-neutral insurance company to offer this insurance?\n",
    "\\end{{enumerate}}\n",
    "\"\"\"\n",
    "latex = \"\\\\begin{q}\\n\" + question + \"\\\\end{q}\\n\"\n",
    "doc.add(RawLatex(latex))\n",
    "display(Latex(question))\n",
    "print(prob.sol)\n"
   ]
  },
  {
   "cell_type": "code",
   "execution_count": 5,
   "id": "9d579f46-2983-4de6-b236-4cf7578f72c5",
   "metadata": {},
   "outputs": [
    {
     "data": {
      "text/latex": [
       "\n",
       "A person has a utility function over an uncertain amount of wealth, $X$, given by $u(X) = X^{k}$. \n",
       "\n",
       "Prove that if $0<k<1$, then the person is risk averse. Hint: You can do so by showing that the second derivative\n",
       "of the utility function is always negative.\n"
      ],
      "text/plain": [
       "<IPython.core.display.Latex object>"
      ]
     },
     "metadata": {},
     "output_type": "display_data"
    }
   ],
   "source": [
    "question = fr\"\"\"\n",
    "A person has a utility function over an uncertain amount of wealth, $X$, given by $u(X) = X^{{k}}$. \n",
    "\n",
    "Prove that if $0<k<1$, then the person is risk averse. Hint: You can do so by showing that the second derivative\n",
    "of the utility function is always negative.\n",
    "\"\"\"\n",
    "latex = \"\\\\begin{q}\\n\" + question + \"\\\\end{q}\\n\"\n",
    "doc.add(RawLatex(latex))\n",
    "display(Latex(question))"
   ]
  },
  {
   "cell_type": "code",
   "execution_count": 6,
   "id": "15f4ff9d-3388-410b-b62b-51dc7110f472",
   "metadata": {},
   "outputs": [
    {
     "data": {
      "text/latex": [
       "\n",
       "Calcualte the present value of a stream of payments of $\\$2,000$ per year for 50 years when the discount factor is\n",
       "$\\beta = 0.95$.\n"
      ],
      "text/plain": [
       "<IPython.core.display.Latex object>"
      ]
     },
     "metadata": {},
     "output_type": "display_data"
    }
   ],
   "source": [
    "question = fr\"\"\"\n",
    "Calcualte the present value of a stream of payments of $\\$2,000$ per year for 50 years when the discount factor is\n",
    "$\\beta = 0.95$.\n",
    "\"\"\"\n",
    "latex = \"\\\\begin{q}\\n\" + question + \"\\\\end{q}\\n\"\n",
    "doc.add(RawLatex(latex))\n",
    "display(Latex(question))"
   ]
  },
  {
   "cell_type": "code",
   "execution_count": 7,
   "id": "d9f0e6d5-41c6-4519-852a-cabde9195c9f",
   "metadata": {},
   "outputs": [
    {
     "data": {
      "text/latex": [
       "\n",
       "Calcualte the present value of a stream of payments of $\\$2,000$ per year, to be received in perpetuity, when\n",
       "the discount factor is $\\beta = 0.95$.\n"
      ],
      "text/plain": [
       "<IPython.core.display.Latex object>"
      ]
     },
     "metadata": {},
     "output_type": "display_data"
    }
   ],
   "source": [
    "question = fr\"\"\"\n",
    "Calcualte the present value of a stream of payments of $\\$2,000$ per year, to be received in perpetuity, when\n",
    "the discount factor is $\\beta = 0.95$.\n",
    "\"\"\"\n",
    "latex = \"\\\\begin{q}\\n\" + question + \"\\\\end{q}\\n\"\n",
    "doc.add(RawLatex(latex))\n",
    "display(Latex(question))"
   ]
  },
  {
   "cell_type": "code",
   "execution_count": 8,
   "id": "08af3bd9-7b81-4af2-a2be-50e01b57c5ea",
   "metadata": {},
   "outputs": [
    {
     "data": {
      "text/latex": [
       "\n",
       "An individual lives for two periods. In period 1, he earns an income of \\(Y=49,000\\). In period 2, he earns no income. In order to consume in period 2, the person must buy bonds in period 1. A bond promises to pay \\(\\$1\\) per bond in period 2, and the price of a bond in period 1 is \\(p=0.9\\).\n",
       "\n",
       "The individual gets utility from consuming in each period. If he consumes a dollar amount \\(c_t\\) in period \\(t\\), the utility he gets is \\(u(c_t) = \\sqrt{c_t}\\).\n",
       "\n",
       "The individual's objective is to maximize his present value of time-discounted utility:\n",
       "\n",
       "$$ \\sqrt{c_1} + \\beta \\sqrt{c_2} $$\n",
       "\n",
       "where \\(\\beta = 0.98\\).\n",
       "\n",
       "\\begin{enumerate}[a.]\n",
       "\\item Calculate how much the person will consume in each period.\n",
       "\\item How many bonds does the person buy in period 1?\n",
       "\\item Calculate the interest rate on bonds.\n",
       "\\end{enumerate}\n"
      ],
      "text/plain": [
       "<IPython.core.display.Latex object>"
      ]
     },
     "metadata": {},
     "output_type": "display_data"
    },
    {
     "name": "stdout",
     "output_type": "stream",
     "text": [
      "{'c1': 23704.57966028811, 'c2': 28106.02259967988, 'r': 0.11111111111111116}\n"
     ]
    }
   ],
   "source": [
    "df = pd.read_csv(\"Savings_examples.csv\")\n",
    "idx = (df['fun']=='sqrt') & (df['p']==0.90) & (df['beta']==0.98) \n",
    "params = dict(df.loc[idx].sample(1,random_state=rng).iloc[0])\n",
    "prob = Savings(params)\n",
    "question = prob.setup()\n",
    "question += fr\"\"\"\n",
    "\\begin{{enumerate}}[a.]\n",
    "\\item Calculate how much the person will consume in each period.\n",
    "\\item How many bonds does the person buy in period 1?\n",
    "\\item Calculate the interest rate on bonds.\n",
    "\\end{{enumerate}}\n",
    "\"\"\"\n",
    "latex = \"\\\\begin{q}\\n\" + question + \"\\\\end{q}\\n\"\n",
    "doc.add(RawLatex(latex))\n",
    "display(Latex(question))\n",
    "print(prob.sol)"
   ]
  },
  {
   "cell_type": "code",
   "execution_count": 9,
   "id": "1e37527d-e209-4066-984f-da19cab4b0e4",
   "metadata": {},
   "outputs": [],
   "source": [
    "doc.print_pdf(filename, \"tex\")"
   ]
  }
 ],
 "metadata": {
  "kernelspec": {
   "display_name": "Python 3 (ipykernel)",
   "language": "python",
   "name": "python3"
  },
  "language_info": {
   "codemirror_mode": {
    "name": "ipython",
    "version": 3
   },
   "file_extension": ".py",
   "mimetype": "text/x-python",
   "name": "python",
   "nbconvert_exporter": "python",
   "pygments_lexer": "ipython3",
   "version": "3.10.6"
  }
 },
 "nbformat": 4,
 "nbformat_minor": 5
}
