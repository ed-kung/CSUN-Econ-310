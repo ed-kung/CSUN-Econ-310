{
 "cells": [
  {
   "cell_type": "code",
   "execution_count": 1,
   "id": "2b06770f-63e6-4bb8-8104-1850bcc82b73",
   "metadata": {},
   "outputs": [],
   "source": [
    "import os\n",
    "import numpy as np\n",
    "import pandas as pd\n",
    "from IPython.display import display, Markdown, Latex\n",
    "import json\n",
    "from utils import LinearSD, CESSD, get_random_prob\n"
   ]
  },
  {
   "cell_type": "code",
   "execution_count": 2,
   "id": "3ca795be-3aeb-4dad-9b10-d1c28605b226",
   "metadata": {},
   "outputs": [
    {
     "data": {
      "text/latex": [
       "\n",
       "Supply and demand are given by the following equations:\n",
       "\n",
       "$$\\begin{align}\n",
       "q_d &= a - bp \\\\\n",
       "q_s &= cp - d\n",
       "\\end{align}$$\n",
       "\n",
       "The general solution is:\n",
       "\n",
       "$$p = \\frac{ a+d }{ b + c }$$\n"
      ],
      "text/plain": [
       "<IPython.core.display.Latex object>"
      ]
     },
     "metadata": {},
     "output_type": "display_data"
    },
    {
     "name": "stdout",
     "output_type": "stream",
     "text": [
      "19272 examples found.\n"
     ]
    },
    {
     "data": {
      "text/latex": [
       "\n",
       "Supply and demand are given by the following equations:\n",
       "\n",
       "$$\\begin{align}\n",
       "q_d &= 150-2p \\\\\n",
       "q_s &= 2p-70\n",
       "\\end{align}$$\n"
      ],
      "text/plain": [
       "<IPython.core.display.Latex object>"
      ]
     },
     "metadata": {},
     "output_type": "display_data"
    },
    {
     "name": "stdout",
     "output_type": "stream",
     "text": [
      "{'p': 55.0, 'q': 40.0}\n"
     ]
    }
   ],
   "source": [
    "prob = LinearSD()\n",
    "display(Latex(prob.general_setup()))\n",
    "examples = []\n",
    "for a in np.arange(100, 370, 10):\n",
    "    for b in np.arange(1,21):\n",
    "        for c in np.arange(1,21):\n",
    "            for d in np.arange(0,130,10):\n",
    "                params = {'a':a,'b':b,'c':c,'d':d}\n",
    "                prob = LinearSD(params)\n",
    "                if prob.check_solution():\n",
    "                    examples.append( prob.params | prob.sol )\n",
    "examples = pd.DataFrame.from_dict(examples)\n",
    "examples.to_csv(\"LinearSD_examples.csv\", header=True, index=False)\n",
    "print(f\"{len(examples)} examples found.\")\n",
    "\n",
    "myprob = get_random_prob(LinearSD, \"LinearSD_examples.csv\")\n",
    "display(Latex(myprob.setup()))\n",
    "print(myprob.sol)"
   ]
  },
  {
   "cell_type": "code",
   "execution_count": 3,
   "id": "85e2e410-d779-4307-a710-d3d3ffb5de0f",
   "metadata": {},
   "outputs": [
    {
     "data": {
      "text/latex": [
       "\n",
       "Supply and demand are given by the following equations:\n",
       "\n",
       "$$\\begin{align}\n",
       "q_d &= Ap^{ -a/d }  \\\\\n",
       "q_s &= Bp^{ b/d }\n",
       "\\end{align}$$\n",
       "\n",
       "The general solution is:\n",
       "\n",
       "$$p = \\left( \\frac{A}{B} \\right)^{ \\frac{d}{a+b} }$$\n"
      ],
      "text/plain": [
       "<IPython.core.display.Latex object>"
      ]
     },
     "metadata": {},
     "output_type": "display_data"
    },
    {
     "name": "stdout",
     "output_type": "stream",
     "text": [
      "{'A': 120, 'B': 60, 'a': 1, 'b': 2, 'd': 3}\n",
      "980 examples found.\n"
     ]
    },
    {
     "data": {
      "text/latex": [
       "\n",
       "Supply and demand are given by the following equations:\n",
       "\n",
       "$$\\begin{align}\n",
       "q_d &= 30p^{ -1/2 }  \\\\\n",
       "q_s &= 10p^{ 1/2 }\n",
       "\\end{align}$$\n"
      ],
      "text/plain": [
       "<IPython.core.display.Latex object>"
      ]
     },
     "metadata": {},
     "output_type": "display_data"
    },
    {
     "name": "stdout",
     "output_type": "stream",
     "text": [
      "{'p': 3.0, 'q': 17.32050807568877}\n"
     ]
    }
   ],
   "source": [
    "prob = CESSD()\n",
    "display(Latex(prob.general_setup()))\n",
    "print(prob.params)\n",
    "examples = []\n",
    "for B in np.array([1, 2, 5, 10, 12, 15, 30, 32, 36, 40, 48, 50, 60, 72]):\n",
    "    for A in np.arange(2,7)*B:\n",
    "        for d in np.arange(1,5):\n",
    "            for a in np.arange(1,d):\n",
    "                for b in np.arange(1,d):\n",
    "                    params = {'A':A,'B':B,'a':a,'b':b,'d':d}\n",
    "                    prob = CESSD(params)\n",
    "                    if prob.check_solution():\n",
    "                        examples.append( prob.params | prob.sol )\n",
    "examples = pd.DataFrame.from_dict(examples)\n",
    "examples.to_csv(\"CESSD_examples.csv\", header=True, index=False)\n",
    "print(f\"{len(examples)} examples found.\")\n",
    "\n",
    "myprob = get_random_prob(CESSD, \"CESSD_examples.csv\")\n",
    "display(Latex(myprob.setup()))\n",
    "print(myprob.sol)"
   ]
  }
 ],
 "metadata": {
  "kernelspec": {
   "display_name": "Python 3 (ipykernel)",
   "language": "python",
   "name": "python3"
  },
  "language_info": {
   "codemirror_mode": {
    "name": "ipython",
    "version": 3
   },
   "file_extension": ".py",
   "mimetype": "text/x-python",
   "name": "python",
   "nbconvert_exporter": "python",
   "pygments_lexer": "ipython3",
   "version": "3.9.6"
  }
 },
 "nbformat": 4,
 "nbformat_minor": 5
}
