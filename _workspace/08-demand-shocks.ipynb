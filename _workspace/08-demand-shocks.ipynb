{
 "cells": [
  {
   "cell_type": "code",
   "execution_count": 7,
   "id": "751d1bf3-0029-4f2a-9a4d-f02585132d75",
   "metadata": {},
   "outputs": [],
   "source": [
    "import numpy as np\n",
    "import pandas as pd\n",
    "from matplotlib import pyplot as plt\n",
    "from matplotlib import cm\n",
    "\n",
    "SMALL_SIZE = 12\n",
    "MEDIUM_SIZE = 14\n",
    "LARGE_SIZE = 16\n",
    "\n",
    "plt.rcdefaults()\n",
    "plt.rcParams['text.usetex'] = True\n",
    "plt.rcParams['font.family'] = 'Helvetica'\n",
    "plt.rcParams['font.size'] = MEDIUM_SIZE\n",
    "plt.rcParams['axes.titlesize'] = LARGE_SIZE\n",
    "plt.rcParams['axes.labelsize'] = MEDIUM_SIZE\n",
    "plt.rcParams['xtick.labelsize'] = SMALL_SIZE\n",
    "plt.rcParams['ytick.labelsize'] = SMALL_SIZE\n",
    "plt.rcParams['legend.fontsize'] = MEDIUM_SIZE\n",
    "plt.rcParams['figure.titlesize'] = LARGE_SIZE\n",
    "plt.rcParams['figure.figsize'] = [7.2, 4.8]\n",
    "plt.rcParams['figure.dpi'] = 60\n",
    "plt.rcParams['figure.facecolor'] = (1.0, 1.0, 1.0, 0.0)\n",
    "\n",
    "from utils import SREQ, LREQ"
   ]
  },
  {
   "cell_type": "code",
   "execution_count": null,
   "id": "066a7396-5a2a-436d-8400-ab8a4fbad8fe",
   "metadata": {},
   "outputs": [],
   "source": []
  },
  {
   "cell_type": "code",
   "execution_count": 34,
   "id": "e46a8183-c849-49a4-a4f7-c50dd6fe784a",
   "metadata": {},
   "outputs": [
    {
     "name": "stdout",
     "output_type": "stream",
     "text": [
      "gamma=8.0, alpha=6, Q=6400.0, p=4.0, M=1600.0\n",
      "gamma=8.0, alpha=7, Q=9600.0, p=4.0, M=2400.0\n",
      "gamma=18.0, alpha=9, Q=9600.0, p=6.0, M=1600.0\n",
      "gamma=32.0, alpha=9, Q=3200.0, p=8.0, M=400.0\n",
      "gamma=32.0, alpha=10, Q=6400.0, p=8.0, M=800.0\n",
      "gamma=32.0, alpha=11, Q=9600.0, p=8.0, M=1200.0\n",
      "gamma=32.0, alpha=12, Q=12800.0, p=8.0, M=1600.0\n",
      "gamma=32.0, alpha=13, Q=16000.0, p=8.0, M=2000.0\n",
      "gamma=32.0, alpha=14, Q=19200.0, p=8.0, M=2400.0\n",
      "gamma=32.0, alpha=15, Q=22400.0, p=8.0, M=2800.0\n",
      "gamma=50.0, alpha=11, Q=3200.0, p=10.0, M=320.0\n",
      "gamma=50.0, alpha=12, Q=6400.0, p=10.0, M=640.0\n",
      "gamma=50.0, alpha=13, Q=9600.0, p=10.0, M=960.0\n",
      "gamma=50.0, alpha=14, Q=12800.0, p=10.0, M=1280.0\n",
      "gamma=50.0, alpha=15, Q=16000.0, p=10.0, M=1600.0\n",
      "gamma=50.0, alpha=16, Q=19200.0, p=10.0, M=1920.0\n",
      "gamma=50.0, alpha=17, Q=22400.0, p=10.0, M=2240.0\n",
      "gamma=50.0, alpha=18, Q=25600.0, p=10.0, M=2560.0\n",
      "gamma=50.0, alpha=19, Q=28800.0, p=10.0, M=2880.0\n",
      "gamma=72.0, alpha=15, Q=9600.0, p=12.0, M=800.0\n",
      "gamma=72.0, alpha=18, Q=19200.0, p=12.0, M=1600.0\n",
      "gamma=72.0, alpha=21, Q=28800.0, p=12.0, M=2400.0\n",
      "gamma=98.0, alpha=21, Q=22400.0, p=14.0, M=1600.0\n",
      "gamma=128.0, alpha=17, Q=3200.0, p=16.0, M=200.0\n",
      "gamma=128.0, alpha=18, Q=6400.0, p=16.0, M=400.0\n",
      "gamma=128.0, alpha=19, Q=9600.0, p=16.0, M=600.0\n",
      "gamma=128.0, alpha=20, Q=12800.0, p=16.0, M=800.0\n",
      "gamma=128.0, alpha=21, Q=16000.0, p=16.0, M=1000.0\n",
      "gamma=128.0, alpha=22, Q=19200.0, p=16.0, M=1200.0\n",
      "gamma=128.0, alpha=23, Q=22400.0, p=16.0, M=1400.0\n",
      "gamma=128.0, alpha=24, Q=25600.0, p=16.0, M=1600.0\n",
      "gamma=128.0, alpha=25, Q=28800.0, p=16.0, M=1800.0\n",
      "gamma=128.0, alpha=26, Q=32000.0, p=16.0, M=2000.0\n",
      "gamma=128.0, alpha=27, Q=35200.0, p=16.0, M=2200.0\n",
      "gamma=128.0, alpha=28, Q=38400.0, p=16.0, M=2400.0\n",
      "gamma=128.0, alpha=29, Q=41600.0, p=16.0, M=2600.0\n",
      "gamma=128.0, alpha=30, Q=44800.0, p=16.0, M=2800.0\n",
      "gamma=128.0, alpha=31, Q=48000.0, p=16.0, M=3000.0\n",
      "gamma=162.0, alpha=27, Q=28800.0, p=18.0, M=1600.0\n",
      "gamma=200.0, alpha=21, Q=3200.0, p=20.0, M=160.0\n",
      "gamma=200.0, alpha=22, Q=6400.0, p=20.0, M=320.0\n",
      "gamma=200.0, alpha=23, Q=9600.0, p=20.0, M=480.0\n",
      "gamma=200.0, alpha=24, Q=12800.0, p=20.0, M=640.0\n",
      "gamma=200.0, alpha=25, Q=16000.0, p=20.0, M=800.0\n",
      "gamma=200.0, alpha=26, Q=19200.0, p=20.0, M=960.0\n",
      "gamma=200.0, alpha=27, Q=22400.0, p=20.0, M=1120.0\n",
      "gamma=200.0, alpha=28, Q=25600.0, p=20.0, M=1280.0\n",
      "gamma=200.0, alpha=29, Q=28800.0, p=20.0, M=1440.0\n",
      "gamma=200.0, alpha=30, Q=32000.0, p=20.0, M=1600.0\n",
      "gamma=200.0, alpha=31, Q=35200.0, p=20.0, M=1760.0\n",
      "gamma=200.0, alpha=32, Q=38400.0, p=20.0, M=1920.0\n",
      "gamma=288.0, alpha=27, Q=9600.0, p=24.0, M=400.0\n",
      "gamma=288.0, alpha=30, Q=19200.0, p=24.0, M=800.0\n"
     ]
    }
   ],
   "source": [
    "# Find integer solutions\n",
    "N = 3200\n",
    "beta = 1\n",
    "eta = 1\n",
    "delta = 0\n",
    "Y = 100\n",
    "qs = np.arange(1,101)\n",
    "gamma_range = qs**2 * eta/2\n",
    "    \n",
    "for gamma in gamma_range:\n",
    "    for alpha in np.arange(6,33):\n",
    "        prob = LREQ(N=N, Y=Y, alpha=alpha, beta=beta, gamma=gamma, delta=delta, eta=eta)\n",
    "        prob.solve()\n",
    "        if (prob.M%1==0) and (prob.Q%1==0) and (prob.p%0.5==0) and (prob.M<N) and (prob.M>0) and (gamma%1==0):\n",
    "            print(f\"gamma={gamma}, alpha={alpha}, Q={prob.Q}, p={prob.p}, M={prob.M}\")\n"
   ]
  },
  {
   "cell_type": "code",
   "execution_count": null,
   "id": "e57b16c0-5800-492b-8792-f8aeecd7125e",
   "metadata": {},
   "outputs": [],
   "source": []
  }
 ],
 "metadata": {
  "kernelspec": {
   "display_name": "Python 3 (ipykernel)",
   "language": "python",
   "name": "python3"
  },
  "language_info": {
   "codemirror_mode": {
    "name": "ipython",
    "version": 3
   },
   "file_extension": ".py",
   "mimetype": "text/x-python",
   "name": "python",
   "nbconvert_exporter": "python",
   "pygments_lexer": "ipython3",
   "version": "3.10.6"
  }
 },
 "nbformat": 4,
 "nbformat_minor": 5
}
