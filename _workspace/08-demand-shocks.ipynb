{
 "cells": [
  {
   "cell_type": "code",
   "execution_count": 2,
   "id": "751d1bf3-0029-4f2a-9a4d-f02585132d75",
   "metadata": {},
   "outputs": [],
   "source": [
    "import numpy as np\n",
    "import pandas as pd\n",
    "from matplotlib import pyplot as plt\n",
    "from matplotlib import cm\n",
    "\n",
    "SMALL_SIZE = 12\n",
    "MEDIUM_SIZE = 14\n",
    "LARGE_SIZE = 16\n",
    "\n",
    "plt.rcdefaults()\n",
    "plt.rcParams['text.usetex'] = True\n",
    "plt.rcParams['font.family'] = 'Helvetica'\n",
    "plt.rcParams['font.size'] = MEDIUM_SIZE\n",
    "plt.rcParams['axes.titlesize'] = LARGE_SIZE\n",
    "plt.rcParams['axes.labelsize'] = MEDIUM_SIZE\n",
    "plt.rcParams['xtick.labelsize'] = SMALL_SIZE\n",
    "plt.rcParams['ytick.labelsize'] = SMALL_SIZE\n",
    "plt.rcParams['legend.fontsize'] = MEDIUM_SIZE\n",
    "plt.rcParams['figure.titlesize'] = LARGE_SIZE\n",
    "plt.rcParams['figure.figsize'] = [7.2, 4.8]\n",
    "plt.rcParams['figure.dpi'] = 60\n",
    "plt.rcParams['figure.facecolor'] = (1.0, 1.0, 1.0, 0.0)\n",
    "\n",
    "from utils import SREQ, LREQ"
   ]
  },
  {
   "cell_type": "code",
   "execution_count": 7,
   "id": "066a7396-5a2a-436d-8400-ab8a4fbad8fe",
   "metadata": {},
   "outputs": [
    {
     "data": {
      "text/plain": [
       "{'M': 400.0,\n",
       " 'Q': 6400.0,\n",
       " 'p': 8.0,\n",
       " 'qd': 2.0,\n",
       " 'qs': 16.0,\n",
       " 'c': 84.0,\n",
       " 'profit': 0.0,\n",
       " 'totalprofit': 0.0,\n",
       " 'util': 102.0,\n",
       " 'totalutil': 326400.0}"
      ]
     },
     "execution_count": 7,
     "metadata": {},
     "output_type": "execute_result"
    }
   ],
   "source": [
    "N = 3200\n",
    "beta = 1\n",
    "eta = 0.5\n",
    "delta = 0\n",
    "Y = 100\n",
    "gamma = 64\n",
    "alpha = 10\n",
    "\n",
    "prob1 = LREQ(N=N,Y=Y,alpha=alpha,beta=beta,gamma=gamma,delta=delta,eta=eta)\n",
    "prob1.solve()\n"
   ]
  },
  {
   "cell_type": "code",
   "execution_count": 8,
   "id": "ab288b2c-6441-4d5c-bc7c-23656b99bfdb",
   "metadata": {},
   "outputs": [
    {
     "data": {
      "text/plain": [
       "{'Q': 5760.0,\n",
       " 'p': 7.2,\n",
       " 'qd': 1.8,\n",
       " 'qs': 14.4,\n",
       " 'c': 87.03999999999999,\n",
       " 'profit': -12.159999999999997,\n",
       " 'totalprofit': -4863.999999999998,\n",
       " 'util': 101.61999999999999,\n",
       " 'totalutil': 325183.99999999994}"
      ]
     },
     "execution_count": 8,
     "metadata": {},
     "output_type": "execute_result"
    }
   ],
   "source": [
    "alpha = 9\n",
    "M = prob1.M\n",
    "\n",
    "prob2 = SREQ(N=N,M=M,Y=Y,alpha=alpha,beta=beta,gamma=gamma,delta=delta,eta=eta)\n",
    "prob2.solve()\n"
   ]
  },
  {
   "cell_type": "code",
   "execution_count": 9,
   "id": "e4453f54-cc7a-42c4-9d72-9dcc2fe33151",
   "metadata": {},
   "outputs": [
    {
     "data": {
      "text/plain": [
       "{'M': 200.0,\n",
       " 'Q': 3200.0,\n",
       " 'p': 8.0,\n",
       " 'qd': 1.0,\n",
       " 'qs': 16.0,\n",
       " 'c': 92.0,\n",
       " 'profit': 0.0,\n",
       " 'totalprofit': 0.0,\n",
       " 'util': 100.5,\n",
       " 'totalutil': 321600.0}"
      ]
     },
     "execution_count": 9,
     "metadata": {},
     "output_type": "execute_result"
    }
   ],
   "source": [
    "prob3 = LREQ(N=N,Y=Y,alpha=alpha,beta=beta,gamma=gamma,delta=delta,eta=eta)\n",
    "prob3.solve()\n"
   ]
  },
  {
   "cell_type": "code",
   "execution_count": 5,
   "id": "e46a8183-c849-49a4-a4f7-c50dd6fe784a",
   "metadata": {},
   "outputs": [
    {
     "name": "stdout",
     "output_type": "stream",
     "text": [
      "gamma=9.0, alpha=6, Q=9600.0, p=3.0, M=1600.0\n",
      "gamma=16.0, alpha=6, Q=6400.0, p=4.0, M=800.0\n",
      "gamma=16.0, alpha=7, Q=9600.0, p=4.0, M=1200.0\n",
      "gamma=16.0, alpha=8, Q=12800.0, p=4.0, M=1600.0\n",
      "gamma=16.0, alpha=9, Q=16000.0, p=4.0, M=2000.0\n",
      "gamma=16.0, alpha=10, Q=19200.0, p=4.0, M=2400.0\n",
      "gamma=16.0, alpha=11, Q=22400.0, p=4.0, M=2800.0\n",
      "gamma=25.0, alpha=6, Q=3200.0, p=5.0, M=320.0\n",
      "gamma=25.0, alpha=7, Q=6400.0, p=5.0, M=640.0\n",
      "gamma=25.0, alpha=8, Q=9600.0, p=5.0, M=960.0\n",
      "gamma=25.0, alpha=9, Q=12800.0, p=5.0, M=1280.0\n",
      "gamma=25.0, alpha=10, Q=16000.0, p=5.0, M=1600.0\n",
      "gamma=25.0, alpha=11, Q=19200.0, p=5.0, M=1920.0\n",
      "gamma=25.0, alpha=12, Q=22400.0, p=5.0, M=2240.0\n",
      "gamma=25.0, alpha=13, Q=25600.0, p=5.0, M=2560.0\n",
      "gamma=25.0, alpha=14, Q=28800.0, p=5.0, M=2880.0\n",
      "gamma=36.0, alpha=9, Q=9600.0, p=6.0, M=800.0\n",
      "gamma=36.0, alpha=12, Q=19200.0, p=6.0, M=1600.0\n",
      "gamma=36.0, alpha=15, Q=28800.0, p=6.0, M=2400.0\n",
      "gamma=49.0, alpha=14, Q=22400.0, p=7.0, M=1600.0\n",
      "gamma=64.0, alpha=9, Q=3200.0, p=8.0, M=200.0\n",
      "gamma=64.0, alpha=10, Q=6400.0, p=8.0, M=400.0\n",
      "gamma=64.0, alpha=11, Q=9600.0, p=8.0, M=600.0\n",
      "gamma=64.0, alpha=12, Q=12800.0, p=8.0, M=800.0\n",
      "gamma=64.0, alpha=13, Q=16000.0, p=8.0, M=1000.0\n",
      "gamma=64.0, alpha=14, Q=19200.0, p=8.0, M=1200.0\n",
      "gamma=64.0, alpha=15, Q=22400.0, p=8.0, M=1400.0\n",
      "gamma=64.0, alpha=16, Q=25600.0, p=8.0, M=1600.0\n",
      "gamma=64.0, alpha=17, Q=28800.0, p=8.0, M=1800.0\n",
      "gamma=64.0, alpha=18, Q=32000.0, p=8.0, M=2000.0\n",
      "gamma=64.0, alpha=19, Q=35200.0, p=8.0, M=2200.0\n",
      "gamma=64.0, alpha=20, Q=38400.0, p=8.0, M=2400.0\n",
      "gamma=64.0, alpha=21, Q=41600.0, p=8.0, M=2600.0\n",
      "gamma=64.0, alpha=22, Q=44800.0, p=8.0, M=2800.0\n",
      "gamma=64.0, alpha=23, Q=48000.0, p=8.0, M=3000.0\n",
      "gamma=81.0, alpha=18, Q=28800.0, p=9.0, M=1600.0\n",
      "gamma=100.0, alpha=11, Q=3200.0, p=10.0, M=160.0\n",
      "gamma=100.0, alpha=12, Q=6400.0, p=10.0, M=320.0\n",
      "gamma=100.0, alpha=13, Q=9600.0, p=10.0, M=480.0\n",
      "gamma=100.0, alpha=14, Q=12800.0, p=10.0, M=640.0\n",
      "gamma=100.0, alpha=15, Q=16000.0, p=10.0, M=800.0\n",
      "gamma=100.0, alpha=16, Q=19200.0, p=10.0, M=960.0\n",
      "gamma=100.0, alpha=17, Q=22400.0, p=10.0, M=1120.0\n",
      "gamma=100.0, alpha=18, Q=25600.0, p=10.0, M=1280.0\n",
      "gamma=100.0, alpha=19, Q=28800.0, p=10.0, M=1440.0\n",
      "gamma=100.0, alpha=20, Q=32000.0, p=10.0, M=1600.0\n",
      "gamma=100.0, alpha=21, Q=35200.0, p=10.0, M=1760.0\n",
      "gamma=100.0, alpha=22, Q=38400.0, p=10.0, M=1920.0\n",
      "gamma=100.0, alpha=23, Q=41600.0, p=10.0, M=2080.0\n",
      "gamma=100.0, alpha=24, Q=44800.0, p=10.0, M=2240.0\n",
      "gamma=100.0, alpha=25, Q=48000.0, p=10.0, M=2400.0\n",
      "gamma=100.0, alpha=26, Q=51200.0, p=10.0, M=2560.0\n",
      "gamma=100.0, alpha=27, Q=54400.0, p=10.0, M=2720.0\n",
      "gamma=100.0, alpha=28, Q=57600.0, p=10.0, M=2880.0\n",
      "gamma=100.0, alpha=29, Q=60800.0, p=10.0, M=3040.0\n",
      "gamma=121.0, alpha=22, Q=35200.0, p=11.0, M=1600.0\n",
      "gamma=144.0, alpha=15, Q=9600.0, p=12.0, M=400.0\n",
      "gamma=144.0, alpha=18, Q=19200.0, p=12.0, M=800.0\n",
      "gamma=144.0, alpha=21, Q=28800.0, p=12.0, M=1200.0\n",
      "gamma=144.0, alpha=24, Q=38400.0, p=12.0, M=1600.0\n",
      "gamma=144.0, alpha=27, Q=48000.0, p=12.0, M=2000.0\n",
      "gamma=144.0, alpha=30, Q=57600.0, p=12.0, M=2400.0\n",
      "gamma=169.0, alpha=26, Q=41600.0, p=13.0, M=1600.0\n",
      "gamma=196.0, alpha=21, Q=22400.0, p=14.0, M=800.0\n",
      "gamma=196.0, alpha=28, Q=44800.0, p=14.0, M=1600.0\n",
      "gamma=225.0, alpha=18, Q=9600.0, p=15.0, M=320.0\n",
      "gamma=225.0, alpha=21, Q=19200.0, p=15.0, M=640.0\n",
      "gamma=225.0, alpha=24, Q=28800.0, p=15.0, M=960.0\n",
      "gamma=225.0, alpha=27, Q=38400.0, p=15.0, M=1280.0\n",
      "gamma=225.0, alpha=30, Q=48000.0, p=15.0, M=1600.0\n",
      "gamma=256.0, alpha=17, Q=3200.0, p=16.0, M=100.0\n",
      "gamma=256.0, alpha=18, Q=6400.0, p=16.0, M=200.0\n",
      "gamma=256.0, alpha=19, Q=9600.0, p=16.0, M=300.0\n",
      "gamma=256.0, alpha=20, Q=12800.0, p=16.0, M=400.0\n",
      "gamma=256.0, alpha=21, Q=16000.0, p=16.0, M=500.0\n",
      "gamma=256.0, alpha=22, Q=19200.0, p=16.0, M=600.0\n",
      "gamma=256.0, alpha=23, Q=22400.0, p=16.0, M=700.0\n",
      "gamma=256.0, alpha=24, Q=25600.0, p=16.0, M=800.0\n",
      "gamma=256.0, alpha=25, Q=28800.0, p=16.0, M=900.0\n",
      "gamma=256.0, alpha=26, Q=32000.0, p=16.0, M=1000.0\n",
      "gamma=256.0, alpha=27, Q=35200.0, p=16.0, M=1100.0\n",
      "gamma=256.0, alpha=28, Q=38400.0, p=16.0, M=1200.0\n",
      "gamma=256.0, alpha=29, Q=41600.0, p=16.0, M=1300.0\n",
      "gamma=256.0, alpha=30, Q=44800.0, p=16.0, M=1400.0\n",
      "gamma=256.0, alpha=31, Q=48000.0, p=16.0, M=1500.0\n",
      "gamma=256.0, alpha=32, Q=51200.0, p=16.0, M=1600.0\n",
      "gamma=324.0, alpha=27, Q=28800.0, p=18.0, M=800.0\n",
      "gamma=400.0, alpha=21, Q=3200.0, p=20.0, M=80.0\n",
      "gamma=400.0, alpha=22, Q=6400.0, p=20.0, M=160.0\n",
      "gamma=400.0, alpha=23, Q=9600.0, p=20.0, M=240.0\n",
      "gamma=400.0, alpha=24, Q=12800.0, p=20.0, M=320.0\n",
      "gamma=400.0, alpha=25, Q=16000.0, p=20.0, M=400.0\n",
      "gamma=400.0, alpha=26, Q=19200.0, p=20.0, M=480.0\n",
      "gamma=400.0, alpha=27, Q=22400.0, p=20.0, M=560.0\n",
      "gamma=400.0, alpha=28, Q=25600.0, p=20.0, M=640.0\n",
      "gamma=400.0, alpha=29, Q=28800.0, p=20.0, M=720.0\n",
      "gamma=400.0, alpha=30, Q=32000.0, p=20.0, M=800.0\n",
      "gamma=400.0, alpha=31, Q=35200.0, p=20.0, M=880.0\n",
      "gamma=400.0, alpha=32, Q=38400.0, p=20.0, M=960.0\n",
      "gamma=576.0, alpha=27, Q=9600.0, p=24.0, M=200.0\n",
      "gamma=576.0, alpha=30, Q=19200.0, p=24.0, M=400.0\n",
      "gamma=625.0, alpha=26, Q=3200.0, p=25.0, M=64.0\n",
      "gamma=625.0, alpha=27, Q=6400.0, p=25.0, M=128.0\n",
      "gamma=625.0, alpha=28, Q=9600.0, p=25.0, M=192.0\n",
      "gamma=625.0, alpha=29, Q=12800.0, p=25.0, M=256.0\n",
      "gamma=625.0, alpha=30, Q=16000.0, p=25.0, M=320.0\n",
      "gamma=625.0, alpha=31, Q=19200.0, p=25.0, M=384.0\n",
      "gamma=625.0, alpha=32, Q=22400.0, p=25.0, M=448.0\n"
     ]
    }
   ],
   "source": [
    "# Find integer solutions\n",
    "N = 3200\n",
    "beta = 1\n",
    "eta = 0.5\n",
    "delta = 0\n",
    "Y = 100\n",
    "qs = np.arange(1,101)\n",
    "gamma_range = qs**2 * eta/2\n",
    "    \n",
    "for gamma in gamma_range:\n",
    "    for alpha in np.arange(6,33):\n",
    "        prob = LREQ(N=N, Y=Y, alpha=alpha, beta=beta, gamma=gamma, delta=delta, eta=eta)\n",
    "        prob.solve()\n",
    "        if (prob.M%1==0) and (prob.Q%1==0) and (prob.p%0.5==0) and (prob.M<N) and (prob.M>0) and (gamma%1==0):\n",
    "            print(f\"gamma={gamma}, alpha={alpha}, Q={prob.Q}, p={prob.p}, M={prob.M}\")\n"
   ]
  },
  {
   "cell_type": "code",
   "execution_count": null,
   "id": "e57b16c0-5800-492b-8792-f8aeecd7125e",
   "metadata": {},
   "outputs": [],
   "source": []
  }
 ],
 "metadata": {
  "kernelspec": {
   "display_name": "Python 3 (ipykernel)",
   "language": "python",
   "name": "python3"
  },
  "language_info": {
   "codemirror_mode": {
    "name": "ipython",
    "version": 3
   },
   "file_extension": ".py",
   "mimetype": "text/x-python",
   "name": "python",
   "nbconvert_exporter": "python",
   "pygments_lexer": "ipython3",
   "version": "3.10.5"
  }
 },
 "nbformat": 4,
 "nbformat_minor": 5
}
