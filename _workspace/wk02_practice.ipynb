{
 "cells": [
  {
   "cell_type": "code",
   "execution_count": 1,
   "id": "2b06770f-63e6-4bb8-8104-1850bcc82b73",
   "metadata": {},
   "outputs": [],
   "source": [
    "import os\n",
    "import numpy as np\n",
    "import pandas as pd\n",
    "from IPython.display import display, Markdown, Latex\n",
    "import json\n",
    "from utils import SupplyPoly, DemandPoly, DemandCE\n",
    "from utils import cbeq, polyeq, term, is_divisible, Number\n",
    "\n",
    "JSON_FILE = \"../assets/data/wk02_practice.json\"\n",
    "probs = []"
   ]
  },
  {
   "cell_type": "code",
   "execution_count": 2,
   "id": "3ca795be-3aeb-4dad-9b10-d1c28605b226",
   "metadata": {},
   "outputs": [],
   "source": [
    "# Polynomial Cost Function Supply Curve (one firm)\n",
    "\n",
    "df = pd.read_csv(\"SupplyPoly_examples.csv\")\n",
    "df1 = df.loc[ (df['M']==1) & (df['profit']>0) ].sample(50)\n",
    "df2 = df.loc[ (df['M']==1) & (df['profit']<0) ].sample(20)\n",
    "mydf = pd.concat([df1, df2])\n",
    "\n",
    "for idx, row in mydf.iterrows():\n",
    "    params = dict(row).copy()\n",
    "    prob = SupplyPoly(params)\n",
    "    p = row['p']\n",
    "    sol = prob.eval(p)\n",
    "    q = sol['q']\n",
    "    profit = sol['profit']\n",
    "    setup = prob.setup() + fr\"\"\"\n",
    "<p>1. Write down the firm's supply curve.</p>\n",
    "<p>2. Find the quantity that maximizes profit when price is \\(p={p:g}\\).</p>\n",
    "<p>3. What is the maximum profit when price is \\(p={p:g}\\)?</p>\n",
    "\"\"\"\n",
    "    solution = fr\"\"\"\n",
    "Supply curve:\n",
    "\n",
    "$$ q_s = {prob.solution()} $$\n",
    "\n",
    "The quantity that maximizes profit is \\(q_s = {q:g}\\). The maximum profit is \\({profit:g}\\).\n",
    "\"\"\"\n",
    "    probs.append({'setup':setup, 'solution':solution})"
   ]
  },
  {
   "cell_type": "code",
   "execution_count": 3,
   "id": "b5e77872-3ade-469c-b6c0-8ed276ac2ea2",
   "metadata": {},
   "outputs": [],
   "source": [
    "# Polynomial Cost Function Supply Curve (>1 firm)\n",
    "\n",
    "df = pd.read_csv(\"SupplyPoly_examples.csv\")\n",
    "df1 = df.loc[ (df['M']>1) & (df['profit']>0) ].sample(50)\n",
    "df2 = df.loc[ (df['M']>1) & (df['profit']<0) ].sample(20)\n",
    "mydf = pd.concat([df1, df2])\n",
    "\n",
    "for idx, row in mydf.iterrows():\n",
    "    params = dict(row).copy()\n",
    "    prob = SupplyPoly(params)\n",
    "    p = row['p']\n",
    "    sol = prob.eval(p)\n",
    "    Q = sol['Q']\n",
    "    total_profit = sol['total_profit']\n",
    "    setup = prob.setup() + fr\"\"\"\n",
    "<p>1. Write down the market supply curve.</p>\n",
    "<p>2. What is the total quantity supplied when price is \\(p={p:g}\\).</p>\n",
    "<p>3. What is the total profit across all firms when price is \\(p={p:g}\\)?</p>\n",
    "\"\"\"\n",
    "    solution = fr\"\"\"\n",
    "Market supply curve:\n",
    "\n",
    "$$ Q_s = {prob.solution()} $$\n",
    "\n",
    "Total quantity supplied is \\(Q_s = {Q:g}\\). The total profit is \\({total_profit:g}\\).\n",
    "\"\"\"\n",
    "    probs.append({'setup':setup, 'solution':solution})"
   ]
  },
  {
   "cell_type": "code",
   "execution_count": 4,
   "id": "873caf87-adf0-45c4-9ac0-85e09a0929ae",
   "metadata": {},
   "outputs": [],
   "source": [
    "# Polynomial utility function (1 consumer)\n",
    "df = pd.read_csv(\"DemandPoly_examples.csv\")\n",
    "mydf = df.loc[ (df['N']==1) ].sample(35)\n",
    "\n",
    "for idx, row in mydf.iterrows():\n",
    "    params = dict(row).copy()\n",
    "    prob = DemandPoly(params)\n",
    "    p = row['p']\n",
    "    sol = prob.eval(p)\n",
    "    q = sol['q']\n",
    "    c = sol['c']\n",
    "    utility = sol['utility']\n",
    "    setup = prob.setup() + fr\"\"\"\n",
    "<p>1. Write down the consumer's demand curve.</p>\n",
    "<p>2. Find the quantity that maximizes utility when price is \\(p={p:g}\\).</p>\n",
    "<p>3. What is the maximum utility when price is \\(p={p:g}\\)?</p>\n",
    "<p>4. How much does the consumer spend on the commodity, and how much do they spend on the numeraire good?</p>\n",
    "\"\"\"\n",
    "    solution = fr\"\"\"\n",
    "Demand curve:\n",
    "\n",
    "$$ q_d = {prob.solution()} $$\n",
    "\n",
    "The quantity that maximizes utility is \\(q_d = {q:g}\\). The maximum utility is \\({utility:g}\\). \n",
    "The consumer spends \\({p*q:g}\\) on the commodity and \\({c:g}\\) on the numeraire good.\n",
    "\"\"\"\n",
    "    probs.append({'setup':setup, 'solution':solution})\n"
   ]
  },
  {
   "cell_type": "code",
   "execution_count": 5,
   "id": "cd4cd93f-6ec7-4f20-a002-220e766287f0",
   "metadata": {},
   "outputs": [],
   "source": [
    "# Polynomial utility function (>1 consumer)\n",
    "df = pd.read_csv(\"DemandPoly_examples.csv\")\n",
    "mydf = df.loc[ (df['N']>1) ].sample(35)\n",
    "\n",
    "for idx, row in mydf.iterrows():\n",
    "    params = dict(row).copy()\n",
    "    prob = DemandPoly(params)\n",
    "    p = row['p']\n",
    "    sol = prob.eval(p)\n",
    "    N = params['N']\n",
    "    Q = sol['Q']\n",
    "    c = sol['c']\n",
    "    total_utility = sol['total_utility']\n",
    "    setup = prob.setup() + fr\"\"\"\n",
    "<p>1. Write down the market demand curve.</p>\n",
    "<p>2. What is the total quantity demanded when price is \\(p={p:g}\\)?</p>\n",
    "<p>3. What is the total consumer utility when price is \\(p={p:g}\\)?</p>\n",
    "<p>4. Calculate total spending on the commodity and total spending on the numeraire good.</p>\n",
    "\"\"\"\n",
    "    solution = fr\"\"\"\n",
    "Demand curve:\n",
    "\n",
    "$$ Q_d = {prob.solution()} $$\n",
    "\n",
    "Total quantity demanded is \\(Q_d = {Q:g}\\). Total utility is \\({total_utility:g}\\). \n",
    "Total spending on the commodity is \\({p*Q:g}\\). Total spending on the numeraire good is \\({N*c:g}\\).\n",
    "\"\"\"\n",
    "    probs.append({'setup':setup, 'solution':solution})\n"
   ]
  },
  {
   "cell_type": "code",
   "execution_count": 6,
   "id": "89ccdca6-6da9-49a1-94e4-c2ec3f4dfa57",
   "metadata": {},
   "outputs": [],
   "source": [
    "# Constant elasticity demand (1 consumer)\n",
    "df = pd.read_csv(\"DemandCE_examples.csv\")\n",
    "mydf = df.loc[ (df['N']==1) ].sample(35)\n",
    "\n",
    "for idx, row in mydf.iterrows():\n",
    "    params = dict(row).copy()\n",
    "    prob = DemandCE(params)\n",
    "    p = row['p']\n",
    "    sol = prob.eval(p)\n",
    "    q = sol['q']\n",
    "    c = sol['c']\n",
    "    utility = sol['utility']\n",
    "    setup = prob.setup() + fr\"\"\"\n",
    "<p>1. Write down the consumer's demand curve.</p>\n",
    "<p>2. Find the quantity that maximizes utility when price is \\(p={p:g}\\).</p>\n",
    "<p>3. What is the maximum utility when price is \\(p={p:g}\\)?</p>\n",
    "<p>4. How much does the consumer spend on the commodity, and how much do they spend on the numeraire good?</p>\n",
    "\"\"\"\n",
    "    solution = fr\"\"\"\n",
    "Demand curve:\n",
    "\n",
    "$$ q_d = {prob.solution()} $$\n",
    "\n",
    "The quantity that maximizes utility is \\(q_d = {q:g}\\). The maximum utility is \\({utility:g}\\). \n",
    "The consumer spends \\({p*q:g}\\) on the commodity and \\({c:g}\\) on the numeraire good.\n",
    "\"\"\"\n",
    "    probs.append({'setup':setup, 'solution':solution})\n"
   ]
  },
  {
   "cell_type": "code",
   "execution_count": 7,
   "id": "8e50eaca-2f03-431c-bc00-9df260c872ce",
   "metadata": {},
   "outputs": [],
   "source": [
    "# Polynomial utility function (>1 consumer)\n",
    "df = pd.read_csv(\"DemandCE_examples.csv\")\n",
    "mydf = df.loc[ (df['N']>1) ].sample(35)\n",
    "\n",
    "for idx, row in mydf.iterrows():\n",
    "    params = dict(row).copy()\n",
    "    prob = DemandCE(params)\n",
    "    p = row['p']\n",
    "    sol = prob.eval(p)\n",
    "    N = params['N']\n",
    "    Q = sol['Q']\n",
    "    c = sol['c']\n",
    "    total_utility = sol['total_utility']\n",
    "    setup = prob.setup() + fr\"\"\"\n",
    "<p>1. Write down the market demand curve.</p>\n",
    "<p>2. What is the total quantity demanded when price is \\(p={p:g}\\)?</p>\n",
    "<p>3. What is the total consumer utility when price is \\(p={p:g}\\)?</p>\n",
    "<p>4. Calculate total spending on the commodity and total spending on the numeraire good.</p>\n",
    "\"\"\"\n",
    "    solution = fr\"\"\"\n",
    "Demand curve:\n",
    "\n",
    "$$ Q_d = {prob.solution()} $$\n",
    "\n",
    "Total quantity demanded is \\(Q_d = {Q:g}\\). Total utility is \\({total_utility:g}\\). \n",
    "Total spending on the commodity is \\({p*Q:g}\\). Total spending on the numeraire good is \\({N*c:g}\\).\n",
    "\"\"\"\n",
    "    probs.append({'setup':setup, 'solution':solution})\n"
   ]
  },
  {
   "cell_type": "code",
   "execution_count": 8,
   "id": "c55d4467-8661-40b3-ad19-524f2feacca2",
   "metadata": {},
   "outputs": [],
   "source": [
    "with open(JSON_FILE, 'w') as f:\n",
    "    json.dump(probs, f)"
   ]
  },
  {
   "cell_type": "code",
   "execution_count": 9,
   "id": "c4e3e697-5232-45e1-86af-82bb39287878",
   "metadata": {},
   "outputs": [],
   "source": [
    "with open(JSON_FILE, 'r') as f:\n",
    "    myprobs = json.load(f)"
   ]
  },
  {
   "cell_type": "code",
   "execution_count": 17,
   "id": "334981b0-251c-4ede-acd4-7e00dab2dd32",
   "metadata": {},
   "outputs": [
    {
     "data": {
      "text/latex": [
       "\n",
       "There are \\(100\\) identical, price-taking consumers with income \\(Y=100\\). Each consumer has utility over numeraire consumption \\(c\\) and a commodity \\(q\\) given by:\n",
       "\n",
       "$$ u(c,q) = c + 12q^{ 1 / 2 } $$\n",
       "\n",
       "<p>1. Write down the market demand curve.</p>\n",
       "<p>2. What is the total quantity demanded when price is \\(p=4\\)?</p>\n",
       "<p>3. What is the total consumer utility when price is \\(p=4\\)?</p>\n",
       "<p>4. Calculate total spending on the commodity and total spending on the numeraire good.</p>\n"
      ],
      "text/plain": [
       "<IPython.core.display.Latex object>"
      ]
     },
     "metadata": {},
     "output_type": "display_data"
    },
    {
     "data": {
      "text/latex": [
       "\n",
       "Demand curve:\n",
       "\n",
       "$$ Q_d = 100 \\left( \\frac{ 1 }{ 6 } p \\right)^{ -2 } $$\n",
       "\n",
       "Total quantity demanded is \\(Q_d = 225\\). Total utility is \\(10900\\). \n",
       "Total spending on the commodity is \\(900\\). Total spending on the numeraire good is \\(9100\\).\n"
      ],
      "text/plain": [
       "<IPython.core.display.Latex object>"
      ]
     },
     "metadata": {},
     "output_type": "display_data"
    }
   ],
   "source": [
    "prob = np.random.choice(myprobs)\n",
    "display(Latex(prob['setup']))\n",
    "display(Latex(prob['solution']))"
   ]
  },
  {
   "cell_type": "code",
   "execution_count": 11,
   "id": "d270645f-0aec-437b-a021-45bd4e787f9f",
   "metadata": {},
   "outputs": [
    {
     "data": {
      "text/plain": [
       "280"
      ]
     },
     "execution_count": 11,
     "metadata": {},
     "output_type": "execute_result"
    }
   ],
   "source": [
    "len(myprobs)"
   ]
  },
  {
   "cell_type": "code",
   "execution_count": 18,
   "id": "53c4cc01-0a75-41c8-b7a6-291a7244244c",
   "metadata": {},
   "outputs": [
    {
     "data": {
      "text/plain": [
       "9.0"
      ]
     },
     "execution_count": 18,
     "metadata": {},
     "output_type": "execute_result"
    }
   ],
   "source": [
    "2.25*4"
   ]
  }
 ],
 "metadata": {
  "kernelspec": {
   "display_name": "Python 3 (ipykernel)",
   "language": "python",
   "name": "python3"
  },
  "language_info": {
   "codemirror_mode": {
    "name": "ipython",
    "version": 3
   },
   "file_extension": ".py",
   "mimetype": "text/x-python",
   "name": "python",
   "nbconvert_exporter": "python",
   "pygments_lexer": "ipython3",
   "version": "3.10.5"
  }
 },
 "nbformat": 4,
 "nbformat_minor": 5
}
