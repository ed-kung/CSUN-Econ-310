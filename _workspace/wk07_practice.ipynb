{
 "cells": [
  {
   "cell_type": "code",
   "execution_count": 12,
   "id": "2b06770f-63e6-4bb8-8104-1850bcc82b73",
   "metadata": {},
   "outputs": [],
   "source": [
    "import os\n",
    "import numpy as np\n",
    "import pandas as pd\n",
    "from IPython.display import display, Markdown, Latex\n",
    "import json\n",
    "from utils import CobbDouglasIC, CobbDouglasConsumer\n",
    "from utils import cbeq, polyeq, term, is_divisible, Number\n",
    "from matplotlib import pyplot as plt\n",
    "\n",
    "SMALL_SIZE = 14\n",
    "MEDIUM_SIZE = 16\n",
    "LARGE_SIZE = 18\n",
    "HUGE_SIZE = 20\n",
    "\n",
    "plt.rcdefaults()\n",
    "plt.rcParams['text.usetex'] = True\n",
    "plt.rcParams['font.family'] = 'Helvetica'\n",
    "plt.rcParams['font.size'] = MEDIUM_SIZE\n",
    "plt.rcParams['axes.titlesize'] = LARGE_SIZE\n",
    "plt.rcParams['axes.labelsize'] = MEDIUM_SIZE\n",
    "plt.rcParams['xtick.labelsize'] = MEDIUM_SIZE\n",
    "plt.rcParams['ytick.labelsize'] = MEDIUM_SIZE\n",
    "plt.rcParams['legend.fontsize'] = MEDIUM_SIZE\n",
    "plt.rcParams['figure.titlesize'] = LARGE_SIZE\n",
    "plt.rcParams['figure.figsize'] = [7.2, 7.2]\n",
    "plt.rcParams['figure.dpi'] = 60\n",
    "plt.rcParams['figure.facecolor'] = (1.0, 1.0, 1.0, 0.0)\n",
    "\n",
    "JSON_FILE = \"../assets/data/wk07_practice.json\"\n",
    "IMAGE_PATH = \"../assets/images/wk07\"\n",
    "probs = []\n",
    "nprob = 0"
   ]
  },
  {
   "cell_type": "code",
   "execution_count": 13,
   "id": "2bf99035-7e31-4a08-9c06-9556af51187d",
   "metadata": {},
   "outputs": [
    {
     "data": {
      "image/png": "[encoded data removed]",
      "text/plain": [
       "<Figure size 432x432 with 1 Axes>"
      ]
     },
     "metadata": {
      "needs_background": "light"
     },
     "output_type": "display_data"
    },
    {
     "data": {
      "text/plain": [
       "True"
      ]
     },
     "execution_count": 13,
     "metadata": {},
     "output_type": "execute_result"
    }
   ],
   "source": [
    "prob = CobbDouglasConsumer()\n",
    "prob.graph_schematic(show=True)"
   ]
  },
  {
   "cell_type": "code",
   "execution_count": 14,
   "id": "7a07f30e-aa8a-4e1c-9a96-63bdaa08b41e",
   "metadata": {},
   "outputs": [
    {
     "name": "stdout",
     "output_type": "stream",
     "text": [
      "50\n"
     ]
    }
   ],
   "source": [
    "# Cobb Douglas Consumer\n",
    "df = pd.read_csv(\"CobbDouglasConsumer_examples.csv\")\n",
    "mydf = pd.concat([\n",
    "    df.loc[ (df['dx']==2) ].sample(25),\n",
    "    df.loc[ (df['dx']>2) ].sample(25)\n",
    "]).reset_index(drop=True)\n",
    "    \n",
    "for idx, row in mydf.iterrows():\n",
    "    params = dict(row).copy()\n",
    "    prob = CobbDouglasConsumer(params)\n",
    "    xopt = prob.sol['x']\n",
    "    yopt = prob.sol['y']\n",
    "    filename = f\"practice_problem_{nprob}.png\"\n",
    "    prob.graph_schematic(show=False, saveas=f\"{IMAGE_PATH}/{filename}\")\n",
    "    setup = prob.setup()\n",
    "    setup += fr\"\"\"\n",
    "<p>1. Solve for the optimal consumption bundle of \\(x\\) and \\(y\\).</p>\n",
    "<p>2. Draw a diagram representing the solution.</p>\n",
    "\"\"\"\n",
    "    solution = fr\"\"\"\n",
    "$$ x^* = {xopt:g} $$\n",
    "\n",
    "$$ y^* = {yopt:g} $$\n",
    "\n",
    "<img src=\"/CSUN-Econ-310/assets/images/wk07/{filename}\">\n",
    "\"\"\"\n",
    "    probs.append({'setup':setup, 'solution':solution})\n",
    "    nprob+=1\n",
    "print(len(probs))"
   ]
  },
  {
   "cell_type": "code",
   "execution_count": 15,
   "id": "33091cde-3ac4-454e-82aa-6c6e4877e1e2",
   "metadata": {},
   "outputs": [
    {
     "name": "stdout",
     "output_type": "stream",
     "text": [
      "90\n"
     ]
    }
   ],
   "source": [
    "# Cobb Douglas Consumer\n",
    "df = pd.read_csv(\"CobbDouglasConsumer_examples.csv\")\n",
    "mydf = pd.concat([\n",
    "    df.loc[ (df['dx']==2) ].sample(20),\n",
    "    df.loc[ (df['dx']>2) ].sample(20)\n",
    "]).reset_index(drop=True)\n",
    "    \n",
    "for idx, row in mydf.iterrows():\n",
    "    params = dict(row).copy()\n",
    "    nx, dx, ny, dy, I, px, py, gmax = params['nx'], params['dx'], params['ny'], params['dy'], params['I'], params['px'], params['py'], params['gmax']\n",
    "    prob = CobbDouglasConsumer(params)\n",
    "    xopt = prob.sol['x']\n",
    "    yopt = prob.sol['y']\n",
    "    setup_filename = f\"practice_problem_setup_{nprob}.png\"\n",
    "    solution_filename = f\"practice_problem_solution_{nprob}.png\"\n",
    "    prob.graph_with_IC(with_solution=False, show=False, saveas=f\"{IMAGE_PATH}/{setup_filename}\")\n",
    "    prob.graph_with_IC(with_solution=True, show=False, saveas=f\"{IMAGE_PATH}/{solution_filename}\")\n",
    "    setup = fr\"\"\"\n",
    "<p>A consumer with income \\(I = {I:g}\\) has a utility function over two goods, \\(x\\) and \\(y\\), \n",
    "represented by the indifference curves below:</p>\n",
    "\n",
    "<img src=\"/CSUN-Econ-310/assets/images/wk07/{setup_filename}\">\n",
    "\n",
    "<p>The price of good \\(x\\) is \\(p_x = {px:g}\\) and the price of good \\(y\\) is \\(p_y = {py:g}\\).</p>\n",
    "\n",
    "<p>1. Draw the budget constraint.</p>\n",
    "<p>2. What is the optimal choice of \\(x\\) and \\(y\\)?</p>\n",
    "\"\"\"\n",
    "    solution = fr\"\"\"\n",
    "$$ x^* = {xopt:g} $$\n",
    "\n",
    "$$ y^* = {yopt:g} $$\n",
    "\n",
    "<img src=\"/CSUN-Econ-310/assets/images/wk07/{solution_filename}\">\n",
    "\"\"\"\n",
    "    probs.append({'setup':setup, 'solution':solution})\n",
    "    nprob+=1\n",
    "print(len(probs))"
   ]
  },
  {
   "cell_type": "code",
   "execution_count": 16,
   "id": "c55d4467-8661-40b3-ad19-524f2feacca2",
   "metadata": {},
   "outputs": [],
   "source": [
    "with open(JSON_FILE, 'w') as f:\n",
    "    json.dump(probs, f)"
   ]
  },
  {
   "cell_type": "code",
   "execution_count": 17,
   "id": "c4e3e697-5232-45e1-86af-82bb39287878",
   "metadata": {},
   "outputs": [],
   "source": [
    "with open(JSON_FILE, 'r') as f:\n",
    "    myprobs = json.load(f)"
   ]
  },
  {
   "cell_type": "code",
   "execution_count": 18,
   "id": "334981b0-251c-4ede-acd4-7e00dab2dd32",
   "metadata": {},
   "outputs": [
    {
     "data": {
      "text/latex": [
       "\n",
       "A consumer with income \\(I=480\\) has a utility function over two goods, \\(x\\) and \\(y\\):\n",
       "\n",
       "$$ u(x,y) = x^{ 1 / 2 }y^{ 1 / 2 } $$\n",
       "\n",
       "The price of good \\(x\\) is \\(p_x = 3 \\) and the price of good \\(y\\) is \\(p_y = 3 \\).\n",
       "\n",
       "<p>1. Solve for the optimal consumption bundle of \\(x\\) and \\(y\\).</p>\n",
       "<p>2. Draw a diagram representing the solution.</p>\n"
      ],
      "text/plain": [
       "<IPython.core.display.Latex object>"
      ]
     },
     "metadata": {},
     "output_type": "display_data"
    },
    {
     "data": {
      "text/latex": [
       "\n",
       "$$ x^* = 80 $$\n",
       "\n",
       "$$ y^* = 80 $$\n",
       "\n",
       "<img src=\"/CSUN-Econ-310/assets/images/wk07/practice_problem_22.png\">\n"
      ],
      "text/plain": [
       "<IPython.core.display.Latex object>"
      ]
     },
     "metadata": {},
     "output_type": "display_data"
    }
   ],
   "source": [
    "prob = np.random.choice(myprobs)\n",
    "display(Latex(prob['setup']))\n",
    "display(Latex(prob['solution']))"
   ]
  },
  {
   "cell_type": "code",
   "execution_count": 19,
   "id": "d270645f-0aec-437b-a021-45bd4e787f9f",
   "metadata": {},
   "outputs": [
    {
     "data": {
      "text/plain": [
       "90"
      ]
     },
     "execution_count": 19,
     "metadata": {},
     "output_type": "execute_result"
    }
   ],
   "source": [
    "len(myprobs)"
   ]
  },
  {
   "cell_type": "code",
   "execution_count": null,
   "id": "274619b0-b45f-42f7-bdf8-8b6a83ba6251",
   "metadata": {},
   "outputs": [],
   "source": []
  }
 ],
 "metadata": {
  "kernelspec": {
   "display_name": "Python 3 (ipykernel)",
   "language": "python",
   "name": "python3"
  },
  "language_info": {
   "codemirror_mode": {
    "name": "ipython",
    "version": 3
   },
   "file_extension": ".py",
   "mimetype": "text/x-python",
   "name": "python",
   "nbconvert_exporter": "python",
   "pygments_lexer": "ipython3",
   "version": "3.10.5"
  }
 },
 "nbformat": 4,
 "nbformat_minor": 5
}
