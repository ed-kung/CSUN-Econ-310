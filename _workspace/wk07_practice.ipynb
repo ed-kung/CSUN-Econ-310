{
 "cells": [
  {
   "cell_type": "code",
   "execution_count": 1,
   "id": "2b06770f-63e6-4bb8-8104-1850bcc82b73",
   "metadata": {},
   "outputs": [
    {
     "data": {
      "image/png": "[encoded data removed]",
      "text/plain": [
       "<Figure size 432x432 with 1 Axes>"
      ]
     },
     "metadata": {
      "needs_background": "light"
     },
     "output_type": "display_data"
    }
   ],
   "source": [
    "import os\n",
    "import numpy as np\n",
    "import pandas as pd\n",
    "from IPython.display import display, Markdown, Latex\n",
    "import json\n",
    "from utils import CobbDouglasIC, CobbDouglasConsumer, PerfectSubstitutes, Leontieff, QuasilinearCE\n",
    "from utils import cbeq, polyeq, term, is_divisible, Number\n",
    "from matplotlib import pyplot as plt\n",
    "\n",
    "plt.plot()\n",
    "\n",
    "SMALL_SIZE = 14\n",
    "MEDIUM_SIZE = 16\n",
    "LARGE_SIZE = 18\n",
    "HUGE_SIZE = 20\n",
    "\n",
    "plt.rcdefaults()\n",
    "plt.rcParams['text.usetex'] = True\n",
    "plt.rcParams['font.family'] = 'Helvetica'\n",
    "plt.rcParams['font.size'] = MEDIUM_SIZE\n",
    "plt.rcParams['axes.titlesize'] = LARGE_SIZE\n",
    "plt.rcParams['axes.labelsize'] = MEDIUM_SIZE\n",
    "plt.rcParams['xtick.labelsize'] = MEDIUM_SIZE\n",
    "plt.rcParams['ytick.labelsize'] = MEDIUM_SIZE\n",
    "plt.rcParams['legend.fontsize'] = MEDIUM_SIZE\n",
    "plt.rcParams['figure.titlesize'] = LARGE_SIZE\n",
    "plt.rcParams['figure.figsize'] = [7.2, 7.2]\n",
    "plt.rcParams['figure.dpi'] = 60\n",
    "plt.rcParams['figure.facecolor'] = (1.0, 1.0, 1.0, 0.0)\n",
    "\n",
    "JSON_FILE = \"../assets/data/wk07_practice.json\"\n",
    "IMAGE_PATH = \"../assets/images/wk07\"\n",
    "probs = []\n",
    "nprob = 0"
   ]
  },
  {
   "cell_type": "code",
   "execution_count": 2,
   "id": "2bf99035-7e31-4a08-9c06-9556af51187d",
   "metadata": {},
   "outputs": [
    {
     "data": {
      "image/png": "[encoded data removed]",
      "text/plain": [
       "<Figure size 432x432 with 1 Axes>"
      ]
     },
     "metadata": {
      "needs_background": "light"
     },
     "output_type": "display_data"
    },
    {
     "data": {
      "text/plain": [
       "True"
      ]
     },
     "execution_count": 2,
     "metadata": {},
     "output_type": "execute_result"
    }
   ],
   "source": [
    "prob = CobbDouglasConsumer()\n",
    "prob.graph_schematic(show=True)"
   ]
  },
  {
   "cell_type": "code",
   "execution_count": 3,
   "id": "7a07f30e-aa8a-4e1c-9a96-63bdaa08b41e",
   "metadata": {},
   "outputs": [
    {
     "name": "stdout",
     "output_type": "stream",
     "text": [
      "40\n"
     ]
    }
   ],
   "source": [
    "# Cobb Douglas Consumer Numerical\n",
    "df = pd.read_csv(\"CobbDouglasConsumer_examples.csv\")\n",
    "mydf = pd.concat([\n",
    "    df.loc[ (df['dx']==2) ].sample(20),\n",
    "    df.loc[ (df['dx']>2) ].sample(20)\n",
    "]).reset_index(drop=True)\n",
    "    \n",
    "for idx, row in mydf.iterrows():\n",
    "    params = dict(row).copy()\n",
    "    prob = CobbDouglasConsumer(params)\n",
    "    xopt = prob.sol['x']\n",
    "    yopt = prob.sol['y']\n",
    "    setup = prob.setup()\n",
    "    setup += fr\"\"\"\n",
    "<p>Solve for the optimal consumption bundle of \\(x\\) and \\(y\\).</p>\n",
    "\"\"\"\n",
    "    solution = fr\"\"\"\n",
    "$$ x^* = {xopt:g} $$\n",
    "\n",
    "$$ y^* = {yopt:g} $$\n",
    "\"\"\"\n",
    "    probs.append({'setup':setup, 'solution':solution})\n",
    "    nprob+=1\n",
    "print(len(probs))"
   ]
  },
  {
   "cell_type": "code",
   "execution_count": 4,
   "id": "33091cde-3ac4-454e-82aa-6c6e4877e1e2",
   "metadata": {},
   "outputs": [
    {
     "name": "stdout",
     "output_type": "stream",
     "text": [
      "60\n"
     ]
    }
   ],
   "source": [
    "# Cobb Douglas Consumer Graphical\n",
    "df = pd.read_csv(\"CobbDouglasConsumer_examples.csv\")\n",
    "mydf = pd.concat([\n",
    "    df.loc[ (df['dx']==2) ].sample(10),\n",
    "    df.loc[ (df['dx']>2) ].sample(10)\n",
    "]).reset_index(drop=True)\n",
    "    \n",
    "for idx, row in mydf.iterrows():\n",
    "    params = dict(row).copy()\n",
    "    nx, dx, ny, dy, I, px, py, gmax = params['nx'], params['dx'], params['ny'], params['dy'], params['I'], params['px'], params['py'], params['gmax']\n",
    "    prob = CobbDouglasConsumer(params)\n",
    "    xopt = prob.sol['x']\n",
    "    yopt = prob.sol['y']\n",
    "    setup_filename = f\"practice_problem_setup_{nprob}.png\"\n",
    "    solution_filename = f\"practice_problem_solution_{nprob}.png\"\n",
    "    prob.graph_with_IC(with_solution=False, show=False, saveas=f\"{IMAGE_PATH}/{setup_filename}\")\n",
    "    prob.graph_with_IC(with_solution=True, show=False, saveas=f\"{IMAGE_PATH}/{solution_filename}\")\n",
    "    setup = fr\"\"\"\n",
    "<p>A consumer with income \\(I = {I:g}\\) has a utility function over two goods, \\(x\\) and \\(y\\), \n",
    "represented by the indifference curves below:</p>\n",
    "\n",
    "<img src=\"/CSUN-Econ-310/assets/images/wk07/{setup_filename}\">\n",
    "\n",
    "<p>The price of good \\(x\\) is \\(p_x = {px:g}\\) and the price of good \\(y\\) is \\(p_y = {py:g}\\).</p>\n",
    "\n",
    "<p>1. Draw the budget constraint.</p>\n",
    "<p>2. What is the optimal choice of \\(x\\) and \\(y\\)?</p>\n",
    "\"\"\"\n",
    "    solution = fr\"\"\"\n",
    "$$ x^* = {xopt:g} $$\n",
    "\n",
    "$$ y^* = {yopt:g} $$\n",
    "\n",
    "<img src=\"/CSUN-Econ-310/assets/images/wk07/{solution_filename}\">\n",
    "\"\"\"\n",
    "    probs.append({'setup':setup, 'solution':solution})\n",
    "    nprob+=1\n",
    "print(len(probs))"
   ]
  },
  {
   "cell_type": "code",
   "execution_count": 5,
   "id": "ed2ae7df-2839-4ff9-bb68-2e2c6a0b7d85",
   "metadata": {},
   "outputs": [
    {
     "ename": "FileNotFoundError",
     "evalue": "[Errno 2] No such file or directory: 'PerfectSubstitutes_examples.csv'",
     "output_type": "error",
     "traceback": [
      "\u001b[0;31m---------------------------------------------------------------------------\u001b[0m",
      "\u001b[0;31mFileNotFoundError\u001b[0m                         Traceback (most recent call last)",
      "Cell \u001b[0;32mIn[5], line 2\u001b[0m\n\u001b[1;32m      1\u001b[0m \u001b[38;5;66;03m# Perfect Substitutes Graphical\u001b[39;00m\n\u001b[0;32m----> 2\u001b[0m df \u001b[38;5;241m=\u001b[39m \u001b[43mpd\u001b[49m\u001b[38;5;241;43m.\u001b[39;49m\u001b[43mread_csv\u001b[49m\u001b[43m(\u001b[49m\u001b[38;5;124;43m\"\u001b[39;49m\u001b[38;5;124;43mPerfectSubstitutes_examples.csv\u001b[39;49m\u001b[38;5;124;43m\"\u001b[39;49m\u001b[43m)\u001b[49m\n\u001b[1;32m      3\u001b[0m mydf \u001b[38;5;241m=\u001b[39m df\u001b[38;5;241m.\u001b[39msample(\u001b[38;5;241m20\u001b[39m)\n\u001b[1;32m      5\u001b[0m \u001b[38;5;28;01mfor\u001b[39;00m idx, row \u001b[38;5;129;01min\u001b[39;00m mydf\u001b[38;5;241m.\u001b[39miterrows():\n",
      "File \u001b[0;32m~/workspace/envs/myenv/lib/python3.9/site-packages/pandas/io/parsers/readers.py:1026\u001b[0m, in \u001b[0;36mread_csv\u001b[0;34m(filepath_or_buffer, sep, delimiter, header, names, index_col, usecols, dtype, engine, converters, true_values, false_values, skipinitialspace, skiprows, skipfooter, nrows, na_values, keep_default_na, na_filter, verbose, skip_blank_lines, parse_dates, infer_datetime_format, keep_date_col, date_parser, date_format, dayfirst, cache_dates, iterator, chunksize, compression, thousands, decimal, lineterminator, quotechar, quoting, doublequote, escapechar, comment, encoding, encoding_errors, dialect, on_bad_lines, delim_whitespace, low_memory, memory_map, float_precision, storage_options, dtype_backend)\u001b[0m\n\u001b[1;32m   1013\u001b[0m kwds_defaults \u001b[38;5;241m=\u001b[39m _refine_defaults_read(\n\u001b[1;32m   1014\u001b[0m     dialect,\n\u001b[1;32m   1015\u001b[0m     delimiter,\n\u001b[0;32m   (...)\u001b[0m\n\u001b[1;32m   1022\u001b[0m     dtype_backend\u001b[38;5;241m=\u001b[39mdtype_backend,\n\u001b[1;32m   1023\u001b[0m )\n\u001b[1;32m   1024\u001b[0m kwds\u001b[38;5;241m.\u001b[39mupdate(kwds_defaults)\n\u001b[0;32m-> 1026\u001b[0m \u001b[38;5;28;01mreturn\u001b[39;00m \u001b[43m_read\u001b[49m\u001b[43m(\u001b[49m\u001b[43mfilepath_or_buffer\u001b[49m\u001b[43m,\u001b[49m\u001b[43m \u001b[49m\u001b[43mkwds\u001b[49m\u001b[43m)\u001b[49m\n",
      "File \u001b[0;32m~/workspace/envs/myenv/lib/python3.9/site-packages/pandas/io/parsers/readers.py:620\u001b[0m, in \u001b[0;36m_read\u001b[0;34m(filepath_or_buffer, kwds)\u001b[0m\n\u001b[1;32m    617\u001b[0m _validate_names(kwds\u001b[38;5;241m.\u001b[39mget(\u001b[38;5;124m\"\u001b[39m\u001b[38;5;124mnames\u001b[39m\u001b[38;5;124m\"\u001b[39m, \u001b[38;5;28;01mNone\u001b[39;00m))\n\u001b[1;32m    619\u001b[0m \u001b[38;5;66;03m# Create the parser.\u001b[39;00m\n\u001b[0;32m--> 620\u001b[0m parser \u001b[38;5;241m=\u001b[39m \u001b[43mTextFileReader\u001b[49m\u001b[43m(\u001b[49m\u001b[43mfilepath_or_buffer\u001b[49m\u001b[43m,\u001b[49m\u001b[43m \u001b[49m\u001b[38;5;241;43m*\u001b[39;49m\u001b[38;5;241;43m*\u001b[39;49m\u001b[43mkwds\u001b[49m\u001b[43m)\u001b[49m\n\u001b[1;32m    622\u001b[0m \u001b[38;5;28;01mif\u001b[39;00m chunksize \u001b[38;5;129;01mor\u001b[39;00m iterator:\n\u001b[1;32m    623\u001b[0m     \u001b[38;5;28;01mreturn\u001b[39;00m parser\n",
      "File \u001b[0;32m~/workspace/envs/myenv/lib/python3.9/site-packages/pandas/io/parsers/readers.py:1620\u001b[0m, in \u001b[0;36mTextFileReader.__init__\u001b[0;34m(self, f, engine, **kwds)\u001b[0m\n\u001b[1;32m   1617\u001b[0m     \u001b[38;5;28mself\u001b[39m\u001b[38;5;241m.\u001b[39moptions[\u001b[38;5;124m\"\u001b[39m\u001b[38;5;124mhas_index_names\u001b[39m\u001b[38;5;124m\"\u001b[39m] \u001b[38;5;241m=\u001b[39m kwds[\u001b[38;5;124m\"\u001b[39m\u001b[38;5;124mhas_index_names\u001b[39m\u001b[38;5;124m\"\u001b[39m]\n\u001b[1;32m   1619\u001b[0m \u001b[38;5;28mself\u001b[39m\u001b[38;5;241m.\u001b[39mhandles: IOHandles \u001b[38;5;241m|\u001b[39m \u001b[38;5;28;01mNone\u001b[39;00m \u001b[38;5;241m=\u001b[39m \u001b[38;5;28;01mNone\u001b[39;00m\n\u001b[0;32m-> 1620\u001b[0m \u001b[38;5;28mself\u001b[39m\u001b[38;5;241m.\u001b[39m_engine \u001b[38;5;241m=\u001b[39m \u001b[38;5;28;43mself\u001b[39;49m\u001b[38;5;241;43m.\u001b[39;49m\u001b[43m_make_engine\u001b[49m\u001b[43m(\u001b[49m\u001b[43mf\u001b[49m\u001b[43m,\u001b[49m\u001b[43m \u001b[49m\u001b[38;5;28;43mself\u001b[39;49m\u001b[38;5;241;43m.\u001b[39;49m\u001b[43mengine\u001b[49m\u001b[43m)\u001b[49m\n",
      "File \u001b[0;32m~/workspace/envs/myenv/lib/python3.9/site-packages/pandas/io/parsers/readers.py:1880\u001b[0m, in \u001b[0;36mTextFileReader._make_engine\u001b[0;34m(self, f, engine)\u001b[0m\n\u001b[1;32m   1878\u001b[0m     \u001b[38;5;28;01mif\u001b[39;00m \u001b[38;5;124m\"\u001b[39m\u001b[38;5;124mb\u001b[39m\u001b[38;5;124m\"\u001b[39m \u001b[38;5;129;01mnot\u001b[39;00m \u001b[38;5;129;01min\u001b[39;00m mode:\n\u001b[1;32m   1879\u001b[0m         mode \u001b[38;5;241m+\u001b[39m\u001b[38;5;241m=\u001b[39m \u001b[38;5;124m\"\u001b[39m\u001b[38;5;124mb\u001b[39m\u001b[38;5;124m\"\u001b[39m\n\u001b[0;32m-> 1880\u001b[0m \u001b[38;5;28mself\u001b[39m\u001b[38;5;241m.\u001b[39mhandles \u001b[38;5;241m=\u001b[39m \u001b[43mget_handle\u001b[49m\u001b[43m(\u001b[49m\n\u001b[1;32m   1881\u001b[0m \u001b[43m    \u001b[49m\u001b[43mf\u001b[49m\u001b[43m,\u001b[49m\n\u001b[1;32m   1882\u001b[0m \u001b[43m    \u001b[49m\u001b[43mmode\u001b[49m\u001b[43m,\u001b[49m\n\u001b[1;32m   1883\u001b[0m \u001b[43m    \u001b[49m\u001b[43mencoding\u001b[49m\u001b[38;5;241;43m=\u001b[39;49m\u001b[38;5;28;43mself\u001b[39;49m\u001b[38;5;241;43m.\u001b[39;49m\u001b[43moptions\u001b[49m\u001b[38;5;241;43m.\u001b[39;49m\u001b[43mget\u001b[49m\u001b[43m(\u001b[49m\u001b[38;5;124;43m\"\u001b[39;49m\u001b[38;5;124;43mencoding\u001b[39;49m\u001b[38;5;124;43m\"\u001b[39;49m\u001b[43m,\u001b[49m\u001b[43m \u001b[49m\u001b[38;5;28;43;01mNone\u001b[39;49;00m\u001b[43m)\u001b[49m\u001b[43m,\u001b[49m\n\u001b[1;32m   1884\u001b[0m \u001b[43m    \u001b[49m\u001b[43mcompression\u001b[49m\u001b[38;5;241;43m=\u001b[39;49m\u001b[38;5;28;43mself\u001b[39;49m\u001b[38;5;241;43m.\u001b[39;49m\u001b[43moptions\u001b[49m\u001b[38;5;241;43m.\u001b[39;49m\u001b[43mget\u001b[49m\u001b[43m(\u001b[49m\u001b[38;5;124;43m\"\u001b[39;49m\u001b[38;5;124;43mcompression\u001b[39;49m\u001b[38;5;124;43m\"\u001b[39;49m\u001b[43m,\u001b[49m\u001b[43m \u001b[49m\u001b[38;5;28;43;01mNone\u001b[39;49;00m\u001b[43m)\u001b[49m\u001b[43m,\u001b[49m\n\u001b[1;32m   1885\u001b[0m \u001b[43m    \u001b[49m\u001b[43mmemory_map\u001b[49m\u001b[38;5;241;43m=\u001b[39;49m\u001b[38;5;28;43mself\u001b[39;49m\u001b[38;5;241;43m.\u001b[39;49m\u001b[43moptions\u001b[49m\u001b[38;5;241;43m.\u001b[39;49m\u001b[43mget\u001b[49m\u001b[43m(\u001b[49m\u001b[38;5;124;43m\"\u001b[39;49m\u001b[38;5;124;43mmemory_map\u001b[39;49m\u001b[38;5;124;43m\"\u001b[39;49m\u001b[43m,\u001b[49m\u001b[43m \u001b[49m\u001b[38;5;28;43;01mFalse\u001b[39;49;00m\u001b[43m)\u001b[49m\u001b[43m,\u001b[49m\n\u001b[1;32m   1886\u001b[0m \u001b[43m    \u001b[49m\u001b[43mis_text\u001b[49m\u001b[38;5;241;43m=\u001b[39;49m\u001b[43mis_text\u001b[49m\u001b[43m,\u001b[49m\n\u001b[1;32m   1887\u001b[0m \u001b[43m    \u001b[49m\u001b[43merrors\u001b[49m\u001b[38;5;241;43m=\u001b[39;49m\u001b[38;5;28;43mself\u001b[39;49m\u001b[38;5;241;43m.\u001b[39;49m\u001b[43moptions\u001b[49m\u001b[38;5;241;43m.\u001b[39;49m\u001b[43mget\u001b[49m\u001b[43m(\u001b[49m\u001b[38;5;124;43m\"\u001b[39;49m\u001b[38;5;124;43mencoding_errors\u001b[39;49m\u001b[38;5;124;43m\"\u001b[39;49m\u001b[43m,\u001b[49m\u001b[43m \u001b[49m\u001b[38;5;124;43m\"\u001b[39;49m\u001b[38;5;124;43mstrict\u001b[39;49m\u001b[38;5;124;43m\"\u001b[39;49m\u001b[43m)\u001b[49m\u001b[43m,\u001b[49m\n\u001b[1;32m   1888\u001b[0m \u001b[43m    \u001b[49m\u001b[43mstorage_options\u001b[49m\u001b[38;5;241;43m=\u001b[39;49m\u001b[38;5;28;43mself\u001b[39;49m\u001b[38;5;241;43m.\u001b[39;49m\u001b[43moptions\u001b[49m\u001b[38;5;241;43m.\u001b[39;49m\u001b[43mget\u001b[49m\u001b[43m(\u001b[49m\u001b[38;5;124;43m\"\u001b[39;49m\u001b[38;5;124;43mstorage_options\u001b[39;49m\u001b[38;5;124;43m\"\u001b[39;49m\u001b[43m,\u001b[49m\u001b[43m \u001b[49m\u001b[38;5;28;43;01mNone\u001b[39;49;00m\u001b[43m)\u001b[49m\u001b[43m,\u001b[49m\n\u001b[1;32m   1889\u001b[0m \u001b[43m\u001b[49m\u001b[43m)\u001b[49m\n\u001b[1;32m   1890\u001b[0m \u001b[38;5;28;01massert\u001b[39;00m \u001b[38;5;28mself\u001b[39m\u001b[38;5;241m.\u001b[39mhandles \u001b[38;5;129;01mis\u001b[39;00m \u001b[38;5;129;01mnot\u001b[39;00m \u001b[38;5;28;01mNone\u001b[39;00m\n\u001b[1;32m   1891\u001b[0m f \u001b[38;5;241m=\u001b[39m \u001b[38;5;28mself\u001b[39m\u001b[38;5;241m.\u001b[39mhandles\u001b[38;5;241m.\u001b[39mhandle\n",
      "File \u001b[0;32m~/workspace/envs/myenv/lib/python3.9/site-packages/pandas/io/common.py:873\u001b[0m, in \u001b[0;36mget_handle\u001b[0;34m(path_or_buf, mode, encoding, compression, memory_map, is_text, errors, storage_options)\u001b[0m\n\u001b[1;32m    868\u001b[0m \u001b[38;5;28;01melif\u001b[39;00m \u001b[38;5;28misinstance\u001b[39m(handle, \u001b[38;5;28mstr\u001b[39m):\n\u001b[1;32m    869\u001b[0m     \u001b[38;5;66;03m# Check whether the filename is to be opened in binary mode.\u001b[39;00m\n\u001b[1;32m    870\u001b[0m     \u001b[38;5;66;03m# Binary mode does not support 'encoding' and 'newline'.\u001b[39;00m\n\u001b[1;32m    871\u001b[0m     \u001b[38;5;28;01mif\u001b[39;00m ioargs\u001b[38;5;241m.\u001b[39mencoding \u001b[38;5;129;01mand\u001b[39;00m \u001b[38;5;124m\"\u001b[39m\u001b[38;5;124mb\u001b[39m\u001b[38;5;124m\"\u001b[39m \u001b[38;5;129;01mnot\u001b[39;00m \u001b[38;5;129;01min\u001b[39;00m ioargs\u001b[38;5;241m.\u001b[39mmode:\n\u001b[1;32m    872\u001b[0m         \u001b[38;5;66;03m# Encoding\u001b[39;00m\n\u001b[0;32m--> 873\u001b[0m         handle \u001b[38;5;241m=\u001b[39m \u001b[38;5;28;43mopen\u001b[39;49m\u001b[43m(\u001b[49m\n\u001b[1;32m    874\u001b[0m \u001b[43m            \u001b[49m\u001b[43mhandle\u001b[49m\u001b[43m,\u001b[49m\n\u001b[1;32m    875\u001b[0m \u001b[43m            \u001b[49m\u001b[43mioargs\u001b[49m\u001b[38;5;241;43m.\u001b[39;49m\u001b[43mmode\u001b[49m\u001b[43m,\u001b[49m\n\u001b[1;32m    876\u001b[0m \u001b[43m            \u001b[49m\u001b[43mencoding\u001b[49m\u001b[38;5;241;43m=\u001b[39;49m\u001b[43mioargs\u001b[49m\u001b[38;5;241;43m.\u001b[39;49m\u001b[43mencoding\u001b[49m\u001b[43m,\u001b[49m\n\u001b[1;32m    877\u001b[0m \u001b[43m            \u001b[49m\u001b[43merrors\u001b[49m\u001b[38;5;241;43m=\u001b[39;49m\u001b[43merrors\u001b[49m\u001b[43m,\u001b[49m\n\u001b[1;32m    878\u001b[0m \u001b[43m            \u001b[49m\u001b[43mnewline\u001b[49m\u001b[38;5;241;43m=\u001b[39;49m\u001b[38;5;124;43m\"\u001b[39;49m\u001b[38;5;124;43m\"\u001b[39;49m\u001b[43m,\u001b[49m\n\u001b[1;32m    879\u001b[0m \u001b[43m        \u001b[49m\u001b[43m)\u001b[49m\n\u001b[1;32m    880\u001b[0m     \u001b[38;5;28;01melse\u001b[39;00m:\n\u001b[1;32m    881\u001b[0m         \u001b[38;5;66;03m# Binary mode\u001b[39;00m\n\u001b[1;32m    882\u001b[0m         handle \u001b[38;5;241m=\u001b[39m \u001b[38;5;28mopen\u001b[39m(handle, ioargs\u001b[38;5;241m.\u001b[39mmode)\n",
      "\u001b[0;31mFileNotFoundError\u001b[0m: [Errno 2] No such file or directory: 'PerfectSubstitutes_examples.csv'"
     ]
    }
   ],
   "source": [
    "# Perfect Substitutes Graphical\n",
    "df = pd.read_csv(\"PerfectSubstitutes_examples.csv\")\n",
    "mydf = df.sample(20)\n",
    "    \n",
    "for idx, row in mydf.iterrows():\n",
    "    params = dict(row).copy()\n",
    "    I,a,b,px,py,gmax = params['I'], params['a'], params['b'], params['px'], params['py'], params['gmax']\n",
    "    prob = PerfectSubstitutes(params)\n",
    "    xopt = prob.sol['x']\n",
    "    yopt = prob.sol['y']\n",
    "    setup_filename = f\"practice_problem_setup_{nprob}.png\"\n",
    "    solution_filename = f\"practice_problem_solution_{nprob}.png\"\n",
    "    prob.graph_with_IC(with_solution=False, show=False, saveas=f\"{IMAGE_PATH}/{setup_filename}\")\n",
    "    prob.graph_with_IC(with_solution=True, show=False, saveas=f\"{IMAGE_PATH}/{solution_filename}\")\n",
    "    setup = fr\"\"\"\n",
    "<p>A consumer with income \\(I = {I:g}\\) has a utility function over two goods, \\(x\\) and \\(y\\), \n",
    "represented by the indifference curves below:</p>\n",
    "\n",
    "<img src=\"/CSUN-Econ-310/assets/images/wk07/{setup_filename}\">\n",
    "\n",
    "<p>The price of good \\(x\\) is \\(p_x = {px:g}\\) and the price of good \\(y\\) is \\(p_y = {py:g}\\).</p>\n",
    "\n",
    "<p>1. Draw the budget constraint.</p>\n",
    "<p>2. What is the optimal choice of \\(x\\) and \\(y\\)?</p>\n",
    "\"\"\"\n",
    "    solution = fr\"\"\"\n",
    "$$ x^* = {xopt:g} $$\n",
    "\n",
    "$$ y^* = {yopt:g} $$\n",
    "\n",
    "<img src=\"/CSUN-Econ-310/assets/images/wk07/{solution_filename}\">\n",
    "\"\"\"\n",
    "    probs.append({'setup':setup, 'solution':solution})\n",
    "    nprob+=1\n",
    "print(len(probs))"
   ]
  },
  {
   "cell_type": "code",
   "execution_count": null,
   "id": "f3ce6f03-b465-49f9-866d-4bbd5aebd55b",
   "metadata": {},
   "outputs": [],
   "source": [
    "# Leontieff Graphical\n",
    "df = pd.read_csv(\"Leontieff_examples.csv\")\n",
    "mydf = df.sample(10)\n",
    "    \n",
    "for idx, row in mydf.iterrows():\n",
    "    params = dict(row).copy()\n",
    "    I,px,py,gmax = params['I'], params['px'], params['py'], params['gmax']\n",
    "    prob = Leontieff(params)\n",
    "    xopt = prob.sol['x']\n",
    "    yopt = prob.sol['y']\n",
    "    setup_filename = f\"practice_problem_setup_{nprob}.png\"\n",
    "    solution_filename = f\"practice_problem_solution_{nprob}.png\"\n",
    "    prob.graph_with_IC(with_solution=False, show=False, saveas=f\"{IMAGE_PATH}/{setup_filename}\")\n",
    "    prob.graph_with_IC(with_solution=True, show=False, saveas=f\"{IMAGE_PATH}/{solution_filename}\")\n",
    "    setup = fr\"\"\"\n",
    "<p>A consumer with income \\(I = {I:g}\\) has a utility function over two goods, \\(x\\) and \\(y\\), \n",
    "represented by the indifference curves below:</p>\n",
    "\n",
    "<img src=\"/CSUN-Econ-310/assets/images/wk07/{setup_filename}\">\n",
    "\n",
    "<p>The price of good \\(x\\) is \\(p_x = {px:g}\\) and the price of good \\(y\\) is \\(p_y = {py:g}\\).</p>\n",
    "\n",
    "<p>1. Draw the budget constraint.</p>\n",
    "<p>2. What is the optimal choice of \\(x\\) and \\(y\\)?</p>\n",
    "\"\"\"\n",
    "    solution = fr\"\"\"\n",
    "$$ x^* = {xopt:g} $$\n",
    "\n",
    "$$ y^* = {yopt:g} $$\n",
    "\n",
    "<img src=\"/CSUN-Econ-310/assets/images/wk07/{solution_filename}\">\n",
    "\"\"\"\n",
    "    probs.append({'setup':setup, 'solution':solution})\n",
    "    nprob+=1\n",
    "print(len(probs))"
   ]
  },
  {
   "cell_type": "code",
   "execution_count": null,
   "id": "9a7a8b6b-59bf-4f7c-95e3-b7a75316b35f",
   "metadata": {},
   "outputs": [],
   "source": [
    "# Quasilinear Consumer Numerical\n",
    "df = pd.read_csv(\"QuasilinearCE_examples.csv\")\n",
    "mydf = df.sample(30).reset_index(drop=True)\n",
    "for idx, row in mydf.iterrows():\n",
    "    params = dict(row).copy()\n",
    "    prob = QuasilinearCE(params)\n",
    "    xopt = prob.sol['x']\n",
    "    yopt = prob.sol['y']\n",
    "    setup = prob.setup()\n",
    "    setup += fr\"\"\"\n",
    "<p>Solve for the optimal consumption bundle of \\(x\\) and \\(y\\).</p>\n",
    "\"\"\"\n",
    "    solution = fr\"\"\"\n",
    "$$ x^* = {xopt:g} $$\n",
    "\n",
    "$$ y^* = {yopt:g} $$\n",
    "\"\"\"\n",
    "    probs.append({'setup':setup, 'solution':solution})\n",
    "    nprob+=1\n",
    "print(len(probs))"
   ]
  },
  {
   "cell_type": "code",
   "execution_count": null,
   "id": "38a20218-de0e-40ff-bde3-be65db3c5c01",
   "metadata": {},
   "outputs": [],
   "source": [
    "# Quasilinear Graphical\n",
    "df = pd.read_csv(\"QuasilinearCE_examples.csv\")\n",
    "mydf = df.sample(20).reset_index(drop=True)\n",
    "    \n",
    "for idx, row in mydf.iterrows():\n",
    "    params = dict(row).copy()\n",
    "    I,a,n,d,px,py,gmax,numeraire = params['I'], params['a'], params['n'], params['d'], params['px'], params['py'], params['gmax'], params['numeraire']\n",
    "    prob = QuasilinearCE(params)\n",
    "    xopt = prob.sol['x']\n",
    "    yopt = prob.sol['y']\n",
    "    setup_filename = f\"practice_problem_setup_{nprob}.png\"\n",
    "    solution_filename = f\"practice_problem_solution_{nprob}.png\"\n",
    "    prob.graph_with_IC(with_solution=False, show=False, saveas=f\"{IMAGE_PATH}/{setup_filename}\")\n",
    "    prob.graph_with_IC(with_solution=True, show=False, saveas=f\"{IMAGE_PATH}/{solution_filename}\")\n",
    "    setup = fr\"\"\"\n",
    "<p>A consumer with income \\(I = {I:g}\\) has a utility function over two goods, \\(x\\) and \\(y\\), \n",
    "represented by the indifference curves below:</p>\n",
    "\n",
    "<img src=\"/CSUN-Econ-310/assets/images/wk07/{setup_filename}\">\n",
    "\n",
    "<p>The price of good \\(x\\) is \\(p_x = {px:g}\\) and the price of good \\(y\\) is \\(p_y = {py:g}\\).</p>\n",
    "\n",
    "<p>1. Draw the budget constraint.</p>\n",
    "<p>2. What is the optimal choice of \\(x\\) and \\(y\\)?</p>\n",
    "\"\"\"\n",
    "    solution = fr\"\"\"\n",
    "$$ x^* = {xopt:g} $$\n",
    "\n",
    "$$ y^* = {yopt:g} $$\n",
    "\n",
    "<img src=\"/CSUN-Econ-310/assets/images/wk07/{solution_filename}\">\n",
    "\"\"\"\n",
    "    probs.append({'setup':setup, 'solution':solution})\n",
    "    nprob+=1\n",
    "print(len(probs))"
   ]
  },
  {
   "cell_type": "code",
   "execution_count": null,
   "id": "c55d4467-8661-40b3-ad19-524f2feacca2",
   "metadata": {},
   "outputs": [],
   "source": [
    "with open(JSON_FILE, 'w') as f:\n",
    "    json.dump(probs, f)"
   ]
  },
  {
   "cell_type": "code",
   "execution_count": null,
   "id": "c4e3e697-5232-45e1-86af-82bb39287878",
   "metadata": {},
   "outputs": [],
   "source": [
    "with open(JSON_FILE, 'r') as f:\n",
    "    myprobs = json.load(f)"
   ]
  },
  {
   "cell_type": "code",
   "execution_count": null,
   "id": "334981b0-251c-4ede-acd4-7e00dab2dd32",
   "metadata": {},
   "outputs": [],
   "source": [
    "prob = np.random.choice(myprobs)\n",
    "display(Latex(prob['setup']))\n",
    "display(Latex(prob['solution']))"
   ]
  },
  {
   "cell_type": "code",
   "execution_count": null,
   "id": "d270645f-0aec-437b-a021-45bd4e787f9f",
   "metadata": {},
   "outputs": [],
   "source": [
    "len(myprobs)"
   ]
  },
  {
   "cell_type": "code",
   "execution_count": null,
   "id": "274619b0-b45f-42f7-bdf8-8b6a83ba6251",
   "metadata": {},
   "outputs": [],
   "source": []
  }
 ],
 "metadata": {
  "kernelspec": {
   "display_name": "Python 3 (ipykernel)",
   "language": "python",
   "name": "python3"
  },
  "language_info": {
   "codemirror_mode": {
    "name": "ipython",
    "version": 3
   },
   "file_extension": ".py",
   "mimetype": "text/x-python",
   "name": "python",
   "nbconvert_exporter": "python",
   "pygments_lexer": "ipython3",
   "version": "3.9.6"
  }
 },
 "nbformat": 4,
 "nbformat_minor": 5
}
