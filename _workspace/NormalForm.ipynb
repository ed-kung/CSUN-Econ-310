{
 "cells": [
  {
   "cell_type": "code",
   "execution_count": 1,
   "id": "df12c667-f8cc-4876-afdf-cddca13bfae7",
   "metadata": {},
   "outputs": [],
   "source": [
    "import numpy as np\n",
    "import pandas as pd\n",
    "from matplotlib import pyplot as plt\n",
    "from matplotlib import cm\n",
    "from IPython.display import display, Markdown, Latex, HTML\n",
    "import pickle\n",
    "rng = np.random.default_rng(561)\n",
    "\n",
    "SMALL_SIZE = 12\n",
    "MEDIUM_SIZE = 14\n",
    "LARGE_SIZE = 16\n",
    "\n",
    "plt.rcdefaults()\n",
    "plt.rcParams['text.usetex'] = True\n",
    "plt.rcParams['font.family'] = 'Helvetica'\n",
    "plt.rcParams['font.size'] = MEDIUM_SIZE\n",
    "plt.rcParams['axes.titlesize'] = LARGE_SIZE\n",
    "plt.rcParams['axes.labelsize'] = MEDIUM_SIZE\n",
    "plt.rcParams['xtick.labelsize'] = SMALL_SIZE\n",
    "plt.rcParams['ytick.labelsize'] = SMALL_SIZE\n",
    "plt.rcParams['legend.fontsize'] = MEDIUM_SIZE\n",
    "plt.rcParams['figure.titlesize'] = LARGE_SIZE\n",
    "plt.rcParams['figure.figsize'] = [7.2, 4.8]\n",
    "plt.rcParams['figure.dpi'] = 60\n",
    "plt.rcParams['figure.facecolor'] = (1.0, 1.0, 1.0, 0.0)\n",
    "\n",
    "from utils import NormalForm, get_random_prob\n"
   ]
  },
  {
   "cell_type": "code",
   "execution_count": 2,
   "id": "2607ce59-343b-427e-b33b-ef84ff10af61",
   "metadata": {},
   "outputs": [
    {
     "name": "stdout",
     "output_type": "stream",
     "text": [
      "{'Suspect 1': {'Snitch': ['Snitch'], 'No Snitch': ['Snitch']}, 'Suspect 2': {'Snitch': ['Snitch'], 'No Snitch': ['Snitch']}}\n",
      "[('Snitch', 'Snitch')]\n"
     ]
    },
    {
     "data": {
      "text/html": [
       "<table border=1px align=\"center\">\n",
       "  <tr>\n",
       "    <td></td>\n",
       "    <td></td>\n",
       "    <td colspan=2 align=\"center\">Suspect 2</td>\n",
       "  </tr>\n",
       "  <tr>\n",
       "    <td></td>\n",
       "    <td></td>\n",
       "    <td align=\"center\">Snitch</td>\n",
       "    <td align=\"center\">No Snitch</td>\n",
       "  <tr>\n",
       "    <td rowspan=2>Suspect 1</td>\n",
       "    <td>Snitch</td>\n",
       "    <td align=\"center\">-4, -4</td>\n",
       "    <td align=\"center\">0, -8</td>\n",
       "  </tr>\n",
       "  <tr>\n",
       "    <td>No Snitch</td>\n",
       "    <td align=\"center\">-8, 0</td>\n",
       "    <td align=\"center\">-1, -1</td>\n",
       "  </tr>\n",
       "</table>\n"
      ],
      "text/plain": [
       "<IPython.core.display.HTML object>"
      ]
     },
     "metadata": {},
     "output_type": "display_data"
    }
   ],
   "source": [
    "# Prisoner's Dilemma\n",
    "prob = NormalForm(params = {\n",
    "    'players': ['Suspect 1', 'Suspect 2'],\n",
    "    'strategies': [\n",
    "        ['Snitch', 'No Snitch'],\n",
    "        ['Snitch', 'No Snitch']\n",
    "    ],\n",
    "    'payoffs': [\n",
    "        [[-4,-4], [0,-8]],\n",
    "        [[-8,0], [-1,-1]]\n",
    "    ]\n",
    "})\n",
    "print(prob.br)\n",
    "print(prob.ne)\n",
    "display(HTML(prob.table_as_html()))"
   ]
  },
  {
   "cell_type": "code",
   "execution_count": 3,
   "id": "a75d70a4-4244-4c6d-a98b-1ae9bc06a59c",
   "metadata": {},
   "outputs": [
    {
     "name": "stdout",
     "output_type": "stream",
     "text": [
      "{'Hunter 1': {'Stag': ['Stag'], 'Rabbit': ['Rabbit']}, 'Hunter 2': {'Stag': ['Stag'], 'Rabbit': ['Rabbit']}}\n",
      "[('Stag', 'Stag'), ('Rabbit', 'Rabbit')]\n"
     ]
    },
    {
     "data": {
      "text/html": [
       "<table border=1px align=\"center\">\n",
       "  <tr>\n",
       "    <td></td>\n",
       "    <td></td>\n",
       "    <td colspan=2 align=\"center\">Hunter 2</td>\n",
       "  </tr>\n",
       "  <tr>\n",
       "    <td></td>\n",
       "    <td></td>\n",
       "    <td align=\"center\">Stag</td>\n",
       "    <td align=\"center\">Rabbit</td>\n",
       "  <tr>\n",
       "    <td rowspan=2>Hunter 1</td>\n",
       "    <td>Stag</td>\n",
       "    <td align=\"center\">4, 4</td>\n",
       "    <td align=\"center\">0, 1</td>\n",
       "  </tr>\n",
       "  <tr>\n",
       "    <td>Rabbit</td>\n",
       "    <td align=\"center\">1, 0</td>\n",
       "    <td align=\"center\">1, 1</td>\n",
       "  </tr>\n",
       "</table>\n"
      ],
      "text/plain": [
       "<IPython.core.display.HTML object>"
      ]
     },
     "metadata": {},
     "output_type": "display_data"
    }
   ],
   "source": [
    "# Stag Hunt\n",
    "prob = NormalForm(params = {\n",
    "    'players': ['Hunter 1', 'Hunter 2'],\n",
    "    'strategies': [\n",
    "        ['Stag', 'Rabbit'],\n",
    "        ['Stag', 'Rabbit']\n",
    "    ],\n",
    "    'payoffs': [\n",
    "        [[4,4], [0,1]],\n",
    "        [[1,0], [1,1]]\n",
    "    ]\n",
    "})\n",
    "print(prob.br)\n",
    "print(prob.ne)\n",
    "display(HTML(prob.table_as_html()))"
   ]
  },
  {
   "cell_type": "code",
   "execution_count": 4,
   "id": "c52c4da0-9e04-4186-8af3-0b6e4b7abfd8",
   "metadata": {},
   "outputs": [
    {
     "name": "stdout",
     "output_type": "stream",
     "text": [
      "{'Teen 1': {'Straight': ['Swerve'], 'Swerve': ['Straight']}, 'Teen 2': {'Straight': ['Swerve'], 'Swerve': ['Straight']}}\n",
      "[('Straight', 'Swerve'), ('Swerve', 'Straight')]\n"
     ]
    },
    {
     "data": {
      "text/html": [
       "<table border=1px align=\"center\">\n",
       "  <tr>\n",
       "    <td></td>\n",
       "    <td></td>\n",
       "    <td colspan=2 align=\"center\">Teen 2</td>\n",
       "  </tr>\n",
       "  <tr>\n",
       "    <td></td>\n",
       "    <td></td>\n",
       "    <td align=\"center\">Straight</td>\n",
       "    <td align=\"center\">Swerve</td>\n",
       "  <tr>\n",
       "    <td rowspan=2>Teen 1</td>\n",
       "    <td>Straight</td>\n",
       "    <td align=\"center\">-10, -10</td>\n",
       "    <td align=\"center\">5, -5</td>\n",
       "  </tr>\n",
       "  <tr>\n",
       "    <td>Swerve</td>\n",
       "    <td align=\"center\">-5, 5</td>\n",
       "    <td align=\"center\">0, 0</td>\n",
       "  </tr>\n",
       "</table>\n"
      ],
      "text/plain": [
       "<IPython.core.display.HTML object>"
      ]
     },
     "metadata": {},
     "output_type": "display_data"
    }
   ],
   "source": [
    "# Chicken\n",
    "prob = NormalForm(params = {\n",
    "    'players': ['Teen 1', 'Teen 2'],\n",
    "    'strategies': [\n",
    "        ['Straight', 'Swerve'],\n",
    "        ['Straight', 'Swerve']\n",
    "    ],\n",
    "    'payoffs': [\n",
    "        [[-10,-10], [5,-5]],\n",
    "        [[-5,5], [0,0]]\n",
    "    ]\n",
    "})\n",
    "print(prob.br)\n",
    "print(prob.ne)\n",
    "display(HTML(prob.table_as_html()))"
   ]
  },
  {
   "cell_type": "code",
   "execution_count": 5,
   "id": "1927f90a-3a67-4ee4-be01-2485f9a13fdf",
   "metadata": {},
   "outputs": [
    {
     "name": "stdout",
     "output_type": "stream",
     "text": [
      "{'Player 1': {'Rock': ['Paper'], 'Paper': ['Scissors'], 'Scissors': ['Rock']}, 'Player 2': {'Rock': ['Paper'], 'Paper': ['Scissors'], 'Scissors': ['Rock']}}\n",
      "[]\n"
     ]
    },
    {
     "data": {
      "text/html": [
       "<table border=1px align=\"center\">\n",
       "  <tr>\n",
       "    <td></td>\n",
       "    <td></td>\n",
       "    <td colspan=3 align=\"center\">Player 2</td>\n",
       "  </tr>\n",
       "  <tr>\n",
       "    <td></td>\n",
       "    <td></td>\n",
       "    <td align=\"center\">Rock</td>\n",
       "    <td align=\"center\">Paper</td>\n",
       "    <td align=\"center\">Scissors</td>\n",
       "  <tr>\n",
       "    <td rowspan=3>Player 1</td>\n",
       "    <td>Rock</td>\n",
       "    <td align=\"center\">0, 0</td>\n",
       "    <td align=\"center\">-1, 1</td>\n",
       "    <td align=\"center\">1, -1</td>\n",
       "  </tr>\n",
       "  <tr>\n",
       "    <td>Paper</td>\n",
       "    <td align=\"center\">1, -1</td>\n",
       "    <td align=\"center\">0, 0</td>\n",
       "    <td align=\"center\">-1, 1</td>\n",
       "  </tr>\n",
       "  <tr>\n",
       "    <td>Scissors</td>\n",
       "    <td align=\"center\">-1, 1</td>\n",
       "    <td align=\"center\">1, -1</td>\n",
       "    <td align=\"center\">0, 0</td>\n",
       "  </tr>\n",
       "</table>\n"
      ],
      "text/plain": [
       "<IPython.core.display.HTML object>"
      ]
     },
     "metadata": {},
     "output_type": "display_data"
    }
   ],
   "source": [
    "# Rock Paper Scissors\n",
    "prob = NormalForm(params = {\n",
    "    'players': ['Player 1', 'Player 2'],\n",
    "    'strategies': [\n",
    "        ['Rock', 'Paper', 'Scissors'],\n",
    "        ['Rock', 'Paper', 'Scissors']\n",
    "    ],\n",
    "    'payoffs': [\n",
    "        [[0,0], [-1,1], [1,-1]],\n",
    "        [[1,-1], [0,0], [-1,1]],\n",
    "        [[-1,1], [1,-1], [0,0]]\n",
    "    ]\n",
    "})\n",
    "print(prob.br)\n",
    "print(prob.ne)\n",
    "display(HTML(prob.table_as_html()))"
   ]
  },
  {
   "cell_type": "code",
   "execution_count": 6,
   "id": "15ddb811-f013-443b-a1d1-e5a655751a32",
   "metadata": {},
   "outputs": [
    {
     "name": "stdout",
     "output_type": "stream",
     "text": [
      "840 examples found.\n"
     ]
    }
   ],
   "source": [
    "examples = []\n",
    "n_found = 0\n",
    "\n",
    "players = ['Player 1', 'Player 2']\n",
    "strategies = [['A','B'], ['A','B']]\n",
    "\n",
    "# Pisoner's Dilemma\n",
    "for ubest in np.arange(3,10):\n",
    "    for ugood in np.arange(2,ubest):\n",
    "        for ubad in np.arange(1,ugood):\n",
    "            for uworst in np.arange(0,ubad):\n",
    "                #---\n",
    "                payoffs = [[[ugood,ugood],[uworst,ubest]],\n",
    "                           [[ubest,uworst],[ubad,ubad]]]\n",
    "                params = {\n",
    "                    'players': players,\n",
    "                    'strategies': strategies,\n",
    "                    'payoffs': payoffs,\n",
    "                    'gametype': \"Prisoner's Dilemma\"\n",
    "                }\n",
    "                prob = NormalForm(params)\n",
    "                examples.append({'gametype': \"Prisoner's Dilemma\", 'params': params, 'sol': prob.sol})\n",
    "\n",
    "                #---\n",
    "                payoffs = [[[uworst,ubest],[ugood,ugood]],\n",
    "                           [[ubad,ubad],[ubest,uworst]]]\n",
    "                params = {\n",
    "                    'players': players,\n",
    "                    'strategies': strategies,\n",
    "                    'payoffs': payoffs,\n",
    "                    'gametype': \"Prisoner's Dilemma\"\n",
    "                }\n",
    "                prob = NormalForm(params)\n",
    "                examples.append({'gametype': \"Prisoner's Dilemma\", 'params': params, 'sol': prob.sol})\n",
    "\n",
    "                #---\n",
    "                payoffs = [[[ubest,uworst],[ubad,ubad]],\n",
    "                           [[ugood,ugood],[uworst,ubest]]]\n",
    "                params = {\n",
    "                    'players': players,\n",
    "                    'strategies': strategies,\n",
    "                    'payoffs': payoffs,\n",
    "                    'gametype': \"Prisoner's Dilemma\"\n",
    "                }\n",
    "                prob = NormalForm(params)\n",
    "                examples.append({'gametype': \"Prisoner's Dilemma\", 'params': params, 'sol': prob.sol})\n",
    "\n",
    "                #---\n",
    "                payoffs = [[[ubad,ubad],[ubest,uworst]],\n",
    "                           [[uworst,ubest],[ugood,ugood]]]\n",
    "                params = {\n",
    "                    'players': players,\n",
    "                    'strategies': strategies,\n",
    "                    'payoffs': payoffs,\n",
    "                    'gametype': \"Prisoner's Dilemma\"\n",
    "                }\n",
    "                prob = NormalForm(params)\n",
    "                examples.append({'gametype': \"Prisoner's Dilemma\", 'params': params, 'sol': prob.sol})\n",
    "\n",
    "print(f\"{len(examples)} examples found.\")"
   ]
  },
  {
   "cell_type": "code",
   "execution_count": 7,
   "id": "aa8f0802-86d4-4ece-823e-fbd2aba307f1",
   "metadata": {},
   "outputs": [
    {
     "name": "stdout",
     "output_type": "stream",
     "text": [
      "1320 examples found.\n"
     ]
    }
   ],
   "source": [
    "# Stag Hunt\n",
    "gametype = \"Stag Hunt\"\n",
    "for ustag in np.arange(2,10):\n",
    "    for urabbit in np.arange(1,ustag):\n",
    "        for uworst in np.arange(0,urabbit):\n",
    "            #---\n",
    "            payoffs = [[[ustag,ustag],[uworst,urabbit]],\n",
    "                       [[uworst,urabbit],[urabbit,urabbit]]]\n",
    "            params = {\n",
    "                'players': players,\n",
    "                'strategies': strategies,\n",
    "                'payoffs': payoffs,\n",
    "                'gametype': gametype\n",
    "            }\n",
    "            prob = NormalForm(params)\n",
    "            examples.append({'gametype': gametype, 'params': params, 'sol': prob.sol})\n",
    "\n",
    "            #---\n",
    "            payoffs = [[[uworst,urabbit],[ustag,ustag]],\n",
    "                       [[urabbit,urabbit],[urabbit,uworst]]]\n",
    "            params = {\n",
    "                'players': players,\n",
    "                'strategies': strategies,\n",
    "                'payoffs': payoffs,\n",
    "                'gametype': gametype\n",
    "            }\n",
    "            prob = NormalForm(params)\n",
    "            examples.append({'gametype': gametype, 'params': params, 'sol': prob.sol})\n",
    "\n",
    "            #---\n",
    "            payoffs = [[[urabbit,uworst],[urabbit,urabbit]],\n",
    "                       [[ustag,ustag],[uworst,urabbit]]]\n",
    "            params = {\n",
    "                'players': players,\n",
    "                'strategies': strategies,\n",
    "                'payoffs': payoffs,\n",
    "                'gametype': gametype\n",
    "            }\n",
    "            prob = NormalForm(params)\n",
    "            examples.append({'gametype': gametype, 'params': params, 'sol': prob.sol})\n",
    "\n",
    "            #---\n",
    "            payoffs = [[[urabbit,urabbit],[urabbit,uworst]],\n",
    "                       [[uworst,urabbit],[ustag,ustag]]]\n",
    "            params = {\n",
    "                'players': players,\n",
    "                'strategies': strategies,\n",
    "                'payoffs': payoffs,\n",
    "                'gametype': gametype\n",
    "            }\n",
    "            prob = NormalForm(params)\n",
    "            examples.append({'gametype': gametype, 'params': params, 'sol': prob.sol})\n",
    "\n",
    "print(f\"{len(examples)} examples found.\")"
   ]
  },
  {
   "cell_type": "code",
   "execution_count": 8,
   "id": "13f6ce8f-8655-4479-b810-fcc0bf3902b3",
   "metadata": {},
   "outputs": [
    {
     "name": "stdout",
     "output_type": "stream",
     "text": [
      "2160 examples found.\n"
     ]
    }
   ],
   "source": [
    "# Chicken\n",
    "gametype = \"Chicken\"\n",
    "for ubest in np.arange(3,10):\n",
    "    for ugood in np.arange(2,ubest):\n",
    "        for ubad in np.arange(1,ugood):\n",
    "            for uworst in np.arange(0,ubad):\n",
    "                #---\n",
    "                payoffs = [[[ubest,ubad],[uworst,uworst]],\n",
    "                           [[ugood,ugood],[ubad,ubest]]]\n",
    "                params = {\n",
    "                    'players': players,\n",
    "                    'strategies': strategies,\n",
    "                    'payoffs': payoffs,\n",
    "                    'gametype': gametype\n",
    "                }\n",
    "                prob = NormalForm(params)\n",
    "                examples.append({'gametype': gametype, 'params': params, 'sol': prob.sol})\n",
    "    \n",
    "                #---\n",
    "                payoffs = [[[uworst,uworst],[ubest,ubad]],\n",
    "                           [[ubad,ubest],[ugood,ugood]]]\n",
    "                params = {\n",
    "                    'players': players,\n",
    "                    'strategies': strategies,\n",
    "                    'payoffs': payoffs,\n",
    "                    'gametype': gametype\n",
    "                }\n",
    "                prob = NormalForm(params)\n",
    "                examples.append({'gametype': gametype, 'params': params, 'sol': prob.sol})\n",
    "    \n",
    "                #---\n",
    "                payoffs = [[[ugood,ugood],[ubad,ubest]],\n",
    "                           [[ubest,ubad],[uworst,uworst]]]\n",
    "                params = {\n",
    "                    'players': players,\n",
    "                    'strategies': strategies,\n",
    "                    'payoffs': payoffs,\n",
    "                    'gametype': gametype\n",
    "                }\n",
    "                prob = NormalForm(params)\n",
    "                examples.append({'gametype': gametype, 'params': params, 'sol': prob.sol})\n",
    "    \n",
    "                #---\n",
    "                payoffs = [[[ubad,ubest],[ugood,ugood]],\n",
    "                           [[uworst,uworst],[ubest,ubad]]]\n",
    "                params = {\n",
    "                    'players': players,\n",
    "                    'strategies': strategies,\n",
    "                    'payoffs': payoffs,\n",
    "                    'gametype': gametype\n",
    "                }\n",
    "                prob = NormalForm(params)\n",
    "                examples.append({'gametype': gametype, 'params': params, 'sol': prob.sol})\n",
    "\n",
    "print(f\"{len(examples)} examples found.\")"
   ]
  },
  {
   "cell_type": "code",
   "execution_count": 9,
   "id": "3597e2b5-451f-401a-bb7f-fdda0696e893",
   "metadata": {},
   "outputs": [
    {
     "name": "stdout",
     "output_type": "stream",
     "text": [
      "2340 examples found.\n"
     ]
    }
   ],
   "source": [
    "# Rock Paper Scissors\n",
    "gametype = \"Rock Paper Scissors\"\n",
    "for uwin in np.arange(1,10):\n",
    "    for ulose in np.arange(-uwin,uwin):\n",
    "        #---\n",
    "        payoffs = [[[uwin,ulose],[ulose,uwin]],\n",
    "                   [[ulose,uwin],[uwin,ulose]]]\n",
    "        params = {\n",
    "            'players': players,\n",
    "            'strategies': strategies,\n",
    "            'payoffs': payoffs,\n",
    "            'gametype': gametype\n",
    "        }\n",
    "        prob = NormalForm(params)\n",
    "        examples.append({'gametype': gametype, 'params': params, 'sol': prob.sol})\n",
    "    \n",
    "        #---\n",
    "        payoffs = [[[ulose,uwin],[uwin,ulose]],\n",
    "                   [[uwin,ulose],[ulose,uwin]]]\n",
    "        params = {\n",
    "            'players': players,\n",
    "            'strategies': strategies,\n",
    "            'payoffs': payoffs,\n",
    "            'gametype': gametype\n",
    "        }\n",
    "        prob = NormalForm(params)\n",
    "        examples.append({'gametype': gametype, 'params': params, 'sol': prob.sol})\n",
    "\n",
    "print(f\"{len(examples)} examples found.\")"
   ]
  },
  {
   "cell_type": "code",
   "execution_count": 10,
   "id": "f7f00bc3-857d-40e2-9718-a3a96cca85a1",
   "metadata": {},
   "outputs": [
    {
     "name": "stdout",
     "output_type": "stream",
     "text": [
      "2440 examples found.\n"
     ]
    }
   ],
   "source": [
    "# Generic 2x2\n",
    "gametype = \"Generic 2x2\"\n",
    "for i in np.arange(100):\n",
    "    payoffs = [[[rng.integers(0,11),rng.integers(0,11)],[rng.integers(0,11),rng.integers(0,11)]],\n",
    "               [[rng.integers(0,11),rng.integers(0,11)],[rng.integers(0,11),rng.integers(0,11)]]]\n",
    "    params = {\n",
    "        'players': players,\n",
    "        'strategies': strategies,\n",
    "        'payoffs': payoffs,\n",
    "        'gametype': gametype\n",
    "    }\n",
    "    prob = NormalForm(params)\n",
    "    examples.append({'gametype': gametype, 'params': params, 'sol': prob.sol})\n",
    "\n",
    "print(f\"{len(examples)} examples found.\")\n"
   ]
  },
  {
   "cell_type": "code",
   "execution_count": 11,
   "id": "599a5f30-bf00-4c11-a022-abc19b85f2aa",
   "metadata": {},
   "outputs": [
    {
     "name": "stdout",
     "output_type": "stream",
     "text": [
      "2540 examples found.\n"
     ]
    }
   ],
   "source": [
    "# Generic 3x3\n",
    "gametype = \"Generic 3x3\"\n",
    "players = ['Player 1', 'Player 2']\n",
    "strategies = [['A','B','C'],['A','B','C']]\n",
    "for i in np.arange(100):\n",
    "    payoffs = [[[rng.integers(0,11),rng.integers(0,11)],[rng.integers(0,11),rng.integers(0,11)],[rng.integers(0,11),rng.integers(0,11)]],\n",
    "               [[rng.integers(0,11),rng.integers(0,11)],[rng.integers(0,11),rng.integers(0,11)],[rng.integers(0,11),rng.integers(0,11)]],\n",
    "               [[rng.integers(0,11),rng.integers(0,11)],[rng.integers(0,11),rng.integers(0,11)],[rng.integers(0,11),rng.integers(0,11)]]]\n",
    "    params = {\n",
    "        'players': players,\n",
    "        'strategies': strategies,\n",
    "        'payoffs': payoffs,\n",
    "        'gametype': gametype\n",
    "    }\n",
    "    prob = NormalForm(params)\n",
    "    examples.append({'gametype': gametype, 'params': params, 'sol': prob.sol})\n",
    "\n",
    "print(f\"{len(examples)} examples found.\")\n"
   ]
  },
  {
   "cell_type": "code",
   "execution_count": 12,
   "id": "7e6ba7ec-474f-4dd7-836b-d573a1f4839c",
   "metadata": {},
   "outputs": [],
   "source": [
    "examples = pd.DataFrame.from_dict(examples)\n",
    "examples.to_pickle(\"NormalForm_examples.pkl\")"
   ]
  },
  {
   "cell_type": "code",
   "execution_count": 44,
   "id": "9ef0aa89-9607-4a36-9a95-5427b10a8009",
   "metadata": {},
   "outputs": [
    {
     "name": "stdout",
     "output_type": "stream",
     "text": [
      "Generic 3x3\n",
      "{'Player 1': {'A': ['C'], 'B': ['C'], 'C': ['C']}, 'Player 2': {'A': ['C'], 'B': ['B', 'C'], 'C': ['C']}}\n",
      "[('C', 'C')]\n"
     ]
    },
    {
     "data": {
      "text/html": [
       "<table border=1px align=\"center\">\n",
       "  <tr>\n",
       "    <td></td>\n",
       "    <td></td>\n",
       "    <td colspan=3 align=\"center\">Player 2</td>\n",
       "  </tr>\n",
       "  <tr>\n",
       "    <td></td>\n",
       "    <td></td>\n",
       "    <td align=\"center\">A</td>\n",
       "    <td align=\"center\">B</td>\n",
       "    <td align=\"center\">C</td>\n",
       "  <tr>\n",
       "    <td rowspan=3>Player 1</td>\n",
       "    <td>A</td>\n",
       "    <td align=\"center\">6, 2</td>\n",
       "    <td align=\"center\">1, 3</td>\n",
       "    <td align=\"center\">5, 4</td>\n",
       "  </tr>\n",
       "  <tr>\n",
       "    <td>B</td>\n",
       "    <td align=\"center\">9, 0</td>\n",
       "    <td align=\"center\">3, 6</td>\n",
       "    <td align=\"center\">4, 6</td>\n",
       "  </tr>\n",
       "  <tr>\n",
       "    <td>C</td>\n",
       "    <td align=\"center\">10, 7</td>\n",
       "    <td align=\"center\">8, 5</td>\n",
       "    <td align=\"center\">9, 8</td>\n",
       "  </tr>\n",
       "</table>\n"
      ],
      "text/plain": [
       "<IPython.core.display.HTML object>"
      ]
     },
     "metadata": {},
     "output_type": "display_data"
    }
   ],
   "source": [
    "idx = np.random.choice(examples.loc[examples['gametype']=='Generic 3x3'].index)\n",
    "myprob = NormalForm(examples.loc[idx, 'params'])\n",
    "print(myprob.params['gametype'])\n",
    "print(myprob.br)\n",
    "print(myprob.ne)\n",
    "display(HTML(myprob.table_as_html()))"
   ]
  }
 ],
 "metadata": {
  "kernelspec": {
   "display_name": "Python 3 (ipykernel)",
   "language": "python",
   "name": "python3"
  },
  "language_info": {
   "codemirror_mode": {
    "name": "ipython",
    "version": 3
   },
   "file_extension": ".py",
   "mimetype": "text/x-python",
   "name": "python",
   "nbconvert_exporter": "python",
   "pygments_lexer": "ipython3",
   "version": "3.12.7"
  }
 },
 "nbformat": 4,
 "nbformat_minor": 5
}
