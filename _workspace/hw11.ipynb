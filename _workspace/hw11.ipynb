{
 "cells": [
  {
   "cell_type": "code",
   "execution_count": 1,
   "id": "3abd9ac5-5177-4dd3-90cf-d44385b5fb2f",
   "metadata": {},
   "outputs": [
    {
     "data": {
      "image/png": "[encoded data removed]",
      "text/plain": [
       "<Figure size 432x288 with 1 Axes>"
      ]
     },
     "metadata": {
      "needs_background": "light"
     },
     "output_type": "display_data"
    }
   ],
   "source": [
    "import os\n",
    "import numpy as np\n",
    "import pandas as pd\n",
    "from IPython.display import display, Markdown, Latex\n",
    "from matplotlib import pyplot as plt\n",
    "\n",
    "import econtools\n",
    "from econtools.documents import Homework, RawLatex\n",
    "from utils import Monopoly\n",
    "from utils import cbeq, polyeq, term, is_divisible, Number\n",
    "\n",
    "rng = np.random.default_rng(100)\n",
    "\n",
    "plt.plot()\n",
    "\n",
    "SMALL_SIZE = 14\n",
    "MEDIUM_SIZE = 16\n",
    "LARGE_SIZE = 18\n",
    "HUGE_SIZE = 20\n",
    "\n",
    "plt.rcdefaults()\n",
    "plt.rcParams['text.usetex'] = True\n",
    "plt.rcParams['font.family'] = 'Helvetica'\n",
    "plt.rcParams['font.size'] = MEDIUM_SIZE\n",
    "plt.rcParams['axes.titlesize'] = LARGE_SIZE\n",
    "plt.rcParams['axes.labelsize'] = MEDIUM_SIZE\n",
    "plt.rcParams['xtick.labelsize'] = MEDIUM_SIZE\n",
    "plt.rcParams['ytick.labelsize'] = MEDIUM_SIZE\n",
    "plt.rcParams['legend.fontsize'] = MEDIUM_SIZE\n",
    "plt.rcParams['figure.titlesize'] = LARGE_SIZE\n",
    "plt.rcParams['figure.figsize'] = [7.2, 7.2]\n",
    "plt.rcParams['figure.dpi'] = 60\n",
    "plt.rcParams['figure.facecolor'] = (1.0, 1.0, 1.0, 0.0)\n",
    "\n",
    "filename = \"econ-310-hw11\"\n",
    "\n",
    "doc = Homework(\n",
    "    title = r\"Econ 310 Week 11 Homework\",\n",
    "    due_date = r\"Tuesday 11/12\"\n",
    ")\n"
   ]
  },
  {
   "cell_type": "code",
   "execution_count": 2,
   "id": "9ae53471-bd51-4847-8c07-1485308c602f",
   "metadata": {},
   "outputs": [
    {
     "data": {
      "text/latex": [
       "\n",
       "A commodity $q$ is supplied by a monopolist with cost function: \n",
       "\n",
       "$$c(q) = 32+4q+q^{ 2 } $$\n",
       "\n",
       "The monopolist faces a market demand curve given by:\n",
       "\n",
       "$$Q_d = 14-\\frac{ 1 }{ 2 }p $$\n",
       "\n",
       "Find the profit maximizing price and quantity. What is the maximum profit?\n"
      ],
      "text/plain": [
       "<IPython.core.display.Latex object>"
      ]
     },
     "metadata": {},
     "output_type": "display_data"
    },
    {
     "name": "stdout",
     "output_type": "stream",
     "text": [
      "{'Q': 4.0, 'p': 20.0, 'U': 116.0, 'Profit': 16.0, 'c': 20.0, 'Q_eff': 6.0, 'p_eff': 16.0, 'U_eff': 136.0, 'Profit_eff': 4.0, 'c_eff': 4.0, 'DWL': 8.0}\n"
     ]
    }
   ],
   "source": [
    "df = pd.read_csv(\"Monopoly_examples.csv\")\n",
    "idx = (df['delta']>0) & (df['eta']>0)\n",
    "params = dict(df.loc[idx].sample(1,random_state=rng).reset_index(drop=True).loc[0])\n",
    "alpha, beta, gamma, delta, eta = params['alpha'], params['beta'], params['gamma'], params['delta'], params['eta']\n",
    "prob = Monopoly(params)\n",
    "question = fr\"\"\"\n",
    "A commodity $q$ is supplied by a monopolist with cost function: \n",
    "\n",
    "$$c(q) = {polyeq('q',[gamma,delta,0.5*eta],[0,1,2])} $$\n",
    "\n",
    "The monopolist faces a market demand curve given by:\n",
    "\n",
    "$$Q_d = {polyeq('p',[Number(alpha,beta), Number(-1,beta)],[0,1])} $$\n",
    "\n",
    "Find the profit maximizing price and quantity. What is the maximum profit?\n",
    "\"\"\"\n",
    "latex = \"\\\\begin{q}\\n\" + question + \"\\\\end{q}\\n\"\n",
    "doc.add(RawLatex(latex))\n",
    "\n",
    "display(Latex(question))\n",
    "print(prob.sol)"
   ]
  },
  {
   "cell_type": "code",
   "execution_count": 3,
   "id": "a7883609-440f-4cf7-a190-b0e4f0ffac04",
   "metadata": {},
   "outputs": [
    {
     "data": {
      "text/latex": [
       "\n",
       "A commodity \\(q\\) is supplied by a monopolist with cost function: \n",
       "\n",
       "$$c(q) = 22+8q $$\n",
       "\n",
       "A representative consumer with income \\(Y=400\\) has a utility function over numeraire consumption \\(c\\) and commodity \\(q\\) given by:\n",
       "\n",
       "$$u(c,q) = c + 24q-q^{ 2 } $$\n",
       "\n",
       "\\begin{enumerate}[a.]\n",
       "\\item Write down the demand curve faced by the monopolist.\n",
       "\\item Find the profit maximizing price and quantity. Calculate firm profit and consumer utility at this point.\n",
       "\\item What is the efficient quantity? Calculate price, firm profit, and consumer utility at the efficient quantity.\n",
       "\\item What is the deadweight loss caused by the monopoly?\n",
       "\\end{enumerate}\n"
      ],
      "text/plain": [
       "<IPython.core.display.Latex object>"
      ]
     },
     "metadata": {},
     "output_type": "display_data"
    },
    {
     "name": "stdout",
     "output_type": "stream",
     "text": [
      "{'Q': 4.0, 'p': 16.0, 'U': 116.0, 'Profit': 10.0, 'c': 36.0, 'Q_eff': 8.0, 'p_eff': 8.0, 'U_eff': 164.0, 'Profit_eff': -22.0, 'c_eff': 36.0, 'DWL': 16.0}\n"
     ]
    }
   ],
   "source": [
    "idx = (df['eta']==0) & (df['gamma']>df['delta'])\n",
    "params = dict(df.loc[idx].sample(1,random_state=rng).reset_index(drop=True).loc[0])\n",
    "alpha, beta, gamma, delta, eta = params['alpha'], params['beta'], params['gamma'], params['delta'], params['eta']\n",
    "prob = Monopoly(params)\n",
    "question = prob.setup()\n",
    "question += fr\"\"\"\n",
    "\\begin{{enumerate}}[a.]\n",
    "\\item Write down the demand curve faced by the monopolist.\n",
    "\\item Find the profit maximizing price and quantity. Calculate firm profit and consumer utility at this point.\n",
    "\\item What is the efficient quantity? Calculate price, firm profit, and consumer utility at the efficient quantity.\n",
    "\\item What is the deadweight loss caused by the monopoly?\n",
    "\\end{{enumerate}}\n",
    "\"\"\"\n",
    "latex = \"\\\\begin{q}\\n\" + question + \"\\\\end{q}\\n\"\n",
    "doc.add(RawLatex(latex))\n",
    "\n",
    "display(Latex(question))\n",
    "print(prob.sol)"
   ]
  },
  {
   "cell_type": "code",
   "execution_count": 4,
   "id": "1e37527d-e209-4066-984f-da19cab4b0e4",
   "metadata": {},
   "outputs": [],
   "source": [
    "doc.print_pdf(filename, \"tex\")"
   ]
  }
 ],
 "metadata": {
  "kernelspec": {
   "display_name": "Python 3 (ipykernel)",
   "language": "python",
   "name": "python3"
  },
  "language_info": {
   "codemirror_mode": {
    "name": "ipython",
    "version": 3
   },
   "file_extension": ".py",
   "mimetype": "text/x-python",
   "name": "python",
   "nbconvert_exporter": "python",
   "pygments_lexer": "ipython3",
   "version": "3.10.5"
  }
 },
 "nbformat": 4,
 "nbformat_minor": 5
}
