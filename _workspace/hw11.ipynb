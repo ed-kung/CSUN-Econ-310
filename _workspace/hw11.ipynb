{
 "cells": [
  {
   "cell_type": "code",
   "execution_count": 1,
   "id": "3abd9ac5-5177-4dd3-90cf-d44385b5fb2f",
   "metadata": {},
   "outputs": [
    {
     "data": {
      "image/png": "[encoded data removed]",
      "text/plain": [
       "<Figure size 432x288 with 1 Axes>"
      ]
     },
     "metadata": {
      "needs_background": "light"
     },
     "output_type": "display_data"
    }
   ],
   "source": [
    "import os\n",
    "import numpy as np\n",
    "import pandas as pd\n",
    "from IPython.display import display, Markdown, Latex\n",
    "from matplotlib import pyplot as plt\n",
    "\n",
    "import econtools\n",
    "from econtools.documents import Homework, RawLatex\n",
    "from utils import Monopoly, PriceDiscrimination\n",
    "from utils import cbeq, polyeq, term, is_divisible, Number\n",
    "\n",
    "rng = np.random.default_rng(100)\n",
    "\n",
    "plt.plot()\n",
    "\n",
    "SMALL_SIZE = 14\n",
    "MEDIUM_SIZE = 16\n",
    "LARGE_SIZE = 18\n",
    "HUGE_SIZE = 20\n",
    "\n",
    "plt.rcdefaults()\n",
    "plt.rcParams['text.usetex'] = True\n",
    "plt.rcParams['font.family'] = 'Helvetica'\n",
    "plt.rcParams['font.size'] = MEDIUM_SIZE\n",
    "plt.rcParams['axes.titlesize'] = LARGE_SIZE\n",
    "plt.rcParams['axes.labelsize'] = MEDIUM_SIZE\n",
    "plt.rcParams['xtick.labelsize'] = MEDIUM_SIZE\n",
    "plt.rcParams['ytick.labelsize'] = MEDIUM_SIZE\n",
    "plt.rcParams['legend.fontsize'] = MEDIUM_SIZE\n",
    "plt.rcParams['figure.titlesize'] = LARGE_SIZE\n",
    "plt.rcParams['figure.figsize'] = [7.2, 7.2]\n",
    "plt.rcParams['figure.dpi'] = 60\n",
    "plt.rcParams['figure.facecolor'] = (1.0, 1.0, 1.0, 0.0)\n",
    "\n",
    "filename = \"econ-310-hw11\"\n",
    "\n",
    "doc = Homework(\n",
    "    title = r\"Econ 310 Week 11 Homework\",\n",
    "    due_date = r\"Tuesday 11/12\"\n",
    ")\n"
   ]
  },
  {
   "cell_type": "code",
   "execution_count": 2,
   "id": "31c7e56f-f597-4885-8716-c1fefe7ff44c",
   "metadata": {},
   "outputs": [
    {
     "data": {
      "text/latex": [
       "\n",
       "For each of the following examples of a monopoly, say what the barrier to entry is.\n",
       "\n",
       "\\begin{enumerate}[a.]\n",
       "\\item A power company that is the only power provider in its region.\n",
       "\\item A pharmaceutical company that owns the patent on a drug.\n",
       "\\item A chemical company that owns a secret formula (but does not have a patent).\n",
       "\\item A social media platform with a dominant market position.\n",
       "\\end{enumerate}\n"
      ],
      "text/plain": [
       "<IPython.core.display.Latex object>"
      ]
     },
     "metadata": {},
     "output_type": "display_data"
    }
   ],
   "source": [
    "question = fr\"\"\"\n",
    "For each of the following examples of a monopoly, say what the barrier to entry is.\n",
    "\n",
    "\\begin{{enumerate}}[a.]\n",
    "\\item A power company that is the only power provider in its region.\n",
    "\\item A pharmaceutical company that owns the patent on a drug.\n",
    "\\item A chemical company that owns a secret formula (but does not have a patent).\n",
    "\\item A social media platform with a dominant market position.\n",
    "\\end{{enumerate}}\n",
    "\"\"\"\n",
    "latex = \"\\\\begin{q}\\n\" + question + \"\\\\end{q}\\n\"\n",
    "doc.add(RawLatex(latex))\n",
    "display(Latex(question))\n"
   ]
  },
  {
   "cell_type": "code",
   "execution_count": 3,
   "id": "9ae53471-bd51-4847-8c07-1485308c602f",
   "metadata": {},
   "outputs": [
    {
     "data": {
      "text/latex": [
       "\n",
       "A commodity $q$ is supplied by a monopolist with cost function: \n",
       "\n",
       "$$c(q) = 32+4q+q^{ 2 } $$\n",
       "\n",
       "The monopolist faces a market demand curve given by:\n",
       "\n",
       "$$Q_d = 14-\\frac{ 1 }{ 2 }p $$\n",
       "\n",
       "Find the profit maximizing price and quantity. What is the maximum profit?\n"
      ],
      "text/plain": [
       "<IPython.core.display.Latex object>"
      ]
     },
     "metadata": {},
     "output_type": "display_data"
    },
    {
     "name": "stdout",
     "output_type": "stream",
     "text": [
      "{'Q': 4.0, 'p': 20.0, 'U': 116.0, 'Profit': 16.0, 'c': 20.0, 'Q_eff': 6.0, 'p_eff': 16.0, 'U_eff': 136.0, 'Profit_eff': 4.0, 'c_eff': 4.0, 'DWL': 8.0}\n"
     ]
    }
   ],
   "source": [
    "df = pd.read_csv(\"Monopoly_examples.csv\")\n",
    "idx = (df['delta']>0) & (df['eta']>0)\n",
    "params = dict(df.loc[idx].sample(1,random_state=rng).reset_index(drop=True).loc[0])\n",
    "alpha, beta, gamma, delta, eta = params['alpha'], params['beta'], params['gamma'], params['delta'], params['eta']\n",
    "prob = Monopoly(params)\n",
    "question = fr\"\"\"\n",
    "A commodity $q$ is supplied by a monopolist with cost function: \n",
    "\n",
    "$$c(q) = {polyeq('q',[gamma,delta,0.5*eta],[0,1,2])} $$\n",
    "\n",
    "The monopolist faces a market demand curve given by:\n",
    "\n",
    "$$Q_d = {polyeq('p',[Number(alpha,beta), Number(-1,beta)],[0,1])} $$\n",
    "\n",
    "Find the profit maximizing price and quantity. What is the maximum profit?\n",
    "\"\"\"\n",
    "latex = \"\\\\begin{q}\\n\" + question + \"\\\\end{q}\\n\"\n",
    "doc.add(RawLatex(latex))\n",
    "\n",
    "display(Latex(question))\n",
    "print(prob.sol)"
   ]
  },
  {
   "cell_type": "code",
   "execution_count": 4,
   "id": "a7883609-440f-4cf7-a190-b0e4f0ffac04",
   "metadata": {},
   "outputs": [
    {
     "data": {
      "text/latex": [
       "\n",
       "A commodity \\(q\\) is supplied by a monopolist with cost function: \n",
       "\n",
       "$$c(q) = 22+8q $$\n",
       "\n",
       "A representative consumer with income \\(Y=400\\) has a utility function over numeraire consumption \\(c\\) and commodity \\(q\\) given by:\n",
       "\n",
       "$$u(c,q) = c + 24q-q^{ 2 } $$\n",
       "\n",
       "\\begin{enumerate}[a.]\n",
       "\\item Write down the demand curve faced by the monopolist.\n",
       "\\item Find the profit maximizing price and quantity. Calculate firm profit and consumer utility at this point.\n",
       "\\item What is the efficient quantity? Calculate price, firm profit, and consumer utility at the efficient quantity.\n",
       "\\item What is the deadweight loss caused by the monopoly?\n",
       "\\end{enumerate}\n"
      ],
      "text/plain": [
       "<IPython.core.display.Latex object>"
      ]
     },
     "metadata": {},
     "output_type": "display_data"
    },
    {
     "name": "stdout",
     "output_type": "stream",
     "text": [
      "{'Q': 4.0, 'p': 16.0, 'U': 116.0, 'Profit': 10.0, 'c': 36.0, 'Q_eff': 8.0, 'p_eff': 8.0, 'U_eff': 164.0, 'Profit_eff': -22.0, 'c_eff': 36.0, 'DWL': 16.0}\n"
     ]
    }
   ],
   "source": [
    "idx = (df['eta']==0) & (df['gamma']>df['delta'])\n",
    "params = dict(df.loc[idx].sample(1,random_state=rng).reset_index(drop=True).loc[0])\n",
    "alpha, beta, gamma, delta, eta = params['alpha'], params['beta'], params['gamma'], params['delta'], params['eta']\n",
    "prob = Monopoly(params)\n",
    "question = prob.setup()\n",
    "question += fr\"\"\"\n",
    "\\begin{{enumerate}}[a.]\n",
    "\\item Write down the demand curve faced by the monopolist.\n",
    "\\item Find the profit maximizing price and quantity. Calculate firm profit and consumer utility at this point.\n",
    "\\item What is the efficient quantity? Calculate price, firm profit, and consumer utility at the efficient quantity.\n",
    "\\item What is the deadweight loss caused by the monopoly?\n",
    "\\end{{enumerate}}\n",
    "\"\"\"\n",
    "latex = \"\\\\begin{q}\\n\" + question + \"\\\\end{q}\\n\"\n",
    "doc.add(RawLatex(latex))\n",
    "\n",
    "display(Latex(question))\n",
    "print(prob.sol)"
   ]
  },
  {
   "cell_type": "code",
   "execution_count": 5,
   "id": "6799e360-57c4-4435-8aa4-64292e2eacb8",
   "metadata": {},
   "outputs": [
    {
     "data": {
      "text/latex": [
       "\n",
       "For each of the following situations, say whether it is an example of price discrimination or not.\n",
       "\n",
       "\\begin{enumerate}[a.]\n",
       "\\item A health insurance company charges higher premiums in different neighborhoods.\n",
       "\\item Uber charges different rates depending on the size of the car and time of the day.\n",
       "\\item Apple charges lower prices on its Macbook computers to students.\n",
       "\\item An airline charges more for seats with extra legroom.\n",
       "\\end{enumerate}\n"
      ],
      "text/plain": [
       "<IPython.core.display.Latex object>"
      ]
     },
     "metadata": {},
     "output_type": "display_data"
    }
   ],
   "source": [
    "question = fr\"\"\"\n",
    "For each of the following situations, say whether it is an example of price discrimination or not.\n",
    "\n",
    "\\begin{{enumerate}}[a.]\n",
    "\\item A health insurance company charges higher premiums in different neighborhoods.\n",
    "\\item Uber charges different rates depending on the size of the car and time of the day.\n",
    "\\item Apple charges lower prices on its Macbook computers to students.\n",
    "\\item An airline charges more for seats with extra legroom.\n",
    "\\end{{enumerate}}\n",
    "\"\"\"\n",
    "latex = \"\\\\begin{q}\\n\" + question + \"\\\\end{q}\\n\"\n",
    "doc.add(RawLatex(latex))\n",
    "display(Latex(question))\n"
   ]
  },
  {
   "cell_type": "code",
   "execution_count": 6,
   "id": "7d1cfe6d-feca-4714-adf0-e83a645eb797",
   "metadata": {},
   "outputs": [
    {
     "data": {
      "text/latex": [
       "\n",
       "A commodity \\(q\\) is supplied by a monopolist with total cost function:\n",
       "\n",
       "$$ c(Q) = 3Q $$\n",
       "\n",
       "There are two representative consumers.\n",
       "\n",
       "Representative consumer 1 has income \\(Y_1=500\\) and utility function over their numeraire consumption \\(c_1\\) and their commodity consumption \\(q_1\\) given by:\n",
       "\n",
       "$$ u_1(c_1,q_1) = c_1 + 17q_1-\\frac{ 1 }{ 2 }q_1^{ 2 } $$\n",
       "\n",
       "Representative consumer 2 has income \\(Y_2=500\\) and utility function over their numeraire consumption \\(c_2\\) and their commodity consumption \\(q_2\\) given by:\n",
       "\n",
       "$$ u_2(c_2,q_2) = c_2 + 35q_2-q_2^{ 2 } $$\n",
       "\n",
       "\\begin{enumerate}[a.]\n",
       "\\item If the firm can price discriminate, what price would it charge to each consumer?\n",
       "\\item Calculate the total profit with price discrimination.\n",
       "\\item Suppose the firm cannot price discriminate. Write down the market inverse demand curve it faces.\n",
       "\\item Find the profit maximizing price when the firm cannot price discriminate.\n",
       "\\item Calculate total profit without price discrimination.\n",
       "\\end{enumerate}\n"
      ],
      "text/plain": [
       "<IPython.core.display.Latex object>"
      ]
     },
     "metadata": {},
     "output_type": "display_data"
    },
    {
     "name": "stdout",
     "output_type": "stream",
     "text": [
      "{'q1': 7.0, 'q2': 8.0, 'p1': 10.0, 'p2': 19.0, 'c1': 430.0, 'c2': 348.0, 'profit': 177.0, 'A': 23.0, 'B': 0.6666666666666666, 'Q_npd': 15.0, 'p_npd': 13.0, 'profit_npd': 150.0, 'q1_npd': 4.0, 'q2_npd': 11.0, 'c1_npd': 448.0, 'c2_npd': 357.0, 'corner': False}\n"
     ]
    }
   ],
   "source": [
    "df = pd.read_csv(\"PriceDiscrimination_examples.csv\")\n",
    "idx = df['profit']>df['profit_npd']\n",
    "params = dict(df.loc[idx].sample(1,random_state=rng).reset_index(drop=True).loc[0])\n",
    "prob = PriceDiscrimination(params)\n",
    "question = prob.setup()\n",
    "question += fr\"\"\"\n",
    "\\begin{{enumerate}}[a.]\n",
    "\\item If the firm can price discriminate, what price would it charge to each consumer?\n",
    "\\item Calculate the total profit with price discrimination.\n",
    "\\item Suppose the firm cannot price discriminate. Write down the market inverse demand curve it faces.\n",
    "\\item Find the profit maximizing price when the firm cannot price discriminate.\n",
    "\\item Calculate total profit without price discrimination.\n",
    "\\end{{enumerate}}\n",
    "\"\"\"\n",
    "latex = \"\\\\begin{q}\\n\" + question + \"\\\\end{q}\\n\"\n",
    "doc.add(RawLatex(latex))\n",
    "\n",
    "display(Latex(question))\n",
    "print(prob.sol)"
   ]
  },
  {
   "cell_type": "code",
   "execution_count": 7,
   "id": "1e37527d-e209-4066-984f-da19cab4b0e4",
   "metadata": {},
   "outputs": [],
   "source": [
    "doc.print_pdf(filename, \"tex\")"
   ]
  }
 ],
 "metadata": {
  "kernelspec": {
   "display_name": "Python 3 (ipykernel)",
   "language": "python",
   "name": "python3"
  },
  "language_info": {
   "codemirror_mode": {
    "name": "ipython",
    "version": 3
   },
   "file_extension": ".py",
   "mimetype": "text/x-python",
   "name": "python",
   "nbconvert_exporter": "python",
   "pygments_lexer": "ipython3",
   "version": "3.10.5"
  }
 },
 "nbformat": 4,
 "nbformat_minor": 5
}
