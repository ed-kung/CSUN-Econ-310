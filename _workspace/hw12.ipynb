{
 "cells": [
  {
   "cell_type": "code",
   "execution_count": 1,
   "id": "3abd9ac5-5177-4dd3-90cf-d44385b5fb2f",
   "metadata": {},
   "outputs": [
    {
     "data": {
      "image/png": "[encoded data removed]",
      "text/plain": [
       "<Figure size 432x432 with 1 Axes>"
      ]
     },
     "metadata": {
      "needs_background": "light"
     },
     "output_type": "display_data"
    }
   ],
   "source": [
    "import os\n",
    "import numpy as np\n",
    "import pandas as pd\n",
    "from IPython.display import display, Markdown, Latex\n",
    "from matplotlib import pyplot as plt\n",
    "\n",
    "import econtools\n",
    "from econtools.documents import Homework, RawLatex\n",
    "from utils import NormalForm\n",
    "from utils import cbeq, polyeq, term, is_divisible, Number\n",
    "\n",
    "rng = np.random.default_rng(120)\n",
    "\n",
    "plt.plot()\n",
    "\n",
    "SMALL_SIZE = 14\n",
    "MEDIUM_SIZE = 16\n",
    "LARGE_SIZE = 18\n",
    "HUGE_SIZE = 20\n",
    "\n",
    "plt.rcdefaults()\n",
    "plt.rcParams['text.usetex'] = True\n",
    "plt.rcParams['font.family'] = 'Helvetica'\n",
    "plt.rcParams['font.size'] = MEDIUM_SIZE\n",
    "plt.rcParams['axes.titlesize'] = LARGE_SIZE\n",
    "plt.rcParams['axes.labelsize'] = MEDIUM_SIZE\n",
    "plt.rcParams['xtick.labelsize'] = MEDIUM_SIZE\n",
    "plt.rcParams['ytick.labelsize'] = MEDIUM_SIZE\n",
    "plt.rcParams['legend.fontsize'] = MEDIUM_SIZE\n",
    "plt.rcParams['figure.titlesize'] = LARGE_SIZE\n",
    "plt.rcParams['figure.figsize'] = [7.2, 7.2]\n",
    "plt.rcParams['figure.dpi'] = 60\n",
    "plt.rcParams['figure.facecolor'] = (1.0, 1.0, 1.0, 0.0)\n",
    "\n",
    "filename = \"econ-310-hw12\"\n",
    "\n",
    "doc = Homework(\n",
    "    title = r\"Econ 310 Week 12 Homework\",\n",
    "    due_date = r\"Tuesday 11/19\"\n",
    ")\n"
   ]
  },
  {
   "cell_type": "code",
   "execution_count": 2,
   "id": "31c7e56f-f597-4885-8716-c1fefe7ff44c",
   "metadata": {},
   "outputs": [
    {
     "data": {
      "text/latex": [
       "\n",
       "A 2-player game is represented by the normal form below:\n",
       "\n",
       "\n",
       "\\begin{center}\n",
       "\\begin{tabular}{|c|c|c|c|} \\hline\n",
       " & & \\multicolumn{2}{c|}{ Player 2 } \\\\ \\hline\n",
       " &  & A & B\\\\ \\hline\n",
       "\\multirow{2}{*}{Player 1}  & A  & 6, 6  & 3, 7 \\\\ \\cline{2-4}\n",
       " & B  & 7, 3  & 5, 5 \\\\ \\hline\n",
       "\n",
       "\\end{tabular}\n",
       "\\end{center}\n",
       "\n",
       "\n",
       "Use the normal form to circle best responses and find all the Nash equilibria. \n",
       "Is the strategic dynamic of this game most similar to Prisoner's Dilemma, Stag Hunt, Chicken, or Rock Paper Scissors?\n"
      ],
      "text/plain": [
       "<IPython.core.display.Latex object>"
      ]
     },
     "metadata": {},
     "output_type": "display_data"
    }
   ],
   "source": [
    "df = pd.read_pickle(\"NormalForm_examples.pkl\")\n",
    "idx = rng.choice(df.loc[ df['gametype']==\"Prisoner's Dilemma\"].index)\n",
    "prob = NormalForm(df.loc[idx, 'params'])\n",
    "\n",
    "question = fr\"\"\"\n",
    "A 2-player game is represented by the normal form below:\n",
    "\n",
    "\"\"\"\n",
    "question += prob.table_as_latex()\n",
    "question += fr\"\"\"\n",
    "\n",
    "Use the normal form to circle best responses and find all the Nash equilibria. \n",
    "Is the strategic dynamic of this game most similar to Prisoner's Dilemma, Stag Hunt, Chicken, or Rock Paper Scissors?\n",
    "\"\"\"\n",
    "\n",
    "latex = \"\\\\begin{q}\\n\" + question + \"\\\\end{q}\\n\"\n",
    "doc.add(RawLatex(latex))\n",
    "display(Latex(question))"
   ]
  },
  {
   "cell_type": "code",
   "execution_count": 3,
   "id": "c44c220c-66a5-44b6-8282-d3460767d11b",
   "metadata": {},
   "outputs": [
    {
     "data": {
      "text/latex": [
       "\n",
       "A 2-player game is represented by the normal form below:\n",
       "\n",
       "\n",
       "\\begin{center}\n",
       "\\begin{tabular}{|c|c|c|c|} \\hline\n",
       " & & \\multicolumn{2}{c|}{ Player 2 } \\\\ \\hline\n",
       " &  & A & B\\\\ \\hline\n",
       "\\multirow{2}{*}{Player 1}  & A  & 3, 3  & 9, 6 \\\\ \\cline{2-4}\n",
       " & B  & 6, 9  & 7, 7 \\\\ \\hline\n",
       "\n",
       "\\end{tabular}\n",
       "\\end{center}\n",
       "\n",
       "\n",
       "Use the normal form to circle best responses and find all the Nash equilibria. \n",
       "Is the strategic dynamic of this game most similar to Prisoner's Dilemma, Stag Hunt, Chicken, or Rock Paper Scissors?\n"
      ],
      "text/plain": [
       "<IPython.core.display.Latex object>"
      ]
     },
     "metadata": {},
     "output_type": "display_data"
    }
   ],
   "source": [
    "df = pd.read_pickle(\"NormalForm_examples.pkl\")\n",
    "idx = rng.choice(df.loc[ df['gametype']==\"Chicken\"].index)\n",
    "prob = NormalForm(df.loc[idx, 'params'])\n",
    "\n",
    "question = fr\"\"\"\n",
    "A 2-player game is represented by the normal form below:\n",
    "\n",
    "\"\"\"\n",
    "question += prob.table_as_latex()\n",
    "question += fr\"\"\"\n",
    "\n",
    "Use the normal form to circle best responses and find all the Nash equilibria. \n",
    "Is the strategic dynamic of this game most similar to Prisoner's Dilemma, Stag Hunt, Chicken, or Rock Paper Scissors?\n",
    "\"\"\"\n",
    "\n",
    "latex = \"\\\\begin{q}\\n\" + question + \"\\\\end{q}\\n\"\n",
    "doc.add(RawLatex(latex))\n",
    "display(Latex(question))"
   ]
  },
  {
   "cell_type": "code",
   "execution_count": 4,
   "id": "596dd2fa-3a1e-4f11-ab8d-eb3567690817",
   "metadata": {},
   "outputs": [
    {
     "data": {
      "text/latex": [
       "\n",
       "A 2-player game is represented by the normal form below:\n",
       "\n",
       "\n",
       "\\begin{center}\n",
       "\\begin{tabular}{|c|c|c|c|} \\hline\n",
       " & & \\multicolumn{2}{c|}{ Player 2 } \\\\ \\hline\n",
       " &  & A & B\\\\ \\hline\n",
       "\\multirow{2}{*}{Player 1}  & A  & 5, -3  & -3, 5 \\\\ \\cline{2-4}\n",
       " & B  & -3, 5  & 5, -3 \\\\ \\hline\n",
       "\n",
       "\\end{tabular}\n",
       "\\end{center}\n",
       "\n",
       "\n",
       "Use the normal form to circle best responses and find all the Nash equilibria. \n",
       "Is the strategic dynamic of this game most similar to Prisoner's Dilemma, Stag Hunt, Chicken, or Rock Paper Scissors?\n"
      ],
      "text/plain": [
       "<IPython.core.display.Latex object>"
      ]
     },
     "metadata": {},
     "output_type": "display_data"
    }
   ],
   "source": [
    "df = pd.read_pickle(\"NormalForm_examples.pkl\")\n",
    "idx = rng.choice(df.loc[ df['gametype']==\"Rock Paper Scissors\"].index)\n",
    "prob = NormalForm(df.loc[idx, 'params'])\n",
    "\n",
    "question = fr\"\"\"\n",
    "A 2-player game is represented by the normal form below:\n",
    "\n",
    "\"\"\"\n",
    "question += prob.table_as_latex()\n",
    "question += fr\"\"\"\n",
    "\n",
    "Use the normal form to circle best responses and find all the Nash equilibria. \n",
    "Is the strategic dynamic of this game most similar to Prisoner's Dilemma, Stag Hunt, Chicken, or Rock Paper Scissors?\n",
    "\"\"\"\n",
    "\n",
    "latex = \"\\\\begin{q}\\n\" + question + \"\\\\end{q}\\n\"\n",
    "doc.add(RawLatex(latex))\n",
    "display(Latex(question))"
   ]
  },
  {
   "cell_type": "code",
   "execution_count": 5,
   "id": "26c8c032-6f56-40c0-b4de-698a0b5f6b9f",
   "metadata": {},
   "outputs": [
    {
     "data": {
      "text/latex": [
       "\n",
       "A 2-player game is represented by the normal form below:\n",
       "\n",
       "\n",
       "\\begin{center}\n",
       "\\begin{tabular}{|c|c|c|c|} \\hline\n",
       " & & \\multicolumn{2}{c|}{ Player 2 } \\\\ \\hline\n",
       " &  & A & B\\\\ \\hline\n",
       "\\multirow{2}{*}{Player 1}  & A  & 2, 2  & 2, 1 \\\\ \\cline{2-4}\n",
       " & B  & 1, 2  & 4, 4 \\\\ \\hline\n",
       "\n",
       "\\end{tabular}\n",
       "\\end{center}\n",
       "\n",
       "\n",
       "Use the normal form to circle best responses and find all the Nash equilibria. \n",
       "Is the strategic dynamic of this game most similar to Prisoner's Dilemma, Stag Hunt, Chicken, or Rock Paper Scissors?\n"
      ],
      "text/plain": [
       "<IPython.core.display.Latex object>"
      ]
     },
     "metadata": {},
     "output_type": "display_data"
    }
   ],
   "source": [
    "df = pd.read_pickle(\"NormalForm_examples.pkl\")\n",
    "idx = rng.choice(df.loc[ df['gametype']==\"Stag Hunt\"].index)\n",
    "prob = NormalForm(df.loc[idx, 'params'])\n",
    "\n",
    "question = fr\"\"\"\n",
    "A 2-player game is represented by the normal form below:\n",
    "\n",
    "\"\"\"\n",
    "question += prob.table_as_latex()\n",
    "question += fr\"\"\"\n",
    "\n",
    "Use the normal form to circle best responses and find all the Nash equilibria. \n",
    "Is the strategic dynamic of this game most similar to Prisoner's Dilemma, Stag Hunt, Chicken, or Rock Paper Scissors?\n",
    "\"\"\"\n",
    "\n",
    "latex = \"\\\\begin{q}\\n\" + question + \"\\\\end{q}\\n\"\n",
    "doc.add(RawLatex(latex))\n",
    "display(Latex(question))"
   ]
  },
  {
   "cell_type": "code",
   "execution_count": 6,
   "id": "81ffda85-f1d0-4504-afa8-03fd40efb79f",
   "metadata": {},
   "outputs": [
    {
     "data": {
      "text/latex": [
       "\n",
       "A 2-player game is represented by the normal form below:\n",
       "\n",
       "\n",
       "\\begin{center}\n",
       "\\begin{tabular}{|c|c|c|c|c|} \\hline\n",
       " & & \\multicolumn{3}{c|}{ Player 2 } \\\\ \\hline\n",
       " &  & A & B & C\\\\ \\hline\n",
       "\\multirow{3}{*}{Player 1}  & A  & 8, 7  & 7, 9  & 5, 4 \\\\ \\cline{2-5}\n",
       " & B  & 7, 2  & 5, 8  & 2, 9 \\\\ \\cline{2-5}\n",
       " & C  & 6, 4  & 10, 6  & 7, 0 \\\\ \\hline\n",
       "\n",
       "\\end{tabular}\n",
       "\\end{center}\n",
       "\n",
       "\n",
       "Use the normal form to circle best responses and find all the Nash equilibria. \n"
      ],
      "text/plain": [
       "<IPython.core.display.Latex object>"
      ]
     },
     "metadata": {},
     "output_type": "display_data"
    }
   ],
   "source": [
    "df = pd.read_pickle(\"NormalForm_examples.pkl\")\n",
    "idx = rng.choice(df.loc[ df['gametype']==\"Generic 3x3\"].index)\n",
    "prob = NormalForm(df.loc[idx, 'params'])\n",
    "\n",
    "question = fr\"\"\"\n",
    "A 2-player game is represented by the normal form below:\n",
    "\n",
    "\"\"\"\n",
    "question += prob.table_as_latex()\n",
    "question += fr\"\"\"\n",
    "\n",
    "Use the normal form to circle best responses and find all the Nash equilibria. \n",
    "\"\"\"\n",
    "\n",
    "latex = \"\\\\begin{q}\\n\" + question + \"\\\\end{q}\\n\"\n",
    "doc.add(RawLatex(latex))\n",
    "display(Latex(question))"
   ]
  },
  {
   "cell_type": "code",
   "execution_count": 7,
   "id": "6cd3f75a-9caa-403f-8ea7-575a4d838c69",
   "metadata": {},
   "outputs": [
    {
     "data": {
      "text/latex": [
       "\n",
       "Two firms compete by setting prices. Each firm can set either a high or a low price. If both firms set a high price, \n",
       "they each earn \\$10m in profit. If both firms set a low price, they each earn \\$7.5m in profit. If one firm sets a high\n",
       "price while the other firm sets a low price, the high-priced firm earns \\$0 profit while the low-priced firm earns \\$15m\n",
       "in profit.\n",
       "\n",
       "Draw the normal form of the game and find the Nash equilibria. How would you describe the strategic dynamics of this game?\n"
      ],
      "text/plain": [
       "<IPython.core.display.Latex object>"
      ]
     },
     "metadata": {},
     "output_type": "display_data"
    }
   ],
   "source": [
    "question = fr\"\"\"\n",
    "Two firms compete by setting prices. Each firm can set either a high or a low price. If both firms set a high price, \n",
    "they each earn \\$10m in profit. If both firms set a low price, they each earn \\$7.5m in profit. If one firm sets a high\n",
    "price while the other firm sets a low price, the high-priced firm earns \\$0 profit while the low-priced firm earns \\$15m\n",
    "in profit.\n",
    "\n",
    "Draw the normal form of the game and find the Nash equilibria. How would you describe the strategic dynamics of this game?\n",
    "\"\"\"\n",
    "latex = \"\\\\begin{q}\\n\" + question + \"\\\\end{q}\\n\"\n",
    "doc.add(RawLatex(latex))\n",
    "display(Latex(question))"
   ]
  },
  {
   "cell_type": "code",
   "execution_count": 8,
   "id": "db28f7c3-4f64-4478-aa27-e4f43df63f7c",
   "metadata": {},
   "outputs": [
    {
     "data": {
      "text/latex": [
       "\n",
       "During the Cuban Missile Crisis, a US ship blockaded a USSR ship supposedly carrying ballistic missiles. \n",
       "The US ship can either fire on the USSR ship or let it go.\n",
       "The USSR ship can either run the blockade or turn back.\n",
       "\\begin{itemize}\n",
       "\\item If the US lets the ship go and the USSR turns back, nothing happens (payoffs are zero.)\n",
       "\\item If the US fires on the ship and the USSR turns back, the US gains prestige and the USSR loses prestige. \n",
       "Let the payoff of gaining prestige be $1$ and let the payoff of losing prestige by $-1$.\n",
       "\\item If the US lets the ship go as the USSR runs the blockade, the US loses prestige and the USSR gains prestige.\n",
       "\\item If the US fires on the ship as the USSR runs the blockade, a nuclear war is triggered with payoffs of $-\\infty$.\n",
       "\\end{itemize}\n",
       "\n",
       "Draw the normal form of the game and find the Nash equilibria. How would you describe the strategic dynamics of this game?\n"
      ],
      "text/plain": [
       "<IPython.core.display.Latex object>"
      ]
     },
     "metadata": {},
     "output_type": "display_data"
    }
   ],
   "source": [
    "question = fr\"\"\"\n",
    "During the Cuban Missile Crisis, a US ship blockaded a USSR ship supposedly carrying ballistic missiles. \n",
    "The US ship can either fire on the USSR ship or let it go.\n",
    "The USSR ship can either run the blockade or turn back.\n",
    "\\begin{{itemize}}\n",
    "\\item If the US lets the ship go and the USSR turns back, nothing happens (payoffs are zero.)\n",
    "\\item If the US fires on the ship and the USSR turns back, the US gains prestige and the USSR loses prestige. \n",
    "Let the payoff of gaining prestige be $1$ and let the payoff of losing prestige by $-1$.\n",
    "\\item If the US lets the ship go as the USSR runs the blockade, the US loses prestige and the USSR gains prestige.\n",
    "\\item If the US fires on the ship as the USSR runs the blockade, a nuclear war is triggered with payoffs of $-\\infty$.\n",
    "\\end{{itemize}}\n",
    "\n",
    "Draw the normal form of the game and find the Nash equilibria. How would you describe the strategic dynamics of this game?\n",
    "\"\"\"\n",
    "latex = \"\\\\begin{q}\\n\" + question + \"\\\\end{q}\\n\"\n",
    "doc.add(RawLatex(latex))\n",
    "display(Latex(question))"
   ]
  },
  {
   "cell_type": "code",
   "execution_count": 9,
   "id": "35305eab-722f-448d-92e7-be6becac9786",
   "metadata": {},
   "outputs": [
    {
     "data": {
      "text/plain": [
       "'c|c|'"
      ]
     },
     "execution_count": 9,
     "metadata": {},
     "output_type": "execute_result"
    }
   ],
   "source": [
    "'c|'*2"
   ]
  },
  {
   "cell_type": "code",
   "execution_count": 10,
   "id": "1e37527d-e209-4066-984f-da19cab4b0e4",
   "metadata": {},
   "outputs": [],
   "source": [
    "doc.print_pdf(filename, \"tex\")"
   ]
  }
 ],
 "metadata": {
  "kernelspec": {
   "display_name": "Python 3 (ipykernel)",
   "language": "python",
   "name": "python3"
  },
  "language_info": {
   "codemirror_mode": {
    "name": "ipython",
    "version": 3
   },
   "file_extension": ".py",
   "mimetype": "text/x-python",
   "name": "python",
   "nbconvert_exporter": "python",
   "pygments_lexer": "ipython3",
   "version": "3.12.7"
  }
 },
 "nbformat": 4,
 "nbformat_minor": 5
}
