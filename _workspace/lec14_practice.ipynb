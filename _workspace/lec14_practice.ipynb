{
 "cells": [
  {
   "cell_type": "code",
   "execution_count": 1,
   "id": "c047a86b-2714-4ec7-93c3-db89cd57df0d",
   "metadata": {},
   "outputs": [],
   "source": [
    "import os\n",
    "import numpy as np\n",
    "import pandas as pd\n",
    "from IPython.display import display, Markdown, Latex\n",
    "import json\n",
    "import utils2 as u2\n",
    "from matplotlib import pyplot as plt\n",
    "\n",
    "SMALL_SIZE = 14\n",
    "MEDIUM_SIZE = 16\n",
    "LARGE_SIZE = 18\n",
    "HUGE_SIZE = 20\n",
    "\n",
    "plt.rcdefaults()\n",
    "plt.rcParams['text.usetex'] = True\n",
    "plt.rcParams['font.family'] = 'Helvetica'\n",
    "plt.rcParams['font.size'] = MEDIUM_SIZE\n",
    "plt.rcParams['axes.titlesize'] = LARGE_SIZE\n",
    "plt.rcParams['axes.labelsize'] = MEDIUM_SIZE\n",
    "plt.rcParams['xtick.labelsize'] = MEDIUM_SIZE\n",
    "plt.rcParams['ytick.labelsize'] = MEDIUM_SIZE\n",
    "plt.rcParams['legend.fontsize'] = MEDIUM_SIZE\n",
    "plt.rcParams['figure.titlesize'] = LARGE_SIZE\n",
    "plt.rcParams['figure.figsize'] = [7.2, 7.2]\n",
    "plt.rcParams['figure.dpi'] = 60\n",
    "plt.rcParams['figure.facecolor'] = (1.0, 1.0, 1.0, 0.0)\n",
    "\n",
    "JSON_FILE = \"../assets/data/lec14_practice.json\"\n",
    "PROBLEM_NAME = \"lec14_practice_{}\"\n",
    "IMAGE_PATH = \"../assets/images/graphs\"\n",
    "probs = []\n",
    "nprob = 0\n",
    "\n",
    "rng = np.random.default_rng(114)"
   ]
  },
  {
   "cell_type": "code",
   "execution_count": 2,
   "id": "93a3c78e-b886-4a9c-ba88-8506c099b513",
   "metadata": {},
   "outputs": [
    {
     "name": "stdout",
     "output_type": "stream",
     "text": [
      "0:  Consider the 2-player game described by the normal form below:  \\begin{center} \\begin{tabular}{|c|c|c|c|} \\hline  & & \\multicolumn{2}{c|}{ Player 2 } \\\\ \\hline  &  & A & B\\\\ \\hline \\multirow{2}{*}{Player 1}  & A  & 4, 4  & 10, 0 \\\\ \\cline{2-4}  & B  & 0, 10  & 6, 6 \\\\ \\hline  \\end{tabular} \\end{center}  \n",
      "\n",
      "0: Find all the Nash equilibria.\n",
      "\n",
      "1: Do the strategic dynamics of this game most resemble Prisoner's Dilemma, Stag Hunt, Chicken, or Rock Paper Scissors?\n",
      "\n"
     ]
    }
   ],
   "source": [
    "TYPE = \"NormalFormProblem\"\n",
    "u2.show_menu(TYPE)"
   ]
  },
  {
   "cell_type": "code",
   "execution_count": 3,
   "id": "9f12baed-f18e-4738-9b49-d78984b85dc7",
   "metadata": {},
   "outputs": [
    {
     "name": "stdout",
     "output_type": "stream",
     "text": [
      "40\n"
     ]
    }
   ],
   "source": [
    "# normal form game theory problems\n",
    "\n",
    "TYPE = \"NormalFormProblem\"\n",
    "df = pd.read_pickle(f\"{TYPE}.pkl\")\n",
    "\n",
    "df1 = df.loc[df['gametype']==\"Prisoner's Dilemma\"].sample(10, random_state=rng)\n",
    "df2 = df.loc[df['gametype']==\"Chicken\"].sample(10, random_state=rng)\n",
    "df3 = df.loc[df['gametype']==\"Stag Hunt\"].sample(10, random_state=rng)\n",
    "df4 = df.loc[df['gametype']==\"Rock Paper Scissors\"].sample(10, random_state=rng)\n",
    "\n",
    "mydf = pd.concat([df1,df2,df3,df4])\n",
    "\n",
    "for idx, row in mydf.iterrows():\n",
    "    params = dict(row.copy())\n",
    "    name = PROBLEM_NAME.format(nprob)\n",
    "    prob = u2.load_problem(TYPE, params=params, rng=rng, name=name)\n",
    "    online_format = u2.get_online_format(prob, setup_id=0, question_ids=[0,1])\n",
    "    probs.append(online_format)\n",
    "    nprob+=1\n",
    "print(nprob)"
   ]
  },
  {
   "cell_type": "code",
   "execution_count": 4,
   "id": "2197e453-f9be-469d-b5c7-e0dc22dfbd8c",
   "metadata": {},
   "outputs": [],
   "source": [
    "with open(JSON_FILE, 'w') as f:\n",
    "    json.dump(probs, f)"
   ]
  },
  {
   "cell_type": "code",
   "execution_count": 5,
   "id": "8ddd904b-d625-40a6-bdbd-9b7482ede81a",
   "metadata": {},
   "outputs": [
    {
     "name": "stdout",
     "output_type": "stream",
     "text": [
      "<p>\n",
      "<p>Consider the 2-player game described by the normal form below:</p>\n",
      "<table border=1px align=\"center\"><tr><td></td><td></td><td colspan=2 align=\"center\">Player 2</td></tr><tr><td></td><td></td><td align=\"center\">A</td><td align=\"center\">B</td></tr><tr><td rowspan=2>Player 1</td><td>A</td><td align=\"center\">3, 7</td><td align=\"center\">7, 3</td></tr><tr><td>B</td><td align=\"center\">7, 3</td><td align=\"center\">3, 7</td></tr></table>\n",
      "</p>\n",
      "<p>1. Find all the Nash equilibria.</p>\n",
      "<p>2. Do the strategic dynamics of this game most resemble Prisoner's Dilemma, Stag Hunt, Chicken, or Rock Paper Scissors?</p>\n",
      "\n"
     ]
    }
   ],
   "source": [
    "print(online_format['setup'])"
   ]
  }
 ],
 "metadata": {
  "kernelspec": {
   "display_name": "Python 3 (ipykernel)",
   "language": "python",
   "name": "python3"
  },
  "language_info": {
   "codemirror_mode": {
    "name": "ipython",
    "version": 3
   },
   "file_extension": ".py",
   "mimetype": "text/x-python",
   "name": "python",
   "nbconvert_exporter": "python",
   "pygments_lexer": "ipython3",
   "version": "3.12.8"
  }
 },
 "nbformat": 4,
 "nbformat_minor": 5
}
