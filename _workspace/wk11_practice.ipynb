{
 "cells": [
  {
   "cell_type": "code",
   "execution_count": 1,
   "id": "2b06770f-63e6-4bb8-8104-1850bcc82b73",
   "metadata": {},
   "outputs": [
    {
     "data": {
      "image/png": "[encoded data removed]",
      "text/plain": [
       "<Figure size 432x288 with 1 Axes>"
      ]
     },
     "metadata": {
      "needs_background": "light"
     },
     "output_type": "display_data"
    }
   ],
   "source": [
    "import os\n",
    "import numpy as np\n",
    "import pandas as pd\n",
    "from IPython.display import display, Markdown, Latex\n",
    "import json\n",
    "from utils import Monopoly\n",
    "from utils import cbeq, polyeq, term, is_divisible, Number\n",
    "from matplotlib import pyplot as plt\n",
    "rng = np.random.default_rng(219)\n",
    "\n",
    "plt.plot()\n",
    "\n",
    "SMALL_SIZE = 14\n",
    "MEDIUM_SIZE = 16\n",
    "LARGE_SIZE = 18\n",
    "HUGE_SIZE = 20\n",
    "\n",
    "plt.rcdefaults()\n",
    "plt.rcParams['text.usetex'] = True\n",
    "plt.rcParams['font.family'] = 'Helvetica'\n",
    "plt.rcParams['font.size'] = MEDIUM_SIZE\n",
    "plt.rcParams['axes.titlesize'] = LARGE_SIZE\n",
    "plt.rcParams['axes.labelsize'] = MEDIUM_SIZE\n",
    "plt.rcParams['xtick.labelsize'] = MEDIUM_SIZE\n",
    "plt.rcParams['ytick.labelsize'] = MEDIUM_SIZE\n",
    "plt.rcParams['legend.fontsize'] = MEDIUM_SIZE\n",
    "plt.rcParams['figure.titlesize'] = LARGE_SIZE\n",
    "plt.rcParams['figure.figsize'] = [7.2, 7.2]\n",
    "plt.rcParams['figure.dpi'] = 60\n",
    "plt.rcParams['figure.facecolor'] = (1.0, 1.0, 1.0, 0.0)\n",
    "\n",
    "JSON_FILE = \"../assets/data/wk11_practice.json\"\n",
    "IMAGE_PATH = \"../assets/images/wk11\"\n",
    "probs = []\n",
    "nprob = 0"
   ]
  },
  {
   "cell_type": "code",
   "execution_count": 2,
   "id": "7a07f30e-aa8a-4e1c-9a96-63bdaa08b41e",
   "metadata": {},
   "outputs": [
    {
     "name": "stdout",
     "output_type": "stream",
     "text": [
      "70\n"
     ]
    }
   ],
   "source": [
    "# Monopoly basic\n",
    "df = pd.read_csv(\"Monopoly_examples.csv\")\n",
    "idx1 = (df['gamma']==0) & (df['eta']==0) & (df['beta']<=1)\n",
    "idx2 = (df['gamma']>df['delta']) & (df['eta']==0) & (df['beta']<=1)\n",
    "idx3 = (df['eta']>0) & (df['beta']<=1)\n",
    "mydf = pd.concat([\n",
    "    df.loc[idx1].sample(20, random_state=rng),\n",
    "    df.loc[idx2].sample(20, random_state=rng),\n",
    "    df.loc[idx3].sample(30, random_state=rng)\n",
    "])\n",
    "for idx, row in mydf.iterrows():\n",
    "    params = dict(row).copy()\n",
    "    Y, alpha, beta, gamma, delta, eta = params['Y'], params['alpha'], params['beta'], params['gamma'], params['delta'], params['eta']\n",
    "    prob = Monopoly(params)\n",
    "    p, Q, Profit = prob.sol['p'], prob.sol['Q'], prob.sol['Profit']\n",
    "    setup = fr\"\"\"\n",
    "A commodity \\(q\\) is supplied by a monopolist with cost function: \n",
    "\n",
    "$$c(q) = {polyeq('q',[gamma,delta,0.5*eta],[0,1,2])} $$\n",
    "\n",
    "The monopolist faces a market demand curve given by:\n",
    "\n",
    "$$Q_d = {polyeq('p',[Number(alpha,beta), Number(-1,beta)],[0,1])} $$\n",
    "\"\"\" \n",
    "    setup += fr\"\"\"\n",
    "<p>Calculate the profit maximizing price and quantity. Calculate the maximum profit</p>\n",
    "\"\"\"\n",
    "    solution = fr\"\"\"\n",
    "<p>\\(p = {p:g}\\)</p>\n",
    "<p>\\(Q = {Q:g}\\)</p>\n",
    "<p>Profit = \\({Profit:g}\\)</p>\n",
    "\"\"\"\n",
    "    probs.append({'setup':setup, 'solution':solution})\n",
    "    nprob+=1\n",
    "print(len(probs))"
   ]
  },
  {
   "cell_type": "code",
   "execution_count": 3,
   "id": "38ab2d60-80fb-438f-8ea2-dabb99069543",
   "metadata": {},
   "outputs": [
    {
     "name": "stdout",
     "output_type": "stream",
     "text": [
      "140\n"
     ]
    }
   ],
   "source": [
    "# Monopoly with derived demand\n",
    "df = pd.read_csv(\"Monopoly_examples.csv\")\n",
    "idx1 = (df['gamma']==0) & (df['eta']==0) \n",
    "idx2 = (df['gamma']>df['delta']) & (df['eta']==0) \n",
    "idx3 = (df['eta']>0) \n",
    "mydf = pd.concat([\n",
    "    df.loc[idx1].sample(20, random_state=rng),\n",
    "    df.loc[idx2].sample(20, random_state=rng),\n",
    "    df.loc[idx3].sample(30, random_state=rng)\n",
    "])\n",
    "for idx, row in mydf.iterrows():\n",
    "    params = dict(row).copy()\n",
    "    Y, alpha, beta, gamma, delta, eta = params['Y'], params['alpha'], params['beta'], params['gamma'], params['delta'], params['eta']\n",
    "    prob = Monopoly(params)\n",
    "    p, Q, Profit, U = prob.sol['p'], prob.sol['Q'], prob.sol['Profit'], prob.sol['U']\n",
    "    p_eff, Q_eff, Profit_eff, U_eff = prob.sol['p_eff'], prob.sol['Q_eff'], prob.sol['Profit_eff'], prob.sol['U_eff']\n",
    "    DWL = prob.sol['DWL']\n",
    "    setup = fr\"\"\"\n",
    "A commodity \\(q\\) is supplied by a monopolist with cost function: \n",
    "\n",
    "$$c(q) = {polyeq('q',[gamma,delta,0.5*eta],[0,1,2])} $$\n",
    "\n",
    "A representative consumer with income \\(Y={Y:g}\\) has a utility function over numeraire consumption \\(c\\) and commodity \\(q\\) given by:\n",
    "\n",
    "$$u(c,q) = c + {polyeq('q',[alpha, -0.5*beta],[1,2])} $$\n",
    "\"\"\" \n",
    "    setup += fr\"\"\"\n",
    "<p>1. Write down the demand curve faced by the monopolist.</p>\n",
    "<p>2. Find the profit maximizing price and quantity. Calculate firm profit and consumer utility at the profit-maximizing quantity.</p>\n",
    "<p>3. What is the efficient price and quantity? Calculate firm profit and consumer utility at the efficient quantity.</p>\n",
    "<p>4. What is the deadweight loss caused by the monopoly?</p>\n",
    "\"\"\"\n",
    "    solution = fr\"\"\"\n",
    "<p>1. \\(Q_d = {polyeq('p',[Number(alpha,beta), Number(-1,beta)],[0,1])}\\)</p>\n",
    "<p>2. \\(p = {p:g}\\), \\(Q = {Q:g}\\), \\(\\Pi = {Profit:g}\\), \\(U = {U:g}\\)</p>\n",
    "<p>3. \\(p = {p_eff:g}\\), \\(Q = {Q_eff:g}\\), \\(\\Pi = {Profit_eff:g}\\), \\(U = {U_eff:g}\\)</p>\n",
    "<p>4. DWL = \\({DWL:g}\\)</p>\n",
    "\"\"\"\n",
    "    probs.append({'setup':setup, 'solution':solution})\n",
    "    nprob+=1\n",
    "print(len(probs))"
   ]
  },
  {
   "cell_type": "code",
   "execution_count": 4,
   "id": "c55d4467-8661-40b3-ad19-524f2feacca2",
   "metadata": {},
   "outputs": [],
   "source": [
    "with open(JSON_FILE, 'w') as f:\n",
    "    json.dump(probs, f)"
   ]
  },
  {
   "cell_type": "code",
   "execution_count": 5,
   "id": "c4e3e697-5232-45e1-86af-82bb39287878",
   "metadata": {},
   "outputs": [],
   "source": [
    "with open(JSON_FILE, 'r') as f:\n",
    "    myprobs = json.load(f)"
   ]
  },
  {
   "cell_type": "code",
   "execution_count": 6,
   "id": "334981b0-251c-4ede-acd4-7e00dab2dd32",
   "metadata": {},
   "outputs": [
    {
     "data": {
      "text/latex": [
       "\n",
       "A commodity \\(q\\) is supplied by a monopolist with cost function: \n",
       "\n",
       "$$c(q) = 7+2q $$\n",
       "\n",
       "The monopolist faces a market demand curve given by:\n",
       "\n",
       "$$Q_d = 12-p $$\n",
       "\n",
       "<p>Calculate the profit maximizing price and quantity. Calculate the maximum profit</p>\n"
      ],
      "text/plain": [
       "<IPython.core.display.Latex object>"
      ]
     },
     "metadata": {},
     "output_type": "display_data"
    },
    {
     "data": {
      "text/latex": [
       "\n",
       "<p>\\(p = 7\\)</p>\n",
       "<p>\\(Q = 5\\)</p>\n",
       "<p>Profit = \\(18\\)</p>\n"
      ],
      "text/plain": [
       "<IPython.core.display.Latex object>"
      ]
     },
     "metadata": {},
     "output_type": "display_data"
    }
   ],
   "source": [
    "prob = np.random.choice(myprobs)\n",
    "display(Latex(prob['setup']))\n",
    "display(Latex(prob['solution']))"
   ]
  }
 ],
 "metadata": {
  "kernelspec": {
   "display_name": "Python 3 (ipykernel)",
   "language": "python",
   "name": "python3"
  },
  "language_info": {
   "codemirror_mode": {
    "name": "ipython",
    "version": 3
   },
   "file_extension": ".py",
   "mimetype": "text/x-python",
   "name": "python",
   "nbconvert_exporter": "python",
   "pygments_lexer": "ipython3",
   "version": "3.10.5"
  }
 },
 "nbformat": 4,
 "nbformat_minor": 5
}
