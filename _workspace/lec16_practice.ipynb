{
 "cells": [
  {
   "cell_type": "code",
   "execution_count": 1,
   "id": "c047a86b-2714-4ec7-93c3-db89cd57df0d",
   "metadata": {},
   "outputs": [],
   "source": [
    "import os\n",
    "import numpy as np\n",
    "import pandas as pd\n",
    "from IPython.display import display, Markdown, Latex\n",
    "import json\n",
    "import utils2 as u2\n",
    "from matplotlib import pyplot as plt\n",
    "\n",
    "SMALL_SIZE = 14\n",
    "MEDIUM_SIZE = 16\n",
    "LARGE_SIZE = 18\n",
    "HUGE_SIZE = 20\n",
    "\n",
    "plt.rcdefaults()\n",
    "plt.rcParams['text.usetex'] = True\n",
    "plt.rcParams['font.family'] = 'Helvetica'\n",
    "plt.rcParams['font.size'] = MEDIUM_SIZE\n",
    "plt.rcParams['axes.titlesize'] = LARGE_SIZE\n",
    "plt.rcParams['axes.labelsize'] = MEDIUM_SIZE\n",
    "plt.rcParams['xtick.labelsize'] = MEDIUM_SIZE\n",
    "plt.rcParams['ytick.labelsize'] = MEDIUM_SIZE\n",
    "plt.rcParams['legend.fontsize'] = MEDIUM_SIZE\n",
    "plt.rcParams['figure.titlesize'] = LARGE_SIZE\n",
    "plt.rcParams['figure.figsize'] = [7.2, 7.2]\n",
    "plt.rcParams['figure.dpi'] = 60\n",
    "plt.rcParams['figure.facecolor'] = (1.0, 1.0, 1.0, 0.0)\n",
    "\n",
    "JSON_FILE = \"../assets/data/lec16_practice.json\"\n",
    "PROBLEM_NAME = \"lec16_practice_{}\"\n",
    "IMAGE_PATH = \"../assets/images/graphs\"\n",
    "probs = []\n",
    "nprob = 0\n",
    "\n",
    "rng = np.random.default_rng(116)"
   ]
  },
  {
   "cell_type": "code",
   "execution_count": 2,
   "id": "93a3c78e-b886-4a9c-ba88-8506c099b513",
   "metadata": {},
   "outputs": [
    {
     "name": "stdout",
     "output_type": "stream",
     "text": [
      "{'alpha': 12, 'beta': 1, 'f': 0, 'a': 0, 'b': 0.5}\n",
      "{'q': 4.0, 'p': 8.0, 'CS': 8.0, 'profit': 24.0, 'q_eff': 6.0, 'p_eff': 6.0, 'CS_eff': 18.0, 'profit_eff': 18.0, 'DWL': 4.0}\n",
      "0:  Price-taking consumers in the market for a commodity have a demand curve given by: $$ q = 12-p $$  The market is supplied by a single monopolist, who can produce \\(q\\) units of the commodity at a total cost of: $$ c(q) = \\frac{1}{2}q^{2} $$  \n",
      "\n",
      "1:   A representative, price-taking consumer decides how many units, \\(q\\), of a commodity to purchase at unit price \\(p\\). The utility they receive for purchasing \\(q\\) units at price \\(p\\) is: $$ u(q) = 12q-\\frac{1}{2}q^{2} - pq $$   The market is supplied by a single monopolist, who can produce \\(q\\) units of the commodity at a total cost of: $$ c(q) = \\frac{1}{2}q^{2} $$  \n",
      "\n",
      "0: Calculate the profit maximizing price.\n",
      "\n",
      "1: Calculate the profit maximizing quantity.\n",
      "\n",
      "2: Calculate the monopolist's profit.\n",
      "\n",
      "3: Calculate the consumer surplus.\n",
      "\n",
      "4: What is the efficient quantity that would maximize total surplus?\n",
      "\n",
      "5: What is the efficient price level?\n",
      "\n",
      "6: Calculate the monopolist's profit at the efficient outcome.\n",
      "\n",
      "7: Calculate the consumer surplus at the efficient outcome.\n",
      "\n",
      "8: Calculate the deadweight loss caused by monopolistic behavior.\n",
      "\n"
     ]
    }
   ],
   "source": [
    "TYPE = \"MonopolyProblem\"\n",
    "u2.show_menu(TYPE)"
   ]
  },
  {
   "cell_type": "code",
   "execution_count": 3,
   "id": "9336c3ca-e55d-43ea-8615-a85d67c8a6c3",
   "metadata": {},
   "outputs": [
    {
     "name": "stdout",
     "output_type": "stream",
     "text": [
      "30\n"
     ]
    }
   ],
   "source": [
    "# demand curve given only\n",
    "\n",
    "TYPE = \"MonopolyProblem\"\n",
    "df = pd.read_pickle(f\"{TYPE}.pkl\")\n",
    "\n",
    "for idx, row in df.sample(30, random_state=rng).iterrows():\n",
    "    params = dict(row.copy())\n",
    "    name = PROBLEM_NAME.format(nprob)\n",
    "    prob = u2.load_problem(TYPE, params=params, rng=rng, name=name)\n",
    "    online_format = u2.get_online_format(prob, setup_id=0, question_ids=[0,1,2])\n",
    "    probs.append(online_format)\n",
    "    nprob+=1\n",
    "print(nprob)"
   ]
  },
  {
   "cell_type": "code",
   "execution_count": 4,
   "id": "9f12baed-f18e-4738-9b49-d78984b85dc7",
   "metadata": {},
   "outputs": [
    {
     "name": "stdout",
     "output_type": "stream",
     "text": [
      "70\n"
     ]
    }
   ],
   "source": [
    "# with full consumer setup\n",
    "\n",
    "TYPE = \"MonopolyProblem\"\n",
    "df = pd.read_pickle(f\"{TYPE}.pkl\")\n",
    "\n",
    "df1 = df.loc[(df['profit']>0) & (df['profit_eff']<0)].sample(20, random_state=rng)\n",
    "df2 = df.loc[(df['profit']>0) & (df['profit_eff']>0)].sample(20, random_state=rng)\n",
    "\n",
    "mydf = pd.concat([df1,df2])\n",
    "\n",
    "for idx, row in mydf.iterrows():\n",
    "    params = dict(row.copy())\n",
    "    name = PROBLEM_NAME.format(nprob)\n",
    "    prob = u2.load_problem(TYPE, params=params, rng=rng, name=name)\n",
    "    online_format = u2.get_online_format(prob, setup_id=1, question_ids=[0,1,2,3,4,5,6,7,8])\n",
    "    probs.append(online_format)\n",
    "    nprob+=1\n",
    "print(nprob)"
   ]
  },
  {
   "cell_type": "code",
   "execution_count": 5,
   "id": "2197e453-f9be-469d-b5c7-e0dc22dfbd8c",
   "metadata": {},
   "outputs": [],
   "source": [
    "with open(JSON_FILE, 'w') as f:\n",
    "    json.dump(probs, f)"
   ]
  },
  {
   "cell_type": "code",
   "execution_count": 6,
   "id": "8ddd904b-d625-40a6-bdbd-9b7482ede81a",
   "metadata": {},
   "outputs": [
    {
     "name": "stdout",
     "output_type": "stream",
     "text": [
      "<p>\n",
      "\n",
      "A representative, price-taking consumer decides how many units, \\(q\\), of a commodity to purchase at unit price \\(p\\). The utility\n",
      "they receive for purchasing \\(q\\) units at price \\(p\\) is:\n",
      "$$ u(q) = 32q-\\frac{1}{2}q^{2} - pq $$\n",
      "\n",
      "\n",
      "The market is supplied by a single monopolist, who can produce \\(q\\) units of the commodity at a total cost of:\n",
      "$$ c(q) = 22+2q+\\frac{1}{2}q^{2} $$\n",
      "\n",
      "</p>\n",
      "<p>1. Calculate the profit maximizing price.</p>\n",
      "<p>2. Calculate the profit maximizing quantity.</p>\n",
      "<p>3. Calculate the monopolist's profit.</p>\n",
      "<p>4. Calculate the consumer surplus.</p>\n",
      "<p>5. What is the efficient quantity that would maximize total surplus?</p>\n",
      "<p>6. What is the efficient price level?</p>\n",
      "<p>7. Calculate the monopolist's profit at the efficient outcome.</p>\n",
      "<p>8. Calculate the consumer surplus at the efficient outcome.</p>\n",
      "<p>9. Calculate the deadweight loss caused by monopolistic behavior.</p>\n",
      "\n"
     ]
    }
   ],
   "source": [
    "print(online_format['setup'])"
   ]
  }
 ],
 "metadata": {
  "kernelspec": {
   "display_name": "Python 3 (ipykernel)",
   "language": "python",
   "name": "python3"
  },
  "language_info": {
   "codemirror_mode": {
    "name": "ipython",
    "version": 3
   },
   "file_extension": ".py",
   "mimetype": "text/x-python",
   "name": "python",
   "nbconvert_exporter": "python",
   "pygments_lexer": "ipython3",
   "version": "3.12.8"
  }
 },
 "nbformat": 4,
 "nbformat_minor": 5
}
