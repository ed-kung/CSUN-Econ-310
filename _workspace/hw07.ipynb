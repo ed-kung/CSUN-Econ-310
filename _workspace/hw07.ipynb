{
 "cells": [
  {
   "cell_type": "code",
   "execution_count": 1,
   "id": "c22ce13f-1cf1-466a-afed-8d731d3fb548",
   "metadata": {},
   "outputs": [],
   "source": [
    "import os\n",
    "import numpy as np\n",
    "import pandas as pd\n",
    "from IPython.display import display, Markdown, Latex\n",
    "\n",
    "import econtools\n",
    "from econtools.documents import Homework, RawLatex, Multipart\n",
    "import utils2 as u2\n",
    "from matplotlib import pyplot as plt\n",
    "\n",
    "SMALL_SIZE = 14\n",
    "MEDIUM_SIZE = 16\n",
    "LARGE_SIZE = 18\n",
    "HUGE_SIZE = 20\n",
    "\n",
    "plt.rcdefaults()\n",
    "plt.rcParams['text.usetex'] = True\n",
    "plt.rcParams['font.family'] = 'Helvetica'\n",
    "plt.rcParams['font.size'] = MEDIUM_SIZE\n",
    "plt.rcParams['axes.titlesize'] = LARGE_SIZE\n",
    "plt.rcParams['axes.labelsize'] = MEDIUM_SIZE\n",
    "plt.rcParams['xtick.labelsize'] = MEDIUM_SIZE\n",
    "plt.rcParams['ytick.labelsize'] = MEDIUM_SIZE\n",
    "plt.rcParams['legend.fontsize'] = MEDIUM_SIZE\n",
    "plt.rcParams['figure.titlesize'] = LARGE_SIZE\n",
    "plt.rcParams['figure.figsize'] = [7.2, 7.2]\n",
    "plt.rcParams['figure.dpi'] = 60\n",
    "plt.rcParams['figure.facecolor'] = (1.0, 1.0, 1.0, 0.0)\n",
    "\n",
    "OUTPUT_DIR = \"./tex\"\n",
    "IMAGE_PATH = \"./tex\"\n",
    "TITLE = \"Econ 310 Week 7 Problem Set\"\n",
    "DUE_DATE = \"Tuesday 3/11\"\n",
    "FILENAME = \"ec310-hw07\"\n",
    "\n",
    "doc = Homework(\n",
    "    title = TITLE,\n",
    "    due_date = DUE_DATE\n",
    ")\n",
    "rng = np.random.default_rng(107)\n",
    "\n",
    "nprob = 0"
   ]
  },
  {
   "cell_type": "code",
   "execution_count": 2,
   "id": "090ffda7-5e67-4f1b-a77a-d3c3522edda5",
   "metadata": {},
   "outputs": [],
   "source": [
    "TYPE = 'LinearContourProblem'\n",
    "df = pd.read_csv(f\"{TYPE}.csv\")\n",
    "params = dict(df.sample(1,random_state=rng).iloc[0])\n",
    "name = fr\"{FILENAME}-{nprob}\"\n",
    "problem = u2.load_problem(TYPE, params, rng=rng, name=name)\n",
    "doc.add(u2.get_multipart_sa(problem,setup_id=0,question_ids=[0,1,2,3]))\n",
    "nprob+=1\n",
    "problem.axis.get_figax(saveas=f\"{IMAGE_PATH}/{name}_setup.png\")\n",
    "plt.close()"
   ]
  },
  {
   "cell_type": "code",
   "execution_count": 3,
   "id": "b74d0e45-63d6-4706-ad05-f1ba4610db43",
   "metadata": {},
   "outputs": [],
   "source": [
    "TYPE = 'CBDerivativeProblem'\n",
    "params = {'A':1, 'a':3/4, 'b':1/4}\n",
    "name = fr\"{FILENAME}-{nprob}\"\n",
    "problem = u2.load_problem(TYPE, params, rng=rng, name=name)\n",
    "doc.add(u2.get_multipart_sa(problem,setup_id=0,question_ids=[0,1]))\n",
    "nprob+=1"
   ]
  },
  {
   "cell_type": "code",
   "execution_count": 4,
   "id": "d3ed5a9b-242f-4d73-9c57-0147c4dbf7c3",
   "metadata": {},
   "outputs": [],
   "source": [
    "doc.add(RawLatex(fr\"\"\"\n",
    "\\begin{{q}}\n",
    "$$ f(x,y) = 6x + 6y - xy$$ \n",
    "\\begin{{enumerate}}[a.]\n",
    "\\item Write down the first order conditions.\n",
    "\\item Find the choice of \\(x\\) and \\(y\\) that maximizes \\(f(x,y)\\).\n",
    "\\end{{enumerate}}\n",
    "\\end{{q}}\n",
    "\"\"\"))\n",
    "nprob+=1"
   ]
  },
  {
   "cell_type": "code",
   "execution_count": 5,
   "id": "7695225e-48d4-40e7-a17f-6a1f889d064a",
   "metadata": {},
   "outputs": [],
   "source": [
    "doc.add(RawLatex(fr\"\"\"\n",
    "\\begin{{q}}\n",
    "Consider the optimization problem:\n",
    "$$ \\max_{{x,y}} ~ xy ~ \\text{{s.t.}} 4x + 3y = 42$$ \n",
    "\\begin{{enumerate}}[a.]\n",
    "\\item Write down the first order conditions.\n",
    "\\item Find the choice of \\(x\\) and \\(y\\) that maximizes \\(f(x,y)\\).\n",
    "\\end{{enumerate}}\n",
    "\\end{{q}}\n",
    "\"\"\"))\n",
    "nprob+=1"
   ]
  },
  {
   "cell_type": "code",
   "execution_count": 6,
   "id": "4d5273d1-22af-4499-8d32-ebaaf9db468e",
   "metadata": {},
   "outputs": [],
   "source": [
    "doc.add(RawLatex(fr\"\"\"\n",
    "\\begin{{q}}\n",
    "Consider the optimization problem:\n",
    "$$ \\max_{{x,y}} ~ x^{{3/4}}y^{{1/4}} ~ \\text{{s.t.}} 2x + 3y = 72$$ \n",
    "\\begin{{enumerate}}[a.]\n",
    "\\item Write down the first order conditions.\n",
    "\\item Find the choice of \\(x\\) and \\(y\\) that maximizes \\(f(x,y)\\).\n",
    "\\end{{enumerate}}\n",
    "\\end{{q}}\n",
    "\"\"\"))\n",
    "nprob+=1"
   ]
  },
  {
   "cell_type": "code",
   "execution_count": 7,
   "id": "bf1162b3-5465-48b4-ac44-59e47faa0a99",
   "metadata": {},
   "outputs": [],
   "source": [
    "#u2.show_menu('CobbDouglasConsumerProblem')\n",
    "#u2.PROBLEM_TYPES"
   ]
  },
  {
   "cell_type": "code",
   "execution_count": 8,
   "id": "d3c8b391-8cc1-49d3-8ce8-a2894533df71",
   "metadata": {},
   "outputs": [],
   "source": [
    "doc.print_pdf(FILENAME, OUTPUT_DIR)"
   ]
  }
 ],
 "metadata": {
  "kernelspec": {
   "display_name": "Python 3 (ipykernel)",
   "language": "python",
   "name": "python3"
  },
  "language_info": {
   "codemirror_mode": {
    "name": "ipython",
    "version": 3
   },
   "file_extension": ".py",
   "mimetype": "text/x-python",
   "name": "python",
   "nbconvert_exporter": "python",
   "pygments_lexer": "ipython3",
   "version": "3.12.8"
  }
 },
 "nbformat": 4,
 "nbformat_minor": 5
}
