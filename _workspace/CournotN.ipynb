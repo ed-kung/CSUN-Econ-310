{
 "cells": [
  {
   "cell_type": "code",
   "execution_count": 1,
   "id": "df12c667-f8cc-4876-afdf-cddca13bfae7",
   "metadata": {},
   "outputs": [],
   "source": [
    "import numpy as np\n",
    "import pandas as pd\n",
    "from matplotlib import pyplot as plt\n",
    "from matplotlib import cm\n",
    "from IPython.display import display, Markdown, Latex\n",
    "import pickle\n",
    "rng = np.random.default_rng(123)\n",
    "\n",
    "SMALL_SIZE = 12\n",
    "MEDIUM_SIZE = 14\n",
    "LARGE_SIZE = 16\n",
    "\n",
    "plt.rcdefaults()\n",
    "plt.rcParams['text.usetex'] = True\n",
    "plt.rcParams['font.family'] = 'Helvetica'\n",
    "plt.rcParams['font.size'] = MEDIUM_SIZE\n",
    "plt.rcParams['axes.titlesize'] = LARGE_SIZE\n",
    "plt.rcParams['axes.labelsize'] = MEDIUM_SIZE\n",
    "plt.rcParams['xtick.labelsize'] = SMALL_SIZE\n",
    "plt.rcParams['ytick.labelsize'] = SMALL_SIZE\n",
    "plt.rcParams['legend.fontsize'] = MEDIUM_SIZE\n",
    "plt.rcParams['figure.titlesize'] = LARGE_SIZE\n",
    "plt.rcParams['figure.figsize'] = [7.2, 4.8]\n",
    "plt.rcParams['figure.dpi'] = 60\n",
    "plt.rcParams['figure.facecolor'] = (1.0, 1.0, 1.0, 0.0)\n",
    "\n",
    "from utils import CournotN, get_random_prob\n"
   ]
  },
  {
   "cell_type": "code",
   "execution_count": 2,
   "id": "3563aed5-4b34-4b26-b165-0dcf845940f8",
   "metadata": {},
   "outputs": [],
   "source": [
    "prob = CournotN()"
   ]
  },
  {
   "cell_type": "code",
   "execution_count": 3,
   "id": "db970bbd-e337-4d3c-bb3b-e39d955e7112",
   "metadata": {},
   "outputs": [
    {
     "data": {
      "text/latex": [
       "\n",
       "Consumers in a market for commodity \\(q\\) have an (inverse) demand curve given by:\n",
       "\n",
       "$$p = A - BQ$$\n",
       "\n",
       "The market is supplied by \\(N\\) firms. Each firm \\(i\\) has a cost function:\n",
       "\n",
       "$$ c_i(q_i) = cq_i $$\n",
       "\n",
       "The quantity produced by each firm in the Nash equilibrium is:\n",
       "\n",
       "$$ q_\\ast = \\frac{ A - c}{(N+1)B} $$\n"
      ],
      "text/plain": [
       "<IPython.core.display.Latex object>"
      ]
     },
     "metadata": {},
     "output_type": "display_data"
    }
   ],
   "source": [
    "display(Latex(prob.general_setup()))"
   ]
  },
  {
   "cell_type": "code",
   "execution_count": 4,
   "id": "7b24ea0a-2590-4cb2-ad0b-81970351ad7f",
   "metadata": {},
   "outputs": [
    {
     "data": {
      "text/latex": [
       "\n",
       "Consumers in a market for commodity \\(q\\) have a demand curve given by:\n",
       "\n",
       "$$ Q_d = 14-p $$\n",
       "\n",
       "The market is supplied by 2 firms. The cost function of each firm \\(i\\) is:\n",
       "\n",
       "$$ c(q_i) = 2q_i $$\n",
       "\n",
       "The firms engage in Cournot competition (i.e. they simultaneously decide how much quantity to produce; the market price is then determined by the total quantity produced by all firms).\n"
      ],
      "text/plain": [
       "<IPython.core.display.Latex object>"
      ]
     },
     "metadata": {},
     "output_type": "display_data"
    },
    {
     "name": "stdout",
     "output_type": "stream",
     "text": [
      "{'A': 14, 'B': 1, 'c': 2, 'N': 2}\n",
      "{'q': 4.0, 'p': 6.0, 'Q': 8.0, 'profit': 16.0, 'total_profit': 32.0}\n",
      "True\n"
     ]
    }
   ],
   "source": [
    "display(Latex(prob.setup()))\n",
    "print(prob.params)\n",
    "print(prob.sol)\n",
    "print(prob.check_solutions())"
   ]
  },
  {
   "cell_type": "code",
   "execution_count": 5,
   "id": "15ddb811-f013-443b-a1d1-e5a655751a32",
   "metadata": {},
   "outputs": [
    {
     "name": "stdout",
     "output_type": "stream",
     "text": [
      "1000 eamples found...\n",
      "2000 eamples found...\n",
      "3000 eamples found...\n",
      "3000 examples found.\n"
     ]
    }
   ],
   "source": [
    "examples = []\n",
    "n_found = 0\n",
    "for q in np.arange(1,11):\n",
    "    for B in [0.5, 1, 2]:\n",
    "        for N in [2,3,4,5,6,8,10,12,15,20,24,30,50,100,120,150,180,200,240,300]:\n",
    "            for c in np.arange(1,6):\n",
    "                A = q*B*(N+1) + c\n",
    "                params = {'A':A, 'B':B, 'c':c, 'N':N}\n",
    "                prob = CournotN(params)\n",
    "                if prob.check_solutions():\n",
    "                    examples.append(params | prob.sol)\n",
    "                    n_found+=1\n",
    "                    if (n_found%1000==0):\n",
    "                        print(f\"{n_found} eamples found...\")\n",
    "examples = pd.DataFrame.from_dict(examples)\n",
    "examples.to_csv(\"CournotN_examples.csv\", index=False, header=True)\n",
    "print(f\"{len(examples)} examples found.\")"
   ]
  },
  {
   "cell_type": "code",
   "execution_count": 37,
   "id": "9ef0aa89-9607-4a36-9a95-5427b10a8009",
   "metadata": {},
   "outputs": [
    {
     "data": {
      "text/latex": [
       "\n",
       "Consumers in a market for commodity \\(q\\) have a demand curve given by:\n",
       "\n",
       "$$ Q_d = 22-p $$\n",
       "\n",
       "The market is supplied by 8 firms. The cost function of each firm \\(i\\) is:\n",
       "\n",
       "$$ c(q_i) = 4q_i $$\n",
       "\n",
       "The firms engage in Cournot competition (i.e. they simultaneously decide how much quantity to produce; the market price is then determined by the total quantity produced by all firms).\n"
      ],
      "text/plain": [
       "<IPython.core.display.Latex object>"
      ]
     },
     "metadata": {},
     "output_type": "display_data"
    },
    {
     "name": "stdout",
     "output_type": "stream",
     "text": [
      "{'A': 22.0, 'B': 1.0, 'c': 4.0, 'N': 8.0}\n",
      "{'q': 2.0, 'p': 6.0, 'Q': 16.0, 'profit': 4.0, 'total_profit': 32.0}\n",
      "True\n"
     ]
    }
   ],
   "source": [
    "myprob = get_random_prob(CournotN, \"CournotN_examples.csv\")\n",
    "display(Latex(myprob.setup()))\n",
    "print(myprob.params)\n",
    "print(myprob.sol)\n",
    "print(myprob.check_solutions())"
   ]
  },
  {
   "cell_type": "code",
   "execution_count": 19,
   "id": "9c33c252-8a9a-4311-8f44-d7a55b86c796",
   "metadata": {},
   "outputs": [
    {
     "data": {
      "text/plain": [
       "1400"
      ]
     },
     "execution_count": 19,
     "metadata": {},
     "output_type": "execute_result"
    }
   ],
   "source": [
    "7*200"
   ]
  }
 ],
 "metadata": {
  "kernelspec": {
   "display_name": "Python 3 (ipykernel)",
   "language": "python",
   "name": "python3"
  },
  "language_info": {
   "codemirror_mode": {
    "name": "ipython",
    "version": 3
   },
   "file_extension": ".py",
   "mimetype": "text/x-python",
   "name": "python",
   "nbconvert_exporter": "python",
   "pygments_lexer": "ipython3",
   "version": "3.10.6"
  }
 },
 "nbformat": 4,
 "nbformat_minor": 5
}
