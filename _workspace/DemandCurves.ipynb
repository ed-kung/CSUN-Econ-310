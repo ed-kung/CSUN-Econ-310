{
 "cells": [
  {
   "cell_type": "code",
   "execution_count": 1,
   "id": "0d7fffcb-3f3d-441c-92d0-a07d154b186d",
   "metadata": {},
   "outputs": [],
   "source": [
    "import numpy as np\n",
    "import pandas as pd\n",
    "from matplotlib import pyplot as plt\n",
    "from matplotlib import cm\n",
    "from IPython.display import display, Markdown, Latex\n",
    "import pickle\n",
    "\n",
    "SMALL_SIZE = 12\n",
    "MEDIUM_SIZE = 14\n",
    "LARGE_SIZE = 16\n",
    "\n",
    "plt.rcdefaults()\n",
    "plt.rcParams['text.usetex'] = True\n",
    "plt.rcParams['font.family'] = 'Helvetica'\n",
    "plt.rcParams['font.size'] = MEDIUM_SIZE\n",
    "plt.rcParams['axes.titlesize'] = LARGE_SIZE\n",
    "plt.rcParams['axes.labelsize'] = MEDIUM_SIZE\n",
    "plt.rcParams['xtick.labelsize'] = SMALL_SIZE\n",
    "plt.rcParams['ytick.labelsize'] = SMALL_SIZE\n",
    "plt.rcParams['legend.fontsize'] = MEDIUM_SIZE\n",
    "plt.rcParams['figure.titlesize'] = LARGE_SIZE\n",
    "plt.rcParams['figure.figsize'] = [7.2, 4.8]\n",
    "plt.rcParams['figure.dpi'] = 60\n",
    "plt.rcParams['figure.facecolor'] = (1.0, 1.0, 1.0, 0.0)\n",
    "\n",
    "from utils import DemandPoly, DemandCE"
   ]
  },
  {
   "cell_type": "code",
   "execution_count": 2,
   "id": "02035f21-cb1a-42cf-9a5b-5ecb08f118ac",
   "metadata": {},
   "outputs": [],
   "source": [
    "prob = DemandPoly()"
   ]
  },
  {
   "cell_type": "code",
   "execution_count": 3,
   "id": "0a6dc247-eea3-4fc6-9b9e-ec6c79817ddb",
   "metadata": {},
   "outputs": [
    {
     "data": {
      "text/latex": [
       "\n",
       "A price-taking consumer with income $Y$ has utility over numeraire consumption $c$ and a commodity $q$ given by:\n",
       "\n",
       "$$ u(c,q) = c + aq - bq^k $$\n"
      ],
      "text/plain": [
       "<IPython.core.display.Latex object>"
      ]
     },
     "metadata": {},
     "output_type": "display_data"
    },
    {
     "data": {
      "text/latex": [
       "\n",
       "The demand curve is:\n",
       "\n",
       "$$ q = \\left( \\frac{a-p}{kb} \\right)^{\\frac{1}{k-1}} $$\n"
      ],
      "text/plain": [
       "<IPython.core.display.Latex object>"
      ]
     },
     "metadata": {},
     "output_type": "display_data"
    }
   ],
   "source": [
    "display(Latex(prob.general_setup()))\n",
    "display(Latex(prob.general_solution()))"
   ]
  },
  {
   "cell_type": "code",
   "execution_count": 4,
   "id": "a11a774a-d4a0-4d37-9b5d-fe6bd2552136",
   "metadata": {},
   "outputs": [
    {
     "data": {
      "text/latex": [
       "\n",
       "A price-taking consumer with income $Y = 100$ has utility over numeraire consumption $c$ and a commodity $q$ given by:\n",
       "\n",
       "$$ u(c,q) = c + 10q - 2q^3 $$\n"
      ],
      "text/plain": [
       "<IPython.core.display.Latex object>"
      ]
     },
     "metadata": {},
     "output_type": "display_data"
    },
    {
     "data": {
      "text/plain": [
       "{'q': 1.1547005383792515,\n",
       " 'utility': 106.158402871356,\n",
       " 'consumer_surplus': 6.158402871356003}"
      ]
     },
     "execution_count": 4,
     "metadata": {},
     "output_type": "execute_result"
    }
   ],
   "source": [
    "prob = DemandPoly({'a':10,'b':2,'k':3,'Y':100})\n",
    "display(Latex(prob.setup()))\n",
    "prob.eval(2)"
   ]
  },
  {
   "cell_type": "code",
   "execution_count": 5,
   "id": "c3d5c0a3-7edc-4c4d-91de-ec0f785e7dae",
   "metadata": {},
   "outputs": [
    {
     "data": {
      "text/latex": [
       "\n",
       "A price-taking consumer with income $Y$ has utility over numeraire consumption $c$ and a commodity $q$ given by:\n",
       "\n",
       "$$ u(c,q) = c + aq^k $$\n"
      ],
      "text/plain": [
       "<IPython.core.display.Latex object>"
      ]
     },
     "metadata": {},
     "output_type": "display_data"
    },
    {
     "data": {
      "text/latex": [
       "\n",
       "The demand curve is:\n",
       "\n",
       "$$ q = \\left( \\frac{p}{ka} \\right)^{\\frac{1}{k-1}} $$\n"
      ],
      "text/plain": [
       "<IPython.core.display.Latex object>"
      ]
     },
     "metadata": {},
     "output_type": "display_data"
    }
   ],
   "source": [
    "prob = DemandCE()\n",
    "display(Latex(prob.general_setup()))\n",
    "display(Latex(prob.general_solution()))"
   ]
  },
  {
   "cell_type": "code",
   "execution_count": 13,
   "id": "04de3507-a91f-45ed-a0d2-781e84e30b90",
   "metadata": {},
   "outputs": [
    {
     "data": {
      "text/latex": [
       "\n",
       "A price-taking consumer with income $Y = 100$ has utility over numeraire consumption $c$ and a commodity $q$ given by:\n",
       "\n",
       "$$ u(c,q) = c + 10q^{ \\frac{ 1 }{ 2 } } $$\n"
      ],
      "text/plain": [
       "<IPython.core.display.Latex object>"
      ]
     },
     "metadata": {},
     "output_type": "display_data"
    },
    {
     "data": {
      "text/plain": [
       "{'q': 6.249999999999999, 'utility': 112.5, 'consumer_surplus': 12.5}"
      ]
     },
     "execution_count": 13,
     "metadata": {},
     "output_type": "execute_result"
    }
   ],
   "source": [
    "prob = DemandCE({'a':10,'numer_k':1,'denom_k':2,'Y':100})\n",
    "display(Latex(prob.setup()))\n",
    "prob.eval(2)"
   ]
  }
 ],
 "metadata": {
  "kernelspec": {
   "display_name": "Python 3 (ipykernel)",
   "language": "python",
   "name": "python3"
  },
  "language_info": {
   "codemirror_mode": {
    "name": "ipython",
    "version": 3
   },
   "file_extension": ".py",
   "mimetype": "text/x-python",
   "name": "python",
   "nbconvert_exporter": "python",
   "pygments_lexer": "ipython3",
   "version": "3.9.6"
  }
 },
 "nbformat": 4,
 "nbformat_minor": 5
}
