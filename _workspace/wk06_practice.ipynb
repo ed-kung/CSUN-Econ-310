{
 "cells": [
  {
   "cell_type": "code",
   "execution_count": 1,
   "id": "2b06770f-63e6-4bb8-8104-1850bcc82b73",
   "metadata": {},
   "outputs": [],
   "source": [
    "import os\n",
    "import numpy as np\n",
    "import pandas as pd\n",
    "from IPython.display import display, Markdown, Latex\n",
    "import json\n",
    "from utils import CobbDouglasIC, CobbDouglasConsumer\n",
    "from utils import cbeq, polyeq, term, is_divisible, Number\n",
    "\n",
    "JSON_FILE = \"../assets/data/wk06_practice.json\"\n",
    "probs = []"
   ]
  },
  {
   "cell_type": "code",
   "execution_count": 2,
   "id": "df29b7b7-ce37-4ce8-87d5-613ac58d9f36",
   "metadata": {},
   "outputs": [
    {
     "name": "stdout",
     "output_type": "stream",
     "text": [
      "30\n"
     ]
    }
   ],
   "source": [
    "# Cobb Douglas Indifference curves\n",
    "for d in np.arange(2,6):\n",
    "    for a in np.arange(1,d):\n",
    "        for b in np.arange(1,d):\n",
    "            ad = Number(a,d).as_frac(inline=True,rmplus=True)\n",
    "            bd = Number(b,d).as_frac(inline=True,rmplus=True)\n",
    "            db = Number(d,b).as_frac(inline=True,rmplus=True)\n",
    "            ab = Number(-a,b).as_frac(inline=True,rmplus=True)\n",
    "            setup = fr\"\"\"\n",
    "$$ f(x,y) = x^{{ {ad} }} y^{{ {bd} }} $$\n",
    "\n",
    "Write down an equation describing the contour line for \\( f(x,y) = z \\). \n",
    "\"\"\"\n",
    "            solution = fr\"\"\"\n",
    "$$ y = z^{{ {db} }} x^{{ {ab} }} $$\n",
    "\"\"\"\n",
    "            probs.append({'setup':setup, 'solution':solution})\n",
    "print(len(probs))"
   ]
  },
  {
   "cell_type": "code",
   "execution_count": 3,
   "id": "e0d32a70-537b-4d22-b9da-a8c7a6b0ff3c",
   "metadata": {},
   "outputs": [
    {
     "name": "stdout",
     "output_type": "stream",
     "text": [
      "55\n"
     ]
    }
   ],
   "source": [
    "# Linear indifference curves\n",
    "for a in np.arange(1,6):\n",
    "    for b in np.arange(1,6):\n",
    "        a = np.random.randint(1,10)\n",
    "        b = np.random.randint(1,10)\n",
    "        setup = fr\"\"\"\n",
    "$$ f(x,y) = {term(a,'x',1,rmplus=True)} + {term(b,'y',1,rmplus=True)} $$\n",
    "\n",
    "Write down an equation describing the contour line for \\( f(x,y) = z \\).\n",
    "\"\"\"\n",
    "        if b==1:\n",
    "            solution = fr\"$$ y = z - {term(a,'x',1,rmplus=True)} $$\"\n",
    "        else:\n",
    "            solution = fr\"$$ y = \\frac{{ z - {term(a,'x',1,rmplus=True)} }}{{ {b:g} }} $$\"\n",
    "        probs.append({'setup':setup, 'solution':solution})\n",
    "print(len(probs))"
   ]
  },
  {
   "cell_type": "code",
   "execution_count": 4,
   "id": "0fcdd621-9a00-413c-91f3-f2806f51ea83",
   "metadata": {},
   "outputs": [
    {
     "name": "stdout",
     "output_type": "stream",
     "text": [
      "75\n"
     ]
    }
   ],
   "source": [
    "# First order conditions (polynomial)\n",
    "for i in range(20):\n",
    "    cons = np.random.choice( [0, np.random.randint(-9,10)] )\n",
    "    xcoefs = np.random.randint(-9,10,size=2)\n",
    "    xpows = np.random.choice(np.arange(1,6),size=2,replace=False)\n",
    "    ycoefs = np.random.randint(-9,10,size=2)\n",
    "    ypows = np.random.choice(np.arange(1,6),size=2,replace=False)\n",
    "    \n",
    "    dxcoefs = xcoefs*xpows\n",
    "    dxpows = xpows-1\n",
    "    dycoefs = ycoefs*ypows\n",
    "    dypows = ypows-1\n",
    "    \n",
    "    setup = fr\"\"\"\n",
    "$$ f(x,y) = {polyeq('x',[cons]+list(xcoefs),[0]+list(xpows),rmplus=True)} {polyeq('y',ycoefs,ypows,rmplus=False)} $$\n",
    "\n",
    "Write down the partial derivatives of \\(f(x,y)\\) with respect to \\(x\\) and \\(y\\).\n",
    "\"\"\"\n",
    "    solution = fr\"\"\"\n",
    "$$ f_x(x,y) = {polyeq('x',dxcoefs,dxpows)} $$\n",
    "\n",
    "$$ f_y(x,y) = {polyeq('y',dycoefs,dypows)} $$\n",
    "\"\"\"    \n",
    "    probs.append({'setup':setup, 'solution':solution})\n",
    "print(len(probs))    "
   ]
  },
  {
   "cell_type": "code",
   "execution_count": 5,
   "id": "49b767c6-1f59-469b-a449-105ed82fcbb6",
   "metadata": {},
   "outputs": [
    {
     "name": "stdout",
     "output_type": "stream",
     "text": [
      "105\n"
     ]
    }
   ],
   "source": [
    "# FIrst order conditions (cobb douglas)\n",
    "for d in np.arange(2,6):\n",
    "    for a in np.arange(1,d):\n",
    "        for b in np.arange(1,d):\n",
    "            setup = fr\"\"\"\n",
    "$$ f(x,y) = {cbeq(1,'x',Number(a,d),'y',Number(b,d))} $$\n",
    "\n",
    "Write down the partial derivatives of \\(f(x,y)\\) with respect to \\(x\\) and \\(y\\).\n",
    "\"\"\"\n",
    "            solution = fr\"\"\"\n",
    "$$ f_x(x,y) = {cbeq(Number(a,d),'x',Number(a-d,d),'y',Number(b,d))} $$\n",
    "\n",
    "$$ f_y(x,y) = {cbeq(Number(b,d),'x',Number(a,d),'y',Number(b-d,d))} $$\n",
    "\"\"\"\n",
    "            probs.append({'setup':setup, 'solution':solution})\n",
    "print(len(probs))    \n"
   ]
  },
  {
   "cell_type": "code",
   "execution_count": 6,
   "id": "9ed7890e-b578-4eee-ad2d-965ed7c005fa",
   "metadata": {},
   "outputs": [
    {
     "name": "stdout",
     "output_type": "stream",
     "text": [
      "125\n"
     ]
    }
   ],
   "source": [
    "# Solve (polynomial)\n",
    "for i in range(20):\n",
    "    cons = np.random.choice( [0, np.random.randint(-9,10)] )\n",
    "    xcoefs = [np.random.randint(1,25), np.random.randint(-9,0)]\n",
    "    xpows = [1,2]\n",
    "    ycoefs = [np.random.randint(1,25), np.random.randint(-9,0)]\n",
    "    ypows = [1,2]\n",
    "    \n",
    "    xopt = -xcoefs[0]/(2*xcoefs[1])\n",
    "    yopt = -ycoefs[0]/(2*ycoefs[1])\n",
    "    \n",
    "    setup = fr\"\"\"\n",
    "$$ f(x,y) = {polyeq('x',[cons]+list(xcoefs),[0]+list(xpows),rmplus=True)} {polyeq('y',ycoefs,ypows,rmplus=False)} $$\n",
    "\n",
    "Solve for the choice of \\(x\\) and \\(y\\) that maximize \\(f(x,y)\\).\n",
    "\"\"\"\n",
    "    solution = fr\"\"\"\n",
    "$$ x^* = {xopt:g} $$\n",
    "\n",
    "$$ y^* = {yopt:g} $$\n",
    "\"\"\"\n",
    "    probs.append({'setup':setup, 'solution':solution})\n",
    "print(len(probs))"
   ]
  },
  {
   "cell_type": "code",
   "execution_count": 7,
   "id": "04ed75a4-4e65-4215-95dc-eafdc268fbc7",
   "metadata": {},
   "outputs": [
    {
     "name": "stdout",
     "output_type": "stream",
     "text": [
      "150\n"
     ]
    }
   ],
   "source": [
    "# max xy s.t. ax + by = c\n",
    "for a in np.arange(1,6):\n",
    "    for b in np.arange(1,6):\n",
    "        c = np.random.choice([10,12,15,18,20,24,25,30,32,36,42,48,50])\n",
    "        xopt = c/(2*a)\n",
    "        yopt = c/(2*b)\n",
    "        setup = fr\"\"\"\n",
    "Solve:\n",
    "\n",
    "$$ \\max_{{x,y}} xy ~ \\text{{ s.t. }} ~ {term(a,'x',1,rmplus=True)} {term(b,'y',1,rmplus=False)} = {c:g} $$\n",
    "\"\"\"\n",
    "        solution = fr\"\"\"\n",
    "$$ x^* = {xopt:g} $$\n",
    "\n",
    "$$ y^* = {yopt:g} $$\n",
    "\"\"\"\n",
    "        probs.append({'setup':setup, 'solution':solution})\n",
    "print(len(probs))"
   ]
  },
  {
   "cell_type": "code",
   "execution_count": 8,
   "id": "7a07f30e-aa8a-4e1c-9a96-63bdaa08b41e",
   "metadata": {},
   "outputs": [
    {
     "name": "stdout",
     "output_type": "stream",
     "text": [
      "200\n"
     ]
    }
   ],
   "source": [
    "# max cobb douglas s.t. ax + by = c\n",
    "df = pd.read_csv(\"CobbDouglasConsumer_examples.csv\")\n",
    "mydf = df.sample(50)\n",
    "for idx, row in mydf.iterrows():\n",
    "    params = dict(row).copy()\n",
    "    nx, dx, ny, dy, I, px, py = params['nx'], params['dx'], params['ny'], params['dy'], params['I'], params['px'], params['py']\n",
    "    prob = CobbDouglasConsumer(params)\n",
    "    mycbeq = cbeq(1,'x',Number(nx,dx),'y',Number(ny,dy))\n",
    "    myconstraint = fr\"{term(px,'x',1,rmplus=True)} {term(py,'y',1,rmplus=False)} = {I:g}\"\n",
    "    xopt = prob.sol['x']\n",
    "    yopt = prob.sol['y']\n",
    "    setup = fr\"\"\"\n",
    "Solve:\n",
    "\n",
    "$$ \\max_{{x,y}} {mycbeq} ~ \\text{{ s.t. }} ~ {myconstraint} $$\n",
    "\"\"\"\n",
    "    solution = fr\"\"\"\n",
    "$$ x^* = {xopt:g} $$\n",
    "\n",
    "$$ y^* = {yopt:g} $$\n",
    "\"\"\"\n",
    "    probs.append({'setup':setup, 'solution':solution})\n",
    "print(len(probs))"
   ]
  },
  {
   "cell_type": "code",
   "execution_count": 9,
   "id": "c55d4467-8661-40b3-ad19-524f2feacca2",
   "metadata": {},
   "outputs": [],
   "source": [
    "with open(JSON_FILE, 'w') as f:\n",
    "    json.dump(probs, f)"
   ]
  },
  {
   "cell_type": "code",
   "execution_count": 10,
   "id": "c4e3e697-5232-45e1-86af-82bb39287878",
   "metadata": {},
   "outputs": [],
   "source": [
    "with open(JSON_FILE, 'r') as f:\n",
    "    myprobs = json.load(f)"
   ]
  },
  {
   "cell_type": "code",
   "execution_count": 11,
   "id": "334981b0-251c-4ede-acd4-7e00dab2dd32",
   "metadata": {},
   "outputs": [
    {
     "data": {
      "text/latex": [
       "\n",
       "$$ f(x,y) = 2x + 3y $$\n",
       "\n",
       "Write down an equation describing the contour line for \\( f(x,y) = z \\).\n"
      ],
      "text/plain": [
       "<IPython.core.display.Latex object>"
      ]
     },
     "metadata": {},
     "output_type": "display_data"
    },
    {
     "data": {
      "text/latex": [
       "$$ y = \\frac{ z - 2x }{ 3 } $$"
      ],
      "text/plain": [
       "<IPython.core.display.Latex object>"
      ]
     },
     "metadata": {},
     "output_type": "display_data"
    }
   ],
   "source": [
    "prob = np.random.choice(myprobs)\n",
    "display(Latex(prob['setup']))\n",
    "display(Latex(prob['solution']))"
   ]
  },
  {
   "cell_type": "code",
   "execution_count": 12,
   "id": "d270645f-0aec-437b-a021-45bd4e787f9f",
   "metadata": {},
   "outputs": [
    {
     "data": {
      "text/plain": [
       "200"
      ]
     },
     "execution_count": 12,
     "metadata": {},
     "output_type": "execute_result"
    }
   ],
   "source": [
    "len(myprobs)"
   ]
  }
 ],
 "metadata": {
  "kernelspec": {
   "display_name": "Python 3 (ipykernel)",
   "language": "python",
   "name": "python3"
  },
  "language_info": {
   "codemirror_mode": {
    "name": "ipython",
    "version": 3
   },
   "file_extension": ".py",
   "mimetype": "text/x-python",
   "name": "python",
   "nbconvert_exporter": "python",
   "pygments_lexer": "ipython3",
   "version": "3.10.5"
  }
 },
 "nbformat": 4,
 "nbformat_minor": 5
}
