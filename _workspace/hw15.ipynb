{
 "cells": [
  {
   "cell_type": "code",
   "execution_count": 1,
   "id": "c22ce13f-1cf1-466a-afed-8d731d3fb548",
   "metadata": {},
   "outputs": [],
   "source": [
    "import os\n",
    "import numpy as np\n",
    "import pandas as pd\n",
    "from IPython.display import display, Markdown, Latex\n",
    "\n",
    "import econtools\n",
    "from econtools.documents import Homework, RawLatex, Multipart\n",
    "import utils2 as u2\n",
    "from matplotlib import pyplot as plt\n",
    "\n",
    "SMALL_SIZE = 14\n",
    "MEDIUM_SIZE = 16\n",
    "LARGE_SIZE = 18\n",
    "HUGE_SIZE = 20\n",
    "\n",
    "plt.rcdefaults()\n",
    "plt.rcParams['text.usetex'] = True\n",
    "plt.rcParams['font.family'] = 'Helvetica'\n",
    "plt.rcParams['font.size'] = MEDIUM_SIZE\n",
    "plt.rcParams['axes.titlesize'] = LARGE_SIZE\n",
    "plt.rcParams['axes.labelsize'] = MEDIUM_SIZE\n",
    "plt.rcParams['xtick.labelsize'] = MEDIUM_SIZE\n",
    "plt.rcParams['ytick.labelsize'] = MEDIUM_SIZE\n",
    "plt.rcParams['legend.fontsize'] = MEDIUM_SIZE\n",
    "plt.rcParams['figure.titlesize'] = LARGE_SIZE\n",
    "plt.rcParams['figure.figsize'] = [7.2, 7.2]\n",
    "plt.rcParams['figure.dpi'] = 60\n",
    "plt.rcParams['figure.facecolor'] = (1.0, 1.0, 1.0, 0.0)\n",
    "\n",
    "OUTPUT_DIR = \"./tex\"\n",
    "IMAGE_PATH = \"./tex\"\n",
    "TITLE = \"Econ 310 Week 15 Problem Set\"\n",
    "DUE_DATE = \"Tuesday 5/6\"\n",
    "FILENAME = \"ec310-hw15\"\n",
    "\n",
    "doc = Homework(\n",
    "    title = TITLE,\n",
    "    due_date = DUE_DATE\n",
    ")\n",
    "rng = np.random.default_rng(115)\n",
    "\n",
    "nprob = 0"
   ]
  },
  {
   "cell_type": "code",
   "execution_count": 2,
   "id": "6b7c11d0-1cf2-4e18-8188-4a51eea0ec2d",
   "metadata": {},
   "outputs": [],
   "source": [
    "TYPE = 'ExpectedValueProblem'\n",
    "df = pd.read_pickle(f\"{TYPE}.pkl\")\n",
    "params = dict(df.sample(1,random_state=rng).iloc[0])\n",
    "name = fr\"{FILENAME}-{nprob}\"\n",
    "problem = u2.load_problem(TYPE, params, rng=rng, name=name)\n",
    "doc.add(u2.get_single_sa(problem,setup_id=0,question_id=0))\n",
    "nprob+=1"
   ]
  },
  {
   "cell_type": "code",
   "execution_count": 3,
   "id": "18e0413b-c823-4467-adbd-00db0e444367",
   "metadata": {},
   "outputs": [],
   "source": [
    "TYPE = 'InsuranceProblem'\n",
    "df = pd.read_pickle(f\"{TYPE}.pkl\")\n",
    "idx = df['WTP']>200\n",
    "params = dict(df.loc[idx].sample(1,random_state=rng).iloc[0])\n",
    "name = fr\"{FILENAME}-{nprob}\"\n",
    "problem = u2.load_problem(TYPE, params, rng=rng, name=name)\n",
    "doc.add(u2.get_multipart_sa(problem,setup_id=0,question_ids=[0,1,2,3,4]))\n",
    "nprob+=1"
   ]
  },
  {
   "cell_type": "code",
   "execution_count": 4,
   "id": "f7bdea1a-4ebd-4283-868e-276ab7a59cc3",
   "metadata": {},
   "outputs": [],
   "source": [
    "TYPE = 'PresentValueProblem'\n",
    "df = pd.read_pickle(f\"{TYPE}.pkl\")\n",
    "idx = df['T']==0\n",
    "params = dict(df.loc[idx].sample(1,random_state=rng).iloc[0])\n",
    "name = fr\"{FILENAME}-{nprob}\"\n",
    "problem = u2.load_problem(TYPE, params, rng=rng, name=name)\n",
    "doc.add(u2.get_single_sa(problem,setup_id=0,question_id=0))\n",
    "nprob+=1"
   ]
  },
  {
   "cell_type": "code",
   "execution_count": 5,
   "id": "ba5b9971-4945-4377-a11e-a194f2ad9c7b",
   "metadata": {},
   "outputs": [],
   "source": [
    "TYPE = 'PresentValueProblem'\n",
    "df = pd.read_pickle(f\"{TYPE}.pkl\")\n",
    "idx = df['T']==np.inf\n",
    "params = dict(df.loc[idx].sample(1,random_state=rng).iloc[0])\n",
    "name = fr\"{FILENAME}-{nprob}\"\n",
    "problem = u2.load_problem(TYPE, params, rng=rng, name=name)\n",
    "doc.add(u2.get_single_sa(problem,setup_id=0,question_id=0))\n",
    "nprob+=1"
   ]
  },
  {
   "cell_type": "code",
   "execution_count": 6,
   "id": "a11acecf-68da-4ab0-8ef0-52c6dd868962",
   "metadata": {},
   "outputs": [],
   "source": [
    "TYPE = 'SavingsProblem'\n",
    "df = pd.read_pickle(f\"{TYPE}.pkl\")\n",
    "idx = (df['beta']!=df['p'])\n",
    "params = dict(df.loc[idx].sample(1,random_state=rng).iloc[0])\n",
    "name = fr\"{FILENAME}-{nprob}\"\n",
    "problem = u2.load_problem(TYPE, params, rng=rng, name=name)\n",
    "doc.add(u2.get_multipart_sa(problem,setup_id=0,question_ids=[0,1,2,3]))\n",
    "nprob+=1"
   ]
  },
  {
   "cell_type": "code",
   "execution_count": 7,
   "id": "bf1162b3-5465-48b4-ac44-59e47faa0a99",
   "metadata": {},
   "outputs": [
    {
     "name": "stdout",
     "output_type": "stream",
     "text": [
      "{'beta': 0.95, 'p': 0.95, 'Y': 50000}\n",
      "0:  An individual lives for two periods. In period 1, they earn an income of \\(Y=50,000\\). In period 2, they earn no income. In order to consume in period 2, they must buy bonds in period 1. One bond pays \\(\\$1\\) in period 2, and can be purchased for price \\(p=0.95\\) in period 1. The individual's objective is to maximize the present value of their utility: $$u(c_1,c_2) = \\ln c_1 + \\beta \\ln c_2$$ where \\(c_1\\) is consumption period 1, \\(c_2\\) is consumption in period 2, and \\(\\beta=0.95\\) is the individual's subjective time discount factor. \n",
      "\n",
      "0: How many bonds will the person buy in period 1?\n",
      "\n",
      "1: How much will the person consume in period 1?\n",
      "\n",
      "2: How much will the person consume in period 2?\n",
      "\n",
      "3: What is the interest rate on bonds?\n",
      "\n"
     ]
    }
   ],
   "source": [
    "u2.show_menu('SavingsProblem')\n",
    "#u2.PROBLEM_TYPES"
   ]
  },
  {
   "cell_type": "code",
   "execution_count": 8,
   "id": "d3c8b391-8cc1-49d3-8ce8-a2894533df71",
   "metadata": {},
   "outputs": [],
   "source": [
    "doc.print_pdf(FILENAME, OUTPUT_DIR)"
   ]
  }
 ],
 "metadata": {
  "kernelspec": {
   "display_name": "Python 3 (ipykernel)",
   "language": "python",
   "name": "python3"
  },
  "language_info": {
   "codemirror_mode": {
    "name": "ipython",
    "version": 3
   },
   "file_extension": ".py",
   "mimetype": "text/x-python",
   "name": "python",
   "nbconvert_exporter": "python",
   "pygments_lexer": "ipython3",
   "version": "3.12.8"
  }
 },
 "nbformat": 4,
 "nbformat_minor": 5
}
