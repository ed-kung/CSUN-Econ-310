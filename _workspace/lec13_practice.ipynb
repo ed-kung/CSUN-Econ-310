{
 "cells": [
  {
   "cell_type": "code",
   "execution_count": 1,
   "id": "c047a86b-2714-4ec7-93c3-db89cd57df0d",
   "metadata": {},
   "outputs": [],
   "source": [
    "import os\n",
    "import numpy as np\n",
    "import pandas as pd\n",
    "from IPython.display import display, Markdown, Latex\n",
    "import json\n",
    "import utils2 as u2\n",
    "from matplotlib import pyplot as plt\n",
    "\n",
    "SMALL_SIZE = 14\n",
    "MEDIUM_SIZE = 16\n",
    "LARGE_SIZE = 18\n",
    "HUGE_SIZE = 20\n",
    "\n",
    "plt.rcdefaults()\n",
    "plt.rcParams['text.usetex'] = True\n",
    "plt.rcParams['font.family'] = 'Helvetica'\n",
    "plt.rcParams['font.size'] = MEDIUM_SIZE\n",
    "plt.rcParams['axes.titlesize'] = LARGE_SIZE\n",
    "plt.rcParams['axes.labelsize'] = MEDIUM_SIZE\n",
    "plt.rcParams['xtick.labelsize'] = MEDIUM_SIZE\n",
    "plt.rcParams['ytick.labelsize'] = MEDIUM_SIZE\n",
    "plt.rcParams['legend.fontsize'] = MEDIUM_SIZE\n",
    "plt.rcParams['figure.titlesize'] = LARGE_SIZE\n",
    "plt.rcParams['figure.figsize'] = [7.2, 7.2]\n",
    "plt.rcParams['figure.dpi'] = 60\n",
    "plt.rcParams['figure.facecolor'] = (1.0, 1.0, 1.0, 0.0)\n",
    "\n",
    "JSON_FILE = \"../assets/data/lec13_practice.json\"\n",
    "PROBLEM_NAME = \"lec13_practice_{}\"\n",
    "IMAGE_PATH = \"../assets/images/graphs\"\n",
    "probs = []\n",
    "nprob = 0\n",
    "\n",
    "rng = np.random.default_rng(113)"
   ]
  },
  {
   "cell_type": "code",
   "execution_count": 2,
   "id": "93a3c78e-b886-4a9c-ba88-8506c099b513",
   "metadata": {},
   "outputs": [
    {
     "name": "stdout",
     "output_type": "stream",
     "text": [
      "0:  A firm uses labor \\(L\\) and capital \\(K\\) to produce a commodity output. The firm's production function is: $$f(L,K) = L^{1/2}K^{1/2}$$ \n",
      "\n",
      "0: Does the firm exhibit increasing, decreasing, or constant returns to scale?\n",
      "\n",
      "1: Suppose the firm increases both its labor and capital input by \\(50\\%\\). This would cause the firm's output to increase by a factor of:\n",
      "\n",
      "2: Suppose the firm increases its labor input by \\(50\\%\\) without changing its capital input. This would cause the firm's output to increase by a factor of:\n",
      "\n",
      "3: Suppose the firm increases its capital input by \\(50\\%\\) without changing its labor input. This would cause the firm's output to increase by a factor of:\n",
      "\n"
     ]
    }
   ],
   "source": [
    "TYPE = \"ReturnsToScaleProblem\"\n",
    "u2.show_menu(TYPE)"
   ]
  },
  {
   "cell_type": "code",
   "execution_count": 3,
   "id": "9f12baed-f18e-4738-9b49-d78984b85dc7",
   "metadata": {},
   "outputs": [
    {
     "name": "stdout",
     "output_type": "stream",
     "text": [
      "21\n"
     ]
    }
   ],
   "source": [
    "# returns to scale problem\n",
    "\n",
    "TYPE = \"ReturnsToScaleProblem\"\n",
    "df = pd.read_csv(f\"{TYPE}.csv\")\n",
    "\n",
    "df1 = df.loc[df['rts']=='constant returns to scale'].sample(7, random_state=rng)\n",
    "df2 = df.loc[df['rts']=='increasing returns to scale'].sample(7, random_state=rng)\n",
    "df3 = df.loc[df['rts']=='decreasing returns to scale'].sample(7, random_state=rng)\n",
    "\n",
    "mydf = pd.concat([df1,df2,df3])\n",
    "\n",
    "for idx, row in mydf.iterrows():\n",
    "    params = dict(row.copy())\n",
    "    name = PROBLEM_NAME.format(nprob)\n",
    "    prob = u2.load_problem(TYPE, params=params, rng=rng, name=name)\n",
    "    online_format = u2.get_online_format(prob, setup_id=0, question_ids=[0,1,2])\n",
    "    probs.append(online_format)\n",
    "    nprob+=1\n",
    "print(nprob)"
   ]
  },
  {
   "cell_type": "code",
   "execution_count": 4,
   "id": "ab81f981-525a-46e4-92a0-fc77e0a726ec",
   "metadata": {},
   "outputs": [
    {
     "name": "stdout",
     "output_type": "stream",
     "text": [
      "0:  A firm has a constant returns to scale production function over labor and capital given by: $$ f(L,K) = L^{1/2}K^{1/2} $$ The unit price of labor is \\(w=1\\) and the unit price of capital is \\(r=1\\). \n",
      "\n",
      "0: What choice of labor \\(L\\) minimizes the cost to produce one unit of output?\n",
      "\n",
      "1: What choice of capital \\(K\\) minimizes the cost to produce one unit of output?\n",
      "\n",
      "2: What is the firm's cost to produce one unit?\n",
      "\n",
      "41\n"
     ]
    }
   ],
   "source": [
    "# cobb douglas firm (equation)\n",
    "\n",
    "TYPE = \"CobbDouglasFirmProblem\"\n",
    "u2.show_menu(TYPE)\n",
    "df = pd.read_csv(f\"{TYPE}.csv\")\n",
    "\n",
    "for idx, row in df.sample(20, random_state=rng).iterrows():\n",
    "    params = dict(row.copy())\n",
    "    name = PROBLEM_NAME.format(nprob)\n",
    "    prob = u2.load_problem(TYPE, params=params, rng=rng, name=name)\n",
    "    online_format = u2.get_online_format(prob, setup_id=0, question_ids=[0,1,2])\n",
    "    probs.append(online_format)\n",
    "    nprob+=1\n",
    "print(nprob)"
   ]
  },
  {
   "cell_type": "code",
   "execution_count": 5,
   "id": "afdc1485-7b10-40ae-bf2d-d8cd3e321b2c",
   "metadata": {},
   "outputs": [
    {
     "name": "stdout",
     "output_type": "stream",
     "text": [
      "0:  A firm has a constant returns to scale production function. Its unit isoquant and isocost curves are shown in the diagram below: \\begin{center} \\includegraphics[width=3in]{generic_problem_setup.png} \\end{center} The unit price of labor is \\(w=1\\) and the unit price of capital is \\(r=1\\). \n",
      "\n",
      "0: What choice of labor \\(L\\) minimizes the cost to produce one unit of output?\n",
      "\n",
      "1: What choice of capital \\(K\\) minimizes the cost to produce one unit of output?\n",
      "\n",
      "2: What is the firm's cost to produce one unit?\n",
      "\n",
      "61\n"
     ]
    }
   ],
   "source": [
    "# cobb douglas firm (graphical)\n",
    "\n",
    "TYPE = \"CobbDouglasFirmGraphicalProblem\"\n",
    "u2.show_menu(TYPE)\n",
    "df = pd.read_csv(f\"{TYPE}.csv\")\n",
    "\n",
    "for idx, row in df.sample(20, random_state=rng).iterrows():\n",
    "    params = dict(row.copy())\n",
    "    name = PROBLEM_NAME.format(nprob)\n",
    "    prob = u2.load_problem(TYPE, params=params, rng=rng, name=name)\n",
    "    online_format = u2.get_online_format(prob, setup_id=0, question_ids=[0,1,2])\n",
    "    probs.append(online_format)\n",
    "    nprob+=1\n",
    "    prob.setup_axis.draw(saveas=f\"{IMAGE_PATH}/{name}_setup.png\")\n",
    "    plt.close()\n",
    "print(nprob)"
   ]
  },
  {
   "cell_type": "code",
   "execution_count": 6,
   "id": "73e81692-c445-451a-bd54-a7cffed9f2b6",
   "metadata": {},
   "outputs": [
    {
     "name": "stdout",
     "output_type": "stream",
     "text": [
      "81\n"
     ]
    }
   ],
   "source": [
    "# technical change problem\n",
    "\n",
    "TYPE = \"TechnicalChangeProblem\"\n",
    "df = pd.read_csv(f\"{TYPE}.csv\")\n",
    "\n",
    "df1 = df.loc[df['changetype']=='increase in total factor productivity'].sample(5, random_state=rng)\n",
    "df2 = df.loc[df['changetype']=='decrease in total factor productivity'].sample(5, random_state=rng)\n",
    "df3 = df.loc[df['changetype']=='technical change favoring labor'].sample(5, random_state=rng)\n",
    "df4 = df.loc[df['changetype']=='technical change favoring capital'].sample(5, random_state=rng)\n",
    "\n",
    "mydf = pd.concat([df1,df2,df3,df4])\n",
    "\n",
    "for idx, row in mydf.iterrows():\n",
    "    params = dict(row.copy())\n",
    "    name = PROBLEM_NAME.format(nprob)\n",
    "    prob = u2.load_problem(TYPE, params=params, rng=rng, name=name)\n",
    "    online_format = u2.get_online_format(prob, setup_id=0, question_ids=[0])\n",
    "    probs.append(online_format)\n",
    "    nprob+=1\n",
    "    prob.setup_axis.draw(saveas=f\"{IMAGE_PATH}/{name}_setup.png\")\n",
    "    plt.close()\n",
    "print(nprob)"
   ]
  },
  {
   "cell_type": "code",
   "execution_count": 7,
   "id": "2197e453-f9be-469d-b5c7-e0dc22dfbd8c",
   "metadata": {},
   "outputs": [],
   "source": [
    "with open(JSON_FILE, 'w') as f:\n",
    "    json.dump(probs, f)"
   ]
  },
  {
   "cell_type": "code",
   "execution_count": 8,
   "id": "8ddd904b-d625-40a6-bdbd-9b7482ede81a",
   "metadata": {},
   "outputs": [
    {
     "name": "stdout",
     "output_type": "stream",
     "text": [
      "<p>\n",
      "The diagram below illustrates a technological change in a firm's production function. The black solid line shows the firm's unit isoquant prior to the technical change, and the red dashed line shows the firm's unit isoquant subsequent to the technical change.\n",
      "<p>\n",
      "<img src=\"/CSUN-Econ-310/assets/images/graphs/lec13_practice_80_setup.png\">\n",
      "</p>\n",
      "</p>\n",
      "<p>1. What type of technical change does this illustrate?</p>\n",
      "\n"
     ]
    }
   ],
   "source": [
    "print(online_format['setup'])"
   ]
  }
 ],
 "metadata": {
  "kernelspec": {
   "display_name": "Python 3 (ipykernel)",
   "language": "python",
   "name": "python3"
  },
  "language_info": {
   "codemirror_mode": {
    "name": "ipython",
    "version": 3
   },
   "file_extension": ".py",
   "mimetype": "text/x-python",
   "name": "python",
   "nbconvert_exporter": "python",
   "pygments_lexer": "ipython3",
   "version": "3.12.8"
  }
 },
 "nbformat": 4,
 "nbformat_minor": 5
}
