{
 "cells": [
  {
   "cell_type": "code",
   "execution_count": 1,
   "id": "0d7fffcb-3f3d-441c-92d0-a07d154b186d",
   "metadata": {},
   "outputs": [],
   "source": [
    "import numpy as np\n",
    "import pandas as pd\n",
    "from matplotlib import pyplot as plt\n",
    "from matplotlib import cm\n",
    "from IPython.display import display, Markdown, Latex\n",
    "import pickle\n",
    "\n",
    "SMALL_SIZE = 12\n",
    "MEDIUM_SIZE = 14\n",
    "LARGE_SIZE = 16\n",
    "\n",
    "plt.rcdefaults()\n",
    "plt.rcParams['text.usetex'] = True\n",
    "plt.rcParams['font.family'] = 'Helvetica'\n",
    "plt.rcParams['font.size'] = MEDIUM_SIZE\n",
    "plt.rcParams['axes.titlesize'] = LARGE_SIZE\n",
    "plt.rcParams['axes.labelsize'] = MEDIUM_SIZE\n",
    "plt.rcParams['xtick.labelsize'] = SMALL_SIZE\n",
    "plt.rcParams['ytick.labelsize'] = SMALL_SIZE\n",
    "plt.rcParams['legend.fontsize'] = MEDIUM_SIZE\n",
    "plt.rcParams['figure.titlesize'] = LARGE_SIZE\n",
    "plt.rcParams['figure.figsize'] = [7.2, 4.8]\n",
    "plt.rcParams['figure.dpi'] = 60\n",
    "plt.rcParams['figure.facecolor'] = (1.0, 1.0, 1.0, 0.0)\n",
    "\n",
    "from utils import SREQ, polyeq"
   ]
  },
  {
   "cell_type": "code",
   "execution_count": 2,
   "id": "02035f21-cb1a-42cf-9a5b-5ecb08f118ac",
   "metadata": {},
   "outputs": [],
   "source": [
    "prob = SREQ()"
   ]
  },
  {
   "cell_type": "code",
   "execution_count": 3,
   "id": "0a6dc247-eea3-4fc6-9b9e-ec6c79817ddb",
   "metadata": {},
   "outputs": [
    {
     "data": {
      "text/latex": [
       "\n",
       "A commodity $q$ is traded at price $p$ in a competitive market with price-taking consumers and firms. \\\\\n",
       "        \n",
       "There are $N$ identical consumers each with income $Y$. Each consumer has a utility function over numeraire consumption $c$ and commodity $q$ given by:\n",
       "\n",
       "$$u(c,q) = c + \\alpha q - \\tfrac{1}{2} \\beta q^2$$\n",
       "\n",
       "There are $M$ identical firms each with cost function given by:\n",
       "\n",
       "$$c(q) = \\gamma + \\delta q + \\tfrac{1}{2} \\eta q^2$$\n",
       "\n"
      ],
      "text/plain": [
       "<IPython.core.display.Latex object>"
      ]
     },
     "metadata": {},
     "output_type": "display_data"
    },
    {
     "data": {
      "text/latex": [
       "\n",
       "The general solutions are:\n",
       "\n",
       "$$Q = \\frac{\\alpha - \\delta}{\\beta/N + \\eta/M}$$\n",
       "\n",
       "$$p = \\frac{N \\eta \\alpha + M \\beta \\delta}{N \\eta + M \\beta}$$\n"
      ],
      "text/plain": [
       "<IPython.core.display.Latex object>"
      ]
     },
     "metadata": {},
     "output_type": "display_data"
    }
   ],
   "source": [
    "display(Latex(prob.general_setup()))\n",
    "display(Latex(prob.general_solution()))"
   ]
  },
  {
   "cell_type": "code",
   "execution_count": 4,
   "id": "0a5300db-6442-42de-b3ba-33cc92640eaf",
   "metadata": {},
   "outputs": [
    {
     "name": "stdout",
     "output_type": "stream",
     "text": [
      "10000 examples found...\n",
      "20000 examples found...\n",
      "30000 examples found...\n",
      "40000 examples found...\n",
      "50000 examples found...\n",
      "60000 examples found...\n",
      "70000 examples found...\n",
      "80000 examples found...\n",
      "90000 examples found...\n",
      "100000 examples found...\n"
     ]
    }
   ],
   "source": [
    "examples = []\n",
    "Y = 100\n",
    "gamma = 0\n",
    "n_found = 0\n",
    "Ms=[12,24,30,32,36,48,50,100,120,200,240,320,360,750]\n",
    "Ns=np.array([2,4,5,8,10,12,15,16,20,24,50,100,120,200])\n",
    "for M in Ms:\n",
    "    for N in Ns*M:\n",
    "        for alpha in np.arange(4,37):\n",
    "            for beta in [1, 2, 3, 4, 6, 8]:\n",
    "                for delta in np.arange(0,alpha-1):\n",
    "                    for eta in [0.2, 0.4, 1, 2, 4]:\n",
    "                        params = {'N':N,'M':M,'Y':Y,'alpha':alpha,'beta':beta,'gamma':gamma,'delta':delta,'eta':eta}\n",
    "                        prob = SREQ(params)\n",
    "                        if prob.check_solution():\n",
    "                            n_found+=1\n",
    "                            examples.append( params | prob.sol )\n",
    "                            if (n_found%10000==0):\n",
    "                                print(f\"{n_found} examples found...\")\n",
    "examples = pd.DataFrame.from_dict(examples)\n",
    "examples.to_csv(\"SREQ_examples.csv\", index=False, header=True)"
   ]
  },
  {
   "cell_type": "code",
   "execution_count": 5,
   "id": "b76b72cf-2295-4682-a7c2-7abd5fc0662f",
   "metadata": {},
   "outputs": [
    {
     "data": {
      "text/latex": [
       "\n",
       "A commodity $q$ is traded at price $p$ in a competitive market with price-taking consumers and firms. \\\\\n",
       "        \n",
       "There are $160$ identical consumers each with income $Y=100$. Each consumer has a utility function over numeraire consumption $c$ and commodity $q$ given by:\n",
       "\n",
       "$$u(c,q) = c + 32q - 1.5q^2$$\n",
       "\n",
       "There are $32$ identical firms each with cost function given by:\n",
       "\n",
       "$$c(q) = 4q + 0.1q^2$$\n",
       "\n"
      ],
      "text/plain": [
       "<IPython.core.display.Latex object>"
      ]
     },
     "metadata": {},
     "output_type": "display_data"
    },
    {
     "name": "stdout",
     "output_type": "stream",
     "text": [
      "{'Q': 1120.0, 'p': 11.0, 'qd': 7.0, 'qs': 35.0, 'c': 23.0, 'revenue': 385.0, 'cost': 262.5, 'profit': 122.5, 'total_profit': 3920.0, 'utility': 173.5, 'total_utility': 27760.0, 'total_surplus': 31680.0}\n"
     ]
    }
   ],
   "source": [
    "idx = np.random.randint(len(examples))\n",
    "prob = SREQ(dict(examples.loc[idx]))\n",
    "display(Latex(prob.setup()))\n",
    "print(prob.sol)"
   ]
  }
 ],
 "metadata": {
  "kernelspec": {
   "display_name": "Python 3 (ipykernel)",
   "language": "python",
   "name": "python3"
  },
  "language_info": {
   "codemirror_mode": {
    "name": "ipython",
    "version": 3
   },
   "file_extension": ".py",
   "mimetype": "text/x-python",
   "name": "python",
   "nbconvert_exporter": "python",
   "pygments_lexer": "ipython3",
   "version": "3.9.6"
  }
 },
 "nbformat": 4,
 "nbformat_minor": 5
}
