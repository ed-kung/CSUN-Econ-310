{
 "cells": [
  {
   "cell_type": "code",
   "execution_count": 1,
   "id": "2b06770f-63e6-4bb8-8104-1850bcc82b73",
   "metadata": {},
   "outputs": [],
   "source": [
    "import os\n",
    "import numpy as np\n",
    "import pandas as pd\n",
    "from IPython.display import display, Markdown, Latex\n",
    "import json\n",
    "from utils import SREQ, AdValoremSR\n",
    "from utils import cbeq, polyeq, term, is_divisible, Number\n",
    "\n",
    "JSON_FILE = \"../assets/data/wk03_practice.json\"\n",
    "probs = []"
   ]
  },
  {
   "cell_type": "code",
   "execution_count": 2,
   "id": "3ca795be-3aeb-4dad-9b10-d1c28605b226",
   "metadata": {},
   "outputs": [],
   "source": [
    "# Short run equilibrium\n",
    "\n",
    "df = pd.read_csv(\"SREQ_examples.csv\")\n",
    "mydf = df.sample(100)\n",
    "\n",
    "for idx, row in mydf.iterrows():\n",
    "    params = dict(row).copy()\n",
    "    prob = SREQ(params)\n",
    "    sol = prob.sol\n",
    "    setup = prob.setup() + fr\"\"\"\n",
    "<p>Find the equilibrium price and total quantity.</p>\n",
    "\"\"\"\n",
    "    solution = fr\"\"\"\n",
    "$$ p = {sol['p']:,g} $$\n",
    "\n",
    "$$ Q = {sol['Q']:,g} $$\n",
    "\"\"\"\n",
    "    probs.append({'setup':setup, 'solution':solution})"
   ]
  },
  {
   "cell_type": "code",
   "execution_count": 3,
   "id": "231d970e-aad0-4e86-a549-a5b78ba9cbee",
   "metadata": {},
   "outputs": [],
   "source": [
    "# Ad valorem tax\n",
    "\n",
    "df = pd.read_csv(\"AdValoremSR_examples.csv\")\n",
    "mydf = pd.concat([\n",
    "    df.loc[df['tc']==0.1].sample(10), \n",
    "    df.loc[df['tc']==0.2].sample(10), \n",
    "    df.loc[df['tc']==0.25].sample(10), \n",
    "    df.loc[df['tc']==0.5].sample(10), \n",
    "    df.loc[df['tp']==0.1].sample(10), \n",
    "    df.loc[df['tp']==0.2].sample(10), \n",
    "    df.loc[df['tp']==0.25].sample(10), \n",
    "    df.loc[df['tp']==0.5].sample(10), \n",
    "])\n",
    "\n",
    "for idx, row in mydf.iterrows():\n",
    "    params = dict(row).copy()\n",
    "    prob = AdValoremSR(params)\n",
    "    sol = prob.sol\n",
    "    notax = prob.no_tax.sol\n",
    "    setup = prob.setup() + fr\"\"\"\n",
    "<p>1. Find the equilibrium price and total quantity before tax.</p>\n",
    "<p>2. Find the equilibrium price and total quantity after tax.</p>\n",
    "<p>3. Calculate tax revenue and deadweight loss.</p>\n",
    "\"\"\"\n",
    "    solution = fr\"\"\"\n",
    "Before tax:\n",
    "    \n",
    "$$ p = {notax['p']:,g} $$\n",
    "\n",
    "$$ Q = {notax['Q']:,g} $$\n",
    "\n",
    "After tax:\n",
    "\n",
    "$$ p = {sol['p']:,g} $$\n",
    "\n",
    "$$ Q = {sol['Q']:,g} $$\n",
    "\n",
    "$$ \\text{{ Tax Revenue }} = {sol['tax_revenue']:,g} $$\n",
    "\n",
    "$$ DWL = {sol['DWL']:,g} $$\n",
    "\"\"\"\n",
    "    probs.append({'setup':setup, 'solution':solution})"
   ]
  },
  {
   "cell_type": "code",
   "execution_count": 4,
   "id": "c55d4467-8661-40b3-ad19-524f2feacca2",
   "metadata": {},
   "outputs": [],
   "source": [
    "with open(JSON_FILE, 'w') as f:\n",
    "    json.dump(probs, f)"
   ]
  },
  {
   "cell_type": "code",
   "execution_count": 5,
   "id": "c4e3e697-5232-45e1-86af-82bb39287878",
   "metadata": {},
   "outputs": [],
   "source": [
    "with open(JSON_FILE, 'r') as f:\n",
    "    myprobs = json.load(f)"
   ]
  },
  {
   "cell_type": "code",
   "execution_count": 19,
   "id": "334981b0-251c-4ede-acd4-7e00dab2dd32",
   "metadata": {},
   "outputs": [
    {
     "data": {
      "text/latex": [
       "\n",
       "A commodity \\(q\\) is traded at price \\(p\\) in a competitive market with price-taking consumers and firms. \\\\\n",
       "        \n",
       "There are \\(1,200\\) identical consumers each with income \\(Y=100\\). Each consumer has a utility function over numeraire consumption \\(c\\) and commodity \\(q\\) given by:\n",
       "\n",
       "$$u(c,q) = c + 35q-\\frac{ 1 }{ 2 }q^{ 2 } $$\n",
       "\n",
       "There are \\(240\\) identical firms each with cost function given by:\n",
       "\n",
       "$$c(q) = 26q+\\frac{ 1 }{ 5 }q^{ 2 } $$\n",
       "An ad-valorem tax rate of \\(10\\% \\) is placed on the consumers. \n",
       "<p>1. Find the equilibrium price and total quantity before tax.</p>\n",
       "<p>2. Find the equilibrium price and total quantity after tax.</p>\n",
       "<p>3. Calculate tax revenue and deadweight loss.</p>\n"
      ],
      "text/plain": [
       "<IPython.core.display.Latex object>"
      ]
     },
     "metadata": {},
     "output_type": "display_data"
    },
    {
     "data": {
      "text/latex": [
       "\n",
       "Before tax:\n",
       "    \n",
       "$$ p = 32 $$\n",
       "\n",
       "$$ Q = 3,600 $$\n",
       "\n",
       "After tax:\n",
       "\n",
       "$$ p = 30 $$\n",
       "\n",
       "$$ Q = 2,400 $$\n",
       "\n",
       "$$ \\text{ Tax Revenue } = 7,200 $$\n",
       "\n",
       "$$ DWL = 1,800 $$\n"
      ],
      "text/plain": [
       "<IPython.core.display.Latex object>"
      ]
     },
     "metadata": {},
     "output_type": "display_data"
    }
   ],
   "source": [
    "prob = np.random.choice(myprobs)\n",
    "display(Latex(prob['setup']))\n",
    "display(Latex(prob['solution']))"
   ]
  },
  {
   "cell_type": "code",
   "execution_count": 7,
   "id": "d270645f-0aec-437b-a021-45bd4e787f9f",
   "metadata": {},
   "outputs": [
    {
     "data": {
      "text/plain": [
       "180"
      ]
     },
     "execution_count": 7,
     "metadata": {},
     "output_type": "execute_result"
    }
   ],
   "source": [
    "len(myprobs)"
   ]
  },
  {
   "cell_type": "code",
   "execution_count": 8,
   "id": "53c4cc01-0a75-41c8-b7a6-291a7244244c",
   "metadata": {},
   "outputs": [
    {
     "data": {
      "text/plain": [
       "9.0"
      ]
     },
     "execution_count": 8,
     "metadata": {},
     "output_type": "execute_result"
    }
   ],
   "source": [
    "2.25*4"
   ]
  }
 ],
 "metadata": {
  "kernelspec": {
   "display_name": "Python 3 (ipykernel)",
   "language": "python",
   "name": "python3"
  },
  "language_info": {
   "codemirror_mode": {
    "name": "ipython",
    "version": 3
   },
   "file_extension": ".py",
   "mimetype": "text/x-python",
   "name": "python",
   "nbconvert_exporter": "python",
   "pygments_lexer": "ipython3",
   "version": "3.10.5"
  }
 },
 "nbformat": 4,
 "nbformat_minor": 5
}
